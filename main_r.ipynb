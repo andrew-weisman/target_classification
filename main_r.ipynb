{
 "cells": [
  {
   "cell_type": "code",
   "execution_count": 1,
   "metadata": {
    "tags": []
   },
   "outputs": [
    {
     "output_type": "display_data",
     "data": {
      "text/html": "TRUE",
      "text/markdown": "TRUE",
      "text/latex": "TRUE",
      "text/plain": "[1] TRUE"
     },
     "metadata": {}
    }
   ],
   "source": [
    "cts_file <- \"/data/BIDS-HPC/private/projects/dmi2/data/gene_counts.tsv\"\n",
    "anno_file <- \"/data/BIDS-HPC/private/projects/dmi2/data/annotation.csv\"\n",
    "cts <- as.matrix(read.csv(cts_file, sep=\"\\t\", row.names=\"gene_id\"))\n",
    "coldata <- read.csv(anno_file, row.names=1)\n",
    "coldata$condition <- gsub(\"-\", \"_\", coldata$condition)\n",
    "coldata$condition <- gsub(\",\", \".\", coldata$condition)\n",
    "coldata$condition <- gsub(\" \", \"\", coldata$condition)\n",
    "coldata$condition <- factor(coldata$condition)\n",
    "rownames(coldata) <- gsub(\"-\", \"_\", rownames(coldata))\n",
    "colnames(cts) <- gsub(\"\\\\.\", \"_\", colnames(cts))\n",
    "all(rownames(coldata) == colnames(cts))"
   ]
  },
  {
   "cell_type": "code",
   "execution_count": 2,
   "metadata": {
    "tags": []
   },
   "outputs": [
    {
     "output_type": "stream",
     "name": "stderr",
     "text": "Loading required package: S4Vectors\n\nLoading required package: stats4\n\nLoading required package: BiocGenerics\n\nLoading required package: parallel\n\n\nAttaching package: ‘BiocGenerics’\n\n\nThe following objects are masked from ‘package:parallel’:\n\n    clusterApply, clusterApplyLB, clusterCall, clusterEvalQ,\n    clusterExport, clusterMap, parApply, parCapply, parLapply,\n    parLapplyLB, parRapply, parSapply, parSapplyLB\n\n\nThe following objects are masked from ‘package:stats’:\n\n    IQR, mad, sd, var, xtabs\n\n\nThe following objects are masked from ‘package:base’:\n\n    anyDuplicated, append, as.data.frame, basename, cbind, colnames,\n    dirname, do.call, duplicated, eval, evalq, Filter, Find, get, grep,\n    grepl, intersect, is.unsorted, lapply, Map, mapply, match, mget,\n    order, paste, pmax, pmax.int, pmin, pmin.int, Position, rank,\n    rbind, Reduce, rownames, sapply, setdiff, sort, table, tapply,\n    union, unique, unsplit, which, which.max, which.min\n\n\n\nAttaching package: ‘S4Vectors’\n\n\nThe following object is masked from ‘package:base’:\n\n    expand.grid\n\n\nLoading required package: IRanges\n\nLoading required package: GenomicRanges\n\nLoading required package: GenomeInfoDb\n\nLoading required package: SummarizedExperiment\n\nLoading required package: Biobase\n\nWelcome to Bioconductor\n\n    Vignettes contain introductory material; view with\n    'browseVignettes()'. To cite Bioconductor, see\n    'citation(\"Biobase\")', and for packages 'citation(\"pkgname\")'.\n\n\nLoading required package: DelayedArray\n\nLoading required package: matrixStats\n\n\nAttaching package: ‘matrixStats’\n\n\nThe following objects are masked from ‘package:Biobase’:\n\n    anyMissing, rowMedians\n\n\nLoading required package: BiocParallel\n\n\nAttaching package: ‘DelayedArray’\n\n\nThe following objects are masked from ‘package:matrixStats’:\n\n    colMaxs, colMins, colRanges, rowMaxs, rowMins, rowRanges\n\n\nThe following objects are masked from ‘package:base’:\n\n    aperm, apply, rowsum\n\n\n"
    }
   ],
   "source": [
    "library(\"DESeq2\")\n",
    "dds <- DESeqDataSetFromMatrix(countData = cts, colData = coldata, design = ~ condition)"
   ]
  },
  {
   "cell_type": "code",
   "execution_count": null,
   "metadata": {},
   "outputs": [],
   "source": []
  }
 ],
 "metadata": {
  "language_info": {
   "codemirror_mode": {
    "name": "ipython",
    "version": 3
   },
   "file_extension": ".py",
   "mimetype": "text/x-python",
   "name": "python",
   "nbconvert_exporter": "python",
   "pygments_lexer": "ipython3",
   "version": "3.8.3-final"
  },
  "orig_nbformat": 2,
  "kernelspec": {
   "name": "ir",
   "display_name": "R"
  }
 },
 "nbformat": 4,
 "nbformat_minor": 2
}