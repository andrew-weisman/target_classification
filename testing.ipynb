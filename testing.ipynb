{
 "cells": [
  {
   "cell_type": "code",
   "execution_count": 1,
   "metadata": {},
   "outputs": [
    {
     "output_type": "stream",
     "name": "stdout",
     "text": "hey\n"
    },
    {
     "output_type": "execute_result",
     "data": {
      "text/plain": "48"
     },
     "metadata": {},
     "execution_count": 1
    }
   ],
   "source": [
    "print('hey')\n",
    "4*12"
   ]
  },
  {
   "cell_type": "code",
   "execution_count": 3,
   "metadata": {},
   "outputs": [],
   "source": [
    "import pandas as pd"
   ]
  },
  {
   "cell_type": "code",
   "execution_count": 5,
   "metadata": {},
   "outputs": [
    {
     "output_type": "execute_result",
     "data": {
      "text/plain": "'1.0.3'"
     },
     "metadata": {},
     "execution_count": 5
    }
   ],
   "source": [
    "pd.__version__"
   ]
  },
  {
   "cell_type": "code",
   "execution_count": 16,
   "metadata": {},
   "outputs": [
    {
     "output_type": "execute_result",
     "data": {
      "text/plain": "  field1  field2\n0      A       2\n1      B       4\n2      C       6\n3      D       8\n4      Y      10",
      "text/html": "<div>\n<style scoped>\n    .dataframe tbody tr th:only-of-type {\n        vertical-align: middle;\n    }\n\n    .dataframe tbody tr th {\n        vertical-align: top;\n    }\n\n    .dataframe thead th {\n        text-align: right;\n    }\n</style>\n<table border=\"1\" class=\"dataframe\">\n  <thead>\n    <tr style=\"text-align: right;\">\n      <th></th>\n      <th>field1</th>\n      <th>field2</th>\n    </tr>\n  </thead>\n  <tbody>\n    <tr>\n      <th>0</th>\n      <td>A</td>\n      <td>2</td>\n    </tr>\n    <tr>\n      <th>1</th>\n      <td>B</td>\n      <td>4</td>\n    </tr>\n    <tr>\n      <th>2</th>\n      <td>C</td>\n      <td>6</td>\n    </tr>\n    <tr>\n      <th>3</th>\n      <td>D</td>\n      <td>8</td>\n    </tr>\n    <tr>\n      <th>4</th>\n      <td>Y</td>\n      <td>10</td>\n    </tr>\n  </tbody>\n</table>\n</div>"
     },
     "metadata": {},
     "execution_count": 16
    }
   ],
   "source": [
    "df1 = pd.DataFrame({'field1': ['A','B','C','D','Y'],\n",
    "                    'field2': [2,4,6,8,10]})\n",
    "df2 = pd.DataFrame({'field1': ['A','B','C','D','Z'],\n",
    "                    'field2': [1,3,5,7,9]})\n",
    "df1"
   ]
  },
  {
   "cell_type": "code",
   "execution_count": 17,
   "metadata": {},
   "outputs": [
    {
     "output_type": "execute_result",
     "data": {
      "text/plain": "  field1  field2\n0      A       1\n1      B       3\n2      C       5\n3      D       7\n4      Z       9",
      "text/html": "<div>\n<style scoped>\n    .dataframe tbody tr th:only-of-type {\n        vertical-align: middle;\n    }\n\n    .dataframe tbody tr th {\n        vertical-align: top;\n    }\n\n    .dataframe thead th {\n        text-align: right;\n    }\n</style>\n<table border=\"1\" class=\"dataframe\">\n  <thead>\n    <tr style=\"text-align: right;\">\n      <th></th>\n      <th>field1</th>\n      <th>field2</th>\n    </tr>\n  </thead>\n  <tbody>\n    <tr>\n      <th>0</th>\n      <td>A</td>\n      <td>1</td>\n    </tr>\n    <tr>\n      <th>1</th>\n      <td>B</td>\n      <td>3</td>\n    </tr>\n    <tr>\n      <th>2</th>\n      <td>C</td>\n      <td>5</td>\n    </tr>\n    <tr>\n      <th>3</th>\n      <td>D</td>\n      <td>7</td>\n    </tr>\n    <tr>\n      <th>4</th>\n      <td>Z</td>\n      <td>9</td>\n    </tr>\n  </tbody>\n</table>\n</div>"
     },
     "metadata": {},
     "execution_count": 17
    }
   ],
   "source": [
    "df2"
   ]
  },
  {
   "cell_type": "code",
   "execution_count": 26,
   "metadata": {},
   "outputs": [],
   "source": [
    "df1 = df1.set_index('field1')"
   ]
  },
  {
   "cell_type": "code",
   "execution_count": 27,
   "metadata": {},
   "outputs": [],
   "source": [
    "df2 = df2.set_index('field1')"
   ]
  },
  {
   "cell_type": "code",
   "execution_count": 28,
   "metadata": {},
   "outputs": [
    {
     "output_type": "execute_result",
     "data": {
      "text/plain": "        field2\nfield1        \nA            2\nB            4\nC            6\nD            8\nY           10",
      "text/html": "<div>\n<style scoped>\n    .dataframe tbody tr th:only-of-type {\n        vertical-align: middle;\n    }\n\n    .dataframe tbody tr th {\n        vertical-align: top;\n    }\n\n    .dataframe thead th {\n        text-align: right;\n    }\n</style>\n<table border=\"1\" class=\"dataframe\">\n  <thead>\n    <tr style=\"text-align: right;\">\n      <th></th>\n      <th>field2</th>\n    </tr>\n    <tr>\n      <th>field1</th>\n      <th></th>\n    </tr>\n  </thead>\n  <tbody>\n    <tr>\n      <th>A</th>\n      <td>2</td>\n    </tr>\n    <tr>\n      <th>B</th>\n      <td>4</td>\n    </tr>\n    <tr>\n      <th>C</th>\n      <td>6</td>\n    </tr>\n    <tr>\n      <th>D</th>\n      <td>8</td>\n    </tr>\n    <tr>\n      <th>Y</th>\n      <td>10</td>\n    </tr>\n  </tbody>\n</table>\n</div>"
     },
     "metadata": {},
     "execution_count": 28
    }
   ],
   "source": [
    "df1"
   ]
  },
  {
   "cell_type": "code",
   "execution_count": 29,
   "metadata": {},
   "outputs": [
    {
     "output_type": "execute_result",
     "data": {
      "text/plain": "        field2\nfield1        \nA            1\nB            3\nC            5\nD            7\nZ            9",
      "text/html": "<div>\n<style scoped>\n    .dataframe tbody tr th:only-of-type {\n        vertical-align: middle;\n    }\n\n    .dataframe tbody tr th {\n        vertical-align: top;\n    }\n\n    .dataframe thead th {\n        text-align: right;\n    }\n</style>\n<table border=\"1\" class=\"dataframe\">\n  <thead>\n    <tr style=\"text-align: right;\">\n      <th></th>\n      <th>field2</th>\n    </tr>\n    <tr>\n      <th>field1</th>\n      <th></th>\n    </tr>\n  </thead>\n  <tbody>\n    <tr>\n      <th>A</th>\n      <td>1</td>\n    </tr>\n    <tr>\n      <th>B</th>\n      <td>3</td>\n    </tr>\n    <tr>\n      <th>C</th>\n      <td>5</td>\n    </tr>\n    <tr>\n      <th>D</th>\n      <td>7</td>\n    </tr>\n    <tr>\n      <th>Z</th>\n      <td>9</td>\n    </tr>\n  </tbody>\n</table>\n</div>"
     },
     "metadata": {},
     "execution_count": 29
    }
   ],
   "source": [
    "df2"
   ]
  },
  {
   "cell_type": "code",
   "execution_count": 32,
   "metadata": {},
   "outputs": [
    {
     "output_type": "execute_result",
     "data": {
      "text/plain": "   field2  field2\nA     2.0     1.0\nB     4.0     3.0\nC     6.0     5.0\nD     8.0     7.0\nY    10.0     NaN\nZ     NaN     9.0",
      "text/html": "<div>\n<style scoped>\n    .dataframe tbody tr th:only-of-type {\n        vertical-align: middle;\n    }\n\n    .dataframe tbody tr th {\n        vertical-align: top;\n    }\n\n    .dataframe thead th {\n        text-align: right;\n    }\n</style>\n<table border=\"1\" class=\"dataframe\">\n  <thead>\n    <tr style=\"text-align: right;\">\n      <th></th>\n      <th>field2</th>\n      <th>field2</th>\n    </tr>\n  </thead>\n  <tbody>\n    <tr>\n      <th>A</th>\n      <td>2.0</td>\n      <td>1.0</td>\n    </tr>\n    <tr>\n      <th>B</th>\n      <td>4.0</td>\n      <td>3.0</td>\n    </tr>\n    <tr>\n      <th>C</th>\n      <td>6.0</td>\n      <td>5.0</td>\n    </tr>\n    <tr>\n      <th>D</th>\n      <td>8.0</td>\n      <td>7.0</td>\n    </tr>\n    <tr>\n      <th>Y</th>\n      <td>10.0</td>\n      <td>NaN</td>\n    </tr>\n    <tr>\n      <th>Z</th>\n      <td>NaN</td>\n      <td>9.0</td>\n    </tr>\n  </tbody>\n</table>\n</div>"
     },
     "metadata": {},
     "execution_count": 32
    }
   ],
   "source": [
    "pd.concat([df1,df2], axis=1)"
   ]
  },
  {
   "cell_type": "code",
   "execution_count": 33,
   "metadata": {},
   "outputs": [],
   "source": [
    "head = '''gene-pretty\tgene-ugly\tRPKM\tfilename\tweblink\n",
    "SCYL3\tENSG00000000457\t3.58667944611\t/data/BIDS-HPC/private/projects/dmi/data/tree/Public/ALL/mRNA-seq/Phase1/L3/expression/BCCA/HS0825.gene.quantification.txt\thttps://target-data.nci.nih.gov/Public/ALL/mRNA-seq/Phase1/L3/expression/BCCA/HS0825.gene.quantification.txt\n",
    "C1ORF112\tENSG00000000460\t2.1034865786\t/data/BIDS-HPC/private/projects/dmi/data/tree/Public/ALL/mRNA-seq/Phase1/L3/expression/BCCA/HS0825.gene.quantification.txt\thttps://target-data.nci.nih.gov/Public/ALL/mRNA-seq/Phase1/L3/expression/BCCA/HS0825.gene.quantification.txt\n",
    "FGR\tENSG00000000938\t1.75904980721\t/data/BIDS-HPC/private/projects/dmi/data/tree/Public/ALL/mRNA-seq/Phase1/L3/expression/BCCA/HS0825.gene.quantification.txt\thttps://target-data.nci.nih.gov/Public/ALL/mRNA-seq/Phase1/L3/expression/BCCA/HS0825.gene.quantification.txt\n",
    "CFH\tENSG00000000971\t0.0672447851831\t/data/BIDS-HPC/private/projects/dmi/data/tree/Public/ALL/mRNA-seq/Phase1/L3/expression/BCCA/HS0825.gene.quantification.txt\thttps://target-data.nci.nih.gov/Public/ALL/mRNA-seq/Phase1/L3/expression/BCCA/HS0825.gene.quantification.txt'''"
   ]
  },
  {
   "cell_type": "code",
   "execution_count": 34,
   "metadata": {},
   "outputs": [
    {
     "output_type": "execute_result",
     "data": {
      "text/plain": "'gene-pretty\\tgene-ugly\\tRPKM\\tfilename\\tweblink\\nSCYL3\\tENSG00000000457\\t3.58667944611\\t/data/BIDS-HPC/private/projects/dmi/data/tree/Public/ALL/mRNA-seq/Phase1/L3/expression/BCCA/HS0825.gene.quantification.txt\\thttps://target-data.nci.nih.gov/Public/ALL/mRNA-seq/Phase1/L3/expression/BCCA/HS0825.gene.quantification.txt\\nC1ORF112\\tENSG00000000460\\t2.1034865786\\t/data/BIDS-HPC/private/projects/dmi/data/tree/Public/ALL/mRNA-seq/Phase1/L3/expression/BCCA/HS0825.gene.quantification.txt\\thttps://target-data.nci.nih.gov/Public/ALL/mRNA-seq/Phase1/L3/expression/BCCA/HS0825.gene.quantification.txt\\nFGR\\tENSG00000000938\\t1.75904980721\\t/data/BIDS-HPC/private/projects/dmi/data/tree/Public/ALL/mRNA-seq/Phase1/L3/expression/BCCA/HS0825.gene.quantification.txt\\thttps://target-data.nci.nih.gov/Public/ALL/mRNA-seq/Phase1/L3/expression/BCCA/HS0825.gene.quantification.txt\\nCFH\\tENSG00000000971\\t0.0672447851831\\t/data/BIDS-HPC/private/projects/dmi/data/tree/Public/ALL/mRNA-seq/Phase1/L3/expression/BCCA/HS0825.gene.quantification.txt\\thttps://target-data.nci.nih.gov/Public/ALL/mRNA-seq/Phase1/L3/expression/BCCA/HS0825.gene.quantification.txt'"
     },
     "metadata": {},
     "execution_count": 34
    }
   ],
   "source": [
    "head"
   ]
  },
  {
   "cell_type": "code",
   "execution_count": 53,
   "metadata": {},
   "outputs": [
    {
     "output_type": "execute_result",
     "data": {
      "text/plain": "                 RPKM\ngene-pretty          \nSCYL3        3.586679\nC1ORF112     2.103487\nFGR          1.759050\nCFH          0.067245\nC1ORF201     0.170594",
      "text/html": "<div>\n<style scoped>\n    .dataframe tbody tr th:only-of-type {\n        vertical-align: middle;\n    }\n\n    .dataframe tbody tr th {\n        vertical-align: top;\n    }\n\n    .dataframe thead th {\n        text-align: right;\n    }\n</style>\n<table border=\"1\" class=\"dataframe\">\n  <thead>\n    <tr style=\"text-align: right;\">\n      <th></th>\n      <th>RPKM</th>\n    </tr>\n    <tr>\n      <th>gene-pretty</th>\n      <th></th>\n    </tr>\n  </thead>\n  <tbody>\n    <tr>\n      <th>SCYL3</th>\n      <td>3.586679</td>\n    </tr>\n    <tr>\n      <th>C1ORF112</th>\n      <td>2.103487</td>\n    </tr>\n    <tr>\n      <th>FGR</th>\n      <td>1.759050</td>\n    </tr>\n    <tr>\n      <th>CFH</th>\n      <td>0.067245</td>\n    </tr>\n    <tr>\n      <th>C1ORF201</th>\n      <td>0.170594</td>\n    </tr>\n  </tbody>\n</table>\n</div>"
     },
     "metadata": {},
     "execution_count": 53
    }
   ],
   "source": [
    "df1 = df1.drop(columns='gene-ugly')\n",
    "df1"
   ]
  },
  {
   "cell_type": "code",
   "execution_count": 52,
   "metadata": {},
   "outputs": [
    {
     "output_type": "execute_result",
     "data": {
      "text/plain": "                                 filenames  \\\nRPKM  /data/HS9999.gene.quantification.txt   \nRPKM  /data/HS0825.gene.quantification.txt   \n\n                                               weblinks  \nRPKM  https://target-data.nci.nih.gov/HS9999.gene.qu...  \nRPKM  https://target-data.nci.nih.gov/HS0825.gene.qu...  ",
      "text/html": "<div>\n<style scoped>\n    .dataframe tbody tr th:only-of-type {\n        vertical-align: middle;\n    }\n\n    .dataframe tbody tr th {\n        vertical-align: top;\n    }\n\n    .dataframe thead th {\n        text-align: right;\n    }\n</style>\n<table border=\"1\" class=\"dataframe\">\n  <thead>\n    <tr style=\"text-align: right;\">\n      <th></th>\n      <th>filenames</th>\n      <th>weblinks</th>\n    </tr>\n  </thead>\n  <tbody>\n    <tr>\n      <th>RPKM</th>\n      <td>/data/HS9999.gene.quantification.txt</td>\n      <td>https://target-data.nci.nih.gov/HS9999.gene.qu...</td>\n    </tr>\n    <tr>\n      <th>RPKM</th>\n      <td>/data/HS0825.gene.quantification.txt</td>\n      <td>https://target-data.nci.nih.gov/HS0825.gene.qu...</td>\n    </tr>\n  </tbody>\n</table>\n</div>"
     },
     "metadata": {},
     "execution_count": 52
    }
   ],
   "source": [
    "df1 = pd.read_csv('tmp1.txt', sep='\\t')\n",
    "df2 = pd.read_csv('tmp2.txt', sep='\\t')\n",
    "filenames = ['/data/HS9999.gene.quantification.txt', '/data/HS0825.gene.quantification.txt']\n",
    "weblinks = ['https://target-data.nci.nih.gov/HS9999.gene.quantification.txt', 'https://target-data.nci.nih.gov/HS0825.gene.quantification.txt']\n",
    "df1 = df1.set_index('gene-pretty')\n",
    "df2 = df2.set_index('gene-pretty')\n",
    "df1 = df1.drop(columns='gene-ugly')\n",
    "df2 = df2.drop(columns='gene-ugly')\n",
    "df = pd.concat([df1,df2], axis='columns', join='outer', ignore_index=False, sort=False).transpose()\n",
    "pd.DataFrame({'filenames': filenames, 'weblinks': weblinks}).set_index(df.index)"
   ]
  },
  {
   "cell_type": "code",
   "execution_count": 51,
   "metadata": {},
   "outputs": [
    {
     "output_type": "execute_result",
     "data": {
      "text/plain": "                                 filenames  \\\nRPKM  /data/HS9999.gene.quantification.txt   \nRPKM  /data/HS0825.gene.quantification.txt   \n\n                                               weblinks  \nRPKM  https://target-data.nci.nih.gov/HS9999.gene.qu...  \nRPKM  https://target-data.nci.nih.gov/HS0825.gene.qu...  ",
      "text/html": "<div>\n<style scoped>\n    .dataframe tbody tr th:only-of-type {\n        vertical-align: middle;\n    }\n\n    .dataframe tbody tr th {\n        vertical-align: top;\n    }\n\n    .dataframe thead th {\n        text-align: right;\n    }\n</style>\n<table border=\"1\" class=\"dataframe\">\n  <thead>\n    <tr style=\"text-align: right;\">\n      <th></th>\n      <th>filenames</th>\n      <th>weblinks</th>\n    </tr>\n  </thead>\n  <tbody>\n    <tr>\n      <th>RPKM</th>\n      <td>/data/HS9999.gene.quantification.txt</td>\n      <td>https://target-data.nci.nih.gov/HS9999.gene.qu...</td>\n    </tr>\n    <tr>\n      <th>RPKM</th>\n      <td>/data/HS0825.gene.quantification.txt</td>\n      <td>https://target-data.nci.nih.gov/HS0825.gene.qu...</td>\n    </tr>\n  </tbody>\n</table>\n</div>"
     },
     "metadata": {},
     "execution_count": 51
    }
   ],
   "source": []
  },
  {
   "cell_type": "code",
   "execution_count": null,
   "metadata": {},
   "outputs": [],
   "source": []
  }
 ],
 "metadata": {
  "language_info": {
   "codemirror_mode": {
    "name": "ipython",
    "version": 3
   },
   "file_extension": ".py",
   "mimetype": "text/x-python",
   "name": "python",
   "nbconvert_exporter": "python",
   "pygments_lexer": "ipython3",
   "version": "3.7.7-final"
  },
  "orig_nbformat": 2,
  "kernelspec": {
   "name": "python3",
   "display_name": "Python 3"
  }
 },
 "nbformat": 4,
 "nbformat_minor": 2
}