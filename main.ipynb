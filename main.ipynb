{
 "cells": [
  {
   "cell_type": "code",
   "execution_count": 5,
   "metadata": {},
   "outputs": [],
   "source": [
    "datadir = '/data/BIDS-HPC/private/projects/dmi2/data/all_gene_expression_files_in_target/links'\n",
    "file_fpkm = 'fffee315-9aa3-44d2-8c89-78a2c1d107e7.FPKM.txt'\n",
    "file_fpkm_uq = 'fffee315-9aa3-44d2-8c89-78a2c1d107e7.FPKM-UQ.txt'\n",
    "file_counts = 'fffee315-9aa3-44d2-8c89-78a2c1d107e7.htseq_counts.txt'\n",
    "gdc_tsv_file = '/data/BIDS-HPC/private/projects/dmi2/data/gencode.gene.info.v22.tsv'\n",
    "gencode_gtf_file = '/data/BIDS-HPC/private/projects/dmi2/data/gencode.v22.annotation-just_genes.gtf'"
   ]
  },
  {
   "cell_type": "code",
   "execution_count": 18,
   "metadata": {},
   "outputs": [],
   "source": [
    "import pandas as pd\n",
    "import os\n",
    "df_fpkm = pd.read_csv(os.path.join(datadir, file_fpkm), sep='\\t', names=['id','fpkm'])\n",
    "df_fpkm_uq = pd.read_csv(os.path.join(datadir, file_fpkm_uq), sep='\\t', names=['id','fpkm-uq'])\n",
    "df_counts = pd.read_csv(os.path.join(datadir, file_counts), sep='\\t', skipfooter=5, names=['id','count'])\n",
    "df_gdc = pd.read_csv(gdc_tsv_file, sep='\\t')\n",
    "df_gencode = pd.read_csv(gencode_gtf_file, sep='\\t', skiprows=5, header=None)"
   ]
  },
  {
   "cell_type": "code",
   "execution_count": 3,
   "metadata": {},
   "outputs": [
    {
     "output_type": "execute_result",
     "data": {
      "text/plain": "0        True\n1        True\n2        True\n3        True\n4        True\n         ... \n60478    True\n60479    True\n60480    True\n60481    True\n60482    True\nName: id, Length: 60483, dtype: bool"
     },
     "metadata": {},
     "execution_count": 3
    }
   ],
   "source": [
    "# This line was edited but was used to show that the ID columns of all three dataframes are exactly the same\n",
    "(df_fpkm_uq['id']==df_counts['id'])"
   ]
  },
  {
   "cell_type": "code",
   "execution_count": 27,
   "metadata": {},
   "outputs": [
    {
     "output_type": "execute_result",
     "data": {
      "text/plain": "43200"
     },
     "metadata": {},
     "execution_count": 27
    }
   ],
   "source": [
    "tol = 1e-6\n",
    "((df_fpkm['fpkm']/df_fpkm['fpkm'].sum() - df_fpkm_uq['fpkm-uq']/df_fpkm_uq['fpkm-uq'].sum()).abs() < tol).sum() # This line shows that the FPKM and FPKM-UQ files have the same values up to a fixed normalization\n",
    "((df_counts['count']/df_counts['count'].sum() - df_fpkm_uq['fpkm-uq']/df_fpkm_uq['fpkm-uq'].sum()).abs() < tol).sum() # this line shows that this is not true of the counts"
   ]
  },
  {
   "cell_type": "code",
   "execution_count": 30,
   "metadata": {},
   "outputs": [
    {
     "output_type": "execute_result",
     "data": {
      "text/plain": "True"
     },
     "metadata": {},
     "execution_count": 30
    }
   ],
   "source": [
    "#set(df_fpkm['id']) - set(df_gdc['gene_id'])\n",
    "set(df_fpkm['id']) == set(df_gdc['gene_id'])"
   ]
  },
  {
   "cell_type": "code",
   "execution_count": 68,
   "metadata": {},
   "outputs": [
    {
     "output_type": "stream",
     "name": "stdout",
     "text": "331163.3667\n"
    },
    {
     "output_type": "execute_result",
     "data": {
      "text/plain": "26613.247395329272"
     },
     "metadata": {},
     "execution_count": 68
    }
   ],
   "source": [
    "import numpy as np\n",
    "arr = df_fpkm['fpkm'].to_numpy()\n",
    "quantiles = np.quantile(arr, [0,0.25,0.5,0.75,1])\n",
    "#arr[quantiles[0]<arr and arr<quantiles[3]]\n",
    "print(arr[(quantiles[3]<arr) & (arr<quantiles[4])].sum())\n",
    "1/(df_fpkm['fpkm'].max()/df_fpkm_uq['fpkm-uq'].max())"
   ]
  },
  {
   "cell_type": "code",
   "execution_count": 45,
   "metadata": {},
   "outputs": [
    {
     "output_type": "execute_result",
     "data": {
      "text/plain": "3865.25345"
     },
     "metadata": {},
     "execution_count": 45
    }
   ],
   "source": [
    "arr.max()/2"
   ]
  },
  {
   "cell_type": "code",
   "execution_count": 29,
   "metadata": {},
   "outputs": [
    {
     "output_type": "error",
     "ename": "ValueError",
     "evalue": "Bin edges must be unique: array([0.0000000e+00, 0.0000000e+00, 4.7900000e-02, 8.8105000e-01,\n       7.7305069e+03]).\nYou can drop duplicate edges by setting the 'duplicates' kwarg",
     "traceback": [
      "\u001b[0;31m---------------------------------------------------------------------------\u001b[0m",
      "\u001b[0;31mValueError\u001b[0m                                Traceback (most recent call last)",
      "\u001b[0;32m<ipython-input-29-6394ab3f1f0c>\u001b[0m in \u001b[0;36m<module>\u001b[0;34m\u001b[0m\n\u001b[0;32m----> 1\u001b[0;31m \u001b[0mpd\u001b[0m\u001b[0;34m.\u001b[0m\u001b[0mqcut\u001b[0m\u001b[0;34m(\u001b[0m\u001b[0mdf_fpkm\u001b[0m\u001b[0;34m[\u001b[0m\u001b[0;34m'fpkm'\u001b[0m\u001b[0;34m]\u001b[0m\u001b[0;34m,\u001b[0m \u001b[0;36m4\u001b[0m\u001b[0;34m)\u001b[0m\u001b[0;34m\u001b[0m\u001b[0;34m\u001b[0m\u001b[0m\n\u001b[0m",
      "\u001b[0;32m/data/weismanal/miniconda3/envs/bioinfo/lib/python3.6/site-packages/pandas/core/reshape/tile.py\u001b[0m in \u001b[0;36mqcut\u001b[0;34m(x, q, labels, retbins, precision, duplicates)\u001b[0m\n\u001b[1;32m    346\u001b[0m         \u001b[0minclude_lowest\u001b[0m\u001b[0;34m=\u001b[0m\u001b[0;32mTrue\u001b[0m\u001b[0;34m,\u001b[0m\u001b[0;34m\u001b[0m\u001b[0;34m\u001b[0m\u001b[0m\n\u001b[1;32m    347\u001b[0m         \u001b[0mdtype\u001b[0m\u001b[0;34m=\u001b[0m\u001b[0mdtype\u001b[0m\u001b[0;34m,\u001b[0m\u001b[0;34m\u001b[0m\u001b[0;34m\u001b[0m\u001b[0m\n\u001b[0;32m--> 348\u001b[0;31m         \u001b[0mduplicates\u001b[0m\u001b[0;34m=\u001b[0m\u001b[0mduplicates\u001b[0m\u001b[0;34m,\u001b[0m\u001b[0;34m\u001b[0m\u001b[0;34m\u001b[0m\u001b[0m\n\u001b[0m\u001b[1;32m    349\u001b[0m     )\n\u001b[1;32m    350\u001b[0m \u001b[0;34m\u001b[0m\u001b[0m\n",
      "\u001b[0;32m/data/weismanal/miniconda3/envs/bioinfo/lib/python3.6/site-packages/pandas/core/reshape/tile.py\u001b[0m in \u001b[0;36m_bins_to_cuts\u001b[0;34m(x, bins, right, labels, precision, include_lowest, dtype, duplicates)\u001b[0m\n\u001b[1;32m    379\u001b[0m         \u001b[0;32mif\u001b[0m \u001b[0mduplicates\u001b[0m \u001b[0;34m==\u001b[0m \u001b[0;34m\"raise\"\u001b[0m\u001b[0;34m:\u001b[0m\u001b[0;34m\u001b[0m\u001b[0;34m\u001b[0m\u001b[0m\n\u001b[1;32m    380\u001b[0m             raise ValueError(\n\u001b[0;32m--> 381\u001b[0;31m                 \u001b[0;34mf\"Bin edges must be unique: {repr(bins)}.\\n\"\u001b[0m\u001b[0;34m\u001b[0m\u001b[0;34m\u001b[0m\u001b[0m\n\u001b[0m\u001b[1;32m    382\u001b[0m                 \u001b[0;34mf\"You can drop duplicate edges by setting the 'duplicates' kwarg\"\u001b[0m\u001b[0;34m\u001b[0m\u001b[0;34m\u001b[0m\u001b[0m\n\u001b[1;32m    383\u001b[0m             )\n",
      "\u001b[0;31mValueError\u001b[0m: Bin edges must be unique: array([0.0000000e+00, 0.0000000e+00, 4.7900000e-02, 8.8105000e-01,\n       7.7305069e+03]).\nYou can drop duplicate edges by setting the 'duplicates' kwarg"
     ]
    }
   ],
   "source": [
    "pd.qcut(df_fpkm['fpkm'], 4)"
   ]
  },
  {
   "cell_type": "code",
   "execution_count": 9,
   "metadata": {},
   "outputs": [
    {
     "output_type": "execute_result",
     "data": {
      "text/plain": "                       id  count\n0      ENSG00000000003.13  11205\n1       ENSG00000000005.5    334\n2      ENSG00000000419.11   4022\n3      ENSG00000000457.12    539\n4      ENSG00000000460.15    898\n...                   ...    ...\n60478   ENSGR0000275287.3      0\n60479   ENSGR0000276543.3      0\n60480   ENSGR0000277120.3      0\n60481   ENSGR0000280767.1      0\n60482   ENSGR0000281849.1      0\n\n[60483 rows x 2 columns]",
      "text/html": "<div>\n<style scoped>\n    .dataframe tbody tr th:only-of-type {\n        vertical-align: middle;\n    }\n\n    .dataframe tbody tr th {\n        vertical-align: top;\n    }\n\n    .dataframe thead th {\n        text-align: right;\n    }\n</style>\n<table border=\"1\" class=\"dataframe\">\n  <thead>\n    <tr style=\"text-align: right;\">\n      <th></th>\n      <th>id</th>\n      <th>count</th>\n    </tr>\n  </thead>\n  <tbody>\n    <tr>\n      <th>0</th>\n      <td>ENSG00000000003.13</td>\n      <td>11205</td>\n    </tr>\n    <tr>\n      <th>1</th>\n      <td>ENSG00000000005.5</td>\n      <td>334</td>\n    </tr>\n    <tr>\n      <th>2</th>\n      <td>ENSG00000000419.11</td>\n      <td>4022</td>\n    </tr>\n    <tr>\n      <th>3</th>\n      <td>ENSG00000000457.12</td>\n      <td>539</td>\n    </tr>\n    <tr>\n      <th>4</th>\n      <td>ENSG00000000460.15</td>\n      <td>898</td>\n    </tr>\n    <tr>\n      <th>...</th>\n      <td>...</td>\n      <td>...</td>\n    </tr>\n    <tr>\n      <th>60478</th>\n      <td>ENSGR0000275287.3</td>\n      <td>0</td>\n    </tr>\n    <tr>\n      <th>60479</th>\n      <td>ENSGR0000276543.3</td>\n      <td>0</td>\n    </tr>\n    <tr>\n      <th>60480</th>\n      <td>ENSGR0000277120.3</td>\n      <td>0</td>\n    </tr>\n    <tr>\n      <th>60481</th>\n      <td>ENSGR0000280767.1</td>\n      <td>0</td>\n    </tr>\n    <tr>\n      <th>60482</th>\n      <td>ENSGR0000281849.1</td>\n      <td>0</td>\n    </tr>\n  </tbody>\n</table>\n<p>60483 rows × 2 columns</p>\n</div>"
     },
     "metadata": {},
     "execution_count": 9
    }
   ],
   "source": [
    "df_counts"
   ]
  },
  {
   "cell_type": "code",
   "execution_count": 7,
   "metadata": {},
   "outputs": [
    {
     "output_type": "execute_result",
     "data": {
      "text/plain": "                  gene_id     gene_name seqname     start       end strand  \\\n0       ENSG00000223972.5       DDX11L1    chr1     11869     14409      +   \n1       ENSG00000238009.5  RP11-34P13.7    chr1     89295    133723      -   \n2       ENSG00000230415.1  RP5-902P8.10    chr1   1275223   1280420      +   \n3       ENSG00000236335.1   RP4-591L5.1    chr1  30409560  30411638      -   \n4       ENSG00000213842.2       SUGT1P2    chr3  32752910  32753901      +   \n...                   ...           ...     ...       ...       ...    ...   \n60478   ENSG00000226955.1    AC104306.4    chr3  32592972  32593312      -   \n60479   ENSG00000231552.1       IGBP1P3    chr3  32620903  32621902      -   \n60480   ENSG00000237676.1       RPL30P4    chr3  32635222  32635554      -   \n60481  ENSG00000182973.17        CNOT10    chr3  32685145  32773875      +   \n60482   ENSG00000251224.1    CNOT10-AS1    chr3  32730635  32737454      -   \n\n                                gene_type gene_status           havana_gene  \\\n0      transcribed_unprocessed_pseudogene       KNOWN  OTTHUMG00000000961.2   \n1                                 lincRNA       NOVEL  OTTHUMG00000001096.2   \n2                                 lincRNA       NOVEL  OTTHUMG00000002234.2   \n3                                 lincRNA       NOVEL  OTTHUMG00000003682.1   \n4                    processed_pseudogene       KNOWN  OTTHUMG00000155904.1   \n...                                   ...         ...                   ...   \n60478                processed_pseudogene       KNOWN  OTTHUMG00000155901.1   \n60479                processed_pseudogene       KNOWN  OTTHUMG00000155898.1   \n60480                processed_pseudogene       KNOWN  OTTHUMG00000155900.1   \n60481                      protein_coding       KNOWN  OTTHUMG00000130748.5   \n60482                           antisense       NOVEL  OTTHUMG00000162550.1   \n\n       full_length  exon_length  exon_num  \n0             2541         1735         9  \n1            44429         3726        17  \n2             5198          513         5  \n3             2079          507         3  \n4              992          992         1  \n...            ...          ...       ...  \n60478          341          341         1  \n60479         1000         1000         1  \n60480          333          333         1  \n60481        88731         4846       145  \n60482         6820          466         2  \n\n[60483 rows x 12 columns]",
      "text/html": "<div>\n<style scoped>\n    .dataframe tbody tr th:only-of-type {\n        vertical-align: middle;\n    }\n\n    .dataframe tbody tr th {\n        vertical-align: top;\n    }\n\n    .dataframe thead th {\n        text-align: right;\n    }\n</style>\n<table border=\"1\" class=\"dataframe\">\n  <thead>\n    <tr style=\"text-align: right;\">\n      <th></th>\n      <th>gene_id</th>\n      <th>gene_name</th>\n      <th>seqname</th>\n      <th>start</th>\n      <th>end</th>\n      <th>strand</th>\n      <th>gene_type</th>\n      <th>gene_status</th>\n      <th>havana_gene</th>\n      <th>full_length</th>\n      <th>exon_length</th>\n      <th>exon_num</th>\n    </tr>\n  </thead>\n  <tbody>\n    <tr>\n      <th>0</th>\n      <td>ENSG00000223972.5</td>\n      <td>DDX11L1</td>\n      <td>chr1</td>\n      <td>11869</td>\n      <td>14409</td>\n      <td>+</td>\n      <td>transcribed_unprocessed_pseudogene</td>\n      <td>KNOWN</td>\n      <td>OTTHUMG00000000961.2</td>\n      <td>2541</td>\n      <td>1735</td>\n      <td>9</td>\n    </tr>\n    <tr>\n      <th>1</th>\n      <td>ENSG00000238009.5</td>\n      <td>RP11-34P13.7</td>\n      <td>chr1</td>\n      <td>89295</td>\n      <td>133723</td>\n      <td>-</td>\n      <td>lincRNA</td>\n      <td>NOVEL</td>\n      <td>OTTHUMG00000001096.2</td>\n      <td>44429</td>\n      <td>3726</td>\n      <td>17</td>\n    </tr>\n    <tr>\n      <th>2</th>\n      <td>ENSG00000230415.1</td>\n      <td>RP5-902P8.10</td>\n      <td>chr1</td>\n      <td>1275223</td>\n      <td>1280420</td>\n      <td>+</td>\n      <td>lincRNA</td>\n      <td>NOVEL</td>\n      <td>OTTHUMG00000002234.2</td>\n      <td>5198</td>\n      <td>513</td>\n      <td>5</td>\n    </tr>\n    <tr>\n      <th>3</th>\n      <td>ENSG00000236335.1</td>\n      <td>RP4-591L5.1</td>\n      <td>chr1</td>\n      <td>30409560</td>\n      <td>30411638</td>\n      <td>-</td>\n      <td>lincRNA</td>\n      <td>NOVEL</td>\n      <td>OTTHUMG00000003682.1</td>\n      <td>2079</td>\n      <td>507</td>\n      <td>3</td>\n    </tr>\n    <tr>\n      <th>4</th>\n      <td>ENSG00000213842.2</td>\n      <td>SUGT1P2</td>\n      <td>chr3</td>\n      <td>32752910</td>\n      <td>32753901</td>\n      <td>+</td>\n      <td>processed_pseudogene</td>\n      <td>KNOWN</td>\n      <td>OTTHUMG00000155904.1</td>\n      <td>992</td>\n      <td>992</td>\n      <td>1</td>\n    </tr>\n    <tr>\n      <th>...</th>\n      <td>...</td>\n      <td>...</td>\n      <td>...</td>\n      <td>...</td>\n      <td>...</td>\n      <td>...</td>\n      <td>...</td>\n      <td>...</td>\n      <td>...</td>\n      <td>...</td>\n      <td>...</td>\n      <td>...</td>\n    </tr>\n    <tr>\n      <th>60478</th>\n      <td>ENSG00000226955.1</td>\n      <td>AC104306.4</td>\n      <td>chr3</td>\n      <td>32592972</td>\n      <td>32593312</td>\n      <td>-</td>\n      <td>processed_pseudogene</td>\n      <td>KNOWN</td>\n      <td>OTTHUMG00000155901.1</td>\n      <td>341</td>\n      <td>341</td>\n      <td>1</td>\n    </tr>\n    <tr>\n      <th>60479</th>\n      <td>ENSG00000231552.1</td>\n      <td>IGBP1P3</td>\n      <td>chr3</td>\n      <td>32620903</td>\n      <td>32621902</td>\n      <td>-</td>\n      <td>processed_pseudogene</td>\n      <td>KNOWN</td>\n      <td>OTTHUMG00000155898.1</td>\n      <td>1000</td>\n      <td>1000</td>\n      <td>1</td>\n    </tr>\n    <tr>\n      <th>60480</th>\n      <td>ENSG00000237676.1</td>\n      <td>RPL30P4</td>\n      <td>chr3</td>\n      <td>32635222</td>\n      <td>32635554</td>\n      <td>-</td>\n      <td>processed_pseudogene</td>\n      <td>KNOWN</td>\n      <td>OTTHUMG00000155900.1</td>\n      <td>333</td>\n      <td>333</td>\n      <td>1</td>\n    </tr>\n    <tr>\n      <th>60481</th>\n      <td>ENSG00000182973.17</td>\n      <td>CNOT10</td>\n      <td>chr3</td>\n      <td>32685145</td>\n      <td>32773875</td>\n      <td>+</td>\n      <td>protein_coding</td>\n      <td>KNOWN</td>\n      <td>OTTHUMG00000130748.5</td>\n      <td>88731</td>\n      <td>4846</td>\n      <td>145</td>\n    </tr>\n    <tr>\n      <th>60482</th>\n      <td>ENSG00000251224.1</td>\n      <td>CNOT10-AS1</td>\n      <td>chr3</td>\n      <td>32730635</td>\n      <td>32737454</td>\n      <td>-</td>\n      <td>antisense</td>\n      <td>NOVEL</td>\n      <td>OTTHUMG00000162550.1</td>\n      <td>6820</td>\n      <td>466</td>\n      <td>2</td>\n    </tr>\n  </tbody>\n</table>\n<p>60483 rows × 12 columns</p>\n</div>"
     },
     "metadata": {},
     "execution_count": 7
    }
   ],
   "source": [
    "df_gdc"
   ]
  },
  {
   "cell_type": "code",
   "execution_count": 19,
   "metadata": {},
   "outputs": [
    {
     "output_type": "execute_result",
     "data": {
      "text/plain": "          0        1     2      3      4  5  6  7  \\\n0      chr1   HAVANA  gene  11869  14409  .  +  .   \n1      chr1   HAVANA  gene  14404  29570  .  -  .   \n2      chr1  ENSEMBL  gene  17369  17436  .  -  .   \n3      chr1   HAVANA  gene  29554  31109  .  +  .   \n4      chr1  ENSEMBL  gene  30366  30503  .  +  .   \n...     ...      ...   ...    ...    ... .. .. ..   \n60478  chrM  ENSEMBL  gene  14149  14673  .  -  .   \n60479  chrM  ENSEMBL  gene  14674  14742  .  -  .   \n60480  chrM  ENSEMBL  gene  14747  15887  .  +  .   \n60481  chrM  ENSEMBL  gene  15888  15953  .  +  .   \n60482  chrM  ENSEMBL  gene  15956  16023  .  -  .   \n\n                                                       8  \n0      gene_id \"ENSG00000223972.5\"; gene_type \"transc...  \n1      gene_id \"ENSG00000227232.5\"; gene_type \"unproc...  \n2      gene_id \"ENSG00000278267.1\"; gene_type \"miRNA\"...  \n3      gene_id \"ENSG00000243485.3\"; gene_type \"lincRN...  \n4      gene_id \"ENSG00000274890.1\"; gene_type \"miRNA\"...  \n...                                                  ...  \n60478  gene_id \"ENSG00000198695.2\"; gene_type \"protei...  \n60479  gene_id \"ENSG00000210194.1\"; gene_type \"Mt_tRN...  \n60480  gene_id \"ENSG00000198727.2\"; gene_type \"protei...  \n60481  gene_id \"ENSG00000210195.2\"; gene_type \"Mt_tRN...  \n60482  gene_id \"ENSG00000210196.2\"; gene_type \"Mt_tRN...  \n\n[60483 rows x 9 columns]",
      "text/html": "<div>\n<style scoped>\n    .dataframe tbody tr th:only-of-type {\n        vertical-align: middle;\n    }\n\n    .dataframe tbody tr th {\n        vertical-align: top;\n    }\n\n    .dataframe thead th {\n        text-align: right;\n    }\n</style>\n<table border=\"1\" class=\"dataframe\">\n  <thead>\n    <tr style=\"text-align: right;\">\n      <th></th>\n      <th>0</th>\n      <th>1</th>\n      <th>2</th>\n      <th>3</th>\n      <th>4</th>\n      <th>5</th>\n      <th>6</th>\n      <th>7</th>\n      <th>8</th>\n    </tr>\n  </thead>\n  <tbody>\n    <tr>\n      <th>0</th>\n      <td>chr1</td>\n      <td>HAVANA</td>\n      <td>gene</td>\n      <td>11869</td>\n      <td>14409</td>\n      <td>.</td>\n      <td>+</td>\n      <td>.</td>\n      <td>gene_id \"ENSG00000223972.5\"; gene_type \"transc...</td>\n    </tr>\n    <tr>\n      <th>1</th>\n      <td>chr1</td>\n      <td>HAVANA</td>\n      <td>gene</td>\n      <td>14404</td>\n      <td>29570</td>\n      <td>.</td>\n      <td>-</td>\n      <td>.</td>\n      <td>gene_id \"ENSG00000227232.5\"; gene_type \"unproc...</td>\n    </tr>\n    <tr>\n      <th>2</th>\n      <td>chr1</td>\n      <td>ENSEMBL</td>\n      <td>gene</td>\n      <td>17369</td>\n      <td>17436</td>\n      <td>.</td>\n      <td>-</td>\n      <td>.</td>\n      <td>gene_id \"ENSG00000278267.1\"; gene_type \"miRNA\"...</td>\n    </tr>\n    <tr>\n      <th>3</th>\n      <td>chr1</td>\n      <td>HAVANA</td>\n      <td>gene</td>\n      <td>29554</td>\n      <td>31109</td>\n      <td>.</td>\n      <td>+</td>\n      <td>.</td>\n      <td>gene_id \"ENSG00000243485.3\"; gene_type \"lincRN...</td>\n    </tr>\n    <tr>\n      <th>4</th>\n      <td>chr1</td>\n      <td>ENSEMBL</td>\n      <td>gene</td>\n      <td>30366</td>\n      <td>30503</td>\n      <td>.</td>\n      <td>+</td>\n      <td>.</td>\n      <td>gene_id \"ENSG00000274890.1\"; gene_type \"miRNA\"...</td>\n    </tr>\n    <tr>\n      <th>...</th>\n      <td>...</td>\n      <td>...</td>\n      <td>...</td>\n      <td>...</td>\n      <td>...</td>\n      <td>...</td>\n      <td>...</td>\n      <td>...</td>\n      <td>...</td>\n    </tr>\n    <tr>\n      <th>60478</th>\n      <td>chrM</td>\n      <td>ENSEMBL</td>\n      <td>gene</td>\n      <td>14149</td>\n      <td>14673</td>\n      <td>.</td>\n      <td>-</td>\n      <td>.</td>\n      <td>gene_id \"ENSG00000198695.2\"; gene_type \"protei...</td>\n    </tr>\n    <tr>\n      <th>60479</th>\n      <td>chrM</td>\n      <td>ENSEMBL</td>\n      <td>gene</td>\n      <td>14674</td>\n      <td>14742</td>\n      <td>.</td>\n      <td>-</td>\n      <td>.</td>\n      <td>gene_id \"ENSG00000210194.1\"; gene_type \"Mt_tRN...</td>\n    </tr>\n    <tr>\n      <th>60480</th>\n      <td>chrM</td>\n      <td>ENSEMBL</td>\n      <td>gene</td>\n      <td>14747</td>\n      <td>15887</td>\n      <td>.</td>\n      <td>+</td>\n      <td>.</td>\n      <td>gene_id \"ENSG00000198727.2\"; gene_type \"protei...</td>\n    </tr>\n    <tr>\n      <th>60481</th>\n      <td>chrM</td>\n      <td>ENSEMBL</td>\n      <td>gene</td>\n      <td>15888</td>\n      <td>15953</td>\n      <td>.</td>\n      <td>+</td>\n      <td>.</td>\n      <td>gene_id \"ENSG00000210195.2\"; gene_type \"Mt_tRN...</td>\n    </tr>\n    <tr>\n      <th>60482</th>\n      <td>chrM</td>\n      <td>ENSEMBL</td>\n      <td>gene</td>\n      <td>15956</td>\n      <td>16023</td>\n      <td>.</td>\n      <td>-</td>\n      <td>.</td>\n      <td>gene_id \"ENSG00000210196.2\"; gene_type \"Mt_tRN...</td>\n    </tr>\n  </tbody>\n</table>\n<p>60483 rows × 9 columns</p>\n</div>"
     },
     "metadata": {},
     "execution_count": 19
    }
   ],
   "source": [
    "df_gencode"
   ]
  },
  {
   "cell_type": "code",
   "execution_count": null,
   "metadata": {},
   "outputs": [],
   "source": []
  }
 ],
 "metadata": {
  "language_info": {
   "codemirror_mode": {
    "name": "ipython",
    "version": 3
   },
   "file_extension": ".py",
   "mimetype": "text/x-python",
   "name": "python",
   "nbconvert_exporter": "python",
   "pygments_lexer": "ipython3",
   "version": "3.6.10-final"
  },
  "orig_nbformat": 2,
  "kernelspec": {
   "name": "python361064bitbioinfoconda52065af5c2fa481f9826820ca4acba48",
   "display_name": "Python 3.6.10 64-bit ('bioinfo': conda)"
  }
 },
 "nbformat": 4,
 "nbformat_minor": 2
}