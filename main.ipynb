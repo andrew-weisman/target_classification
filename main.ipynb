{
 "cells": [
  {
   "cell_type": "code",
   "execution_count": 1,
   "metadata": {},
   "outputs": [],
   "source": [
    "# Define the sample HT-Seq datafiles\n",
    "datadir = '/data/BIDS-HPC/private/projects/dmi2/data/all_gene_expression_files_in_target/links'\n",
    "file_fpkm = 'fffee315-9aa3-44d2-8c89-78a2c1d107e7.FPKM.txt'\n",
    "file_fpkm_uq = 'fffee315-9aa3-44d2-8c89-78a2c1d107e7.FPKM-UQ.txt'\n",
    "file_counts = 'fffee315-9aa3-44d2-8c89-78a2c1d107e7.htseq_counts.txt'\n",
    "\n",
    "# Define the reference datafiles\n",
    "gdc_tsv_file = '/data/BIDS-HPC/private/projects/dmi2/data/gencode.gene.info.v22.tsv'\n",
    "gencode_gtf_file = '/data/BIDS-HPC/private/projects/dmi2/data/gencode.v22.annotation-just_genes.gtf'"
   ]
  },
  {
   "cell_type": "code",
   "execution_count": 2,
   "metadata": {},
   "outputs": [],
   "source": [
    "# Read in all the datafiles into Pandas dataframes\n",
    "import pandas as pd\n",
    "import os\n",
    "df_fpkm = pd.read_csv(os.path.join(datadir, file_fpkm), sep='\\t', names=['id','intensity'])\n",
    "df_fpkm_uq = pd.read_csv(os.path.join(datadir, file_fpkm_uq), sep='\\t', names=['id','intensity'])\n",
    "df_count = pd.read_csv(os.path.join(datadir, file_counts), sep='\\t', skipfooter=5, names=['id','intensity'])\n",
    "df_gdc = pd.read_csv(gdc_tsv_file, sep='\\t')\n",
    "df_gencode = pd.read_csv(gencode_gtf_file, sep='\\t', skiprows=5, header=None)"
   ]
  },
  {
   "cell_type": "code",
   "execution_count": 3,
   "metadata": {},
   "outputs": [],
   "source": [
    "# Format the df_gencode dataframe for consistency\n",
    "df_gencode['id'] = df_gencode.apply(lambda x: x[8].split()[1].split('\\\"')[1], axis=1)\n",
    "df_gencode['type'] = df_gencode.apply(lambda x: x[8].split()[3].split('\\\"')[1], axis=1)\n",
    "df_gencode['name'] = df_gencode.apply(lambda x: x[8].split()[7].split('\\\"')[1], axis=1)\n",
    "df_gencode = df_gencode.rename({3: 'start', 4: 'end', 6: 'strand', 0: 'seqname'}, axis='columns')\n",
    "df_gencode = df_gencode.set_index('id')\n",
    "df_gencode = df_gencode.sort_index()"
   ]
  },
  {
   "cell_type": "code",
   "execution_count": 3,
   "metadata": {},
   "outputs": [
    {
     "output_type": "error",
     "ename": "NameError",
     "evalue": "name 'df' is not defined",
     "traceback": [
      "\u001b[0;31m---------------------------------------------------------------------------\u001b[0m",
      "\u001b[0;31mNameError\u001b[0m                                 Traceback (most recent call last)",
      "\u001b[0;32m<ipython-input-3-00cf07b74dcd>\u001b[0m in \u001b[0;36m<module>\u001b[0;34m\u001b[0m\n\u001b[0;32m----> 1\u001b[0;31m \u001b[0mdf\u001b[0m\u001b[0;34m\u001b[0m\u001b[0;34m\u001b[0m\u001b[0m\n\u001b[0m",
      "\u001b[0;31mNameError\u001b[0m: name 'df' is not defined"
     ]
    }
   ],
   "source": [
    "df"
   ]
  },
  {
   "cell_type": "code",
   "execution_count": 4,
   "metadata": {},
   "outputs": [],
   "source": [
    "# Format the df_gdc dataframe for consistency\n",
    "df_gdc = df_gdc.rename({'gene_id': 'id', 'gene_name': 'name', 'gene_type': 'type'}, axis='columns')\n",
    "df_gdc = df_gdc.set_index('id')\n",
    "df_gdc = df_gdc.sort_index()"
   ]
  },
  {
   "cell_type": "code",
   "execution_count": 5,
   "metadata": {},
   "outputs": [
    {
     "output_type": "stream",
     "name": "stdout",
     "text": "True\nTrue\nTrue\nTrue\nTrue\nTrue\n"
    }
   ],
   "source": [
    "# Check for column equality between the two reference datafiles\n",
    "for colname in ['name', 'seqname', 'start', 'end', 'strand', 'type']:\n",
    "    print(df_gdc[colname].equals(df_gencode[colname]))"
   ]
  },
  {
   "cell_type": "code",
   "execution_count": 3,
   "metadata": {},
   "outputs": [
    {
     "output_type": "execute_result",
     "data": {
      "text/plain": "0        True\n1        True\n2        True\n3        True\n4        True\n         ... \n60478    True\n60479    True\n60480    True\n60481    True\n60482    True\nName: id, Length: 60483, dtype: bool"
     },
     "metadata": {},
     "execution_count": 3
    }
   ],
   "source": [
    "# This line was edited but was used to show that the ID columns of all three dataframes are exactly the same\n",
    "(df_fpkm_uq['id']==df_counts['id'])"
   ]
  },
  {
   "cell_type": "code",
   "execution_count": 6,
   "metadata": {},
   "outputs": [
    {
     "output_type": "stream",
     "name": "stdout",
     "text": "0\n1\n2\n3\n"
    }
   ],
   "source": [
    "# Check that the ID columns of all five dataframes are exactly the same\n",
    "dfs = [df_fpkm, df_fpkm_uq, df_count, df_gdc, df_gencode]\n",
    "ndfs = len(dfs)\n",
    "for idf in range(ndfs-1):\n",
    "    print(idf)\n",
    "#print(df_gdc.index.equals(df_gencode.index))"
   ]
  },
  {
   "cell_type": "code",
   "execution_count": 7,
   "metadata": {},
   "outputs": [
    {
     "output_type": "execute_result",
     "data": {
      "text/plain": "                       id  intensity\n0      ENSG00000000003.13    48.2789\n1       ENSG00000000005.5     4.0536\n2      ENSG00000000419.11    65.1115\n3      ENSG00000000457.12     1.5301\n4      ENSG00000000460.15     2.9406\n...                   ...        ...\n60478   ENSGR0000275287.3     0.0000\n60479   ENSGR0000276543.3     0.0000\n60480   ENSGR0000277120.3     0.0000\n60481   ENSGR0000280767.1     0.0000\n60482   ENSGR0000281849.1     0.0000\n\n[60483 rows x 2 columns]",
      "text/html": "<div>\n<style scoped>\n    .dataframe tbody tr th:only-of-type {\n        vertical-align: middle;\n    }\n\n    .dataframe tbody tr th {\n        vertical-align: top;\n    }\n\n    .dataframe thead th {\n        text-align: right;\n    }\n</style>\n<table border=\"1\" class=\"dataframe\">\n  <thead>\n    <tr style=\"text-align: right;\">\n      <th></th>\n      <th>id</th>\n      <th>intensity</th>\n    </tr>\n  </thead>\n  <tbody>\n    <tr>\n      <th>0</th>\n      <td>ENSG00000000003.13</td>\n      <td>48.2789</td>\n    </tr>\n    <tr>\n      <th>1</th>\n      <td>ENSG00000000005.5</td>\n      <td>4.0536</td>\n    </tr>\n    <tr>\n      <th>2</th>\n      <td>ENSG00000000419.11</td>\n      <td>65.1115</td>\n    </tr>\n    <tr>\n      <th>3</th>\n      <td>ENSG00000000457.12</td>\n      <td>1.5301</td>\n    </tr>\n    <tr>\n      <th>4</th>\n      <td>ENSG00000000460.15</td>\n      <td>2.9406</td>\n    </tr>\n    <tr>\n      <th>...</th>\n      <td>...</td>\n      <td>...</td>\n    </tr>\n    <tr>\n      <th>60478</th>\n      <td>ENSGR0000275287.3</td>\n      <td>0.0000</td>\n    </tr>\n    <tr>\n      <th>60479</th>\n      <td>ENSGR0000276543.3</td>\n      <td>0.0000</td>\n    </tr>\n    <tr>\n      <th>60480</th>\n      <td>ENSGR0000277120.3</td>\n      <td>0.0000</td>\n    </tr>\n    <tr>\n      <th>60481</th>\n      <td>ENSGR0000280767.1</td>\n      <td>0.0000</td>\n    </tr>\n    <tr>\n      <th>60482</th>\n      <td>ENSGR0000281849.1</td>\n      <td>0.0000</td>\n    </tr>\n  </tbody>\n</table>\n<p>60483 rows × 2 columns</p>\n</div>"
     },
     "metadata": {},
     "execution_count": 7
    }
   ],
   "source": [
    "df_fpkm"
   ]
  },
  {
   "cell_type": "code",
   "execution_count": 27,
   "metadata": {},
   "outputs": [
    {
     "output_type": "execute_result",
     "data": {
      "text/plain": "43200"
     },
     "metadata": {},
     "execution_count": 27
    }
   ],
   "source": [
    "tol = 1e-6\n",
    "((df_fpkm['fpkm']/df_fpkm['fpkm'].sum() - df_fpkm_uq['fpkm-uq']/df_fpkm_uq['fpkm-uq'].sum()).abs() < tol).sum() # This line shows that the FPKM and FPKM-UQ files have the same values up to a fixed normalization\n",
    "((df_counts['count']/df_counts['count'].sum() - df_fpkm_uq['fpkm-uq']/df_fpkm_uq['fpkm-uq'].sum()).abs() < tol).sum() # this line shows that this is not true of the counts"
   ]
  },
  {
   "cell_type": "code",
   "execution_count": 30,
   "metadata": {},
   "outputs": [
    {
     "output_type": "execute_result",
     "data": {
      "text/plain": "True"
     },
     "metadata": {},
     "execution_count": 30
    }
   ],
   "source": [
    "#set(df_fpkm['id']) - set(df_gdc['gene_id'])\n",
    "set(df_fpkm['id']) == set(df_gdc['gene_id'])"
   ]
  },
  {
   "cell_type": "code",
   "execution_count": 68,
   "metadata": {},
   "outputs": [
    {
     "output_type": "stream",
     "name": "stdout",
     "text": "331163.3667\n"
    },
    {
     "output_type": "execute_result",
     "data": {
      "text/plain": "26613.247395329272"
     },
     "metadata": {},
     "execution_count": 68
    }
   ],
   "source": [
    "import numpy as np\n",
    "arr = df_fpkm['fpkm'].to_numpy()\n",
    "quantiles = np.quantile(arr, [0,0.25,0.5,0.75,1])\n",
    "#arr[quantiles[0]<arr and arr<quantiles[3]]\n",
    "print(arr[(quantiles[3]<arr) & (arr<quantiles[4])].sum())\n",
    "1/(df_fpkm['fpkm'].max()/df_fpkm_uq['fpkm-uq'].max())"
   ]
  },
  {
   "cell_type": "code",
   "execution_count": 45,
   "metadata": {},
   "outputs": [
    {
     "output_type": "execute_result",
     "data": {
      "text/plain": "3865.25345"
     },
     "metadata": {},
     "execution_count": 45
    }
   ],
   "source": [
    "arr.max()/2"
   ]
  },
  {
   "cell_type": "code",
   "execution_count": 29,
   "metadata": {},
   "outputs": [
    {
     "output_type": "error",
     "ename": "ValueError",
     "evalue": "Bin edges must be unique: array([0.0000000e+00, 0.0000000e+00, 4.7900000e-02, 8.8105000e-01,\n       7.7305069e+03]).\nYou can drop duplicate edges by setting the 'duplicates' kwarg",
     "traceback": [
      "\u001b[0;31m---------------------------------------------------------------------------\u001b[0m",
      "\u001b[0;31mValueError\u001b[0m                                Traceback (most recent call last)",
      "\u001b[0;32m<ipython-input-29-6394ab3f1f0c>\u001b[0m in \u001b[0;36m<module>\u001b[0;34m\u001b[0m\n\u001b[0;32m----> 1\u001b[0;31m \u001b[0mpd\u001b[0m\u001b[0;34m.\u001b[0m\u001b[0mqcut\u001b[0m\u001b[0;34m(\u001b[0m\u001b[0mdf_fpkm\u001b[0m\u001b[0;34m[\u001b[0m\u001b[0;34m'fpkm'\u001b[0m\u001b[0;34m]\u001b[0m\u001b[0;34m,\u001b[0m \u001b[0;36m4\u001b[0m\u001b[0;34m)\u001b[0m\u001b[0;34m\u001b[0m\u001b[0;34m\u001b[0m\u001b[0m\n\u001b[0m",
      "\u001b[0;32m/data/weismanal/miniconda3/envs/bioinfo/lib/python3.6/site-packages/pandas/core/reshape/tile.py\u001b[0m in \u001b[0;36mqcut\u001b[0;34m(x, q, labels, retbins, precision, duplicates)\u001b[0m\n\u001b[1;32m    346\u001b[0m         \u001b[0minclude_lowest\u001b[0m\u001b[0;34m=\u001b[0m\u001b[0;32mTrue\u001b[0m\u001b[0;34m,\u001b[0m\u001b[0;34m\u001b[0m\u001b[0;34m\u001b[0m\u001b[0m\n\u001b[1;32m    347\u001b[0m         \u001b[0mdtype\u001b[0m\u001b[0;34m=\u001b[0m\u001b[0mdtype\u001b[0m\u001b[0;34m,\u001b[0m\u001b[0;34m\u001b[0m\u001b[0;34m\u001b[0m\u001b[0m\n\u001b[0;32m--> 348\u001b[0;31m         \u001b[0mduplicates\u001b[0m\u001b[0;34m=\u001b[0m\u001b[0mduplicates\u001b[0m\u001b[0;34m,\u001b[0m\u001b[0;34m\u001b[0m\u001b[0;34m\u001b[0m\u001b[0m\n\u001b[0m\u001b[1;32m    349\u001b[0m     )\n\u001b[1;32m    350\u001b[0m \u001b[0;34m\u001b[0m\u001b[0m\n",
      "\u001b[0;32m/data/weismanal/miniconda3/envs/bioinfo/lib/python3.6/site-packages/pandas/core/reshape/tile.py\u001b[0m in \u001b[0;36m_bins_to_cuts\u001b[0;34m(x, bins, right, labels, precision, include_lowest, dtype, duplicates)\u001b[0m\n\u001b[1;32m    379\u001b[0m         \u001b[0;32mif\u001b[0m \u001b[0mduplicates\u001b[0m \u001b[0;34m==\u001b[0m \u001b[0;34m\"raise\"\u001b[0m\u001b[0;34m:\u001b[0m\u001b[0;34m\u001b[0m\u001b[0;34m\u001b[0m\u001b[0m\n\u001b[1;32m    380\u001b[0m             raise ValueError(\n\u001b[0;32m--> 381\u001b[0;31m                 \u001b[0;34mf\"Bin edges must be unique: {repr(bins)}.\\n\"\u001b[0m\u001b[0;34m\u001b[0m\u001b[0;34m\u001b[0m\u001b[0m\n\u001b[0m\u001b[1;32m    382\u001b[0m                 \u001b[0;34mf\"You can drop duplicate edges by setting the 'duplicates' kwarg\"\u001b[0m\u001b[0;34m\u001b[0m\u001b[0;34m\u001b[0m\u001b[0m\n\u001b[1;32m    383\u001b[0m             )\n",
      "\u001b[0;31mValueError\u001b[0m: Bin edges must be unique: array([0.0000000e+00, 0.0000000e+00, 4.7900000e-02, 8.8105000e-01,\n       7.7305069e+03]).\nYou can drop duplicate edges by setting the 'duplicates' kwarg"
     ]
    }
   ],
   "source": [
    "pd.qcut(df_fpkm['fpkm'], 4)"
   ]
  },
  {
   "cell_type": "code",
   "execution_count": 9,
   "metadata": {},
   "outputs": [
    {
     "output_type": "execute_result",
     "data": {
      "text/plain": "                       id  count\n0      ENSG00000000003.13  11205\n1       ENSG00000000005.5    334\n2      ENSG00000000419.11   4022\n3      ENSG00000000457.12    539\n4      ENSG00000000460.15    898\n...                   ...    ...\n60478   ENSGR0000275287.3      0\n60479   ENSGR0000276543.3      0\n60480   ENSGR0000277120.3      0\n60481   ENSGR0000280767.1      0\n60482   ENSGR0000281849.1      0\n\n[60483 rows x 2 columns]",
      "text/html": "<div>\n<style scoped>\n    .dataframe tbody tr th:only-of-type {\n        vertical-align: middle;\n    }\n\n    .dataframe tbody tr th {\n        vertical-align: top;\n    }\n\n    .dataframe thead th {\n        text-align: right;\n    }\n</style>\n<table border=\"1\" class=\"dataframe\">\n  <thead>\n    <tr style=\"text-align: right;\">\n      <th></th>\n      <th>id</th>\n      <th>count</th>\n    </tr>\n  </thead>\n  <tbody>\n    <tr>\n      <th>0</th>\n      <td>ENSG00000000003.13</td>\n      <td>11205</td>\n    </tr>\n    <tr>\n      <th>1</th>\n      <td>ENSG00000000005.5</td>\n      <td>334</td>\n    </tr>\n    <tr>\n      <th>2</th>\n      <td>ENSG00000000419.11</td>\n      <td>4022</td>\n    </tr>\n    <tr>\n      <th>3</th>\n      <td>ENSG00000000457.12</td>\n      <td>539</td>\n    </tr>\n    <tr>\n      <th>4</th>\n      <td>ENSG00000000460.15</td>\n      <td>898</td>\n    </tr>\n    <tr>\n      <th>...</th>\n      <td>...</td>\n      <td>...</td>\n    </tr>\n    <tr>\n      <th>60478</th>\n      <td>ENSGR0000275287.3</td>\n      <td>0</td>\n    </tr>\n    <tr>\n      <th>60479</th>\n      <td>ENSGR0000276543.3</td>\n      <td>0</td>\n    </tr>\n    <tr>\n      <th>60480</th>\n      <td>ENSGR0000277120.3</td>\n      <td>0</td>\n    </tr>\n    <tr>\n      <th>60481</th>\n      <td>ENSGR0000280767.1</td>\n      <td>0</td>\n    </tr>\n    <tr>\n      <th>60482</th>\n      <td>ENSGR0000281849.1</td>\n      <td>0</td>\n    </tr>\n  </tbody>\n</table>\n<p>60483 rows × 2 columns</p>\n</div>"
     },
     "metadata": {},
     "execution_count": 9
    }
   ],
   "source": [
    "df_counts"
   ]
  },
  {
   "cell_type": "code",
   "execution_count": 83,
   "metadata": {},
   "outputs": [
    {
     "output_type": "error",
     "ename": "KeyError",
     "evalue": "'id'",
     "traceback": [
      "\u001b[0;31m---------------------------------------------------------------------------\u001b[0m",
      "\u001b[0;31mKeyError\u001b[0m                                  Traceback (most recent call last)",
      "\u001b[0;32m/data/weismanal/miniconda3/envs/bioinfo/lib/python3.6/site-packages/pandas/core/indexes/base.py\u001b[0m in \u001b[0;36mget_loc\u001b[0;34m(self, key, method, tolerance)\u001b[0m\n\u001b[1;32m   2645\u001b[0m             \u001b[0;32mtry\u001b[0m\u001b[0;34m:\u001b[0m\u001b[0;34m\u001b[0m\u001b[0;34m\u001b[0m\u001b[0m\n\u001b[0;32m-> 2646\u001b[0;31m                 \u001b[0;32mreturn\u001b[0m \u001b[0mself\u001b[0m\u001b[0;34m.\u001b[0m\u001b[0m_engine\u001b[0m\u001b[0;34m.\u001b[0m\u001b[0mget_loc\u001b[0m\u001b[0;34m(\u001b[0m\u001b[0mkey\u001b[0m\u001b[0;34m)\u001b[0m\u001b[0;34m\u001b[0m\u001b[0;34m\u001b[0m\u001b[0m\n\u001b[0m\u001b[1;32m   2647\u001b[0m             \u001b[0;32mexcept\u001b[0m \u001b[0mKeyError\u001b[0m\u001b[0;34m:\u001b[0m\u001b[0;34m\u001b[0m\u001b[0;34m\u001b[0m\u001b[0m\n",
      "\u001b[0;32mpandas/_libs/index.pyx\u001b[0m in \u001b[0;36mpandas._libs.index.IndexEngine.get_loc\u001b[0;34m()\u001b[0m\n",
      "\u001b[0;32mpandas/_libs/index.pyx\u001b[0m in \u001b[0;36mpandas._libs.index.IndexEngine.get_loc\u001b[0;34m()\u001b[0m\n",
      "\u001b[0;32mpandas/_libs/hashtable_class_helper.pxi\u001b[0m in \u001b[0;36mpandas._libs.hashtable.PyObjectHashTable.get_item\u001b[0;34m()\u001b[0m\n",
      "\u001b[0;32mpandas/_libs/hashtable_class_helper.pxi\u001b[0m in \u001b[0;36mpandas._libs.hashtable.PyObjectHashTable.get_item\u001b[0;34m()\u001b[0m\n",
      "\u001b[0;31mKeyError\u001b[0m: 'id'",
      "\nDuring handling of the above exception, another exception occurred:\n",
      "\u001b[0;31mKeyError\u001b[0m                                  Traceback (most recent call last)",
      "\u001b[0;32m<ipython-input-83-d6d0360787b9>\u001b[0m in \u001b[0;36m<module>\u001b[0;34m\u001b[0m\n\u001b[1;32m      6\u001b[0m \u001b[0;31m#df_gdc['strand'].equals(df_gencode['strand'])\u001b[0m\u001b[0;34m\u001b[0m\u001b[0;34m\u001b[0m\u001b[0;34m\u001b[0m\u001b[0m\n\u001b[1;32m      7\u001b[0m \u001b[0;31m#df_gdc['type'].equals(df_gencode['type'])\u001b[0m\u001b[0;34m\u001b[0m\u001b[0;34m\u001b[0m\u001b[0;34m\u001b[0m\u001b[0m\n\u001b[0;32m----> 8\u001b[0;31m \u001b[0mdf_gdc\u001b[0m\u001b[0;34m[\u001b[0m\u001b[0;34m'id'\u001b[0m\u001b[0;34m]\u001b[0m\u001b[0;34m\u001b[0m\u001b[0;34m\u001b[0m\u001b[0m\n\u001b[0m",
      "\u001b[0;32m/data/weismanal/miniconda3/envs/bioinfo/lib/python3.6/site-packages/pandas/core/frame.py\u001b[0m in \u001b[0;36m__getitem__\u001b[0;34m(self, key)\u001b[0m\n\u001b[1;32m   2798\u001b[0m             \u001b[0;32mif\u001b[0m \u001b[0mself\u001b[0m\u001b[0;34m.\u001b[0m\u001b[0mcolumns\u001b[0m\u001b[0;34m.\u001b[0m\u001b[0mnlevels\u001b[0m \u001b[0;34m>\u001b[0m \u001b[0;36m1\u001b[0m\u001b[0;34m:\u001b[0m\u001b[0;34m\u001b[0m\u001b[0;34m\u001b[0m\u001b[0m\n\u001b[1;32m   2799\u001b[0m                 \u001b[0;32mreturn\u001b[0m \u001b[0mself\u001b[0m\u001b[0;34m.\u001b[0m\u001b[0m_getitem_multilevel\u001b[0m\u001b[0;34m(\u001b[0m\u001b[0mkey\u001b[0m\u001b[0;34m)\u001b[0m\u001b[0;34m\u001b[0m\u001b[0;34m\u001b[0m\u001b[0m\n\u001b[0;32m-> 2800\u001b[0;31m             \u001b[0mindexer\u001b[0m \u001b[0;34m=\u001b[0m \u001b[0mself\u001b[0m\u001b[0;34m.\u001b[0m\u001b[0mcolumns\u001b[0m\u001b[0;34m.\u001b[0m\u001b[0mget_loc\u001b[0m\u001b[0;34m(\u001b[0m\u001b[0mkey\u001b[0m\u001b[0;34m)\u001b[0m\u001b[0;34m\u001b[0m\u001b[0;34m\u001b[0m\u001b[0m\n\u001b[0m\u001b[1;32m   2801\u001b[0m             \u001b[0;32mif\u001b[0m \u001b[0mis_integer\u001b[0m\u001b[0;34m(\u001b[0m\u001b[0mindexer\u001b[0m\u001b[0;34m)\u001b[0m\u001b[0;34m:\u001b[0m\u001b[0;34m\u001b[0m\u001b[0;34m\u001b[0m\u001b[0m\n\u001b[1;32m   2802\u001b[0m                 \u001b[0mindexer\u001b[0m \u001b[0;34m=\u001b[0m \u001b[0;34m[\u001b[0m\u001b[0mindexer\u001b[0m\u001b[0;34m]\u001b[0m\u001b[0;34m\u001b[0m\u001b[0;34m\u001b[0m\u001b[0m\n",
      "\u001b[0;32m/data/weismanal/miniconda3/envs/bioinfo/lib/python3.6/site-packages/pandas/core/indexes/base.py\u001b[0m in \u001b[0;36mget_loc\u001b[0;34m(self, key, method, tolerance)\u001b[0m\n\u001b[1;32m   2646\u001b[0m                 \u001b[0;32mreturn\u001b[0m \u001b[0mself\u001b[0m\u001b[0;34m.\u001b[0m\u001b[0m_engine\u001b[0m\u001b[0;34m.\u001b[0m\u001b[0mget_loc\u001b[0m\u001b[0;34m(\u001b[0m\u001b[0mkey\u001b[0m\u001b[0;34m)\u001b[0m\u001b[0;34m\u001b[0m\u001b[0;34m\u001b[0m\u001b[0m\n\u001b[1;32m   2647\u001b[0m             \u001b[0;32mexcept\u001b[0m \u001b[0mKeyError\u001b[0m\u001b[0;34m:\u001b[0m\u001b[0;34m\u001b[0m\u001b[0;34m\u001b[0m\u001b[0m\n\u001b[0;32m-> 2648\u001b[0;31m                 \u001b[0;32mreturn\u001b[0m \u001b[0mself\u001b[0m\u001b[0;34m.\u001b[0m\u001b[0m_engine\u001b[0m\u001b[0;34m.\u001b[0m\u001b[0mget_loc\u001b[0m\u001b[0;34m(\u001b[0m\u001b[0mself\u001b[0m\u001b[0;34m.\u001b[0m\u001b[0m_maybe_cast_indexer\u001b[0m\u001b[0;34m(\u001b[0m\u001b[0mkey\u001b[0m\u001b[0;34m)\u001b[0m\u001b[0;34m)\u001b[0m\u001b[0;34m\u001b[0m\u001b[0;34m\u001b[0m\u001b[0m\n\u001b[0m\u001b[1;32m   2649\u001b[0m         \u001b[0mindexer\u001b[0m \u001b[0;34m=\u001b[0m \u001b[0mself\u001b[0m\u001b[0;34m.\u001b[0m\u001b[0mget_indexer\u001b[0m\u001b[0;34m(\u001b[0m\u001b[0;34m[\u001b[0m\u001b[0mkey\u001b[0m\u001b[0;34m]\u001b[0m\u001b[0;34m,\u001b[0m \u001b[0mmethod\u001b[0m\u001b[0;34m=\u001b[0m\u001b[0mmethod\u001b[0m\u001b[0;34m,\u001b[0m \u001b[0mtolerance\u001b[0m\u001b[0;34m=\u001b[0m\u001b[0mtolerance\u001b[0m\u001b[0;34m)\u001b[0m\u001b[0;34m\u001b[0m\u001b[0;34m\u001b[0m\u001b[0m\n\u001b[1;32m   2650\u001b[0m         \u001b[0;32mif\u001b[0m \u001b[0mindexer\u001b[0m\u001b[0;34m.\u001b[0m\u001b[0mndim\u001b[0m \u001b[0;34m>\u001b[0m \u001b[0;36m1\u001b[0m \u001b[0;32mor\u001b[0m \u001b[0mindexer\u001b[0m\u001b[0;34m.\u001b[0m\u001b[0msize\u001b[0m \u001b[0;34m>\u001b[0m \u001b[0;36m1\u001b[0m\u001b[0;34m:\u001b[0m\u001b[0;34m\u001b[0m\u001b[0;34m\u001b[0m\u001b[0m\n",
      "\u001b[0;32mpandas/_libs/index.pyx\u001b[0m in \u001b[0;36mpandas._libs.index.IndexEngine.get_loc\u001b[0;34m()\u001b[0m\n",
      "\u001b[0;32mpandas/_libs/index.pyx\u001b[0m in \u001b[0;36mpandas._libs.index.IndexEngine.get_loc\u001b[0;34m()\u001b[0m\n",
      "\u001b[0;32mpandas/_libs/hashtable_class_helper.pxi\u001b[0m in \u001b[0;36mpandas._libs.hashtable.PyObjectHashTable.get_item\u001b[0;34m()\u001b[0m\n",
      "\u001b[0;32mpandas/_libs/hashtable_class_helper.pxi\u001b[0m in \u001b[0;36mpandas._libs.hashtable.PyObjectHashTable.get_item\u001b[0;34m()\u001b[0m\n",
      "\u001b[0;31mKeyError\u001b[0m: 'id'"
     ]
    }
   ],
   "source": [
    "#df_gdc.index.equals(df_gencode.index)\n",
    "#df_gdc['name'].equals(df_gencode['name'])\n",
    "#df_gdc['seqname'].equals(df_gencode['seqname'])\n",
    "#df_gdc['start'].equals(df_gencode['start'])\n",
    "#df_gdc['end'].equals(df_gencode['end'])\n",
    "#df_gdc['strand'].equals(df_gencode['strand'])\n",
    "#df_gdc['type'].equals(df_gencode['type'])"
   ]
  },
  {
   "cell_type": "code",
   "execution_count": 70,
   "metadata": {},
   "outputs": [
    {
     "output_type": "execute_result",
     "data": {
      "text/plain": "                             name seqname      start        end strand  \\\nid                                                                       \nENSG00000000003.13         TSPAN6    chrX  100627109  100639991      -   \nENSG00000000005.5            TNMD    chrX  100584802  100599885      +   \nENSG00000000419.11           DPM1   chr20   50934867   50958555      -   \nENSG00000000457.12          SCYL3    chr1  169849631  169894267      -   \nENSG00000000460.15       C1orf112    chr1  169662007  169854080      +   \n...                           ...     ...        ...        ...    ...   \nENSGR0000275287.3     Metazoa_SRP    chrY     388100     388389      -   \nENSGR0000276543.3      AJ271736.1    chrY   57209151   57209218      +   \nENSGR0000277120.3         MIR6089    chrY    2609191    2609254      +   \nENSGR0000280767.1   RP13-465B17.5    chrY     419157     421980      +   \nENSGR0000281849.1   RP13-465B17.4    chrY     386980     405579      +   \n\n                              type gene_status           havana_gene  \\\nid                                                                     \nENSG00000000003.13  protein_coding       KNOWN  OTTHUMG00000022002.1   \nENSG00000000005.5   protein_coding       KNOWN  OTTHUMG00000022001.1   \nENSG00000000419.11  protein_coding       KNOWN  OTTHUMG00000032742.2   \nENSG00000000457.12  protein_coding       KNOWN  OTTHUMG00000035941.4   \nENSG00000000460.15  protein_coding       KNOWN  OTTHUMG00000035821.7   \n...                            ...         ...                   ...   \nENSGR0000275287.3         misc_RNA       NOVEL                   NaN   \nENSGR0000276543.3            miRNA       NOVEL                   NaN   \nENSGR0000277120.3            miRNA       KNOWN                   NaN   \nENSGR0000280767.1          lincRNA       NOVEL  OTTHUMG00000189993.1   \nENSGR0000281849.1        antisense       NOVEL  OTTHUMG00000189992.1   \n\n                    full_length  exon_length  exon_num  \nid                                                      \nENSG00000000003.13        12883         4535        34  \nENSG00000000005.5         15084         1610        10  \nENSG00000000419.11        23689         1207        53  \nENSG00000000457.12        44637         6883        63  \nENSG00000000460.15       192074         5967       151  \n...                         ...          ...       ...  \nENSGR0000275287.3           290          290         1  \nENSGR0000276543.3            68           68         1  \nENSGR0000277120.3            64           64         1  \nENSGR0000280767.1          2824          515         2  \nENSGR0000281849.1         18600          484         2  \n\n[60483 rows x 11 columns]",
      "text/html": "<div>\n<style scoped>\n    .dataframe tbody tr th:only-of-type {\n        vertical-align: middle;\n    }\n\n    .dataframe tbody tr th {\n        vertical-align: top;\n    }\n\n    .dataframe thead th {\n        text-align: right;\n    }\n</style>\n<table border=\"1\" class=\"dataframe\">\n  <thead>\n    <tr style=\"text-align: right;\">\n      <th></th>\n      <th>name</th>\n      <th>seqname</th>\n      <th>start</th>\n      <th>end</th>\n      <th>strand</th>\n      <th>type</th>\n      <th>gene_status</th>\n      <th>havana_gene</th>\n      <th>full_length</th>\n      <th>exon_length</th>\n      <th>exon_num</th>\n    </tr>\n    <tr>\n      <th>id</th>\n      <th></th>\n      <th></th>\n      <th></th>\n      <th></th>\n      <th></th>\n      <th></th>\n      <th></th>\n      <th></th>\n      <th></th>\n      <th></th>\n      <th></th>\n    </tr>\n  </thead>\n  <tbody>\n    <tr>\n      <th>ENSG00000000003.13</th>\n      <td>TSPAN6</td>\n      <td>chrX</td>\n      <td>100627109</td>\n      <td>100639991</td>\n      <td>-</td>\n      <td>protein_coding</td>\n      <td>KNOWN</td>\n      <td>OTTHUMG00000022002.1</td>\n      <td>12883</td>\n      <td>4535</td>\n      <td>34</td>\n    </tr>\n    <tr>\n      <th>ENSG00000000005.5</th>\n      <td>TNMD</td>\n      <td>chrX</td>\n      <td>100584802</td>\n      <td>100599885</td>\n      <td>+</td>\n      <td>protein_coding</td>\n      <td>KNOWN</td>\n      <td>OTTHUMG00000022001.1</td>\n      <td>15084</td>\n      <td>1610</td>\n      <td>10</td>\n    </tr>\n    <tr>\n      <th>ENSG00000000419.11</th>\n      <td>DPM1</td>\n      <td>chr20</td>\n      <td>50934867</td>\n      <td>50958555</td>\n      <td>-</td>\n      <td>protein_coding</td>\n      <td>KNOWN</td>\n      <td>OTTHUMG00000032742.2</td>\n      <td>23689</td>\n      <td>1207</td>\n      <td>53</td>\n    </tr>\n    <tr>\n      <th>ENSG00000000457.12</th>\n      <td>SCYL3</td>\n      <td>chr1</td>\n      <td>169849631</td>\n      <td>169894267</td>\n      <td>-</td>\n      <td>protein_coding</td>\n      <td>KNOWN</td>\n      <td>OTTHUMG00000035941.4</td>\n      <td>44637</td>\n      <td>6883</td>\n      <td>63</td>\n    </tr>\n    <tr>\n      <th>ENSG00000000460.15</th>\n      <td>C1orf112</td>\n      <td>chr1</td>\n      <td>169662007</td>\n      <td>169854080</td>\n      <td>+</td>\n      <td>protein_coding</td>\n      <td>KNOWN</td>\n      <td>OTTHUMG00000035821.7</td>\n      <td>192074</td>\n      <td>5967</td>\n      <td>151</td>\n    </tr>\n    <tr>\n      <th>...</th>\n      <td>...</td>\n      <td>...</td>\n      <td>...</td>\n      <td>...</td>\n      <td>...</td>\n      <td>...</td>\n      <td>...</td>\n      <td>...</td>\n      <td>...</td>\n      <td>...</td>\n      <td>...</td>\n    </tr>\n    <tr>\n      <th>ENSGR0000275287.3</th>\n      <td>Metazoa_SRP</td>\n      <td>chrY</td>\n      <td>388100</td>\n      <td>388389</td>\n      <td>-</td>\n      <td>misc_RNA</td>\n      <td>NOVEL</td>\n      <td>NaN</td>\n      <td>290</td>\n      <td>290</td>\n      <td>1</td>\n    </tr>\n    <tr>\n      <th>ENSGR0000276543.3</th>\n      <td>AJ271736.1</td>\n      <td>chrY</td>\n      <td>57209151</td>\n      <td>57209218</td>\n      <td>+</td>\n      <td>miRNA</td>\n      <td>NOVEL</td>\n      <td>NaN</td>\n      <td>68</td>\n      <td>68</td>\n      <td>1</td>\n    </tr>\n    <tr>\n      <th>ENSGR0000277120.3</th>\n      <td>MIR6089</td>\n      <td>chrY</td>\n      <td>2609191</td>\n      <td>2609254</td>\n      <td>+</td>\n      <td>miRNA</td>\n      <td>KNOWN</td>\n      <td>NaN</td>\n      <td>64</td>\n      <td>64</td>\n      <td>1</td>\n    </tr>\n    <tr>\n      <th>ENSGR0000280767.1</th>\n      <td>RP13-465B17.5</td>\n      <td>chrY</td>\n      <td>419157</td>\n      <td>421980</td>\n      <td>+</td>\n      <td>lincRNA</td>\n      <td>NOVEL</td>\n      <td>OTTHUMG00000189993.1</td>\n      <td>2824</td>\n      <td>515</td>\n      <td>2</td>\n    </tr>\n    <tr>\n      <th>ENSGR0000281849.1</th>\n      <td>RP13-465B17.4</td>\n      <td>chrY</td>\n      <td>386980</td>\n      <td>405579</td>\n      <td>+</td>\n      <td>antisense</td>\n      <td>NOVEL</td>\n      <td>OTTHUMG00000189992.1</td>\n      <td>18600</td>\n      <td>484</td>\n      <td>2</td>\n    </tr>\n  </tbody>\n</table>\n<p>60483 rows × 11 columns</p>\n</div>"
     },
     "metadata": {},
     "execution_count": 70
    }
   ],
   "source": [
    "df_gdc"
   ]
  },
  {
   "cell_type": "code",
   "execution_count": 71,
   "metadata": {},
   "outputs": [
    {
     "output_type": "execute_result",
     "data": {
      "text/plain": "                   seqname        1     2      start        end  5 strand  7  \\\nid                                                                             \nENSG00000000003.13    chrX   HAVANA  gene  100627109  100639991  .      -  .   \nENSG00000000005.5     chrX   HAVANA  gene  100584802  100599885  .      +  .   \nENSG00000000419.11   chr20   HAVANA  gene   50934867   50958555  .      -  .   \nENSG00000000457.12    chr1   HAVANA  gene  169849631  169894267  .      -  .   \nENSG00000000460.15    chr1   HAVANA  gene  169662007  169854080  .      +  .   \n...                    ...      ...   ...        ...        ... ..    ... ..   \nENSGR0000275287.3     chrY  ENSEMBL  gene     388100     388389  .      -  .   \nENSGR0000276543.3     chrY  ENSEMBL  gene   57209151   57209218  .      +  .   \nENSGR0000277120.3     chrY  ENSEMBL  gene    2609191    2609254  .      +  .   \nENSGR0000280767.1     chrY   HAVANA  gene     419157     421980  .      +  .   \nENSGR0000281849.1     chrY   HAVANA  gene     386980     405579  .      +  .   \n\n                                                                    8  \\\nid                                                                      \nENSG00000000003.13  gene_id \"ENSG00000000003.13\"; gene_type \"prote...   \nENSG00000000005.5   gene_id \"ENSG00000000005.5\"; gene_type \"protei...   \nENSG00000000419.11  gene_id \"ENSG00000000419.11\"; gene_type \"prote...   \nENSG00000000457.12  gene_id \"ENSG00000000457.12\"; gene_type \"prote...   \nENSG00000000460.15  gene_id \"ENSG00000000460.15\"; gene_type \"prote...   \n...                                                               ...   \nENSGR0000275287.3   gene_id \"ENSGR0000275287.3\"; gene_type \"misc_R...   \nENSGR0000276543.3   gene_id \"ENSGR0000276543.3\"; gene_type \"miRNA\"...   \nENSGR0000277120.3   gene_id \"ENSGR0000277120.3\"; gene_type \"miRNA\"...   \nENSGR0000280767.1   gene_id \"ENSGR0000280767.1\"; gene_type \"lincRN...   \nENSGR0000281849.1   gene_id \"ENSGR0000281849.1\"; gene_type \"antise...   \n\n                              type           name  \nid                                                 \nENSG00000000003.13  protein_coding         TSPAN6  \nENSG00000000005.5   protein_coding           TNMD  \nENSG00000000419.11  protein_coding           DPM1  \nENSG00000000457.12  protein_coding          SCYL3  \nENSG00000000460.15  protein_coding       C1orf112  \n...                            ...            ...  \nENSGR0000275287.3         misc_RNA    Metazoa_SRP  \nENSGR0000276543.3            miRNA     AJ271736.1  \nENSGR0000277120.3            miRNA        MIR6089  \nENSGR0000280767.1          lincRNA  RP13-465B17.5  \nENSGR0000281849.1        antisense  RP13-465B17.4  \n\n[60483 rows x 11 columns]",
      "text/html": "<div>\n<style scoped>\n    .dataframe tbody tr th:only-of-type {\n        vertical-align: middle;\n    }\n\n    .dataframe tbody tr th {\n        vertical-align: top;\n    }\n\n    .dataframe thead th {\n        text-align: right;\n    }\n</style>\n<table border=\"1\" class=\"dataframe\">\n  <thead>\n    <tr style=\"text-align: right;\">\n      <th></th>\n      <th>seqname</th>\n      <th>1</th>\n      <th>2</th>\n      <th>start</th>\n      <th>end</th>\n      <th>5</th>\n      <th>strand</th>\n      <th>7</th>\n      <th>8</th>\n      <th>type</th>\n      <th>name</th>\n    </tr>\n    <tr>\n      <th>id</th>\n      <th></th>\n      <th></th>\n      <th></th>\n      <th></th>\n      <th></th>\n      <th></th>\n      <th></th>\n      <th></th>\n      <th></th>\n      <th></th>\n      <th></th>\n    </tr>\n  </thead>\n  <tbody>\n    <tr>\n      <th>ENSG00000000003.13</th>\n      <td>chrX</td>\n      <td>HAVANA</td>\n      <td>gene</td>\n      <td>100627109</td>\n      <td>100639991</td>\n      <td>.</td>\n      <td>-</td>\n      <td>.</td>\n      <td>gene_id \"ENSG00000000003.13\"; gene_type \"prote...</td>\n      <td>protein_coding</td>\n      <td>TSPAN6</td>\n    </tr>\n    <tr>\n      <th>ENSG00000000005.5</th>\n      <td>chrX</td>\n      <td>HAVANA</td>\n      <td>gene</td>\n      <td>100584802</td>\n      <td>100599885</td>\n      <td>.</td>\n      <td>+</td>\n      <td>.</td>\n      <td>gene_id \"ENSG00000000005.5\"; gene_type \"protei...</td>\n      <td>protein_coding</td>\n      <td>TNMD</td>\n    </tr>\n    <tr>\n      <th>ENSG00000000419.11</th>\n      <td>chr20</td>\n      <td>HAVANA</td>\n      <td>gene</td>\n      <td>50934867</td>\n      <td>50958555</td>\n      <td>.</td>\n      <td>-</td>\n      <td>.</td>\n      <td>gene_id \"ENSG00000000419.11\"; gene_type \"prote...</td>\n      <td>protein_coding</td>\n      <td>DPM1</td>\n    </tr>\n    <tr>\n      <th>ENSG00000000457.12</th>\n      <td>chr1</td>\n      <td>HAVANA</td>\n      <td>gene</td>\n      <td>169849631</td>\n      <td>169894267</td>\n      <td>.</td>\n      <td>-</td>\n      <td>.</td>\n      <td>gene_id \"ENSG00000000457.12\"; gene_type \"prote...</td>\n      <td>protein_coding</td>\n      <td>SCYL3</td>\n    </tr>\n    <tr>\n      <th>ENSG00000000460.15</th>\n      <td>chr1</td>\n      <td>HAVANA</td>\n      <td>gene</td>\n      <td>169662007</td>\n      <td>169854080</td>\n      <td>.</td>\n      <td>+</td>\n      <td>.</td>\n      <td>gene_id \"ENSG00000000460.15\"; gene_type \"prote...</td>\n      <td>protein_coding</td>\n      <td>C1orf112</td>\n    </tr>\n    <tr>\n      <th>...</th>\n      <td>...</td>\n      <td>...</td>\n      <td>...</td>\n      <td>...</td>\n      <td>...</td>\n      <td>...</td>\n      <td>...</td>\n      <td>...</td>\n      <td>...</td>\n      <td>...</td>\n      <td>...</td>\n    </tr>\n    <tr>\n      <th>ENSGR0000275287.3</th>\n      <td>chrY</td>\n      <td>ENSEMBL</td>\n      <td>gene</td>\n      <td>388100</td>\n      <td>388389</td>\n      <td>.</td>\n      <td>-</td>\n      <td>.</td>\n      <td>gene_id \"ENSGR0000275287.3\"; gene_type \"misc_R...</td>\n      <td>misc_RNA</td>\n      <td>Metazoa_SRP</td>\n    </tr>\n    <tr>\n      <th>ENSGR0000276543.3</th>\n      <td>chrY</td>\n      <td>ENSEMBL</td>\n      <td>gene</td>\n      <td>57209151</td>\n      <td>57209218</td>\n      <td>.</td>\n      <td>+</td>\n      <td>.</td>\n      <td>gene_id \"ENSGR0000276543.3\"; gene_type \"miRNA\"...</td>\n      <td>miRNA</td>\n      <td>AJ271736.1</td>\n    </tr>\n    <tr>\n      <th>ENSGR0000277120.3</th>\n      <td>chrY</td>\n      <td>ENSEMBL</td>\n      <td>gene</td>\n      <td>2609191</td>\n      <td>2609254</td>\n      <td>.</td>\n      <td>+</td>\n      <td>.</td>\n      <td>gene_id \"ENSGR0000277120.3\"; gene_type \"miRNA\"...</td>\n      <td>miRNA</td>\n      <td>MIR6089</td>\n    </tr>\n    <tr>\n      <th>ENSGR0000280767.1</th>\n      <td>chrY</td>\n      <td>HAVANA</td>\n      <td>gene</td>\n      <td>419157</td>\n      <td>421980</td>\n      <td>.</td>\n      <td>+</td>\n      <td>.</td>\n      <td>gene_id \"ENSGR0000280767.1\"; gene_type \"lincRN...</td>\n      <td>lincRNA</td>\n      <td>RP13-465B17.5</td>\n    </tr>\n    <tr>\n      <th>ENSGR0000281849.1</th>\n      <td>chrY</td>\n      <td>HAVANA</td>\n      <td>gene</td>\n      <td>386980</td>\n      <td>405579</td>\n      <td>.</td>\n      <td>+</td>\n      <td>.</td>\n      <td>gene_id \"ENSGR0000281849.1\"; gene_type \"antise...</td>\n      <td>antisense</td>\n      <td>RP13-465B17.4</td>\n    </tr>\n  </tbody>\n</table>\n<p>60483 rows × 11 columns</p>\n</div>"
     },
     "metadata": {},
     "execution_count": 71
    }
   ],
   "source": [
    "df_gencode"
   ]
  },
  {
   "cell_type": "code",
   "execution_count": 17,
   "metadata": {},
   "outputs": [
    {
     "output_type": "execute_result",
     "data": {
      "text/plain": "True"
     },
     "metadata": {},
     "execution_count": 17
    }
   ],
   "source": [
    "df1 = pd.DataFrame({1: [10,11], 2: [20,21]}, index=['a','b'])\n",
    "df2 = pd.DataFrame({1: [11,10], 2: [21,20]}, index=['b','a'])\n",
    "df2.sort_index().equals(df1)"
   ]
  },
  {
   "cell_type": "code",
   "execution_count": 15,
   "metadata": {},
   "outputs": [
    {
     "output_type": "execute_result",
     "data": {
      "text/plain": "    1   2\na  10  20\nb  11  21",
      "text/html": "<div>\n<style scoped>\n    .dataframe tbody tr th:only-of-type {\n        vertical-align: middle;\n    }\n\n    .dataframe tbody tr th {\n        vertical-align: top;\n    }\n\n    .dataframe thead th {\n        text-align: right;\n    }\n</style>\n<table border=\"1\" class=\"dataframe\">\n  <thead>\n    <tr style=\"text-align: right;\">\n      <th></th>\n      <th>1</th>\n      <th>2</th>\n    </tr>\n  </thead>\n  <tbody>\n    <tr>\n      <th>a</th>\n      <td>10</td>\n      <td>20</td>\n    </tr>\n    <tr>\n      <th>b</th>\n      <td>11</td>\n      <td>21</td>\n    </tr>\n  </tbody>\n</table>\n</div>"
     },
     "metadata": {},
     "execution_count": 15
    }
   ],
   "source": [
    "df2.sort_index()"
   ]
  },
  {
   "cell_type": "code",
   "execution_count": 47,
   "metadata": {},
   "outputs": [],
   "source": [
    "df_gencode['id'] = df_gencode.apply(lambda x: x[8].split()[1].split('\\\"')[1], axis=1)\n",
    "df_gencode['type'] = df_gencode.apply(lambda x: x[8].split()[3].split('\\\"')[1], axis=1)\n",
    "df_gencode['name'] = df_gencode.apply(lambda x: x[8].split()[7].split('\\\"')[1], axis=1)\n",
    "df_gencode = df_gencode.rename({3: 'start', 4: 'stop'}, axis='columns')\n",
    "df_gencode = df_gencode.set_index('id')\n",
    "df_gencode = df_gencode.sort_index()"
   ]
  },
  {
   "cell_type": "code",
   "execution_count": 48,
   "metadata": {},
   "outputs": [
    {
     "output_type": "execute_result",
     "data": {
      "text/plain": "                        0        1     2      start       stop  5  6  7  \\\nid                                                                        \nENSG00000000003.13   chrX   HAVANA  gene  100627109  100639991  .  -  .   \nENSG00000000005.5    chrX   HAVANA  gene  100584802  100599885  .  +  .   \nENSG00000000419.11  chr20   HAVANA  gene   50934867   50958555  .  -  .   \nENSG00000000457.12   chr1   HAVANA  gene  169849631  169894267  .  -  .   \nENSG00000000460.15   chr1   HAVANA  gene  169662007  169854080  .  +  .   \n...                   ...      ...   ...        ...        ... .. .. ..   \nENSGR0000275287.3    chrY  ENSEMBL  gene     388100     388389  .  -  .   \nENSGR0000276543.3    chrY  ENSEMBL  gene   57209151   57209218  .  +  .   \nENSGR0000277120.3    chrY  ENSEMBL  gene    2609191    2609254  .  +  .   \nENSGR0000280767.1    chrY   HAVANA  gene     419157     421980  .  +  .   \nENSGR0000281849.1    chrY   HAVANA  gene     386980     405579  .  +  .   \n\n                                                                    8  \\\nid                                                                      \nENSG00000000003.13  gene_id \"ENSG00000000003.13\"; gene_type \"prote...   \nENSG00000000005.5   gene_id \"ENSG00000000005.5\"; gene_type \"protei...   \nENSG00000000419.11  gene_id \"ENSG00000000419.11\"; gene_type \"prote...   \nENSG00000000457.12  gene_id \"ENSG00000000457.12\"; gene_type \"prote...   \nENSG00000000460.15  gene_id \"ENSG00000000460.15\"; gene_type \"prote...   \n...                                                               ...   \nENSGR0000275287.3   gene_id \"ENSGR0000275287.3\"; gene_type \"misc_R...   \nENSGR0000276543.3   gene_id \"ENSGR0000276543.3\"; gene_type \"miRNA\"...   \nENSGR0000277120.3   gene_id \"ENSGR0000277120.3\"; gene_type \"miRNA\"...   \nENSGR0000280767.1   gene_id \"ENSGR0000280767.1\"; gene_type \"lincRN...   \nENSGR0000281849.1   gene_id \"ENSGR0000281849.1\"; gene_type \"antise...   \n\n                              type           name  \nid                                                 \nENSG00000000003.13  protein_coding         TSPAN6  \nENSG00000000005.5   protein_coding           TNMD  \nENSG00000000419.11  protein_coding           DPM1  \nENSG00000000457.12  protein_coding          SCYL3  \nENSG00000000460.15  protein_coding       C1orf112  \n...                            ...            ...  \nENSGR0000275287.3         misc_RNA    Metazoa_SRP  \nENSGR0000276543.3            miRNA     AJ271736.1  \nENSGR0000277120.3            miRNA        MIR6089  \nENSGR0000280767.1          lincRNA  RP13-465B17.5  \nENSGR0000281849.1        antisense  RP13-465B17.4  \n\n[60483 rows x 11 columns]",
      "text/html": "<div>\n<style scoped>\n    .dataframe tbody tr th:only-of-type {\n        vertical-align: middle;\n    }\n\n    .dataframe tbody tr th {\n        vertical-align: top;\n    }\n\n    .dataframe thead th {\n        text-align: right;\n    }\n</style>\n<table border=\"1\" class=\"dataframe\">\n  <thead>\n    <tr style=\"text-align: right;\">\n      <th></th>\n      <th>0</th>\n      <th>1</th>\n      <th>2</th>\n      <th>start</th>\n      <th>stop</th>\n      <th>5</th>\n      <th>6</th>\n      <th>7</th>\n      <th>8</th>\n      <th>type</th>\n      <th>name</th>\n    </tr>\n    <tr>\n      <th>id</th>\n      <th></th>\n      <th></th>\n      <th></th>\n      <th></th>\n      <th></th>\n      <th></th>\n      <th></th>\n      <th></th>\n      <th></th>\n      <th></th>\n      <th></th>\n    </tr>\n  </thead>\n  <tbody>\n    <tr>\n      <th>ENSG00000000003.13</th>\n      <td>chrX</td>\n      <td>HAVANA</td>\n      <td>gene</td>\n      <td>100627109</td>\n      <td>100639991</td>\n      <td>.</td>\n      <td>-</td>\n      <td>.</td>\n      <td>gene_id \"ENSG00000000003.13\"; gene_type \"prote...</td>\n      <td>protein_coding</td>\n      <td>TSPAN6</td>\n    </tr>\n    <tr>\n      <th>ENSG00000000005.5</th>\n      <td>chrX</td>\n      <td>HAVANA</td>\n      <td>gene</td>\n      <td>100584802</td>\n      <td>100599885</td>\n      <td>.</td>\n      <td>+</td>\n      <td>.</td>\n      <td>gene_id \"ENSG00000000005.5\"; gene_type \"protei...</td>\n      <td>protein_coding</td>\n      <td>TNMD</td>\n    </tr>\n    <tr>\n      <th>ENSG00000000419.11</th>\n      <td>chr20</td>\n      <td>HAVANA</td>\n      <td>gene</td>\n      <td>50934867</td>\n      <td>50958555</td>\n      <td>.</td>\n      <td>-</td>\n      <td>.</td>\n      <td>gene_id \"ENSG00000000419.11\"; gene_type \"prote...</td>\n      <td>protein_coding</td>\n      <td>DPM1</td>\n    </tr>\n    <tr>\n      <th>ENSG00000000457.12</th>\n      <td>chr1</td>\n      <td>HAVANA</td>\n      <td>gene</td>\n      <td>169849631</td>\n      <td>169894267</td>\n      <td>.</td>\n      <td>-</td>\n      <td>.</td>\n      <td>gene_id \"ENSG00000000457.12\"; gene_type \"prote...</td>\n      <td>protein_coding</td>\n      <td>SCYL3</td>\n    </tr>\n    <tr>\n      <th>ENSG00000000460.15</th>\n      <td>chr1</td>\n      <td>HAVANA</td>\n      <td>gene</td>\n      <td>169662007</td>\n      <td>169854080</td>\n      <td>.</td>\n      <td>+</td>\n      <td>.</td>\n      <td>gene_id \"ENSG00000000460.15\"; gene_type \"prote...</td>\n      <td>protein_coding</td>\n      <td>C1orf112</td>\n    </tr>\n    <tr>\n      <th>...</th>\n      <td>...</td>\n      <td>...</td>\n      <td>...</td>\n      <td>...</td>\n      <td>...</td>\n      <td>...</td>\n      <td>...</td>\n      <td>...</td>\n      <td>...</td>\n      <td>...</td>\n      <td>...</td>\n    </tr>\n    <tr>\n      <th>ENSGR0000275287.3</th>\n      <td>chrY</td>\n      <td>ENSEMBL</td>\n      <td>gene</td>\n      <td>388100</td>\n      <td>388389</td>\n      <td>.</td>\n      <td>-</td>\n      <td>.</td>\n      <td>gene_id \"ENSGR0000275287.3\"; gene_type \"misc_R...</td>\n      <td>misc_RNA</td>\n      <td>Metazoa_SRP</td>\n    </tr>\n    <tr>\n      <th>ENSGR0000276543.3</th>\n      <td>chrY</td>\n      <td>ENSEMBL</td>\n      <td>gene</td>\n      <td>57209151</td>\n      <td>57209218</td>\n      <td>.</td>\n      <td>+</td>\n      <td>.</td>\n      <td>gene_id \"ENSGR0000276543.3\"; gene_type \"miRNA\"...</td>\n      <td>miRNA</td>\n      <td>AJ271736.1</td>\n    </tr>\n    <tr>\n      <th>ENSGR0000277120.3</th>\n      <td>chrY</td>\n      <td>ENSEMBL</td>\n      <td>gene</td>\n      <td>2609191</td>\n      <td>2609254</td>\n      <td>.</td>\n      <td>+</td>\n      <td>.</td>\n      <td>gene_id \"ENSGR0000277120.3\"; gene_type \"miRNA\"...</td>\n      <td>miRNA</td>\n      <td>MIR6089</td>\n    </tr>\n    <tr>\n      <th>ENSGR0000280767.1</th>\n      <td>chrY</td>\n      <td>HAVANA</td>\n      <td>gene</td>\n      <td>419157</td>\n      <td>421980</td>\n      <td>.</td>\n      <td>+</td>\n      <td>.</td>\n      <td>gene_id \"ENSGR0000280767.1\"; gene_type \"lincRN...</td>\n      <td>lincRNA</td>\n      <td>RP13-465B17.5</td>\n    </tr>\n    <tr>\n      <th>ENSGR0000281849.1</th>\n      <td>chrY</td>\n      <td>HAVANA</td>\n      <td>gene</td>\n      <td>386980</td>\n      <td>405579</td>\n      <td>.</td>\n      <td>+</td>\n      <td>.</td>\n      <td>gene_id \"ENSGR0000281849.1\"; gene_type \"antise...</td>\n      <td>antisense</td>\n      <td>RP13-465B17.4</td>\n    </tr>\n  </tbody>\n</table>\n<p>60483 rows × 11 columns</p>\n</div>"
     },
     "metadata": {},
     "execution_count": 48
    }
   ],
   "source": [
    "df_gencode"
   ]
  },
  {
   "cell_type": "code",
   "execution_count": null,
   "metadata": {},
   "outputs": [],
   "source": []
  }
 ],
 "metadata": {
  "language_info": {
   "codemirror_mode": {
    "name": "ipython",
    "version": 3
   },
   "file_extension": ".py",
   "mimetype": "text/x-python",
   "name": "python",
   "nbconvert_exporter": "python",
   "pygments_lexer": "ipython3",
   "version": "3.6.10-final"
  },
  "orig_nbformat": 2,
  "kernelspec": {
   "name": "python361064bitbioinfoconda52065af5c2fa481f9826820ca4acba48",
   "display_name": "Python 3.6.10 64-bit ('bioinfo': conda)"
  }
 },
 "nbformat": 4,
 "nbformat_minor": 2
}