{
 "cells": [
  {
   "cell_type": "markdown",
   "metadata": {},
   "source": [
    "## (0) Test Python functionality"
   ]
  },
  {
   "cell_type": "code",
   "execution_count": 1,
   "metadata": {},
   "outputs": [
    {
     "output_type": "stream",
     "name": "stdout",
     "text": "hey 15\nposix.uname_result(sysname='Linux', nodename='cn3288', release='3.10.0-862.14.4.el7.x86_64', version='#1 SMP Wed Sep 26 15:12:11 UTC 2018', machine='x86_64')\n"
    }
   ],
   "source": [
    "print('hey', 9+6)\n",
    "import os\n",
    "print(os.uname())"
   ]
  },
  {
   "cell_type": "markdown",
   "metadata": {},
   "source": [
    "# Main workflow"
   ]
  },
  {
   "cell_type": "markdown",
   "metadata": {},
   "source": [
    "## (1) Set the project directory and load the main Python library"
   ]
  },
  {
   "cell_type": "code",
   "execution_count": 1,
   "metadata": {},
   "outputs": [],
   "source": [
    "project_dir = '/data/BIDS-HPC/private/projects/dmi'\n",
    "import os, sys\n",
    "checkout_dir = os.path.join(project_dir, 'checkout')\n",
    "if checkout_dir not in sys.path:\n",
    "    sys.path.append(checkout_dir)\n",
    "import target_class_lib as tc"
   ]
  },
  {
   "cell_type": "markdown",
   "metadata": {},
   "source": [
    "## (2) Return a list of symbols and corresponding IDs identified using the symbol lookup REST function of Ensembl given the symbols in a text file called to_lookup.txt"
   ]
  },
  {
   "cell_type": "code",
   "execution_count": 2,
   "metadata": {},
   "outputs": [
    {
     "output_type": "stream",
     "name": "stdout",
     "text": "[1] Given 1000 symbols, we identified 311 of them\n[2] Given 1000 symbols, we identified 477 of them\n[3] Given 1000 symbols, we identified 457 of them\n[4] Given 1000 symbols, we identified 462 of them\n[5] Given 1000 symbols, we identified 470 of them\n[6] Given 1000 symbols, we identified 424 of them\n[7] Given 1000 symbols, we identified 180 of them\n[8] Given 1000 symbols, we identified 82 of them\n[9] Given 1000 symbols, we identified 0 of them\n[10] Given 1000 symbols, we identified 22 of them\n[11] Given 1000 symbols, we identified 17 of them\n[12] Given 1000 symbols, we identified 0 of them\n[13] Given 1000 symbols, we identified 10 of them\n[14] Given 1000 symbols, we identified 0 of them\n[15] Given 1000 symbols, we identified 0 of them\n[16] Given 1000 symbols, we identified 0 of them\n[17] Given 1000 symbols, we identified 0 of them\n[18] Given 1000 symbols, we identified 0 of them\n[19] Given 1000 symbols, we identified 0 of them\n[20] Given 1000 symbols, we identified 0 of them\n[21] Given 1000 symbols, we identified 0 of them\n[22] Given 1000 symbols, we identified 0 of them\n[23] Given 1000 symbols, we identified 0 of them\n[24] Given 1000 symbols, we identified 0 of them\n[25] Given 1000 symbols, we identified 0 of them\n[26] Given 1000 symbols, we identified 0 of them\n[27] Given 1000 symbols, we identified 0 of them\n[28] Given 695 symbols, we identified 36 of them\n"
    }
   ],
   "source": [
    "max_post_size = 1000\n",
    "res = tc.get_lookup_list(project_dir, max_post_size=max_post_size)"
   ]
  },
  {
   "cell_type": "markdown",
   "metadata": {},
   "source": [
    "## (3) Load the lookup table, add the new entries to it, and save it to disk"
   ]
  },
  {
   "cell_type": "code",
   "execution_count": 34,
   "metadata": {},
   "outputs": [
    {
     "output_type": "stream",
     "name": "stdout",
     "text": "2948 lookup pairs have been recorded; 27695 null before, 24747 null after\nCreating pickle file /data/BIDS-HPC/private/projects/dmi/data/lookup_table_after_symbol_lookup.pkl...\n"
    }
   ],
   "source": [
    "# Import relevant modules\n",
    "import pandas as pd\n",
    "import numpy as np\n",
    "gmb_dir = '/data/BIDS-HPC/private/projects/gmb/checkout'\n",
    "if gmb_dir not in sys.path:\n",
    "    sys.path.append(gmb_dir)\n",
    "import time_cell_interaction_lib as tci # we need this to get the make_pickle() function\n",
    "\n",
    "# Load the first-pass of the global lookup table using Pandas\n",
    "lookup = pd.read_csv(os.path.join(project_dir,'data','partial_global_lookup_table.txt'), sep='\\t', names=['status','name','id'], index_col='name')\n",
    "\n",
    "# Count how many null IDs there are\n",
    "nnull_before = np.sum(pd.isnull(lookup.loc[:,'id']))\n",
    "\n",
    "# Use the list generated in Step (2) to add IDs to the lookup table\n",
    "for pair in res:\n",
    "    lookup.loc[pair[0],:] = ['lookup:', pair[1]]\n",
    "\n",
    "# Count how many null IDs there are\n",
    "nnull_after = np.sum(pd.isnull(lookup.loc[:,'id']))\n",
    "\n",
    "# Print how we improved the lookup table\n",
    "print('{} lookup pairs have been recorded; {} null before, {} null after'.format(len(res), nnull_before, nnull_after))\n",
    "\n",
    "# Save the new lookup table in the data directory\n",
    "tci.make_pickle(lookup, os.path.join(project_dir,'data'), 'lookup_table_after_symbol_lookup.pkl')"
   ]
  },
  {
   "cell_type": "markdown",
   "metadata": {},
   "source": [
    "# Scratch"
   ]
  },
  {
   "cell_type": "code",
   "execution_count": 35,
   "metadata": {},
   "outputs": [
    {
     "output_type": "stream",
     "name": "stdout",
     "text": "Reading pickle file /data/BIDS-HPC/private/projects/dmi/data/lookup_table_after_symbol_lookup.pkl...\n"
    }
   ],
   "source": [
    "bleh = tci.load_pickle(os.path.join(project_dir,'data'), 'lookup_table_after_symbol_lookup.pkl')"
   ]
  },
  {
   "cell_type": "code",
   "execution_count": 41,
   "metadata": {},
   "outputs": [
    {
     "output_type": "execute_result",
     "data": {
      "text/plain": "True"
     },
     "metadata": {},
     "execution_count": 41
    }
   ],
   "source": [
    "lookup.equals(bleh)"
   ]
  },
  {
   "cell_type": "code",
   "execution_count": 31,
   "metadata": {},
   "outputs": [
    {
     "output_type": "execute_result",
     "data": {
      "text/plain": "24747"
     },
     "metadata": {},
     "execution_count": 31
    }
   ],
   "source": [
    "np.sum(lookup.loc[:,'status'] == 'unmatched:')"
   ]
  },
  {
   "cell_type": "code",
   "execution_count": 13,
   "metadata": {},
   "outputs": [
    {
     "output_type": "execute_result",
     "data": {
      "text/plain": "                     status               id\nname                                        \nENSG00000000003     lookup:  ENSG00000000003\nENSG00000000005     lookup:  ENSG00000000005\nENSG00000000419     lookup:  ENSG00000000419\nENSG00000000457     lookup:  ENSG00000000457\nENSG00000000460     lookup:  ENSG00000000460\n...                     ...              ...\nZNRD1            unmatched:              NaN\nZNRD1-AS1        unmatched:              NaN\nZRSR1            unmatched:              NaN\nZSCAN5D          unmatched:              NaN\nZUFSP            unmatched:              NaN\n\n[128610 rows x 2 columns]",
      "text/html": "<div>\n<style scoped>\n    .dataframe tbody tr th:only-of-type {\n        vertical-align: middle;\n    }\n\n    .dataframe tbody tr th {\n        vertical-align: top;\n    }\n\n    .dataframe thead th {\n        text-align: right;\n    }\n</style>\n<table border=\"1\" class=\"dataframe\">\n  <thead>\n    <tr style=\"text-align: right;\">\n      <th></th>\n      <th>status</th>\n      <th>id</th>\n    </tr>\n    <tr>\n      <th>name</th>\n      <th></th>\n      <th></th>\n    </tr>\n  </thead>\n  <tbody>\n    <tr>\n      <th>ENSG00000000003</th>\n      <td>lookup:</td>\n      <td>ENSG00000000003</td>\n    </tr>\n    <tr>\n      <th>ENSG00000000005</th>\n      <td>lookup:</td>\n      <td>ENSG00000000005</td>\n    </tr>\n    <tr>\n      <th>ENSG00000000419</th>\n      <td>lookup:</td>\n      <td>ENSG00000000419</td>\n    </tr>\n    <tr>\n      <th>ENSG00000000457</th>\n      <td>lookup:</td>\n      <td>ENSG00000000457</td>\n    </tr>\n    <tr>\n      <th>ENSG00000000460</th>\n      <td>lookup:</td>\n      <td>ENSG00000000460</td>\n    </tr>\n    <tr>\n      <th>...</th>\n      <td>...</td>\n      <td>...</td>\n    </tr>\n    <tr>\n      <th>ZNRD1</th>\n      <td>unmatched:</td>\n      <td>NaN</td>\n    </tr>\n    <tr>\n      <th>ZNRD1-AS1</th>\n      <td>unmatched:</td>\n      <td>NaN</td>\n    </tr>\n    <tr>\n      <th>ZRSR1</th>\n      <td>unmatched:</td>\n      <td>NaN</td>\n    </tr>\n    <tr>\n      <th>ZSCAN5D</th>\n      <td>unmatched:</td>\n      <td>NaN</td>\n    </tr>\n    <tr>\n      <th>ZUFSP</th>\n      <td>unmatched:</td>\n      <td>NaN</td>\n    </tr>\n  </tbody>\n</table>\n<p>128610 rows × 2 columns</p>\n</div>"
     },
     "metadata": {},
     "execution_count": 13
    }
   ],
   "source": [
    "lookup"
   ]
  },
  {
   "cell_type": "code",
   "execution_count": 27,
   "metadata": {},
   "outputs": [
    {
     "output_type": "stream",
     "name": "stdout",
     "text": "27695\n"
    }
   ],
   "source": [
    "print(np.sum(pd.isnull(lookup.loc[:,'id'])))"
   ]
  },
  {
   "cell_type": "code",
   "execution_count": 32,
   "metadata": {},
   "outputs": [
    {
     "output_type": "execute_result",
     "data": {
      "text/plain": "status            lookup:\nid        ENSG00000253801\nName: AC010376.1, dtype: object"
     },
     "metadata": {},
     "execution_count": 32
    }
   ],
   "source": [
    "#lookup.loc['ENSG00000000457','id'] = 'andrew'\n",
    "lookup.loc['AC010376.1',:]"
   ]
  },
  {
   "cell_type": "code",
   "execution_count": 11,
   "metadata": {},
   "outputs": [
    {
     "output_type": "error",
     "ename": "KeyError",
     "evalue": "'AC009161.1'",
     "traceback": [
      "\u001b[0;31m---------------------------------------------------------------------------\u001b[0m",
      "\u001b[0;31mKeyError\u001b[0m                                  Traceback (most recent call last)",
      "\u001b[0;32m/data/weismanal/miniconda3/envs/myenv/lib/python3.7/site-packages/pandas/core/indexes/base.py\u001b[0m in \u001b[0;36mget_loc\u001b[0;34m(self, key, method, tolerance)\u001b[0m\n\u001b[1;32m   2645\u001b[0m             \u001b[0;32mtry\u001b[0m\u001b[0;34m:\u001b[0m\u001b[0;34m\u001b[0m\u001b[0;34m\u001b[0m\u001b[0m\n\u001b[0;32m-> 2646\u001b[0;31m                 \u001b[0;32mreturn\u001b[0m \u001b[0mself\u001b[0m\u001b[0;34m.\u001b[0m\u001b[0m_engine\u001b[0m\u001b[0;34m.\u001b[0m\u001b[0mget_loc\u001b[0m\u001b[0;34m(\u001b[0m\u001b[0mkey\u001b[0m\u001b[0;34m)\u001b[0m\u001b[0;34m\u001b[0m\u001b[0;34m\u001b[0m\u001b[0m\n\u001b[0m\u001b[1;32m   2647\u001b[0m             \u001b[0;32mexcept\u001b[0m \u001b[0mKeyError\u001b[0m\u001b[0;34m:\u001b[0m\u001b[0;34m\u001b[0m\u001b[0;34m\u001b[0m\u001b[0m\n",
      "\u001b[0;32mpandas/_libs/index.pyx\u001b[0m in \u001b[0;36mpandas._libs.index.IndexEngine.get_loc\u001b[0;34m()\u001b[0m\n",
      "\u001b[0;32mpandas/_libs/index.pyx\u001b[0m in \u001b[0;36mpandas._libs.index.IndexEngine.get_loc\u001b[0;34m()\u001b[0m\n",
      "\u001b[0;32mpandas/_libs/index_class_helper.pxi\u001b[0m in \u001b[0;36mpandas._libs.index.Int64Engine._check_type\u001b[0;34m()\u001b[0m\n",
      "\u001b[0;31mKeyError\u001b[0m: 'AC009161.1'",
      "\nDuring handling of the above exception, another exception occurred:\n",
      "\u001b[0;31mKeyError\u001b[0m                                  Traceback (most recent call last)",
      "\u001b[0;32m<ipython-input-11-d6beed726867>\u001b[0m in \u001b[0;36m<module>\u001b[0;34m\u001b[0m\n\u001b[1;32m      2\u001b[0m \u001b[0;31m#np.sum(lookup['id'] == '')\u001b[0m\u001b[0;34m\u001b[0m\u001b[0;34m\u001b[0m\u001b[0;34m\u001b[0m\u001b[0m\n\u001b[1;32m      3\u001b[0m \u001b[0;31m#np.sum(pd.isnull(lookup.loc[:,'id']))\u001b[0m\u001b[0;34m\u001b[0m\u001b[0;34m\u001b[0m\u001b[0;34m\u001b[0m\u001b[0m\n\u001b[0;32m----> 4\u001b[0;31m \u001b[0mlookup\u001b[0m\u001b[0;34m.\u001b[0m\u001b[0mloc\u001b[0m\u001b[0;34m[\u001b[0m\u001b[0;34m'AC009161.1'\u001b[0m\u001b[0;34m]\u001b[0m\u001b[0;34m\u001b[0m\u001b[0;34m\u001b[0m\u001b[0m\n\u001b[0m",
      "\u001b[0;32m/data/weismanal/miniconda3/envs/myenv/lib/python3.7/site-packages/pandas/core/indexing.py\u001b[0m in \u001b[0;36m__getitem__\u001b[0;34m(self, key)\u001b[0m\n\u001b[1;32m   1766\u001b[0m \u001b[0;34m\u001b[0m\u001b[0m\n\u001b[1;32m   1767\u001b[0m             \u001b[0mmaybe_callable\u001b[0m \u001b[0;34m=\u001b[0m \u001b[0mcom\u001b[0m\u001b[0;34m.\u001b[0m\u001b[0mapply_if_callable\u001b[0m\u001b[0;34m(\u001b[0m\u001b[0mkey\u001b[0m\u001b[0;34m,\u001b[0m \u001b[0mself\u001b[0m\u001b[0;34m.\u001b[0m\u001b[0mobj\u001b[0m\u001b[0;34m)\u001b[0m\u001b[0;34m\u001b[0m\u001b[0;34m\u001b[0m\u001b[0m\n\u001b[0;32m-> 1768\u001b[0;31m             \u001b[0;32mreturn\u001b[0m \u001b[0mself\u001b[0m\u001b[0;34m.\u001b[0m\u001b[0m_getitem_axis\u001b[0m\u001b[0;34m(\u001b[0m\u001b[0mmaybe_callable\u001b[0m\u001b[0;34m,\u001b[0m \u001b[0maxis\u001b[0m\u001b[0;34m=\u001b[0m\u001b[0maxis\u001b[0m\u001b[0;34m)\u001b[0m\u001b[0;34m\u001b[0m\u001b[0;34m\u001b[0m\u001b[0m\n\u001b[0m\u001b[1;32m   1769\u001b[0m \u001b[0;34m\u001b[0m\u001b[0m\n\u001b[1;32m   1770\u001b[0m     \u001b[0;32mdef\u001b[0m \u001b[0m_is_scalar_access\u001b[0m\u001b[0;34m(\u001b[0m\u001b[0mself\u001b[0m\u001b[0;34m,\u001b[0m \u001b[0mkey\u001b[0m\u001b[0;34m:\u001b[0m \u001b[0mTuple\u001b[0m\u001b[0;34m)\u001b[0m\u001b[0;34m:\u001b[0m\u001b[0;34m\u001b[0m\u001b[0;34m\u001b[0m\u001b[0m\n",
      "\u001b[0;32m/data/weismanal/miniconda3/envs/myenv/lib/python3.7/site-packages/pandas/core/indexing.py\u001b[0m in \u001b[0;36m_getitem_axis\u001b[0;34m(self, key, axis)\u001b[0m\n\u001b[1;32m   1963\u001b[0m         \u001b[0;31m# fall thru to straight lookup\u001b[0m\u001b[0;34m\u001b[0m\u001b[0;34m\u001b[0m\u001b[0;34m\u001b[0m\u001b[0m\n\u001b[1;32m   1964\u001b[0m         \u001b[0mself\u001b[0m\u001b[0;34m.\u001b[0m\u001b[0m_validate_key\u001b[0m\u001b[0;34m(\u001b[0m\u001b[0mkey\u001b[0m\u001b[0;34m,\u001b[0m \u001b[0maxis\u001b[0m\u001b[0;34m)\u001b[0m\u001b[0;34m\u001b[0m\u001b[0;34m\u001b[0m\u001b[0m\n\u001b[0;32m-> 1965\u001b[0;31m         \u001b[0;32mreturn\u001b[0m \u001b[0mself\u001b[0m\u001b[0;34m.\u001b[0m\u001b[0m_get_label\u001b[0m\u001b[0;34m(\u001b[0m\u001b[0mkey\u001b[0m\u001b[0;34m,\u001b[0m \u001b[0maxis\u001b[0m\u001b[0;34m=\u001b[0m\u001b[0maxis\u001b[0m\u001b[0;34m)\u001b[0m\u001b[0;34m\u001b[0m\u001b[0;34m\u001b[0m\u001b[0m\n\u001b[0m\u001b[1;32m   1966\u001b[0m \u001b[0;34m\u001b[0m\u001b[0m\n\u001b[1;32m   1967\u001b[0m \u001b[0;34m\u001b[0m\u001b[0m\n",
      "\u001b[0;32m/data/weismanal/miniconda3/envs/myenv/lib/python3.7/site-packages/pandas/core/indexing.py\u001b[0m in \u001b[0;36m_get_label\u001b[0;34m(self, label, axis)\u001b[0m\n\u001b[1;32m    623\u001b[0m             \u001b[0;32mraise\u001b[0m \u001b[0mIndexingError\u001b[0m\u001b[0;34m(\u001b[0m\u001b[0;34m\"no slices here, handle elsewhere\"\u001b[0m\u001b[0;34m)\u001b[0m\u001b[0;34m\u001b[0m\u001b[0;34m\u001b[0m\u001b[0m\n\u001b[1;32m    624\u001b[0m \u001b[0;34m\u001b[0m\u001b[0m\n\u001b[0;32m--> 625\u001b[0;31m         \u001b[0;32mreturn\u001b[0m \u001b[0mself\u001b[0m\u001b[0;34m.\u001b[0m\u001b[0mobj\u001b[0m\u001b[0;34m.\u001b[0m\u001b[0m_xs\u001b[0m\u001b[0;34m(\u001b[0m\u001b[0mlabel\u001b[0m\u001b[0;34m,\u001b[0m \u001b[0maxis\u001b[0m\u001b[0;34m=\u001b[0m\u001b[0maxis\u001b[0m\u001b[0;34m)\u001b[0m\u001b[0;34m\u001b[0m\u001b[0;34m\u001b[0m\u001b[0m\n\u001b[0m\u001b[1;32m    626\u001b[0m \u001b[0;34m\u001b[0m\u001b[0m\n\u001b[1;32m    627\u001b[0m     \u001b[0;32mdef\u001b[0m \u001b[0m_get_loc\u001b[0m\u001b[0;34m(\u001b[0m\u001b[0mself\u001b[0m\u001b[0;34m,\u001b[0m \u001b[0mkey\u001b[0m\u001b[0;34m:\u001b[0m \u001b[0mint\u001b[0m\u001b[0;34m,\u001b[0m \u001b[0maxis\u001b[0m\u001b[0;34m:\u001b[0m \u001b[0mint\u001b[0m\u001b[0;34m)\u001b[0m\u001b[0;34m:\u001b[0m\u001b[0;34m\u001b[0m\u001b[0;34m\u001b[0m\u001b[0m\n",
      "\u001b[0;32m/data/weismanal/miniconda3/envs/myenv/lib/python3.7/site-packages/pandas/core/generic.py\u001b[0m in \u001b[0;36mxs\u001b[0;34m(self, key, axis, level, drop_level)\u001b[0m\n\u001b[1;32m   3535\u001b[0m             \u001b[0mloc\u001b[0m\u001b[0;34m,\u001b[0m \u001b[0mnew_index\u001b[0m \u001b[0;34m=\u001b[0m \u001b[0mself\u001b[0m\u001b[0;34m.\u001b[0m\u001b[0mindex\u001b[0m\u001b[0;34m.\u001b[0m\u001b[0mget_loc_level\u001b[0m\u001b[0;34m(\u001b[0m\u001b[0mkey\u001b[0m\u001b[0;34m,\u001b[0m \u001b[0mdrop_level\u001b[0m\u001b[0;34m=\u001b[0m\u001b[0mdrop_level\u001b[0m\u001b[0;34m)\u001b[0m\u001b[0;34m\u001b[0m\u001b[0;34m\u001b[0m\u001b[0m\n\u001b[1;32m   3536\u001b[0m         \u001b[0;32melse\u001b[0m\u001b[0;34m:\u001b[0m\u001b[0;34m\u001b[0m\u001b[0;34m\u001b[0m\u001b[0m\n\u001b[0;32m-> 3537\u001b[0;31m             \u001b[0mloc\u001b[0m \u001b[0;34m=\u001b[0m \u001b[0mself\u001b[0m\u001b[0;34m.\u001b[0m\u001b[0mindex\u001b[0m\u001b[0;34m.\u001b[0m\u001b[0mget_loc\u001b[0m\u001b[0;34m(\u001b[0m\u001b[0mkey\u001b[0m\u001b[0;34m)\u001b[0m\u001b[0;34m\u001b[0m\u001b[0;34m\u001b[0m\u001b[0m\n\u001b[0m\u001b[1;32m   3538\u001b[0m \u001b[0;34m\u001b[0m\u001b[0m\n\u001b[1;32m   3539\u001b[0m             \u001b[0;32mif\u001b[0m \u001b[0misinstance\u001b[0m\u001b[0;34m(\u001b[0m\u001b[0mloc\u001b[0m\u001b[0;34m,\u001b[0m \u001b[0mnp\u001b[0m\u001b[0;34m.\u001b[0m\u001b[0mndarray\u001b[0m\u001b[0;34m)\u001b[0m\u001b[0;34m:\u001b[0m\u001b[0;34m\u001b[0m\u001b[0;34m\u001b[0m\u001b[0m\n",
      "\u001b[0;32m/data/weismanal/miniconda3/envs/myenv/lib/python3.7/site-packages/pandas/core/indexes/range.py\u001b[0m in \u001b[0;36mget_loc\u001b[0;34m(self, key, method, tolerance)\u001b[0m\n\u001b[1;32m    351\u001b[0m             \u001b[0;32mexcept\u001b[0m \u001b[0mValueError\u001b[0m\u001b[0;34m:\u001b[0m\u001b[0;34m\u001b[0m\u001b[0;34m\u001b[0m\u001b[0m\n\u001b[1;32m    352\u001b[0m                 \u001b[0;32mraise\u001b[0m \u001b[0mKeyError\u001b[0m\u001b[0;34m(\u001b[0m\u001b[0mkey\u001b[0m\u001b[0;34m)\u001b[0m\u001b[0;34m\u001b[0m\u001b[0;34m\u001b[0m\u001b[0m\n\u001b[0;32m--> 353\u001b[0;31m         \u001b[0;32mreturn\u001b[0m \u001b[0msuper\u001b[0m\u001b[0;34m(\u001b[0m\u001b[0;34m)\u001b[0m\u001b[0;34m.\u001b[0m\u001b[0mget_loc\u001b[0m\u001b[0;34m(\u001b[0m\u001b[0mkey\u001b[0m\u001b[0;34m,\u001b[0m \u001b[0mmethod\u001b[0m\u001b[0;34m=\u001b[0m\u001b[0mmethod\u001b[0m\u001b[0;34m,\u001b[0m \u001b[0mtolerance\u001b[0m\u001b[0;34m=\u001b[0m\u001b[0mtolerance\u001b[0m\u001b[0;34m)\u001b[0m\u001b[0;34m\u001b[0m\u001b[0;34m\u001b[0m\u001b[0m\n\u001b[0m\u001b[1;32m    354\u001b[0m \u001b[0;34m\u001b[0m\u001b[0m\n\u001b[1;32m    355\u001b[0m     \u001b[0;34m@\u001b[0m\u001b[0mAppender\u001b[0m\u001b[0;34m(\u001b[0m\u001b[0m_index_shared_docs\u001b[0m\u001b[0;34m[\u001b[0m\u001b[0;34m\"get_indexer\"\u001b[0m\u001b[0;34m]\u001b[0m\u001b[0;34m)\u001b[0m\u001b[0;34m\u001b[0m\u001b[0;34m\u001b[0m\u001b[0m\n",
      "\u001b[0;32m/data/weismanal/miniconda3/envs/myenv/lib/python3.7/site-packages/pandas/core/indexes/base.py\u001b[0m in \u001b[0;36mget_loc\u001b[0;34m(self, key, method, tolerance)\u001b[0m\n\u001b[1;32m   2646\u001b[0m                 \u001b[0;32mreturn\u001b[0m \u001b[0mself\u001b[0m\u001b[0;34m.\u001b[0m\u001b[0m_engine\u001b[0m\u001b[0;34m.\u001b[0m\u001b[0mget_loc\u001b[0m\u001b[0;34m(\u001b[0m\u001b[0mkey\u001b[0m\u001b[0;34m)\u001b[0m\u001b[0;34m\u001b[0m\u001b[0;34m\u001b[0m\u001b[0m\n\u001b[1;32m   2647\u001b[0m             \u001b[0;32mexcept\u001b[0m \u001b[0mKeyError\u001b[0m\u001b[0;34m:\u001b[0m\u001b[0;34m\u001b[0m\u001b[0;34m\u001b[0m\u001b[0m\n\u001b[0;32m-> 2648\u001b[0;31m                 \u001b[0;32mreturn\u001b[0m \u001b[0mself\u001b[0m\u001b[0;34m.\u001b[0m\u001b[0m_engine\u001b[0m\u001b[0;34m.\u001b[0m\u001b[0mget_loc\u001b[0m\u001b[0;34m(\u001b[0m\u001b[0mself\u001b[0m\u001b[0;34m.\u001b[0m\u001b[0m_maybe_cast_indexer\u001b[0m\u001b[0;34m(\u001b[0m\u001b[0mkey\u001b[0m\u001b[0;34m)\u001b[0m\u001b[0;34m)\u001b[0m\u001b[0;34m\u001b[0m\u001b[0;34m\u001b[0m\u001b[0m\n\u001b[0m\u001b[1;32m   2649\u001b[0m         \u001b[0mindexer\u001b[0m \u001b[0;34m=\u001b[0m \u001b[0mself\u001b[0m\u001b[0;34m.\u001b[0m\u001b[0mget_indexer\u001b[0m\u001b[0;34m(\u001b[0m\u001b[0;34m[\u001b[0m\u001b[0mkey\u001b[0m\u001b[0;34m]\u001b[0m\u001b[0;34m,\u001b[0m \u001b[0mmethod\u001b[0m\u001b[0;34m=\u001b[0m\u001b[0mmethod\u001b[0m\u001b[0;34m,\u001b[0m \u001b[0mtolerance\u001b[0m\u001b[0;34m=\u001b[0m\u001b[0mtolerance\u001b[0m\u001b[0;34m)\u001b[0m\u001b[0;34m\u001b[0m\u001b[0;34m\u001b[0m\u001b[0m\n\u001b[1;32m   2650\u001b[0m         \u001b[0;32mif\u001b[0m \u001b[0mindexer\u001b[0m\u001b[0;34m.\u001b[0m\u001b[0mndim\u001b[0m \u001b[0;34m>\u001b[0m \u001b[0;36m1\u001b[0m \u001b[0;32mor\u001b[0m \u001b[0mindexer\u001b[0m\u001b[0;34m.\u001b[0m\u001b[0msize\u001b[0m \u001b[0;34m>\u001b[0m \u001b[0;36m1\u001b[0m\u001b[0;34m:\u001b[0m\u001b[0;34m\u001b[0m\u001b[0;34m\u001b[0m\u001b[0m\n",
      "\u001b[0;32mpandas/_libs/index.pyx\u001b[0m in \u001b[0;36mpandas._libs.index.IndexEngine.get_loc\u001b[0;34m()\u001b[0m\n",
      "\u001b[0;32mpandas/_libs/index.pyx\u001b[0m in \u001b[0;36mpandas._libs.index.IndexEngine.get_loc\u001b[0;34m()\u001b[0m\n",
      "\u001b[0;32mpandas/_libs/index_class_helper.pxi\u001b[0m in \u001b[0;36mpandas._libs.index.Int64Engine._check_type\u001b[0;34m()\u001b[0m\n",
      "\u001b[0;31mKeyError\u001b[0m: 'AC009161.1'"
     ]
    }
   ],
   "source": [
    "import numpy as np\n",
    "#np.sum(lookup['id'] == '')\n",
    "#np.sum(pd.isnull(lookup.loc[:,'id']))\n",
    "lookup.loc['AC009161.1']"
   ]
  },
  {
   "cell_type": "code",
   "execution_count": 3,
   "metadata": {},
   "outputs": [
    {
     "output_type": "stream",
     "name": "stdout",
     "text": "2948\n"
    },
    {
     "output_type": "execute_result",
     "data": {
      "text/plain": "05'],\n ['AC009474.2', 'ENSG00000230355'],\n ['AC013410.2', 'ENSG00000237617'],\n ['AC009161.1', 'ENSG00000237901'],\n ['AC011379.1', 'ENSG00000250069'],\n ['AC016727.1', 'ENSG00000270820'],\n ['AC012564.1', 'ENSG00000283157'],\n ['AC012314.7', 'ENSG00000274905'],\n ['AC009492.1', 'ENSG00000278004'],\n ['AC011551.1', 'ENSG00000278797'],\n ['AC008565.1', 'ENSG00000251135'],\n ['AC009065.2', 'ENSG00000259780'],\n ['AC011453.1', 'ENSG00000269842'],\n ['AC013268.5', 'ENSG00000283684'],\n ['AC012462.3', 'ENSG00000230695'],\n ['AC009800.1', 'ENSG00000248911'],\n ['AC007948.1', 'ENSG00000263863'],\n ['AC010970.1', 'ENSG00000225840'],\n ['AC010376.1', 'ENSG00000253801'],\n ['AC008132.1', 'ENSG00000161103'],\n ['AC015871.1', 'ENSG00000259770'],\n ['AC008746.5', 'ENSG00000276551'],\n ['AC008410.1', 'ENSG00000253261'],\n ['AC008734.1', 'ENSG00000269300'],\n ['AC009478.1', 'ENSG00000225258'],\n ['AC015987.1', 'ENSG00000224746'],\n ['AC008674.1', 'ENSG00000287003'],\n ['AC016734.1', 'ENSG00000228305'],\n ['AC011752.1', 'ENSG00000231204'],\n ['AC013406.1', 'ENSG00000207161'],\n ['AC015804.1', 'ENSG00000279600'],\n ['AC011478.1', 'ENSG00000267760'],\n ['AC011477.1', 'ENSG00000267481'],\n ['AC010536.2', 'ENSG00000260671'],\n ['AC010504.2', 'ENSG00000282746'],\n ['AC010754.1', 'ENSG00000265752'],\n ['AC015849.12', 'ENSG00000282202'],\n ['AC012603.1', 'ENSG00000271849'],\n ['AC008171.1', 'ENSG00000223890'],\n ['AC016745.2', 'ENSG00000272563'],\n ['AC010297.1', 'ENSG00000280139'],\n ['AC010096.1', 'ENSG00000234597'],\n ['AC007773.1', 'ENSG00000267213'],\n ['AC013477.1', 'ENSG00000201786'],\n ['AC011306.1', 'ENSG00000272180'],\n ['AC007950.1', 'ENSG00000259268'],\n ['AC009779.1', 'ENSG00000257384'],\n ['AC009313.2', 'ENSG00000232337'],\n ['AC007568.1', 'ENSG00000224136'],\n ['AC011407.1', 'ENSG00000287814'],\n ['AC015849.13', 'ENSG00000282384'],\n ['AC016727.3', 'ENSG00000285857'],\n ['AC010967.3', 'ENSG00000232668'],\n ['AC008537.2', 'ENSG00000269843'],\n ['AC008397.1', 'ENSG00000284797'],\n ['AC007956.1', 'ENSG00000222604'],\n ['AC007967.3', 'ENSG00000230025'],\n ['AC007631.1', 'ENSG00000264131'],\n ['AC012314.9', 'ENSG00000276206'],\n ['AC016582.2', 'ENSG00000267422'],\n ['AC009987.1', 'ENSG00000231138'],\n ['AC010745.4', 'ENSG00000232444'],\n ['AC010468.1', 'ENSG00000249318'],\n ['AC010976.2', 'ENSG00000272789'],\n ['AC009237.8', 'ENSG00000236431'],\n ['AC011193.1', 'ENSG00000225582'],\n ['AC008463.1', 'ENSG00000274106'],\n ['AC008281.1', 'ENSG00000286199'],\n ['AC010982.2', 'ENSG00000235242'],\n ['AC008175.1', 'ENSG00000235059'],\n ['AC012485.2', 'ENSG00000232306'],\n ['AC008747.1', 'ENSG00000267024'],\n ['AC010196.1', 'ENSG00000258185'],\n ['AC012507.3', 'ENSG00000283164'],\n ['AC013448.2', 'ENSG00000235610'],\n ['AC010336.1', 'ENSG00000214248'],\n ['AC012593.1', 'ENSG00000226994'],\n ['AC008280.1', 'ENSG00000241114'],\n ['AC013442.1', 'ENSG00000288535'],\n ['AC010329.1', 'ENSG00000268416'],\n ['AC009410.1', 'ENSG00000286772'],\n ['AC012150.1', 'ENSG00000257258'],\n ['AC012306.2', 'ENSG00000272667'],\n ['AC010761.6', 'ENSG00000267729'],\n ['AC011499.1', 'ENSG00000267157'],\n ['AC011526.1', 'ENSG00000277136'],\n ['AC013268.2', 'ENSG00000229730'],\n ['AC008147.2', 'ENSG00000257298'],\n ['AC012066.1', 'ENSG00000213197'],\n ['AC012613.2', 'ENSG00000253406'],\n ['AC011410.1', 'ENSG00000253110'],\n ['AC008155.1', 'ENSG00000213238'],\n ['AC016710.1', 'ENSG00000206901'],\n ['AC012050.1', 'ENSG00000259588'],\n ['AC015923.1', 'ENSG00000233635'],\n ['AC011626.1', 'ENSG00000271219'],\n ['AC010468.2', 'ENSG00000250728'],\n ['AC009065.3', 'ENSG00000259933'],\n ['AC011298.2', 'ENSG00000274977'],\n ['AC011933.2', 'ENSG00000264853'],\n ['AC009159.1', 'ENSG00000275040'],\n ['AC009997.1', 'ENSG00000259369'],\n ['AC012462.2', 'ENSG00000228618'],\n ['AC008752.3', 'ENSG00000267289'],\n ['AC008686.1', 'ENSG00000267633'],\n ['AC011497.1', 'ENSG00000268605'],\n ['AC009365.3', 'ENSG00000225881'],\n ['AC008869.1', 'ENSG00000250032'],\n ['AC009227.2', 'ENSG00000238004'],\n ['AC009237.6', 'ENSG00000235959'],\n ['AC011467.2', 'ENSG00000268589'],\n ['AC009081.1', 'ENSG00000261310'],\n ['AC012314.12', 'ENSG00000276421'],\n ['AC013268.3', 'ENSG00000235721'],\n ['AC007731.1', 'ENSG00000201916'],\n ['AC009970.1', 'ENSG00000233953'],\n ['AC013460.1', 'ENSG00000229727'],\n ['AC008391.1', 'ENSG00000285997'],\n ['AC012671.1', 'ENSG00000283262'],\n ['AC008277.1', 'ENSG00000223642'],\n ['AC011995.1', 'ENSG00000228391'],\n ['AC007731.2', 'ENSG00000215493'],\n ['AC016739.1', 'ENSG00000218175'],\n ['AC010203.1', 'ENSG00000257489'],\n ['AC011998.1', 'ENSG00000227241'],\n ['AC012005.2', 'ENSG00000284071'],\n ['AC010745.3', 'ENSG00000231266'],\n ['AC016696.1', 'ENSG00000278764'],\n ['AC008780.1', 'ENSG00000249436'],\n ['AC016405.1', 'ENSG00000253372'],\n ['AC009951.1', 'ENSG00000273537'],\n ['AC010928.1', 'ENSG00000267382'],\n ['AC010980.2', 'ENSG00000267034'],\n ['AC010525.2', 'ENSG00000267689'],\n ['AC015971.1', 'ENSG00000228363'],\n ['AC008984.5', 'ENSG00000278402'],\n ['AC013275.1', 'ENSG00000231013'],\n ['AC009303.3', 'ENSG00000272895'],\n ['AC009892.2', 'ENSG00000276983'],\n ['AC007682.1', 'ENSG00000286412'],\n ['AC016644.1', 'ENSG00000235635'],\n ['AC012354.8', 'ENSG00000277809'],\n ['AC009121.1', 'ENSG00000199668'],\n ['AC009411.1', 'ENSG00000228538'],\n ['AC011322.1', 'ENSG00000286017'],\n ['AC012370.2', 'ENSG00000234255'],\n ['AC012445.1', 'ENSG00000229550'],\n ['AC016251.1', 'ENSG00000280291'],\n ['AC016629.2', 'ENSG00000269600'],\n ['AC007620.3', 'ENSG00000272699'],\n ['AC013410.1', 'ENSG00000237016'],\n ['AC009403.2', 'ENSG00000283128'],\n ['AC010880.1', 'ENSG00000224400'],\n ['AC008834.1', 'ENSG00000249101'],\n ['AC015871.2', 'ENSG00000271364'],\n ['AC007967.2', 'ENSG00000228207'],\n ['AC008992.1', 'ENSG00000267636'],\n ['AC009166.3', 'ENSG00000287718'],\n ['AC013268.1', 'ENSG00000186148'],\n ['AC012354.6', 'ENSG00000276670'],\n ['AC008581.1', 'ENSG00000250615'],\n ['AC015849.14', 'ENSG00000282498'],\n ['AC015849.2', 'ENSG00000270829'],\n ['AC009237.4', 'ENSG00000230083'],\n ['AC009237.2', 'ENSG00000224719'],\n ['AC007879.2', 'ENSG00000225916'],\n ['AC009950.2', 'ENSG00000283451'],\n ['AC008938.1', 'ENSG00000260072'],\n ['AC007663.1', 'ENSG00000161132'],\n ['AC007679.4', 'ENSG00000283129'],\n ['AC008278.2', 'ENSG00000234022'],\n ['AC011443.1', 'ENSG00000269172'],\n ['AC010904.1', 'ENSG00000213774'],\n ['AC008984.2', 'ENSG00000275893'],\n ['AC016722.1', 'ENSG00000226548'],\n ['AC011718.1', 'ENSG00000276874'],\n ['AC010975.1', 'ENSG00000277171'],\n ['AC007952.1', 'ENSG00000197665'],\n ['AC015688.3', 'ENSG00000265041'],\n ['AC009110.1', 'ENSG00000231589'],\n ['AC012313.1', 'ENSG00000232098'],\n ['AC009303.1', 'ENSG00000224967'],\n ['AC010999.1', 'ENSG00000275343'],\n ['AC007881.2', 'ENSG00000236469'],\n ['AC010967.1', 'ENSG00000228033'],\n ['AC016735.1', 'ENSG00000224739'],\n ['AC009236.2', 'ENSG00000286728'],\n ['AC012119.1', 'ENSG00000207027'],\n ['AC009506.2', 'ENSG00000224152'],\n ['AC013402.2', 'ENSG00000231626'],\n ['AC010642.1', 'ENSG00000269794'],\n ['AC007787.2', 'ENSG00000279044'],\n ['AC009965.1', 'ENSG00000234714'],\n ['AC009506.1', 'ENSG00000207117'],\n ['AC008694.2', 'ENSG00000254336'],\n ['AC007879.3', 'ENSG00000234902'],\n ['AC012314.11', 'ENSG00000276287'],\n ['AC013727.1', 'ENSG00000232597'],\n ['AC007879.5', 'ENSG00000286568'],\n ['AC011841.2', 'ENSG00000276932'],\n ['AC010983.1', 'ENSG00000235056'],\n ['AC009336.1', 'ENSG00000272729'],\n ['AC007919.1', 'ENSG00000224611'],\n ['AC009299.1', 'ENSG00000225813'],\n ['AC012075.1', 'ENSG00000231722'],\n ['AC011524.1', 'ENSG00000267027'],\n ['AC010525.1', 'ENSG00000267117'],\n ['AC010141.1', 'ENSG00000228257'],\n ['AC007880.1', 'ENSG00000199964'],\n ['AC011450.1', 'ENSG00000197813'],\n ['AC016716.1', 'ENSG00000224731'],\n ['AC009236.1', 'ENSG00000286519'],\n ['AC011233.2', 'ENSG00000286170'],\n ['AC013401.2', 'ENSG00000278406'],\n ['AC009969.1', 'ENSG00000234932'],\n ['AC008752.1', 'ENSG00000200237'],\n ['AC008940.1', 'ENSG00000228650'],\n ['AC011994.1', 'ENSG00000285626'],\n ['AC007743.1', 'ENSG00000233251'],\n ['AC009542.2', 'ENSG00000276067'],\n ['AC011467.1', 'ENSG00000260599'],\n ['AC016575.1', 'ENSG00000272057'],\n ['AC013269.3', 'ENSG00000274711'],\n ['AC010207.1', 'ENSG00000260633'],\n ['AC010319.1', 'ENSG00000254503'],\n ['AC011625.1', 'ENSG00000223436'],\n ['AC009237.14', 'ENSG00000272913'],\n ['AC011484.1', 'ENSG00000204850'],\n ['AC013468.1', 'ENSG00000273240'],\n ['AC009950.1', 'ENSG00000225963'],\n ['AC012506.4', 'ENSG00000235497'],\n ['AC012379.1', 'ENSG00000259670'],\n ['AC012314.3', 'ENSG00000274144'],\n ['AC011416.1', 'ENSG00000250080'],\n ['AC010731.3', 'ENSG00000231653'],\n ['AC007795.1', 'ENSG00000267617'],\n ['AC010323.1', 'ENSG00000167774'],\n ['AC010422.1', 'ENSG00000230310'],\n ['AC012181.1', 'ENSG00000261114'],\n ['AC016717.1', 'ENSG00000228206'],\n ['AC009035.1', 'ENSG00000260580'],\n ['AC009237.10', 'ENSG00000237308'],\n ['AC009237.11', 'ENSG00000238162'],\n ['AC010894.4', 'ENSG00000237798'],\n ['AC010894.5', 'ENSG00000279884'],\n ['AC011500.1', 'ENSG00000269188'],\n ['AC012668.2', 'ENSG00000234938'],\n ['AC010170.1', 'ENSG00000202268'],\n ['AC012087.2', 'ENSG00000272554'],\n ['AC010528.1', 'ENSG00000260983'],\n ['AC009120.5', 'ENSG00000275236'],\n ['AC012317.1', 'ENSG00000261583'],\n ['AC008738.2', 'ENSG00000267130'],\n ['AC010546.1', 'ENSG00000260332'],\n ['AC007966.1', 'ENSG00000212581'],\n ['AC009947.2', 'ENSG00000236647'],\n ['AC009784.1', 'ENSG00000236503'],\n ['AC007842.2', 'ENSG00000281233'],\n ['AC010092.1', 'ENSG00000286115'],\n ['AC011313.1', 'ENSG00000257642'],\n ['AC008537.1', 'ENSG00000268797'],\n ['AC009892.1', 'ENSG00000275440'],\n ['AC008060.5', 'ENSG00000288051'],\n ['AC016553.1', 'ENSG00000248145'],\n ['AC009312.1', 'ENSG00000238207'],\n ['AC013759.1', 'ENSG00000262892'],\n ['AC009113.1', 'ENSG00000259877'],\n ['AC011997.1', 'ENSG00000222017'],\n ['AC009495.3', 'ENSG00000235192'],\n ['AC010907.2', 'ENSG00000237370'],\n ['AC013727.2', 'ENSG00000236141'],\n ['AC009878.2', 'ENSG00000287280'],\n ['AC010641.1', 'ENSG00000267443'],\n ['AC007967.4', 'ENSG00000273731'],\n ['AC012123.1', 'ENSG00000228835'],\n ['AC010884.1', 'ENSG00000287135'],\n ['AC012314.1', 'ENSG00000273655'],\n ['AC009237.9', 'ENSG00000236750'],\n ['AC013448.1', 'ENSG00000231189'],\n ['AC012451.1', 'ENSG00000237532'],\n ['AC009961.2', 'ENSG00000227055'],\n ['AC009041.1', 'ENSG00000260496'],\n ['AC011225.1', 'ENSG00000225253'],\n ['AC012668.3', 'ENSG00000237525'],\n ['AC011897.1', 'ENSG00000228505'],\n ['AC013476.1', 'ENSG00000278083'],\n ['AC012462.1', 'ENSG00000225166'],\n ['AC008687.1', 'ENSG00000267335'],\n ['AC009518.2', 'ENSG00000236386'],\n ['AC011816.1', 'ENSG00000234073'],\n ['AC010620.1', 'ENSG00000268892'],\n ['AC012501.2', 'ENSG00000227400'],\n ['AC010969.1', 'ENSG00000188525'],\n ['AC016730.1', 'ENSG00000227718'],\n ['AC009142.1', 'ENSG00000261410'],\n ['AC008069.1', 'ENSG00000224604'],\n ['AC010325.1', 'ENSG00000261341'],\n ['AC012615.1', 'ENSG00000261526'],\n ['AC010536.1', 'ENSG00000226180'],\n ['AC013401.1', 'ENSG00000232227'],\n ['AC011363.1', 'ENSG00000254391'],\n ['AC012358.4', 'ENSG00000240401'],\n ['AC012175.1', 'ENSG00000270440'],\n ['AC016586.1', 'ENSG00000268670'],\n ['AC009965.2', 'ENSG00000235951'],\n ['AC009313.1', 'ENSG00000224467'],\n ['AC012414.1', 'ENSG00000259214'],\n ['AC010982.1', 'ENSG00000212182'],\n ['AC009411.2', 'ENSG00000235537'],\n ['AC009961.3', 'ENSG00000287091'],\n ['AC007879.4', 'ENSG00000240440'],\n ['AC007881.4', 'ENSG00000288065'],\n ['AC013404.1', 'ENSG00000231017'],\n ['AC011243.1', 'ENSG00000223430'],\n ['AC009228.1', 'ENSG00000242628'],\n ['AC009951.2', 'ENSG00000275372'],\n ['AC012314.8', 'ENSG00000275117'],\n ['AC011239.1', 'ENSG00000224361'],\n ['AC009158.1', 'ENSG00000231876'],\n ['AC007881.1', 'ENSG00000233870'],\n ['AC010492.2', 'ENSG00000275299'],\n ['AC011591.1', 'ENSG00000267250'],\n ['AC007690.1', 'ENSG00000233565'],\n ['AC015726.1', 'ENSG00000270091'],\n ['AC012314.13', 'ENSG00000277154'],\n ['AC008752.2', 'ENSG00000266950'],\n ['AC008555.1', 'ENSG00000261754'],\n ['AC016745.1', 'ENSG00000234997'],\n ['AC012668.1', 'ENSG00000227981'],\n ['AC008592.4', 'ENSG00000272021'],\n ['AC016682.1', 'ENSG00000286081'],\n ['AC010247.1', 'ENSG00000254887'],\n ['AC010872.2', 'ENSG00000287956'],\n ['AC011525.2', 'ENSG00000267465'],\n ['AC012494.1', 'ENSG00000227088'],\n ['AC007611.1', 'ENSG00000260086'],\n ['AC008625.1', 'ENSG00000287695'],\n ['AC007952.6', 'ENSG00000262319'],\n ['AC010336.2', 'ENSG00000260500'],\n ['AC010614.1', 'ENSG00000262113'],\n ['AC008394.1', 'ENSG00000288569'],\n ['AC009835.1', 'ENSG00000287994'],\n ['AC008746.3', 'ENSG00000275137'],\n ['AC009264.1', 'ENSG00000234352'],\n ['AC061975.3', 'ENSG00000264029'],\n ['AC068137.2', 'ENSG00000284171'],\n ['AC073135.3', 'ENSG00000267639'],\n ['AC026495.1', 'ENSG00000258654'],\n ['AC068533.1', 'ENSG00000205596'],\n ['AC027807.1', 'ENSG00000259609'],\n ['AC018880.2', 'ENSG00000231723'],\n ['AC018685.1', 'ENSG00000227364'],\n ['AC068535.2', 'ENSG00000287793'],\n ['AC078785.1', 'ENSG00000240057'],\n ['AC024580.1', 'ENSG00000223060'],\n ['AC062032.1', 'ENSG00000227902'],\n ['AC022762.1', 'ENSG00000254444'],\n ['AC064853.2', 'ENSG00000285843'],\n ['AC021860.1', 'ENSG00000271958'],\n ['AC034236.2', 'ENSG00000271918'],\n ['AC072062.1', 'ENSG00000227769'],\n ['AC027601.1', 'ENSG00000185332'],\n ['AC063979.1', 'ENSG00000206770'],\n ['AC073409.1', 'ENSG00000226708'],\n ['AC034243.1', 'ENSG00000253404'],\n ['AC019205.1', 'ENSG00000229852'],\n ['AC051649.1', 'ENSG00000249086'],\n ['AC027612.2', 'ENSG00000230572'],\n ['AC019129.1', 'ENSG00000219391'],\n ['AC023137.2', 'ENSG00000228950'],\n ['AC018685.2', 'ENSG00000234929'],\n ['AC026271.5', 'ENSG00000287058'],\n ['AC016907.2', 'ENSG00000233862'],\n ['AC017048.2', 'ENSG00000236231'],\n ['AC022498.1', 'ENSG00000234238'],\n ['AC073325.1', 'ENSG00000225537'],\n ['AC079467.1', 'ENSG00000250978'],\n ['AC023469.2', 'ENSG00000228064'],\n ['AC018635.1', 'ENSG00000242261'],\n ['AC078889.1', 'ENSG00000256072'],\n ['AC017048.3', 'ENSG00000272551'],\n ['AC022210.2', 'ENSG00000287625'],\n ['AC079140.1', 'ENSG00000248564'],\n ['AC078993.1', 'ENSG00000238178'],\n ['AC026202.3', 'ENSG00000268509'],\n ['AC069155.1', 'ENSG00000233581'],\n ['AC017083.2', 'ENSG00000273275'],\n ['AC017104.4', 'ENSG00000283312'],\n ['AC074008.1', 'ENSG00000284902'],\n ['AC016894.1', 'ENSG00000234624'],\n ['AC068506.1', 'ENSG00000278464'],\n ['AC073263.1', 'ENSG00000217702'],\n ['AC074290.1', 'ENSG00000224219'],\n ['AC023669.1', 'ENSG00000229459'],\n ['AC079584.2', 'ENSG00000257226'],\n ['AC069243.1', 'ENSG00000286994'],\n ['AC068831.3', 'ENSG00000258542'],\n ['AC053503.6', 'ENSG00000286143'],\n ['AC055876.2', 'ENSG00000254398'],\n ['AC018450.1', 'ENSG00000241679'],\n ['AC078816.1', 'ENSG00000286273'],\n ['AC023824.1', 'ENSG00000260073'],\n ['AC024067.1', 'ENSG00000225876'],\n ['AC037482.1', 'ENSG00000262487'],\n ['AC064872.1', 'ENSG00000270470'],\n ['AC026700.1', 'ENSG00000251066'],\n ['AC067852.1', 'ENSG00000266929'],\n ['AC022182.2', 'ENSG00000254802'],\n ['AC016903.1', 'ENSG00000236634'],\n ['AC027281.1', 'ENSG00000262890'],\n ['AC022021.1', 'ENSG00000222666'],\n ['AC073626.2', 'ENSG00000236580'],\n ['AC055811.2', 'ENSG00000264187'],\n ['AC027763.2', 'ENSG00000263316'],\n ['AC078842.3', 'ENSG00000231114'],\n ['AC062021.1', 'ENSG00000226939'],\n ['AC026904.1', 'ENSG00000253140'],\n ['AC064836.3', 'ENSG00000286223'],\n ['AC020743.2', 'ENSG00000231681'],\n ['AC024937.2', 'ENSG00000231464'],\n ['AC068489.1', 'ENSG00000234446'],\n ['AC074286.1', 'ENSG00000236501'],\n ['AC079610.1', 'ENSG00000270659'],\n ['AC016821.1', 'ENSG00000287306'],\n ['AC024084.1', 'ENSG00000206705'],\n ['AC068135.1', 'ENSG00000224670'],\n ['AC068587.1', 'ENSG00000254581'],\n ['AC073218.1', 'ENSG00000272027'],\n ['AC073465.2', 'ENSG00000236832'],\n ['AC061992.2', 'ENSG00000266970'],\n ['AC023050.1', 'ENSG00000244436'],\n ['AC061975.8', 'ENSG00000287721'],\n ['AC073320.1', 'ENSG00000199516'],\n ['AC018737.1', 'ENSG00000270798'],\n ['AC073387.2', 'ENSG00000271368'],\n ['AC078828.1', 'ENSG00000243296'],\n ['AC026150.2', 'ENSG00000260693'],\n ['AC022182.1', 'ENSG00000254777'],\n ['AC079354.1', 'ENSG00000231903'],\n ['AC024996.1', 'ENSG00000286946'],\n ['AC073082.1', 'ENSG00000279956'],\n ['AC016908.1', 'ENSG00000228225'],\n ['AC019173.1', 'ENSG00000281154'],\n ['AC016747.3', 'ENSG00000273302'],\n ['AC018607.1', 'ENSG00000254325'],\n ['AC069213.1', 'ENSG00000223711'],\n ['AC019064.1', 'ENSG00000237320'],\n ['AC073343.2', 'ENSG00000228010'],\n ['AC021818.1', 'ENSG00000259309'],\n ['AC073135.7', 'ENSG00000281617'],\n ['AC063944.1', 'ENSG00000239828'],\n ['AC019117.2', 'ENSG00000236039'],\n ['AC024475.1', 'ENSG00000254653'],\n ['AC078864.1', 'ENSG00000257989'],\n ['AC022872.1', 'ENSG00000261632'],\n ['AC019186.1', 'ENSG00000234584'],\n ['AC073610.1', 'ENSG00000239617'],\n ['AC018755.1', 'ENSG00000267808'],\n ['AC078852.2', 'ENSG00000254094'],\n ['AC068657.2', 'ENSG00000223908'],\n ['AC026956.1', 'ENSG00000259622'],\n ['AC027319.1', 'ENSG00000267484'],\n ['AC025300.1', 'ENSG00000254983'],\n ['AC068643.1', 'ENSG00000257703'],\n ['AC022532.1', 'ENSG00000280401'],\n ['AC026877.1', 'ENSG00000240809'],\n ['AC018712.2', 'ENSG00000239041'],\n ['AC062028.1', 'ENSG00000145063'],\n ['AC027612.1', 'ENSG00000223703'],\n ['AC073551.1', 'ENSG00000235548'],\n ['AC018692.1', 'ENSG00000252199'],\n ['AC020907.2', 'ENSG00000221857'],\n ['AC079466.1', 'ENSG00000266976'],\n ['AC073869.7', 'ENSG00000284706'],\n ['AC017002.4', 'ENSG00000285016'],\n ['AC068279.1', 'ENSG00000224881'],\n ['AC018618.1', 'ENSG00000259675'],\n ['AC068286.1', 'ENSG00000235127'],\n ['AC074051.1', 'ENSG00000260431'],\n ['AC025458.1', 'ENSG00000249774'],\n ['AC073316.1', 'ENSG00000217455'],\n ['AC020934.1', 'ENSG00000267424'],\n ['AC073648.1', 'ENSG00000197468'],\n ['AC068491.1', 'ENSG00000223973'],\n ['AC055764.1', 'ENSG00000234136'],\n ['AC073348.1', 'ENSG00000278894'],\n ['AC073130.1', 'ENSG00000237870'],\n ['AC016831.5', 'ENSG00000271522'],\n ['AC017074.1', 'ENSG00000227359'],\n ['AC046143.2', 'ENSG00000272707'],\n ['AC034229.1', 'ENSG00000249807'],\n ['AC061975.1', 'ENSG00000260777'],\n ['AC023158.1', 'ENSG00000259937'],\n ['AC024560.3', 'ENSG00000273308'],\n ['AC079117.1', 'ENSG00000287025'],\n ['AC024619.2', 'ENSG00000263613'],\n ['AC025284.1', 'ENSG00000260701'],\n ['AC068896.1', 'ENSG00000199466'],\n ['AC019118.2', 'ENSG00000236760'],\n ['AC022819.1', 'ENSG00000259921'],\n ['AC027307.1', 'ENSG00000267092'],\n ['AC064843.1', 'ENSG00000286621'],\n ['AC027811.1', 'ENSG00000287408'],\n ['AC079112.1', 'ENSG00000235968'],\n ['AC062020.1', 'ENSG00000237856'],\n ['AC019330.1', 'ENSG00000225421'],\n ['AC019131.1', 'ENSG00000263923'],\n ['AC068014.1', 'ENSG00000263098'],\n ['AC061975.6', 'ENSG00000266830'],\n ['AC021066.1', 'ENSG00000257830'],\n ['AC062016.1', 'ENSG00000224869'],\n ['AC068057.1', 'ENSG00000207249'],\n ['AC068831.8', 'ENSG00000284946'],\n ['AC078882.1', 'ENSG00000244125'],\n ['AC018804.1', 'ENSG00000227632'],\n ['AC069363.1', 'ENSG00000278781'],\n ['AC018730.1', 'ENSG00000269707'],\n ['AC068580.1', 'ENSG00000229512'],\n ['AC023385.1', 'ENSG00000285675'],\n ['AC034205.1', 'ENSG00000253472'],\n ['AC064871.3', 'ENSG00000224643'],\n ['AC025627.4', 'ENSG00000271900'],\n ['AC061975.5', 'ENSG00000266306'],\n ['AC021660.1', 'ENSG00000240827'],\n ['AC016764.1', 'ENSG00000201584'],\n ['AC017104.2', 'ENSG00000230047'],\n ['AC027612.4', 'ENSG00000271627'],\n ['AC020595.1', 'ENSG00000226681'],\n ['AC018880.1', 'ENSG00000221849'],\n ['AC025165.1', 'ENSG00000224713'],\n ['AC063976.1', 'ENSG00000224015'],\n ['AC079354.2', 'ENSG00000287041'],\n ['AC022558.1', 'ENSG00000259767'],\n ['AC023480.1', 'ENSG00000287720'],\n ['AC067751.1', 'ENSG00000238280'],\n ['AC023590.1', 'ENSG00000225885'],\n ['AC020910.1', 'ENSG00000252230'],\n ['AC025175.1', 'ENSG00000272416'],\n ['AC040162.1', 'ENSG00000261884'],\n ['AC027288.1', 'ENSG00000257474'],\n ['AC020892.1', 'ENSG00000259241'],\n ['AC018359.1', 'ENSG00000227498'],\n ['AC026318.1', 'ENSG00000274420'],\n ['AC067959.1', 'ENSG00000271629'],\n ['AC073987.1', 'ENSG00000229209'],\n ['AC073325.2', 'ENSG00000226999'],\n ['AC034110.1', 'ENSG00000286090'],\n ['AC073508.1', 'ENSG00000224244'],\n ['AC021146.2', 'ENSG00000248547'],\n ['AC026185.1', 'ENSG00000235240'],\n ['AC019055.1', 'ENSG00000235911'],\n ['AC017074.2', 'ENSG00000233479'],\n ['AC078899.2', 'ENSG00000268461'],\n ['AC078852.1', 'ENSG00000253399'],\n ['AC068138.1', 'ENSG00000230621'],\n ['AC062016.2', 'ENSG00000235871'],\n ...]"
     },
     "metadata": {},
     "execution_count": 3
    }
   ],
   "source": [
    "print(len(res))\n",
    "res"
   ]
  },
  {
   "cell_type": "code",
   "execution_count": 30,
   "metadata": {
    "tags": [
     "outputPrepend",
     "outputPrepend",
     "outputPrepend",
     "outputPrepend",
     "outputPrepend",
     "outputPrepend",
     "outputPrepend",
     "outputPrepend",
     "outputPrepend",
     "outputPrepend"
    ]
   },
   "outputs": [
    {
     "output_type": "stream",
     "name": "stdout",
     "text": "20\n['AC002310.11', 'AC002310.12', 'AC002310.13', 'AC002310.17', 'AC002310.7', 'AC002314.2', 'AC002314.4', 'AC002321.1', 'AC002321.2', 'AC002331.1', 'AC002365.1', 'AC002366.3', 'AC002368.4', 'AC002383.2', 'AC002386.1', 'AC002395.1', 'AC002398.11', 'AC002398.12', 'AC002398.13', 'AC002398.5']\n"
    }
   ],
   "source": [
    "datadir = os.path.join(project_dir, 'data')\n",
    "max_post_size = 20\n",
    "max_iter = 5\n",
    "iter = 0\n",
    "lookup_list = []\n",
    "with open(os.path.join(datadir, 'to_lookup.txt'), 'r') as f:\n",
    "    iname = 0\n",
    "    symbols_list = []\n",
    "    for name in f:\n",
    "        iname = iname + 1\n",
    "        symbols_list.append(name.rstrip())\n",
    "        if iname == max_post_size:\n",
    "            res = tc.ensembl_symbol_lookup(symbols_list)\n",
    "            for key in res.keys():\n",
    "                lookup_list.append([key, res.get(key).get('id')])\n",
    "            iter = iter + 1\n",
    "            if iter == max_iter:\n",
    "                break\n",
    "            iname = 0\n",
    "            symbols_list = []\n",
    "\n",
    "if iname != max_post_size:\n",
    "    res = tc.ensembl_symbol_lookup(symbols_list)\n",
    "    for key in res.keys():\n",
    "        lookup_list.append([key, res.get(key).get('id')])\n",
    "    iter = iter + 1\n",
    "\n",
    "\n",
    "print(iname)\n",
    "print(symbols_list)\n",
    "#tc.ensembl_symbol_lookup(symbols_list)"
   ]
  },
  {
   "cell_type": "code",
   "execution_count": 32,
   "metadata": {},
   "outputs": [
    {
     "output_type": "execute_result",
     "data": {
      "text/plain": "17"
     },
     "metadata": {},
     "execution_count": 32
    }
   ],
   "source": [
    "len(lookup_list)"
   ]
  },
  {
   "cell_type": "code",
   "execution_count": 6,
   "metadata": {},
   "outputs": [],
   "source": [
    "res = tc.ensembl_symbol_lookup(symbols_list)\n",
    "# # The maximum POST size (and therefore list size) is 1000\n",
    "# if len(symbols_list) > 1000:\n",
    "#     print('ERROR: POST lookup list is too long ({})'.format(len(symbols_list)))\n",
    "#     exit\n",
    "\n",
    "# # Import relevant modules\n",
    "# import requests, sys\n",
    "\n",
    "# # Set some constants\n",
    "# server = \"https://rest.ensembl.org\"\n",
    "# ext = \"/lookup/symbol/homo_sapiens\"\n",
    "# headers={ \"Content-Type\" : \"application/json\", \"Accept\" : \"application/json\"}\n",
    "\n",
    "# # Query the REST server\n",
    "# #r = requests.post(server+ext, headers=headers, data='{ \"symbols\" : [\"BRCA2\", \"BRAF\" ] }')\n",
    "# r = requests.post(server+ext, headers=headers, data=str({'symbols': symbols_list}).replace('\\'','\"'))\n",
    "\n",
    "# # Ensure everything is okay\n",
    "# if not r.ok:\n",
    "#     r.raise_for_status()\n",
    "#     sys.exit()\n",
    "\n",
    "# # Return the result\n",
    "# #return(repr(r.json()))\n",
    "# print(r.json())\n"
   ]
  },
  {
   "cell_type": "code",
   "execution_count": 27,
   "metadata": {},
   "outputs": [
    {
     "output_type": "stream",
     "name": "stdout",
     "text": "[['AC002386.1', 'ENSG00000230941'], ['AC000362.1', 'ENSG00000230820'], ['AC002056.3', 'ENSG00000283252'], ['AC002306.1', 'ENSG00000259242'], ['AC000124.1', 'ENSG00000226770'], ['AC002066.1', 'ENSG00000237813'], ['AC000081.2', 'ENSG00000251940'], ['AC002070.1', 'ENSG00000248636'], ['AC000367.1', 'ENSG00000224981'], ['AC000374.1', 'ENSG00000227249'], ['AC002064.4', 'ENSG00000280440'], ['AC002395.1', 'ENSG00000272215'], ['AC000029.1', 'ENSG00000275635'], ['AC000067.1', 'ENSG00000225007'], ['AC002365.1', 'ENSG00000206844'], ['AC002331.1', 'ENSG00000286712'], ['AC000403.1', 'ENSG00000278727']]\n"
    }
   ],
   "source": [
    "print([ [key, res.get(key).get('id')] for key in res.keys() ])\n",
    "#res.get('AC000124.1')"
   ]
  },
  {
   "cell_type": "code",
   "execution_count": 39,
   "metadata": {},
   "outputs": [
    {
     "output_type": "stream",
     "name": "stdout",
     "text": "{}\n"
    }
   ],
   "source": [
    "# The maximum POST size (and therefore list size) is 1000\n",
    "if len(symbols_list) > 1000:\n",
    "    print('ERROR: POST lookup list is too long ({})'.format(len(symbols_list)))\n",
    "    exit\n",
    "\n",
    "# Import relevant modules\n",
    "import requests, sys\n",
    "\n",
    "# Set some constants\n",
    "server = \"https://rest.ensembl.org\"\n",
    "ext = \"/lookup/symbol/homo_sapiens\"\n",
    "headers={ \"Content-Type\" : \"application/json\", \"Accept\" : \"application/json\"}\n",
    "\n",
    "# Query the REST server\n",
    "#r = requests.post(server+ext, headers=headers, data='{ \"symbols\" : [\"BRCA2\", \"BRAF\" ] }')\n",
    "r = requests.post(server+ext, headers=headers, data=str({'symbols': symbols_list}).replace('\\'','\"'))\n",
    "\n",
    "# Ensure everything is okay\n",
    "if not r.ok:\n",
    "    r.raise_for_status()\n",
    "    sys.exit()\n",
    "\n",
    "# Return the result\n",
    "print(r.json())\n"
   ]
  },
  {
   "cell_type": "code",
   "execution_count": 38,
   "metadata": {},
   "outputs": [
    {
     "output_type": "execute_result",
     "data": {
      "text/plain": "{}"
     },
     "metadata": {},
     "execution_count": 38
    }
   ],
   "source": [
    "#str({'symbols': symbols_list}).replace('\\'','\"')\n",
    "#\n",
    "mystr = '{\"symbols\": [\"1060P11.3\", \"7SK\", \"A2LD1\", \"A3GALT2P\", \"AA06\", \"AACP\", \"AAED1\", \"AARS\", \"AATK-AS1\", \"AB015752.3\"]}'\n",
    "r = requests.post(server+ext, headers=headers, data=mystr)\n",
    "#[ repr(x) for x in r.iter_lines() ]\n",
    "r.json()"
   ]
  },
  {
   "cell_type": "code",
   "execution_count": 4,
   "metadata": {},
   "outputs": [],
   "source": [
    "# The maximum POST size (and therefore list size) is 1000\n",
    "if len(symbols_list) > 1000:\n",
    "    print('ERROR: POST lookup list is too long ({})'.format(len(symbols_list)))\n",
    "    exit\n",
    "\n",
    "# Import relevant modules\n",
    "import requests, sys\n",
    "\n",
    "# Set some constants\n",
    "server = \"https://rest.ensembl.org\"\n",
    "ext = \"/lookup/symbol/homo_sapiens\"\n",
    "headers={ \"Content-Type\" : \"application/json\", \"Accept\" : \"application/json\"}\n",
    "\n",
    "# # Query the REST server\n",
    "# #r = requests.post(server+ext, headers=headers, data='{ \"symbols\" : [\"BRCA2\", \"BRAF\" ] }')\n",
    "r = requests.post(server+ext, headers=headers, data=str({'symbols': symbols_list}))\n",
    "\n",
    "\n",
    "# # Ensure everything is okay\n",
    "# if not r.ok:\n",
    "#     r.raise_for_status()\n",
    "#     sys.exit()\n",
    "\n",
    "# # Return the result\n",
    "# return(repr(r.json()))\n"
   ]
  },
  {
   "cell_type": "code",
   "execution_count": 17,
   "metadata": {},
   "outputs": [],
   "source": [
    "tmp = { 'symbols' : ['BRCA2', 'BRAF' ] }\n",
    "mydata = str(tmp).replace('\\'','\"')\n",
    "r = requests.post(server+ext, data=mydata)"
   ]
  },
  {
   "cell_type": "code",
   "execution_count": 18,
   "metadata": {},
   "outputs": [
    {
     "output_type": "stream",
     "name": "stdout",
     "text": "b'<html><title>EnsEMBL::REST</title><body><pre>--- '\nb'BRAF: '\nb'  assembly_name: GRCh38'\nb'  biotype: protein_coding'\nb'  db_type: core'\nb'  description: B-Raf proto-oncogene, serine/threonine kinase [Source:HGNC Symbol;Acc:HGNC:1097]'\nb'  display_name: BRAF'\nb'  end: 140924928'\nb'  id: ENSG00000157764'\nb'  logic_name: ensembl_havana_gene_homo_sapiens'\nb'  object_type: Gene'\nb'  seq_region_name: 7'\nb'  source: ensembl_havana'\nb'  species: homo_sapiens'\nb'  start: 140719327'\nb'  strand: -1'\nb'  version: 13'\nb'BRCA2: '\nb'  assembly_name: GRCh38'\nb'  biotype: protein_coding'\nb'  db_type: core'\nb'  description: BRCA2 DNA repair associated [Source:HGNC Symbol;Acc:HGNC:1101]'\nb'  display_name: BRCA2'\nb'  end: 32400266'\nb'  id: ENSG00000139618'\nb'  logic_name: ensembl_havana_gene_homo_sapiens'\nb'  object_type: Gene'\nb'  seq_region_name: 13'\nb'  source: ensembl_havana'\nb'  species: homo_sapiens'\nb'  start: 32315086'\nb'  strand: 1'\nb'  version: 15'\nb'</pre></body></html>'\n"
    },
    {
     "output_type": "execute_result",
     "data": {
      "text/plain": "[None,\n None,\n None,\n None,\n None,\n None,\n None,\n None,\n None,\n None,\n None,\n None,\n None,\n None,\n None,\n None,\n None,\n None,\n None,\n None,\n None,\n None,\n None,\n None,\n None,\n None,\n None,\n None,\n None,\n None,\n None,\n None,\n None,\n None]"
     },
     "metadata": {},
     "execution_count": 18
    }
   ],
   "source": [
    "[ print(x) for x in r.iter_lines() ]"
   ]
  },
  {
   "cell_type": "code",
   "execution_count": null,
   "metadata": {},
   "outputs": [],
   "source": []
  },
  {
   "cell_type": "code",
   "execution_count": null,
   "metadata": {},
   "outputs": [],
   "source": []
  }
 ],
 "metadata": {
  "language_info": {
   "codemirror_mode": {
    "name": "ipython",
    "version": 3
   },
   "file_extension": ".py",
   "mimetype": "text/x-python",
   "name": "python",
   "nbconvert_exporter": "python",
   "pygments_lexer": "ipython3",
   "version": "3.7.7-final"
  },
  "orig_nbformat": 2,
  "kernelspec": {
   "name": "python3",
   "display_name": "Python 3"
  }
 },
 "nbformat": 4,
 "nbformat_minor": 2
}