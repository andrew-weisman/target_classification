{
 "cells": [
  {
   "cell_type": "code",
   "execution_count": 1,
   "metadata": {},
   "outputs": [],
   "source": [
    "project_dir = '/data/BIDS-HPC/private/projects/dmi2'\n",
    "links_dir = '/data/BIDS-HPC/private/projects/dmi2/data/all_gene_expression_files_in_target/links'\n",
    "import os, sys\n",
    "checkout_dir = os.path.join(project_dir, 'checkout')\n",
    "if checkout_dir not in sys.path:\n",
    "    sys.path.append(checkout_dir)\n",
    "import target_class_lib as tc"
   ]
  },
  {
   "cell_type": "code",
   "execution_count": 2,
   "metadata": {
    "tags": []
   },
   "outputs": [
    {
     "output_type": "stream",
     "name": "stdout",
     "text": "Reading pickle file /data/BIDS-HPC/private/projects/dmi2/data/annotation_dataframe.pkl...\n"
    }
   ],
   "source": [
    "df_gencode_genes = tc.calculate_exon_lengths(os.path.join(project_dir, 'data', 'gencode.v22.annotation.gtf'), project_dir)"
   ]
  },
  {
   "cell_type": "code",
   "execution_count": 3,
   "metadata": {},
   "outputs": [],
   "source": [
    "files_per_sample = tc.get_files_per_sample(links_dir)"
   ]
  },
  {
   "cell_type": "code",
   "execution_count": 4,
   "metadata": {
    "tags": []
   },
   "outputs": [
    {
     "output_type": "stream",
     "name": "stdout",
     "text": "Reading pickle file /data/BIDS-HPC/private/projects/dmi2/data/series_lists.pkl...\n"
    }
   ],
   "source": [
    "srs_counts, srs_fpkm, srs_fpkm_uq = tc.get_intensities(files_per_sample, links_dir, df_gencode_genes, project_dir)"
   ]
  },
  {
   "cell_type": "markdown",
   "metadata": {},
   "source": [
    "# Scratch"
   ]
  },
  {
   "cell_type": "code",
   "execution_count": 9,
   "metadata": {},
   "outputs": [
    {
     "output_type": "execute_result",
     "data": {
      "text/plain": "[]"
     },
     "metadata": {},
     "execution_count": 9
    }
   ],
   "source": [
    "arr = [2,3,1,6,2,3,5]\n",
    "arr[:0]"
   ]
  },
  {
   "cell_type": "code",
   "execution_count": 10,
   "metadata": {
    "tags": []
   },
   "outputs": [
    {
     "output_type": "stream",
     "name": "stdout",
     "text": "uh oh\nuh oh\nuh oh\nuh oh\nuh oh\nuh oh\nuh oh\nuh oh\nuh oh\nuh oh\nuh oh\nuh oh\nuh oh\nuh oh\nuh oh\nuh oh\nuh oh\nuh oh\nuh oh\nuh oh\nuh oh\nuh oh\nuh oh\nuh oh\nuh oh\nuh oh\nuh oh\nuh oh\nuh oh\nuh oh\nuh oh\nuh oh\nuh oh\nuh oh\nuh oh\nuh oh\nuh oh\nuh oh\nuh oh\nuh oh\nuh oh\nuh oh\nuh oh\nuh oh\nuh oh\nuh oh\nuh oh\nuh oh\nuh oh\nuh oh\nuh oh\nuh oh\nuh oh\nuh oh\nuh oh\nuh oh\nuh oh\nuh oh\nuh oh\nuh oh\nuh oh\nuh oh\nuh oh\nuh oh\nuh oh\nuh oh\nuh oh\nuh oh\nuh oh\nuh oh\nuh oh\nuh oh\nuh oh\nuh oh\nuh oh\nuh oh\nuh oh\nuh oh\nuh oh\nuh oh\nuh oh\nuh oh\nuh oh\nuh oh\nuh oh\nuh oh\nuh oh\nuh oh\nuh oh\nuh oh\nuh oh\nuh oh\nuh oh\nuh oh\nuh oh\nuh oh\nuh oh\nuh oh\nuh oh\nuh oh\nuh oh\nuh oh\nuh oh\nuh oh\nuh oh\nuh oh\nuh oh\nuh oh\nuh oh\nuh oh\nuh oh\nuh oh\nuh oh\nuh oh\nuh oh\nuh oh\nuh oh\nuh oh\nuh oh\nuh oh\nuh oh\nuh oh\nuh oh\nuh oh\nuh oh\nuh oh\nuh oh\nuh oh\nuh oh\nuh oh\nuh oh\nuh oh\nuh oh\nuh oh\nuh oh\nuh oh\nuh oh\nuh oh\nuh oh\nuh oh\nuh oh\nuh oh\nuh oh\nuh oh\nuh oh\nuh oh\nuh oh\nuh oh\nuh oh\nuh oh\nuh oh\nuh oh\nuh oh\nuh oh\nuh oh\nuh oh\nuh oh\nuh oh\nuh oh\nuh oh\nuh oh\nuh oh\nuh oh\nuh oh\nuh oh\nuh oh\nuh oh\nuh oh\nuh oh\nuh oh\nuh oh\nuh oh\nuh oh\nuh oh\nuh oh\nuh oh\nuh oh\nuh oh\nuh oh\nuh oh\nuh oh\nuh oh\nuh oh\nuh oh\nuh oh\nuh oh\nuh oh\nuh oh\nuh oh\nuh oh\nuh oh\nuh oh\nuh oh\nuh oh\nuh oh\nuh oh\nuh oh\nuh oh\nuh oh\nuh oh\nuh oh\nuh oh\nuh oh\nuh oh\nuh oh\nuh oh\nuh oh\nuh oh\nuh oh\nuh oh\nuh oh\nuh oh\nuh oh\nuh oh\nuh oh\nuh oh\nuh oh\nuh oh\nuh oh\nuh oh\nuh oh\nuh oh\nuh oh\nuh oh\nuh oh\nuh oh\nuh oh\nuh oh\nuh oh\nuh oh\nuh oh\nuh oh\nuh oh\nuh oh\nuh oh\nuh oh\nuh oh\nuh oh\nuh oh\nuh oh\nuh oh\nuh oh\nuh oh\nuh oh\nuh oh\nuh oh\nuh oh\nuh oh\nuh oh\nuh oh\nuh oh\nuh oh\nuh oh\nuh oh\nuh oh\nuh oh\nuh oh\nuh oh\nuh oh\nuh oh\nuh oh\nuh oh\nuh oh\nuh oh\nuh oh\nuh oh\nuh oh\nuh oh\nuh oh\nuh oh\nuh oh\nuh oh\nuh oh\nuh oh\nuh oh\nuh oh\nuh oh\nuh oh\nuh oh\nuh oh\nuh oh\nuh oh\nuh oh\nuh oh\nuh oh\nuh oh\nuh oh\nuh oh\nuh oh\nuh oh\nuh oh\nuh oh\nuh oh\nuh oh\nuh oh\nuh oh\nuh oh\nuh oh\nuh oh\nuh oh\nuh oh\nuh oh\nuh oh\nuh oh\nuh oh\nuh oh\nuh oh\nuh oh\nuh oh\nuh oh\nuh oh\nuh oh\nuh oh\nuh oh\nuh oh\nuh oh\nuh oh\nuh oh\nuh oh\nuh oh\nuh oh\nuh oh\nuh oh\nuh oh\nuh oh\nuh oh\nuh oh\nuh oh\nuh oh\nuh oh\nuh oh\nuh oh\nuh oh\nuh oh\nuh oh\nuh oh\nuh oh\nuh oh\nuh oh\nuh oh\nuh oh\nuh oh\nuh oh\nuh oh\nuh oh\nuh oh\nuh oh\nuh oh\nuh oh\nuh oh\nuh oh\nuh oh\nuh oh\nuh oh\nuh oh\nuh oh\nuh oh\nuh oh\nuh oh\nuh oh\nuh oh\nuh oh\nuh oh\nuh oh\nuh oh\nuh oh\nuh oh\nuh oh\nuh oh\nuh oh\nuh oh\nuh oh\nuh oh\nuh oh\nuh oh\nuh oh\nuh oh\nuh oh\nuh oh\nuh oh\nuh oh\nuh oh\nuh oh\nuh oh\nuh oh\nuh oh\nuh oh\nuh oh\nuh oh\nuh oh\nuh oh\nuh oh\nuh oh\nuh oh\nuh oh\nuh oh\nuh oh\nuh oh\nuh oh\nuh oh\nuh oh\nuh oh\nuh oh\nuh oh\nuh oh\nuh oh\nuh oh\nuh oh\nuh oh\nuh oh\nuh oh\nuh oh\nuh oh\nuh oh\nuh oh\nuh oh\nuh oh\nuh oh\nuh oh\nuh oh\nuh oh\nuh oh\nuh oh\nuh oh\nuh oh\nuh oh\nuh oh\nuh oh\nuh oh\nuh oh\nuh oh\nuh oh\nuh oh\nuh oh\nuh oh\nuh oh\nuh oh\nuh oh\nuh oh\nuh oh\nuh oh\nuh oh\nuh oh\nuh oh\nuh oh\nuh oh\nuh oh\nuh oh\nuh oh\nuh oh\nuh oh\nuh oh\nuh oh\nuh oh\nuh oh\nuh oh\nuh oh\nuh oh\nuh oh\nuh oh\nuh oh\nuh oh\nuh oh\nuh oh\nuh oh\nuh oh\nuh oh\nuh oh\nuh oh\nuh oh\nuh oh\nuh oh\nuh oh\nuh oh\nuh oh\nuh oh\nuh oh\nuh oh\nuh oh\nuh oh\nuh oh\nuh oh\nuh oh\nuh oh\nuh oh\nuh oh\nuh oh\nuh oh\nuh oh\nuh oh\nuh oh\nuh oh\nuh oh\nuh oh\nuh oh\nuh oh\nuh oh\nuh oh\nuh oh\nuh oh\nuh oh\nuh oh\nuh oh\nuh oh\nuh oh\nuh oh\nuh oh\nuh oh\nuh oh\nuh oh\nuh oh\nuh oh\nuh oh\nuh oh\nuh oh\nuh oh\nuh oh\nuh oh\nuh oh\nuh oh\nuh oh\nuh oh\nuh oh\nuh oh\nuh oh\nuh oh\nuh oh\nuh oh\nuh oh\nuh oh\nuh oh\nuh oh\nuh oh\nuh oh\nuh oh\nuh oh\nuh oh\nuh oh\nuh oh\nuh oh\nuh oh\nuh oh\nuh oh\nuh oh\nuh oh\nuh oh\nuh oh\nuh oh\nuh oh\nuh oh\nuh oh\nuh oh\nuh oh\nuh oh\nuh oh\nuh oh\nuh oh\nuh oh\nuh oh\nuh oh\nuh oh\nuh oh\nuh oh\nuh oh\nuh oh\nuh oh\nuh oh\nuh oh\nuh oh\nuh oh\nuh oh\nuh oh\nuh oh\nuh oh\nuh oh\nuh oh\nuh oh\nuh oh\nuh oh\nuh oh\nuh oh\nuh oh\nuh oh\nuh oh\nuh oh\nuh oh\nuh oh\nuh oh\nuh oh\nuh oh\nuh oh\nuh oh\nuh oh\nuh oh\nuh oh\nuh oh\nuh oh\nuh oh\nuh oh\nuh oh\nuh oh\nuh oh\nuh oh\nuh oh\nuh oh\nuh oh\nuh oh\nuh oh\nuh oh\nuh oh\nuh oh\nuh oh\nuh oh\nuh oh\nuh oh\nuh oh\nuh oh\nuh oh\nuh oh\nuh oh\nuh oh\nuh oh\nuh oh\nuh oh\nuh oh\nuh oh\nuh oh\nuh oh\nuh oh\nuh oh\nuh oh\nuh oh\nuh oh\nuh oh\nuh oh\nuh oh\nuh oh\nuh oh\nuh oh\nuh oh\nuh oh\nuh oh\nuh oh\nuh oh\nuh oh\nuh oh\nuh oh\nuh oh\nuh oh\nuh oh\nuh oh\nuh oh\nuh oh\nuh oh\nuh oh\nuh oh\nuh oh\nuh oh\nuh oh\nuh oh\nuh oh\nuh oh\nuh oh\nuh oh\nuh oh\nuh oh\nuh oh\nuh oh\nuh oh\nuh oh\nuh oh\nuh oh\nuh oh\nuh oh\nuh oh\nuh oh\nuh oh\nuh oh\nuh oh\nuh oh\nuh oh\nuh oh\nuh oh\nuh oh\nuh oh\nuh oh\nuh oh\nuh oh\nuh oh\nuh oh\nuh oh\nuh oh\nuh oh\nuh oh\nuh oh\nuh oh\nuh oh\nuh oh\nuh oh\nuh oh\nuh oh\nuh oh\nuh oh\nuh oh\nuh oh\nuh oh\nuh oh\nuh oh\nuh oh\nuh oh\nuh oh\nuh oh\nuh oh\nuh oh\nuh oh\nuh oh\nuh oh\nuh oh\nuh oh\nuh oh\nuh oh\nuh oh\nuh oh\nuh oh\nuh oh\nuh oh\nuh oh\nuh oh\nuh oh\nuh oh\nuh oh\nuh oh\nuh oh\nuh oh\nuh oh\nuh oh\nuh oh\nuh oh\nuh oh\nuh oh\nuh oh\nuh oh\nuh oh\nuh oh\nuh oh\nuh oh\nuh oh\nuh oh\nuh oh\nuh oh\nuh oh\nuh oh\nuh oh\nuh oh\nuh oh\nuh oh\nuh oh\nuh oh\nuh oh\nuh oh\nuh oh\nuh oh\nuh oh\nuh oh\nuh oh\nuh oh\nuh oh\nuh oh\nuh oh\nuh oh\nuh oh\nuh oh\nuh oh\nuh oh\nuh oh\nuh oh\nuh oh\nuh oh\nuh oh\nuh oh\nuh oh\nuh oh\nuh oh\nuh oh\nuh oh\nuh oh\nuh oh\nuh oh\nuh oh\nuh oh\nuh oh\nuh oh\nuh oh\nuh oh\nuh oh\nuh oh\nuh oh\nuh oh\nuh oh\nuh oh\nuh oh\nuh oh\nuh oh\nuh oh\nuh oh\nuh oh\nuh oh\nuh oh\nuh oh\nuh oh\nuh oh\nuh oh\nuh oh\nuh oh\nuh oh\nuh oh\nuh oh\nuh oh\nuh oh\nuh oh\nuh oh\nuh oh\nuh oh\nuh oh\nuh oh\nuh oh\nuh oh\nuh oh\nuh oh\nuh oh\nuh oh\nuh oh\nuh oh\nuh oh\nuh oh\nuh oh\nuh oh\nuh oh\nuh oh\nuh oh\nuh oh\nuh oh\nuh oh\nuh oh\nuh oh\nuh oh\nuh oh\nuh oh\nuh oh\nuh oh\nuh oh\nuh oh\nuh oh\nuh oh\nuh oh\nuh oh\nuh oh\nuh oh\nuh oh\nuh oh\nuh oh\nuh oh\nuh oh\nuh oh\nuh oh\nuh oh\nuh oh\nuh oh\nuh oh\nuh oh\nuh oh\nuh oh\nuh oh\nuh oh\nuh oh\nuh oh\nuh oh\nuh oh\nuh oh\nuh oh\nuh oh\nuh oh\nuh oh\nuh oh\nuh oh\nuh oh\nuh oh\nuh oh\nuh oh\nuh oh\nuh oh\nuh oh\nuh oh\nuh oh\nuh oh\nuh oh\nuh oh\nuh oh\nuh oh\nuh oh\nuh oh\nuh oh\nuh oh\nuh oh\nuh oh\nuh oh\nuh oh\nuh oh\nuh oh\nuh oh\nuh oh\nuh oh\nuh oh\nuh oh\nuh oh\nuh oh\nuh oh\nuh oh\nuh oh\nuh oh\nuh oh\nuh oh\nuh oh\nuh oh\nuh oh\nuh oh\nuh oh\nuh oh\nuh oh\nuh oh\nuh oh\nuh oh\nuh oh\nuh oh\nuh oh\nuh oh\nuh oh\nuh oh\nuh oh\nuh oh\nuh oh\nuh oh\nuh oh\nuh oh\nuh oh\nuh oh\nuh oh\nuh oh\nuh oh\nuh oh\nuh oh\nuh oh\nuh oh\nuh oh\nuh oh\nuh oh\nuh oh\nuh oh\nuh oh\nuh oh\nuh oh\nuh oh\nuh oh\nuh oh\nuh oh\nuh oh\nuh oh\nuh oh\nuh oh\nuh oh\nuh oh\nuh oh\nuh oh\nuh oh\nuh oh\nuh oh\nuh oh\nuh oh\nuh oh\nuh oh\nuh oh\nuh oh\nuh oh\nuh oh\nuh oh\nuh oh\nuh oh\nuh oh\nuh oh\nuh oh\nuh oh\nuh oh\nuh oh\nuh oh\nuh oh\nuh oh\nuh oh\nuh oh\nuh oh\nuh oh\nuh oh\nuh oh\nuh oh\nuh oh\nuh oh\nuh oh\nuh oh\nuh oh\nuh oh\nuh oh\nuh oh\nuh oh\nuh oh\nuh oh\nuh oh\nuh oh\nuh oh\nuh oh\nuh oh\nuh oh\nuh oh\nuh oh\nuh oh\nuh oh\nuh oh\nuh oh\nuh oh\nuh oh\nuh oh\nuh oh\nuh oh\nuh oh\nuh oh\nuh oh\nuh oh\nuh oh\nuh oh\nuh oh\nuh oh\nuh oh\nuh oh\nuh oh\nuh oh\nuh oh\nuh oh\nuh oh\nuh oh\nuh oh\nuh oh\nuh oh\nuh oh\nuh oh\nuh oh\nuh oh\nuh oh\nuh oh\nuh oh\nuh oh\nuh oh\nuh oh\nuh oh\nuh oh\nuh oh\nuh oh\nuh oh\nuh oh\nuh oh\nuh oh\nuh oh\nuh oh\nuh oh\nuh oh\nuh oh\nuh oh\nuh oh\nuh oh\nuh oh\nuh oh\nuh oh\nuh oh\nuh oh\nuh oh\nuh oh\nuh oh\nuh oh\nuh oh\nuh oh\nuh oh\nuh oh\nuh oh\nuh oh\nuh oh\nuh oh\nuh oh\nuh oh\nuh oh\nuh oh\nuh oh\nuh oh\nuh oh\nuh oh\nuh oh\nuh oh\nuh oh\nuh oh\nuh oh\nuh oh\nuh oh\nuh oh\nuh oh\nuh oh\nuh oh\nuh oh\nuh oh\nuh oh\nuh oh\nuh oh\nuh oh\nuh oh\nuh oh\nuh oh\nuh oh\nuh oh\nuh oh\nuh oh\nuh oh\nuh oh\nuh oh\nuh oh\nuh oh\nuh oh\nuh oh\nuh oh\nuh oh\nuh oh\nuh oh\nuh oh\nuh oh\nuh oh\nuh oh\nuh oh\nuh oh\nuh oh\nuh oh\nuh oh\nuh oh\nuh oh\nuh oh\nuh oh\nuh oh\nuh oh\nuh oh\nuh oh\nuh oh\nuh oh\nuh oh\nuh oh\nuh oh\nuh oh\nuh oh\nuh oh\nuh oh\nuh oh\nuh oh\nuh oh\nuh oh\nuh oh\nuh oh\nuh oh\nuh oh\nuh oh\nuh oh\nuh oh\nuh oh\nuh oh\nuh oh\nuh oh\nuh oh\nuh oh\nuh oh\nuh oh\nuh oh\nuh oh\nuh oh\nuh oh\nuh oh\nuh oh\nuh oh\nuh oh\nuh oh\nuh oh\nuh oh\nuh oh\nuh oh\nuh oh\nuh oh\nuh oh\nuh oh\nuh oh\nuh oh\nuh oh\nuh oh\nuh oh\nuh oh\nuh oh\nuh oh\nuh oh\nuh oh\nuh oh\nuh oh\nuh oh\nuh oh\nuh oh\nuh oh\nuh oh\nuh oh\nuh oh\nuh oh\nuh oh\nuh oh\nuh oh\nuh oh\nuh oh\nuh oh\nuh oh\nuh oh\nuh oh\nuh oh\nuh oh\nuh oh\nuh oh\nuh oh\nuh oh\nuh oh\nuh oh\nuh oh\nuh oh\nuh oh\nuh oh\nuh oh\nuh oh\nuh oh\nuh oh\nuh oh\nuh oh\nuh oh\nuh oh\nuh oh\nuh oh\nuh oh\nuh oh\nuh oh\nuh oh\nuh oh\nuh oh\nuh oh\nuh oh\nuh oh\nuh oh\nuh oh\nuh oh\nuh oh\nuh oh\nuh oh\nuh oh\nuh oh\nuh oh\nuh oh\nuh oh\nuh oh\nuh oh\nuh oh\nuh oh\nuh oh\nuh oh\nuh oh\nuh oh\nuh oh\nuh oh\nuh oh\nuh oh\nuh oh\nuh oh\nuh oh\nuh oh\nuh oh\nuh oh\nuh oh\nuh oh\nuh oh\nuh oh\nuh oh\nuh oh\nuh oh\nuh oh\nuh oh\nuh oh\nuh oh\nuh oh\nuh oh\nuh oh\nuh oh\nuh oh\nuh oh\nuh oh\nuh oh\nuh oh\nuh oh\nuh oh\nuh oh\nuh oh\nuh oh\nuh oh\nuh oh\nuh oh\nuh oh\nuh oh\nuh oh\nuh oh\nuh oh\nuh oh\nuh oh\nuh oh\nuh oh\nuh oh\nuh oh\nuh oh\nuh oh\nuh oh\nuh oh\nuh oh\nuh oh\nuh oh\nuh oh\nuh oh\nuh oh\nuh oh\nuh oh\nuh oh\nuh oh\nuh oh\nuh oh\nuh oh\nuh oh\nuh oh\nuh oh\nuh oh\nuh oh\nuh oh\nuh oh\nuh oh\nuh oh\nuh oh\nuh oh\nuh oh\nuh oh\nuh oh\nuh oh\nuh oh\nuh oh\nuh oh\nuh oh\nuh oh\nuh oh\nuh oh\nuh oh\nuh oh\nuh oh\nuh oh\nuh oh\nuh oh\nuh oh\nuh oh\nuh oh\nuh oh\nuh oh\nuh oh\nuh oh\nuh oh\nuh oh\nuh oh\nuh oh\nuh oh\nuh oh\nuh oh\nuh oh\nuh oh\nuh oh\nuh oh\nuh oh\nuh oh\nuh oh\nuh oh\nuh oh\nuh oh\nuh oh\nuh oh\nuh oh\nuh oh\nuh oh\nuh oh\nuh oh\nuh oh\nuh oh\nuh oh\nuh oh\nuh oh\nuh oh\nuh oh\nuh oh\nuh oh\nuh oh\nuh oh\nuh oh\nuh oh\nuh oh\nuh oh\nuh oh\nuh oh\nuh oh\nuh oh\nuh oh\nuh oh\nuh oh\nuh oh\nuh oh\nuh oh\nuh oh\nuh oh\nuh oh\nuh oh\nuh oh\nuh oh\nuh oh\nuh oh\nuh oh\nuh oh\nuh oh\nuh oh\nuh oh\nuh oh\nuh oh\nuh oh\nuh oh\nuh oh\nuh oh\nuh oh\nuh oh\nuh oh\nuh oh\nuh oh\nuh oh\nuh oh\nuh oh\nuh oh\nuh oh\nuh oh\nuh oh\nuh oh\nuh oh\nuh oh\nuh oh\nuh oh\nuh oh\nuh oh\nuh oh\nuh oh\nuh oh\nuh oh\nuh oh\nuh oh\nuh oh\nuh oh\nuh oh\nuh oh\nuh oh\nuh oh\nuh oh\nuh oh\nuh oh\nuh oh\nuh oh\nuh oh\nuh oh\nuh oh\nuh oh\nuh oh\nuh oh\nuh oh\nuh oh\nuh oh\nuh oh\nuh oh\nuh oh\nuh oh\nuh oh\nuh oh\nuh oh\nuh oh\nuh oh\nuh oh\nuh oh\nuh oh\nuh oh\nuh oh\nuh oh\nuh oh\nuh oh\nuh oh\nuh oh\nuh oh\nuh oh\nuh oh\nuh oh\nuh oh\nuh oh\nuh oh\nuh oh\nuh oh\nuh oh\nuh oh\nuh oh\nuh oh\nuh oh\nuh oh\nuh oh\nuh oh\nuh oh\nuh oh\nuh oh\nuh oh\nuh oh\nuh oh\nuh oh\nuh oh\nuh oh\nuh oh\nuh oh\nuh oh\nuh oh\nuh oh\nuh oh\nuh oh\nuh oh\nuh oh\nuh oh\nuh oh\nuh oh\nuh oh\nuh oh\nuh oh\nuh oh\nuh oh\nuh oh\nuh oh\nuh oh\nuh oh\nuh oh\nuh oh\nuh oh\nuh oh\nuh oh\nuh oh\nuh oh\nuh oh\nuh oh\nuh oh\nuh oh\nuh oh\nuh oh\nuh oh\nuh oh\nuh oh\nuh oh\nuh oh\nuh oh\nuh oh\nuh oh\nuh oh\nuh oh\nuh oh\nuh oh\nuh oh\nuh oh\nuh oh\nuh oh\nuh oh\nuh oh\nuh oh\nuh oh\nuh oh\nuh oh\nuh oh\nuh oh\nuh oh\nuh oh\nuh oh\nuh oh\nuh oh\nuh oh\nuh oh\nuh oh\nuh oh\nuh oh\nuh oh\nuh oh\nuh oh\nuh oh\nuh oh\nuh oh\nuh oh\nuh oh\nuh oh\nuh oh\nuh oh\nuh oh\nuh oh\nuh oh\nuh oh\nuh oh\nuh oh\nuh oh\nuh oh\nuh oh\nuh oh\nuh oh\nuh oh\nuh oh\nuh oh\nuh oh\nuh oh\nuh oh\nuh oh\nuh oh\nuh oh\nuh oh\nuh oh\nuh oh\nuh oh\nuh oh\nuh oh\nuh oh\nuh oh\nuh oh\nuh oh\nuh oh\nuh oh\nuh oh\nuh oh\nuh oh\nuh oh\nuh oh\nuh oh\nuh oh\nuh oh\nuh oh\nuh oh\nuh oh\nuh oh\nuh oh\nuh oh\nuh oh\nuh oh\nuh oh\nuh oh\nuh oh\nuh oh\nuh oh\nuh oh\nuh oh\nuh oh\nuh oh\nuh oh\nuh oh\nuh oh\nuh oh\nuh oh\nuh oh\nuh oh\nuh oh\nuh oh\nuh oh\nuh oh\nuh oh\nuh oh\nuh oh\nuh oh\nuh oh\nuh oh\nuh oh\nuh oh\nuh oh\nuh oh\nuh oh\nuh oh\nuh oh\nuh oh\nuh oh\nuh oh\nuh oh\nuh oh\nuh oh\nuh oh\nuh oh\nuh oh\nuh oh\nuh oh\nuh oh\nuh oh\nuh oh\nuh oh\nuh oh\nuh oh\nuh oh\nuh oh\nuh oh\nuh oh\nuh oh\nuh oh\nuh oh\nuh oh\nuh oh\nuh oh\nuh oh\nuh oh\nuh oh\nuh oh\nuh oh\nuh oh\nuh oh\nuh oh\nuh oh\nuh oh\nuh oh\nuh oh\nuh oh\nuh oh\nuh oh\nuh oh\nuh oh\nuh oh\nuh oh\nuh oh\nuh oh\nuh oh\nuh oh\nuh oh\nuh oh\nuh oh\nuh oh\nuh oh\nuh oh\nuh oh\nuh oh\nuh oh\nuh oh\nuh oh\nuh oh\nuh oh\nuh oh\nuh oh\nuh oh\nuh oh\nuh oh\nuh oh\nuh oh\nuh oh\nuh oh\nuh oh\nuh oh\nuh oh\nuh oh\nuh oh\nuh oh\nuh oh\nuh oh\nuh oh\nuh oh\nuh oh\nuh oh\nuh oh\nuh oh\nuh oh\nuh oh\nuh oh\nuh oh\nuh oh\nuh oh\nuh oh\nuh oh\nuh oh\nuh oh\nuh oh\nuh oh\nuh oh\nuh oh\nuh oh\nuh oh\nuh oh\nuh oh\nuh oh\nuh oh\nuh oh\nuh oh\nuh oh\nuh oh\nuh oh\nuh oh\nuh oh\nuh oh\nuh oh\nuh oh\nuh oh\nuh oh\nuh oh\nuh oh\nuh oh\nuh oh\nuh oh\nuh oh\nuh oh\nuh oh\nuh oh\nuh oh\nuh oh\nuh oh\nuh oh\nuh oh\nuh oh\nuh oh\nuh oh\nuh oh\nuh oh\nuh oh\nuh oh\nuh oh\nuh oh\nuh oh\nuh oh\nuh oh\nuh oh\nuh oh\nuh oh\nuh oh\nuh oh\nuh oh\nuh oh\nuh oh\nuh oh\nuh oh\nuh oh\nuh oh\nuh oh\nuh oh\nuh oh\nuh oh\nuh oh\nuh oh\nuh oh\nuh oh\nuh oh\nuh oh\nuh oh\nuh oh\nuh oh\nuh oh\nuh oh\nuh oh\nuh oh\nuh oh\nuh oh\nuh oh\nuh oh\nuh oh\nuh oh\nuh oh\nuh oh\nuh oh\nuh oh\nuh oh\nuh oh\nuh oh\nuh oh\nuh oh\nuh oh\nuh oh\nuh oh\nuh oh\nuh oh\nuh oh\nuh oh\nuh oh\nuh oh\nuh oh\nuh oh\nuh oh\nuh oh\nuh oh\nuh oh\nuh oh\nuh oh\nuh oh\nuh oh\nuh oh\nuh oh\nuh oh\nuh oh\nuh oh\nuh oh\nuh oh\nuh oh\nuh oh\nuh oh\nuh oh\nuh oh\nuh oh\nuh oh\nuh oh\nuh oh\nuh oh\nuh oh\nuh oh\nuh oh\nuh oh\nuh oh\nuh oh\nuh oh\nuh oh\nuh oh\nuh oh\nuh oh\nuh oh\nuh oh\nuh oh\nuh oh\nuh oh\nuh oh\nuh oh\nuh oh\nuh oh\nuh oh\nuh oh\nuh oh\nuh oh\nuh oh\nuh oh\nuh oh\nuh oh\nuh oh\nuh oh\nuh oh\nuh oh\nuh oh\nuh oh\nuh oh\nuh oh\nuh oh\nuh oh\nuh oh\nuh oh\nuh oh\nuh oh\nuh oh\nuh oh\nuh oh\nuh oh\nuh oh\nuh oh\nuh oh\nuh oh\nuh oh\nuh oh\nuh oh\nuh oh\nuh oh\nuh oh\nuh oh\nuh oh\nuh oh\nuh oh\nuh oh\nuh oh\nuh oh\nuh oh\nuh oh\nuh oh\nuh oh\nuh oh\nuh oh\nuh oh\nuh oh\nuh oh\nuh oh\nuh oh\nuh oh\nuh oh\nuh oh\nuh oh\nuh oh\nuh oh\nuh oh\nuh oh\nuh oh\nuh oh\nuh oh\nuh oh\nuh oh\nuh oh\nuh oh\nuh oh\nuh oh\nuh oh\nuh oh\nuh oh\nuh oh\nuh oh\nuh oh\nuh oh\nuh oh\nuh oh\nuh oh\nuh oh\nuh oh\nuh oh\nuh oh\nuh oh\nuh oh\nuh oh\nuh oh\nuh oh\nuh oh\nuh oh\nuh oh\nuh oh\nuh oh\nuh oh\nuh oh\nuh oh\nuh oh\nuh oh\nuh oh\nuh oh\nuh oh\nuh oh\nuh oh\nuh oh\nuh oh\nuh oh\nuh oh\nuh oh\nuh oh\nuh oh\nuh oh\nuh oh\nuh oh\nuh oh\nuh oh\nuh oh\nuh oh\nuh oh\nuh oh\nuh oh\nuh oh\nuh oh\nuh oh\nuh oh\nuh oh\nuh oh\nuh oh\nuh oh\nuh oh\nuh oh\nuh oh\nuh oh\nuh oh\nuh oh\nuh oh\nuh oh\nuh oh\nuh oh\nuh oh\nuh oh\nuh oh\nuh oh\nuh oh\nuh oh\nuh oh\nuh oh\nuh oh\nuh oh\nuh oh\nuh oh\nuh oh\nuh oh\nuh oh\nuh oh\nuh oh\nuh oh\nuh oh\nuh oh\nuh oh\nuh oh\nuh oh\nuh oh\nuh oh\nuh oh\nuh oh\nuh oh\nuh oh\nuh oh\nuh oh\nuh oh\nuh oh\nuh oh\nuh oh\nuh oh\nuh oh\nuh oh\nuh oh\nuh oh\nuh oh\nuh oh\nuh oh\nuh oh\nuh oh\nuh oh\nuh oh\nuh oh\nuh oh\nuh oh\nuh oh\nuh oh\nuh oh\nuh oh\nuh oh\nuh oh\nuh oh\nuh oh\nuh oh\nuh oh\nuh oh\nuh oh\nuh oh\nuh oh\nuh oh\nuh oh\nuh oh\nuh oh\nuh oh\nuh oh\nuh oh\nuh oh\nuh oh\nuh oh\nuh oh\nuh oh\nuh oh\nuh oh\nuh oh\nuh oh\nuh oh\nuh oh\nuh oh\nuh oh\nuh oh\nuh oh\nuh oh\nuh oh\nuh oh\nuh oh\nuh oh\nuh oh\nuh oh\nuh oh\nuh oh\nuh oh\nuh oh\nuh oh\nuh oh\nuh oh\nuh oh\nuh oh\nuh oh\nuh oh\nuh oh\nuh oh\nuh oh\nuh oh\nuh oh\nuh oh\nuh oh\nuh oh\nuh oh\nuh oh\nuh oh\nuh oh\nuh oh\nuh oh\nuh oh\nuh oh\nuh oh\nuh oh\nuh oh\nuh oh\nuh oh\nuh oh\nuh oh\nuh oh\nuh oh\nuh oh\nuh oh\nuh oh\nuh oh\nuh oh\nuh oh\nuh oh\nuh oh\nuh oh\nuh oh\nuh oh\nuh oh\nuh oh\nuh oh\nuh oh\nuh oh\nuh oh\nuh oh\nuh oh\nuh oh\nuh oh\nuh oh\nuh oh\nuh oh\nuh oh\nuh oh\nuh oh\nuh oh\nuh oh\nuh oh\nuh oh\nuh oh\nuh oh\nuh oh\nuh oh\nuh oh\nuh oh\nuh oh\nuh oh\nuh oh\nuh oh\nuh oh\nuh oh\nuh oh\nuh oh\nuh oh\nuh oh\nuh oh\nuh oh\nuh oh\nuh oh\nuh oh\nuh oh\nuh oh\nuh oh\nuh oh\nuh oh\nuh oh\nuh oh\nuh oh\nuh oh\nuh oh\nuh oh\nuh oh\nuh oh\nuh oh\nuh oh\nuh oh\nuh oh\nuh oh\nuh oh\nuh oh\nuh oh\nuh oh\nuh oh\nuh oh\nuh oh\nuh oh\nuh oh\nuh oh\nuh oh\nuh oh\nuh oh\nuh oh\nuh oh\nuh oh\nuh oh\nuh oh\nuh oh\nuh oh\nuh oh\nuh oh\nuh oh\nuh oh\nuh oh\nuh oh\nuh oh\nuh oh\nuh oh\nuh oh\nuh oh\nuh oh\nuh oh\nuh oh\nuh oh\nuh oh\nuh oh\nuh oh\nuh oh\nuh oh\nuh oh\nuh oh\nuh oh\nuh oh\nuh oh\nuh oh\nuh oh\nuh oh\nuh oh\nuh oh\nuh oh\nuh oh\nuh oh\nuh oh\nuh oh\nuh oh\nuh oh\nuh oh\nuh oh\nuh oh\nuh oh\nuh oh\nuh oh\nuh oh\nuh oh\nuh oh\nuh oh\nuh oh\nuh oh\nuh oh\nuh oh\nuh oh\nuh oh\nuh oh\nuh oh\nuh oh\nuh oh\nuh oh\nuh oh\nuh oh\nuh oh\nuh oh\nuh oh\nuh oh\nuh oh\nuh oh\nuh oh\nuh oh\nuh oh\nuh oh\nuh oh\nuh oh\nuh oh\nuh oh\nuh oh\nuh oh\nuh oh\nuh oh\nuh oh\nuh oh\nuh oh\nuh oh\nuh oh\nuh oh\nuh oh\nuh oh\nuh oh\nuh oh\nuh oh\nuh oh\nuh oh\nuh oh\nuh oh\nuh oh\nuh oh\nuh oh\nuh oh\nuh oh\nuh oh\nuh oh\nuh oh\nuh oh\nuh oh\nuh oh\nuh oh\nuh oh\nuh oh\nuh oh\nuh oh\nuh oh\nuh oh\nuh oh\nuh oh\nuh oh\nuh oh\nuh oh\nuh oh\nuh oh\nuh oh\nuh oh\nuh oh\nuh oh\nuh oh\nuh oh\nuh oh\nuh oh\nuh oh\nuh oh\nuh oh\nuh oh\nuh oh\nuh oh\nuh oh\nuh oh\nuh oh\nuh oh\nuh oh\nuh oh\nuh oh\nuh oh\nuh oh\nuh oh\nuh oh\nuh oh\nuh oh\nuh oh\nuh oh\nuh oh\nuh oh\nuh oh\nuh oh\nuh oh\nuh oh\nuh oh\nuh oh\nuh oh\nuh oh\nuh oh\nuh oh\nuh oh\nuh oh\nuh oh\nuh oh\nuh oh\nuh oh\nuh oh\nuh oh\nuh oh\nuh oh\nuh oh\nuh oh\nuh oh\nuh oh\nuh oh\nuh oh\nuh oh\nuh oh\nuh oh\nuh oh\nuh oh\nuh oh\n"
    }
   ],
   "source": [
    "for i in range(len(srs_counts)-1):\n",
    "    if srs_counts[i].index.equals(srs_counts[i+1].index):\n",
    "        print('uh oh')\n",
    "#srs_fpkm_uq"
   ]
  },
  {
   "cell_type": "code",
   "execution_count": 9,
   "metadata": {},
   "outputs": [
    {
     "output_type": "execute_result",
     "data": {
      "text/plain": "'a24.3b'"
     },
     "metadata": {},
     "execution_count": 9
    }
   ],
   "source": [
    "'a{:3.1f}b'.format(24.28)"
   ]
  },
  {
   "cell_type": "code",
   "execution_count": 4,
   "metadata": {
    "tags": []
   },
   "outputs": [],
   "source": [
    "srs_fpkm_uq = list()\n",
    "for counts in srs_counts:\n",
    "    fpkm, fpkm_uq = tc.calculate_fpkm(df_gencode_genes, counts)\n",
    "    srs_fpkm_uq.append(fpkm_uq)"
   ]
  },
  {
   "cell_type": "code",
   "execution_count": 7,
   "metadata": {},
   "outputs": [
    {
     "output_type": "execute_result",
     "data": {
      "text/plain": "                       id  intensity\n0      ENSG00000000003.13        837\n1       ENSG00000000005.5          2\n2      ENSG00000000419.11        638\n3      ENSG00000000457.12        355\n4      ENSG00000000460.15        322\n...                   ...        ...\n60478   ENSGR0000275287.3          0\n60479   ENSGR0000276543.3          0\n60480   ENSGR0000277120.3          0\n60481   ENSGR0000280767.1          0\n60482   ENSGR0000281849.1          0\n\n[60483 rows x 2 columns]",
      "text/html": "<div>\n<style scoped>\n    .dataframe tbody tr th:only-of-type {\n        vertical-align: middle;\n    }\n\n    .dataframe tbody tr th {\n        vertical-align: top;\n    }\n\n    .dataframe thead th {\n        text-align: right;\n    }\n</style>\n<table border=\"1\" class=\"dataframe\">\n  <thead>\n    <tr style=\"text-align: right;\">\n      <th></th>\n      <th>id</th>\n      <th>intensity</th>\n    </tr>\n  </thead>\n  <tbody>\n    <tr>\n      <th>0</th>\n      <td>ENSG00000000003.13</td>\n      <td>837</td>\n    </tr>\n    <tr>\n      <th>1</th>\n      <td>ENSG00000000005.5</td>\n      <td>2</td>\n    </tr>\n    <tr>\n      <th>2</th>\n      <td>ENSG00000000419.11</td>\n      <td>638</td>\n    </tr>\n    <tr>\n      <th>3</th>\n      <td>ENSG00000000457.12</td>\n      <td>355</td>\n    </tr>\n    <tr>\n      <th>4</th>\n      <td>ENSG00000000460.15</td>\n      <td>322</td>\n    </tr>\n    <tr>\n      <th>...</th>\n      <td>...</td>\n      <td>...</td>\n    </tr>\n    <tr>\n      <th>60478</th>\n      <td>ENSGR0000275287.3</td>\n      <td>0</td>\n    </tr>\n    <tr>\n      <th>60479</th>\n      <td>ENSGR0000276543.3</td>\n      <td>0</td>\n    </tr>\n    <tr>\n      <th>60480</th>\n      <td>ENSGR0000277120.3</td>\n      <td>0</td>\n    </tr>\n    <tr>\n      <th>60481</th>\n      <td>ENSGR0000280767.1</td>\n      <td>0</td>\n    </tr>\n    <tr>\n      <th>60482</th>\n      <td>ENSGR0000281849.1</td>\n      <td>0</td>\n    </tr>\n  </tbody>\n</table>\n<p>60483 rows × 2 columns</p>\n</div>"
     },
     "metadata": {},
     "execution_count": 7
    }
   ],
   "source": [
    "import pandas as pd\n",
    "import os\n",
    "df_tmp1 = pd.read_csv(os.path.join(links_dir, '0026d9c7-db1e-4cb7-a3d4-4a738a2a96a8.htseq_counts.txt'), sep='\\t', skipfooter=5, names=['id','intensity'])\n",
    "df_tmp2 = pd.read_csv(os.path.join(links_dir, '004fc989-a52b-417b-98c5-f84d7e16a7f5.rna_seq.star_gene_counts.tsv'), sep='\\t', skiprows=5, usecols=[0,1], names=['id','intensity'])\n",
    "df_tmp1"
   ]
  },
  {
   "cell_type": "code",
   "execution_count": 8,
   "metadata": {},
   "outputs": [
    {
     "output_type": "execute_result",
     "data": {
      "text/plain": "                      id  intensity\n0      ENSG00000223972.5          0\n1      ENSG00000227232.5        222\n2      ENSG00000278267.1          9\n3      ENSG00000243485.3          1\n4      ENSG00000274890.1          0\n...                  ...        ...\n60478  ENSG00000198695.2      39366\n60479  ENSG00000210194.1          1\n60480  ENSG00000198727.2     287991\n60481  ENSG00000210195.2          0\n60482  ENSG00000210196.2       2247\n\n[60483 rows x 2 columns]",
      "text/html": "<div>\n<style scoped>\n    .dataframe tbody tr th:only-of-type {\n        vertical-align: middle;\n    }\n\n    .dataframe tbody tr th {\n        vertical-align: top;\n    }\n\n    .dataframe thead th {\n        text-align: right;\n    }\n</style>\n<table border=\"1\" class=\"dataframe\">\n  <thead>\n    <tr style=\"text-align: right;\">\n      <th></th>\n      <th>id</th>\n      <th>intensity</th>\n    </tr>\n  </thead>\n  <tbody>\n    <tr>\n      <th>0</th>\n      <td>ENSG00000223972.5</td>\n      <td>0</td>\n    </tr>\n    <tr>\n      <th>1</th>\n      <td>ENSG00000227232.5</td>\n      <td>222</td>\n    </tr>\n    <tr>\n      <th>2</th>\n      <td>ENSG00000278267.1</td>\n      <td>9</td>\n    </tr>\n    <tr>\n      <th>3</th>\n      <td>ENSG00000243485.3</td>\n      <td>1</td>\n    </tr>\n    <tr>\n      <th>4</th>\n      <td>ENSG00000274890.1</td>\n      <td>0</td>\n    </tr>\n    <tr>\n      <th>...</th>\n      <td>...</td>\n      <td>...</td>\n    </tr>\n    <tr>\n      <th>60478</th>\n      <td>ENSG00000198695.2</td>\n      <td>39366</td>\n    </tr>\n    <tr>\n      <th>60479</th>\n      <td>ENSG00000210194.1</td>\n      <td>1</td>\n    </tr>\n    <tr>\n      <th>60480</th>\n      <td>ENSG00000198727.2</td>\n      <td>287991</td>\n    </tr>\n    <tr>\n      <th>60481</th>\n      <td>ENSG00000210195.2</td>\n      <td>0</td>\n    </tr>\n    <tr>\n      <th>60482</th>\n      <td>ENSG00000210196.2</td>\n      <td>2247</td>\n    </tr>\n  </tbody>\n</table>\n<p>60483 rows × 2 columns</p>\n</div>"
     },
     "metadata": {},
     "execution_count": 8
    }
   ],
   "source": [
    "df_tmp2"
   ]
  },
  {
   "cell_type": "code",
   "execution_count": 12,
   "metadata": {},
   "outputs": [
    {
     "output_type": "execute_result",
     "data": {
      "text/plain": "'andrew.weisman'"
     },
     "metadata": {},
     "execution_count": 12
    }
   ],
   "source": [
    "'.'.join(['andrew','weisman'])"
   ]
  },
  {
   "cell_type": "code",
   "execution_count": 19,
   "metadata": {},
   "outputs": [
    {
     "output_type": "error",
     "ename": "TypeError",
     "evalue": "'int' object is not iterable",
     "traceback": [
      "\u001b[0;31m---------------------------------------------------------------------------\u001b[0m",
      "\u001b[0;31mTypeError\u001b[0m                                 Traceback (most recent call last)",
      "\u001b[0;32m<ipython-input-19-77fd970a8eb8>\u001b[0m in \u001b[0;36m<module>\u001b[0;34m\u001b[0m\n\u001b[0;32m----> 1\u001b[0;31m \u001b[0ma\u001b[0m\u001b[0;34m,\u001b[0m\u001b[0mb\u001b[0m \u001b[0;34m=\u001b[0m \u001b[0;36m4\u001b[0m\u001b[0;34m\u001b[0m\u001b[0;34m\u001b[0m\u001b[0m\n\u001b[0m",
      "\u001b[0;31mTypeError\u001b[0m: 'int' object is not iterable"
     ]
    }
   ],
   "source": [
    "a,b = 4"
   ]
  },
  {
   "cell_type": "code",
   "execution_count": 22,
   "metadata": {
    "tags": [
     "outputPrepend"
    ]
   },
   "outputs": [
    {
     "output_type": "stream",
     "name": "stdout",
     "text": "FPKM.txt\nFPKM-UQ file: f3ca36e8-e4cb-43b9-aa49-56ce19bbcd37.FPKM-UQ.txt\n----\nCounts file (STAR): f3d56faf-0d5f-4e99-b106-3bef84dc4691.rna_seq.star_gene_counts.tsv\nFPKM file: None\nFPKM-UQ file: None\n----\nCounts file (STAR): f3d72470-9c09-4c09-ab8b-ec0b99f52488.rna_seq.star_gene_counts.tsv\nFPKM file: None\nFPKM-UQ file: None\n----\nCounts file (STAR): f3db1fcc-65bb-414a-9cab-e5f47f2f8d0b.rna_seq.star_gene_counts.tsv\nFPKM file: None\nFPKM-UQ file: None\n----\nCounts file (HTSeq): f3eedabd-3837-4db8-b10d-2691817ea5ed.htseq_counts.txt\nFPKM file: f3eedabd-3837-4db8-b10d-2691817ea5ed.FPKM.txt\nFPKM-UQ file: f3eedabd-3837-4db8-b10d-2691817ea5ed.FPKM-UQ.txt\n----\nCounts file (HTSeq): f405f581-db7d-47b5-ad5a-aa90b84528fb.htseq_counts.txt\nFPKM file: f405f581-db7d-47b5-ad5a-aa90b84528fb.FPKM.txt\nFPKM-UQ file: f405f581-db7d-47b5-ad5a-aa90b84528fb.FPKM-UQ.txt\n----\nCounts file (HTSeq): f4085909-d0e3-40ee-b7d5-30b70bd42567.htseq_counts.txt\nFPKM file: f4085909-d0e3-40ee-b7d5-30b70bd42567.FPKM.txt\nFPKM-UQ file: f4085909-d0e3-40ee-b7d5-30b70bd42567.FPKM-UQ.txt\n----\nCounts file (STAR): f40a02e6-6b3b-4b14-863d-6f77ba8ba3f8.rna_seq.star_gene_counts.tsv\nFPKM file: None\nFPKM-UQ file: None\n----\nCounts file (HTSeq): f42fdca6-1020-4930-84e9-7f1bfbee77a9.htseq_counts.txt\nFPKM file: f42fdca6-1020-4930-84e9-7f1bfbee77a9.FPKM.txt\nFPKM-UQ file: f42fdca6-1020-4930-84e9-7f1bfbee77a9.FPKM-UQ.txt\n----\nCounts file (HTSeq): f455db10-904a-43eb-9392-f5e3d457bac5.htseq_counts.txt\nFPKM file: f455db10-904a-43eb-9392-f5e3d457bac5.FPKM.txt\nFPKM-UQ file: f455db10-904a-43eb-9392-f5e3d457bac5.FPKM-UQ.txt\n----\nCounts file (STAR): f46532ff-fa94-400e-9828-1c6eb6246688.rna_seq.star_gene_counts.tsv\nFPKM file: None\nFPKM-UQ file: None\n----\nCounts file (HTSeq): f47546cf-89d4-427b-a398-742895405877.htseq_counts.txt\nFPKM file: f47546cf-89d4-427b-a398-742895405877.FPKM.txt\nFPKM-UQ file: f47546cf-89d4-427b-a398-742895405877.FPKM-UQ.txt\n----\nCounts file (HTSeq): f49764c5-6b18-435a-90de-64f114a4ce89.htseq.counts\nFPKM file: f49764c5-6b18-435a-90de-64f114a4ce89.FPKM.txt\nFPKM-UQ file: f49764c5-6b18-435a-90de-64f114a4ce89.FPKM-UQ.txt\n----\nCounts file (HTSeq): f4b00b04-6341-4dbb-9dc3-102335d7b102.htseq.counts\nFPKM file: f4b00b04-6341-4dbb-9dc3-102335d7b102.FPKM.txt\nFPKM-UQ file: f4b00b04-6341-4dbb-9dc3-102335d7b102.FPKM-UQ.txt\n----\nCounts file (HTSeq): f4b0c954-6471-4ea5-b21a-38781e538881.htseq_counts.txt\nFPKM file: f4b0c954-6471-4ea5-b21a-38781e538881.FPKM.txt\nFPKM-UQ file: f4b0c954-6471-4ea5-b21a-38781e538881.FPKM-UQ.txt\n----\nCounts file (STAR): f4d09bfe-a0bb-40fc-8c4c-4d90367b9f3f.rna_seq.star_gene_counts.tsv\nFPKM file: None\nFPKM-UQ file: None\n----\nCounts file (HTSeq): f4d71dce-6fa3-4f59-b4ab-4fc7794a1892.htseq_counts.txt\nFPKM file: f4d71dce-6fa3-4f59-b4ab-4fc7794a1892.FPKM.txt\nFPKM-UQ file: f4d71dce-6fa3-4f59-b4ab-4fc7794a1892.FPKM-UQ.txt\n----\nCounts file (STAR): f4db33ab-4bfc-4fbc-a271-ab3be26d413c.rna_seq.star_gene_counts.tsv\nFPKM file: None\nFPKM-UQ file: None\n----\nCounts file (STAR): f4df1247-88ca-4308-a55b-1daa2ac3c648.rna_seq.star_gene_counts.tsv\nFPKM file: None\nFPKM-UQ file: None\n----\nCounts file (STAR): f4fd5772-213d-4edd-9be7-e863f33c7967.rna_seq.star_gene_counts.tsv\nFPKM file: None\nFPKM-UQ file: None\n----\nCounts file (HTSeq): f5039ccc-0324-4b8d-a7c3-8b6cc329c961.htseq_counts.txt\nFPKM file: f5039ccc-0324-4b8d-a7c3-8b6cc329c961.FPKM.txt\nFPKM-UQ file: f5039ccc-0324-4b8d-a7c3-8b6cc329c961.FPKM-UQ.txt\n----\nCounts file (STAR): f51efd9f-3820-49ce-b69d-2fe1c10728c9.rna_seq.star_gene_counts.tsv\nFPKM file: None\nFPKM-UQ file: None\n----\nCounts file (STAR): f5401108-0ad3-427c-981c-6750edc0ee79.rna_seq.star_gene_counts.tsv\nFPKM file: None\nFPKM-UQ file: None\n----\nCounts file (STAR): f54c6c66-ceac-4a85-8f07-7998f1b1ed25.rna_seq.star_gene_counts.tsv\nFPKM file: None\nFPKM-UQ file: None\n----\nCounts file (HTSeq): f5666250-8dce-438f-84c8-1816b8c76c37.htseq_counts.txt\nFPKM file: f5666250-8dce-438f-84c8-1816b8c76c37.FPKM.txt\nFPKM-UQ file: f5666250-8dce-438f-84c8-1816b8c76c37.FPKM-UQ.txt\n----\nCounts file (HTSeq): f5b7df2d-6f28-4d84-b6d7-2112c4ce1412.htseq.counts\nFPKM file: f5b7df2d-6f28-4d84-b6d7-2112c4ce1412.FPKM.txt\nFPKM-UQ file: f5b7df2d-6f28-4d84-b6d7-2112c4ce1412.FPKM-UQ.txt\n----\nCounts file (HTSeq): f5b81927-264c-46a0-a114-deb5f773a494.htseq_counts.txt\nFPKM file: f5b81927-264c-46a0-a114-deb5f773a494.FPKM.txt\nFPKM-UQ file: f5b81927-264c-46a0-a114-deb5f773a494.FPKM-UQ.txt\n----\nCounts file (HTSeq): f5bcd5f6-3c83-4e57-b572-b46ef606b702.htseq_counts.txt\nFPKM file: f5bcd5f6-3c83-4e57-b572-b46ef606b702.FPKM.txt\nFPKM-UQ file: f5bcd5f6-3c83-4e57-b572-b46ef606b702.FPKM-UQ.txt\n----\nCounts file (HTSeq): f5da3be7-2f8f-4125-9868-2426cd97affd.htseq_counts.txt\nFPKM file: f5da3be7-2f8f-4125-9868-2426cd97affd.FPKM.txt\nFPKM-UQ file: f5da3be7-2f8f-4125-9868-2426cd97affd.FPKM-UQ.txt\n----\nCounts file (HTSeq): f5fc954b-c3ab-4a47-84ef-839cf1675f42.htseq_counts.txt\nFPKM file: f5fc954b-c3ab-4a47-84ef-839cf1675f42.FPKM.txt\nFPKM-UQ file: f5fc954b-c3ab-4a47-84ef-839cf1675f42.FPKM-UQ.txt\n----\nCounts file (STAR): f628c038-9827-4fe7-a7f0-b32f7c823bff.rna_seq.star_gene_counts.tsv\nFPKM file: None\nFPKM-UQ file: None\n----\nCounts file (HTSeq): f63d4f47-dfd8-468e-8429-ca2fccf9285d.htseq_counts.txt\nFPKM file: f63d4f47-dfd8-468e-8429-ca2fccf9285d.FPKM.txt\nFPKM-UQ file: f63d4f47-dfd8-468e-8429-ca2fccf9285d.FPKM-UQ.txt\n----\nCounts file (STAR): f6507826-4266-4d4c-b360-1fb4032b6258.rna_seq.star_gene_counts.tsv\nFPKM file: None\nFPKM-UQ file: None\n----\nCounts file (STAR): f6552ebe-d108-40a2-8d3d-33d321dc3dcd.rna_seq.star_gene_counts.tsv\nFPKM file: None\nFPKM-UQ file: None\n----\nCounts file (HTSeq): f6ae9609-2723-49f4-b15c-7d9b87e195ef.htseq_counts.txt\nFPKM file: f6ae9609-2723-49f4-b15c-7d9b87e195ef.FPKM.txt\nFPKM-UQ file: f6ae9609-2723-49f4-b15c-7d9b87e195ef.FPKM-UQ.txt\n----\nCounts file (HTSeq): f6b04c51-8080-43ac-a1a5-4701961b7f71.htseq_counts.txt\nFPKM file: f6b04c51-8080-43ac-a1a5-4701961b7f71.FPKM.txt\nFPKM-UQ file: f6b04c51-8080-43ac-a1a5-4701961b7f71.FPKM-UQ.txt\n----\nCounts file (HTSeq): f6b9a532-f062-4061-8591-d6682668fafa.htseq_counts.txt\nFPKM file: f6b9a532-f062-4061-8591-d6682668fafa.FPKM.txt\nFPKM-UQ file: f6b9a532-f062-4061-8591-d6682668fafa.FPKM-UQ.txt\n----\nCounts file (HTSeq): f6c31415-9640-4219-802d-f6f7f285f7fd.htseq_counts.txt\nFPKM file: f6c31415-9640-4219-802d-f6f7f285f7fd.FPKM.txt\nFPKM-UQ file: f6c31415-9640-4219-802d-f6f7f285f7fd.FPKM-UQ.txt\n----\nCounts file (STAR): f6eebc4c-96e7-4f8e-bac0-6d813067ddf3.rna_seq.star_gene_counts.tsv\nFPKM file: None\nFPKM-UQ file: None\n----\nCounts file (STAR): f71f8779-c53c-4583-9d5b-b83c157a4f2b.rna_seq.star_gene_counts.tsv\nFPKM file: None\nFPKM-UQ file: None\n----\nCounts file (HTSeq): f736a8b9-2e77-4b32-902d-56c19c8cca11.htseq.counts\nFPKM file: f736a8b9-2e77-4b32-902d-56c19c8cca11.FPKM.txt\nFPKM-UQ file: f736a8b9-2e77-4b32-902d-56c19c8cca11.FPKM-UQ.txt\n----\nCounts file (STAR): f758a7db-2d1f-4c98-b93c-31d180c19104.rna_seq.star_gene_counts.tsv\nFPKM file: None\nFPKM-UQ file: None\n----\nCounts file (STAR): f7626d51-aa4a-42e4-b57e-2da0870ec246.rna_seq.star_gene_counts.tsv\nFPKM file: None\nFPKM-UQ file: None\n----\nCounts file (STAR): f77ec7c0-6eed-4dc6-9302-35fb35117d51.rna_seq.star_gene_counts.tsv\nFPKM file: None\nFPKM-UQ file: None\n----\nCounts file (HTSeq): f792f6cd-3b12-498d-ace7-72c182f50971.htseq_counts.txt\nFPKM file: f792f6cd-3b12-498d-ace7-72c182f50971.FPKM.txt\nFPKM-UQ file: f792f6cd-3b12-498d-ace7-72c182f50971.FPKM-UQ.txt\n----\nCounts file (HTSeq): f7a69289-c9bb-47f4-af4a-94952f7724b3.htseq_counts.txt\nFPKM file: f7a69289-c9bb-47f4-af4a-94952f7724b3.FPKM.txt\nFPKM-UQ file: f7a69289-c9bb-47f4-af4a-94952f7724b3.FPKM-UQ.txt\n----\nCounts file (HTSeq): f7ab97c6-4722-41cf-9e63-eb77b0aee47f.htseq_counts.txt\nFPKM file: f7ab97c6-4722-41cf-9e63-eb77b0aee47f.FPKM.txt\nFPKM-UQ file: f7ab97c6-4722-41cf-9e63-eb77b0aee47f.FPKM-UQ.txt\n----\nCounts file (HTSeq): f7e40660-8659-4272-be3a-70f6259288a4.htseq_counts.txt\nFPKM file: f7e40660-8659-4272-be3a-70f6259288a4.FPKM.txt\nFPKM-UQ file: f7e40660-8659-4272-be3a-70f6259288a4.FPKM-UQ.txt\n----\nCounts file (HTSeq): f7f0f0c1-4606-44e8-ae04-255d690da717.htseq_counts.txt\nFPKM file: f7f0f0c1-4606-44e8-ae04-255d690da717.FPKM.txt\nFPKM-UQ file: f7f0f0c1-4606-44e8-ae04-255d690da717.FPKM-UQ.txt\n----\nCounts file (STAR): f817870f-7db8-44cb-aa36-97e9701fc0b7.rna_seq.star_gene_counts.tsv\nFPKM file: None\nFPKM-UQ file: None\n----\nCounts file (HTSeq): f82fbb0a-1747-4e06-bbef-b63bde3c0e23.htseq_counts.txt\nFPKM file: f82fbb0a-1747-4e06-bbef-b63bde3c0e23.FPKM.txt\nFPKM-UQ file: f82fbb0a-1747-4e06-bbef-b63bde3c0e23.FPKM-UQ.txt\n----\nCounts file (STAR): f83f4456-1ebb-44ed-8ab5-e88818622a70.rna_seq.star_gene_counts.tsv\nFPKM file: None\nFPKM-UQ file: None\n----\nCounts file (STAR): f85a50d4-4fa9-4952-9dbf-b6014a9be557.rna_seq.star_gene_counts.tsv\nFPKM file: None\nFPKM-UQ file: None\n----\nCounts file (HTSeq): f85d67cb-d0a1-4362-8793-c51a962be33e.htseq.counts\nFPKM file: f85d67cb-d0a1-4362-8793-c51a962be33e.FPKM.txt\nFPKM-UQ file: f85d67cb-d0a1-4362-8793-c51a962be33e.FPKM-UQ.txt\n----\nCounts file (STAR): f861b72d-0b68-46e1-9ce0-56f84226f18e.rna_seq.star_gene_counts.tsv\nFPKM file: None\nFPKM-UQ file: None\n----\nCounts file (HTSeq): f8b65272-4e65-4d31-9454-ca9b635ebaad.htseq.counts\nFPKM file: f8b65272-4e65-4d31-9454-ca9b635ebaad.FPKM.txt\nFPKM-UQ file: f8b65272-4e65-4d31-9454-ca9b635ebaad.FPKM-UQ.txt\n----\nCounts file (STAR): f8d324f1-8916-4e52-858f-1089dab40691.rna_seq.star_gene_counts.tsv\nFPKM file: None\nFPKM-UQ file: None\n----\nCounts file (HTSeq): f8f204b8-aebe-4250-8090-677f451e02ed.htseq_counts.txt\nFPKM file: f8f204b8-aebe-4250-8090-677f451e02ed.FPKM.txt\nFPKM-UQ file: f8f204b8-aebe-4250-8090-677f451e02ed.FPKM-UQ.txt\n----\nCounts file (HTSeq): f911c0f1-39d9-4158-80ae-1aca18e004fc.htseq_counts.txt\nFPKM file: f911c0f1-39d9-4158-80ae-1aca18e004fc.FPKM.txt\nFPKM-UQ file: f911c0f1-39d9-4158-80ae-1aca18e004fc.FPKM-UQ.txt\n----\nCounts file (STAR): f9645005-44b7-411e-b3cf-1f3587a25d33.rna_seq.star_gene_counts.tsv\nFPKM file: None\nFPKM-UQ file: None\n----\nCounts file (HTSeq): f964a516-aa0a-4ef4-97df-9369f490329d.htseq.counts\nFPKM file: f964a516-aa0a-4ef4-97df-9369f490329d.FPKM.txt\nFPKM-UQ file: f964a516-aa0a-4ef4-97df-9369f490329d.FPKM-UQ.txt\n----\nCounts file (HTSeq): f9720915-bc46-4acb-97af-6156f1591647.htseq_counts.txt\nFPKM file: f9720915-bc46-4acb-97af-6156f1591647.FPKM.txt\nFPKM-UQ file: f9720915-bc46-4acb-97af-6156f1591647.FPKM-UQ.txt\n----\nCounts file (HTSeq): f9760164-7fa4-45f2-9622-7966042a6d44.htseq_counts.txt\nFPKM file: f9760164-7fa4-45f2-9622-7966042a6d44.FPKM.txt\nFPKM-UQ file: f9760164-7fa4-45f2-9622-7966042a6d44.FPKM-UQ.txt\n----\nCounts file (STAR): f9766f61-9d46-49c8-afea-efea444b5664.rna_seq.star_gene_counts.tsv\nFPKM file: None\nFPKM-UQ file: None\n----\nCounts file (HTSeq): f9869c10-0dde-4051-9471-ab5676576d75.htseq_counts.txt\nFPKM file: f9869c10-0dde-4051-9471-ab5676576d75.FPKM.txt\nFPKM-UQ file: f9869c10-0dde-4051-9471-ab5676576d75.FPKM-UQ.txt\n----\nCounts file (STAR): f990be6b-386e-4c8c-80ca-b531e8f68405.rna_seq.star_gene_counts.tsv\nFPKM file: None\nFPKM-UQ file: None\n----\nCounts file (STAR): f9b0e3b5-931a-474a-bb1a-87120d1290c8.rna_seq.star_gene_counts.tsv\nFPKM file: None\nFPKM-UQ file: None\n----\nCounts file (HTSeq): f9d2edea-23df-4cd3-8262-5c1ab2c22e04.htseq_counts.txt\nFPKM file: f9d2edea-23df-4cd3-8262-5c1ab2c22e04.FPKM.txt\nFPKM-UQ file: f9d2edea-23df-4cd3-8262-5c1ab2c22e04.FPKM-UQ.txt\n----\nCounts file (STAR): f9e81a15-595a-4b9b-8697-16ceb0bf68aa.rna_seq.star_gene_counts.tsv\nFPKM file: None\nFPKM-UQ file: None\n----\nCounts file (HTSeq): f9f1b4e5-d223-4dbe-ac36-32217bd43365.htseq_counts.txt\nFPKM file: f9f1b4e5-d223-4dbe-ac36-32217bd43365.FPKM.txt\nFPKM-UQ file: f9f1b4e5-d223-4dbe-ac36-32217bd43365.FPKM-UQ.txt\n----\nCounts file (STAR): fa05e4cc-c0da-468a-8dc4-49c338d2d2ff.rna_seq.star_gene_counts.tsv\nFPKM file: None\nFPKM-UQ file: None\n----\nCounts file (HTSeq): fa091a03-dae0-45b4-89ce-66379047e95d.htseq_counts.txt\nFPKM file: fa091a03-dae0-45b4-89ce-66379047e95d.FPKM.txt\nFPKM-UQ file: fa091a03-dae0-45b4-89ce-66379047e95d.FPKM-UQ.txt\n----\nCounts file (HTSeq): fa53562b-65ca-40d9-ae67-4b75ace67240.htseq_counts.txt\nFPKM file: fa53562b-65ca-40d9-ae67-4b75ace67240.FPKM.txt\nFPKM-UQ file: fa53562b-65ca-40d9-ae67-4b75ace67240.FPKM-UQ.txt\n----\nCounts file (HTSeq): fa6a16c4-9eb9-4f04-a784-1a84f57cb479.htseq_counts.txt\nFPKM file: fa6a16c4-9eb9-4f04-a784-1a84f57cb479.FPKM.txt\nFPKM-UQ file: fa6a16c4-9eb9-4f04-a784-1a84f57cb479.FPKM-UQ.txt\n----\nCounts file (STAR): fac1cf74-c853-4bfc-9cff-b90ee402869c.rna_seq.star_gene_counts.tsv\nFPKM file: None\nFPKM-UQ file: None\n----\nCounts file (STAR): faddb8cc-f4f8-415e-972b-ab0319b9b2ce.rna_seq.star_gene_counts.tsv\nFPKM file: None\nFPKM-UQ file: None\n----\nCounts file (STAR): fae11387-6835-442d-9316-569ef0bf5562.rna_seq.star_gene_counts.tsv\nFPKM file: None\nFPKM-UQ file: None\n----\nCounts file (HTSeq): faedee23-c1f5-41c3-b717-055f41ea6fb1.htseq_counts.txt\nFPKM file: faedee23-c1f5-41c3-b717-055f41ea6fb1.FPKM.txt\nFPKM-UQ file: faedee23-c1f5-41c3-b717-055f41ea6fb1.FPKM-UQ.txt\n----\nCounts file (STAR): faf083e3-f140-479c-8b6d-4fdf24dba605.rna_seq.star_gene_counts.tsv\nFPKM file: None\nFPKM-UQ file: None\n----\nCounts file (STAR): fb0f0c8e-c2ba-4b27-ae8d-d6aa830b99cc.rna_seq.star_gene_counts.tsv\nFPKM file: None\nFPKM-UQ file: None\n----\nCounts file (STAR): fb34f974-8d1d-4c0d-bba9-697c9bffc90f.rna_seq.star_gene_counts.tsv\nFPKM file: None\nFPKM-UQ file: None\n----\nCounts file (STAR): fb5f5a00-071a-4fdd-ba39-151ed8b919a4.rna_seq.star_gene_counts.tsv\nFPKM file: None\nFPKM-UQ file: None\n----\nCounts file (STAR): fb78d3a8-e9ed-4600-8a3b-5112ae7e305f.rna_seq.star_gene_counts.tsv\nFPKM file: None\nFPKM-UQ file: None\n----\nCounts file (HTSeq): fb9431ca-244a-4765-afa5-4cf8966851b0.htseq_counts.txt\nFPKM file: fb9431ca-244a-4765-afa5-4cf8966851b0.FPKM.txt\nFPKM-UQ file: fb9431ca-244a-4765-afa5-4cf8966851b0.FPKM-UQ.txt\n----\nCounts file (HTSeq): fb992ea9-0206-4290-a230-6e5325f6509d.htseq_counts.txt\nFPKM file: fb992ea9-0206-4290-a230-6e5325f6509d.FPKM.txt\nFPKM-UQ file: fb992ea9-0206-4290-a230-6e5325f6509d.FPKM-UQ.txt\n----\nCounts file (STAR): fbcb2a77-df80-4417-91b6-22fa3c31cac0.rna_seq.star_gene_counts.tsv\nFPKM file: None\nFPKM-UQ file: None\n----\nCounts file (STAR): fbfab6b4-0083-49af-a5ae-128ca2139a48.rna_seq.star_gene_counts.tsv\nFPKM file: None\nFPKM-UQ file: None\n----\nCounts file (HTSeq): fc189144-a62a-4005-8ff3-127caee3311c.htseq_counts.txt\nFPKM file: fc189144-a62a-4005-8ff3-127caee3311c.FPKM.txt\nFPKM-UQ file: fc189144-a62a-4005-8ff3-127caee3311c.FPKM-UQ.txt\n----\nCounts file (HTSeq): fc2d2fee-2997-4513-9b81-dfe7c3517d5a.htseq_counts.txt\nFPKM file: fc2d2fee-2997-4513-9b81-dfe7c3517d5a.FPKM.txt\nFPKM-UQ file: fc2d2fee-2997-4513-9b81-dfe7c3517d5a.FPKM-UQ.txt\n----\nCounts file (HTSeq): fc373693-616e-4880-a412-73b8c6aef5e0.htseq_counts.txt\nFPKM file: fc373693-616e-4880-a412-73b8c6aef5e0.FPKM.txt\nFPKM-UQ file: fc373693-616e-4880-a412-73b8c6aef5e0.FPKM-UQ.txt\n----\nCounts file (STAR): fce28d9e-a845-4ab2-ac7d-5970356a8d72.rna_seq.star_gene_counts.tsv\nFPKM file: None\nFPKM-UQ file: None\n----\nCounts file (STAR): fce51452-bce1-4629-b539-00c927500417.rna_seq.star_gene_counts.tsv\nFPKM file: None\nFPKM-UQ file: None\n----\nCounts file (STAR): fcee6507-f963-4283-a143-4af27d77f0a6.rna_seq.star_gene_counts.tsv\nFPKM file: None\nFPKM-UQ file: None\n----\nCounts file (HTSeq): fd099c66-8288-4b6d-bdc8-bfb16db1ca42.htseq_counts.txt\nFPKM file: fd099c66-8288-4b6d-bdc8-bfb16db1ca42.FPKM.txt\nFPKM-UQ file: fd099c66-8288-4b6d-bdc8-bfb16db1ca42.FPKM-UQ.txt\n----\nCounts file (STAR): fd110c7b-d58e-4ff5-8cc8-35347ec43dcc.rna_seq.star_gene_counts.tsv\nFPKM file: None\nFPKM-UQ file: None\n----\nCounts file (HTSeq): fd140e4b-5d0e-44f9-9734-273a3d163a9b.htseq_counts.txt\nFPKM file: fd140e4b-5d0e-44f9-9734-273a3d163a9b.FPKM.txt\nFPKM-UQ file: fd140e4b-5d0e-44f9-9734-273a3d163a9b.FPKM-UQ.txt\n----\nCounts file (STAR): fd199239-b0f4-414b-bf1f-97b8b26ab1b4.rna_seq.star_gene_counts.tsv\nFPKM file: None\nFPKM-UQ file: None\n----\nCounts file (STAR): fd30b4d6-d743-43eb-9299-5ae3b908f037.rna_seq.star_gene_counts.tsv\nFPKM file: None\nFPKM-UQ file: None\n----\nCounts file (STAR): fd36766e-bdfe-46e5-bc60-50e4777779d9.rna_seq.star_gene_counts.tsv\nFPKM file: None\nFPKM-UQ file: None\n----\nCounts file (STAR): fd6d59dd-8619-4ae4-b6fe-3cc65d81eb43.rna_seq.star_gene_counts.tsv\nFPKM file: None\nFPKM-UQ file: None\n----\nCounts file (HTSeq): fd90acd1-c655-41a0-aac6-bff942e15ecb.htseq_counts.txt\nFPKM file: fd90acd1-c655-41a0-aac6-bff942e15ecb.FPKM.txt\nFPKM-UQ file: fd90acd1-c655-41a0-aac6-bff942e15ecb.FPKM-UQ.txt\n----\nCounts file (HTSeq): fd9339b0-8a5d-4ac1-bfca-5c2cd3b7b9f2.htseq_counts.txt\nFPKM file: fd9339b0-8a5d-4ac1-bfca-5c2cd3b7b9f2.FPKM.txt\nFPKM-UQ file: fd9339b0-8a5d-4ac1-bfca-5c2cd3b7b9f2.FPKM-UQ.txt\n----\nCounts file (STAR): fd9524fd-abd2-4407-ada4-37edd3d38111.rna_seq.star_gene_counts.tsv\nFPKM file: None\nFPKM-UQ file: None\n----\nCounts file (HTSeq): fdb03476-e308-4aa8-ac40-d663362476b6.htseq_counts.txt\nFPKM file: fdb03476-e308-4aa8-ac40-d663362476b6.FPKM.txt\nFPKM-UQ file: fdb03476-e308-4aa8-ac40-d663362476b6.FPKM-UQ.txt\n----\nCounts file (STAR): fdb28d2c-a982-4903-b284-cbeda946c19f.rna_seq.star_gene_counts.tsv\nFPKM file: None\nFPKM-UQ file: None\n----\nCounts file (STAR): fdb63c32-9d4c-4337-9fd5-1dfc47c978da.rna_seq.star_gene_counts.tsv\nFPKM file: None\nFPKM-UQ file: None\n----\nCounts file (HTSeq): fdd21e76-aef6-4545-9eea-40b4acb20f6e.htseq_counts.txt\nFPKM file: fdd21e76-aef6-4545-9eea-40b4acb20f6e.FPKM.txt\nFPKM-UQ file: fdd21e76-aef6-4545-9eea-40b4acb20f6e.FPKM-UQ.txt\n----\nCounts file (HTSeq): fe4f9692-c06c-44c2-8eed-b79ee136393d.htseq_counts.txt\nFPKM file: fe4f9692-c06c-44c2-8eed-b79ee136393d.FPKM.txt\nFPKM-UQ file: fe4f9692-c06c-44c2-8eed-b79ee136393d.FPKM-UQ.txt\n----\nCounts file (HTSeq): fe552cf2-a2c3-4734-a7ef-01e4bf908e40.htseq_counts.txt\nFPKM file: fe552cf2-a2c3-4734-a7ef-01e4bf908e40.FPKM.txt\nFPKM-UQ file: fe552cf2-a2c3-4734-a7ef-01e4bf908e40.FPKM-UQ.txt\n----\nCounts file (STAR): fe958ac3-6e9f-470a-8484-ded269f27d14.rna_seq.star_gene_counts.tsv\nFPKM file: None\nFPKM-UQ file: None\n----\nCounts file (STAR): fea1c840-5085-43e2-b168-0b97a8259dae.rna_seq.star_gene_counts.tsv\nFPKM file: None\nFPKM-UQ file: None\n----\nCounts file (HTSeq): fea2f740-e9aa-4aa4-950b-19d1f5feb0a9.htseq.counts\nFPKM file: fea2f740-e9aa-4aa4-950b-19d1f5feb0a9.FPKM.txt\nFPKM-UQ file: fea2f740-e9aa-4aa4-950b-19d1f5feb0a9.FPKM-UQ.txt\n----\nCounts file (HTSeq): fee4a928-5dcb-42b8-a179-7a309b99b070.htseq_counts.txt\nFPKM file: fee4a928-5dcb-42b8-a179-7a309b99b070.FPKM.txt\nFPKM-UQ file: fee4a928-5dcb-42b8-a179-7a309b99b070.FPKM-UQ.txt\n----\nCounts file (STAR): feef65d4-fe35-4c62-a0cb-8500300fa038.rna_seq.star_gene_counts.tsv\nFPKM file: None\nFPKM-UQ file: None\n----\nCounts file (STAR): ff415e7a-dcdc-4fac-a825-da46814541af.rna_seq.star_gene_counts.tsv\nFPKM file: None\nFPKM-UQ file: None\n----\nCounts file (HTSeq): ff41a6b6-d3d3-4cf8-99c2-700419dd98ce.htseq_counts.txt\nFPKM file: ff41a6b6-d3d3-4cf8-99c2-700419dd98ce.FPKM.txt\nFPKM-UQ file: ff41a6b6-d3d3-4cf8-99c2-700419dd98ce.FPKM-UQ.txt\n----\nCounts file (STAR): ff6befc6-3c22-4c31-9166-e95db04e0dcf.rna_seq.star_gene_counts.tsv\nFPKM file: None\nFPKM-UQ file: None\n----\nCounts file (STAR): ff6ebcd0-18b3-4334-aee2-187f41068eb9.rna_seq.star_gene_counts.tsv\nFPKM file: None\nFPKM-UQ file: None\n----\nCounts file (HTSeq): ff82239b-7593-4adb-8fea-3b860dc4a43f.htseq_counts.txt\nFPKM file: ff82239b-7593-4adb-8fea-3b860dc4a43f.FPKM.txt\nFPKM-UQ file: ff82239b-7593-4adb-8fea-3b860dc4a43f.FPKM-UQ.txt\n----\nCounts file (STAR): ff9b4af2-9201-4b7e-9429-74344c0b0a3c.rna_seq.star_gene_counts.tsv\nFPKM file: None\nFPKM-UQ file: None\n----\nCounts file (HTSeq): ff9edf69-21ab-4ebc-bf6a-b5281bab1094.htseq_counts.txt\nFPKM file: ff9edf69-21ab-4ebc-bf6a-b5281bab1094.FPKM.txt\nFPKM-UQ file: ff9edf69-21ab-4ebc-bf6a-b5281bab1094.FPKM-UQ.txt\n----\nCounts file (STAR): ffbbac5a-6efc-457b-8075-b982004243cb.rna_seq.star_gene_counts.tsv\nFPKM file: None\nFPKM-UQ file: None\n----\nCounts file (HTSeq): fffee315-9aa3-44d2-8c89-78a2c1d107e7.htseq_counts.txt\nFPKM file: fffee315-9aa3-44d2-8c89-78a2c1d107e7.FPKM.txt\nFPKM-UQ file: fffee315-9aa3-44d2-8c89-78a2c1d107e7.FPKM-UQ.txt\n"
    }
   ],
   "source": [
    "#sum([ len(x) for x in files_per_sample ])\n",
    "#counts_suffixes = ['htseq.counts', 'htseq_counts.txt']\n",
    "star_counts_suffix = 'rna_seq.star_gene_counts.tsv'\n",
    "fpkm_suffix = 'FPKM.txt'\n",
    "fpkm_uq_suffix = 'FPKM-UQ.txt'\n",
    "for files in files_per_sample:\n",
    "    counts_file = None\n",
    "    fpkm_file = None\n",
    "    fpkm_uq_file = None\n",
    "    counts_type = None\n",
    "    for ifile, x in enumerate([ curr_file.split('.')[1:] for curr_file in files ]):\n",
    "        suffix = '.'.join(x)\n",
    "        if suffix == fpkm_suffix:\n",
    "            fpkm_file = files[ifile]\n",
    "        elif suffix == fpkm_uq_suffix:\n",
    "            fpkm_uq_file = files[ifile]\n",
    "        else:\n",
    "            if suffix == star_counts_suffix:\n",
    "                counts_type = 'STAR'\n",
    "            else:\n",
    "                counts_type = 'HTSeq'\n",
    "            counts_file = files[ifile]\n",
    "    print('----')\n",
    "    print('Counts file ({}): {}'.format(counts_type, counts_file))\n",
    "    print('FPKM file: {}'.format(fpkm_file))\n",
    "    print('FPKM-UQ file: {}'.format(fpkm_uq_file))"
   ]
  },
  {
   "cell_type": "code",
   "execution_count": 7,
   "metadata": {},
   "outputs": [
    {
     "output_type": "execute_result",
     "data": {
      "text/plain": "  '54fbf39a-70b3-4bd1-a39b-597e21d77214.FPKM.txt'],\n ['54fce989-7127-4f6d-86eb-a4b04c60e7d8.FPKM.txt',\n  '54fce989-7127-4f6d-86eb-a4b04c60e7d8.FPKM-UQ.txt',\n  '54fce989-7127-4f6d-86eb-a4b04c60e7d8.htseq.counts'],\n ['553beb25-d7f7-460a-9f7b-c7ca92287376.rna_seq.star_gene_counts.tsv'],\n ['558b01fd-fc6c-44d3-a8f3-a9ae32587af5.rna_seq.star_gene_counts.tsv'],\n ['558c2808-7894-4e7c-87e3-38d4a79af3e4.rna_seq.star_gene_counts.tsv'],\n ['55be8ffb-62bd-43b6-8385-dace39ee844e.rna_seq.star_gene_counts.tsv'],\n ['55e79512-8730-45b3-b781-edc2a6f4ac6d.FPKM.txt',\n  '55e79512-8730-45b3-b781-edc2a6f4ac6d.FPKM-UQ.txt',\n  '55e79512-8730-45b3-b781-edc2a6f4ac6d.htseq_counts.txt'],\n ['562580bc-7759-4ac0-8ea3-fa8e8559b591.rna_seq.star_gene_counts.tsv'],\n ['5651f49b-dec0-424c-8a78-04c55cfc752d.rna_seq.star_gene_counts.tsv'],\n ['565367a2-ff0e-46bf-9c53-818a9e92d35c.htseq_counts.txt',\n  '565367a2-ff0e-46bf-9c53-818a9e92d35c.FPKM-UQ.txt',\n  '565367a2-ff0e-46bf-9c53-818a9e92d35c.FPKM.txt'],\n ['56652c60-be48-4559-ae9d-646397d6c799.htseq_counts.txt',\n  '56652c60-be48-4559-ae9d-646397d6c799.FPKM-UQ.txt',\n  '56652c60-be48-4559-ae9d-646397d6c799.FPKM.txt'],\n ['567d30cc-f210-40f7-b08b-a73de62d4b8b.FPKM.txt',\n  '567d30cc-f210-40f7-b08b-a73de62d4b8b.htseq_counts.txt',\n  '567d30cc-f210-40f7-b08b-a73de62d4b8b.FPKM-UQ.txt'],\n ['56937c45-54bd-487a-9492-65f95f423372.rna_seq.star_gene_counts.tsv'],\n ['569a4f6c-cbef-4c33-9c20-f68e8cbd5dac.rna_seq.star_gene_counts.tsv'],\n ['569ac08b-4de9-47b4-a45c-a351e8e8dcce.rna_seq.star_gene_counts.tsv'],\n ['56ae20b4-e66b-4e82-9a0a-6d2267b248e9.htseq_counts.txt',\n  '56ae20b4-e66b-4e82-9a0a-6d2267b248e9.FPKM.txt',\n  '56ae20b4-e66b-4e82-9a0a-6d2267b248e9.FPKM-UQ.txt'],\n ['56ce8e1a-ea6d-4121-84df-4c668c17fd60.FPKM.txt',\n  '56ce8e1a-ea6d-4121-84df-4c668c17fd60.htseq_counts.txt',\n  '56ce8e1a-ea6d-4121-84df-4c668c17fd60.FPKM-UQ.txt'],\n ['571d0b87-fe85-463a-b6d5-5c689166c655.rna_seq.star_gene_counts.tsv'],\n ['572195d2-8c93-4066-8b50-e8147ac677a9.FPKM-UQ.txt',\n  '572195d2-8c93-4066-8b50-e8147ac677a9.htseq_counts.txt',\n  '572195d2-8c93-4066-8b50-e8147ac677a9.FPKM.txt'],\n ['5760d869-4eca-4b8d-b591-8a10d09af521.rna_seq.star_gene_counts.tsv'],\n ['5769a7e3-57f2-4133-b349-1288bca49d2f.rna_seq.star_gene_counts.tsv'],\n ['576d2cc5-6d2b-4a43-90e8-397b3b6130cd.rna_seq.star_gene_counts.tsv'],\n ['578d0492-4548-42aa-a13c-c443fc1748b6.FPKM.txt',\n  '578d0492-4548-42aa-a13c-c443fc1748b6.FPKM-UQ.txt',\n  '578d0492-4548-42aa-a13c-c443fc1748b6.htseq_counts.txt'],\n ['57ab9787-ff89-48fa-9d88-14434ca6d0ef.rna_seq.star_gene_counts.tsv'],\n ['57bd8b64-fba7-454e-9915-e1045b66c64e.htseq_counts.txt',\n  '57bd8b64-fba7-454e-9915-e1045b66c64e.FPKM.txt',\n  '57bd8b64-fba7-454e-9915-e1045b66c64e.FPKM-UQ.txt'],\n ['580a0da9-b63a-4fd9-8a67-2ed8f0ffb4c3.FPKM.txt',\n  '580a0da9-b63a-4fd9-8a67-2ed8f0ffb4c3.FPKM-UQ.txt',\n  '580a0da9-b63a-4fd9-8a67-2ed8f0ffb4c3.htseq_counts.txt'],\n ['580da070-1758-447d-a572-6c2ed09a2343.rna_seq.star_gene_counts.tsv'],\n ['58165867-4fc2-4031-b883-7c7f8cfb8260.FPKM.txt',\n  '58165867-4fc2-4031-b883-7c7f8cfb8260.FPKM-UQ.txt',\n  '58165867-4fc2-4031-b883-7c7f8cfb8260.htseq_counts.txt'],\n ['5839e271-9e89-4166-9ba7-04a3f39126ea.FPKM.txt',\n  '5839e271-9e89-4166-9ba7-04a3f39126ea.htseq_counts.txt',\n  '5839e271-9e89-4166-9ba7-04a3f39126ea.FPKM-UQ.txt'],\n ['585c48a2-ca73-4d23-9e92-b332725309c9.rna_seq.star_gene_counts.tsv'],\n ['5869e759-29fc-4209-b029-591251d22517.FPKM-UQ.txt',\n  '5869e759-29fc-4209-b029-591251d22517.htseq_counts.txt',\n  '5869e759-29fc-4209-b029-591251d22517.FPKM.txt'],\n ['5876ba1c-3881-4456-a44b-660b1b431bc4.FPKM.txt',\n  '5876ba1c-3881-4456-a44b-660b1b431bc4.FPKM-UQ.txt',\n  '5876ba1c-3881-4456-a44b-660b1b431bc4.htseq_counts.txt'],\n ['5884f40c-59a7-4e06-a2c9-1a528160f1cb.FPKM-UQ.txt',\n  '5884f40c-59a7-4e06-a2c9-1a528160f1cb.htseq_counts.txt',\n  '5884f40c-59a7-4e06-a2c9-1a528160f1cb.FPKM.txt'],\n ['5896ff4b-fc47-47da-bcec-20d113c5b088.FPKM.txt',\n  '5896ff4b-fc47-47da-bcec-20d113c5b088.htseq_counts.txt',\n  '5896ff4b-fc47-47da-bcec-20d113c5b088.FPKM-UQ.txt'],\n ['58f33d44-09b9-47ee-81bd-346c62419890.FPKM.txt',\n  '58f33d44-09b9-47ee-81bd-346c62419890.FPKM-UQ.txt',\n  '58f33d44-09b9-47ee-81bd-346c62419890.htseq_counts.txt'],\n ['59189f65-6c80-4e57-a849-8e9381c03ab8.rna_seq.star_gene_counts.tsv'],\n ['59378153-a654-4e1d-ac0c-61b3656e67a5.htseq_counts.txt',\n  '59378153-a654-4e1d-ac0c-61b3656e67a5.FPKM-UQ.txt',\n  '59378153-a654-4e1d-ac0c-61b3656e67a5.FPKM.txt'],\n ['5938f3fe-24b9-448c-b02b-a0979fdabb91.htseq_counts.txt',\n  '5938f3fe-24b9-448c-b02b-a0979fdabb91.FPKM-UQ.txt',\n  '5938f3fe-24b9-448c-b02b-a0979fdabb91.FPKM.txt'],\n ['5939e8b8-f0c7-472d-9fe3-32b1119ae9e8.rna_seq.star_gene_counts.tsv'],\n ['593b74fc-9cd2-4783-a795-ecf9ac77928d.rna_seq.star_gene_counts.tsv'],\n ['5958367e-4dfa-4a1a-a019-7ae90cf76999.rna_seq.star_gene_counts.tsv'],\n ['59c25cb7-7588-4a63-8f33-582a346fd403.FPKM.txt',\n  '59c25cb7-7588-4a63-8f33-582a346fd403.FPKM-UQ.txt',\n  '59c25cb7-7588-4a63-8f33-582a346fd403.htseq.counts'],\n ['59f40c17-68ba-4c26-80f3-95182b14ce58.FPKM-UQ.txt',\n  '59f40c17-68ba-4c26-80f3-95182b14ce58.FPKM.txt',\n  '59f40c17-68ba-4c26-80f3-95182b14ce58.htseq_counts.txt'],\n ['59ff4e63-ba15-4c63-a3ad-3484897f6455.FPKM-UQ.txt',\n  '59ff4e63-ba15-4c63-a3ad-3484897f6455.htseq_counts.txt',\n  '59ff4e63-ba15-4c63-a3ad-3484897f6455.FPKM.txt'],\n ['5a1fb3b9-392b-4d5a-93a7-715b4fab42ca.FPKM-UQ.txt',\n  '5a1fb3b9-392b-4d5a-93a7-715b4fab42ca.FPKM.txt',\n  '5a1fb3b9-392b-4d5a-93a7-715b4fab42ca.htseq_counts.txt'],\n ['5a3835e7-d277-4d37-a262-7321a9027d31.htseq_counts.txt',\n  '5a3835e7-d277-4d37-a262-7321a9027d31.FPKM-UQ.txt',\n  '5a3835e7-d277-4d37-a262-7321a9027d31.FPKM.txt'],\n ['5a514756-5c51-44ec-b418-5f0fd2f73af3.FPKM.txt',\n  '5a514756-5c51-44ec-b418-5f0fd2f73af3.FPKM-UQ.txt',\n  '5a514756-5c51-44ec-b418-5f0fd2f73af3.htseq_counts.txt'],\n ['5a5fa1b6-6f81-41da-a36f-7e9ac53d80da.rna_seq.star_gene_counts.tsv'],\n ['5a9bc9b5-34fa-4e8c-82d1-8a2e4b74730e.rna_seq.star_gene_counts.tsv'],\n ['5acbaa1c-1958-4c79-99f8-0fc6a6c4b9c1.FPKM-UQ.txt',\n  '5acbaa1c-1958-4c79-99f8-0fc6a6c4b9c1.FPKM.txt',\n  '5acbaa1c-1958-4c79-99f8-0fc6a6c4b9c1.htseq_counts.txt'],\n ['5ad4530a-84d4-4f35-87a1-f091017bcaf3.rna_seq.star_gene_counts.tsv'],\n ['5ad725a8-0068-4cd2-9b6b-a56a51fff005.htseq_counts.txt',\n  '5ad725a8-0068-4cd2-9b6b-a56a51fff005.FPKM-UQ.txt',\n  '5ad725a8-0068-4cd2-9b6b-a56a51fff005.FPKM.txt'],\n ['5adea353-714d-478a-aa66-b8acc8305234.FPKM.txt',\n  '5adea353-714d-478a-aa66-b8acc8305234.htseq_counts.txt',\n  '5adea353-714d-478a-aa66-b8acc8305234.FPKM-UQ.txt'],\n ['5afc6071-0b14-4510-906a-07be9ed935cc.FPKM.txt',\n  '5afc6071-0b14-4510-906a-07be9ed935cc.htseq_counts.txt',\n  '5afc6071-0b14-4510-906a-07be9ed935cc.FPKM-UQ.txt'],\n ['5b52aaf6-d3d1-4830-a8f5-ff2defdac1bd.rna_seq.star_gene_counts.tsv'],\n ['5b546308-7ade-4424-b9f1-98f323ded64e.rna_seq.star_gene_counts.tsv'],\n ['5b674437-49e6-4d95-914d-f605227e660c.rna_seq.star_gene_counts.tsv'],\n ['5b68bfa6-ea97-4808-94a4-450c6404916f.FPKM.txt',\n  '5b68bfa6-ea97-4808-94a4-450c6404916f.FPKM-UQ.txt',\n  '5b68bfa6-ea97-4808-94a4-450c6404916f.htseq_counts.txt'],\n ['5b81a343-7c28-46be-903b-9b2b068d350e.rna_seq.star_gene_counts.tsv'],\n ['5be1f1a9-b0d9-42dc-84a4-fa605ff3afc9.FPKM.txt',\n  '5be1f1a9-b0d9-42dc-84a4-fa605ff3afc9.FPKM-UQ.txt',\n  '5be1f1a9-b0d9-42dc-84a4-fa605ff3afc9.htseq.counts'],\n ['5be3488c-0fd3-4130-b941-4c01430f2cee.htseq_counts.txt',\n  '5be3488c-0fd3-4130-b941-4c01430f2cee.FPKM.txt',\n  '5be3488c-0fd3-4130-b941-4c01430f2cee.FPKM-UQ.txt'],\n ['5bfe1b87-0acb-4033-99ee-bb0cef4df26b.FPKM.txt',\n  '5bfe1b87-0acb-4033-99ee-bb0cef4df26b.htseq_counts.txt',\n  '5bfe1b87-0acb-4033-99ee-bb0cef4df26b.FPKM-UQ.txt'],\n ['5c3d37a0-b397-4e5d-9f19-2b7353af064e.htseq_counts.txt',\n  '5c3d37a0-b397-4e5d-9f19-2b7353af064e.FPKM-UQ.txt',\n  '5c3d37a0-b397-4e5d-9f19-2b7353af064e.FPKM.txt'],\n ['5c487ac2-91c6-49e5-8ce3-3833f4aba1fd.FPKM.txt',\n  '5c487ac2-91c6-49e5-8ce3-3833f4aba1fd.htseq_counts.txt',\n  '5c487ac2-91c6-49e5-8ce3-3833f4aba1fd.FPKM-UQ.txt'],\n ['5c736dcd-61d6-4bda-ab27-2d91f0c00ee5.htseq_counts.txt',\n  '5c736dcd-61d6-4bda-ab27-2d91f0c00ee5.FPKM-UQ.txt',\n  '5c736dcd-61d6-4bda-ab27-2d91f0c00ee5.FPKM.txt'],\n ['5c75138e-7728-4d64-862d-71591d54fcd7.rna_seq.star_gene_counts.tsv'],\n ['5c94aed8-11dc-492e-9673-6c727094055f.FPKM.txt',\n  '5c94aed8-11dc-492e-9673-6c727094055f.htseq_counts.txt',\n  '5c94aed8-11dc-492e-9673-6c727094055f.FPKM-UQ.txt'],\n ['5c971b6e-3295-456b-a8d6-d366af900e30.FPKM.txt',\n  '5c971b6e-3295-456b-a8d6-d366af900e30.FPKM-UQ.txt',\n  '5c971b6e-3295-456b-a8d6-d366af900e30.htseq.counts'],\n ['5c9ae336-54d3-4c99-b783-bcbc69bbb26c.rna_seq.star_gene_counts.tsv'],\n ['5c9d0197-95ff-40a6-a4a2-fd0cae926f9d.rna_seq.star_gene_counts.tsv'],\n ['5cd2c0a0-98e8-4d58-b457-c108d753c868.FPKM.txt',\n  '5cd2c0a0-98e8-4d58-b457-c108d753c868.htseq_counts.txt',\n  '5cd2c0a0-98e8-4d58-b457-c108d753c868.FPKM-UQ.txt'],\n ['5cec1812-c2a5-4f34-9bb0-f22b17c6e0b0.rna_seq.star_gene_counts.tsv'],\n ['5cfa4cd3-6f3f-4cb0-b20b-55a61fef2d6b.FPKM.txt',\n  '5cfa4cd3-6f3f-4cb0-b20b-55a61fef2d6b.htseq_counts.txt',\n  '5cfa4cd3-6f3f-4cb0-b20b-55a61fef2d6b.FPKM-UQ.txt'],\n ['5d167e3a-7c82-4331-b06e-309a038ab86d.rna_seq.star_gene_counts.tsv'],\n ['5d19d143-e781-4809-86ae-f380c957e765.FPKM-UQ.txt',\n  '5d19d143-e781-4809-86ae-f380c957e765.FPKM.txt',\n  '5d19d143-e781-4809-86ae-f380c957e765.htseq_counts.txt'],\n ['5d26ac85-0484-46a7-83f1-ba10da7788c8.FPKM.txt',\n  '5d26ac85-0484-46a7-83f1-ba10da7788c8.FPKM-UQ.txt',\n  '5d26ac85-0484-46a7-83f1-ba10da7788c8.htseq_counts.txt'],\n ['5d8bbd74-d196-48b2-998e-ab46da0dccd0.rna_seq.star_gene_counts.tsv'],\n ['5db6f7bb-1e88-442a-a138-5365fa77f5d5.FPKM-UQ.txt',\n  '5db6f7bb-1e88-442a-a138-5365fa77f5d5.htseq_counts.txt',\n  '5db6f7bb-1e88-442a-a138-5365fa77f5d5.FPKM.txt'],\n ['5dcc0e20-da5b-495e-8506-c50dda4eeeb0.rna_seq.star_gene_counts.tsv'],\n ['5e0b2526-5fb5-4bf1-87f0-79ffd69ae7cd.rna_seq.star_gene_counts.tsv'],\n ['5e386b69-76e2-41e9-ae53-760248baced9.FPKM.txt',\n  '5e386b69-76e2-41e9-ae53-760248baced9.htseq_counts.txt',\n  '5e386b69-76e2-41e9-ae53-760248baced9.FPKM-UQ.txt'],\n ['5e4f10ef-12b2-4a89-b235-4dc7a7ebed95.FPKM-UQ.txt',\n  '5e4f10ef-12b2-4a89-b235-4dc7a7ebed95.htseq_counts.txt',\n  '5e4f10ef-12b2-4a89-b235-4dc7a7ebed95.FPKM.txt'],\n ['5e56dba0-ed28-4534-a257-03b3ce75c6bf.FPKM-UQ.txt',\n  '5e56dba0-ed28-4534-a257-03b3ce75c6bf.FPKM.txt',\n  '5e56dba0-ed28-4534-a257-03b3ce75c6bf.htseq_counts.txt'],\n ['5eacb652-b85f-4386-85a1-3ab50a706905.FPKM-UQ.txt',\n  '5eacb652-b85f-4386-85a1-3ab50a706905.htseq_counts.txt',\n  '5eacb652-b85f-4386-85a1-3ab50a706905.FPKM.txt'],\n ['5eaebb96-3ddf-4dee-8c83-f050e4f527e3.FPKM.txt',\n  '5eaebb96-3ddf-4dee-8c83-f050e4f527e3.htseq_counts.txt',\n  '5eaebb96-3ddf-4dee-8c83-f050e4f527e3.FPKM-UQ.txt'],\n ['5f0b7240-0e85-442c-a853-0cdc629e6826.rna_seq.star_gene_counts.tsv'],\n ['5f43ac84-472a-4688-bcd2-dbd4d6d94e81.rna_seq.star_gene_counts.tsv'],\n ['5f54e64c-c972-4af5-917a-1badc9c6c18c.rna_seq.star_gene_counts.tsv'],\n ['5f6fbcfc-2349-4175-94ad-e1dfd8ae18f7.htseq_counts.txt',\n  '5f6fbcfc-2349-4175-94ad-e1dfd8ae18f7.FPKM-UQ.txt',\n  '5f6fbcfc-2349-4175-94ad-e1dfd8ae18f7.FPKM.txt'],\n ['5f79cda2-9cbc-4d7c-9e84-5d7b813dc319.FPKM-UQ.txt',\n  '5f79cda2-9cbc-4d7c-9e84-5d7b813dc319.htseq_counts.txt',\n  '5f79cda2-9cbc-4d7c-9e84-5d7b813dc319.FPKM.txt'],\n ['5fa89bab-e28b-4b6d-a442-be92d82b6755.rna_seq.star_gene_counts.tsv'],\n ['5fdfd8d3-73cd-4fad-b0ab-081d016d5fa8.htseq_counts.txt',\n  '5fdfd8d3-73cd-4fad-b0ab-081d016d5fa8.FPKM.txt',\n  '5fdfd8d3-73cd-4fad-b0ab-081d016d5fa8.FPKM-UQ.txt'],\n ['5fe41dcf-0f9e-47d4-b322-87b96639c9e1.rna_seq.star_gene_counts.tsv'],\n ['5fe68001-4e48-4fb0-829d-7e237b4ccb12.rna_seq.star_gene_counts.tsv'],\n ['6026c6d0-bcf9-4484-814d-5051fad9d6bd.htseq_counts.txt',\n  '6026c6d0-bcf9-4484-814d-5051fad9d6bd.FPKM-UQ.txt',\n  '6026c6d0-bcf9-4484-814d-5051fad9d6bd.FPKM.txt'],\n ['604c6e4e-c493-4be3-8188-ff50d2e2843c.FPKM.txt',\n  '604c6e4e-c493-4be3-8188-ff50d2e2843c.FPKM-UQ.txt',\n  '604c6e4e-c493-4be3-8188-ff50d2e2843c.htseq_counts.txt'],\n ['6061385a-7897-48a9-8c4b-355cc3713400.rna_seq.star_gene_counts.tsv'],\n ['606d8476-ba53-4dd6-838f-f0c59a3d295a.htseq_counts.txt',\n  '606d8476-ba53-4dd6-838f-f0c59a3d295a.FPKM-UQ.txt',\n  '606d8476-ba53-4dd6-838f-f0c59a3d295a.FPKM.txt'],\n ['60b4a1f4-80ef-4750-ab5c-6ad6ddca367a.FPKM-UQ.txt',\n  '60b4a1f4-80ef-4750-ab5c-6ad6ddca367a.htseq_counts.txt',\n  '60b4a1f4-80ef-4750-ab5c-6ad6ddca367a.FPKM.txt'],\n ['60c595ad-c687-4980-ac03-ab9d35f1b2d9.FPKM.txt',\n  '60c595ad-c687-4980-ac03-ab9d35f1b2d9.htseq_counts.txt',\n  '60c595ad-c687-4980-ac03-ab9d35f1b2d9.FPKM-UQ.txt'],\n ['60d3ba60-91a0-472a-a2d6-5e0e270ea38b.rna_seq.star_gene_counts.tsv'],\n ['60e0e000-bfd0-408f-b82a-c76d97882a5c.rna_seq.star_gene_counts.tsv'],\n ['60f085ed-4411-4e10-818b-d0ff356c680c.FPKM-UQ.txt',\n  '60f085ed-4411-4e10-818b-d0ff356c680c.htseq_counts.txt',\n  '60f085ed-4411-4e10-818b-d0ff356c680c.FPKM.txt'],\n ['61019c48-8ef4-443e-8b36-369daecb6ee4.rna_seq.star_gene_counts.tsv'],\n ['6106b47e-d77e-445c-ae57-c74fb7f0c646.FPKM.txt',\n  '6106b47e-d77e-445c-ae57-c74fb7f0c646.htseq_counts.txt',\n  '6106b47e-d77e-445c-ae57-c74fb7f0c646.FPKM-UQ.txt'],\n ['610df967-224f-4c09-b611-981222cdcf26.rna_seq.star_gene_counts.tsv'],\n ['612708f9-e6eb-4f7c-92aa-d1a47c6a526e.rna_seq.star_gene_counts.tsv'],\n ['613041ba-5ace-4a91-85d6-c5b75587ed99.htseq_counts.txt',\n  '613041ba-5ace-4a91-85d6-c5b75587ed99.FPKM.txt',\n  '613041ba-5ace-4a91-85d6-c5b75587ed99.FPKM-UQ.txt'],\n ['6139e209-dabc-481f-a9f1-3d505ea65f11.FPKM.txt',\n  '6139e209-dabc-481f-a9f1-3d505ea65f11.htseq_counts.txt',\n  '6139e209-dabc-481f-a9f1-3d505ea65f11.FPKM-UQ.txt'],\n ['613ede80-6487-4a41-b97f-b2ac65b12f9b.htseq_counts.txt',\n  '613ede80-6487-4a41-b97f-b2ac65b12f9b.FPKM-UQ.txt',\n  '613ede80-6487-4a41-b97f-b2ac65b12f9b.FPKM.txt'],\n ['613ef2bd-b5a3-42c7-8f81-2ac9c55d997d.FPKM.txt',\n  '613ef2bd-b5a3-42c7-8f81-2ac9c55d997d.htseq_counts.txt',\n  '613ef2bd-b5a3-42c7-8f81-2ac9c55d997d.FPKM-UQ.txt'],\n ['616981b2-b4cb-47fd-a58e-fff36d1298a9.FPKM.txt',\n  '616981b2-b4cb-47fd-a58e-fff36d1298a9.FPKM-UQ.txt',\n  '616981b2-b4cb-47fd-a58e-fff36d1298a9.htseq.counts'],\n ['616f60a3-e9a3-4825-b71b-7dd2d919d75b.rna_seq.star_gene_counts.tsv'],\n ['6180a6dc-1dc7-4d01-a38b-1a81641304a7.FPKM.txt',\n  '6180a6dc-1dc7-4d01-a38b-1a81641304a7.FPKM-UQ.txt',\n  '6180a6dc-1dc7-4d01-a38b-1a81641304a7.htseq_counts.txt'],\n ['619d2525-9700-45f6-b580-420e76d93b00.FPKM.txt',\n  '619d2525-9700-45f6-b580-420e76d93b00.FPKM-UQ.txt',\n  '619d2525-9700-45f6-b580-420e76d93b00.htseq_counts.txt'],\n ['6224ba9e-915a-4980-bf08-039f2d7e9942.rna_seq.star_gene_counts.tsv'],\n ['624a56d7-8613-4886-bfe2-e4016faad246.rna_seq.star_gene_counts.tsv'],\n ['625c7735-d623-4ae6-94f2-dafb7f1edbe4.rna_seq.star_gene_counts.tsv'],\n ['628bb82b-1788-4564-aaa4-180cdd8c390f.FPKM-UQ.txt',\n  '628bb82b-1788-4564-aaa4-180cdd8c390f.FPKM.txt',\n  '628bb82b-1788-4564-aaa4-180cdd8c390f.htseq_counts.txt'],\n ['62927764-990c-4d26-bff6-942ceaaf30ff.FPKM.txt',\n  '62927764-990c-4d26-bff6-942ceaaf30ff.htseq_counts.txt',\n  '62927764-990c-4d26-bff6-942ceaaf30ff.FPKM-UQ.txt'],\n ['6299dce1-8845-48db-bd4d-f0a54e81f215.htseq_counts.txt',\n  '6299dce1-8845-48db-bd4d-f0a54e81f215.FPKM-UQ.txt',\n  '6299dce1-8845-48db-bd4d-f0a54e81f215.FPKM.txt'],\n ['62a74970-cdbd-47a3-948d-49a0616ba8fa.rna_seq.star_gene_counts.tsv'],\n ['62aeadc3-ca12-4667-a034-54e68f782ede.rna_seq.star_gene_counts.tsv'],\n ['62bc1ad7-bbc3-4ecc-b2b1-03f88cbed436.FPKM-UQ.txt',\n  '62bc1ad7-bbc3-4ecc-b2b1-03f88cbed436.htseq_counts.txt',\n  '62bc1ad7-bbc3-4ecc-b2b1-03f88cbed436.FPKM.txt'],\n ['62cc1f3d-f810-4cff-b36f-1dcbdd7f9ff7.rna_seq.star_gene_counts.tsv'],\n ['631852d9-2ec3-4321-90a3-3de649144a8f.htseq_counts.txt',\n  '631852d9-2ec3-4321-90a3-3de649144a8f.FPKM-UQ.txt',\n  '631852d9-2ec3-4321-90a3-3de649144a8f.FPKM.txt'],\n ['631e94bd-6701-44fe-8906-81343d23b48f.rna_seq.star_gene_counts.tsv'],\n ['6329a2ab-048f-4134-abb0-1d029b1a5721.FPKM-UQ.txt',\n  '6329a2ab-048f-4134-abb0-1d029b1a5721.htseq_counts.txt',\n  '6329a2ab-048f-4134-abb0-1d029b1a5721.FPKM.txt'],\n ['6332c3ce-ff99-426d-96e9-4bf2a71f6d3a.rna_seq.star_gene_counts.tsv'],\n ['634d875e-1467-43e7-b69d-d6b683df4c1b.rna_seq.star_gene_counts.tsv'],\n ['6352c47e-dedb-481e-9188-662fe105c6ab.rna_seq.star_gene_counts.tsv'],\n ['635ce8d2-9653-4e56-8e5e-5ccb46da7a33.rna_seq.star_gene_counts.tsv'],\n ['637af3cc-b57a-4e81-83eb-7c197fe39575.FPKM.txt',\n  '637af3cc-b57a-4e81-83eb-7c197fe39575.FPKM-UQ.txt',\n  '637af3cc-b57a-4e81-83eb-7c197fe39575.htseq_counts.txt'],\n ['63a3b63e-87a3-48fa-b9cc-44324331ab0b.rna_seq.star_gene_counts.tsv'],\n ['63abbccc-1e80-4b6c-8ce8-2722444f5570.rna_seq.star_gene_counts.tsv'],\n ['63c43d0e-c7d5-4dec-97c4-fed3117fbbff.FPKM-UQ.txt',\n  '63c43d0e-c7d5-4dec-97c4-fed3117fbbff.FPKM.txt',\n  '63c43d0e-c7d5-4dec-97c4-fed3117fbbff.htseq_counts.txt'],\n ['63c6aecb-ed8b-4798-8aae-ede25646597e.rna_seq.star_gene_counts.tsv'],\n ['63d221e0-3919-4fa5-ad05-8d66f54ea74f.rna_seq.star_gene_counts.tsv'],\n ['63fd8f5a-ead4-4d5b-90ce-84709e122c77.FPKM.txt',\n  '63fd8f5a-ead4-4d5b-90ce-84709e122c77.FPKM-UQ.txt',\n  '63fd8f5a-ead4-4d5b-90ce-84709e122c77.htseq_counts.txt'],\n ['645b2b83-b0ff-471f-a49d-fd8d64ed8f39.rna_seq.star_gene_counts.tsv'],\n ['6466177a-d377-40ad-8c29-23fa6dd911c8.rna_seq.star_gene_counts.tsv'],\n ['64d3ae1f-c7fa-47e8-aa0d-08bccc92b2a6.rna_seq.star_gene_counts.tsv'],\n ['64fa016f-2812-4b3e-8733-dd260477ffea.rna_seq.star_gene_counts.tsv'],\n ['65086bed-170c-4887-8c2e-830eb8e14ced.htseq_counts.txt',\n  '65086bed-170c-4887-8c2e-830eb8e14ced.FPKM-UQ.txt',\n  '65086bed-170c-4887-8c2e-830eb8e14ced.FPKM.txt'],\n ['653be795-af40-43b5-874f-c57f472381cc.rna_seq.star_gene_counts.tsv'],\n ['653db5f9-ddb5-49e2-bb87-dd72579a2607.FPKM.txt',\n  '653db5f9-ddb5-49e2-bb87-dd72579a2607.htseq_counts.txt',\n  '653db5f9-ddb5-49e2-bb87-dd72579a2607.FPKM-UQ.txt'],\n ['6553c896-4518-4826-9924-02e01bec5aa7.htseq_counts.txt',\n  '6553c896-4518-4826-9924-02e01bec5aa7.FPKM.txt',\n  '6553c896-4518-4826-9924-02e01bec5aa7.FPKM-UQ.txt'],\n ['6563a448-141b-43ec-89e0-184f1a8eb71e.FPKM-UQ.txt',\n  '6563a448-141b-43ec-89e0-184f1a8eb71e.FPKM.txt',\n  '6563a448-141b-43ec-89e0-184f1a8eb71e.htseq.counts'],\n ['65a63d32-49c5-4f17-9f53-b2435afc776a.rna_seq.star_gene_counts.tsv'],\n ['65bad5f7-7f3a-41db-9dc9-5c248f96dec1.FPKM.txt',\n  '65bad5f7-7f3a-41db-9dc9-5c248f96dec1.FPKM-UQ.txt',\n  '65bad5f7-7f3a-41db-9dc9-5c248f96dec1.htseq_counts.txt'],\n ['65bedd7a-986a-40c7-9e6c-5ce820a249f4.rna_seq.star_gene_counts.tsv'],\n ['662636d0-95eb-48d2-b6be-616c4d3d9a78.rna_seq.star_gene_counts.tsv'],\n ['662ed2d1-9e80-4b88-81ea-464465230a37.rna_seq.star_gene_counts.tsv'],\n ['66506c2a-410f-4049-af41-426ec2c617e9.htseq_counts.txt',\n  '66506c2a-410f-4049-af41-426ec2c617e9.FPKM-UQ.txt',\n  '66506c2a-410f-4049-af41-426ec2c617e9.FPKM.txt'],\n ['6670f0a0-a322-4a63-b979-56b64d22d8e9.FPKM.txt',\n  '6670f0a0-a322-4a63-b979-56b64d22d8e9.htseq.counts',\n  '6670f0a0-a322-4a63-b979-56b64d22d8e9.FPKM-UQ.txt'],\n ['6685f0af-5841-4246-88b2-8f22b7372f7b.rna_seq.star_gene_counts.tsv'],\n ['668a241b-aa1a-45e9-ba81-950c9523688a.rna_seq.star_gene_counts.tsv'],\n ['66973fbc-5120-4834-8469-747d43d4ea2c.FPKM-UQ.txt',\n  '66973fbc-5120-4834-8469-747d43d4ea2c.FPKM.txt',\n  '66973fbc-5120-4834-8469-747d43d4ea2c.htseq_counts.txt'],\n ['66997007-7636-487f-a6b4-c5d52cb101e4.rna_seq.star_gene_counts.tsv'],\n ['66b3154b-0c72-4433-a518-4f57d19beadd.FPKM-UQ.txt',\n  '66b3154b-0c72-4433-a518-4f57d19beadd.htseq_counts.txt',\n  '66b3154b-0c72-4433-a518-4f57d19beadd.FPKM.txt'],\n ['66b53c8c-fdfc-4663-9382-bccbf4107650.rna_seq.star_gene_counts.tsv'],\n ['66d3a451-f179-4302-99e7-a1863089c2f0.FPKM-UQ.txt',\n  '66d3a451-f179-4302-99e7-a1863089c2f0.FPKM.txt',\n  '66d3a451-f179-4302-99e7-a1863089c2f0.htseq_counts.txt'],\n ['66ea387e-ffb9-4e84-8e48-e7a45a4635cd.FPKM-UQ.txt',\n  '66ea387e-ffb9-4e84-8e48-e7a45a4635cd.htseq_counts.txt',\n  '66ea387e-ffb9-4e84-8e48-e7a45a4635cd.FPKM.txt'],\n ['66ecfb98-48e2-47a5-a2f5-5e12e4f104c6.rna_seq.star_gene_counts.tsv'],\n ['6706a39e-46ed-4079-8eb0-f3bb29e868af.htseq_counts.txt',\n  '6706a39e-46ed-4079-8eb0-f3bb29e868af.FPKM.txt',\n  '6706a39e-46ed-4079-8eb0-f3bb29e868af.FPKM-UQ.txt'],\n ['670d9fc6-8e9b-41a9-a780-59f09d626d50.rna_seq.star_gene_counts.tsv'],\n ...]"
     },
     "metadata": {},
     "execution_count": 7
    }
   ],
   "source": [
    "import glob, os\n",
    "\n",
    "# Get a list of all files (with pathnames removed) in links_dir, except for the manifest file\n",
    "txt_files = set([ x.split('/')[-1] for x in glob.glob(os.path.join(links_dir,'*')) ]) - {'MANIFEST.txt'}\n",
    "\n",
    "# Get the corresponding sorted set of basenames (ostensibly, the unique sample names) from the file list\n",
    "basenames = sorted(set([ x.split('.')[0] for x in txt_files ]))\n",
    "\n",
    "\n",
    "files_per_sample2 = []\n",
    "for basename in basenames:\n",
    "    files_per_sample2.append([ x for x in txt_files if basename in x ])\n",
    "\n",
    "files_per_sample2"
   ]
  },
  {
   "cell_type": "code",
   "execution_count": null,
   "metadata": {},
   "outputs": [],
   "source": [
    "['andrew','weisman']\n"
   ]
  },
  {
   "cell_type": "code",
   "execution_count": 55,
   "metadata": {
    "tags": []
   },
   "outputs": [],
   "source": [
    "import glob, os\n",
    "links_dir = '/data/BIDS-HPC/private/projects/dmi2/data/all_gene_expression_files_in_target/links'\n",
    "txt_files = set([ x.split('/')[-1] for x in glob.glob(os.path.join(links_dir,'*')) ]) - {'MANIFEST.txt'}\n",
    "basenames = sorted(set([ x.split('.')[0] for x in txt_files ]))\n",
    "#basenames[-100:]\n",
    "#glob.glob(os.path.join(links_dir,'f71f8779-c53c-4583-9d5b-b83c157a4f2b')+'*')\n",
    "#print(os.path.join(links_dir,'3163f20-8616-4d2d-b537-bb367418bcfe')+'*')\n",
    "#'c3163f20-8616-4d2d-b537-bb367418bcfe.rna_seq.star_gene_counts.tsv'.split('.')[0]\n",
    "#basenames[:10]\n",
    "#glob.glob(os.path.join(links_dir,'*'))\n",
    "#'/data/BIDS-HPC/private/projects/dmi2/data/all_gene_expression_files_in_target/links/c0d341ba4-980d-40c1-8f57-40ad4dd87e56.htseq.counts'.removeprefix(links_dir)\n",
    "files_per_sample = [ glob.glob(os.path.join(links_dir,basename)+'*') for basename in basenames ]\n",
    "sum([ len(x) for x in files_per_sample ])\n",
    "files_per_sample"
   ]
  },
  {
   "cell_type": "code",
   "execution_count": 59,
   "metadata": {},
   "outputs": [
    {
     "output_type": "execute_result",
     "data": {
      "text/plain": "inks/6026c6d0-bcf9-4484-814d-5051fad9d6bd.FPKM-UQ.txt'],\n ['/data/BIDS-HPC/private/projects/dmi2/data/all_gene_expression_files_in_target/links/604c6e4e-c493-4be3-8188-ff50d2e2843c.FPKM-UQ.txt',\n  '/data/BIDS-HPC/private/projects/dmi2/data/all_gene_expression_files_in_target/links/604c6e4e-c493-4be3-8188-ff50d2e2843c.FPKM.txt',\n  '/data/BIDS-HPC/private/projects/dmi2/data/all_gene_expression_files_in_target/links/604c6e4e-c493-4be3-8188-ff50d2e2843c.htseq_counts.txt'],\n ['/data/BIDS-HPC/private/projects/dmi2/data/all_gene_expression_files_in_target/links/6061385a-7897-48a9-8c4b-355cc3713400.rna_seq.star_gene_counts.tsv'],\n ['/data/BIDS-HPC/private/projects/dmi2/data/all_gene_expression_files_in_target/links/606d8476-ba53-4dd6-838f-f0c59a3d295a.FPKM.txt',\n  '/data/BIDS-HPC/private/projects/dmi2/data/all_gene_expression_files_in_target/links/606d8476-ba53-4dd6-838f-f0c59a3d295a.FPKM-UQ.txt',\n  '/data/BIDS-HPC/private/projects/dmi2/data/all_gene_expression_files_in_target/links/606d8476-ba53-4dd6-838f-f0c59a3d295a.htseq_counts.txt'],\n ['/data/BIDS-HPC/private/projects/dmi2/data/all_gene_expression_files_in_target/links/60b4a1f4-80ef-4750-ab5c-6ad6ddca367a.FPKM.txt',\n  '/data/BIDS-HPC/private/projects/dmi2/data/all_gene_expression_files_in_target/links/60b4a1f4-80ef-4750-ab5c-6ad6ddca367a.htseq_counts.txt',\n  '/data/BIDS-HPC/private/projects/dmi2/data/all_gene_expression_files_in_target/links/60b4a1f4-80ef-4750-ab5c-6ad6ddca367a.FPKM-UQ.txt'],\n ['/data/BIDS-HPC/private/projects/dmi2/data/all_gene_expression_files_in_target/links/60c595ad-c687-4980-ac03-ab9d35f1b2d9.htseq_counts.txt',\n  '/data/BIDS-HPC/private/projects/dmi2/data/all_gene_expression_files_in_target/links/60c595ad-c687-4980-ac03-ab9d35f1b2d9.FPKM.txt',\n  '/data/BIDS-HPC/private/projects/dmi2/data/all_gene_expression_files_in_target/links/60c595ad-c687-4980-ac03-ab9d35f1b2d9.FPKM-UQ.txt'],\n ['/data/BIDS-HPC/private/projects/dmi2/data/all_gene_expression_files_in_target/links/60d3ba60-91a0-472a-a2d6-5e0e270ea38b.rna_seq.star_gene_counts.tsv'],\n ['/data/BIDS-HPC/private/projects/dmi2/data/all_gene_expression_files_in_target/links/60e0e000-bfd0-408f-b82a-c76d97882a5c.rna_seq.star_gene_counts.tsv'],\n ['/data/BIDS-HPC/private/projects/dmi2/data/all_gene_expression_files_in_target/links/60f085ed-4411-4e10-818b-d0ff356c680c.FPKM-UQ.txt',\n  '/data/BIDS-HPC/private/projects/dmi2/data/all_gene_expression_files_in_target/links/60f085ed-4411-4e10-818b-d0ff356c680c.FPKM.txt',\n  '/data/BIDS-HPC/private/projects/dmi2/data/all_gene_expression_files_in_target/links/60f085ed-4411-4e10-818b-d0ff356c680c.htseq_counts.txt'],\n ['/data/BIDS-HPC/private/projects/dmi2/data/all_gene_expression_files_in_target/links/61019c48-8ef4-443e-8b36-369daecb6ee4.rna_seq.star_gene_counts.tsv'],\n ['/data/BIDS-HPC/private/projects/dmi2/data/all_gene_expression_files_in_target/links/6106b47e-d77e-445c-ae57-c74fb7f0c646.htseq_counts.txt',\n  '/data/BIDS-HPC/private/projects/dmi2/data/all_gene_expression_files_in_target/links/6106b47e-d77e-445c-ae57-c74fb7f0c646.FPKM-UQ.txt',\n  '/data/BIDS-HPC/private/projects/dmi2/data/all_gene_expression_files_in_target/links/6106b47e-d77e-445c-ae57-c74fb7f0c646.FPKM.txt'],\n ['/data/BIDS-HPC/private/projects/dmi2/data/all_gene_expression_files_in_target/links/610df967-224f-4c09-b611-981222cdcf26.rna_seq.star_gene_counts.tsv'],\n ['/data/BIDS-HPC/private/projects/dmi2/data/all_gene_expression_files_in_target/links/612708f9-e6eb-4f7c-92aa-d1a47c6a526e.rna_seq.star_gene_counts.tsv'],\n ['/data/BIDS-HPC/private/projects/dmi2/data/all_gene_expression_files_in_target/links/613041ba-5ace-4a91-85d6-c5b75587ed99.htseq_counts.txt',\n  '/data/BIDS-HPC/private/projects/dmi2/data/all_gene_expression_files_in_target/links/613041ba-5ace-4a91-85d6-c5b75587ed99.FPKM.txt',\n  '/data/BIDS-HPC/private/projects/dmi2/data/all_gene_expression_files_in_target/links/613041ba-5ace-4a91-85d6-c5b75587ed99.FPKM-UQ.txt'],\n ['/data/BIDS-HPC/private/projects/dmi2/data/all_gene_expression_files_in_target/links/6139e209-dabc-481f-a9f1-3d505ea65f11.htseq_counts.txt',\n  '/data/BIDS-HPC/private/projects/dmi2/data/all_gene_expression_files_in_target/links/6139e209-dabc-481f-a9f1-3d505ea65f11.FPKM.txt',\n  '/data/BIDS-HPC/private/projects/dmi2/data/all_gene_expression_files_in_target/links/6139e209-dabc-481f-a9f1-3d505ea65f11.FPKM-UQ.txt'],\n ['/data/BIDS-HPC/private/projects/dmi2/data/all_gene_expression_files_in_target/links/613ede80-6487-4a41-b97f-b2ac65b12f9b.htseq_counts.txt',\n  '/data/BIDS-HPC/private/projects/dmi2/data/all_gene_expression_files_in_target/links/613ede80-6487-4a41-b97f-b2ac65b12f9b.FPKM-UQ.txt',\n  '/data/BIDS-HPC/private/projects/dmi2/data/all_gene_expression_files_in_target/links/613ede80-6487-4a41-b97f-b2ac65b12f9b.FPKM.txt'],\n ['/data/BIDS-HPC/private/projects/dmi2/data/all_gene_expression_files_in_target/links/613ef2bd-b5a3-42c7-8f81-2ac9c55d997d.FPKM-UQ.txt',\n  '/data/BIDS-HPC/private/projects/dmi2/data/all_gene_expression_files_in_target/links/613ef2bd-b5a3-42c7-8f81-2ac9c55d997d.htseq_counts.txt',\n  '/data/BIDS-HPC/private/projects/dmi2/data/all_gene_expression_files_in_target/links/613ef2bd-b5a3-42c7-8f81-2ac9c55d997d.FPKM.txt'],\n ['/data/BIDS-HPC/private/projects/dmi2/data/all_gene_expression_files_in_target/links/616981b2-b4cb-47fd-a58e-fff36d1298a9.FPKM.txt',\n  '/data/BIDS-HPC/private/projects/dmi2/data/all_gene_expression_files_in_target/links/616981b2-b4cb-47fd-a58e-fff36d1298a9.htseq.counts',\n  '/data/BIDS-HPC/private/projects/dmi2/data/all_gene_expression_files_in_target/links/616981b2-b4cb-47fd-a58e-fff36d1298a9.FPKM-UQ.txt'],\n ['/data/BIDS-HPC/private/projects/dmi2/data/all_gene_expression_files_in_target/links/616f60a3-e9a3-4825-b71b-7dd2d919d75b.rna_seq.star_gene_counts.tsv'],\n ['/data/BIDS-HPC/private/projects/dmi2/data/all_gene_expression_files_in_target/links/6180a6dc-1dc7-4d01-a38b-1a81641304a7.FPKM.txt',\n  '/data/BIDS-HPC/private/projects/dmi2/data/all_gene_expression_files_in_target/links/6180a6dc-1dc7-4d01-a38b-1a81641304a7.FPKM-UQ.txt',\n  '/data/BIDS-HPC/private/projects/dmi2/data/all_gene_expression_files_in_target/links/6180a6dc-1dc7-4d01-a38b-1a81641304a7.htseq_counts.txt'],\n ['/data/BIDS-HPC/private/projects/dmi2/data/all_gene_expression_files_in_target/links/619d2525-9700-45f6-b580-420e76d93b00.FPKM.txt',\n  '/data/BIDS-HPC/private/projects/dmi2/data/all_gene_expression_files_in_target/links/619d2525-9700-45f6-b580-420e76d93b00.FPKM-UQ.txt',\n  '/data/BIDS-HPC/private/projects/dmi2/data/all_gene_expression_files_in_target/links/619d2525-9700-45f6-b580-420e76d93b00.htseq_counts.txt'],\n ['/data/BIDS-HPC/private/projects/dmi2/data/all_gene_expression_files_in_target/links/6224ba9e-915a-4980-bf08-039f2d7e9942.rna_seq.star_gene_counts.tsv'],\n ['/data/BIDS-HPC/private/projects/dmi2/data/all_gene_expression_files_in_target/links/624a56d7-8613-4886-bfe2-e4016faad246.rna_seq.star_gene_counts.tsv'],\n ['/data/BIDS-HPC/private/projects/dmi2/data/all_gene_expression_files_in_target/links/625c7735-d623-4ae6-94f2-dafb7f1edbe4.rna_seq.star_gene_counts.tsv'],\n ['/data/BIDS-HPC/private/projects/dmi2/data/all_gene_expression_files_in_target/links/628bb82b-1788-4564-aaa4-180cdd8c390f.FPKM.txt',\n  '/data/BIDS-HPC/private/projects/dmi2/data/all_gene_expression_files_in_target/links/628bb82b-1788-4564-aaa4-180cdd8c390f.htseq_counts.txt',\n  '/data/BIDS-HPC/private/projects/dmi2/data/all_gene_expression_files_in_target/links/628bb82b-1788-4564-aaa4-180cdd8c390f.FPKM-UQ.txt'],\n ['/data/BIDS-HPC/private/projects/dmi2/data/all_gene_expression_files_in_target/links/62927764-990c-4d26-bff6-942ceaaf30ff.FPKM.txt',\n  '/data/BIDS-HPC/private/projects/dmi2/data/all_gene_expression_files_in_target/links/62927764-990c-4d26-bff6-942ceaaf30ff.FPKM-UQ.txt',\n  '/data/BIDS-HPC/private/projects/dmi2/data/all_gene_expression_files_in_target/links/62927764-990c-4d26-bff6-942ceaaf30ff.htseq_counts.txt'],\n ['/data/BIDS-HPC/private/projects/dmi2/data/all_gene_expression_files_in_target/links/6299dce1-8845-48db-bd4d-f0a54e81f215.FPKM.txt',\n  '/data/BIDS-HPC/private/projects/dmi2/data/all_gene_expression_files_in_target/links/6299dce1-8845-48db-bd4d-f0a54e81f215.FPKM-UQ.txt',\n  '/data/BIDS-HPC/private/projects/dmi2/data/all_gene_expression_files_in_target/links/6299dce1-8845-48db-bd4d-f0a54e81f215.htseq_counts.txt'],\n ['/data/BIDS-HPC/private/projects/dmi2/data/all_gene_expression_files_in_target/links/62a74970-cdbd-47a3-948d-49a0616ba8fa.rna_seq.star_gene_counts.tsv'],\n ['/data/BIDS-HPC/private/projects/dmi2/data/all_gene_expression_files_in_target/links/62aeadc3-ca12-4667-a034-54e68f782ede.rna_seq.star_gene_counts.tsv'],\n ['/data/BIDS-HPC/private/projects/dmi2/data/all_gene_expression_files_in_target/links/62bc1ad7-bbc3-4ecc-b2b1-03f88cbed436.FPKM-UQ.txt',\n  '/data/BIDS-HPC/private/projects/dmi2/data/all_gene_expression_files_in_target/links/62bc1ad7-bbc3-4ecc-b2b1-03f88cbed436.htseq_counts.txt',\n  '/data/BIDS-HPC/private/projects/dmi2/data/all_gene_expression_files_in_target/links/62bc1ad7-bbc3-4ecc-b2b1-03f88cbed436.FPKM.txt'],\n ['/data/BIDS-HPC/private/projects/dmi2/data/all_gene_expression_files_in_target/links/62cc1f3d-f810-4cff-b36f-1dcbdd7f9ff7.rna_seq.star_gene_counts.tsv'],\n ['/data/BIDS-HPC/private/projects/dmi2/data/all_gene_expression_files_in_target/links/631852d9-2ec3-4321-90a3-3de649144a8f.FPKM-UQ.txt',\n  '/data/BIDS-HPC/private/projects/dmi2/data/all_gene_expression_files_in_target/links/631852d9-2ec3-4321-90a3-3de649144a8f.FPKM.txt',\n  '/data/BIDS-HPC/private/projects/dmi2/data/all_gene_expression_files_in_target/links/631852d9-2ec3-4321-90a3-3de649144a8f.htseq_counts.txt'],\n ['/data/BIDS-HPC/private/projects/dmi2/data/all_gene_expression_files_in_target/links/631e94bd-6701-44fe-8906-81343d23b48f.rna_seq.star_gene_counts.tsv'],\n ['/data/BIDS-HPC/private/projects/dmi2/data/all_gene_expression_files_in_target/links/6329a2ab-048f-4134-abb0-1d029b1a5721.FPKM.txt',\n  '/data/BIDS-HPC/private/projects/dmi2/data/all_gene_expression_files_in_target/links/6329a2ab-048f-4134-abb0-1d029b1a5721.FPKM-UQ.txt',\n  '/data/BIDS-HPC/private/projects/dmi2/data/all_gene_expression_files_in_target/links/6329a2ab-048f-4134-abb0-1d029b1a5721.htseq_counts.txt'],\n ['/data/BIDS-HPC/private/projects/dmi2/data/all_gene_expression_files_in_target/links/6332c3ce-ff99-426d-96e9-4bf2a71f6d3a.rna_seq.star_gene_counts.tsv'],\n ['/data/BIDS-HPC/private/projects/dmi2/data/all_gene_expression_files_in_target/links/634d875e-1467-43e7-b69d-d6b683df4c1b.rna_seq.star_gene_counts.tsv'],\n ['/data/BIDS-HPC/private/projects/dmi2/data/all_gene_expression_files_in_target/links/6352c47e-dedb-481e-9188-662fe105c6ab.rna_seq.star_gene_counts.tsv'],\n ['/data/BIDS-HPC/private/projects/dmi2/data/all_gene_expression_files_in_target/links/635ce8d2-9653-4e56-8e5e-5ccb46da7a33.rna_seq.star_gene_counts.tsv'],\n ['/data/BIDS-HPC/private/projects/dmi2/data/all_gene_expression_files_in_target/links/637af3cc-b57a-4e81-83eb-7c197fe39575.FPKM.txt',\n  '/data/BIDS-HPC/private/projects/dmi2/data/all_gene_expression_files_in_target/links/637af3cc-b57a-4e81-83eb-7c197fe39575.FPKM-UQ.txt',\n  '/data/BIDS-HPC/private/projects/dmi2/data/all_gene_expression_files_in_target/links/637af3cc-b57a-4e81-83eb-7c197fe39575.htseq_counts.txt'],\n ['/data/BIDS-HPC/private/projects/dmi2/data/all_gene_expression_files_in_target/links/63a3b63e-87a3-48fa-b9cc-44324331ab0b.rna_seq.star_gene_counts.tsv'],\n ['/data/BIDS-HPC/private/projects/dmi2/data/all_gene_expression_files_in_target/links/63abbccc-1e80-4b6c-8ce8-2722444f5570.rna_seq.star_gene_counts.tsv'],\n ['/data/BIDS-HPC/private/projects/dmi2/data/all_gene_expression_files_in_target/links/63c43d0e-c7d5-4dec-97c4-fed3117fbbff.FPKM.txt',\n  '/data/BIDS-HPC/private/projects/dmi2/data/all_gene_expression_files_in_target/links/63c43d0e-c7d5-4dec-97c4-fed3117fbbff.htseq_counts.txt',\n  '/data/BIDS-HPC/private/projects/dmi2/data/all_gene_expression_files_in_target/links/63c43d0e-c7d5-4dec-97c4-fed3117fbbff.FPKM-UQ.txt'],\n ['/data/BIDS-HPC/private/projects/dmi2/data/all_gene_expression_files_in_target/links/63c6aecb-ed8b-4798-8aae-ede25646597e.rna_seq.star_gene_counts.tsv'],\n ['/data/BIDS-HPC/private/projects/dmi2/data/all_gene_expression_files_in_target/links/63d221e0-3919-4fa5-ad05-8d66f54ea74f.rna_seq.star_gene_counts.tsv'],\n ['/data/BIDS-HPC/private/projects/dmi2/data/all_gene_expression_files_in_target/links/63fd8f5a-ead4-4d5b-90ce-84709e122c77.FPKM.txt',\n  '/data/BIDS-HPC/private/projects/dmi2/data/all_gene_expression_files_in_target/links/63fd8f5a-ead4-4d5b-90ce-84709e122c77.FPKM-UQ.txt',\n  '/data/BIDS-HPC/private/projects/dmi2/data/all_gene_expression_files_in_target/links/63fd8f5a-ead4-4d5b-90ce-84709e122c77.htseq_counts.txt'],\n ['/data/BIDS-HPC/private/projects/dmi2/data/all_gene_expression_files_in_target/links/645b2b83-b0ff-471f-a49d-fd8d64ed8f39.rna_seq.star_gene_counts.tsv'],\n ['/data/BIDS-HPC/private/projects/dmi2/data/all_gene_expression_files_in_target/links/6466177a-d377-40ad-8c29-23fa6dd911c8.rna_seq.star_gene_counts.tsv'],\n ['/data/BIDS-HPC/private/projects/dmi2/data/all_gene_expression_files_in_target/links/64d3ae1f-c7fa-47e8-aa0d-08bccc92b2a6.rna_seq.star_gene_counts.tsv'],\n ['/data/BIDS-HPC/private/projects/dmi2/data/all_gene_expression_files_in_target/links/64fa016f-2812-4b3e-8733-dd260477ffea.rna_seq.star_gene_counts.tsv'],\n ['/data/BIDS-HPC/private/projects/dmi2/data/all_gene_expression_files_in_target/links/65086bed-170c-4887-8c2e-830eb8e14ced.htseq_counts.txt',\n  '/data/BIDS-HPC/private/projects/dmi2/data/all_gene_expression_files_in_target/links/65086bed-170c-4887-8c2e-830eb8e14ced.FPKM.txt',\n  '/data/BIDS-HPC/private/projects/dmi2/data/all_gene_expression_files_in_target/links/65086bed-170c-4887-8c2e-830eb8e14ced.FPKM-UQ.txt'],\n ['/data/BIDS-HPC/private/projects/dmi2/data/all_gene_expression_files_in_target/links/653be795-af40-43b5-874f-c57f472381cc.rna_seq.star_gene_counts.tsv'],\n ['/data/BIDS-HPC/private/projects/dmi2/data/all_gene_expression_files_in_target/links/653db5f9-ddb5-49e2-bb87-dd72579a2607.htseq_counts.txt',\n  '/data/BIDS-HPC/private/projects/dmi2/data/all_gene_expression_files_in_target/links/653db5f9-ddb5-49e2-bb87-dd72579a2607.FPKM-UQ.txt',\n  '/data/BIDS-HPC/private/projects/dmi2/data/all_gene_expression_files_in_target/links/653db5f9-ddb5-49e2-bb87-dd72579a2607.FPKM.txt'],\n ['/data/BIDS-HPC/private/projects/dmi2/data/all_gene_expression_files_in_target/links/6553c896-4518-4826-9924-02e01bec5aa7.FPKM.txt',\n  '/data/BIDS-HPC/private/projects/dmi2/data/all_gene_expression_files_in_target/links/6553c896-4518-4826-9924-02e01bec5aa7.FPKM-UQ.txt',\n  '/data/BIDS-HPC/private/projects/dmi2/data/all_gene_expression_files_in_target/links/6553c896-4518-4826-9924-02e01bec5aa7.htseq_counts.txt'],\n ['/data/BIDS-HPC/private/projects/dmi2/data/all_gene_expression_files_in_target/links/6563a448-141b-43ec-89e0-184f1a8eb71e.FPKM-UQ.txt',\n  '/data/BIDS-HPC/private/projects/dmi2/data/all_gene_expression_files_in_target/links/6563a448-141b-43ec-89e0-184f1a8eb71e.FPKM.txt',\n  '/data/BIDS-HPC/private/projects/dmi2/data/all_gene_expression_files_in_target/links/6563a448-141b-43ec-89e0-184f1a8eb71e.htseq.counts'],\n ['/data/BIDS-HPC/private/projects/dmi2/data/all_gene_expression_files_in_target/links/65a63d32-49c5-4f17-9f53-b2435afc776a.rna_seq.star_gene_counts.tsv'],\n ['/data/BIDS-HPC/private/projects/dmi2/data/all_gene_expression_files_in_target/links/65bad5f7-7f3a-41db-9dc9-5c248f96dec1.FPKM.txt',\n  '/data/BIDS-HPC/private/projects/dmi2/data/all_gene_expression_files_in_target/links/65bad5f7-7f3a-41db-9dc9-5c248f96dec1.htseq_counts.txt',\n  '/data/BIDS-HPC/private/projects/dmi2/data/all_gene_expression_files_in_target/links/65bad5f7-7f3a-41db-9dc9-5c248f96dec1.FPKM-UQ.txt'],\n ['/data/BIDS-HPC/private/projects/dmi2/data/all_gene_expression_files_in_target/links/65bedd7a-986a-40c7-9e6c-5ce820a249f4.rna_seq.star_gene_counts.tsv'],\n ['/data/BIDS-HPC/private/projects/dmi2/data/all_gene_expression_files_in_target/links/662636d0-95eb-48d2-b6be-616c4d3d9a78.rna_seq.star_gene_counts.tsv'],\n ['/data/BIDS-HPC/private/projects/dmi2/data/all_gene_expression_files_in_target/links/662ed2d1-9e80-4b88-81ea-464465230a37.rna_seq.star_gene_counts.tsv'],\n ['/data/BIDS-HPC/private/projects/dmi2/data/all_gene_expression_files_in_target/links/66506c2a-410f-4049-af41-426ec2c617e9.htseq_counts.txt',\n  '/data/BIDS-HPC/private/projects/dmi2/data/all_gene_expression_files_in_target/links/66506c2a-410f-4049-af41-426ec2c617e9.FPKM-UQ.txt',\n  '/data/BIDS-HPC/private/projects/dmi2/data/all_gene_expression_files_in_target/links/66506c2a-410f-4049-af41-426ec2c617e9.FPKM.txt'],\n ['/data/BIDS-HPC/private/projects/dmi2/data/all_gene_expression_files_in_target/links/6670f0a0-a322-4a63-b979-56b64d22d8e9.FPKM.txt',\n  '/data/BIDS-HPC/private/projects/dmi2/data/all_gene_expression_files_in_target/links/6670f0a0-a322-4a63-b979-56b64d22d8e9.htseq.counts',\n  '/data/BIDS-HPC/private/projects/dmi2/data/all_gene_expression_files_in_target/links/6670f0a0-a322-4a63-b979-56b64d22d8e9.FPKM-UQ.txt'],\n ['/data/BIDS-HPC/private/projects/dmi2/data/all_gene_expression_files_in_target/links/6685f0af-5841-4246-88b2-8f22b7372f7b.rna_seq.star_gene_counts.tsv'],\n ['/data/BIDS-HPC/private/projects/dmi2/data/all_gene_expression_files_in_target/links/668a241b-aa1a-45e9-ba81-950c9523688a.rna_seq.star_gene_counts.tsv'],\n ['/data/BIDS-HPC/private/projects/dmi2/data/all_gene_expression_files_in_target/links/66973fbc-5120-4834-8469-747d43d4ea2c.htseq_counts.txt',\n  '/data/BIDS-HPC/private/projects/dmi2/data/all_gene_expression_files_in_target/links/66973fbc-5120-4834-8469-747d43d4ea2c.FPKM.txt',\n  '/data/BIDS-HPC/private/projects/dmi2/data/all_gene_expression_files_in_target/links/66973fbc-5120-4834-8469-747d43d4ea2c.FPKM-UQ.txt'],\n ['/data/BIDS-HPC/private/projects/dmi2/data/all_gene_expression_files_in_target/links/66997007-7636-487f-a6b4-c5d52cb101e4.rna_seq.star_gene_counts.tsv'],\n ['/data/BIDS-HPC/private/projects/dmi2/data/all_gene_expression_files_in_target/links/66b3154b-0c72-4433-a518-4f57d19beadd.FPKM-UQ.txt',\n  '/data/BIDS-HPC/private/projects/dmi2/data/all_gene_expression_files_in_target/links/66b3154b-0c72-4433-a518-4f57d19beadd.FPKM.txt',\n  '/data/BIDS-HPC/private/projects/dmi2/data/all_gene_expression_files_in_target/links/66b3154b-0c72-4433-a518-4f57d19beadd.htseq_counts.txt'],\n ['/data/BIDS-HPC/private/projects/dmi2/data/all_gene_expression_files_in_target/links/66b53c8c-fdfc-4663-9382-bccbf4107650.rna_seq.star_gene_counts.tsv'],\n ['/data/BIDS-HPC/private/projects/dmi2/data/all_gene_expression_files_in_target/links/66d3a451-f179-4302-99e7-a1863089c2f0.FPKM-UQ.txt',\n  '/data/BIDS-HPC/private/projects/dmi2/data/all_gene_expression_files_in_target/links/66d3a451-f179-4302-99e7-a1863089c2f0.htseq_counts.txt',\n  '/data/BIDS-HPC/private/projects/dmi2/data/all_gene_expression_files_in_target/links/66d3a451-f179-4302-99e7-a1863089c2f0.FPKM.txt'],\n ['/data/BIDS-HPC/private/projects/dmi2/data/all_gene_expression_files_in_target/links/66ea387e-ffb9-4e84-8e48-e7a45a4635cd.FPKM.txt',\n  '/data/BIDS-HPC/private/projects/dmi2/data/all_gene_expression_files_in_target/links/66ea387e-ffb9-4e84-8e48-e7a45a4635cd.htseq_counts.txt',\n  '/data/BIDS-HPC/private/projects/dmi2/data/all_gene_expression_files_in_target/links/66ea387e-ffb9-4e84-8e48-e7a45a4635cd.FPKM-UQ.txt'],\n ['/data/BIDS-HPC/private/projects/dmi2/data/all_gene_expression_files_in_target/links/66ecfb98-48e2-47a5-a2f5-5e12e4f104c6.rna_seq.star_gene_counts.tsv'],\n ['/data/BIDS-HPC/private/projects/dmi2/data/all_gene_expression_files_in_target/links/6706a39e-46ed-4079-8eb0-f3bb29e868af.htseq_counts.txt',\n  '/data/BIDS-HPC/private/projects/dmi2/data/all_gene_expression_files_in_target/links/6706a39e-46ed-4079-8eb0-f3bb29e868af.FPKM-UQ.txt',\n  '/data/BIDS-HPC/private/projects/dmi2/data/all_gene_expression_files_in_target/links/6706a39e-46ed-4079-8eb0-f3bb29e868af.FPKM.txt'],\n ['/data/BIDS-HPC/private/projects/dmi2/data/all_gene_expression_files_in_target/links/670d9fc6-8e9b-41a9-a780-59f09d626d50.rna_seq.star_gene_counts.tsv'],\n ...]"
     },
     "metadata": {},
     "execution_count": 59
    }
   ],
   "source": []
  },
  {
   "cell_type": "code",
   "execution_count": 7,
   "metadata": {},
   "outputs": [
    {
     "output_type": "execute_result",
     "data": {
      "text/plain": "                   seqname        1     2      start        end  5 strand  7  \\\nid                                                                             \nENSG00000000003.13    chrX   HAVANA  gene  100627109  100639991  .      -  .   \nENSG00000000005.5     chrX   HAVANA  gene  100584802  100599885  .      +  .   \nENSG00000000419.11   chr20   HAVANA  gene   50934867   50958555  .      -  .   \nENSG00000000457.12    chr1   HAVANA  gene  169849631  169894267  .      -  .   \nENSG00000000460.15    chr1   HAVANA  gene  169662007  169854080  .      +  .   \n...                    ...      ...   ...        ...        ... ..    ... ..   \nENSGR0000275287.3     chrY  ENSEMBL  gene     388100     388389  .      -  .   \nENSGR0000276543.3     chrY  ENSEMBL  gene   57209151   57209218  .      +  .   \nENSGR0000277120.3     chrY  ENSEMBL  gene    2609191    2609254  .      +  .   \nENSGR0000280767.1     chrY   HAVANA  gene     419157     421980  .      +  .   \nENSGR0000281849.1     chrY   HAVANA  gene     386980     405579  .      +  .   \n\n                                                                    8  \\\nid                                                                      \nENSG00000000003.13  gene_id \"ENSG00000000003.13\"; gene_type \"prote...   \nENSG00000000005.5   gene_id \"ENSG00000000005.5\"; gene_type \"protei...   \nENSG00000000419.11  gene_id \"ENSG00000000419.11\"; gene_type \"prote...   \nENSG00000000457.12  gene_id \"ENSG00000000457.12\"; gene_type \"prote...   \nENSG00000000460.15  gene_id \"ENSG00000000460.15\"; gene_type \"prote...   \n...                                                               ...   \nENSGR0000275287.3   gene_id \"ENSGR0000275287.3\"; gene_type \"misc_R...   \nENSGR0000276543.3   gene_id \"ENSGR0000276543.3\"; gene_type \"miRNA\"...   \nENSGR0000277120.3   gene_id \"ENSGR0000277120.3\"; gene_type \"miRNA\"...   \nENSGR0000280767.1   gene_id \"ENSGR0000280767.1\"; gene_type \"lincRN...   \nENSGR0000281849.1   gene_id \"ENSGR0000281849.1\"; gene_type \"antise...   \n\n                              type           name  exon_length  \nid                                                              \nENSG00000000003.13  protein_coding         TSPAN6         4535  \nENSG00000000005.5   protein_coding           TNMD         1610  \nENSG00000000419.11  protein_coding           DPM1         1207  \nENSG00000000457.12  protein_coding          SCYL3         6883  \nENSG00000000460.15  protein_coding       C1orf112         5967  \n...                            ...            ...          ...  \nENSGR0000275287.3         misc_RNA    Metazoa_SRP          290  \nENSGR0000276543.3            miRNA     AJ271736.1           68  \nENSGR0000277120.3            miRNA        MIR6089           64  \nENSGR0000280767.1          lincRNA  RP13-465B17.5          515  \nENSGR0000281849.1        antisense  RP13-465B17.4          484  \n\n[60483 rows x 12 columns]",
      "text/html": "<div>\n<style scoped>\n    .dataframe tbody tr th:only-of-type {\n        vertical-align: middle;\n    }\n\n    .dataframe tbody tr th {\n        vertical-align: top;\n    }\n\n    .dataframe thead th {\n        text-align: right;\n    }\n</style>\n<table border=\"1\" class=\"dataframe\">\n  <thead>\n    <tr style=\"text-align: right;\">\n      <th></th>\n      <th>seqname</th>\n      <th>1</th>\n      <th>2</th>\n      <th>start</th>\n      <th>end</th>\n      <th>5</th>\n      <th>strand</th>\n      <th>7</th>\n      <th>8</th>\n      <th>type</th>\n      <th>name</th>\n      <th>exon_length</th>\n    </tr>\n    <tr>\n      <th>id</th>\n      <th></th>\n      <th></th>\n      <th></th>\n      <th></th>\n      <th></th>\n      <th></th>\n      <th></th>\n      <th></th>\n      <th></th>\n      <th></th>\n      <th></th>\n      <th></th>\n    </tr>\n  </thead>\n  <tbody>\n    <tr>\n      <th>ENSG00000000003.13</th>\n      <td>chrX</td>\n      <td>HAVANA</td>\n      <td>gene</td>\n      <td>100627109</td>\n      <td>100639991</td>\n      <td>.</td>\n      <td>-</td>\n      <td>.</td>\n      <td>gene_id \"ENSG00000000003.13\"; gene_type \"prote...</td>\n      <td>protein_coding</td>\n      <td>TSPAN6</td>\n      <td>4535</td>\n    </tr>\n    <tr>\n      <th>ENSG00000000005.5</th>\n      <td>chrX</td>\n      <td>HAVANA</td>\n      <td>gene</td>\n      <td>100584802</td>\n      <td>100599885</td>\n      <td>.</td>\n      <td>+</td>\n      <td>.</td>\n      <td>gene_id \"ENSG00000000005.5\"; gene_type \"protei...</td>\n      <td>protein_coding</td>\n      <td>TNMD</td>\n      <td>1610</td>\n    </tr>\n    <tr>\n      <th>ENSG00000000419.11</th>\n      <td>chr20</td>\n      <td>HAVANA</td>\n      <td>gene</td>\n      <td>50934867</td>\n      <td>50958555</td>\n      <td>.</td>\n      <td>-</td>\n      <td>.</td>\n      <td>gene_id \"ENSG00000000419.11\"; gene_type \"prote...</td>\n      <td>protein_coding</td>\n      <td>DPM1</td>\n      <td>1207</td>\n    </tr>\n    <tr>\n      <th>ENSG00000000457.12</th>\n      <td>chr1</td>\n      <td>HAVANA</td>\n      <td>gene</td>\n      <td>169849631</td>\n      <td>169894267</td>\n      <td>.</td>\n      <td>-</td>\n      <td>.</td>\n      <td>gene_id \"ENSG00000000457.12\"; gene_type \"prote...</td>\n      <td>protein_coding</td>\n      <td>SCYL3</td>\n      <td>6883</td>\n    </tr>\n    <tr>\n      <th>ENSG00000000460.15</th>\n      <td>chr1</td>\n      <td>HAVANA</td>\n      <td>gene</td>\n      <td>169662007</td>\n      <td>169854080</td>\n      <td>.</td>\n      <td>+</td>\n      <td>.</td>\n      <td>gene_id \"ENSG00000000460.15\"; gene_type \"prote...</td>\n      <td>protein_coding</td>\n      <td>C1orf112</td>\n      <td>5967</td>\n    </tr>\n    <tr>\n      <th>...</th>\n      <td>...</td>\n      <td>...</td>\n      <td>...</td>\n      <td>...</td>\n      <td>...</td>\n      <td>...</td>\n      <td>...</td>\n      <td>...</td>\n      <td>...</td>\n      <td>...</td>\n      <td>...</td>\n      <td>...</td>\n    </tr>\n    <tr>\n      <th>ENSGR0000275287.3</th>\n      <td>chrY</td>\n      <td>ENSEMBL</td>\n      <td>gene</td>\n      <td>388100</td>\n      <td>388389</td>\n      <td>.</td>\n      <td>-</td>\n      <td>.</td>\n      <td>gene_id \"ENSGR0000275287.3\"; gene_type \"misc_R...</td>\n      <td>misc_RNA</td>\n      <td>Metazoa_SRP</td>\n      <td>290</td>\n    </tr>\n    <tr>\n      <th>ENSGR0000276543.3</th>\n      <td>chrY</td>\n      <td>ENSEMBL</td>\n      <td>gene</td>\n      <td>57209151</td>\n      <td>57209218</td>\n      <td>.</td>\n      <td>+</td>\n      <td>.</td>\n      <td>gene_id \"ENSGR0000276543.3\"; gene_type \"miRNA\"...</td>\n      <td>miRNA</td>\n      <td>AJ271736.1</td>\n      <td>68</td>\n    </tr>\n    <tr>\n      <th>ENSGR0000277120.3</th>\n      <td>chrY</td>\n      <td>ENSEMBL</td>\n      <td>gene</td>\n      <td>2609191</td>\n      <td>2609254</td>\n      <td>.</td>\n      <td>+</td>\n      <td>.</td>\n      <td>gene_id \"ENSGR0000277120.3\"; gene_type \"miRNA\"...</td>\n      <td>miRNA</td>\n      <td>MIR6089</td>\n      <td>64</td>\n    </tr>\n    <tr>\n      <th>ENSGR0000280767.1</th>\n      <td>chrY</td>\n      <td>HAVANA</td>\n      <td>gene</td>\n      <td>419157</td>\n      <td>421980</td>\n      <td>.</td>\n      <td>+</td>\n      <td>.</td>\n      <td>gene_id \"ENSGR0000280767.1\"; gene_type \"lincRN...</td>\n      <td>lincRNA</td>\n      <td>RP13-465B17.5</td>\n      <td>515</td>\n    </tr>\n    <tr>\n      <th>ENSGR0000281849.1</th>\n      <td>chrY</td>\n      <td>HAVANA</td>\n      <td>gene</td>\n      <td>386980</td>\n      <td>405579</td>\n      <td>.</td>\n      <td>+</td>\n      <td>.</td>\n      <td>gene_id \"ENSGR0000281849.1\"; gene_type \"antise...</td>\n      <td>antisense</td>\n      <td>RP13-465B17.4</td>\n      <td>484</td>\n    </tr>\n  </tbody>\n</table>\n<p>60483 rows × 12 columns</p>\n</div>"
     },
     "metadata": {},
     "execution_count": 7
    }
   ],
   "source": [
    "df_gencode_genes"
   ]
  },
  {
   "cell_type": "code",
   "execution_count": 6,
   "metadata": {
    "tags": []
   },
   "outputs": [
    {
     "output_type": "stream",
     "name": "stdout",
     "text": "Columns equal between the 2 reference files? True\nColumns equal between the 2 reference files? True\nColumns equal between the 2 reference files? True\nColumns equal between the 2 reference files? True\nColumns equal between the 2 reference files? True\nColumns equal between the 2 reference files? True\nID columns the same in all 5 dataframes? 0 1 True\nID columns the same in all 5 dataframes? 0 2 True\nID columns the same in all 5 dataframes? 0 3 True\nID columns the same in all 5 dataframes? 0 4 True\nID columns the same in all 5 dataframes? 1 2 True\nID columns the same in all 5 dataframes? 1 3 True\nID columns the same in all 5 dataframes? 1 4 True\nID columns the same in all 5 dataframes? 2 3 True\nID columns the same in all 5 dataframes? 2 4 True\nID columns the same in all 5 dataframes? 3 4 True\nCorrect calculation of exon_/aggregate_length? True\nAdjusted counts using the calculated exon lengths proportional to the FPKM values? 0.09319213127634611 3.132997043405492\nMaximum percent error in FPKM: 0.0008807870790211032\nMaximum percent error in FPKM-UQ: 3.309733655618571e-08\n"
    }
   ],
   "source": [
    "tc.run_checks(df_gencode_genes, srs_counts[0], fpkm, fpkm_uq)"
   ]
  },
  {
   "cell_type": "code",
   "execution_count": 9,
   "metadata": {},
   "outputs": [
    {
     "output_type": "execute_result",
     "data": {
      "text/plain": "pandas.core.series.Series"
     },
     "metadata": {},
     "execution_count": 9
    }
   ],
   "source": [
    "type(srs_fpkm_uq[0])"
   ]
  },
  {
   "cell_type": "code",
   "execution_count": 6,
   "metadata": {},
   "outputs": [
    {
     "output_type": "execute_result",
     "data": {
      "text/plain": "pandas.core.series.Series"
     },
     "metadata": {},
     "execution_count": 6
    }
   ],
   "source": [
    "type(srs_counts[0])"
   ]
  },
  {
   "cell_type": "code",
   "execution_count": 8,
   "metadata": {
    "tags": []
   },
   "outputs": [
    {
     "output_type": "stream",
     "name": "stdout",
     "text": "hey\n"
    }
   ],
   "source": [
    "for df in dfs_counts:\n",
    "    print('hey')"
   ]
  },
  {
   "cell_type": "code",
   "execution_count": 6,
   "metadata": {},
   "outputs": [
    {
     "output_type": "execute_result",
     "data": {
      "text/plain": "pandas.core.frame.DataFrame"
     },
     "metadata": {},
     "execution_count": 6
    }
   ],
   "source": [
    "counts.to_series"
   ]
  },
  {
   "cell_type": "code",
   "execution_count": 7,
   "metadata": {},
   "outputs": [
    {
     "output_type": "execute_result",
     "data": {
      "text/plain": "True"
     },
     "metadata": {},
     "execution_count": 7
    }
   ],
   "source": [
    "dfs_sample_counts[0].index.equals(df_gencode_genes.index)"
   ]
  },
  {
   "cell_type": "code",
   "execution_count": 7,
   "metadata": {},
   "outputs": [
    {
     "output_type": "execute_result",
     "data": {
      "text/plain": "pandas.core.frame.DataFrame"
     },
     "metadata": {},
     "execution_count": 7
    }
   ],
   "source": [
    "type(sample_counts_arrays[0])"
   ]
  },
  {
   "cell_type": "code",
   "execution_count": 3,
   "metadata": {},
   "outputs": [
    {
     "output_type": "execute_result",
     "data": {
      "text/plain": "                   seqname        1     2      start        end  5 strand  7  \\\nid                                                                             \nENSG00000000003.13    chrX   HAVANA  gene  100627109  100639991  .      -  .   \nENSG00000000005.5     chrX   HAVANA  gene  100584802  100599885  .      +  .   \nENSG00000000419.11   chr20   HAVANA  gene   50934867   50958555  .      -  .   \nENSG00000000457.12    chr1   HAVANA  gene  169849631  169894267  .      -  .   \nENSG00000000460.15    chr1   HAVANA  gene  169662007  169854080  .      +  .   \n...                    ...      ...   ...        ...        ... ..    ... ..   \nENSGR0000275287.3     chrY  ENSEMBL  gene     388100     388389  .      -  .   \nENSGR0000276543.3     chrY  ENSEMBL  gene   57209151   57209218  .      +  .   \nENSGR0000277120.3     chrY  ENSEMBL  gene    2609191    2609254  .      +  .   \nENSGR0000280767.1     chrY   HAVANA  gene     419157     421980  .      +  .   \nENSGR0000281849.1     chrY   HAVANA  gene     386980     405579  .      +  .   \n\n                                                                    8  \\\nid                                                                      \nENSG00000000003.13  gene_id \"ENSG00000000003.13\"; gene_type \"prote...   \nENSG00000000005.5   gene_id \"ENSG00000000005.5\"; gene_type \"protei...   \nENSG00000000419.11  gene_id \"ENSG00000000419.11\"; gene_type \"prote...   \nENSG00000000457.12  gene_id \"ENSG00000000457.12\"; gene_type \"prote...   \nENSG00000000460.15  gene_id \"ENSG00000000460.15\"; gene_type \"prote...   \n...                                                               ...   \nENSGR0000275287.3   gene_id \"ENSGR0000275287.3\"; gene_type \"misc_R...   \nENSGR0000276543.3   gene_id \"ENSGR0000276543.3\"; gene_type \"miRNA\"...   \nENSGR0000277120.3   gene_id \"ENSGR0000277120.3\"; gene_type \"miRNA\"...   \nENSGR0000280767.1   gene_id \"ENSGR0000280767.1\"; gene_type \"lincRN...   \nENSGR0000281849.1   gene_id \"ENSGR0000281849.1\"; gene_type \"antise...   \n\n                              type           name  exon_length  \nid                                                              \nENSG00000000003.13  protein_coding         TSPAN6         4535  \nENSG00000000005.5   protein_coding           TNMD         1610  \nENSG00000000419.11  protein_coding           DPM1         1207  \nENSG00000000457.12  protein_coding          SCYL3         6883  \nENSG00000000460.15  protein_coding       C1orf112         5967  \n...                            ...            ...          ...  \nENSGR0000275287.3         misc_RNA    Metazoa_SRP          290  \nENSGR0000276543.3            miRNA     AJ271736.1           68  \nENSGR0000277120.3            miRNA        MIR6089           64  \nENSGR0000280767.1          lincRNA  RP13-465B17.5          515  \nENSGR0000281849.1        antisense  RP13-465B17.4          484  \n\n[60483 rows x 12 columns]",
      "text/html": "<div>\n<style scoped>\n    .dataframe tbody tr th:only-of-type {\n        vertical-align: middle;\n    }\n\n    .dataframe tbody tr th {\n        vertical-align: top;\n    }\n\n    .dataframe thead th {\n        text-align: right;\n    }\n</style>\n<table border=\"1\" class=\"dataframe\">\n  <thead>\n    <tr style=\"text-align: right;\">\n      <th></th>\n      <th>seqname</th>\n      <th>1</th>\n      <th>2</th>\n      <th>start</th>\n      <th>end</th>\n      <th>5</th>\n      <th>strand</th>\n      <th>7</th>\n      <th>8</th>\n      <th>type</th>\n      <th>name</th>\n      <th>exon_length</th>\n    </tr>\n    <tr>\n      <th>id</th>\n      <th></th>\n      <th></th>\n      <th></th>\n      <th></th>\n      <th></th>\n      <th></th>\n      <th></th>\n      <th></th>\n      <th></th>\n      <th></th>\n      <th></th>\n      <th></th>\n    </tr>\n  </thead>\n  <tbody>\n    <tr>\n      <th>ENSG00000000003.13</th>\n      <td>chrX</td>\n      <td>HAVANA</td>\n      <td>gene</td>\n      <td>100627109</td>\n      <td>100639991</td>\n      <td>.</td>\n      <td>-</td>\n      <td>.</td>\n      <td>gene_id \"ENSG00000000003.13\"; gene_type \"prote...</td>\n      <td>protein_coding</td>\n      <td>TSPAN6</td>\n      <td>4535</td>\n    </tr>\n    <tr>\n      <th>ENSG00000000005.5</th>\n      <td>chrX</td>\n      <td>HAVANA</td>\n      <td>gene</td>\n      <td>100584802</td>\n      <td>100599885</td>\n      <td>.</td>\n      <td>+</td>\n      <td>.</td>\n      <td>gene_id \"ENSG00000000005.5\"; gene_type \"protei...</td>\n      <td>protein_coding</td>\n      <td>TNMD</td>\n      <td>1610</td>\n    </tr>\n    <tr>\n      <th>ENSG00000000419.11</th>\n      <td>chr20</td>\n      <td>HAVANA</td>\n      <td>gene</td>\n      <td>50934867</td>\n      <td>50958555</td>\n      <td>.</td>\n      <td>-</td>\n      <td>.</td>\n      <td>gene_id \"ENSG00000000419.11\"; gene_type \"prote...</td>\n      <td>protein_coding</td>\n      <td>DPM1</td>\n      <td>1207</td>\n    </tr>\n    <tr>\n      <th>ENSG00000000457.12</th>\n      <td>chr1</td>\n      <td>HAVANA</td>\n      <td>gene</td>\n      <td>169849631</td>\n      <td>169894267</td>\n      <td>.</td>\n      <td>-</td>\n      <td>.</td>\n      <td>gene_id \"ENSG00000000457.12\"; gene_type \"prote...</td>\n      <td>protein_coding</td>\n      <td>SCYL3</td>\n      <td>6883</td>\n    </tr>\n    <tr>\n      <th>ENSG00000000460.15</th>\n      <td>chr1</td>\n      <td>HAVANA</td>\n      <td>gene</td>\n      <td>169662007</td>\n      <td>169854080</td>\n      <td>.</td>\n      <td>+</td>\n      <td>.</td>\n      <td>gene_id \"ENSG00000000460.15\"; gene_type \"prote...</td>\n      <td>protein_coding</td>\n      <td>C1orf112</td>\n      <td>5967</td>\n    </tr>\n    <tr>\n      <th>...</th>\n      <td>...</td>\n      <td>...</td>\n      <td>...</td>\n      <td>...</td>\n      <td>...</td>\n      <td>...</td>\n      <td>...</td>\n      <td>...</td>\n      <td>...</td>\n      <td>...</td>\n      <td>...</td>\n      <td>...</td>\n    </tr>\n    <tr>\n      <th>ENSGR0000275287.3</th>\n      <td>chrY</td>\n      <td>ENSEMBL</td>\n      <td>gene</td>\n      <td>388100</td>\n      <td>388389</td>\n      <td>.</td>\n      <td>-</td>\n      <td>.</td>\n      <td>gene_id \"ENSGR0000275287.3\"; gene_type \"misc_R...</td>\n      <td>misc_RNA</td>\n      <td>Metazoa_SRP</td>\n      <td>290</td>\n    </tr>\n    <tr>\n      <th>ENSGR0000276543.3</th>\n      <td>chrY</td>\n      <td>ENSEMBL</td>\n      <td>gene</td>\n      <td>57209151</td>\n      <td>57209218</td>\n      <td>.</td>\n      <td>+</td>\n      <td>.</td>\n      <td>gene_id \"ENSGR0000276543.3\"; gene_type \"miRNA\"...</td>\n      <td>miRNA</td>\n      <td>AJ271736.1</td>\n      <td>68</td>\n    </tr>\n    <tr>\n      <th>ENSGR0000277120.3</th>\n      <td>chrY</td>\n      <td>ENSEMBL</td>\n      <td>gene</td>\n      <td>2609191</td>\n      <td>2609254</td>\n      <td>.</td>\n      <td>+</td>\n      <td>.</td>\n      <td>gene_id \"ENSGR0000277120.3\"; gene_type \"miRNA\"...</td>\n      <td>miRNA</td>\n      <td>MIR6089</td>\n      <td>64</td>\n    </tr>\n    <tr>\n      <th>ENSGR0000280767.1</th>\n      <td>chrY</td>\n      <td>HAVANA</td>\n      <td>gene</td>\n      <td>419157</td>\n      <td>421980</td>\n      <td>.</td>\n      <td>+</td>\n      <td>.</td>\n      <td>gene_id \"ENSGR0000280767.1\"; gene_type \"lincRN...</td>\n      <td>lincRNA</td>\n      <td>RP13-465B17.5</td>\n      <td>515</td>\n    </tr>\n    <tr>\n      <th>ENSGR0000281849.1</th>\n      <td>chrY</td>\n      <td>HAVANA</td>\n      <td>gene</td>\n      <td>386980</td>\n      <td>405579</td>\n      <td>.</td>\n      <td>+</td>\n      <td>.</td>\n      <td>gene_id \"ENSGR0000281849.1\"; gene_type \"antise...</td>\n      <td>antisense</td>\n      <td>RP13-465B17.4</td>\n      <td>484</td>\n    </tr>\n  </tbody>\n</table>\n<p>60483 rows × 12 columns</p>\n</div>"
     },
     "metadata": {},
     "execution_count": 3
    }
   ],
   "source": [
    "df_gencode_genes"
   ]
  },
  {
   "cell_type": "code",
   "execution_count": null,
   "metadata": {},
   "outputs": [],
   "source": [
    "\n",
    "\n",
    "\n",
    "for sample_counts in XXXX:\n",
    "    # sample_counts = df_samples[0]['intensity']\n",
    "    _, fpkm_uq = tc.calculate_fpkm(df_gencode_genes, sample_counts)"
   ]
  },
  {
   "cell_type": "code",
   "execution_count": 1,
   "metadata": {},
   "outputs": [],
   "source": [
    "# Define the sample HT-Seq datafiles\n",
    "datadir = '/data/BIDS-HPC/private/projects/dmi2/data/all_gene_expression_files_in_target/links'\n",
    "file_fpkm = 'fffee315-9aa3-44d2-8c89-78a2c1d107e7.FPKM.txt'\n",
    "file_fpkm_uq = 'fffee315-9aa3-44d2-8c89-78a2c1d107e7.FPKM-UQ.txt'\n",
    "file_counts = 'fffee315-9aa3-44d2-8c89-78a2c1d107e7.htseq_counts.txt'\n",
    "\n",
    "# Define the reference datafiles\n",
    "gdc_tsv_file = '/data/BIDS-HPC/private/projects/dmi2/data/gencode.gene.info.v22.tsv'\n",
    "gencode_gtf_file = '/data/BIDS-HPC/private/projects/dmi2/data/gencode.v22.annotation.gtf'"
   ]
  },
  {
   "cell_type": "code",
   "execution_count": 2,
   "metadata": {},
   "outputs": [],
   "source": [
    "# Read in all the datafiles into Pandas dataframes\n",
    "import pandas as pd\n",
    "import os\n",
    "df_fpkm = pd.read_csv(os.path.join(datadir, file_fpkm), sep='\\t', names=['id','intensity'])\n",
    "df_fpkm_uq = pd.read_csv(os.path.join(datadir, file_fpkm_uq), sep='\\t', names=['id','intensity'])\n",
    "df_count = pd.read_csv(os.path.join(datadir, file_counts), sep='\\t', skipfooter=5, names=['id','intensity'])\n",
    "df_samples = [df_count, df_fpkm, df_fpkm_uq]\n",
    "df_gdc = pd.read_csv(gdc_tsv_file, sep='\\t')\n",
    "df_gencode = pd.read_csv(gencode_gtf_file, sep='\\t', skiprows=5, header=None)\n",
    "df_gencode_genes = df_gencode[df_gencode[2]=='gene'].reset_index(drop=True)\n",
    "df_gencode_exons = df_gencode[df_gencode[2]=='exon'].reset_index(drop=True)"
   ]
  },
  {
   "cell_type": "code",
   "execution_count": 3,
   "metadata": {},
   "outputs": [],
   "source": [
    "# Format the sample dataframes for consistency\n",
    "for idf, df in enumerate(df_samples):\n",
    "    df = df.set_index('id')\n",
    "    df_samples[idf] = df.sort_index()"
   ]
  },
  {
   "cell_type": "code",
   "execution_count": 4,
   "metadata": {},
   "outputs": [],
   "source": [
    "# Format the df_gencode_genes dataframe for consistency\n",
    "df_gencode_genes['id'] = df_gencode_genes.apply(lambda x: x[8].split()[1].split('\\\"')[1], axis=1)\n",
    "df_gencode_genes['type'] = df_gencode_genes.apply(lambda x: x[8].split()[3].split('\\\"')[1], axis=1)\n",
    "df_gencode_genes['name'] = df_gencode_genes.apply(lambda x: x[8].split()[7].split('\\\"')[1], axis=1)\n",
    "df_gencode_genes = df_gencode_genes.rename({3: 'start', 4: 'end', 6: 'strand', 0: 'seqname'}, axis='columns')\n",
    "df_gencode_genes = df_gencode_genes.set_index('id')\n",
    "df_gencode_genes = df_gencode_genes.sort_index()"
   ]
  },
  {
   "cell_type": "code",
   "execution_count": 5,
   "metadata": {},
   "outputs": [],
   "source": [
    "# Format the df_gencode_exons dataframe for consistency\n",
    "# Takes about a minute\n",
    "df_gencode_exons['id'] = df_gencode_exons.apply(lambda x: x[8].split()[1].split('\\\"')[1], axis=1)\n",
    "df_gencode_exons['type'] = df_gencode_exons.apply(lambda x: x[8].split()[3].split('\\\"')[1], axis=1)\n",
    "df_gencode_exons['name'] = df_gencode_exons.apply(lambda x: x[8].split()[7].split('\\\"')[1], axis=1)\n",
    "df_gencode_exons = df_gencode_exons.rename({3: 'start', 4: 'end', 6: 'strand', 0: 'seqname'}, axis='columns')\n",
    "df_gencode_exons = df_gencode_exons.set_index('id')\n",
    "df_gencode_exons = df_gencode_exons.sort_index()"
   ]
  },
  {
   "cell_type": "code",
   "execution_count": 6,
   "metadata": {},
   "outputs": [],
   "source": [
    "# Format the df_gdc dataframe for consistency\n",
    "df_gdc = df_gdc.rename({'gene_id': 'id', 'gene_name': 'name', 'gene_type': 'type'}, axis='columns')\n",
    "df_gdc = df_gdc.set_index('id')\n",
    "df_gdc = df_gdc.sort_index()"
   ]
  },
  {
   "cell_type": "code",
   "execution_count": 7,
   "metadata": {},
   "outputs": [
    {
     "output_type": "stream",
     "name": "stdout",
     "text": "True\nTrue\nTrue\nTrue\nTrue\nTrue\n"
    }
   ],
   "source": [
    "# Check for column equality between the two reference datafiles\n",
    "for colname in ['name', 'seqname', 'start', 'end', 'strand', 'type']:\n",
    "    print(df_gdc[colname].equals(df_gencode_genes[colname]))"
   ]
  },
  {
   "cell_type": "code",
   "execution_count": 8,
   "metadata": {},
   "outputs": [
    {
     "output_type": "stream",
     "name": "stdout",
     "text": "0 1 True\n0 2 True\n0 3 True\n0 4 True\n1 2 True\n1 3 True\n1 4 True\n2 3 True\n2 4 True\n3 4 True\n"
    }
   ],
   "source": [
    "# Check that the ID columns of all five dataframes are exactly the same\n",
    "dfs = df_samples + [df_gdc, df_gencode_genes]\n",
    "ndfs = len(dfs)\n",
    "import numpy as np\n",
    "for idf1 in range(ndfs-1):\n",
    "    for idf2 in np.array(range(ndfs-1-idf1)) + idf1+1:\n",
    "        df1 = dfs[idf1]\n",
    "        df2 = dfs[idf2]\n",
    "        print(idf1, idf2, df1.index.equals(df2.index))"
   ]
  },
  {
   "cell_type": "code",
   "execution_count": 9,
   "metadata": {},
   "outputs": [
    {
     "output_type": "stream",
     "name": "stdout",
     "text": "0/100 complete...\n1/100 complete...\n2/100 complete...\n3/100 complete...\n4/100 complete...\n5/100 complete...\n6/100 complete...\n7/100 complete...\n8/100 complete...\n9/100 complete...\n10/100 complete...\n11/100 complete...\n12/100 complete...\n13/100 complete...\n14/100 complete...\n15/100 complete...\n16/100 complete...\n17/100 complete...\n18/100 complete...\n19/100 complete...\n20/100 complete...\n21/100 complete...\n22/100 complete...\n23/100 complete...\n24/100 complete...\n25/100 complete...\n26/100 complete...\n27/100 complete...\n28/100 complete...\n29/100 complete...\n30/100 complete...\n31/100 complete...\n32/100 complete...\n33/100 complete...\n34/100 complete...\n35/100 complete...\n36/100 complete...\n37/100 complete...\n38/100 complete...\n39/100 complete...\n40/100 complete...\n41/100 complete...\n42/100 complete...\n43/100 complete...\n44/100 complete...\n45/100 complete...\n46/100 complete...\n47/100 complete...\n48/100 complete...\n49/100 complete...\n50/100 complete...\n51/100 complete...\n52/100 complete...\n53/100 complete...\n54/100 complete...\n55/100 complete...\n56/100 complete...\n57/100 complete...\n58/100 complete...\n59/100 complete...\n60/100 complete...\n61/100 complete...\n62/100 complete...\n63/100 complete...\n64/100 complete...\n65/100 complete...\n66/100 complete...\n67/100 complete...\n68/100 complete...\n69/100 complete...\n70/100 complete...\n71/100 complete...\n72/100 complete...\n73/100 complete...\n74/100 complete...\n75/100 complete...\n76/100 complete...\n77/100 complete...\n78/100 complete...\n79/100 complete...\n80/100 complete...\n81/100 complete...\n82/100 complete...\n83/100 complete...\n84/100 complete...\n85/100 complete...\n86/100 complete...\n87/100 complete...\n88/100 complete...\n89/100 complete...\n90/100 complete...\n91/100 complete...\n92/100 complete...\n93/100 complete...\n94/100 complete...\n95/100 complete...\n96/100 complete...\n97/100 complete...\n98/100 complete...\n99/100 complete...\n100/100 complete...\n"
    }
   ],
   "source": [
    "# Calculate the exon length of each gene (corresponding to its non-overlapping exons) and add this as a column to the df_gencode_genes dataframe\n",
    "# Takes about 10 minutes\n",
    "\n",
    "# Import relevant library\n",
    "import numpy as np\n",
    "\n",
    "# Set the number of steps to output so we can evaluate progress\n",
    "nsteps = 100\n",
    "\n",
    "# Set the step size in units of the size of the df_gencode_exons dataframe\n",
    "unit_len = int(len(df_gencode_exons) / nsteps)\n",
    "\n",
    "# Initialize some values\n",
    "istep = 0 # the step that we're on\n",
    "exon_lengths = [] # the array holding the final exon gene lengths (non-overlapping union of exon base pairs)\n",
    "prev_idx = '' # set the previous index to null\n",
    "\n",
    "# For every index in the ordered-by-index exons dataframe...\n",
    "for iidx, idx in enumerate(df_gencode_exons.index):\n",
    "\n",
    "    # Get the current row of data in the dataframe\n",
    "    curr_row = df_gencode_exons.iloc[iidx,:]\n",
    "    \n",
    "    # Output progress if the time is right\n",
    "    if (iidx%unit_len) == 0:\n",
    "        print('{}/{} complete...'.format(istep,nsteps))\n",
    "        istep = istep + 1\n",
    "\n",
    "    # If the current index is not equal to the previous index...\n",
    "    if idx != prev_idx:\n",
    "\n",
    "        # If the previous index is not null (i.e., if this isn't the very first loop iteration and therefore base_pairs has been initialized below), calculate and store the number of unique base pairs for the current unique idx\n",
    "        if prev_idx != '':\n",
    "            exon_lengths.append(len(set(np.concatenate(base_pairs))))\n",
    "\n",
    "        # Initialize the base_pairs holder (which will ultimately be a list of lists of base pairs)\n",
    "        base_pairs = []\n",
    "\n",
    "    # Always append the current set of base pairs corresponding to curr_row to the base_pairs list\n",
    "    base_pairs.append(np.arange(curr_row['start'], curr_row['end']+1))\n",
    "\n",
    "    # Set the previous index to the current index\n",
    "    prev_idx = idx\n",
    "\n",
    "# Calculate and store the number of unique base pairs for the final unique idx\n",
    "exon_lengths.append(len(set(np.concatenate(base_pairs))))\n",
    "\n",
    "# Add a column of exon gene length to the genes dataframe\n",
    "df_gencode_genes['exon_length'] = exon_lengths"
   ]
  },
  {
   "cell_type": "code",
   "execution_count": 10,
   "metadata": {},
   "outputs": [
    {
     "output_type": "stream",
     "name": "stdout",
     "text": "True\n0.09319213127634611 3.132997043405492\n"
    }
   ],
   "source": [
    "# Show that we've reproduced what GDC calls the \"exon_length\" and what I'm assuming is probably the \"aggregate_length\" as well\n",
    "#df_gencode_genes = df_gencode_genes.rename({'aggregate_length': 'exon_length'}, axis='columns')\n",
    "print(df_gencode_genes['exon_length'].equals(df_gdc['exon_length']))\n",
    "\n",
    "# Show that using these exon lengths we have achieved adjusted counts that are proportional to the FPKM values\n",
    "tmp = df_samples[0]['intensity'] / df_gencode_genes['exon_length'] / df_samples[1]['intensity']\n",
    "tmp = tmp[tmp.notnull()]\n",
    "print(tmp.std()/tmp.mean()*100, (tmp-tmp.mean()).abs().max()/tmp.mean()*100)"
   ]
  },
  {
   "cell_type": "code",
   "execution_count": 60,
   "metadata": {},
   "outputs": [
    {
     "output_type": "stream",
     "name": "stdout",
     "text": "Maximum percent error in FPKM: 0.0008807870790211032\nMaximum percent error in FPKM-UQ: 3.309733655618571e-08\n"
    }
   ],
   "source": [
    "# Import relevant library\n",
    "import numpy as np\n",
    "\n",
    "# Get the number of reads and gene lengths for the entire set of genes\n",
    "all_counts = df_samples[0]['intensity']\n",
    "all_lengths = df_gencode_genes['exon_length']\n",
    "\n",
    "# Get the number of reads and gene lengths for just the protein-coding genes\n",
    "pc_loc = df_gencode_genes['type'] == 'protein_coding'\n",
    "pc_counts = all_counts[pc_loc]\n",
    "#pc_lengths = all_lengths[pc_loc]\n",
    "\n",
    "# Calculate the normalizations for the FPKM and FPKM-UQ values\n",
    "pc_frag_count = pc_counts.sum()\n",
    "upper_quantile = np.percentile(pc_counts, 75) # equals pc_counts.sort_values()[int(pc_loc.sum()*.75)]\n",
    "\n",
    "# Calculate the normalized counts via https://github.com/NCI-GDC/htseq-tool/blob/master/htseq_tools/tools/fpkm.py\n",
    "tmp = all_counts / all_lengths * 1e9\n",
    "fpkm = tmp / pc_frag_count\n",
    "fpkm_uq = tmp / upper_quantile\n",
    "\n",
    "# Print how well I reproduced the normalized values that I downloaded from the GDC data portal\n",
    "print('Maximum percent error in FPKM: {}'.format((fpkm-df_samples[1]['intensity']).abs().max() / df_samples[1]['intensity'].mean() * 100))\n",
    "print('Maximum percent error in FPKM-UQ: {}'.format((fpkm_uq-df_samples[2]['intensity']).abs().max() / df_samples[2]['intensity'].mean() * 100))"
   ]
  },
  {
   "cell_type": "markdown",
   "metadata": {},
   "source": []
  },
  {
   "cell_type": "code",
   "execution_count": 27,
   "metadata": {},
   "outputs": [
    {
     "output_type": "execute_result",
     "data": {
      "text/plain": "43200"
     },
     "metadata": {},
     "execution_count": 27
    }
   ],
   "source": [
    "tol = 1e-6\n",
    "((df_fpkm['fpkm']/df_fpkm['fpkm'].sum() - df_fpkm_uq['fpkm-uq']/df_fpkm_uq['fpkm-uq'].sum()).abs() < tol).sum() # This line shows that the FPKM and FPKM-UQ files have the same values up to a fixed normalization\n",
    "((df_counts['count']/df_counts['count'].sum() - df_fpkm_uq['fpkm-uq']/df_fpkm_uq['fpkm-uq'].sum()).abs() < tol).sum() # this line shows that this is not true of the counts"
   ]
  },
  {
   "cell_type": "code",
   "execution_count": 30,
   "metadata": {},
   "outputs": [
    {
     "output_type": "execute_result",
     "data": {
      "text/plain": "True"
     },
     "metadata": {},
     "execution_count": 30
    }
   ],
   "source": [
    "#set(df_fpkm['id']) - set(df_gdc['gene_id'])\n",
    "set(df_fpkm['id']) == set(df_gdc['gene_id'])"
   ]
  },
  {
   "cell_type": "code",
   "execution_count": 68,
   "metadata": {},
   "outputs": [
    {
     "output_type": "stream",
     "name": "stdout",
     "text": "331163.3667\n"
    },
    {
     "output_type": "execute_result",
     "data": {
      "text/plain": "26613.247395329272"
     },
     "metadata": {},
     "execution_count": 68
    }
   ],
   "source": [
    "import numpy as np\n",
    "arr = df_fpkm['fpkm'].to_numpy()\n",
    "quantiles = np.quantile(arr, [0,0.25,0.5,0.75,1])\n",
    "#arr[quantiles[0]<arr and arr<quantiles[3]]\n",
    "print(arr[(quantiles[3]<arr) & (arr<quantiles[4])].sum())\n",
    "1/(df_fpkm['fpkm'].max()/df_fpkm_uq['fpkm-uq'].max())"
   ]
  },
  {
   "cell_type": "code",
   "execution_count": 45,
   "metadata": {},
   "outputs": [
    {
     "output_type": "execute_result",
     "data": {
      "text/plain": "3865.25345"
     },
     "metadata": {},
     "execution_count": 45
    }
   ],
   "source": [
    "arr.max()/2"
   ]
  },
  {
   "cell_type": "code",
   "execution_count": 29,
   "metadata": {},
   "outputs": [
    {
     "output_type": "error",
     "ename": "ValueError",
     "evalue": "Bin edges must be unique: array([0.0000000e+00, 0.0000000e+00, 4.7900000e-02, 8.8105000e-01,\n       7.7305069e+03]).\nYou can drop duplicate edges by setting the 'duplicates' kwarg",
     "traceback": [
      "\u001b[0;31m---------------------------------------------------------------------------\u001b[0m",
      "\u001b[0;31mValueError\u001b[0m                                Traceback (most recent call last)",
      "\u001b[0;32m<ipython-input-29-6394ab3f1f0c>\u001b[0m in \u001b[0;36m<module>\u001b[0;34m\u001b[0m\n\u001b[0;32m----> 1\u001b[0;31m \u001b[0mpd\u001b[0m\u001b[0;34m.\u001b[0m\u001b[0mqcut\u001b[0m\u001b[0;34m(\u001b[0m\u001b[0mdf_fpkm\u001b[0m\u001b[0;34m[\u001b[0m\u001b[0;34m'fpkm'\u001b[0m\u001b[0;34m]\u001b[0m\u001b[0;34m,\u001b[0m \u001b[0;36m4\u001b[0m\u001b[0;34m)\u001b[0m\u001b[0;34m\u001b[0m\u001b[0;34m\u001b[0m\u001b[0m\n\u001b[0m",
      "\u001b[0;32m/data/weismanal/miniconda3/envs/bioinfo/lib/python3.6/site-packages/pandas/core/reshape/tile.py\u001b[0m in \u001b[0;36mqcut\u001b[0;34m(x, q, labels, retbins, precision, duplicates)\u001b[0m\n\u001b[1;32m    346\u001b[0m         \u001b[0minclude_lowest\u001b[0m\u001b[0;34m=\u001b[0m\u001b[0;32mTrue\u001b[0m\u001b[0;34m,\u001b[0m\u001b[0;34m\u001b[0m\u001b[0;34m\u001b[0m\u001b[0m\n\u001b[1;32m    347\u001b[0m         \u001b[0mdtype\u001b[0m\u001b[0;34m=\u001b[0m\u001b[0mdtype\u001b[0m\u001b[0;34m,\u001b[0m\u001b[0;34m\u001b[0m\u001b[0;34m\u001b[0m\u001b[0m\n\u001b[0;32m--> 348\u001b[0;31m         \u001b[0mduplicates\u001b[0m\u001b[0;34m=\u001b[0m\u001b[0mduplicates\u001b[0m\u001b[0;34m,\u001b[0m\u001b[0;34m\u001b[0m\u001b[0;34m\u001b[0m\u001b[0m\n\u001b[0m\u001b[1;32m    349\u001b[0m     )\n\u001b[1;32m    350\u001b[0m \u001b[0;34m\u001b[0m\u001b[0m\n",
      "\u001b[0;32m/data/weismanal/miniconda3/envs/bioinfo/lib/python3.6/site-packages/pandas/core/reshape/tile.py\u001b[0m in \u001b[0;36m_bins_to_cuts\u001b[0;34m(x, bins, right, labels, precision, include_lowest, dtype, duplicates)\u001b[0m\n\u001b[1;32m    379\u001b[0m         \u001b[0;32mif\u001b[0m \u001b[0mduplicates\u001b[0m \u001b[0;34m==\u001b[0m \u001b[0;34m\"raise\"\u001b[0m\u001b[0;34m:\u001b[0m\u001b[0;34m\u001b[0m\u001b[0;34m\u001b[0m\u001b[0m\n\u001b[1;32m    380\u001b[0m             raise ValueError(\n\u001b[0;32m--> 381\u001b[0;31m                 \u001b[0;34mf\"Bin edges must be unique: {repr(bins)}.\\n\"\u001b[0m\u001b[0;34m\u001b[0m\u001b[0;34m\u001b[0m\u001b[0m\n\u001b[0m\u001b[1;32m    382\u001b[0m                 \u001b[0;34mf\"You can drop duplicate edges by setting the 'duplicates' kwarg\"\u001b[0m\u001b[0;34m\u001b[0m\u001b[0;34m\u001b[0m\u001b[0m\n\u001b[1;32m    383\u001b[0m             )\n",
      "\u001b[0;31mValueError\u001b[0m: Bin edges must be unique: array([0.0000000e+00, 0.0000000e+00, 4.7900000e-02, 8.8105000e-01,\n       7.7305069e+03]).\nYou can drop duplicate edges by setting the 'duplicates' kwarg"
     ]
    }
   ],
   "source": [
    "pd.qcut(df_fpkm['fpkm'], 4)"
   ]
  },
  {
   "cell_type": "code",
   "execution_count": 9,
   "metadata": {},
   "outputs": [
    {
     "output_type": "execute_result",
     "data": {
      "text/plain": "                       id  count\n0      ENSG00000000003.13  11205\n1       ENSG00000000005.5    334\n2      ENSG00000000419.11   4022\n3      ENSG00000000457.12    539\n4      ENSG00000000460.15    898\n...                   ...    ...\n60478   ENSGR0000275287.3      0\n60479   ENSGR0000276543.3      0\n60480   ENSGR0000277120.3      0\n60481   ENSGR0000280767.1      0\n60482   ENSGR0000281849.1      0\n\n[60483 rows x 2 columns]",
      "text/html": "<div>\n<style scoped>\n    .dataframe tbody tr th:only-of-type {\n        vertical-align: middle;\n    }\n\n    .dataframe tbody tr th {\n        vertical-align: top;\n    }\n\n    .dataframe thead th {\n        text-align: right;\n    }\n</style>\n<table border=\"1\" class=\"dataframe\">\n  <thead>\n    <tr style=\"text-align: right;\">\n      <th></th>\n      <th>id</th>\n      <th>count</th>\n    </tr>\n  </thead>\n  <tbody>\n    <tr>\n      <th>0</th>\n      <td>ENSG00000000003.13</td>\n      <td>11205</td>\n    </tr>\n    <tr>\n      <th>1</th>\n      <td>ENSG00000000005.5</td>\n      <td>334</td>\n    </tr>\n    <tr>\n      <th>2</th>\n      <td>ENSG00000000419.11</td>\n      <td>4022</td>\n    </tr>\n    <tr>\n      <th>3</th>\n      <td>ENSG00000000457.12</td>\n      <td>539</td>\n    </tr>\n    <tr>\n      <th>4</th>\n      <td>ENSG00000000460.15</td>\n      <td>898</td>\n    </tr>\n    <tr>\n      <th>...</th>\n      <td>...</td>\n      <td>...</td>\n    </tr>\n    <tr>\n      <th>60478</th>\n      <td>ENSGR0000275287.3</td>\n      <td>0</td>\n    </tr>\n    <tr>\n      <th>60479</th>\n      <td>ENSGR0000276543.3</td>\n      <td>0</td>\n    </tr>\n    <tr>\n      <th>60480</th>\n      <td>ENSGR0000277120.3</td>\n      <td>0</td>\n    </tr>\n    <tr>\n      <th>60481</th>\n      <td>ENSGR0000280767.1</td>\n      <td>0</td>\n    </tr>\n    <tr>\n      <th>60482</th>\n      <td>ENSGR0000281849.1</td>\n      <td>0</td>\n    </tr>\n  </tbody>\n</table>\n<p>60483 rows × 2 columns</p>\n</div>"
     },
     "metadata": {},
     "execution_count": 9
    }
   ],
   "source": [
    "df_counts"
   ]
  },
  {
   "cell_type": "code",
   "execution_count": 83,
   "metadata": {},
   "outputs": [
    {
     "output_type": "error",
     "ename": "KeyError",
     "evalue": "'id'",
     "traceback": [
      "\u001b[0;31m---------------------------------------------------------------------------\u001b[0m",
      "\u001b[0;31mKeyError\u001b[0m                                  Traceback (most recent call last)",
      "\u001b[0;32m/data/weismanal/miniconda3/envs/bioinfo/lib/python3.6/site-packages/pandas/core/indexes/base.py\u001b[0m in \u001b[0;36mget_loc\u001b[0;34m(self, key, method, tolerance)\u001b[0m\n\u001b[1;32m   2645\u001b[0m             \u001b[0;32mtry\u001b[0m\u001b[0;34m:\u001b[0m\u001b[0;34m\u001b[0m\u001b[0;34m\u001b[0m\u001b[0m\n\u001b[0;32m-> 2646\u001b[0;31m                 \u001b[0;32mreturn\u001b[0m \u001b[0mself\u001b[0m\u001b[0;34m.\u001b[0m\u001b[0m_engine\u001b[0m\u001b[0;34m.\u001b[0m\u001b[0mget_loc\u001b[0m\u001b[0;34m(\u001b[0m\u001b[0mkey\u001b[0m\u001b[0;34m)\u001b[0m\u001b[0;34m\u001b[0m\u001b[0;34m\u001b[0m\u001b[0m\n\u001b[0m\u001b[1;32m   2647\u001b[0m             \u001b[0;32mexcept\u001b[0m \u001b[0mKeyError\u001b[0m\u001b[0;34m:\u001b[0m\u001b[0;34m\u001b[0m\u001b[0;34m\u001b[0m\u001b[0m\n",
      "\u001b[0;32mpandas/_libs/index.pyx\u001b[0m in \u001b[0;36mpandas._libs.index.IndexEngine.get_loc\u001b[0;34m()\u001b[0m\n",
      "\u001b[0;32mpandas/_libs/index.pyx\u001b[0m in \u001b[0;36mpandas._libs.index.IndexEngine.get_loc\u001b[0;34m()\u001b[0m\n",
      "\u001b[0;32mpandas/_libs/hashtable_class_helper.pxi\u001b[0m in \u001b[0;36mpandas._libs.hashtable.PyObjectHashTable.get_item\u001b[0;34m()\u001b[0m\n",
      "\u001b[0;32mpandas/_libs/hashtable_class_helper.pxi\u001b[0m in \u001b[0;36mpandas._libs.hashtable.PyObjectHashTable.get_item\u001b[0;34m()\u001b[0m\n",
      "\u001b[0;31mKeyError\u001b[0m: 'id'",
      "\nDuring handling of the above exception, another exception occurred:\n",
      "\u001b[0;31mKeyError\u001b[0m                                  Traceback (most recent call last)",
      "\u001b[0;32m<ipython-input-83-d6d0360787b9>\u001b[0m in \u001b[0;36m<module>\u001b[0;34m\u001b[0m\n\u001b[1;32m      6\u001b[0m \u001b[0;31m#df_gdc['strand'].equals(df_gencode['strand'])\u001b[0m\u001b[0;34m\u001b[0m\u001b[0;34m\u001b[0m\u001b[0;34m\u001b[0m\u001b[0m\n\u001b[1;32m      7\u001b[0m \u001b[0;31m#df_gdc['type'].equals(df_gencode['type'])\u001b[0m\u001b[0;34m\u001b[0m\u001b[0;34m\u001b[0m\u001b[0;34m\u001b[0m\u001b[0m\n\u001b[0;32m----> 8\u001b[0;31m \u001b[0mdf_gdc\u001b[0m\u001b[0;34m[\u001b[0m\u001b[0;34m'id'\u001b[0m\u001b[0;34m]\u001b[0m\u001b[0;34m\u001b[0m\u001b[0;34m\u001b[0m\u001b[0m\n\u001b[0m",
      "\u001b[0;32m/data/weismanal/miniconda3/envs/bioinfo/lib/python3.6/site-packages/pandas/core/frame.py\u001b[0m in \u001b[0;36m__getitem__\u001b[0;34m(self, key)\u001b[0m\n\u001b[1;32m   2798\u001b[0m             \u001b[0;32mif\u001b[0m \u001b[0mself\u001b[0m\u001b[0;34m.\u001b[0m\u001b[0mcolumns\u001b[0m\u001b[0;34m.\u001b[0m\u001b[0mnlevels\u001b[0m \u001b[0;34m>\u001b[0m \u001b[0;36m1\u001b[0m\u001b[0;34m:\u001b[0m\u001b[0;34m\u001b[0m\u001b[0;34m\u001b[0m\u001b[0m\n\u001b[1;32m   2799\u001b[0m                 \u001b[0;32mreturn\u001b[0m \u001b[0mself\u001b[0m\u001b[0;34m.\u001b[0m\u001b[0m_getitem_multilevel\u001b[0m\u001b[0;34m(\u001b[0m\u001b[0mkey\u001b[0m\u001b[0;34m)\u001b[0m\u001b[0;34m\u001b[0m\u001b[0;34m\u001b[0m\u001b[0m\n\u001b[0;32m-> 2800\u001b[0;31m             \u001b[0mindexer\u001b[0m \u001b[0;34m=\u001b[0m \u001b[0mself\u001b[0m\u001b[0;34m.\u001b[0m\u001b[0mcolumns\u001b[0m\u001b[0;34m.\u001b[0m\u001b[0mget_loc\u001b[0m\u001b[0;34m(\u001b[0m\u001b[0mkey\u001b[0m\u001b[0;34m)\u001b[0m\u001b[0;34m\u001b[0m\u001b[0;34m\u001b[0m\u001b[0m\n\u001b[0m\u001b[1;32m   2801\u001b[0m             \u001b[0;32mif\u001b[0m \u001b[0mis_integer\u001b[0m\u001b[0;34m(\u001b[0m\u001b[0mindexer\u001b[0m\u001b[0;34m)\u001b[0m\u001b[0;34m:\u001b[0m\u001b[0;34m\u001b[0m\u001b[0;34m\u001b[0m\u001b[0m\n\u001b[1;32m   2802\u001b[0m                 \u001b[0mindexer\u001b[0m \u001b[0;34m=\u001b[0m \u001b[0;34m[\u001b[0m\u001b[0mindexer\u001b[0m\u001b[0;34m]\u001b[0m\u001b[0;34m\u001b[0m\u001b[0;34m\u001b[0m\u001b[0m\n",
      "\u001b[0;32m/data/weismanal/miniconda3/envs/bioinfo/lib/python3.6/site-packages/pandas/core/indexes/base.py\u001b[0m in \u001b[0;36mget_loc\u001b[0;34m(self, key, method, tolerance)\u001b[0m\n\u001b[1;32m   2646\u001b[0m                 \u001b[0;32mreturn\u001b[0m \u001b[0mself\u001b[0m\u001b[0;34m.\u001b[0m\u001b[0m_engine\u001b[0m\u001b[0;34m.\u001b[0m\u001b[0mget_loc\u001b[0m\u001b[0;34m(\u001b[0m\u001b[0mkey\u001b[0m\u001b[0;34m)\u001b[0m\u001b[0;34m\u001b[0m\u001b[0;34m\u001b[0m\u001b[0m\n\u001b[1;32m   2647\u001b[0m             \u001b[0;32mexcept\u001b[0m \u001b[0mKeyError\u001b[0m\u001b[0;34m:\u001b[0m\u001b[0;34m\u001b[0m\u001b[0;34m\u001b[0m\u001b[0m\n\u001b[0;32m-> 2648\u001b[0;31m                 \u001b[0;32mreturn\u001b[0m \u001b[0mself\u001b[0m\u001b[0;34m.\u001b[0m\u001b[0m_engine\u001b[0m\u001b[0;34m.\u001b[0m\u001b[0mget_loc\u001b[0m\u001b[0;34m(\u001b[0m\u001b[0mself\u001b[0m\u001b[0;34m.\u001b[0m\u001b[0m_maybe_cast_indexer\u001b[0m\u001b[0;34m(\u001b[0m\u001b[0mkey\u001b[0m\u001b[0;34m)\u001b[0m\u001b[0;34m)\u001b[0m\u001b[0;34m\u001b[0m\u001b[0;34m\u001b[0m\u001b[0m\n\u001b[0m\u001b[1;32m   2649\u001b[0m         \u001b[0mindexer\u001b[0m \u001b[0;34m=\u001b[0m \u001b[0mself\u001b[0m\u001b[0;34m.\u001b[0m\u001b[0mget_indexer\u001b[0m\u001b[0;34m(\u001b[0m\u001b[0;34m[\u001b[0m\u001b[0mkey\u001b[0m\u001b[0;34m]\u001b[0m\u001b[0;34m,\u001b[0m \u001b[0mmethod\u001b[0m\u001b[0;34m=\u001b[0m\u001b[0mmethod\u001b[0m\u001b[0;34m,\u001b[0m \u001b[0mtolerance\u001b[0m\u001b[0;34m=\u001b[0m\u001b[0mtolerance\u001b[0m\u001b[0;34m)\u001b[0m\u001b[0;34m\u001b[0m\u001b[0;34m\u001b[0m\u001b[0m\n\u001b[1;32m   2650\u001b[0m         \u001b[0;32mif\u001b[0m \u001b[0mindexer\u001b[0m\u001b[0;34m.\u001b[0m\u001b[0mndim\u001b[0m \u001b[0;34m>\u001b[0m \u001b[0;36m1\u001b[0m \u001b[0;32mor\u001b[0m \u001b[0mindexer\u001b[0m\u001b[0;34m.\u001b[0m\u001b[0msize\u001b[0m \u001b[0;34m>\u001b[0m \u001b[0;36m1\u001b[0m\u001b[0;34m:\u001b[0m\u001b[0;34m\u001b[0m\u001b[0;34m\u001b[0m\u001b[0m\n",
      "\u001b[0;32mpandas/_libs/index.pyx\u001b[0m in \u001b[0;36mpandas._libs.index.IndexEngine.get_loc\u001b[0;34m()\u001b[0m\n",
      "\u001b[0;32mpandas/_libs/index.pyx\u001b[0m in \u001b[0;36mpandas._libs.index.IndexEngine.get_loc\u001b[0;34m()\u001b[0m\n",
      "\u001b[0;32mpandas/_libs/hashtable_class_helper.pxi\u001b[0m in \u001b[0;36mpandas._libs.hashtable.PyObjectHashTable.get_item\u001b[0;34m()\u001b[0m\n",
      "\u001b[0;32mpandas/_libs/hashtable_class_helper.pxi\u001b[0m in \u001b[0;36mpandas._libs.hashtable.PyObjectHashTable.get_item\u001b[0;34m()\u001b[0m\n",
      "\u001b[0;31mKeyError\u001b[0m: 'id'"
     ]
    }
   ],
   "source": [
    "#df_gdc.index.equals(df_gencode.index)\n",
    "#df_gdc['name'].equals(df_gencode['name'])\n",
    "#df_gdc['seqname'].equals(df_gencode['seqname'])\n",
    "#df_gdc['start'].equals(df_gencode['start'])\n",
    "#df_gdc['end'].equals(df_gencode['end'])\n",
    "#df_gdc['strand'].equals(df_gencode['strand'])\n",
    "#df_gdc['type'].equals(df_gencode['type'])"
   ]
  },
  {
   "cell_type": "code",
   "execution_count": 70,
   "metadata": {},
   "outputs": [
    {
     "output_type": "execute_result",
     "data": {
      "text/plain": "                             name seqname      start        end strand  \\\nid                                                                       \nENSG00000000003.13         TSPAN6    chrX  100627109  100639991      -   \nENSG00000000005.5            TNMD    chrX  100584802  100599885      +   \nENSG00000000419.11           DPM1   chr20   50934867   50958555      -   \nENSG00000000457.12          SCYL3    chr1  169849631  169894267      -   \nENSG00000000460.15       C1orf112    chr1  169662007  169854080      +   \n...                           ...     ...        ...        ...    ...   \nENSGR0000275287.3     Metazoa_SRP    chrY     388100     388389      -   \nENSGR0000276543.3      AJ271736.1    chrY   57209151   57209218      +   \nENSGR0000277120.3         MIR6089    chrY    2609191    2609254      +   \nENSGR0000280767.1   RP13-465B17.5    chrY     419157     421980      +   \nENSGR0000281849.1   RP13-465B17.4    chrY     386980     405579      +   \n\n                              type gene_status           havana_gene  \\\nid                                                                     \nENSG00000000003.13  protein_coding       KNOWN  OTTHUMG00000022002.1   \nENSG00000000005.5   protein_coding       KNOWN  OTTHUMG00000022001.1   \nENSG00000000419.11  protein_coding       KNOWN  OTTHUMG00000032742.2   \nENSG00000000457.12  protein_coding       KNOWN  OTTHUMG00000035941.4   \nENSG00000000460.15  protein_coding       KNOWN  OTTHUMG00000035821.7   \n...                            ...         ...                   ...   \nENSGR0000275287.3         misc_RNA       NOVEL                   NaN   \nENSGR0000276543.3            miRNA       NOVEL                   NaN   \nENSGR0000277120.3            miRNA       KNOWN                   NaN   \nENSGR0000280767.1          lincRNA       NOVEL  OTTHUMG00000189993.1   \nENSGR0000281849.1        antisense       NOVEL  OTTHUMG00000189992.1   \n\n                    full_length  exon_length  exon_num  \nid                                                      \nENSG00000000003.13        12883         4535        34  \nENSG00000000005.5         15084         1610        10  \nENSG00000000419.11        23689         1207        53  \nENSG00000000457.12        44637         6883        63  \nENSG00000000460.15       192074         5967       151  \n...                         ...          ...       ...  \nENSGR0000275287.3           290          290         1  \nENSGR0000276543.3            68           68         1  \nENSGR0000277120.3            64           64         1  \nENSGR0000280767.1          2824          515         2  \nENSGR0000281849.1         18600          484         2  \n\n[60483 rows x 11 columns]",
      "text/html": "<div>\n<style scoped>\n    .dataframe tbody tr th:only-of-type {\n        vertical-align: middle;\n    }\n\n    .dataframe tbody tr th {\n        vertical-align: top;\n    }\n\n    .dataframe thead th {\n        text-align: right;\n    }\n</style>\n<table border=\"1\" class=\"dataframe\">\n  <thead>\n    <tr style=\"text-align: right;\">\n      <th></th>\n      <th>name</th>\n      <th>seqname</th>\n      <th>start</th>\n      <th>end</th>\n      <th>strand</th>\n      <th>type</th>\n      <th>gene_status</th>\n      <th>havana_gene</th>\n      <th>full_length</th>\n      <th>exon_length</th>\n      <th>exon_num</th>\n    </tr>\n    <tr>\n      <th>id</th>\n      <th></th>\n      <th></th>\n      <th></th>\n      <th></th>\n      <th></th>\n      <th></th>\n      <th></th>\n      <th></th>\n      <th></th>\n      <th></th>\n      <th></th>\n    </tr>\n  </thead>\n  <tbody>\n    <tr>\n      <th>ENSG00000000003.13</th>\n      <td>TSPAN6</td>\n      <td>chrX</td>\n      <td>100627109</td>\n      <td>100639991</td>\n      <td>-</td>\n      <td>protein_coding</td>\n      <td>KNOWN</td>\n      <td>OTTHUMG00000022002.1</td>\n      <td>12883</td>\n      <td>4535</td>\n      <td>34</td>\n    </tr>\n    <tr>\n      <th>ENSG00000000005.5</th>\n      <td>TNMD</td>\n      <td>chrX</td>\n      <td>100584802</td>\n      <td>100599885</td>\n      <td>+</td>\n      <td>protein_coding</td>\n      <td>KNOWN</td>\n      <td>OTTHUMG00000022001.1</td>\n      <td>15084</td>\n      <td>1610</td>\n      <td>10</td>\n    </tr>\n    <tr>\n      <th>ENSG00000000419.11</th>\n      <td>DPM1</td>\n      <td>chr20</td>\n      <td>50934867</td>\n      <td>50958555</td>\n      <td>-</td>\n      <td>protein_coding</td>\n      <td>KNOWN</td>\n      <td>OTTHUMG00000032742.2</td>\n      <td>23689</td>\n      <td>1207</td>\n      <td>53</td>\n    </tr>\n    <tr>\n      <th>ENSG00000000457.12</th>\n      <td>SCYL3</td>\n      <td>chr1</td>\n      <td>169849631</td>\n      <td>169894267</td>\n      <td>-</td>\n      <td>protein_coding</td>\n      <td>KNOWN</td>\n      <td>OTTHUMG00000035941.4</td>\n      <td>44637</td>\n      <td>6883</td>\n      <td>63</td>\n    </tr>\n    <tr>\n      <th>ENSG00000000460.15</th>\n      <td>C1orf112</td>\n      <td>chr1</td>\n      <td>169662007</td>\n      <td>169854080</td>\n      <td>+</td>\n      <td>protein_coding</td>\n      <td>KNOWN</td>\n      <td>OTTHUMG00000035821.7</td>\n      <td>192074</td>\n      <td>5967</td>\n      <td>151</td>\n    </tr>\n    <tr>\n      <th>...</th>\n      <td>...</td>\n      <td>...</td>\n      <td>...</td>\n      <td>...</td>\n      <td>...</td>\n      <td>...</td>\n      <td>...</td>\n      <td>...</td>\n      <td>...</td>\n      <td>...</td>\n      <td>...</td>\n    </tr>\n    <tr>\n      <th>ENSGR0000275287.3</th>\n      <td>Metazoa_SRP</td>\n      <td>chrY</td>\n      <td>388100</td>\n      <td>388389</td>\n      <td>-</td>\n      <td>misc_RNA</td>\n      <td>NOVEL</td>\n      <td>NaN</td>\n      <td>290</td>\n      <td>290</td>\n      <td>1</td>\n    </tr>\n    <tr>\n      <th>ENSGR0000276543.3</th>\n      <td>AJ271736.1</td>\n      <td>chrY</td>\n      <td>57209151</td>\n      <td>57209218</td>\n      <td>+</td>\n      <td>miRNA</td>\n      <td>NOVEL</td>\n      <td>NaN</td>\n      <td>68</td>\n      <td>68</td>\n      <td>1</td>\n    </tr>\n    <tr>\n      <th>ENSGR0000277120.3</th>\n      <td>MIR6089</td>\n      <td>chrY</td>\n      <td>2609191</td>\n      <td>2609254</td>\n      <td>+</td>\n      <td>miRNA</td>\n      <td>KNOWN</td>\n      <td>NaN</td>\n      <td>64</td>\n      <td>64</td>\n      <td>1</td>\n    </tr>\n    <tr>\n      <th>ENSGR0000280767.1</th>\n      <td>RP13-465B17.5</td>\n      <td>chrY</td>\n      <td>419157</td>\n      <td>421980</td>\n      <td>+</td>\n      <td>lincRNA</td>\n      <td>NOVEL</td>\n      <td>OTTHUMG00000189993.1</td>\n      <td>2824</td>\n      <td>515</td>\n      <td>2</td>\n    </tr>\n    <tr>\n      <th>ENSGR0000281849.1</th>\n      <td>RP13-465B17.4</td>\n      <td>chrY</td>\n      <td>386980</td>\n      <td>405579</td>\n      <td>+</td>\n      <td>antisense</td>\n      <td>NOVEL</td>\n      <td>OTTHUMG00000189992.1</td>\n      <td>18600</td>\n      <td>484</td>\n      <td>2</td>\n    </tr>\n  </tbody>\n</table>\n<p>60483 rows × 11 columns</p>\n</div>"
     },
     "metadata": {},
     "execution_count": 70
    }
   ],
   "source": [
    "df_gdc"
   ]
  },
  {
   "cell_type": "code",
   "execution_count": 71,
   "metadata": {},
   "outputs": [
    {
     "output_type": "execute_result",
     "data": {
      "text/plain": "                   seqname        1     2      start        end  5 strand  7  \\\nid                                                                             \nENSG00000000003.13    chrX   HAVANA  gene  100627109  100639991  .      -  .   \nENSG00000000005.5     chrX   HAVANA  gene  100584802  100599885  .      +  .   \nENSG00000000419.11   chr20   HAVANA  gene   50934867   50958555  .      -  .   \nENSG00000000457.12    chr1   HAVANA  gene  169849631  169894267  .      -  .   \nENSG00000000460.15    chr1   HAVANA  gene  169662007  169854080  .      +  .   \n...                    ...      ...   ...        ...        ... ..    ... ..   \nENSGR0000275287.3     chrY  ENSEMBL  gene     388100     388389  .      -  .   \nENSGR0000276543.3     chrY  ENSEMBL  gene   57209151   57209218  .      +  .   \nENSGR0000277120.3     chrY  ENSEMBL  gene    2609191    2609254  .      +  .   \nENSGR0000280767.1     chrY   HAVANA  gene     419157     421980  .      +  .   \nENSGR0000281849.1     chrY   HAVANA  gene     386980     405579  .      +  .   \n\n                                                                    8  \\\nid                                                                      \nENSG00000000003.13  gene_id \"ENSG00000000003.13\"; gene_type \"prote...   \nENSG00000000005.5   gene_id \"ENSG00000000005.5\"; gene_type \"protei...   \nENSG00000000419.11  gene_id \"ENSG00000000419.11\"; gene_type \"prote...   \nENSG00000000457.12  gene_id \"ENSG00000000457.12\"; gene_type \"prote...   \nENSG00000000460.15  gene_id \"ENSG00000000460.15\"; gene_type \"prote...   \n...                                                               ...   \nENSGR0000275287.3   gene_id \"ENSGR0000275287.3\"; gene_type \"misc_R...   \nENSGR0000276543.3   gene_id \"ENSGR0000276543.3\"; gene_type \"miRNA\"...   \nENSGR0000277120.3   gene_id \"ENSGR0000277120.3\"; gene_type \"miRNA\"...   \nENSGR0000280767.1   gene_id \"ENSGR0000280767.1\"; gene_type \"lincRN...   \nENSGR0000281849.1   gene_id \"ENSGR0000281849.1\"; gene_type \"antise...   \n\n                              type           name  \nid                                                 \nENSG00000000003.13  protein_coding         TSPAN6  \nENSG00000000005.5   protein_coding           TNMD  \nENSG00000000419.11  protein_coding           DPM1  \nENSG00000000457.12  protein_coding          SCYL3  \nENSG00000000460.15  protein_coding       C1orf112  \n...                            ...            ...  \nENSGR0000275287.3         misc_RNA    Metazoa_SRP  \nENSGR0000276543.3            miRNA     AJ271736.1  \nENSGR0000277120.3            miRNA        MIR6089  \nENSGR0000280767.1          lincRNA  RP13-465B17.5  \nENSGR0000281849.1        antisense  RP13-465B17.4  \n\n[60483 rows x 11 columns]",
      "text/html": "<div>\n<style scoped>\n    .dataframe tbody tr th:only-of-type {\n        vertical-align: middle;\n    }\n\n    .dataframe tbody tr th {\n        vertical-align: top;\n    }\n\n    .dataframe thead th {\n        text-align: right;\n    }\n</style>\n<table border=\"1\" class=\"dataframe\">\n  <thead>\n    <tr style=\"text-align: right;\">\n      <th></th>\n      <th>seqname</th>\n      <th>1</th>\n      <th>2</th>\n      <th>start</th>\n      <th>end</th>\n      <th>5</th>\n      <th>strand</th>\n      <th>7</th>\n      <th>8</th>\n      <th>type</th>\n      <th>name</th>\n    </tr>\n    <tr>\n      <th>id</th>\n      <th></th>\n      <th></th>\n      <th></th>\n      <th></th>\n      <th></th>\n      <th></th>\n      <th></th>\n      <th></th>\n      <th></th>\n      <th></th>\n      <th></th>\n    </tr>\n  </thead>\n  <tbody>\n    <tr>\n      <th>ENSG00000000003.13</th>\n      <td>chrX</td>\n      <td>HAVANA</td>\n      <td>gene</td>\n      <td>100627109</td>\n      <td>100639991</td>\n      <td>.</td>\n      <td>-</td>\n      <td>.</td>\n      <td>gene_id \"ENSG00000000003.13\"; gene_type \"prote...</td>\n      <td>protein_coding</td>\n      <td>TSPAN6</td>\n    </tr>\n    <tr>\n      <th>ENSG00000000005.5</th>\n      <td>chrX</td>\n      <td>HAVANA</td>\n      <td>gene</td>\n      <td>100584802</td>\n      <td>100599885</td>\n      <td>.</td>\n      <td>+</td>\n      <td>.</td>\n      <td>gene_id \"ENSG00000000005.5\"; gene_type \"protei...</td>\n      <td>protein_coding</td>\n      <td>TNMD</td>\n    </tr>\n    <tr>\n      <th>ENSG00000000419.11</th>\n      <td>chr20</td>\n      <td>HAVANA</td>\n      <td>gene</td>\n      <td>50934867</td>\n      <td>50958555</td>\n      <td>.</td>\n      <td>-</td>\n      <td>.</td>\n      <td>gene_id \"ENSG00000000419.11\"; gene_type \"prote...</td>\n      <td>protein_coding</td>\n      <td>DPM1</td>\n    </tr>\n    <tr>\n      <th>ENSG00000000457.12</th>\n      <td>chr1</td>\n      <td>HAVANA</td>\n      <td>gene</td>\n      <td>169849631</td>\n      <td>169894267</td>\n      <td>.</td>\n      <td>-</td>\n      <td>.</td>\n      <td>gene_id \"ENSG00000000457.12\"; gene_type \"prote...</td>\n      <td>protein_coding</td>\n      <td>SCYL3</td>\n    </tr>\n    <tr>\n      <th>ENSG00000000460.15</th>\n      <td>chr1</td>\n      <td>HAVANA</td>\n      <td>gene</td>\n      <td>169662007</td>\n      <td>169854080</td>\n      <td>.</td>\n      <td>+</td>\n      <td>.</td>\n      <td>gene_id \"ENSG00000000460.15\"; gene_type \"prote...</td>\n      <td>protein_coding</td>\n      <td>C1orf112</td>\n    </tr>\n    <tr>\n      <th>...</th>\n      <td>...</td>\n      <td>...</td>\n      <td>...</td>\n      <td>...</td>\n      <td>...</td>\n      <td>...</td>\n      <td>...</td>\n      <td>...</td>\n      <td>...</td>\n      <td>...</td>\n      <td>...</td>\n    </tr>\n    <tr>\n      <th>ENSGR0000275287.3</th>\n      <td>chrY</td>\n      <td>ENSEMBL</td>\n      <td>gene</td>\n      <td>388100</td>\n      <td>388389</td>\n      <td>.</td>\n      <td>-</td>\n      <td>.</td>\n      <td>gene_id \"ENSGR0000275287.3\"; gene_type \"misc_R...</td>\n      <td>misc_RNA</td>\n      <td>Metazoa_SRP</td>\n    </tr>\n    <tr>\n      <th>ENSGR0000276543.3</th>\n      <td>chrY</td>\n      <td>ENSEMBL</td>\n      <td>gene</td>\n      <td>57209151</td>\n      <td>57209218</td>\n      <td>.</td>\n      <td>+</td>\n      <td>.</td>\n      <td>gene_id \"ENSGR0000276543.3\"; gene_type \"miRNA\"...</td>\n      <td>miRNA</td>\n      <td>AJ271736.1</td>\n    </tr>\n    <tr>\n      <th>ENSGR0000277120.3</th>\n      <td>chrY</td>\n      <td>ENSEMBL</td>\n      <td>gene</td>\n      <td>2609191</td>\n      <td>2609254</td>\n      <td>.</td>\n      <td>+</td>\n      <td>.</td>\n      <td>gene_id \"ENSGR0000277120.3\"; gene_type \"miRNA\"...</td>\n      <td>miRNA</td>\n      <td>MIR6089</td>\n    </tr>\n    <tr>\n      <th>ENSGR0000280767.1</th>\n      <td>chrY</td>\n      <td>HAVANA</td>\n      <td>gene</td>\n      <td>419157</td>\n      <td>421980</td>\n      <td>.</td>\n      <td>+</td>\n      <td>.</td>\n      <td>gene_id \"ENSGR0000280767.1\"; gene_type \"lincRN...</td>\n      <td>lincRNA</td>\n      <td>RP13-465B17.5</td>\n    </tr>\n    <tr>\n      <th>ENSGR0000281849.1</th>\n      <td>chrY</td>\n      <td>HAVANA</td>\n      <td>gene</td>\n      <td>386980</td>\n      <td>405579</td>\n      <td>.</td>\n      <td>+</td>\n      <td>.</td>\n      <td>gene_id \"ENSGR0000281849.1\"; gene_type \"antise...</td>\n      <td>antisense</td>\n      <td>RP13-465B17.4</td>\n    </tr>\n  </tbody>\n</table>\n<p>60483 rows × 11 columns</p>\n</div>"
     },
     "metadata": {},
     "execution_count": 71
    }
   ],
   "source": [
    "df_gencode"
   ]
  },
  {
   "cell_type": "code",
   "execution_count": 17,
   "metadata": {},
   "outputs": [
    {
     "output_type": "execute_result",
     "data": {
      "text/plain": "True"
     },
     "metadata": {},
     "execution_count": 17
    }
   ],
   "source": [
    "df1 = pd.DataFrame({1: [10,11], 2: [20,21]}, index=['a','b'])\n",
    "df2 = pd.DataFrame({1: [11,10], 2: [21,20]}, index=['b','a'])\n",
    "df2.sort_index().equals(df1)"
   ]
  },
  {
   "cell_type": "code",
   "execution_count": 15,
   "metadata": {},
   "outputs": [
    {
     "output_type": "execute_result",
     "data": {
      "text/plain": "    1   2\na  10  20\nb  11  21",
      "text/html": "<div>\n<style scoped>\n    .dataframe tbody tr th:only-of-type {\n        vertical-align: middle;\n    }\n\n    .dataframe tbody tr th {\n        vertical-align: top;\n    }\n\n    .dataframe thead th {\n        text-align: right;\n    }\n</style>\n<table border=\"1\" class=\"dataframe\">\n  <thead>\n    <tr style=\"text-align: right;\">\n      <th></th>\n      <th>1</th>\n      <th>2</th>\n    </tr>\n  </thead>\n  <tbody>\n    <tr>\n      <th>a</th>\n      <td>10</td>\n      <td>20</td>\n    </tr>\n    <tr>\n      <th>b</th>\n      <td>11</td>\n      <td>21</td>\n    </tr>\n  </tbody>\n</table>\n</div>"
     },
     "metadata": {},
     "execution_count": 15
    }
   ],
   "source": [
    "df2.sort_index()"
   ]
  },
  {
   "cell_type": "code",
   "execution_count": 47,
   "metadata": {},
   "outputs": [],
   "source": [
    "df_gencode['id'] = df_gencode.apply(lambda x: x[8].split()[1].split('\\\"')[1], axis=1)\n",
    "df_gencode['type'] = df_gencode.apply(lambda x: x[8].split()[3].split('\\\"')[1], axis=1)\n",
    "df_gencode['name'] = df_gencode.apply(lambda x: x[8].split()[7].split('\\\"')[1], axis=1)\n",
    "df_gencode = df_gencode.rename({3: 'start', 4: 'stop'}, axis='columns')\n",
    "df_gencode = df_gencode.set_index('id')\n",
    "df_gencode = df_gencode.sort_index()"
   ]
  },
  {
   "cell_type": "code",
   "execution_count": 45,
   "metadata": {},
   "outputs": [
    {
     "output_type": "execute_result",
     "data": {
      "text/plain": "0.09319213127634611"
     },
     "metadata": {},
     "execution_count": 45
    }
   ],
   "source": [
    "x = df_samples[0]['intensity'] / df_gdc['exon_length'] / df_samples[1]['intensity']\n",
    "#x = df_samples[2]['intensity'] / df_samples[1]['intensity']\n",
    "x[x.notnull()].std() / x[x.notnull()].mean() * 100"
   ]
  },
  {
   "cell_type": "code",
   "execution_count": 15,
   "metadata": {},
   "outputs": [
    {
     "output_type": "execute_result",
     "data": {
      "text/plain": "                             name seqname      start        end strand  \\\nid                                                                       \nENSG00000000003.13         TSPAN6    chrX  100627109  100639991      -   \nENSG00000000005.5            TNMD    chrX  100584802  100599885      +   \nENSG00000000419.11           DPM1   chr20   50934867   50958555      -   \nENSG00000000457.12          SCYL3    chr1  169849631  169894267      -   \nENSG00000000460.15       C1orf112    chr1  169662007  169854080      +   \n...                           ...     ...        ...        ...    ...   \nENSGR0000275287.3     Metazoa_SRP    chrY     388100     388389      -   \nENSGR0000276543.3      AJ271736.1    chrY   57209151   57209218      +   \nENSGR0000277120.3         MIR6089    chrY    2609191    2609254      +   \nENSGR0000280767.1   RP13-465B17.5    chrY     419157     421980      +   \nENSGR0000281849.1   RP13-465B17.4    chrY     386980     405579      +   \n\n                              type gene_status           havana_gene  \\\nid                                                                     \nENSG00000000003.13  protein_coding       KNOWN  OTTHUMG00000022002.1   \nENSG00000000005.5   protein_coding       KNOWN  OTTHUMG00000022001.1   \nENSG00000000419.11  protein_coding       KNOWN  OTTHUMG00000032742.2   \nENSG00000000457.12  protein_coding       KNOWN  OTTHUMG00000035941.4   \nENSG00000000460.15  protein_coding       KNOWN  OTTHUMG00000035821.7   \n...                            ...         ...                   ...   \nENSGR0000275287.3         misc_RNA       NOVEL                   NaN   \nENSGR0000276543.3            miRNA       NOVEL                   NaN   \nENSGR0000277120.3            miRNA       KNOWN                   NaN   \nENSGR0000280767.1          lincRNA       NOVEL  OTTHUMG00000189993.1   \nENSGR0000281849.1        antisense       NOVEL  OTTHUMG00000189992.1   \n\n                    full_length  exon_length  exon_num  \nid                                                      \nENSG00000000003.13        12883         4535        34  \nENSG00000000005.5         15084         1610        10  \nENSG00000000419.11        23689         1207        53  \nENSG00000000457.12        44637         6883        63  \nENSG00000000460.15       192074         5967       151  \n...                         ...          ...       ...  \nENSGR0000275287.3           290          290         1  \nENSGR0000276543.3            68           68         1  \nENSGR0000277120.3            64           64         1  \nENSGR0000280767.1          2824          515         2  \nENSGR0000281849.1         18600          484         2  \n\n[60483 rows x 11 columns]",
      "text/html": "<div>\n<style scoped>\n    .dataframe tbody tr th:only-of-type {\n        vertical-align: middle;\n    }\n\n    .dataframe tbody tr th {\n        vertical-align: top;\n    }\n\n    .dataframe thead th {\n        text-align: right;\n    }\n</style>\n<table border=\"1\" class=\"dataframe\">\n  <thead>\n    <tr style=\"text-align: right;\">\n      <th></th>\n      <th>name</th>\n      <th>seqname</th>\n      <th>start</th>\n      <th>end</th>\n      <th>strand</th>\n      <th>type</th>\n      <th>gene_status</th>\n      <th>havana_gene</th>\n      <th>full_length</th>\n      <th>exon_length</th>\n      <th>exon_num</th>\n    </tr>\n    <tr>\n      <th>id</th>\n      <th></th>\n      <th></th>\n      <th></th>\n      <th></th>\n      <th></th>\n      <th></th>\n      <th></th>\n      <th></th>\n      <th></th>\n      <th></th>\n      <th></th>\n    </tr>\n  </thead>\n  <tbody>\n    <tr>\n      <th>ENSG00000000003.13</th>\n      <td>TSPAN6</td>\n      <td>chrX</td>\n      <td>100627109</td>\n      <td>100639991</td>\n      <td>-</td>\n      <td>protein_coding</td>\n      <td>KNOWN</td>\n      <td>OTTHUMG00000022002.1</td>\n      <td>12883</td>\n      <td>4535</td>\n      <td>34</td>\n    </tr>\n    <tr>\n      <th>ENSG00000000005.5</th>\n      <td>TNMD</td>\n      <td>chrX</td>\n      <td>100584802</td>\n      <td>100599885</td>\n      <td>+</td>\n      <td>protein_coding</td>\n      <td>KNOWN</td>\n      <td>OTTHUMG00000022001.1</td>\n      <td>15084</td>\n      <td>1610</td>\n      <td>10</td>\n    </tr>\n    <tr>\n      <th>ENSG00000000419.11</th>\n      <td>DPM1</td>\n      <td>chr20</td>\n      <td>50934867</td>\n      <td>50958555</td>\n      <td>-</td>\n      <td>protein_coding</td>\n      <td>KNOWN</td>\n      <td>OTTHUMG00000032742.2</td>\n      <td>23689</td>\n      <td>1207</td>\n      <td>53</td>\n    </tr>\n    <tr>\n      <th>ENSG00000000457.12</th>\n      <td>SCYL3</td>\n      <td>chr1</td>\n      <td>169849631</td>\n      <td>169894267</td>\n      <td>-</td>\n      <td>protein_coding</td>\n      <td>KNOWN</td>\n      <td>OTTHUMG00000035941.4</td>\n      <td>44637</td>\n      <td>6883</td>\n      <td>63</td>\n    </tr>\n    <tr>\n      <th>ENSG00000000460.15</th>\n      <td>C1orf112</td>\n      <td>chr1</td>\n      <td>169662007</td>\n      <td>169854080</td>\n      <td>+</td>\n      <td>protein_coding</td>\n      <td>KNOWN</td>\n      <td>OTTHUMG00000035821.7</td>\n      <td>192074</td>\n      <td>5967</td>\n      <td>151</td>\n    </tr>\n    <tr>\n      <th>...</th>\n      <td>...</td>\n      <td>...</td>\n      <td>...</td>\n      <td>...</td>\n      <td>...</td>\n      <td>...</td>\n      <td>...</td>\n      <td>...</td>\n      <td>...</td>\n      <td>...</td>\n      <td>...</td>\n    </tr>\n    <tr>\n      <th>ENSGR0000275287.3</th>\n      <td>Metazoa_SRP</td>\n      <td>chrY</td>\n      <td>388100</td>\n      <td>388389</td>\n      <td>-</td>\n      <td>misc_RNA</td>\n      <td>NOVEL</td>\n      <td>NaN</td>\n      <td>290</td>\n      <td>290</td>\n      <td>1</td>\n    </tr>\n    <tr>\n      <th>ENSGR0000276543.3</th>\n      <td>AJ271736.1</td>\n      <td>chrY</td>\n      <td>57209151</td>\n      <td>57209218</td>\n      <td>+</td>\n      <td>miRNA</td>\n      <td>NOVEL</td>\n      <td>NaN</td>\n      <td>68</td>\n      <td>68</td>\n      <td>1</td>\n    </tr>\n    <tr>\n      <th>ENSGR0000277120.3</th>\n      <td>MIR6089</td>\n      <td>chrY</td>\n      <td>2609191</td>\n      <td>2609254</td>\n      <td>+</td>\n      <td>miRNA</td>\n      <td>KNOWN</td>\n      <td>NaN</td>\n      <td>64</td>\n      <td>64</td>\n      <td>1</td>\n    </tr>\n    <tr>\n      <th>ENSGR0000280767.1</th>\n      <td>RP13-465B17.5</td>\n      <td>chrY</td>\n      <td>419157</td>\n      <td>421980</td>\n      <td>+</td>\n      <td>lincRNA</td>\n      <td>NOVEL</td>\n      <td>OTTHUMG00000189993.1</td>\n      <td>2824</td>\n      <td>515</td>\n      <td>2</td>\n    </tr>\n    <tr>\n      <th>ENSGR0000281849.1</th>\n      <td>RP13-465B17.4</td>\n      <td>chrY</td>\n      <td>386980</td>\n      <td>405579</td>\n      <td>+</td>\n      <td>antisense</td>\n      <td>NOVEL</td>\n      <td>OTTHUMG00000189992.1</td>\n      <td>18600</td>\n      <td>484</td>\n      <td>2</td>\n    </tr>\n  </tbody>\n</table>\n<p>60483 rows × 11 columns</p>\n</div>"
     },
     "metadata": {},
     "execution_count": 15
    }
   ],
   "source": [
    "df_gdc"
   ]
  },
  {
   "cell_type": "code",
   "execution_count": 13,
   "metadata": {},
   "outputs": [
    {
     "output_type": "execute_result",
     "data": {
      "text/plain": "                       id  intensity\n0      ENSG00000000003.13    48.2789\n1       ENSG00000000005.5     4.0536\n2      ENSG00000000419.11    65.1115\n3      ENSG00000000457.12     1.5301\n4      ENSG00000000460.15     2.9406\n...                   ...        ...\n60478   ENSGR0000275287.3     0.0000\n60479   ENSGR0000276543.3     0.0000\n60480   ENSGR0000277120.3     0.0000\n60481   ENSGR0000280767.1     0.0000\n60482   ENSGR0000281849.1     0.0000\n\n[60483 rows x 2 columns]",
      "text/html": "<div>\n<style scoped>\n    .dataframe tbody tr th:only-of-type {\n        vertical-align: middle;\n    }\n\n    .dataframe tbody tr th {\n        vertical-align: top;\n    }\n\n    .dataframe thead th {\n        text-align: right;\n    }\n</style>\n<table border=\"1\" class=\"dataframe\">\n  <thead>\n    <tr style=\"text-align: right;\">\n      <th></th>\n      <th>id</th>\n      <th>intensity</th>\n    </tr>\n  </thead>\n  <tbody>\n    <tr>\n      <th>0</th>\n      <td>ENSG00000000003.13</td>\n      <td>48.2789</td>\n    </tr>\n    <tr>\n      <th>1</th>\n      <td>ENSG00000000005.5</td>\n      <td>4.0536</td>\n    </tr>\n    <tr>\n      <th>2</th>\n      <td>ENSG00000000419.11</td>\n      <td>65.1115</td>\n    </tr>\n    <tr>\n      <th>3</th>\n      <td>ENSG00000000457.12</td>\n      <td>1.5301</td>\n    </tr>\n    <tr>\n      <th>4</th>\n      <td>ENSG00000000460.15</td>\n      <td>2.9406</td>\n    </tr>\n    <tr>\n      <th>...</th>\n      <td>...</td>\n      <td>...</td>\n    </tr>\n    <tr>\n      <th>60478</th>\n      <td>ENSGR0000275287.3</td>\n      <td>0.0000</td>\n    </tr>\n    <tr>\n      <th>60479</th>\n      <td>ENSGR0000276543.3</td>\n      <td>0.0000</td>\n    </tr>\n    <tr>\n      <th>60480</th>\n      <td>ENSGR0000277120.3</td>\n      <td>0.0000</td>\n    </tr>\n    <tr>\n      <th>60481</th>\n      <td>ENSGR0000280767.1</td>\n      <td>0.0000</td>\n    </tr>\n    <tr>\n      <th>60482</th>\n      <td>ENSGR0000281849.1</td>\n      <td>0.0000</td>\n    </tr>\n  </tbody>\n</table>\n<p>60483 rows × 2 columns</p>\n</div>"
     },
     "metadata": {},
     "execution_count": 13
    }
   ],
   "source": [
    "df_fpkm"
   ]
  },
  {
   "cell_type": "code",
   "execution_count": 48,
   "metadata": {},
   "outputs": [
    {
     "output_type": "execute_result",
     "data": {
      "text/plain": "            0        1           2      3      4  5  6  7  \\\n0        chr1   HAVANA        gene  11869  14409  .  +  .   \n1        chr1   HAVANA  transcript  11869  14409  .  +  .   \n2        chr1   HAVANA        exon  11869  12227  .  +  .   \n3        chr1   HAVANA        exon  12613  12721  .  +  .   \n4        chr1   HAVANA        exon  13221  14409  .  +  .   \n...       ...      ...         ...    ...    ... .. .. ..   \n2563666  chrM  ENSEMBL  transcript  15888  15953  .  +  .   \n2563667  chrM  ENSEMBL        exon  15888  15953  .  +  .   \n2563668  chrM  ENSEMBL        gene  15956  16023  .  -  .   \n2563669  chrM  ENSEMBL  transcript  15956  16023  .  -  .   \n2563670  chrM  ENSEMBL        exon  15956  16023  .  -  .   \n\n                                                         8  \n0        gene_id \"ENSG00000223972.5\"; gene_type \"transc...  \n1        gene_id \"ENSG00000223972.5\"; transcript_id \"EN...  \n2        gene_id \"ENSG00000223972.5\"; transcript_id \"EN...  \n3        gene_id \"ENSG00000223972.5\"; transcript_id \"EN...  \n4        gene_id \"ENSG00000223972.5\"; transcript_id \"EN...  \n...                                                    ...  \n2563666  gene_id \"ENSG00000210195.2\"; transcript_id \"EN...  \n2563667  gene_id \"ENSG00000210195.2\"; transcript_id \"EN...  \n2563668  gene_id \"ENSG00000210196.2\"; gene_type \"Mt_tRN...  \n2563669  gene_id \"ENSG00000210196.2\"; transcript_id \"EN...  \n2563670  gene_id \"ENSG00000210196.2\"; transcript_id \"EN...  \n\n[2563671 rows x 9 columns]",
      "text/html": "<div>\n<style scoped>\n    .dataframe tbody tr th:only-of-type {\n        vertical-align: middle;\n    }\n\n    .dataframe tbody tr th {\n        vertical-align: top;\n    }\n\n    .dataframe thead th {\n        text-align: right;\n    }\n</style>\n<table border=\"1\" class=\"dataframe\">\n  <thead>\n    <tr style=\"text-align: right;\">\n      <th></th>\n      <th>0</th>\n      <th>1</th>\n      <th>2</th>\n      <th>3</th>\n      <th>4</th>\n      <th>5</th>\n      <th>6</th>\n      <th>7</th>\n      <th>8</th>\n    </tr>\n  </thead>\n  <tbody>\n    <tr>\n      <th>0</th>\n      <td>chr1</td>\n      <td>HAVANA</td>\n      <td>gene</td>\n      <td>11869</td>\n      <td>14409</td>\n      <td>.</td>\n      <td>+</td>\n      <td>.</td>\n      <td>gene_id \"ENSG00000223972.5\"; gene_type \"transc...</td>\n    </tr>\n    <tr>\n      <th>1</th>\n      <td>chr1</td>\n      <td>HAVANA</td>\n      <td>transcript</td>\n      <td>11869</td>\n      <td>14409</td>\n      <td>.</td>\n      <td>+</td>\n      <td>.</td>\n      <td>gene_id \"ENSG00000223972.5\"; transcript_id \"EN...</td>\n    </tr>\n    <tr>\n      <th>2</th>\n      <td>chr1</td>\n      <td>HAVANA</td>\n      <td>exon</td>\n      <td>11869</td>\n      <td>12227</td>\n      <td>.</td>\n      <td>+</td>\n      <td>.</td>\n      <td>gene_id \"ENSG00000223972.5\"; transcript_id \"EN...</td>\n    </tr>\n    <tr>\n      <th>3</th>\n      <td>chr1</td>\n      <td>HAVANA</td>\n      <td>exon</td>\n      <td>12613</td>\n      <td>12721</td>\n      <td>.</td>\n      <td>+</td>\n      <td>.</td>\n      <td>gene_id \"ENSG00000223972.5\"; transcript_id \"EN...</td>\n    </tr>\n    <tr>\n      <th>4</th>\n      <td>chr1</td>\n      <td>HAVANA</td>\n      <td>exon</td>\n      <td>13221</td>\n      <td>14409</td>\n      <td>.</td>\n      <td>+</td>\n      <td>.</td>\n      <td>gene_id \"ENSG00000223972.5\"; transcript_id \"EN...</td>\n    </tr>\n    <tr>\n      <th>...</th>\n      <td>...</td>\n      <td>...</td>\n      <td>...</td>\n      <td>...</td>\n      <td>...</td>\n      <td>...</td>\n      <td>...</td>\n      <td>...</td>\n      <td>...</td>\n    </tr>\n    <tr>\n      <th>2563666</th>\n      <td>chrM</td>\n      <td>ENSEMBL</td>\n      <td>transcript</td>\n      <td>15888</td>\n      <td>15953</td>\n      <td>.</td>\n      <td>+</td>\n      <td>.</td>\n      <td>gene_id \"ENSG00000210195.2\"; transcript_id \"EN...</td>\n    </tr>\n    <tr>\n      <th>2563667</th>\n      <td>chrM</td>\n      <td>ENSEMBL</td>\n      <td>exon</td>\n      <td>15888</td>\n      <td>15953</td>\n      <td>.</td>\n      <td>+</td>\n      <td>.</td>\n      <td>gene_id \"ENSG00000210195.2\"; transcript_id \"EN...</td>\n    </tr>\n    <tr>\n      <th>2563668</th>\n      <td>chrM</td>\n      <td>ENSEMBL</td>\n      <td>gene</td>\n      <td>15956</td>\n      <td>16023</td>\n      <td>.</td>\n      <td>-</td>\n      <td>.</td>\n      <td>gene_id \"ENSG00000210196.2\"; gene_type \"Mt_tRN...</td>\n    </tr>\n    <tr>\n      <th>2563669</th>\n      <td>chrM</td>\n      <td>ENSEMBL</td>\n      <td>transcript</td>\n      <td>15956</td>\n      <td>16023</td>\n      <td>.</td>\n      <td>-</td>\n      <td>.</td>\n      <td>gene_id \"ENSG00000210196.2\"; transcript_id \"EN...</td>\n    </tr>\n    <tr>\n      <th>2563670</th>\n      <td>chrM</td>\n      <td>ENSEMBL</td>\n      <td>exon</td>\n      <td>15956</td>\n      <td>16023</td>\n      <td>.</td>\n      <td>-</td>\n      <td>.</td>\n      <td>gene_id \"ENSG00000210196.2\"; transcript_id \"EN...</td>\n    </tr>\n  </tbody>\n</table>\n<p>2563671 rows × 9 columns</p>\n</div>"
     },
     "metadata": {},
     "execution_count": 48
    }
   ],
   "source": [
    "df_gencode_full"
   ]
  },
  {
   "cell_type": "code",
   "execution_count": 15,
   "metadata": {},
   "outputs": [
    {
     "output_type": "execute_result",
     "data": {
      "text/plain": "True"
     },
     "metadata": {},
     "execution_count": 15
    }
   ],
   "source": [
    "#df_gencode_full.loc[df_gencode_full[2]=='gene',:].reindex()\n",
    "#df_gencode_full[df_gencode_full[2]=='gene'].equals(pd.read_csv(gencode_gtf_file, sep='\\t', skiprows=5, header=None))\n",
    "df_gencode_full[df_gencode_full[2]=='gene'].reset_index(drop=True).equals(pd.read_csv(gencode_gtf_file, sep='\\t', skiprows=5, header=None))"
   ]
  },
  {
   "cell_type": "code",
   "execution_count": 13,
   "metadata": {},
   "outputs": [
    {
     "output_type": "execute_result",
     "data": {
      "text/plain": "          0        1     2      3      4  5  6  7  \\\n0      chr1   HAVANA  gene  11869  14409  .  +  .   \n1      chr1   HAVANA  gene  14404  29570  .  -  .   \n2      chr1  ENSEMBL  gene  17369  17436  .  -  .   \n3      chr1   HAVANA  gene  29554  31109  .  +  .   \n4      chr1  ENSEMBL  gene  30366  30503  .  +  .   \n...     ...      ...   ...    ...    ... .. .. ..   \n60478  chrM  ENSEMBL  gene  14149  14673  .  -  .   \n60479  chrM  ENSEMBL  gene  14674  14742  .  -  .   \n60480  chrM  ENSEMBL  gene  14747  15887  .  +  .   \n60481  chrM  ENSEMBL  gene  15888  15953  .  +  .   \n60482  chrM  ENSEMBL  gene  15956  16023  .  -  .   \n\n                                                       8  \n0      gene_id \"ENSG00000223972.5\"; gene_type \"transc...  \n1      gene_id \"ENSG00000227232.5\"; gene_type \"unproc...  \n2      gene_id \"ENSG00000278267.1\"; gene_type \"miRNA\"...  \n3      gene_id \"ENSG00000243485.3\"; gene_type \"lincRN...  \n4      gene_id \"ENSG00000274890.1\"; gene_type \"miRNA\"...  \n...                                                  ...  \n60478  gene_id \"ENSG00000198695.2\"; gene_type \"protei...  \n60479  gene_id \"ENSG00000210194.1\"; gene_type \"Mt_tRN...  \n60480  gene_id \"ENSG00000198727.2\"; gene_type \"protei...  \n60481  gene_id \"ENSG00000210195.2\"; gene_type \"Mt_tRN...  \n60482  gene_id \"ENSG00000210196.2\"; gene_type \"Mt_tRN...  \n\n[60483 rows x 9 columns]",
      "text/html": "<div>\n<style scoped>\n    .dataframe tbody tr th:only-of-type {\n        vertical-align: middle;\n    }\n\n    .dataframe tbody tr th {\n        vertical-align: top;\n    }\n\n    .dataframe thead th {\n        text-align: right;\n    }\n</style>\n<table border=\"1\" class=\"dataframe\">\n  <thead>\n    <tr style=\"text-align: right;\">\n      <th></th>\n      <th>0</th>\n      <th>1</th>\n      <th>2</th>\n      <th>3</th>\n      <th>4</th>\n      <th>5</th>\n      <th>6</th>\n      <th>7</th>\n      <th>8</th>\n    </tr>\n  </thead>\n  <tbody>\n    <tr>\n      <th>0</th>\n      <td>chr1</td>\n      <td>HAVANA</td>\n      <td>gene</td>\n      <td>11869</td>\n      <td>14409</td>\n      <td>.</td>\n      <td>+</td>\n      <td>.</td>\n      <td>gene_id \"ENSG00000223972.5\"; gene_type \"transc...</td>\n    </tr>\n    <tr>\n      <th>1</th>\n      <td>chr1</td>\n      <td>HAVANA</td>\n      <td>gene</td>\n      <td>14404</td>\n      <td>29570</td>\n      <td>.</td>\n      <td>-</td>\n      <td>.</td>\n      <td>gene_id \"ENSG00000227232.5\"; gene_type \"unproc...</td>\n    </tr>\n    <tr>\n      <th>2</th>\n      <td>chr1</td>\n      <td>ENSEMBL</td>\n      <td>gene</td>\n      <td>17369</td>\n      <td>17436</td>\n      <td>.</td>\n      <td>-</td>\n      <td>.</td>\n      <td>gene_id \"ENSG00000278267.1\"; gene_type \"miRNA\"...</td>\n    </tr>\n    <tr>\n      <th>3</th>\n      <td>chr1</td>\n      <td>HAVANA</td>\n      <td>gene</td>\n      <td>29554</td>\n      <td>31109</td>\n      <td>.</td>\n      <td>+</td>\n      <td>.</td>\n      <td>gene_id \"ENSG00000243485.3\"; gene_type \"lincRN...</td>\n    </tr>\n    <tr>\n      <th>4</th>\n      <td>chr1</td>\n      <td>ENSEMBL</td>\n      <td>gene</td>\n      <td>30366</td>\n      <td>30503</td>\n      <td>.</td>\n      <td>+</td>\n      <td>.</td>\n      <td>gene_id \"ENSG00000274890.1\"; gene_type \"miRNA\"...</td>\n    </tr>\n    <tr>\n      <th>...</th>\n      <td>...</td>\n      <td>...</td>\n      <td>...</td>\n      <td>...</td>\n      <td>...</td>\n      <td>...</td>\n      <td>...</td>\n      <td>...</td>\n      <td>...</td>\n    </tr>\n    <tr>\n      <th>60478</th>\n      <td>chrM</td>\n      <td>ENSEMBL</td>\n      <td>gene</td>\n      <td>14149</td>\n      <td>14673</td>\n      <td>.</td>\n      <td>-</td>\n      <td>.</td>\n      <td>gene_id \"ENSG00000198695.2\"; gene_type \"protei...</td>\n    </tr>\n    <tr>\n      <th>60479</th>\n      <td>chrM</td>\n      <td>ENSEMBL</td>\n      <td>gene</td>\n      <td>14674</td>\n      <td>14742</td>\n      <td>.</td>\n      <td>-</td>\n      <td>.</td>\n      <td>gene_id \"ENSG00000210194.1\"; gene_type \"Mt_tRN...</td>\n    </tr>\n    <tr>\n      <th>60480</th>\n      <td>chrM</td>\n      <td>ENSEMBL</td>\n      <td>gene</td>\n      <td>14747</td>\n      <td>15887</td>\n      <td>.</td>\n      <td>+</td>\n      <td>.</td>\n      <td>gene_id \"ENSG00000198727.2\"; gene_type \"protei...</td>\n    </tr>\n    <tr>\n      <th>60481</th>\n      <td>chrM</td>\n      <td>ENSEMBL</td>\n      <td>gene</td>\n      <td>15888</td>\n      <td>15953</td>\n      <td>.</td>\n      <td>+</td>\n      <td>.</td>\n      <td>gene_id \"ENSG00000210195.2\"; gene_type \"Mt_tRN...</td>\n    </tr>\n    <tr>\n      <th>60482</th>\n      <td>chrM</td>\n      <td>ENSEMBL</td>\n      <td>gene</td>\n      <td>15956</td>\n      <td>16023</td>\n      <td>.</td>\n      <td>-</td>\n      <td>.</td>\n      <td>gene_id \"ENSG00000210196.2\"; gene_type \"Mt_tRN...</td>\n    </tr>\n  </tbody>\n</table>\n<p>60483 rows × 9 columns</p>\n</div>"
     },
     "metadata": {},
     "execution_count": 13
    }
   ],
   "source": [
    "pd.read_csv(gencode_gtf_file, sep='\\t', skiprows=5, header=None)"
   ]
  },
  {
   "cell_type": "code",
   "execution_count": 20,
   "metadata": {},
   "outputs": [
    {
     "output_type": "execute_result",
     "data": {
      "text/plain": "Index(['ENSG00000000003.13', 'ENSG00000000003.13', 'ENSG00000000003.13',\n       'ENSG00000000003.13', 'ENSG00000000003.13', 'ENSG00000000003.13',\n       'ENSG00000000003.13', 'ENSG00000000003.13', 'ENSG00000000003.13',\n       'ENSG00000000003.13', 'ENSG00000000003.13', 'ENSG00000000003.13',\n       'ENSG00000000003.13', 'ENSG00000000003.13', 'ENSG00000000003.13',\n       'ENSG00000000003.13', 'ENSG00000000003.13', 'ENSG00000000003.13',\n       'ENSG00000000003.13', 'ENSG00000000003.13', 'ENSG00000000003.13',\n       'ENSG00000000003.13', 'ENSG00000000003.13', 'ENSG00000000003.13',\n       'ENSG00000000003.13', 'ENSG00000000003.13', 'ENSG00000000003.13',\n       'ENSG00000000003.13', 'ENSG00000000003.13', 'ENSG00000000003.13',\n       'ENSG00000000003.13', 'ENSG00000000003.13', 'ENSG00000000003.13',\n       'ENSG00000000003.13', 'ENSG00000000005.5', 'ENSG00000000005.5',\n       'ENSG00000000005.5', 'ENSG00000000005.5', 'ENSG00000000005.5',\n       'ENSG00000000005.5', 'ENSG00000000005.5', 'ENSG00000000005.5',\n       'ENSG00000000005.5', 'ENSG00000000005.5', 'ENSG00000000419.11',\n       'ENSG00000000419.11', 'ENSG00000000419.11', 'ENSG00000000419.11',\n       'ENSG00000000419.11', 'ENSG00000000419.11', 'ENSG00000000419.11',\n       'ENSG00000000419.11', 'ENSG00000000419.11', 'ENSG00000000419.11',\n       'ENSG00000000419.11', 'ENSG00000000419.11', 'ENSG00000000419.11',\n       'ENSG00000000419.11', 'ENSG00000000419.11', 'ENSG00000000419.11',\n       'ENSG00000000419.11', 'ENSG00000000419.11', 'ENSG00000000419.11',\n       'ENSG00000000419.11', 'ENSG00000000419.11', 'ENSG00000000419.11',\n       'ENSG00000000419.11', 'ENSG00000000419.11', 'ENSG00000000419.11',\n       'ENSG00000000419.11', 'ENSG00000000419.11', 'ENSG00000000419.11',\n       'ENSG00000000419.11', 'ENSG00000000419.11', 'ENSG00000000419.11',\n       'ENSG00000000419.11', 'ENSG00000000419.11', 'ENSG00000000419.11',\n       'ENSG00000000419.11', 'ENSG00000000419.11', 'ENSG00000000419.11',\n       'ENSG00000000419.11', 'ENSG00000000419.11', 'ENSG00000000419.11',\n       'ENSG00000000419.11', 'ENSG00000000419.11', 'ENSG00000000419.11',\n       'ENSG00000000419.11', 'ENSG00000000419.11', 'ENSG00000000419.11',\n       'ENSG00000000419.11', 'ENSG00000000419.11', 'ENSG00000000419.11',\n       'ENSG00000000419.11', 'ENSG00000000419.11', 'ENSG00000000419.11',\n       'ENSG00000000419.11', 'ENSG00000000457.12', 'ENSG00000000457.12',\n       'ENSG00000000457.12'],\n      dtype='object', name='id')"
     },
     "metadata": {},
     "execution_count": 20
    }
   ],
   "source": [
    "# for id in df_gencode_genes[:5].index:\n",
    "#     print(id)\n",
    "df_gencode_exons.index[:100]"
   ]
  },
  {
   "cell_type": "code",
   "execution_count": 25,
   "metadata": {
    "tags": [
     "outputPrepend"
    ]
   },
   "outputs": [
    {
     "output_type": "stream",
     "name": "stdout",
     "text": "                                              KNOWN\nName: ENSG00000000419.11, dtype: object\nseqname                                                chr20\n1                                                     HAVANA\n2                                                       exon\nstart                                               50945847\nend                                                 50945923\n5                                                          .\nstrand                                                     -\n7                                                          .\n8          gene_id \"ENSG00000000419.11\"; transcript_id \"E...\ntype                                       ENST00000371582.7\nname                                                   KNOWN\nName: ENSG00000000419.11, dtype: object\nseqname                                                chr20\n1                                                     HAVANA\n2                                                       exon\nstart                                               50945737\nend                                                 50945762\n5                                                          .\nstrand                                                     -\n7                                                          .\n8          gene_id \"ENSG00000000419.11\"; transcript_id \"E...\ntype                                       ENST00000371584.7\nname                                                   KNOWN\nName: ENSG00000000419.11, dtype: object\nseqname                                                chr20\n1                                                     HAVANA\n2                                                       exon\nstart                                               50942031\nend                                                 50942126\n5                                                          .\nstrand                                                     -\n7                                                          .\n8          gene_id \"ENSG00000000419.11\"; transcript_id \"E...\ntype                                       ENST00000371584.7\nname                                                   KNOWN\nName: ENSG00000000419.11, dtype: object\nseqname                                                chr20\n1                                                     HAVANA\n2                                                       exon\nstart                                               50941105\nend                                                 50941209\n5                                                          .\nstrand                                                     -\n7                                                          .\n8          gene_id \"ENSG00000000419.11\"; transcript_id \"E...\ntype                                       ENST00000371584.7\nname                                                   KNOWN\nName: ENSG00000000419.11, dtype: object\nseqname                                                chr20\n1                                                     HAVANA\n2                                                       exon\nstart                                               50940865\nend                                                 50940933\n5                                                          .\nstrand                                                     -\n7                                                          .\n8          gene_id \"ENSG00000000419.11\"; transcript_id \"E...\ntype                                       ENST00000371584.7\nname                                                   KNOWN\nName: ENSG00000000419.11, dtype: object\nseqname                                                chr20\n1                                                     HAVANA\n2                                                       exon\nstart                                               50936148\nend                                                 50936262\n5                                                          .\nstrand                                                     -\n7                                                          .\n8          gene_id \"ENSG00000000419.11\"; transcript_id \"E...\ntype                                       ENST00000371584.7\nname                                                   KNOWN\nName: ENSG00000000419.11, dtype: object\nseqname                                                chr20\n1                                                     HAVANA\n2                                                       exon\nstart                                               50934945\nend                                                 50935236\n5                                                          .\nstrand                                                     -\n7                                                          .\n8          gene_id \"ENSG00000000419.11\"; transcript_id \"E...\ntype                                       ENST00000371584.7\nname                                                   KNOWN\nName: ENSG00000000419.11, dtype: object\nseqname                                                chr20\n1                                                     HAVANA\n2                                                       exon\nstart                                               50958363\nend                                                 50958532\n5                                                          .\nstrand                                                     -\n7                                                          .\n8          gene_id \"ENSG00000000419.11\"; transcript_id \"E...\ntype                                       ENST00000413082.1\nname                                                   KNOWN\nName: ENSG00000000419.11, dtype: object\nseqname                                                chr20\n1                                                     HAVANA\n2                                                       exon\nstart                                               50955186\nend                                                 50955285\n5                                                          .\nstrand                                                     -\n7                                                          .\n8          gene_id \"ENSG00000000419.11\"; transcript_id \"E...\ntype                                       ENST00000413082.1\nname                                                   KNOWN\nName: ENSG00000000419.11, dtype: object\nseqname                                                chr20\n1                                                     HAVANA\n2                                                       exon\nstart                                               50948629\nend                                                 50948662\n5                                                          .\nstrand                                                     -\n7                                                          .\n8          gene_id \"ENSG00000000419.11\"; transcript_id \"E...\ntype                                       ENST00000413082.1\nname                                                   KNOWN\nName: ENSG00000000419.11, dtype: object\nseqname                                                chr20\n1                                                     HAVANA\n2                                                       exon\nstart                                               50945847\nend                                                 50945923\n5                                                          .\nstrand                                                     -\n7                                                          .\n8          gene_id \"ENSG00000000419.11\"; transcript_id \"E...\ntype                                       ENST00000413082.1\nname                                                   KNOWN\nName: ENSG00000000419.11, dtype: object\nseqname                                                chr20\n1                                                     HAVANA\n2                                                       exon\nstart                                               50945847\nend                                                 50945923\n5                                                          .\nstrand                                                     -\n7                                                          .\n8          gene_id \"ENSG00000000419.11\"; transcript_id \"E...\ntype                                       ENST00000371584.7\nname                                                   KNOWN\nName: ENSG00000000419.11, dtype: object\nseqname                                                chr20\n1                                                     HAVANA\n2                                                       exon\nstart                                               50941129\nend                                                 50941209\n5                                                          .\nstrand                                                     -\n7                                                          .\n8          gene_id \"ENSG00000000419.11\"; transcript_id \"E...\ntype                                       ENST00000413082.1\nname                                                   KNOWN\nName: ENSG00000000419.11, dtype: object\nseqname                                                chr20\n1                                                     HAVANA\n2                                                       exon\nstart                                               50945737\nend                                                 50945762\n5                                                          .\nstrand                                                     -\n7                                                          .\n8          gene_id \"ENSG00000000419.11\"; transcript_id \"E...\ntype                                       ENST00000413082.1\nname                                                   KNOWN\nName: ENSG00000000419.11, dtype: object\nseqname                                                chr20\n1                                                     HAVANA\n2                                                       exon\nstart                                               50942031\nend                                                 50942126\n5                                                          .\nstrand                                                     -\n7                                                          .\n8          gene_id \"ENSG00000000419.11\"; transcript_id \"E...\ntype                                       ENST00000371582.7\nname                                                   KNOWN\nName: ENSG00000000419.11, dtype: object\nseqname                                                chr20\n1                                                     HAVANA\n2                                                       exon\nstart                                               50941129\nend                                                 50941209\n5                                                          .\nstrand                                                     -\n7                                                          .\n8          gene_id \"ENSG00000000419.11\"; transcript_id \"E...\ntype                                       ENST00000371582.7\nname                                                   KNOWN\nName: ENSG00000000419.11, dtype: object\nseqname                                                chr20\n1                                                     HAVANA\n2                                                       exon\nstart                                               50936148\nend                                                 50936262\n5                                                          .\nstrand                                                     -\n7                                                          .\n8          gene_id \"ENSG00000000419.11\"; transcript_id \"E...\ntype                                       ENST00000371582.7\nname                                                   KNOWN\nName: ENSG00000000419.11, dtype: object\nseqname                                                chr20\n1                                                     HAVANA\n2                                                       exon\nstart                                               50934867\nend                                                 50935236\n5                                                          .\nstrand                                                     -\n7                                                          .\n8          gene_id \"ENSG00000000419.11\"; transcript_id \"E...\ntype                                       ENST00000371582.7\nname                                                   KNOWN\nName: ENSG00000000419.11, dtype: object\nseqname                                                chr20\n1                                                     HAVANA\n2                                                       exon\nstart                                               50940865\nend                                                 50940933\n5                                                          .\nstrand                                                     -\n7                                                          .\n8          gene_id \"ENSG00000000419.11\"; transcript_id \"E...\ntype                                       ENST00000371582.7\nname                                                   KNOWN\nName: ENSG00000000419.11, dtype: object\nseqname                                                chr20\n1                                                     HAVANA\n2                                                       exon\nstart                                               50945737\nend                                                 50945762\n5                                                          .\nstrand                                                     -\n7                                                          .\n8          gene_id \"ENSG00000000419.11\"; transcript_id \"E...\ntype                                       ENST00000494752.1\nname                                                   KNOWN\nName: ENSG00000000419.11, dtype: object\nseqname                                                chr20\n1                                                     HAVANA\n2                                                       exon\nstart                                               50942031\nend                                                 50942126\n5                                                          .\nstrand                                                     -\n7                                                          .\n8          gene_id \"ENSG00000000419.11\"; transcript_id \"E...\ntype                                       ENST00000494752.1\nname                                                   KNOWN\nName: ENSG00000000419.11, dtype: object\nseqname                                                chr20\n1                                                     HAVANA\n2                                                       exon\nstart                                               50941105\nend                                                 50941209\n5                                                          .\nstrand                                                     -\n7                                                          .\n8          gene_id \"ENSG00000000419.11\"; transcript_id \"E...\ntype                                       ENST00000494752.1\nname                                                   KNOWN\nName: ENSG00000000419.11, dtype: object\nseqname                                                chr20\n1                                                     HAVANA\n2                                                       exon\nstart                                               50936148\nend                                                 50936262\n5                                                          .\nstrand                                                     -\n7                                                          .\n8          gene_id \"ENSG00000000419.11\"; transcript_id \"E...\ntype                                       ENST00000413082.1\nname                                                   KNOWN\nName: ENSG00000000419.11, dtype: object\nseqname                                                chr20\n1                                                     HAVANA\n2                                                       exon\nstart                                               50940865\nend                                                 50940933\n5                                                          .\nstrand                                                     -\n7                                                          .\n8          gene_id \"ENSG00000000419.11\"; transcript_id \"E...\ntype                                       ENST00000413082.1\nname                                                   KNOWN\nName: ENSG00000000419.11, dtype: object\nseqname                                                chr20\n1                                                     HAVANA\n2                                                       exon\nstart                                               50945847\nend                                                 50945861\n5                                                          .\nstrand                                                     -\n7                                                          .\n8          gene_id \"ENSG00000000419.11\"; transcript_id \"E...\ntype                                       ENST00000494752.1\nname                                                   KNOWN\nName: ENSG00000000419.11, dtype: object\nseqname                                                 chr1\n1                                                     HAVANA\n2                                                       exon\nstart                                              169854270\nend                                                169854964\n5                                                          .\nstrand                                                     -\n7                                                          .\n8          gene_id \"ENSG00000000457.12\"; transcript_id \"E...\ntype                                       ENST00000367770.4\nname                                                   KNOWN\nName: ENSG00000000457.12, dtype: object\nseqname                                                 chr1\n1                                                    ENSEMBL\n2                                                       exon\nstart                                              169893788\nend                                                169893959\n5                                                          .\nstrand                                                     -\n7                                                          .\n8          gene_id \"ENSG00000000457.12\"; transcript_id \"E...\ntype                                       ENST00000367772.7\nname                                                   KNOWN\nName: ENSG00000000457.12, dtype: object\nseqname                                                 chr1\n1                                                    ENSEMBL\n2                                                       exon\nstart                                              169866896\nend                                                169866973\n5                                                          .\nstrand                                                     -\n7                                                          .\n8          gene_id \"ENSG00000000457.12\"; transcript_id \"E...\ntype                                       ENST00000367772.7\nname                                                   KNOWN\nName: ENSG00000000457.12, dtype: object\n"
    }
   ],
   "source": [
    "aggregate_lengths = []\n",
    "prev_idx = ''\n",
    "for iidx, idx in enumerate(df_gencode_exons.index[:100]):\n",
    "    row = df_gencode_exons.iloc[iidx,:]\n",
    "    curr_len = row['end'] - row['start'] + 1\n",
    "    print(row)\n",
    "    if idx != prev_idx:\n",
    "        if prev_idx != '':\n",
    "            aggregate_lengths.append(tmp_len)\n",
    "        tmp_len = 0\n",
    "    tmp_len = tmp_len + curr_len\n",
    "    prev_idx = idx\n",
    "aggregate_lengths.append(tmp_len)"
   ]
  },
  {
   "cell_type": "code",
   "execution_count": 38,
   "metadata": {},
   "outputs": [
    {
     "output_type": "execute_result",
     "data": {
      "text/plain": "15985"
     },
     "metadata": {},
     "execution_count": 38
    }
   ],
   "source": [
    "df_gencode_exons.index[:100]\n",
    "tmp = df_gencode_exons[df_gencode_exons.index=='ENSG00000000457.12']\n",
    "(tmp['end'] - tmp['start'] + 1).sum()"
   ]
  },
  {
   "cell_type": "code",
   "execution_count": null,
   "metadata": {},
   "outputs": [],
   "source": []
  },
  {
   "cell_type": "code",
   "execution_count": 12,
   "metadata": {},
   "outputs": [],
   "source": [
    "mylist = [5,5,2,2,2,9,6,6,6]"
   ]
  },
  {
   "cell_type": "code",
   "execution_count": 17,
   "metadata": {},
   "outputs": [],
   "source": [
    "aggregate_lengths = []\n",
    "prev_num = -1\n",
    "for num in mylist:\n",
    "    if num != prev_num:\n",
    "        if prev_num != -1:\n",
    "            aggregate_lengths.append(tmp_len)\n",
    "        tmp_len = 0\n",
    "    tmp_len = tmp_len + num\n",
    "    prev_num = num\n",
    "aggregate_lengths.append(tmp_len)"
   ]
  },
  {
   "cell_type": "code",
   "execution_count": 159,
   "metadata": {},
   "outputs": [
    {
     "output_type": "execute_result",
     "data": {
      "text/plain": "                   seqname       1     2      start        end  5 strand  7  \\\nid                                                                            \nENSG00000000003.13    chrX  HAVANA  gene  100627109  100639991  .      -  .   \nENSG00000000005.5     chrX  HAVANA  gene  100584802  100599885  .      +  .   \nENSG00000000419.11   chr20  HAVANA  gene   50934867   50958555  .      -  .   \nENSG00000000457.12    chr1  HAVANA  gene  169849631  169894267  .      -  .   \nENSG00000000460.15    chr1  HAVANA  gene  169662007  169854080  .      +  .   \nENSG00000000938.11    chr1  HAVANA  gene   27612064   27635277  .      -  .   \nENSG00000000971.14    chr1  HAVANA  gene  196651878  196747504  .      +  .   \nENSG00000001036.12    chr6  HAVANA  gene  143494811  143511690  .      -  .   \nENSG00000001084.9     chr6  HAVANA  gene   53497341   53616970  .      -  .   \nENSG00000001167.13    chr6  HAVANA  gene   41072945   41099976  .      +  .   \n\n                                                                    8  \\\nid                                                                      \nENSG00000000003.13  gene_id \"ENSG00000000003.13\"; gene_type \"prote...   \nENSG00000000005.5   gene_id \"ENSG00000000005.5\"; gene_type \"protei...   \nENSG00000000419.11  gene_id \"ENSG00000000419.11\"; gene_type \"prote...   \nENSG00000000457.12  gene_id \"ENSG00000000457.12\"; gene_type \"prote...   \nENSG00000000460.15  gene_id \"ENSG00000000460.15\"; gene_type \"prote...   \nENSG00000000938.11  gene_id \"ENSG00000000938.11\"; gene_type \"prote...   \nENSG00000000971.14  gene_id \"ENSG00000000971.14\"; gene_type \"prote...   \nENSG00000001036.12  gene_id \"ENSG00000001036.12\"; gene_type \"prote...   \nENSG00000001084.9   gene_id \"ENSG00000001084.9\"; gene_type \"protei...   \nENSG00000001167.13  gene_id \"ENSG00000001167.13\"; gene_type \"prote...   \n\n                              type      name  aggregate_length  \nid                                                              \nENSG00000000003.13  protein_coding    TSPAN6              8747  \nENSG00000000005.5   protein_coding      TNMD              1881  \nENSG00000000419.11  protein_coding      DPM1              5867  \nENSG00000000457.12  protein_coding     SCYL3             15985  \nENSG00000000460.15  protein_coding  C1orf112             21871  \nENSG00000000938.11  protein_coding       FGR             12147  \nENSG00000000971.14  protein_coding       CFH             15527  \nENSG00000001036.12  protein_coding     FUCA2              3739  \nENSG00000001084.9   protein_coding      GCLC             20982  \nENSG00000001167.13  protein_coding      NFYA              5471  ",
      "text/html": "<div>\n<style scoped>\n    .dataframe tbody tr th:only-of-type {\n        vertical-align: middle;\n    }\n\n    .dataframe tbody tr th {\n        vertical-align: top;\n    }\n\n    .dataframe thead th {\n        text-align: right;\n    }\n</style>\n<table border=\"1\" class=\"dataframe\">\n  <thead>\n    <tr style=\"text-align: right;\">\n      <th></th>\n      <th>seqname</th>\n      <th>1</th>\n      <th>2</th>\n      <th>start</th>\n      <th>end</th>\n      <th>5</th>\n      <th>strand</th>\n      <th>7</th>\n      <th>8</th>\n      <th>type</th>\n      <th>name</th>\n      <th>aggregate_length</th>\n    </tr>\n    <tr>\n      <th>id</th>\n      <th></th>\n      <th></th>\n      <th></th>\n      <th></th>\n      <th></th>\n      <th></th>\n      <th></th>\n      <th></th>\n      <th></th>\n      <th></th>\n      <th></th>\n      <th></th>\n    </tr>\n  </thead>\n  <tbody>\n    <tr>\n      <th>ENSG00000000003.13</th>\n      <td>chrX</td>\n      <td>HAVANA</td>\n      <td>gene</td>\n      <td>100627109</td>\n      <td>100639991</td>\n      <td>.</td>\n      <td>-</td>\n      <td>.</td>\n      <td>gene_id \"ENSG00000000003.13\"; gene_type \"prote...</td>\n      <td>protein_coding</td>\n      <td>TSPAN6</td>\n      <td>8747</td>\n    </tr>\n    <tr>\n      <th>ENSG00000000005.5</th>\n      <td>chrX</td>\n      <td>HAVANA</td>\n      <td>gene</td>\n      <td>100584802</td>\n      <td>100599885</td>\n      <td>.</td>\n      <td>+</td>\n      <td>.</td>\n      <td>gene_id \"ENSG00000000005.5\"; gene_type \"protei...</td>\n      <td>protein_coding</td>\n      <td>TNMD</td>\n      <td>1881</td>\n    </tr>\n    <tr>\n      <th>ENSG00000000419.11</th>\n      <td>chr20</td>\n      <td>HAVANA</td>\n      <td>gene</td>\n      <td>50934867</td>\n      <td>50958555</td>\n      <td>.</td>\n      <td>-</td>\n      <td>.</td>\n      <td>gene_id \"ENSG00000000419.11\"; gene_type \"prote...</td>\n      <td>protein_coding</td>\n      <td>DPM1</td>\n      <td>5867</td>\n    </tr>\n    <tr>\n      <th>ENSG00000000457.12</th>\n      <td>chr1</td>\n      <td>HAVANA</td>\n      <td>gene</td>\n      <td>169849631</td>\n      <td>169894267</td>\n      <td>.</td>\n      <td>-</td>\n      <td>.</td>\n      <td>gene_id \"ENSG00000000457.12\"; gene_type \"prote...</td>\n      <td>protein_coding</td>\n      <td>SCYL3</td>\n      <td>15985</td>\n    </tr>\n    <tr>\n      <th>ENSG00000000460.15</th>\n      <td>chr1</td>\n      <td>HAVANA</td>\n      <td>gene</td>\n      <td>169662007</td>\n      <td>169854080</td>\n      <td>.</td>\n      <td>+</td>\n      <td>.</td>\n      <td>gene_id \"ENSG00000000460.15\"; gene_type \"prote...</td>\n      <td>protein_coding</td>\n      <td>C1orf112</td>\n      <td>21871</td>\n    </tr>\n    <tr>\n      <th>ENSG00000000938.11</th>\n      <td>chr1</td>\n      <td>HAVANA</td>\n      <td>gene</td>\n      <td>27612064</td>\n      <td>27635277</td>\n      <td>.</td>\n      <td>-</td>\n      <td>.</td>\n      <td>gene_id \"ENSG00000000938.11\"; gene_type \"prote...</td>\n      <td>protein_coding</td>\n      <td>FGR</td>\n      <td>12147</td>\n    </tr>\n    <tr>\n      <th>ENSG00000000971.14</th>\n      <td>chr1</td>\n      <td>HAVANA</td>\n      <td>gene</td>\n      <td>196651878</td>\n      <td>196747504</td>\n      <td>.</td>\n      <td>+</td>\n      <td>.</td>\n      <td>gene_id \"ENSG00000000971.14\"; gene_type \"prote...</td>\n      <td>protein_coding</td>\n      <td>CFH</td>\n      <td>15527</td>\n    </tr>\n    <tr>\n      <th>ENSG00000001036.12</th>\n      <td>chr6</td>\n      <td>HAVANA</td>\n      <td>gene</td>\n      <td>143494811</td>\n      <td>143511690</td>\n      <td>.</td>\n      <td>-</td>\n      <td>.</td>\n      <td>gene_id \"ENSG00000001036.12\"; gene_type \"prote...</td>\n      <td>protein_coding</td>\n      <td>FUCA2</td>\n      <td>3739</td>\n    </tr>\n    <tr>\n      <th>ENSG00000001084.9</th>\n      <td>chr6</td>\n      <td>HAVANA</td>\n      <td>gene</td>\n      <td>53497341</td>\n      <td>53616970</td>\n      <td>.</td>\n      <td>-</td>\n      <td>.</td>\n      <td>gene_id \"ENSG00000001084.9\"; gene_type \"protei...</td>\n      <td>protein_coding</td>\n      <td>GCLC</td>\n      <td>20982</td>\n    </tr>\n    <tr>\n      <th>ENSG00000001167.13</th>\n      <td>chr6</td>\n      <td>HAVANA</td>\n      <td>gene</td>\n      <td>41072945</td>\n      <td>41099976</td>\n      <td>.</td>\n      <td>+</td>\n      <td>.</td>\n      <td>gene_id \"ENSG00000001167.13\"; gene_type \"prote...</td>\n      <td>protein_coding</td>\n      <td>NFYA</td>\n      <td>5471</td>\n    </tr>\n  </tbody>\n</table>\n</div>"
     },
     "metadata": {},
     "execution_count": 159
    }
   ],
   "source": [
    "df_gencode_genes[:10]"
   ]
  },
  {
   "cell_type": "code",
   "execution_count": 158,
   "metadata": {},
   "outputs": [
    {
     "output_type": "execute_result",
     "data": {
      "text/plain": "                        name seqname      start        end strand  \\\nid                                                                  \nENSG00000000003.13    TSPAN6    chrX  100627109  100639991      -   \nENSG00000000005.5       TNMD    chrX  100584802  100599885      +   \nENSG00000000419.11      DPM1   chr20   50934867   50958555      -   \nENSG00000000457.12     SCYL3    chr1  169849631  169894267      -   \nENSG00000000460.15  C1orf112    chr1  169662007  169854080      +   \nENSG00000000938.11       FGR    chr1   27612064   27635277      -   \nENSG00000000971.14       CFH    chr1  196651878  196747504      +   \nENSG00000001036.12     FUCA2    chr6  143494811  143511690      -   \nENSG00000001084.9       GCLC    chr6   53497341   53616970      -   \nENSG00000001167.13      NFYA    chr6   41072945   41099976      +   \n\n                              type gene_status           havana_gene  \\\nid                                                                     \nENSG00000000003.13  protein_coding       KNOWN  OTTHUMG00000022002.1   \nENSG00000000005.5   protein_coding       KNOWN  OTTHUMG00000022001.1   \nENSG00000000419.11  protein_coding       KNOWN  OTTHUMG00000032742.2   \nENSG00000000457.12  protein_coding       KNOWN  OTTHUMG00000035941.4   \nENSG00000000460.15  protein_coding       KNOWN  OTTHUMG00000035821.7   \nENSG00000000938.11  protein_coding       KNOWN  OTTHUMG00000003516.1   \nENSG00000000971.14  protein_coding       KNOWN  OTTHUMG00000035607.5   \nENSG00000001036.12  protein_coding       KNOWN  OTTHUMG00000015728.2   \nENSG00000001084.9   protein_coding       KNOWN  OTTHUMG00000160220.5   \nENSG00000001167.13  protein_coding       KNOWN  OTTHUMG00000014669.1   \n\n                    full_length  exon_length  exon_num  \nid                                                      \nENSG00000000003.13        12883         4535        34  \nENSG00000000005.5         15084         1610        10  \nENSG00000000419.11        23689         1207        53  \nENSG00000000457.12        44637         6883        63  \nENSG00000000460.15       192074         5967       151  \nENSG00000000938.11        23214         3474        65  \nENSG00000000971.14        95627         8145        62  \nENSG00000001036.12        16880         2793        12  \nENSG00000001084.9        119630         8463        86  \nENSG00000001167.13        27032         3811        19  ",
      "text/html": "<div>\n<style scoped>\n    .dataframe tbody tr th:only-of-type {\n        vertical-align: middle;\n    }\n\n    .dataframe tbody tr th {\n        vertical-align: top;\n    }\n\n    .dataframe thead th {\n        text-align: right;\n    }\n</style>\n<table border=\"1\" class=\"dataframe\">\n  <thead>\n    <tr style=\"text-align: right;\">\n      <th></th>\n      <th>name</th>\n      <th>seqname</th>\n      <th>start</th>\n      <th>end</th>\n      <th>strand</th>\n      <th>type</th>\n      <th>gene_status</th>\n      <th>havana_gene</th>\n      <th>full_length</th>\n      <th>exon_length</th>\n      <th>exon_num</th>\n    </tr>\n    <tr>\n      <th>id</th>\n      <th></th>\n      <th></th>\n      <th></th>\n      <th></th>\n      <th></th>\n      <th></th>\n      <th></th>\n      <th></th>\n      <th></th>\n      <th></th>\n      <th></th>\n    </tr>\n  </thead>\n  <tbody>\n    <tr>\n      <th>ENSG00000000003.13</th>\n      <td>TSPAN6</td>\n      <td>chrX</td>\n      <td>100627109</td>\n      <td>100639991</td>\n      <td>-</td>\n      <td>protein_coding</td>\n      <td>KNOWN</td>\n      <td>OTTHUMG00000022002.1</td>\n      <td>12883</td>\n      <td>4535</td>\n      <td>34</td>\n    </tr>\n    <tr>\n      <th>ENSG00000000005.5</th>\n      <td>TNMD</td>\n      <td>chrX</td>\n      <td>100584802</td>\n      <td>100599885</td>\n      <td>+</td>\n      <td>protein_coding</td>\n      <td>KNOWN</td>\n      <td>OTTHUMG00000022001.1</td>\n      <td>15084</td>\n      <td>1610</td>\n      <td>10</td>\n    </tr>\n    <tr>\n      <th>ENSG00000000419.11</th>\n      <td>DPM1</td>\n      <td>chr20</td>\n      <td>50934867</td>\n      <td>50958555</td>\n      <td>-</td>\n      <td>protein_coding</td>\n      <td>KNOWN</td>\n      <td>OTTHUMG00000032742.2</td>\n      <td>23689</td>\n      <td>1207</td>\n      <td>53</td>\n    </tr>\n    <tr>\n      <th>ENSG00000000457.12</th>\n      <td>SCYL3</td>\n      <td>chr1</td>\n      <td>169849631</td>\n      <td>169894267</td>\n      <td>-</td>\n      <td>protein_coding</td>\n      <td>KNOWN</td>\n      <td>OTTHUMG00000035941.4</td>\n      <td>44637</td>\n      <td>6883</td>\n      <td>63</td>\n    </tr>\n    <tr>\n      <th>ENSG00000000460.15</th>\n      <td>C1orf112</td>\n      <td>chr1</td>\n      <td>169662007</td>\n      <td>169854080</td>\n      <td>+</td>\n      <td>protein_coding</td>\n      <td>KNOWN</td>\n      <td>OTTHUMG00000035821.7</td>\n      <td>192074</td>\n      <td>5967</td>\n      <td>151</td>\n    </tr>\n    <tr>\n      <th>ENSG00000000938.11</th>\n      <td>FGR</td>\n      <td>chr1</td>\n      <td>27612064</td>\n      <td>27635277</td>\n      <td>-</td>\n      <td>protein_coding</td>\n      <td>KNOWN</td>\n      <td>OTTHUMG00000003516.1</td>\n      <td>23214</td>\n      <td>3474</td>\n      <td>65</td>\n    </tr>\n    <tr>\n      <th>ENSG00000000971.14</th>\n      <td>CFH</td>\n      <td>chr1</td>\n      <td>196651878</td>\n      <td>196747504</td>\n      <td>+</td>\n      <td>protein_coding</td>\n      <td>KNOWN</td>\n      <td>OTTHUMG00000035607.5</td>\n      <td>95627</td>\n      <td>8145</td>\n      <td>62</td>\n    </tr>\n    <tr>\n      <th>ENSG00000001036.12</th>\n      <td>FUCA2</td>\n      <td>chr6</td>\n      <td>143494811</td>\n      <td>143511690</td>\n      <td>-</td>\n      <td>protein_coding</td>\n      <td>KNOWN</td>\n      <td>OTTHUMG00000015728.2</td>\n      <td>16880</td>\n      <td>2793</td>\n      <td>12</td>\n    </tr>\n    <tr>\n      <th>ENSG00000001084.9</th>\n      <td>GCLC</td>\n      <td>chr6</td>\n      <td>53497341</td>\n      <td>53616970</td>\n      <td>-</td>\n      <td>protein_coding</td>\n      <td>KNOWN</td>\n      <td>OTTHUMG00000160220.5</td>\n      <td>119630</td>\n      <td>8463</td>\n      <td>86</td>\n    </tr>\n    <tr>\n      <th>ENSG00000001167.13</th>\n      <td>NFYA</td>\n      <td>chr6</td>\n      <td>41072945</td>\n      <td>41099976</td>\n      <td>+</td>\n      <td>protein_coding</td>\n      <td>KNOWN</td>\n      <td>OTTHUMG00000014669.1</td>\n      <td>27032</td>\n      <td>3811</td>\n      <td>19</td>\n    </tr>\n  </tbody>\n</table>\n</div>"
     },
     "metadata": {},
     "execution_count": 158
    }
   ],
   "source": [
    "df_gdc[:10]"
   ]
  },
  {
   "cell_type": "code",
   "execution_count": 54,
   "metadata": {},
   "outputs": [
    {
     "output_type": "execute_result",
     "data": {
      "text/plain": "Index(['ENSG00000000003.13', 'ENSG00000000003.13', 'ENSG00000000003.13',\n       'ENSG00000000003.13', 'ENSG00000000003.13', 'ENSG00000000003.13',\n       'ENSG00000000003.13', 'ENSG00000000003.13', 'ENSG00000000003.13',\n       'ENSG00000000003.13', 'ENSG00000000003.13', 'ENSG00000000003.13',\n       'ENSG00000000003.13', 'ENSG00000000003.13', 'ENSG00000000003.13',\n       'ENSG00000000003.13', 'ENSG00000000003.13', 'ENSG00000000003.13',\n       'ENSG00000000003.13', 'ENSG00000000003.13', 'ENSG00000000003.13',\n       'ENSG00000000003.13', 'ENSG00000000003.13', 'ENSG00000000003.13',\n       'ENSG00000000003.13', 'ENSG00000000003.13', 'ENSG00000000003.13',\n       'ENSG00000000003.13', 'ENSG00000000003.13', 'ENSG00000000003.13',\n       'ENSG00000000003.13', 'ENSG00000000003.13', 'ENSG00000000003.13',\n       'ENSG00000000003.13', 'ENSG00000000005.5', 'ENSG00000000005.5',\n       'ENSG00000000005.5', 'ENSG00000000005.5', 'ENSG00000000005.5',\n       'ENSG00000000005.5', 'ENSG00000000005.5', 'ENSG00000000005.5',\n       'ENSG00000000005.5', 'ENSG00000000005.5', 'ENSG00000000419.11',\n       'ENSG00000000419.11', 'ENSG00000000419.11', 'ENSG00000000419.11',\n       'ENSG00000000419.11', 'ENSG00000000419.11', 'ENSG00000000419.11',\n       'ENSG00000000419.11', 'ENSG00000000419.11', 'ENSG00000000419.11',\n       'ENSG00000000419.11', 'ENSG00000000419.11', 'ENSG00000000419.11',\n       'ENSG00000000419.11', 'ENSG00000000419.11', 'ENSG00000000419.11',\n       'ENSG00000000419.11', 'ENSG00000000419.11', 'ENSG00000000419.11',\n       'ENSG00000000419.11', 'ENSG00000000419.11', 'ENSG00000000419.11',\n       'ENSG00000000419.11', 'ENSG00000000419.11', 'ENSG00000000419.11',\n       'ENSG00000000419.11', 'ENSG00000000419.11', 'ENSG00000000419.11',\n       'ENSG00000000419.11', 'ENSG00000000419.11', 'ENSG00000000419.11',\n       'ENSG00000000419.11', 'ENSG00000000419.11', 'ENSG00000000419.11',\n       'ENSG00000000419.11', 'ENSG00000000419.11', 'ENSG00000000419.11',\n       'ENSG00000000419.11', 'ENSG00000000419.11', 'ENSG00000000419.11',\n       'ENSG00000000419.11', 'ENSG00000000419.11', 'ENSG00000000419.11',\n       'ENSG00000000419.11', 'ENSG00000000419.11', 'ENSG00000000419.11',\n       'ENSG00000000419.11', 'ENSG00000000419.11', 'ENSG00000000419.11',\n       'ENSG00000000419.11', 'ENSG00000000419.11', 'ENSG00000000419.11',\n       'ENSG00000000419.11', 'ENSG00000000457.12', 'ENSG00000000457.12',\n       'ENSG00000000457.12'],\n      dtype='object', name='id')"
     },
     "metadata": {},
     "execution_count": 54
    }
   ],
   "source": [
    "df_gencode_exons.index[:100]"
   ]
  },
  {
   "cell_type": "code",
   "execution_count": 169,
   "metadata": {},
   "outputs": [
    {
     "output_type": "execute_result",
     "data": {
      "text/plain": "                  seqname       1     2      start        end  5 strand  7  \\\nid                                                                           \nENSG00000000005.5    chrX  HAVANA  exon  100594261  100594362  .      +  .   \nENSG00000000005.5    chrX  HAVANA  exon  100584802  100585066  .      +  .   \nENSG00000000005.5    chrX  HAVANA  exon  100585231  100585362  .      +  .   \nENSG00000000005.5    chrX  HAVANA  exon  100593895  100594035  .      +  .   \nENSG00000000005.5    chrX  HAVANA  exon  100594261  100594362  .      +  .   \nENSG00000000005.5    chrX  HAVANA  exon  100597504  100597657  .      +  .   \nENSG00000000005.5    chrX  HAVANA  exon  100599016  100599182  .      +  .   \nENSG00000000005.5    chrX  HAVANA  exon  100599508  100599885  .      +  .   \nENSG00000000005.5    chrX  HAVANA  exon  100593624  100594035  .      +  .   \nENSG00000000005.5    chrX  HAVANA  exon  100597504  100597531  .      +  .   \n\n                                                                   8  \\\nid                                                                     \nENSG00000000005.5  gene_id \"ENSG00000000005.5\"; transcript_id \"EN...   \nENSG00000000005.5  gene_id \"ENSG00000000005.5\"; transcript_id \"EN...   \nENSG00000000005.5  gene_id \"ENSG00000000005.5\"; transcript_id \"EN...   \nENSG00000000005.5  gene_id \"ENSG00000000005.5\"; transcript_id \"EN...   \nENSG00000000005.5  gene_id \"ENSG00000000005.5\"; transcript_id \"EN...   \nENSG00000000005.5  gene_id \"ENSG00000000005.5\"; transcript_id \"EN...   \nENSG00000000005.5  gene_id \"ENSG00000000005.5\"; transcript_id \"EN...   \nENSG00000000005.5  gene_id \"ENSG00000000005.5\"; transcript_id \"EN...   \nENSG00000000005.5  gene_id \"ENSG00000000005.5\"; transcript_id \"EN...   \nENSG00000000005.5  gene_id \"ENSG00000000005.5\"; transcript_id \"EN...   \n\n                                type   name  exon_length  \nid                                                        \nENSG00000000005.5  ENST00000485971.1  KNOWN          102  \nENSG00000000005.5  ENST00000373031.4  KNOWN          265  \nENSG00000000005.5  ENST00000373031.4  KNOWN          132  \nENSG00000000005.5  ENST00000373031.4  KNOWN          141  \nENSG00000000005.5  ENST00000373031.4  KNOWN          102  \nENSG00000000005.5  ENST00000373031.4  KNOWN          154  \nENSG00000000005.5  ENST00000373031.4  KNOWN          167  \nENSG00000000005.5  ENST00000373031.4  KNOWN          378  \nENSG00000000005.5  ENST00000485971.1  KNOWN          412  \nENSG00000000005.5  ENST00000485971.1  KNOWN           28  ",
      "text/html": "<div>\n<style scoped>\n    .dataframe tbody tr th:only-of-type {\n        vertical-align: middle;\n    }\n\n    .dataframe tbody tr th {\n        vertical-align: top;\n    }\n\n    .dataframe thead th {\n        text-align: right;\n    }\n</style>\n<table border=\"1\" class=\"dataframe\">\n  <thead>\n    <tr style=\"text-align: right;\">\n      <th></th>\n      <th>seqname</th>\n      <th>1</th>\n      <th>2</th>\n      <th>start</th>\n      <th>end</th>\n      <th>5</th>\n      <th>strand</th>\n      <th>7</th>\n      <th>8</th>\n      <th>type</th>\n      <th>name</th>\n      <th>exon_length</th>\n    </tr>\n    <tr>\n      <th>id</th>\n      <th></th>\n      <th></th>\n      <th></th>\n      <th></th>\n      <th></th>\n      <th></th>\n      <th></th>\n      <th></th>\n      <th></th>\n      <th></th>\n      <th></th>\n      <th></th>\n    </tr>\n  </thead>\n  <tbody>\n    <tr>\n      <th>ENSG00000000005.5</th>\n      <td>chrX</td>\n      <td>HAVANA</td>\n      <td>exon</td>\n      <td>100594261</td>\n      <td>100594362</td>\n      <td>.</td>\n      <td>+</td>\n      <td>.</td>\n      <td>gene_id \"ENSG00000000005.5\"; transcript_id \"EN...</td>\n      <td>ENST00000485971.1</td>\n      <td>KNOWN</td>\n      <td>102</td>\n    </tr>\n    <tr>\n      <th>ENSG00000000005.5</th>\n      <td>chrX</td>\n      <td>HAVANA</td>\n      <td>exon</td>\n      <td>100584802</td>\n      <td>100585066</td>\n      <td>.</td>\n      <td>+</td>\n      <td>.</td>\n      <td>gene_id \"ENSG00000000005.5\"; transcript_id \"EN...</td>\n      <td>ENST00000373031.4</td>\n      <td>KNOWN</td>\n      <td>265</td>\n    </tr>\n    <tr>\n      <th>ENSG00000000005.5</th>\n      <td>chrX</td>\n      <td>HAVANA</td>\n      <td>exon</td>\n      <td>100585231</td>\n      <td>100585362</td>\n      <td>.</td>\n      <td>+</td>\n      <td>.</td>\n      <td>gene_id \"ENSG00000000005.5\"; transcript_id \"EN...</td>\n      <td>ENST00000373031.4</td>\n      <td>KNOWN</td>\n      <td>132</td>\n    </tr>\n    <tr>\n      <th>ENSG00000000005.5</th>\n      <td>chrX</td>\n      <td>HAVANA</td>\n      <td>exon</td>\n      <td>100593895</td>\n      <td>100594035</td>\n      <td>.</td>\n      <td>+</td>\n      <td>.</td>\n      <td>gene_id \"ENSG00000000005.5\"; transcript_id \"EN...</td>\n      <td>ENST00000373031.4</td>\n      <td>KNOWN</td>\n      <td>141</td>\n    </tr>\n    <tr>\n      <th>ENSG00000000005.5</th>\n      <td>chrX</td>\n      <td>HAVANA</td>\n      <td>exon</td>\n      <td>100594261</td>\n      <td>100594362</td>\n      <td>.</td>\n      <td>+</td>\n      <td>.</td>\n      <td>gene_id \"ENSG00000000005.5\"; transcript_id \"EN...</td>\n      <td>ENST00000373031.4</td>\n      <td>KNOWN</td>\n      <td>102</td>\n    </tr>\n    <tr>\n      <th>ENSG00000000005.5</th>\n      <td>chrX</td>\n      <td>HAVANA</td>\n      <td>exon</td>\n      <td>100597504</td>\n      <td>100597657</td>\n      <td>.</td>\n      <td>+</td>\n      <td>.</td>\n      <td>gene_id \"ENSG00000000005.5\"; transcript_id \"EN...</td>\n      <td>ENST00000373031.4</td>\n      <td>KNOWN</td>\n      <td>154</td>\n    </tr>\n    <tr>\n      <th>ENSG00000000005.5</th>\n      <td>chrX</td>\n      <td>HAVANA</td>\n      <td>exon</td>\n      <td>100599016</td>\n      <td>100599182</td>\n      <td>.</td>\n      <td>+</td>\n      <td>.</td>\n      <td>gene_id \"ENSG00000000005.5\"; transcript_id \"EN...</td>\n      <td>ENST00000373031.4</td>\n      <td>KNOWN</td>\n      <td>167</td>\n    </tr>\n    <tr>\n      <th>ENSG00000000005.5</th>\n      <td>chrX</td>\n      <td>HAVANA</td>\n      <td>exon</td>\n      <td>100599508</td>\n      <td>100599885</td>\n      <td>.</td>\n      <td>+</td>\n      <td>.</td>\n      <td>gene_id \"ENSG00000000005.5\"; transcript_id \"EN...</td>\n      <td>ENST00000373031.4</td>\n      <td>KNOWN</td>\n      <td>378</td>\n    </tr>\n    <tr>\n      <th>ENSG00000000005.5</th>\n      <td>chrX</td>\n      <td>HAVANA</td>\n      <td>exon</td>\n      <td>100593624</td>\n      <td>100594035</td>\n      <td>.</td>\n      <td>+</td>\n      <td>.</td>\n      <td>gene_id \"ENSG00000000005.5\"; transcript_id \"EN...</td>\n      <td>ENST00000485971.1</td>\n      <td>KNOWN</td>\n      <td>412</td>\n    </tr>\n    <tr>\n      <th>ENSG00000000005.5</th>\n      <td>chrX</td>\n      <td>HAVANA</td>\n      <td>exon</td>\n      <td>100597504</td>\n      <td>100597531</td>\n      <td>.</td>\n      <td>+</td>\n      <td>.</td>\n      <td>gene_id \"ENSG00000000005.5\"; transcript_id \"EN...</td>\n      <td>ENST00000485971.1</td>\n      <td>KNOWN</td>\n      <td>28</td>\n    </tr>\n  </tbody>\n</table>\n</div>"
     },
     "metadata": {},
     "execution_count": 169
    }
   ],
   "source": [
    "df_gencode_exons[df_gencode_exons.index=='ENSG00000000005.5']\n",
    "#df_gencode_exons[df_gencode_exons.index=='ENSG00000001036.12']"
   ]
  },
  {
   "cell_type": "code",
   "execution_count": 74,
   "metadata": {},
   "outputs": [
    {
     "output_type": "execute_result",
     "data": {
      "text/plain": "id\nENSG00000000005.5    141\nENSG00000000005.5    -22\nENSG00000000005.5    111\nENSG00000000005.5    102\nENSG00000000005.5    141\nENSG00000000005.5     89\nENSG00000000005.5     76\nENSG00000000005.5   -135\nENSG00000000005.5   -169\nENSG00000000005.5    215\nName: exon_length, dtype: int64"
     },
     "metadata": {},
     "execution_count": 74
    }
   ],
   "source": [
    "243 - df_gencode_exons[df_gencode_exons.index=='ENSG00000000005.5']['exon_length']"
   ]
  },
  {
   "cell_type": "code",
   "execution_count": 162,
   "metadata": {},
   "outputs": [
    {
     "output_type": "stream",
     "name": "stdout",
     "text": "0 transcript_support_level\n1 protein_id\n2 protein_id\n3 protein_id\n4 protein_id\n5 protein_id\n6 protein_id\n7 protein_id\n8 transcript_support_level\n9 transcript_support_level\n"
    }
   ],
   "source": [
    "for ivalue, value in enumerate(df_gencode_exons[df_gencode_exons.index=='ENSG00000000005.5'][8]): # ENSGR0000281849.1\n",
    "#for value in df_gencode_exons[df_gencode_exons.index=='ENSGR0000281849.1'][8]:\n",
    "#for value in df_gencode_exons[df_gencode_exons.index=='ENSG00000001036.12'][8]:\n",
    "    print(ivalue, value.split()[22])"
   ]
  },
  {
   "cell_type": "code",
   "execution_count": 176,
   "metadata": {},
   "outputs": [
    {
     "output_type": "execute_result",
     "data": {
      "text/plain": "{1, 2, 3, 4, 5, 6, 7, 8, 9, 10, 11, 12, 13, 14, 15, 16, 17, 18, 19, 20}"
     },
     "metadata": {},
     "execution_count": 176
    }
   ],
   "source": [
    "import numpy as np\n",
    "set(np.concatenate([np.arange(1,5+1), np.arange(4,20+1)]))"
   ]
  },
  {
   "cell_type": "code",
   "execution_count": 10,
   "metadata": {},
   "outputs": [
    {
     "output_type": "execute_result",
     "data": {
      "text/plain": "                   seqname        1     2      start        end  5 strand  7  \\\nid                                                                             \nENSG00000000003.13    chrX   HAVANA  gene  100627109  100639991  .      -  .   \nENSG00000000005.5     chrX   HAVANA  gene  100584802  100599885  .      +  .   \nENSG00000000419.11   chr20   HAVANA  gene   50934867   50958555  .      -  .   \nENSG00000000457.12    chr1   HAVANA  gene  169849631  169894267  .      -  .   \nENSG00000000460.15    chr1   HAVANA  gene  169662007  169854080  .      +  .   \n...                    ...      ...   ...        ...        ... ..    ... ..   \nENSGR0000275287.3     chrY  ENSEMBL  gene     388100     388389  .      -  .   \nENSGR0000276543.3     chrY  ENSEMBL  gene   57209151   57209218  .      +  .   \nENSGR0000277120.3     chrY  ENSEMBL  gene    2609191    2609254  .      +  .   \nENSGR0000280767.1     chrY   HAVANA  gene     419157     421980  .      +  .   \nENSGR0000281849.1     chrY   HAVANA  gene     386980     405579  .      +  .   \n\n                                                                    8  \\\nid                                                                      \nENSG00000000003.13  gene_id \"ENSG00000000003.13\"; gene_type \"prote...   \nENSG00000000005.5   gene_id \"ENSG00000000005.5\"; gene_type \"protei...   \nENSG00000000419.11  gene_id \"ENSG00000000419.11\"; gene_type \"prote...   \nENSG00000000457.12  gene_id \"ENSG00000000457.12\"; gene_type \"prote...   \nENSG00000000460.15  gene_id \"ENSG00000000460.15\"; gene_type \"prote...   \n...                                                               ...   \nENSGR0000275287.3   gene_id \"ENSGR0000275287.3\"; gene_type \"misc_R...   \nENSGR0000276543.3   gene_id \"ENSGR0000276543.3\"; gene_type \"miRNA\"...   \nENSGR0000277120.3   gene_id \"ENSGR0000277120.3\"; gene_type \"miRNA\"...   \nENSGR0000280767.1   gene_id \"ENSGR0000280767.1\"; gene_type \"lincRN...   \nENSGR0000281849.1   gene_id \"ENSGR0000281849.1\"; gene_type \"antise...   \n\n                              type           name  aggregate_length  \nid                                                                   \nENSG00000000003.13  protein_coding         TSPAN6              4535  \nENSG00000000005.5   protein_coding           TNMD              1610  \nENSG00000000419.11  protein_coding           DPM1              1207  \nENSG00000000457.12  protein_coding          SCYL3              6883  \nENSG00000000460.15  protein_coding       C1orf112              5967  \n...                            ...            ...               ...  \nENSGR0000275287.3         misc_RNA    Metazoa_SRP               290  \nENSGR0000276543.3            miRNA     AJ271736.1                68  \nENSGR0000277120.3            miRNA        MIR6089                64  \nENSGR0000280767.1          lincRNA  RP13-465B17.5               515  \nENSGR0000281849.1        antisense  RP13-465B17.4               484  \n\n[60483 rows x 12 columns]",
      "text/html": "<div>\n<style scoped>\n    .dataframe tbody tr th:only-of-type {\n        vertical-align: middle;\n    }\n\n    .dataframe tbody tr th {\n        vertical-align: top;\n    }\n\n    .dataframe thead th {\n        text-align: right;\n    }\n</style>\n<table border=\"1\" class=\"dataframe\">\n  <thead>\n    <tr style=\"text-align: right;\">\n      <th></th>\n      <th>seqname</th>\n      <th>1</th>\n      <th>2</th>\n      <th>start</th>\n      <th>end</th>\n      <th>5</th>\n      <th>strand</th>\n      <th>7</th>\n      <th>8</th>\n      <th>type</th>\n      <th>name</th>\n      <th>aggregate_length</th>\n    </tr>\n    <tr>\n      <th>id</th>\n      <th></th>\n      <th></th>\n      <th></th>\n      <th></th>\n      <th></th>\n      <th></th>\n      <th></th>\n      <th></th>\n      <th></th>\n      <th></th>\n      <th></th>\n      <th></th>\n    </tr>\n  </thead>\n  <tbody>\n    <tr>\n      <th>ENSG00000000003.13</th>\n      <td>chrX</td>\n      <td>HAVANA</td>\n      <td>gene</td>\n      <td>100627109</td>\n      <td>100639991</td>\n      <td>.</td>\n      <td>-</td>\n      <td>.</td>\n      <td>gene_id \"ENSG00000000003.13\"; gene_type \"prote...</td>\n      <td>protein_coding</td>\n      <td>TSPAN6</td>\n      <td>4535</td>\n    </tr>\n    <tr>\n      <th>ENSG00000000005.5</th>\n      <td>chrX</td>\n      <td>HAVANA</td>\n      <td>gene</td>\n      <td>100584802</td>\n      <td>100599885</td>\n      <td>.</td>\n      <td>+</td>\n      <td>.</td>\n      <td>gene_id \"ENSG00000000005.5\"; gene_type \"protei...</td>\n      <td>protein_coding</td>\n      <td>TNMD</td>\n      <td>1610</td>\n    </tr>\n    <tr>\n      <th>ENSG00000000419.11</th>\n      <td>chr20</td>\n      <td>HAVANA</td>\n      <td>gene</td>\n      <td>50934867</td>\n      <td>50958555</td>\n      <td>.</td>\n      <td>-</td>\n      <td>.</td>\n      <td>gene_id \"ENSG00000000419.11\"; gene_type \"prote...</td>\n      <td>protein_coding</td>\n      <td>DPM1</td>\n      <td>1207</td>\n    </tr>\n    <tr>\n      <th>ENSG00000000457.12</th>\n      <td>chr1</td>\n      <td>HAVANA</td>\n      <td>gene</td>\n      <td>169849631</td>\n      <td>169894267</td>\n      <td>.</td>\n      <td>-</td>\n      <td>.</td>\n      <td>gene_id \"ENSG00000000457.12\"; gene_type \"prote...</td>\n      <td>protein_coding</td>\n      <td>SCYL3</td>\n      <td>6883</td>\n    </tr>\n    <tr>\n      <th>ENSG00000000460.15</th>\n      <td>chr1</td>\n      <td>HAVANA</td>\n      <td>gene</td>\n      <td>169662007</td>\n      <td>169854080</td>\n      <td>.</td>\n      <td>+</td>\n      <td>.</td>\n      <td>gene_id \"ENSG00000000460.15\"; gene_type \"prote...</td>\n      <td>protein_coding</td>\n      <td>C1orf112</td>\n      <td>5967</td>\n    </tr>\n    <tr>\n      <th>...</th>\n      <td>...</td>\n      <td>...</td>\n      <td>...</td>\n      <td>...</td>\n      <td>...</td>\n      <td>...</td>\n      <td>...</td>\n      <td>...</td>\n      <td>...</td>\n      <td>...</td>\n      <td>...</td>\n      <td>...</td>\n    </tr>\n    <tr>\n      <th>ENSGR0000275287.3</th>\n      <td>chrY</td>\n      <td>ENSEMBL</td>\n      <td>gene</td>\n      <td>388100</td>\n      <td>388389</td>\n      <td>.</td>\n      <td>-</td>\n      <td>.</td>\n      <td>gene_id \"ENSGR0000275287.3\"; gene_type \"misc_R...</td>\n      <td>misc_RNA</td>\n      <td>Metazoa_SRP</td>\n      <td>290</td>\n    </tr>\n    <tr>\n      <th>ENSGR0000276543.3</th>\n      <td>chrY</td>\n      <td>ENSEMBL</td>\n      <td>gene</td>\n      <td>57209151</td>\n      <td>57209218</td>\n      <td>.</td>\n      <td>+</td>\n      <td>.</td>\n      <td>gene_id \"ENSGR0000276543.3\"; gene_type \"miRNA\"...</td>\n      <td>miRNA</td>\n      <td>AJ271736.1</td>\n      <td>68</td>\n    </tr>\n    <tr>\n      <th>ENSGR0000277120.3</th>\n      <td>chrY</td>\n      <td>ENSEMBL</td>\n      <td>gene</td>\n      <td>2609191</td>\n      <td>2609254</td>\n      <td>.</td>\n      <td>+</td>\n      <td>.</td>\n      <td>gene_id \"ENSGR0000277120.3\"; gene_type \"miRNA\"...</td>\n      <td>miRNA</td>\n      <td>MIR6089</td>\n      <td>64</td>\n    </tr>\n    <tr>\n      <th>ENSGR0000280767.1</th>\n      <td>chrY</td>\n      <td>HAVANA</td>\n      <td>gene</td>\n      <td>419157</td>\n      <td>421980</td>\n      <td>.</td>\n      <td>+</td>\n      <td>.</td>\n      <td>gene_id \"ENSGR0000280767.1\"; gene_type \"lincRN...</td>\n      <td>lincRNA</td>\n      <td>RP13-465B17.5</td>\n      <td>515</td>\n    </tr>\n    <tr>\n      <th>ENSGR0000281849.1</th>\n      <td>chrY</td>\n      <td>HAVANA</td>\n      <td>gene</td>\n      <td>386980</td>\n      <td>405579</td>\n      <td>.</td>\n      <td>+</td>\n      <td>.</td>\n      <td>gene_id \"ENSGR0000281849.1\"; gene_type \"antise...</td>\n      <td>antisense</td>\n      <td>RP13-465B17.4</td>\n      <td>484</td>\n    </tr>\n  </tbody>\n</table>\n<p>60483 rows × 12 columns</p>\n</div>"
     },
     "metadata": {},
     "execution_count": 10
    }
   ],
   "source": [
    "df_gencode_genes"
   ]
  },
  {
   "cell_type": "code",
   "execution_count": 11,
   "metadata": {},
   "outputs": [
    {
     "output_type": "execute_result",
     "data": {
      "text/plain": "                             name seqname      start        end strand  \\\nid                                                                       \nENSG00000000003.13         TSPAN6    chrX  100627109  100639991      -   \nENSG00000000005.5            TNMD    chrX  100584802  100599885      +   \nENSG00000000419.11           DPM1   chr20   50934867   50958555      -   \nENSG00000000457.12          SCYL3    chr1  169849631  169894267      -   \nENSG00000000460.15       C1orf112    chr1  169662007  169854080      +   \n...                           ...     ...        ...        ...    ...   \nENSGR0000275287.3     Metazoa_SRP    chrY     388100     388389      -   \nENSGR0000276543.3      AJ271736.1    chrY   57209151   57209218      +   \nENSGR0000277120.3         MIR6089    chrY    2609191    2609254      +   \nENSGR0000280767.1   RP13-465B17.5    chrY     419157     421980      +   \nENSGR0000281849.1   RP13-465B17.4    chrY     386980     405579      +   \n\n                              type gene_status           havana_gene  \\\nid                                                                     \nENSG00000000003.13  protein_coding       KNOWN  OTTHUMG00000022002.1   \nENSG00000000005.5   protein_coding       KNOWN  OTTHUMG00000022001.1   \nENSG00000000419.11  protein_coding       KNOWN  OTTHUMG00000032742.2   \nENSG00000000457.12  protein_coding       KNOWN  OTTHUMG00000035941.4   \nENSG00000000460.15  protein_coding       KNOWN  OTTHUMG00000035821.7   \n...                            ...         ...                   ...   \nENSGR0000275287.3         misc_RNA       NOVEL                   NaN   \nENSGR0000276543.3            miRNA       NOVEL                   NaN   \nENSGR0000277120.3            miRNA       KNOWN                   NaN   \nENSGR0000280767.1          lincRNA       NOVEL  OTTHUMG00000189993.1   \nENSGR0000281849.1        antisense       NOVEL  OTTHUMG00000189992.1   \n\n                    full_length  exon_length  exon_num  \nid                                                      \nENSG00000000003.13        12883         4535        34  \nENSG00000000005.5         15084         1610        10  \nENSG00000000419.11        23689         1207        53  \nENSG00000000457.12        44637         6883        63  \nENSG00000000460.15       192074         5967       151  \n...                         ...          ...       ...  \nENSGR0000275287.3           290          290         1  \nENSGR0000276543.3            68           68         1  \nENSGR0000277120.3            64           64         1  \nENSGR0000280767.1          2824          515         2  \nENSGR0000281849.1         18600          484         2  \n\n[60483 rows x 11 columns]",
      "text/html": "<div>\n<style scoped>\n    .dataframe tbody tr th:only-of-type {\n        vertical-align: middle;\n    }\n\n    .dataframe tbody tr th {\n        vertical-align: top;\n    }\n\n    .dataframe thead th {\n        text-align: right;\n    }\n</style>\n<table border=\"1\" class=\"dataframe\">\n  <thead>\n    <tr style=\"text-align: right;\">\n      <th></th>\n      <th>name</th>\n      <th>seqname</th>\n      <th>start</th>\n      <th>end</th>\n      <th>strand</th>\n      <th>type</th>\n      <th>gene_status</th>\n      <th>havana_gene</th>\n      <th>full_length</th>\n      <th>exon_length</th>\n      <th>exon_num</th>\n    </tr>\n    <tr>\n      <th>id</th>\n      <th></th>\n      <th></th>\n      <th></th>\n      <th></th>\n      <th></th>\n      <th></th>\n      <th></th>\n      <th></th>\n      <th></th>\n      <th></th>\n      <th></th>\n    </tr>\n  </thead>\n  <tbody>\n    <tr>\n      <th>ENSG00000000003.13</th>\n      <td>TSPAN6</td>\n      <td>chrX</td>\n      <td>100627109</td>\n      <td>100639991</td>\n      <td>-</td>\n      <td>protein_coding</td>\n      <td>KNOWN</td>\n      <td>OTTHUMG00000022002.1</td>\n      <td>12883</td>\n      <td>4535</td>\n      <td>34</td>\n    </tr>\n    <tr>\n      <th>ENSG00000000005.5</th>\n      <td>TNMD</td>\n      <td>chrX</td>\n      <td>100584802</td>\n      <td>100599885</td>\n      <td>+</td>\n      <td>protein_coding</td>\n      <td>KNOWN</td>\n      <td>OTTHUMG00000022001.1</td>\n      <td>15084</td>\n      <td>1610</td>\n      <td>10</td>\n    </tr>\n    <tr>\n      <th>ENSG00000000419.11</th>\n      <td>DPM1</td>\n      <td>chr20</td>\n      <td>50934867</td>\n      <td>50958555</td>\n      <td>-</td>\n      <td>protein_coding</td>\n      <td>KNOWN</td>\n      <td>OTTHUMG00000032742.2</td>\n      <td>23689</td>\n      <td>1207</td>\n      <td>53</td>\n    </tr>\n    <tr>\n      <th>ENSG00000000457.12</th>\n      <td>SCYL3</td>\n      <td>chr1</td>\n      <td>169849631</td>\n      <td>169894267</td>\n      <td>-</td>\n      <td>protein_coding</td>\n      <td>KNOWN</td>\n      <td>OTTHUMG00000035941.4</td>\n      <td>44637</td>\n      <td>6883</td>\n      <td>63</td>\n    </tr>\n    <tr>\n      <th>ENSG00000000460.15</th>\n      <td>C1orf112</td>\n      <td>chr1</td>\n      <td>169662007</td>\n      <td>169854080</td>\n      <td>+</td>\n      <td>protein_coding</td>\n      <td>KNOWN</td>\n      <td>OTTHUMG00000035821.7</td>\n      <td>192074</td>\n      <td>5967</td>\n      <td>151</td>\n    </tr>\n    <tr>\n      <th>...</th>\n      <td>...</td>\n      <td>...</td>\n      <td>...</td>\n      <td>...</td>\n      <td>...</td>\n      <td>...</td>\n      <td>...</td>\n      <td>...</td>\n      <td>...</td>\n      <td>...</td>\n      <td>...</td>\n    </tr>\n    <tr>\n      <th>ENSGR0000275287.3</th>\n      <td>Metazoa_SRP</td>\n      <td>chrY</td>\n      <td>388100</td>\n      <td>388389</td>\n      <td>-</td>\n      <td>misc_RNA</td>\n      <td>NOVEL</td>\n      <td>NaN</td>\n      <td>290</td>\n      <td>290</td>\n      <td>1</td>\n    </tr>\n    <tr>\n      <th>ENSGR0000276543.3</th>\n      <td>AJ271736.1</td>\n      <td>chrY</td>\n      <td>57209151</td>\n      <td>57209218</td>\n      <td>+</td>\n      <td>miRNA</td>\n      <td>NOVEL</td>\n      <td>NaN</td>\n      <td>68</td>\n      <td>68</td>\n      <td>1</td>\n    </tr>\n    <tr>\n      <th>ENSGR0000277120.3</th>\n      <td>MIR6089</td>\n      <td>chrY</td>\n      <td>2609191</td>\n      <td>2609254</td>\n      <td>+</td>\n      <td>miRNA</td>\n      <td>KNOWN</td>\n      <td>NaN</td>\n      <td>64</td>\n      <td>64</td>\n      <td>1</td>\n    </tr>\n    <tr>\n      <th>ENSGR0000280767.1</th>\n      <td>RP13-465B17.5</td>\n      <td>chrY</td>\n      <td>419157</td>\n      <td>421980</td>\n      <td>+</td>\n      <td>lincRNA</td>\n      <td>NOVEL</td>\n      <td>OTTHUMG00000189993.1</td>\n      <td>2824</td>\n      <td>515</td>\n      <td>2</td>\n    </tr>\n    <tr>\n      <th>ENSGR0000281849.1</th>\n      <td>RP13-465B17.4</td>\n      <td>chrY</td>\n      <td>386980</td>\n      <td>405579</td>\n      <td>+</td>\n      <td>antisense</td>\n      <td>NOVEL</td>\n      <td>OTTHUMG00000189992.1</td>\n      <td>18600</td>\n      <td>484</td>\n      <td>2</td>\n    </tr>\n  </tbody>\n</table>\n<p>60483 rows × 11 columns</p>\n</div>"
     },
     "metadata": {},
     "execution_count": 11
    }
   ],
   "source": [
    "df_gdc"
   ]
  },
  {
   "cell_type": "code",
   "execution_count": null,
   "metadata": {},
   "outputs": [],
   "source": []
  }
 ],
 "metadata": {
  "language_info": {
   "codemirror_mode": {
    "name": "ipython",
    "version": 3
   },
   "file_extension": ".py",
   "mimetype": "text/x-python",
   "name": "python",
   "nbconvert_exporter": "python",
   "pygments_lexer": "ipython3",
   "version": "3.6.10-final"
  },
  "orig_nbformat": 2,
  "kernelspec": {
   "name": "python361064bitbioinfoconda52065af5c2fa481f9826820ca4acba48",
   "display_name": "Python 3.6.10 64-bit ('bioinfo': conda)"
  }
 },
 "nbformat": 4,
 "nbformat_minor": 2
}