{
 "cells": [
  {
   "cell_type": "markdown",
   "metadata": {},
   "source": [
    "## (0) Test Python functionality"
   ]
  },
  {
   "cell_type": "code",
   "execution_count": 1,
   "metadata": {},
   "outputs": [
    {
     "output_type": "stream",
     "name": "stdout",
     "text": "hey 15\nposix.uname_result(sysname='Linux', nodename='cn3095', release='3.10.0-862.14.4.el7.x86_64', version='#1 SMP Wed Sep 26 15:12:11 UTC 2018', machine='x86_64')\n"
    }
   ],
   "source": [
    "print('hey', 9+6)\n",
    "import os\n",
    "print(os.uname())"
   ]
  },
  {
   "cell_type": "markdown",
   "metadata": {},
   "source": [
    "# Main workflow"
   ]
  },
  {
   "cell_type": "markdown",
   "metadata": {},
   "source": [
    "## (1) Set the project directory and load the main Python library"
   ]
  },
  {
   "cell_type": "code",
   "execution_count": 1,
   "metadata": {},
   "outputs": [],
   "source": [
    "project_dir = '/data/BIDS-HPC/private/projects/dmi'\n",
    "import os, sys\n",
    "checkout_dir = os.path.join(project_dir, 'checkout')\n",
    "if checkout_dir not in sys.path:\n",
    "    sys.path.append(checkout_dir)\n",
    "import target_class_lib as tc"
   ]
  },
  {
   "cell_type": "markdown",
   "metadata": {},
   "source": [
    "## (2) Generate or read in the initial lookup lists that can be calculated by querying the Ensembl REST API"
   ]
  },
  {
   "cell_type": "code",
   "execution_count": 2,
   "metadata": {},
   "outputs": [
    {
     "output_type": "stream",
     "name": "stdout",
     "text": "Reading pickle file /data/BIDS-HPC/private/projects/dmi/data/initial_lookup_lists.pkl...\n"
    }
   ],
   "source": [
    "symbol_lookup_list, id_lookup_list = tc.get_initial_lookup_lists(project_dir)"
   ]
  },
  {
   "cell_type": "markdown",
   "metadata": {},
   "source": [
    "## (3) Go through the missing lookups in the symbols lookup list and try to determine them using the xref endpoint of the Ensembl REST API"
   ]
  },
  {
   "cell_type": "code",
   "execution_count": 5,
   "metadata": {},
   "outputs": [
    {
     "output_type": "stream",
     "name": "stdout",
     "text": "Reading pickle file /data/BIDS-HPC/private/projects/dmi/data/missing_lookup_list.pkl...\n"
    }
   ],
   "source": [
    "missing_lookup_list = tc.get_missing_lookups(project_dir, symbol_lookup_list, max_num_names=5)"
   ]
  },
  {
   "cell_type": "markdown",
   "metadata": {},
   "source": [
    "# Scratch"
   ]
  },
  {
   "cell_type": "code",
   "execution_count": 6,
   "metadata": {},
   "outputs": [
    {
     "output_type": "execute_result",
     "data": {
      "text/plain": "[['AC005391.3', None],\n ['AC005330.2', None],\n ['AC005329.7', None],\n ['AC007040.10', None],\n ['AC006159.4', None]]"
     },
     "metadata": {},
     "execution_count": 6
    }
   ],
   "source": [
    "missing_lookup_list"
   ]
  },
  {
   "cell_type": "code",
   "execution_count": null,
   "metadata": {},
   "outputs": [],
   "source": [
    "lookup_list = []\n",
    "iiter = 0\n",
    "nidentified = 0\n",
    "for item in symbol_lookup_list:\n",
    "    if item[1] is None:\n",
    "        lookup_list, result_processed, iiter, nidentified = run_and_process_query('xref', [item[0]], lookup_list, iiter, nidentified)"
   ]
  },
  {
   "cell_type": "code",
   "execution_count": 49,
   "metadata": {},
   "outputs": [
    {
     "output_type": "stream",
     "name": "stdout",
     "text": "ERROR: Names list is too long (2) for the xref endpoint (max length is 1)\n"
    },
    {
     "output_type": "error",
     "ename": "NameError",
     "evalue": "name 'exit' is not defined",
     "traceback": [
      "\u001b[0;31m---------------------------------------------------------------------------\u001b[0m",
      "\u001b[0;31mNameError\u001b[0m                                 Traceback (most recent call last)",
      "\u001b[0;32m<ipython-input-49-0c28c1609982>\u001b[0m in \u001b[0;36m<module>\u001b[0;34m\u001b[0m\n\u001b[1;32m      1\u001b[0m \u001b[0;31m#res = tc.ensembl_name_request('xref', [to_xref2[0]])\u001b[0m\u001b[0;34m\u001b[0m\u001b[0;34m\u001b[0m\u001b[0;34m\u001b[0m\u001b[0m\n\u001b[0;32m----> 2\u001b[0;31m \u001b[0mres\u001b[0m \u001b[0;34m=\u001b[0m \u001b[0mtc\u001b[0m\u001b[0;34m.\u001b[0m\u001b[0mensembl_name_request\u001b[0m\u001b[0;34m(\u001b[0m\u001b[0;34m'xref'\u001b[0m\u001b[0;34m,\u001b[0m \u001b[0;34m[\u001b[0m\u001b[0;34m'AC005086.1'\u001b[0m\u001b[0;34m,\u001b[0m\u001b[0;34m'andrew'\u001b[0m\u001b[0;34m]\u001b[0m\u001b[0;34m)\u001b[0m\u001b[0;34m\u001b[0m\u001b[0;34m\u001b[0m\u001b[0m\n\u001b[0m\u001b[1;32m      3\u001b[0m \u001b[0;31m#res\u001b[0m\u001b[0;34m\u001b[0m\u001b[0;34m\u001b[0m\u001b[0;34m\u001b[0m\u001b[0m\n\u001b[1;32m      4\u001b[0m \u001b[0mnames_list\u001b[0m \u001b[0;34m=\u001b[0m \u001b[0;34m[\u001b[0m\u001b[0;34m'AC005086.1'\u001b[0m\u001b[0;34m]\u001b[0m\u001b[0;34m\u001b[0m\u001b[0;34m\u001b[0m\u001b[0m\n\u001b[1;32m      5\u001b[0m \u001b[0mres\u001b[0m \u001b[0;34m=\u001b[0m \u001b[0;34m[\u001b[0m\u001b[0;34m{\u001b[0m\u001b[0;34m'type'\u001b[0m\u001b[0;34m:\u001b[0m \u001b[0;34m'gene'\u001b[0m\u001b[0;34m,\u001b[0m \u001b[0;34m'id'\u001b[0m\u001b[0;34m:\u001b[0m \u001b[0;34m'ENSG00000252824'\u001b[0m\u001b[0;34m}\u001b[0m\u001b[0;34m]\u001b[0m\u001b[0;34m\u001b[0m\u001b[0;34m\u001b[0m\u001b[0m\n",
      "\u001b[0;32m/gpfs/gsfs9/users/BIDS-HPC/private/projects/dmi/checkout/target_class_lib.py\u001b[0m in \u001b[0;36mensembl_name_request\u001b[0;34m(endpoint, names_list, wait_time)\u001b[0m\n\u001b[1;32m     70\u001b[0m     \u001b[0;32mif\u001b[0m \u001b[0mlen\u001b[0m\u001b[0;34m(\u001b[0m\u001b[0mnames_list\u001b[0m\u001b[0;34m)\u001b[0m \u001b[0;34m>\u001b[0m \u001b[0mmax_list_len\u001b[0m\u001b[0;34m:\u001b[0m\u001b[0;34m\u001b[0m\u001b[0;34m\u001b[0m\u001b[0m\n\u001b[1;32m     71\u001b[0m         \u001b[0mprint\u001b[0m\u001b[0;34m(\u001b[0m\u001b[0;34m'ERROR: Names list is too long ({}) for the {} endpoint (max length is {})'\u001b[0m\u001b[0;34m.\u001b[0m\u001b[0mformat\u001b[0m\u001b[0;34m(\u001b[0m\u001b[0mlen\u001b[0m\u001b[0;34m(\u001b[0m\u001b[0mnames_list\u001b[0m\u001b[0;34m)\u001b[0m\u001b[0;34m,\u001b[0m \u001b[0mendpoint\u001b[0m\u001b[0;34m,\u001b[0m \u001b[0mmax_list_len\u001b[0m\u001b[0;34m)\u001b[0m\u001b[0;34m)\u001b[0m\u001b[0;34m\u001b[0m\u001b[0;34m\u001b[0m\u001b[0m\n\u001b[0;32m---> 72\u001b[0;31m         \u001b[0mexit\u001b[0m\u001b[0;34m\u001b[0m\u001b[0;34m\u001b[0m\u001b[0m\n\u001b[0m\u001b[1;32m     73\u001b[0m \u001b[0;34m\u001b[0m\u001b[0m\n\u001b[1;32m     74\u001b[0m     \u001b[0;31m# Query the REST server\u001b[0m\u001b[0;34m\u001b[0m\u001b[0;34m\u001b[0m\u001b[0;34m\u001b[0m\u001b[0m\n",
      "\u001b[0;31mNameError\u001b[0m: name 'exit' is not defined"
     ]
    }
   ],
   "source": [
    "#res = tc.ensembl_name_request('xref', [to_xref2[0]])\n",
    "#res = tc.ensembl_name_request('xref', ['AC005086.1'])\n",
    "#res\n",
    "names_list = ['AC005086.1']\n",
    "res = [{'type': 'gene', 'id': 'ENSG00000252824'}]\n",
    "{names_list[0]: res[0]}\n",
    "\n",
    "if endpoint == 'xref':\n",
    "    if res:\n",
    "        #print('not empty')\n",
    "        res = {names_list[0]: res[0]}\n",
    "    else:\n",
    "        #print('empty')\n",
    "        res = {}\n",
    "\n",
    "# Symbol does not exist: {}\n",
    "# Symbol exists:\n",
    "# {'AC005086.1': {'version': 1,\n",
    "#   'biotype': 'snoRNA',\n",
    "#   'object_type': 'Gene',\n",
    "#   'strand': -1,\n",
    "#   'id': 'ENSG00000252824',\n",
    "#   'db_type': 'core',\n",
    "#   'assembly_name': 'GRCh38',\n",
    "#   'logic_name': 'ncrna_homo_sapiens',\n",
    "#   'source': 'ensembl',\n",
    "#   'display_name': 'AC005086.1',\n",
    "#   'seq_region_name': '7',\n",
    "#   'end': 102194164,\n",
    "#   'species': 'homo_sapiens',\n",
    "#   'start': 102194076}}\n",
    "\n",
    "# xref does not exist: [] --> {}\n",
    "# xref exists: [{'type': 'gene', 'id': 'ENSG00000252824'}] --> {names_list[0]: res[0]}"
   ]
  },
  {
   "cell_type": "code",
   "execution_count": 48,
   "metadata": {},
   "outputs": [
    {
     "output_type": "execute_result",
     "data": {
      "text/plain": "False"
     },
     "metadata": {},
     "execution_count": 48
    }
   ],
   "source": [
    "'andrew' == 'anddrew'"
   ]
  },
  {
   "cell_type": "code",
   "execution_count": 50,
   "metadata": {},
   "outputs": [
    {
     "output_type": "error",
     "ename": "AttributeError",
     "evalue": "'list' object has no attribute 'keys'",
     "traceback": [
      "\u001b[0;31m---------------------------------------------------------------------------\u001b[0m",
      "\u001b[0;31mAttributeError\u001b[0m                            Traceback (most recent call last)",
      "\u001b[0;32m<ipython-input-50-511e0b387d06>\u001b[0m in \u001b[0;36m<module>\u001b[0;34m\u001b[0m\n\u001b[1;32m      3\u001b[0m \u001b[0mnidentified\u001b[0m \u001b[0;34m=\u001b[0m \u001b[0;36m0\u001b[0m\u001b[0;34m\u001b[0m\u001b[0;34m\u001b[0m\u001b[0m\n\u001b[1;32m      4\u001b[0m \u001b[0;32mfor\u001b[0m \u001b[0mitem\u001b[0m \u001b[0;32min\u001b[0m \u001b[0mto_xref2\u001b[0m\u001b[0;34m:\u001b[0m\u001b[0;34m\u001b[0m\u001b[0;34m\u001b[0m\u001b[0m\n\u001b[0;32m----> 5\u001b[0;31m     \u001b[0mtmp_list\u001b[0m\u001b[0;34m,\u001b[0m \u001b[0mresult_processed\u001b[0m\u001b[0;34m,\u001b[0m \u001b[0miiter\u001b[0m\u001b[0;34m,\u001b[0m \u001b[0mnidentified\u001b[0m \u001b[0;34m=\u001b[0m \u001b[0mtc\u001b[0m\u001b[0;34m.\u001b[0m\u001b[0mrun_and_process_query\u001b[0m\u001b[0;34m(\u001b[0m\u001b[0;34m'xref'\u001b[0m\u001b[0;34m,\u001b[0m \u001b[0;34m[\u001b[0m\u001b[0mitem\u001b[0m\u001b[0;34m]\u001b[0m\u001b[0;34m,\u001b[0m \u001b[0mtmp_list\u001b[0m\u001b[0;34m,\u001b[0m \u001b[0miiter\u001b[0m\u001b[0;34m,\u001b[0m \u001b[0mnidentified\u001b[0m\u001b[0;34m)\u001b[0m\u001b[0;34m\u001b[0m\u001b[0;34m\u001b[0m\u001b[0m\n\u001b[0m",
      "\u001b[0;32m/gpfs/gsfs9/users/BIDS-HPC/private/projects/dmi/checkout/target_class_lib.py\u001b[0m in \u001b[0;36mrun_and_process_query\u001b[0;34m(endpoint, names_list, lookup_list, iiter, nidentified_tot)\u001b[0m\n\u001b[1;32m     94\u001b[0m \u001b[0;34m\u001b[0m\u001b[0m\n\u001b[1;32m     95\u001b[0m     \u001b[0;31m# If the endpoint is 'xref', convert the result to something that was already processable for the 'symbol' and 'id' endpoints\u001b[0m\u001b[0;34m\u001b[0m\u001b[0;34m\u001b[0m\u001b[0;34m\u001b[0m\u001b[0m\n\u001b[0;32m---> 96\u001b[0;31m     \u001b[0;32mif\u001b[0m \u001b[0mendpoint\u001b[0m \u001b[0;34m==\u001b[0m \u001b[0;34m'xref'\u001b[0m\u001b[0;34m:\u001b[0m\u001b[0;34m\u001b[0m\u001b[0;34m\u001b[0m\u001b[0m\n\u001b[0m\u001b[1;32m     97\u001b[0m         \u001b[0;32mif\u001b[0m \u001b[0mres\u001b[0m\u001b[0;34m:\u001b[0m\u001b[0;34m\u001b[0m\u001b[0;34m\u001b[0m\u001b[0m\n\u001b[1;32m     98\u001b[0m             \u001b[0mres\u001b[0m \u001b[0;34m=\u001b[0m \u001b[0;34m{\u001b[0m\u001b[0mnames_list\u001b[0m\u001b[0;34m[\u001b[0m\u001b[0;36m0\u001b[0m\u001b[0;34m]\u001b[0m\u001b[0;34m:\u001b[0m \u001b[0mres\u001b[0m\u001b[0;34m[\u001b[0m\u001b[0;36m0\u001b[0m\u001b[0;34m]\u001b[0m\u001b[0;34m}\u001b[0m\u001b[0;34m\u001b[0m\u001b[0;34m\u001b[0m\u001b[0m\n",
      "\u001b[0;31mAttributeError\u001b[0m: 'list' object has no attribute 'keys'"
     ]
    }
   ],
   "source": [
    "tmp_list = []\n",
    "iiter = 0\n",
    "nidentified = 0\n",
    "for item in to_xref2:\n",
    "    tmp_list, result_processed, iiter, nidentified = tc.run_and_process_query('xref', [item], tmp_list, iiter, nidentified)"
   ]
  },
  {
   "cell_type": "code",
   "execution_count": 13,
   "metadata": {},
   "outputs": [
    {
     "output_type": "execute_result",
     "data": {
      "text/plain": "['AC005391.3',\n 'AC005330.2',\n 'AC005329.7',\n 'AC007040.10',\n 'AC006159.4',\n 'AC004893.11',\n 'AC004692.4',\n 'AC002310.11',\n 'AC005392.13',\n 'AC002069.6']"
     },
     "metadata": {},
     "execution_count": 13
    }
   ],
   "source": [
    "to_xref2"
   ]
  },
  {
   "cell_type": "code",
   "execution_count": 12,
   "metadata": {},
   "outputs": [],
   "source": [
    "to_xref2 = [ to_xref[x] for x in range(10) ]"
   ]
  },
  {
   "cell_type": "code",
   "execution_count": 5,
   "metadata": {},
   "outputs": [
    {
     "output_type": "execute_result",
     "data": {
      "text/plain": "'ENSG00000198691'],\n ['AC005280.1', 'ENSG00000251393'],\n ['AC005086.1', 'ENSG00000252824'],\n ['ABHD11-AS1', 'ENSG00000225969'],\n ['A1CF', 'ENSG00000148584'],\n ['AADACL2', 'ENSG00000197953'],\n ['AC006427.1', 'ENSG00000248851'],\n ['AC007179.1', 'ENSG00000231815'],\n ['AASS', 'ENSG00000008311'],\n ['ABCC5-AS1', 'ENSG00000223882'],\n ['A2MP1', 'ENSG00000256069'],\n ['AATF', 'ENSG00000275700'],\n ['AC006427.2', 'ENSG00000286888'],\n ['ABCG4', 'ENSG00000172350'],\n ['AC005013.1', 'ENSG00000228421'],\n ['AC005086.3', 'ENSG00000279724'],\n ['ABCC11', 'ENSG00000121270'],\n ['AC002331.1', 'ENSG00000286712'],\n ['AC003070.1', 'ENSG00000267344'],\n ['ABHD17A', 'ENSG00000129968'],\n ['AC002553.1', 'ENSG00000227782'],\n ['ABHD11', 'ENSG00000106077'],\n ['AC005544.1', 'ENSG00000264491'],\n ['ABCC6P1', 'ENSG00000256340'],\n ['ABCA9', 'ENSG00000154258'],\n ['ABCC2', 'ENSG00000023839'],\n ['AC006076.1', 'ENSG00000225563'],\n ['AC006539.1', 'ENSG00000240673'],\n ['ABHD6', 'ENSG00000163686'],\n ['ABHD8', 'ENSG00000127220'],\n ['AC004797.1', 'ENSG00000177369'],\n ['AC005086.5', 'ENSG00000280404'],\n ['AC005071.2', 'ENSG00000287631'],\n ['AAAS', 'ENSG00000094914'],\n ['ABLIM1', 'ENSG00000099204'],\n ['AC005034.2', 'ENSG00000230477'],\n ['ABHD14A-ACY1', 'ENSG00000114786'],\n ['AC003035.1', 'ENSG00000212663'],\n ['AC003958.2', 'ENSG00000234859'],\n ['AC007036.4', 'ENSG00000283618'],\n ['AC000367.1', 'ENSG00000224981'],\n ['ABTB2', 'ENSG00000166016'],\n ['ABCA11P', 'ENSG00000251595'],\n ['ABCA10', 'ENSG00000154263'],\n ['ABL1', 'ENSG00000097007'],\n ['ABHD3', 'ENSG00000158201'],\n ['AC004917.1', 'ENSG00000243797'],\n ['AC005355.2', 'ENSG00000280420'],\n ['AC003985.1', 'ENSG00000233824'],\n ['AC002365.1', 'ENSG00000206844'],\n ['AC005498.3', 'ENSG00000269696'],\n ['AC005838.2', 'ENSG00000252129'],\n ['ABHD1', 'ENSG00000143994'],\n ['AC005838.1', 'ENSG00000223544'],\n ['ABCC13', 'ENSG00000243064'],\n ['AC003009.1', 'ENSG00000262011'],\n ['AC003988.1', 'ENSG00000234223'],\n ['AC005392.1', 'ENSG00000227606'],\n ['AC006499.5', 'ENSG00000251278'],\n ['AC005281.1', 'ENSG00000225606'],\n ['AC006150.1', 'ENSG00000226323'],\n ['AC004053.1', 'ENSG00000248242'],\n ['AADACL3', 'ENSG00000188984'],\n ['AC004980.8', 'ENSG00000282580'],\n ['AAR2', 'ENSG00000131043'],\n ['ABCB1', 'ENSG00000085563'],\n ['AC005178.1', 'ENSG00000251243'],\n ['AC006196.1', 'ENSG00000252517'],\n ['AC006483.1', 'ENSG00000228974'],\n ['ABHD4', 'ENSG00000100439'],\n ['ABCC12', 'ENSG00000140798'],\n ['ABCD1P5', 'ENSG00000214330'],\n ['ABCD2', 'ENSG00000173208'],\n ['AC003077.1', 'ENSG00000287011'],\n ['AC006041.1', 'ENSG00000229379'],\n ['AC006372.4', 'ENSG00000280266'],\n ['AC005020.1', 'ENSG00000224448'],\n ['AC007114.1', 'ENSG00000263004'],\n ['AC004837.4', 'ENSG00000287584'],\n ['AC004009.3', 'ENSG00000279655'],\n ['ABCA9-AS1', 'ENSG00000231749'],\n ['AC005730.2', 'ENSG00000261033'],\n ['ABHD16B', 'ENSG00000183260'],\n ['ABHD17C', 'ENSG00000136379'],\n ['ABCC6P2', 'ENSG00000255277'],\n ['ABHD15', 'ENSG00000168792'],\n ['AC002386.1', 'ENSG00000230941'],\n ['ABLIM2', 'ENSG00000163995'],\n ['AC005618.1', 'ENSG00000272070'],\n ['AC006460.2', 'ENSG00000284052'],\n ['AC005786.3', 'ENSG00000267436'],\n ['AACSP1', 'ENSG00000250420'],\n ['AC005071.1', 'ENSG00000201913'],\n ['AAK1', 'ENSG00000115977'],\n ['AC004492.1', 'ENSG00000272072'],\n ['AC005336.2', 'ENSG00000267218'],\n ['AC002070.1', 'ENSG00000248636'],\n ['AC006335.2', 'ENSG00000275352'],\n ['AC007003.1', 'ENSG00000231183'],\n ['AC005000.1', 'ENSG00000228532'],\n ['AC002558.1', 'ENSG00000239291'],\n ['AC006499.7', 'ENSG00000251338'],\n ['ABCG1', 'ENSG00000160179'],\n ['AC004980.1', 'ENSG00000205485'],\n ['AC005000.2', 'ENSG00000270431'],\n ['AC004069.2', 'ENSG00000251473'],\n ['ABCC5', 'ENSG00000114770'],\n ['AACS', 'ENSG00000081760'],\n ['AC000374.1', 'ENSG00000227249'],\n ['ABCC6', 'ENSG00000091262'],\n ['AC004866.1', 'ENSG00000223514'],\n ['AC005255.1', 'ENSG00000256210'],\n ['ABHD5', 'ENSG00000011198'],\n ['AC005772.2', 'ENSG00000287307'],\n ['AC004054.1', 'ENSG00000248984'],\n ['AC005537.2', 'ENSG00000232006'],\n ['AC003006.1', 'ENSG00000269026'],\n ['AC004771.1', 'ENSG00000234203'],\n ['AC005625.1', 'ENSG00000266963'],\n ['AANAT', 'ENSG00000129673'],\n ['ABL2', 'ENSG00000143322'],\n ['AC003984.1', 'ENSG00000235139'],\n ['AC006499.2', 'ENSG00000250074'],\n ['AARD', 'ENSG00000205002'],\n ['AC002066.1', 'ENSG00000237813'],\n ['A4GALT', 'ENSG00000128274'],\n ['AC005229.5', 'ENSG00000287636'],\n ['AC006947.1', 'ENSG00000229330'],\n ['AC004148.1', 'ENSG00000263272'],\n ['ABCB6', 'ENSG00000115657'],\n ['AC005758.1', 'ENSG00000267630'],\n ['AC007099.2', 'ENSG00000237293'],\n ['ABHD14B', 'ENSG00000114779'],\n ['AC004079.1', 'ENSG00000274396'],\n ['AC006328.1', 'ENSG00000233619'],\n ['AC005307.1', 'ENSG00000260725'],\n ['ABCD1', 'ENSG00000101986'],\n ['AC005154.5', 'ENSG00000281039'],\n ['AC002480.2', 'ENSG00000232949'],\n ['AC003043.2', 'ENSG00000267211'],\n ['AC004562.1', 'ENSG00000199801'],\n ['AC005943.2', 'ENSG00000279009'],\n ['AC004063.1', 'ENSG00000250670'],\n ['AC002511.1', 'ENSG00000232680'],\n ['ABI3BP', 'ENSG00000154175'],\n ['ABI2', 'ENSG00000138443'],\n ['ABCC9', 'ENSG00000069431'],\n ['ABHD13', 'ENSG00000139826'],\n ['AC000124.1', 'ENSG00000226770'],\n ['A3GALT2', 'ENSG00000184389'],\n ['AC004869.2', 'ENSG00000240355'],\n ['AC005086.4', 'ENSG00000280004'],\n ['AC007014.1', 'ENSG00000262020'],\n ['AC000081.2', 'ENSG00000251940'],\n ['AC007126.1', 'ENSG00000250497'],\n ['AC005594.1', 'ENSG00000287884'],\n ['AC002543.2', 'ENSG00000252115'],\n ['ABHD2', 'ENSG00000140526'],\n ['ABCB10P4', 'ENSG00000260053'],\n ['AC004706.1', 'ENSG00000261996'],\n ['AC004812.1', 'ENSG00000255575'],\n ['ABCB7', 'ENSG00000131269'],\n ['ABCA3', 'ENSG00000167972'],\n ['AC005597.1', 'ENSG00000267223'],\n ['AC006539.2', 'ENSG00000268070'],\n ['AC006452.1', 'ENSG00000201354'],\n ['ABTB1', 'ENSG00000114626'],\n ['AC007106.1', 'ENSG00000251410'],\n ['AC002401.1', 'ENSG00000236472'],\n ['AC005391.3', None],\n ['AC005330.2', None],\n ['AC005329.7', None],\n ['AC007040.10', None],\n ['AC006159.4', None],\n ['AC004893.11', None],\n ['AC004692.4', None],\n ['AC002310.11', None],\n ['AC005392.13', None],\n ['AC002069.6', None],\n ['AC005895.4', None],\n ['AC004744.3', None],\n ['AC004019.13', None],\n ['AC005532.5', None],\n ['AC004741.3', None],\n ['AC006277.2', None],\n ['AC005014.5', None],\n ['AC002127.4', None],\n ['AC004460.1', None],\n ['AC002472.13', None],\n ['AC004840.9', None],\n ['AC004066.2', None],\n ['AC003658.1', None],\n ['AC004878.7', None],\n ['AC005276.1', None],\n ['AC005780.1', None],\n ['AC006159.5', None],\n ['AC007064.25', None],\n ['AC004014.3', None],\n ['AC006116.14', None],\n ['AC005682.6', None],\n ['ABC7-42389800N19.1', None],\n ['AC006461.2', None],\n ['AC002398.12', None],\n ['AC006042.6', None],\n ['AC005493.1', None],\n ['AC006126.4', None],\n ['AC004022.7', None],\n ['AC006052.1', None],\n ['AC007000.10', None],\n ['AC004854.4', None],\n ['AC004066.3', None],\n ['AC002429.5', None],\n ['AC003989.3', None],\n ['AC005077.7', None],\n ['AC006326.5', None],\n ['AC006509.4', None],\n ['AC004240.2', None],\n ['AC005048.1', None],\n ['AC004862.6', None],\n ['AC005265.1', None],\n ['AC004449.6', None],\n ['AC002984.2', None],\n ['ABHD11-AS2', None],\n ['AC005358.3', None],\n ['AC000032.2', None],\n ['AC002523.1', None],\n ['AC004893.10', None],\n ['AC007025.1', None],\n ['AC005033.6', None],\n ['AC006126.3', None],\n ['AC004878.2', None],\n ['AC006326.3', None],\n ['AC005150.1', None],\n ['AC004231.7', None],\n ['AC005538.5', None],\n ['AC006372.6', None],\n ['AC004957.5', None],\n ['AC006987.7', None],\n ['AC005086.7', None],\n ['AC004528.4', None],\n ['AC004851.1', None],\n ['AC004535.2', None],\n ['AC006116.20', None],\n ['AC005392.8', None],\n ['AC004907.2', None],\n ['ABC11-48400900C8.1', None],\n ['AC002398.13', None],\n ['AC002310.13', None],\n ['AB019438.63', None],\n ['AC006004.1', None],\n ['AC006552.1', None],\n ['AC006033.22', None],\n ['AC000364.1', None],\n ['AC005701.1', None],\n ['AC002454.1', None],\n ['AC005943.4', None],\n ['AC003986.7', None],\n ['AC004463.6', None],\n ['AC005154.6', None],\n ['AC006378.3', None],\n ['AC004702.2', None],\n ['AATK-AS1', None],\n ['AC005154.9', None],\n ['AC006369.3', None],\n ['AC007016.3', None],\n ['AC004016.1', None],\n ['AC002055.4', None],\n ['AC007163.10', None],\n ['AC004876.1', None],\n ['AC005594.3', None],\n ['AC004510.3', None],\n ['AC004156.3', None],\n ['A2LD1', None],\n ['AAED1', None],\n ['AC004540.5', None],\n ['AC005621.1', None],\n ['AC006547.13', None],\n ['AC006116.17', None],\n ['AC003986.5', None],\n ['AC006023.8', None],\n ['AC005363.9', None],\n ['AB019440.1', None],\n ['AC005534.9', None],\n ['AC002429.4', None],\n ['AC005013.5', None],\n ['AC006026.12', None],\n ['AC006273.5', None],\n ['AC006377.1', None],\n ['AC003002.6', None],\n ['AC005251.4', None],\n ['AC002994.1', None],\n ['AC007009.2', None],\n ['AC006160.4', None],\n ['AC002519.8', None],\n ['AC005306.3', None],\n ['AC003664.1', None],\n ['AC005786.5', None],\n ['AC000123.4', None],\n ['AC002978.1', None],\n ['AC006035.1', None],\n ['AC004996.1', None],\n ['AC005281.2', None],\n ['AC006042.8', None],\n ['AC005008.3', None],\n ['AC005040.3', None],\n ['AC006989.2', None],\n ['AC007056.1', None],\n ['AC002480.4', None],\n ['AC002511.4', None],\n ['AC002115.5', None],\n ['AC007040.11', None],\n ['1060P11.3', None],\n ['AC000093.3', None],\n ['AC005487.2', None],\n ['AC005094.2', None],\n ['AC002310.17', None],\n ['AC004878.5', None],\n ['AC005003.1', None],\n ['AC003087.4', None],\n ['AC002451.3', None],\n ['ABC13-48559800H2.2', None],\n ['AC005042.4', None],\n ['AC006195.2', None],\n ['AB019441.29', None],\n ['AC004878.6', None],\n ['AC000120.7', None],\n ['AC004528.3', None],\n ['AC004659.1', None],\n ['AC007038.7', None],\n ['AC005550.5', None],\n ['AB015752.4', None],\n ['AC004824.1', None],\n ['AC000077.2', None],\n ['AC006335.7', None],\n ['AC006160.5', None],\n ['AC003090.1', None],\n ['AC006534.1', None],\n ['A3GALT2P', None],\n ['AC004656.1', None],\n ['AC004471.9', None],\n ['AC005082.12', None],\n ['AC006045.3', None],\n ['AC005007.3', None],\n ['AC005160.3', None],\n ['AC004383.4', None],\n ['AB019438.66', None],\n ['AC005863.2', None],\n ['ABC13-48559800H2.1', None],\n ['AC005205.3', None],\n ['AARS', None],\n ['AC006035.2', None],\n ['AC007163.3', None],\n ['AC006335.11', None],\n ['AC005498.4', None],\n ['AC006116.27', None],\n ['AC004901.1', None],\n ['AC006994.3', None],\n ['AC006335.6', None],\n ['AC007131.1', None],\n ['AC003080.4', None],\n ['AC006145.1', None],\n ['AC005301.8', None],\n ['AC005041.17', None],\n ['AC005783.1', None],\n ['AC000078.5', None],\n ['AB015752.3', None],\n ['AC006026.11', None],\n ['AC007050.18', None],\n ['AC004152.5', None],\n ['AC004461.4', None],\n ['AC006335.10', None],\n ['AC005235.1', None],\n ['AC005042.5', None],\n ['AC007064.22', None],\n ['AC004475.1', None],\n ['AC004074.3', None],\n ['ABP1', None],\n ['AC004837.5', None],\n ['AC006115.3', None],\n ['AC004699.1', None],\n ['AC005029.1', None],\n ['AC003003.5', None],\n ['AC003045.1', None],\n ['AC000041.8', None],\n ['AC006227.1', None],\n ['AC005522.7', None],\n ['AC005326.2', None],\n ['AC005229.7', None],\n ['AC002398.11', None],\n ['AC004985.12', None],\n ['AC002127.2', None],\n ['AC006378.2', None],\n ['AC005035.1', None],\n ['AC002076.10', None],\n ['AC003991.3', None],\n ['AC003051.1', None],\n ['AC006374.2', None],\n ['AC005519.4', None],\n ['AC007050.17', None],\n ['AC005754.1', None],\n ['AC005077.8', None],\n ['AC006022.4', None],\n ['AC005189.6', None],\n ['AC006157.2', None],\n ['AC004924.1', None],\n ['AC006014.10', None],\n ['AC004623.2', None],\n ['AC002519.5', None],\n ['AC002310.10', None],\n ['AC005215.2', None],\n ['AB019439.68', None],\n ['AC005550.3', None],\n ['AC006465.4', None],\n ['AC006328.9', None],\n ['AC006372.5', None],\n ['AC002485.1', None],\n ['AC005391.2', None],\n ['AC005757.6', None],\n ['AC003104.1', None],\n ['AC002117.1', None],\n ['AACP', None],\n ['AC004129.7', None],\n ['AC004895.4', None],\n ['AC004543.2', None],\n ['AC007131.3', None],\n ['AC006995.8', None],\n ['AC002366.3', None],\n ['AC004528.5', None],\n ['AC000110.1', None],\n ['AC007040.5', None],\n ['AC004655.1', None],\n ['AC004967.11', None],\n ['AC004041.2', None],\n ['ABC7-42391500H16.2', None],\n ['AC000089.3', None],\n ['AC005159.1', None],\n ['AC004863.6', None],\n ['AC005775.2', None],\n ['AC002314.2', None],\n ['AC006116.13', None],\n ['AC006988.1', None],\n ['AC004070.1', None],\n ['AC006026.10', None],\n ['AC006070.11', None],\n ['AC000111.3', None],\n ['AC004980.9', None],\n ['AC002519.6', None],\n ['AC007096.1', None],\n ['AC004870.5', None],\n ['AC005606.14', None],\n ['ABC9-43961700F1.1', None],\n ['AC005204.2', None],\n ['AC005779.2', None],\n ['AC002398.5', None],\n ['AC007000.11', None],\n ['AC006390.3', None],\n ['AC005067.1', None],\n ['AC004112.5', None],\n ['AC005534.6', None],\n ['AC006370.2', None],\n ['AC005027.3', None],\n ['AC005076.5', None],\n ['AC006987.6', None],\n ['AC002116.7', None],\n ['AC005022.1', None],\n ['AC006150.2', None],\n ['AC007041.1', None],\n ['AC005262.4', None],\n ['AC006380.3', None],\n ['AC006116.19', None],\n ['AC006548.20', None],\n ['AC002480.5', None],\n ['AC000035.3', None],\n ['AC006994.2', None],\n ['AC000370.2', None],\n ['AC006481.1', None],\n ['AC004016.2', None],\n ['AC006445.6', None],\n ['AC002553.4', None],\n ['AC004076.9', None],\n ['AC007161.5', None],\n ['AC004158.3', None],\n ['AC006028.10', None],\n ['AC005926.1', None],\n ['AC007163.9', None],\n ['AC003665.1', None],\n ['AC006445.7', None],\n ['AC002128.4', None],\n ['AC005616.2', None],\n ['AC005324.7', None],\n ['AC006293.3', None],\n ['AC007040.6', None],\n ['AC004381.7', None],\n ['AC000111.4', None],\n ['AC004987.8', None],\n ['AC004769.1', None],\n ['AC006322.1', None],\n ['AC005682.7', None],\n ['AC006483.5', None],\n ['AC004237.1', None],\n ['AC005375.1', None],\n ['AC004453.8', None],\n ['AC005549.2', None],\n ['7SK', None],\n ['AC002116.8', None],\n ['AC004383.3', None],\n ['AC004673.1', None],\n ['AC005037.3', None],\n ['AC006390.4', None],\n ['AC004595.1', None],\n ['AC002398.9', None],\n ['AC004603.4', None],\n ['AC005789.9', None],\n ['AC006116.24', None],\n ['AC004161.4', None],\n ['AC004851.2', None],\n ['AC003968.1', None],\n ['AC005017.2', None],\n ['AC004941.3', None],\n ['AC004909.3', None],\n ['AC004954.2', None],\n ['AC004951.6', None],\n ['AC003084.2', None],\n ['AC006926.1', None],\n ['AC002979.1', None],\n ['AC004980.11', None],\n ['AC005534.8', None],\n ['AC005944.2', None],\n ['AC007041.2', None],\n ['AC007064.24', None],\n ['AC004899.3', None],\n ['AC005062.2', None],\n ['AC002465.2', None],\n ['AC002550.5', None],\n ['AC004987.9', None],\n ['AC004221.2', None],\n ['AC000094.3', None],\n ['AC005559.3', None],\n ['AC005042.3', None],\n ['AC006116.21', None],\n ['AC002069.5', None],\n ['AC004894.2', None],\n ['AC005510.1', None],\n ['AC003075.4', None],\n ['AC006445.8', None],\n ['AC004160.4', None],\n ['AC002992.4', None],\n ['AC006547.8', None],\n ['AC006534.2', None],\n ['AC005037.6', None],\n ['AC002467.7', None],\n ['AC006160.8', None],\n ['AC005037.4', None],\n ['AC006371.1', None],\n ['AC005370.1', None],\n ['AC004878.3', None],\n ['AC006548.19', None],\n ['AC005195.1', None],\n ['AC005077.12', None],\n ['AC005088.2', None],\n ['AC002064.5', None],\n ['AC005237.4', None],\n ['AC004967.7', None],\n ['AC005162.3', None],\n ['AC004510.2', None],\n ['AC005336.4', None],\n ['AC005686.1', None],\n ['AC005588.2', None],\n ['AC006116.15', None],\n ['AC002477.1', None],\n ['AC002076.9', None],\n ['AC002115.9', None],\n ['AA06', None],\n ['AC004540.4', None],\n ['AC006026.13', None],\n ['AC007115.3', None],\n ['AC005077.14', None],\n ['AC006466.5', None],\n ['AC005808.3', None],\n ['AC006133.3', None],\n ['AC004869.3', None],\n ['AC005779.1', None],\n ['AC002314.4', None],\n ['AC005488.11', None],\n ['AC006070.12', None],\n ['AC005517.3', None],\n ['AC006960.7', None],\n ['AC004166.6', None],\n ['AC004507.1', None],\n ['AC004019.10', None],\n ['AC002383.2', None],\n ['AC005546.2', None],\n ['AC005152.3', None],\n ['AC005154.8', None],\n ['AC002463.3', None],\n ['AC005484.5', None],\n ['AC002321.1', None],\n ['AC005046.5', None],\n ['AC004014.4', None],\n ['AC005300.5', None],\n ['AC000003.1', None],\n ['AC006000.5', None],\n ['AC006547.14', None],\n ['AC007163.6', None],\n ['AC004112.7', None],\n ['AC004745.1', None],\n ['AC003102.3', None],\n ['AC005943.5', None],\n ['AC004006.2', None],\n ['AC004980.10', None],\n ['AC000036.4', None],\n ['AC000111.5', None],\n ['AC004112.4', None],\n ['AC005262.3', None],\n ['AC006080.1', None],\n ['AC006262.5', None],\n ['AC006946.12', None],\n ['AC006953.1', None],\n ['AC005162.5', None],\n ['AC006019.4', None],\n ['AC004258.1', None],\n ['AC003009.2', None],\n ['AC002480.3', None],\n ['AC006978.6', None],\n ['AC005539.2', None],\n ['AC003989.4', None],\n ['AC006130.4', None],\n ['AC002467.5', None],\n ['AC004790.5', None],\n ['AC007163.4', None],\n ['AC005161.1', None],\n ['AC006024.4', None],\n ['AC006366.3', None],\n ['AC006509.7', None],\n ['AC004840.8', None],\n ['AC005019.3', None],\n ['AC005481.5', None],\n ['AC006230.4', None],\n ['AC004920.3', None],\n ['AC005086.6', None],\n ['AC006458.3', None],\n ['AC005009.2', None],\n ['AC006156.1', None],\n ['AC007163.8', None],\n ['AC006335.12', None],\n ['AC004076.7', None],\n ['AC006432.1', None],\n ['AC005077.9', None],\n ['AC006987.4', None],\n ['AC005954.3', None],\n ['AC002075.4', None],\n ['AC005954.4', None],\n ['AC002539.1', None],\n ['AC006355.3', None],\n ['AC006132.1', None],\n ['AC005682.5', None],\n ['AC005488.13', None],\n ['AC006465.3', None],\n ['AC004790.4', None],\n ['AC005606.15', None],\n ['AC004878.8', None],\n ['AC004074.4', None],\n ['AC002472.11', None],\n ['AC002310.7', None],\n ['AC005162.4', None],\n ['AC006028.9', None],\n ['AC005215.1', None],\n ['AC002310.12', None],\n ['AC004159.1', None],\n ['AC005786.7', None],\n ['AC007040.7', None],\n ['AC006038.4', None],\n ['AC006011.4', None],\n ['AC004920.2', None],\n ['AC004791.2', None],\n ['AC004854.5', None],\n ['AC005741.2', None],\n ['AC002321.2', None],\n ['AC007036.6', None],\n ['AC003088.1', None],\n ['AC000099.1', None],\n ['AC002486.3', None],\n ['AC002992.1', None],\n ['AC005264.2', None],\n ['AC006070.13', None],\n ['AC005105.2', None],\n ['AC002056.5', None],\n ['AC002400.1', None],\n ['AC005522.6', None],\n ['AC002368.4', None],\n ['AC004549.6', None],\n ['AC000068.5', None],\n ['AC005324.8-001', None],\n ['AC004478.2', None],\n ['AC006116.22', None],\n ['AC003986.6', None],\n ['AC004129.9', None],\n ['AC006116.26', None],\n ['AC005307.3', None],\n ['AC006042.7', None],\n ['AC004790.3', None],\n ['AC006028.11', None],\n ['AC004987.10', None],\n ['AC005086.8', None],\n ['AC004911.2', None],\n ['AC005041.11', None],\n ['AC006273.7', None],\n ['AC006159.3', None],\n ['AC004381.6', None],\n ['AC004538.3', None],\n ['AC005895.3', None],\n ['AC005356.1', None],\n ['AC004951.5', None],\n ['AC000111.6', None],\n ['AC004158.2', None],\n ['AC004889.1', None],\n ['AC005336.5', None],\n ['AC007050.1', None],\n ['AC006014.7', None],\n ['AC005550.4', None],\n ['AC005205.2', None],\n ['AC007040.8', None],\n ['AC005550.6', None],\n ['AC005682.8', None],\n ['AC004938.5', None],\n ['AC004125.3', None],\n ['AC005220.3', None],\n ['AC006050.2', None],\n ['AC005205.4', None],\n ['AC005077.5', None],\n ['AC004062.2', None],\n ['AC004051.2', None],\n ['AC005284.1', None],\n ['AC004593.3', None],\n ['AC006960.5', None],\n ['AC005540.3', None],\n ['AC005559.2', None],\n ['AC003079.1', None],\n ['AC004692.5', None],\n ['AC005488.12', None],\n ['AC007000.12', None],\n ['AC004941.5', None],\n ['AC006373.1', None],\n ['AC004022.8', None],\n ['AC005513.1', None],\n ['AC003029.1', None],\n ['AC005789.11', None],\n ['AC000059.1', None],\n ['AC006509.6', None],\n ['AC004485.3', None],\n ['AC007163.11', None],\n ['AC005624.2', None],\n ['AC004520.1', None],\n ['AC006003.3', None],\n ['AC006026.9', None],\n ['ABBA01057584.1', None],\n ['AC006014.8', None],\n ['AC006153.3', None],\n ['AC004967.8', None],\n ['AC005757.7', None],\n ['AC006129.4', None],\n ['AC004866.3', None],\n ['AC005971.3', None],\n ['AC006145.4', None],\n ['AC007131.2', None],\n ['AC004906.3', None],\n ['AC003958.6', None],\n ['AC005258.3', None],\n ['AC005592.3', None],\n ['AC004458.1', None],\n ['AC002066.2', None],\n ['AC002539.2', None],\n ['AC004799.3', None],\n ['AC005154.7', None],\n ['AC004166.7', None],\n ['AC006946.15', None],\n ['AC004017.1', None],\n ['AC004691.5', None],\n ['AC006987.5', None],\n ['AC005777.3', None],\n ['AC002075.3', None],\n ['ABC12-47043100G14.2', None],\n ...]"
     },
     "metadata": {},
     "execution_count": 5
    }
   ],
   "source": [
    "symbol_lookup_list"
   ]
  },
  {
   "cell_type": "code",
   "execution_count": 10,
   "metadata": {},
   "outputs": [],
   "source": [
    "to_xref = []\n",
    "for item in symbol_lookup_list:\n",
    "    if item[1] is None:\n",
    "        to_xref.append(item[0])"
   ]
  },
  {
   "cell_type": "code",
   "execution_count": 3,
   "metadata": {},
   "outputs": [
    {
     "output_type": "stream",
     "name": "stdout",
     "text": "[1] Given 1000 names, we identified 987 of them\n[2] Given 1000 names, we identified 989 of them\n[3] Given 1000 names, we identified 990 of them\n[4] Given 1000 names, we identified 984 of them\n"
    },
    {
     "output_type": "error",
     "ename": "KeyboardInterrupt",
     "evalue": "",
     "traceback": [
      "\u001b[0;31m---------------------------------------------------------------------------\u001b[0m",
      "\u001b[0;31mKeyboardInterrupt\u001b[0m                         Traceback (most recent call last)",
      "\u001b[0;32m<ipython-input-3-3f509ecebaeb>\u001b[0m in \u001b[0;36m<module>\u001b[0;34m\u001b[0m\n\u001b[0;32m----> 1\u001b[0;31m \u001b[0mid_lookup_list\u001b[0m\u001b[0;34m,\u001b[0m \u001b[0mid_nidentified\u001b[0m \u001b[0;34m=\u001b[0m \u001b[0mtc\u001b[0m\u001b[0;34m.\u001b[0m\u001b[0mget_lookup_list\u001b[0m\u001b[0;34m(\u001b[0m\u001b[0;34m'id'\u001b[0m\u001b[0;34m,\u001b[0m \u001b[0mos\u001b[0m\u001b[0;34m.\u001b[0m\u001b[0mpath\u001b[0m\u001b[0;34m.\u001b[0m\u001b[0mjoin\u001b[0m\u001b[0;34m(\u001b[0m\u001b[0mproject_dir\u001b[0m\u001b[0;34m,\u001b[0m\u001b[0;34m'data'\u001b[0m\u001b[0;34m,\u001b[0m\u001b[0;34m'unique_ensembl_ids.txt'\u001b[0m\u001b[0;34m)\u001b[0m\u001b[0;34m)\u001b[0m\u001b[0;34m\u001b[0m\u001b[0;34m\u001b[0m\u001b[0m\n\u001b[0m\u001b[1;32m      2\u001b[0m \u001b[0msymbol_lookup_list\u001b[0m\u001b[0;34m,\u001b[0m \u001b[0msymbol_nidentified\u001b[0m \u001b[0;34m=\u001b[0m \u001b[0mtc\u001b[0m\u001b[0;34m.\u001b[0m\u001b[0mget_lookup_list\u001b[0m\u001b[0;34m(\u001b[0m\u001b[0;34m'symbol'\u001b[0m\u001b[0;34m,\u001b[0m \u001b[0mos\u001b[0m\u001b[0;34m.\u001b[0m\u001b[0mpath\u001b[0m\u001b[0;34m.\u001b[0m\u001b[0mjoin\u001b[0m\u001b[0;34m(\u001b[0m\u001b[0mproject_dir\u001b[0m\u001b[0;34m,\u001b[0m\u001b[0;34m'data'\u001b[0m\u001b[0;34m,\u001b[0m\u001b[0;34m'unique_other_names.txt'\u001b[0m\u001b[0;34m)\u001b[0m\u001b[0;34m)\u001b[0m\u001b[0;34m\u001b[0m\u001b[0;34m\u001b[0m\u001b[0m\n",
      "\u001b[0;32m/gpfs/gsfs9/users/BIDS-HPC/private/projects/dmi/checkout/target_class_lib.py\u001b[0m in \u001b[0;36mget_lookup_list\u001b[0;34m(endpoint, names_file, max_list_len, max_iter)\u001b[0m\n\u001b[1;32m    157\u001b[0m \u001b[0;34m\u001b[0m\u001b[0m\n\u001b[1;32m    158\u001b[0m                 \u001b[0;31m# Run and process the query, adding any found name-ID pairs to the main lookup list (or otherwise, add None)\u001b[0m\u001b[0;34m\u001b[0m\u001b[0;34m\u001b[0m\u001b[0;34m\u001b[0m\u001b[0m\n\u001b[0;32m--> 159\u001b[0;31m                 \u001b[0mlookup_list\u001b[0m\u001b[0;34m,\u001b[0m \u001b[0mresult_processed\u001b[0m\u001b[0;34m,\u001b[0m \u001b[0miiter\u001b[0m\u001b[0;34m,\u001b[0m \u001b[0mnidentified\u001b[0m \u001b[0;34m=\u001b[0m \u001b[0mrun_and_process_query\u001b[0m\u001b[0;34m(\u001b[0m\u001b[0mendpoint\u001b[0m\u001b[0;34m,\u001b[0m \u001b[0mnames_list\u001b[0m\u001b[0;34m,\u001b[0m \u001b[0mlookup_list\u001b[0m\u001b[0;34m,\u001b[0m \u001b[0miiter\u001b[0m\u001b[0;34m,\u001b[0m \u001b[0mnidentified\u001b[0m\u001b[0;34m)\u001b[0m\u001b[0;34m\u001b[0m\u001b[0;34m\u001b[0m\u001b[0m\n\u001b[0m\u001b[1;32m    160\u001b[0m \u001b[0;34m\u001b[0m\u001b[0m\n\u001b[1;32m    161\u001b[0m                 \u001b[0;31m# If we've hit the maximum number of queries, get out of the loop\u001b[0m\u001b[0;34m\u001b[0m\u001b[0;34m\u001b[0m\u001b[0;34m\u001b[0m\u001b[0m\n",
      "\u001b[0;32m/gpfs/gsfs9/users/BIDS-HPC/private/projects/dmi/checkout/target_class_lib.py\u001b[0m in \u001b[0;36mrun_and_process_query\u001b[0;34m(endpoint, names_list, lookup_list, iiter, nidentified_tot)\u001b[0m\n\u001b[1;32m     91\u001b[0m \u001b[0;34m\u001b[0m\u001b[0m\n\u001b[1;32m     92\u001b[0m     \u001b[0;31m# Run the query\u001b[0m\u001b[0;34m\u001b[0m\u001b[0;34m\u001b[0m\u001b[0;34m\u001b[0m\u001b[0m\n\u001b[0;32m---> 93\u001b[0;31m     \u001b[0mres\u001b[0m \u001b[0;34m=\u001b[0m \u001b[0mensembl_name_request\u001b[0m\u001b[0;34m(\u001b[0m\u001b[0mendpoint\u001b[0m\u001b[0;34m,\u001b[0m \u001b[0mnames_list\u001b[0m\u001b[0;34m)\u001b[0m\u001b[0;34m\u001b[0m\u001b[0;34m\u001b[0m\u001b[0m\n\u001b[0m\u001b[1;32m     94\u001b[0m \u001b[0;34m\u001b[0m\u001b[0m\n\u001b[1;32m     95\u001b[0m     \u001b[0;31m# Process the result of the query, adding any found name-ID pairs to the main lookup list\u001b[0m\u001b[0;34m\u001b[0m\u001b[0;34m\u001b[0m\u001b[0;34m\u001b[0m\u001b[0m\n",
      "\u001b[0;32m/gpfs/gsfs9/users/BIDS-HPC/private/projects/dmi/checkout/target_class_lib.py\u001b[0m in \u001b[0;36mensembl_name_request\u001b[0;34m(endpoint, names_list, wait_time)\u001b[0m\n\u001b[1;32m     74\u001b[0m     \u001b[0;31m# Query the REST server\u001b[0m\u001b[0;34m\u001b[0m\u001b[0;34m\u001b[0m\u001b[0;34m\u001b[0m\u001b[0m\n\u001b[1;32m     75\u001b[0m     \u001b[0;32mif\u001b[0m \u001b[0mdata\u001b[0m \u001b[0;32mis\u001b[0m \u001b[0;32mnot\u001b[0m \u001b[0;32mNone\u001b[0m\u001b[0;34m:\u001b[0m\u001b[0;34m\u001b[0m\u001b[0;34m\u001b[0m\u001b[0m\n\u001b[0;32m---> 76\u001b[0;31m         \u001b[0mr\u001b[0m \u001b[0;34m=\u001b[0m \u001b[0mrequests\u001b[0m\u001b[0;34m.\u001b[0m\u001b[0mpost\u001b[0m\u001b[0;34m(\u001b[0m\u001b[0mserver\u001b[0m\u001b[0;34m+\u001b[0m\u001b[0mext\u001b[0m\u001b[0;34m,\u001b[0m \u001b[0mheaders\u001b[0m\u001b[0;34m=\u001b[0m\u001b[0mheaders\u001b[0m\u001b[0;34m,\u001b[0m \u001b[0mdata\u001b[0m\u001b[0;34m=\u001b[0m\u001b[0mdata\u001b[0m\u001b[0;34m)\u001b[0m\u001b[0;34m\u001b[0m\u001b[0;34m\u001b[0m\u001b[0m\n\u001b[0m\u001b[1;32m     77\u001b[0m     \u001b[0;32melse\u001b[0m\u001b[0;34m:\u001b[0m\u001b[0;34m\u001b[0m\u001b[0;34m\u001b[0m\u001b[0m\n\u001b[1;32m     78\u001b[0m         \u001b[0mr\u001b[0m \u001b[0;34m=\u001b[0m \u001b[0mrequests\u001b[0m\u001b[0;34m.\u001b[0m\u001b[0mget\u001b[0m\u001b[0;34m(\u001b[0m\u001b[0mserver\u001b[0m\u001b[0;34m+\u001b[0m\u001b[0mext\u001b[0m\u001b[0;34m,\u001b[0m \u001b[0mheaders\u001b[0m\u001b[0;34m=\u001b[0m\u001b[0mheaders\u001b[0m\u001b[0;34m)\u001b[0m\u001b[0;34m\u001b[0m\u001b[0;34m\u001b[0m\u001b[0m\n",
      "\u001b[0;32m/data/weismanal/miniconda3/envs/myenv/lib/python3.7/site-packages/requests/api.py\u001b[0m in \u001b[0;36mpost\u001b[0;34m(url, data, json, **kwargs)\u001b[0m\n\u001b[1;32m    117\u001b[0m     \"\"\"\n\u001b[1;32m    118\u001b[0m \u001b[0;34m\u001b[0m\u001b[0m\n\u001b[0;32m--> 119\u001b[0;31m     \u001b[0;32mreturn\u001b[0m \u001b[0mrequest\u001b[0m\u001b[0;34m(\u001b[0m\u001b[0;34m'post'\u001b[0m\u001b[0;34m,\u001b[0m \u001b[0murl\u001b[0m\u001b[0;34m,\u001b[0m \u001b[0mdata\u001b[0m\u001b[0;34m=\u001b[0m\u001b[0mdata\u001b[0m\u001b[0;34m,\u001b[0m \u001b[0mjson\u001b[0m\u001b[0;34m=\u001b[0m\u001b[0mjson\u001b[0m\u001b[0;34m,\u001b[0m \u001b[0;34m**\u001b[0m\u001b[0mkwargs\u001b[0m\u001b[0;34m)\u001b[0m\u001b[0;34m\u001b[0m\u001b[0;34m\u001b[0m\u001b[0m\n\u001b[0m\u001b[1;32m    120\u001b[0m \u001b[0;34m\u001b[0m\u001b[0m\n\u001b[1;32m    121\u001b[0m \u001b[0;34m\u001b[0m\u001b[0m\n",
      "\u001b[0;32m/data/weismanal/miniconda3/envs/myenv/lib/python3.7/site-packages/requests/api.py\u001b[0m in \u001b[0;36mrequest\u001b[0;34m(method, url, **kwargs)\u001b[0m\n\u001b[1;32m     59\u001b[0m     \u001b[0;31m# cases, and look like a memory leak in others.\u001b[0m\u001b[0;34m\u001b[0m\u001b[0;34m\u001b[0m\u001b[0;34m\u001b[0m\u001b[0m\n\u001b[1;32m     60\u001b[0m     \u001b[0;32mwith\u001b[0m \u001b[0msessions\u001b[0m\u001b[0;34m.\u001b[0m\u001b[0mSession\u001b[0m\u001b[0;34m(\u001b[0m\u001b[0;34m)\u001b[0m \u001b[0;32mas\u001b[0m \u001b[0msession\u001b[0m\u001b[0;34m:\u001b[0m\u001b[0;34m\u001b[0m\u001b[0;34m\u001b[0m\u001b[0m\n\u001b[0;32m---> 61\u001b[0;31m         \u001b[0;32mreturn\u001b[0m \u001b[0msession\u001b[0m\u001b[0;34m.\u001b[0m\u001b[0mrequest\u001b[0m\u001b[0;34m(\u001b[0m\u001b[0mmethod\u001b[0m\u001b[0;34m=\u001b[0m\u001b[0mmethod\u001b[0m\u001b[0;34m,\u001b[0m \u001b[0murl\u001b[0m\u001b[0;34m=\u001b[0m\u001b[0murl\u001b[0m\u001b[0;34m,\u001b[0m \u001b[0;34m**\u001b[0m\u001b[0mkwargs\u001b[0m\u001b[0;34m)\u001b[0m\u001b[0;34m\u001b[0m\u001b[0;34m\u001b[0m\u001b[0m\n\u001b[0m\u001b[1;32m     62\u001b[0m \u001b[0;34m\u001b[0m\u001b[0m\n\u001b[1;32m     63\u001b[0m \u001b[0;34m\u001b[0m\u001b[0m\n",
      "\u001b[0;32m/data/weismanal/miniconda3/envs/myenv/lib/python3.7/site-packages/requests/sessions.py\u001b[0m in \u001b[0;36mrequest\u001b[0;34m(self, method, url, params, data, headers, cookies, files, auth, timeout, allow_redirects, proxies, hooks, stream, verify, cert, json)\u001b[0m\n\u001b[1;32m    528\u001b[0m         }\n\u001b[1;32m    529\u001b[0m         \u001b[0msend_kwargs\u001b[0m\u001b[0;34m.\u001b[0m\u001b[0mupdate\u001b[0m\u001b[0;34m(\u001b[0m\u001b[0msettings\u001b[0m\u001b[0;34m)\u001b[0m\u001b[0;34m\u001b[0m\u001b[0;34m\u001b[0m\u001b[0m\n\u001b[0;32m--> 530\u001b[0;31m         \u001b[0mresp\u001b[0m \u001b[0;34m=\u001b[0m \u001b[0mself\u001b[0m\u001b[0;34m.\u001b[0m\u001b[0msend\u001b[0m\u001b[0;34m(\u001b[0m\u001b[0mprep\u001b[0m\u001b[0;34m,\u001b[0m \u001b[0;34m**\u001b[0m\u001b[0msend_kwargs\u001b[0m\u001b[0;34m)\u001b[0m\u001b[0;34m\u001b[0m\u001b[0;34m\u001b[0m\u001b[0m\n\u001b[0m\u001b[1;32m    531\u001b[0m \u001b[0;34m\u001b[0m\u001b[0m\n\u001b[1;32m    532\u001b[0m         \u001b[0;32mreturn\u001b[0m \u001b[0mresp\u001b[0m\u001b[0;34m\u001b[0m\u001b[0;34m\u001b[0m\u001b[0m\n",
      "\u001b[0;32m/data/weismanal/miniconda3/envs/myenv/lib/python3.7/site-packages/requests/sessions.py\u001b[0m in \u001b[0;36msend\u001b[0;34m(self, request, **kwargs)\u001b[0m\n\u001b[1;32m    641\u001b[0m \u001b[0;34m\u001b[0m\u001b[0m\n\u001b[1;32m    642\u001b[0m         \u001b[0;31m# Send the request\u001b[0m\u001b[0;34m\u001b[0m\u001b[0;34m\u001b[0m\u001b[0;34m\u001b[0m\u001b[0m\n\u001b[0;32m--> 643\u001b[0;31m         \u001b[0mr\u001b[0m \u001b[0;34m=\u001b[0m \u001b[0madapter\u001b[0m\u001b[0;34m.\u001b[0m\u001b[0msend\u001b[0m\u001b[0;34m(\u001b[0m\u001b[0mrequest\u001b[0m\u001b[0;34m,\u001b[0m \u001b[0;34m**\u001b[0m\u001b[0mkwargs\u001b[0m\u001b[0;34m)\u001b[0m\u001b[0;34m\u001b[0m\u001b[0;34m\u001b[0m\u001b[0m\n\u001b[0m\u001b[1;32m    644\u001b[0m \u001b[0;34m\u001b[0m\u001b[0m\n\u001b[1;32m    645\u001b[0m         \u001b[0;31m# Total elapsed time of the request (approximately)\u001b[0m\u001b[0;34m\u001b[0m\u001b[0;34m\u001b[0m\u001b[0;34m\u001b[0m\u001b[0m\n",
      "\u001b[0;32m/data/weismanal/miniconda3/envs/myenv/lib/python3.7/site-packages/requests/adapters.py\u001b[0m in \u001b[0;36msend\u001b[0;34m(self, request, stream, timeout, verify, cert, proxies)\u001b[0m\n\u001b[1;32m    447\u001b[0m                     \u001b[0mdecode_content\u001b[0m\u001b[0;34m=\u001b[0m\u001b[0;32mFalse\u001b[0m\u001b[0;34m,\u001b[0m\u001b[0;34m\u001b[0m\u001b[0;34m\u001b[0m\u001b[0m\n\u001b[1;32m    448\u001b[0m                     \u001b[0mretries\u001b[0m\u001b[0;34m=\u001b[0m\u001b[0mself\u001b[0m\u001b[0;34m.\u001b[0m\u001b[0mmax_retries\u001b[0m\u001b[0;34m,\u001b[0m\u001b[0;34m\u001b[0m\u001b[0;34m\u001b[0m\u001b[0m\n\u001b[0;32m--> 449\u001b[0;31m                     \u001b[0mtimeout\u001b[0m\u001b[0;34m=\u001b[0m\u001b[0mtimeout\u001b[0m\u001b[0;34m\u001b[0m\u001b[0;34m\u001b[0m\u001b[0m\n\u001b[0m\u001b[1;32m    450\u001b[0m                 )\n\u001b[1;32m    451\u001b[0m \u001b[0;34m\u001b[0m\u001b[0m\n",
      "\u001b[0;32m/data/weismanal/miniconda3/envs/myenv/lib/python3.7/site-packages/urllib3/connectionpool.py\u001b[0m in \u001b[0;36murlopen\u001b[0;34m(self, method, url, body, headers, retries, redirect, assert_same_host, timeout, pool_timeout, release_conn, chunked, body_pos, **response_kw)\u001b[0m\n\u001b[1;32m    670\u001b[0m                 \u001b[0mbody\u001b[0m\u001b[0;34m=\u001b[0m\u001b[0mbody\u001b[0m\u001b[0;34m,\u001b[0m\u001b[0;34m\u001b[0m\u001b[0;34m\u001b[0m\u001b[0m\n\u001b[1;32m    671\u001b[0m                 \u001b[0mheaders\u001b[0m\u001b[0;34m=\u001b[0m\u001b[0mheaders\u001b[0m\u001b[0;34m,\u001b[0m\u001b[0;34m\u001b[0m\u001b[0;34m\u001b[0m\u001b[0m\n\u001b[0;32m--> 672\u001b[0;31m                 \u001b[0mchunked\u001b[0m\u001b[0;34m=\u001b[0m\u001b[0mchunked\u001b[0m\u001b[0;34m,\u001b[0m\u001b[0;34m\u001b[0m\u001b[0;34m\u001b[0m\u001b[0m\n\u001b[0m\u001b[1;32m    673\u001b[0m             )\n\u001b[1;32m    674\u001b[0m \u001b[0;34m\u001b[0m\u001b[0m\n",
      "\u001b[0;32m/data/weismanal/miniconda3/envs/myenv/lib/python3.7/site-packages/urllib3/connectionpool.py\u001b[0m in \u001b[0;36m_make_request\u001b[0;34m(self, conn, method, url, timeout, chunked, **httplib_request_kw)\u001b[0m\n\u001b[1;32m    419\u001b[0m                     \u001b[0;31m# Python 3 (including for exceptions like SystemExit).\u001b[0m\u001b[0;34m\u001b[0m\u001b[0;34m\u001b[0m\u001b[0;34m\u001b[0m\u001b[0m\n\u001b[1;32m    420\u001b[0m                     \u001b[0;31m# Otherwise it looks like a bug in the code.\u001b[0m\u001b[0;34m\u001b[0m\u001b[0;34m\u001b[0m\u001b[0;34m\u001b[0m\u001b[0m\n\u001b[0;32m--> 421\u001b[0;31m                     \u001b[0msix\u001b[0m\u001b[0;34m.\u001b[0m\u001b[0mraise_from\u001b[0m\u001b[0;34m(\u001b[0m\u001b[0me\u001b[0m\u001b[0;34m,\u001b[0m \u001b[0;32mNone\u001b[0m\u001b[0;34m)\u001b[0m\u001b[0;34m\u001b[0m\u001b[0;34m\u001b[0m\u001b[0m\n\u001b[0m\u001b[1;32m    422\u001b[0m         \u001b[0;32mexcept\u001b[0m \u001b[0;34m(\u001b[0m\u001b[0mSocketTimeout\u001b[0m\u001b[0;34m,\u001b[0m \u001b[0mBaseSSLError\u001b[0m\u001b[0;34m,\u001b[0m \u001b[0mSocketError\u001b[0m\u001b[0;34m)\u001b[0m \u001b[0;32mas\u001b[0m \u001b[0me\u001b[0m\u001b[0;34m:\u001b[0m\u001b[0;34m\u001b[0m\u001b[0;34m\u001b[0m\u001b[0m\n\u001b[1;32m    423\u001b[0m             \u001b[0mself\u001b[0m\u001b[0;34m.\u001b[0m\u001b[0m_raise_timeout\u001b[0m\u001b[0;34m(\u001b[0m\u001b[0merr\u001b[0m\u001b[0;34m=\u001b[0m\u001b[0me\u001b[0m\u001b[0;34m,\u001b[0m \u001b[0murl\u001b[0m\u001b[0;34m=\u001b[0m\u001b[0murl\u001b[0m\u001b[0;34m,\u001b[0m \u001b[0mtimeout_value\u001b[0m\u001b[0;34m=\u001b[0m\u001b[0mread_timeout\u001b[0m\u001b[0;34m)\u001b[0m\u001b[0;34m\u001b[0m\u001b[0;34m\u001b[0m\u001b[0m\n",
      "\u001b[0;32m/data/weismanal/miniconda3/envs/myenv/lib/python3.7/site-packages/urllib3/packages/six.py\u001b[0m in \u001b[0;36mraise_from\u001b[0;34m(value, from_value)\u001b[0m\n",
      "\u001b[0;32m/data/weismanal/miniconda3/envs/myenv/lib/python3.7/site-packages/urllib3/connectionpool.py\u001b[0m in \u001b[0;36m_make_request\u001b[0;34m(self, conn, method, url, timeout, chunked, **httplib_request_kw)\u001b[0m\n\u001b[1;32m    414\u001b[0m                 \u001b[0;31m# Python 3\u001b[0m\u001b[0;34m\u001b[0m\u001b[0;34m\u001b[0m\u001b[0;34m\u001b[0m\u001b[0m\n\u001b[1;32m    415\u001b[0m                 \u001b[0;32mtry\u001b[0m\u001b[0;34m:\u001b[0m\u001b[0;34m\u001b[0m\u001b[0;34m\u001b[0m\u001b[0m\n\u001b[0;32m--> 416\u001b[0;31m                     \u001b[0mhttplib_response\u001b[0m \u001b[0;34m=\u001b[0m \u001b[0mconn\u001b[0m\u001b[0;34m.\u001b[0m\u001b[0mgetresponse\u001b[0m\u001b[0;34m(\u001b[0m\u001b[0;34m)\u001b[0m\u001b[0;34m\u001b[0m\u001b[0;34m\u001b[0m\u001b[0m\n\u001b[0m\u001b[1;32m    417\u001b[0m                 \u001b[0;32mexcept\u001b[0m \u001b[0mBaseException\u001b[0m \u001b[0;32mas\u001b[0m \u001b[0me\u001b[0m\u001b[0;34m:\u001b[0m\u001b[0;34m\u001b[0m\u001b[0;34m\u001b[0m\u001b[0m\n\u001b[1;32m    418\u001b[0m                     \u001b[0;31m# Remove the TypeError from the exception chain in\u001b[0m\u001b[0;34m\u001b[0m\u001b[0;34m\u001b[0m\u001b[0;34m\u001b[0m\u001b[0m\n",
      "\u001b[0;32m/data/weismanal/miniconda3/envs/myenv/lib/python3.7/http/client.py\u001b[0m in \u001b[0;36mgetresponse\u001b[0;34m(self)\u001b[0m\n\u001b[1;32m   1342\u001b[0m         \u001b[0;32mtry\u001b[0m\u001b[0;34m:\u001b[0m\u001b[0;34m\u001b[0m\u001b[0;34m\u001b[0m\u001b[0m\n\u001b[1;32m   1343\u001b[0m             \u001b[0;32mtry\u001b[0m\u001b[0;34m:\u001b[0m\u001b[0;34m\u001b[0m\u001b[0;34m\u001b[0m\u001b[0m\n\u001b[0;32m-> 1344\u001b[0;31m                 \u001b[0mresponse\u001b[0m\u001b[0;34m.\u001b[0m\u001b[0mbegin\u001b[0m\u001b[0;34m(\u001b[0m\u001b[0;34m)\u001b[0m\u001b[0;34m\u001b[0m\u001b[0;34m\u001b[0m\u001b[0m\n\u001b[0m\u001b[1;32m   1345\u001b[0m             \u001b[0;32mexcept\u001b[0m \u001b[0mConnectionError\u001b[0m\u001b[0;34m:\u001b[0m\u001b[0;34m\u001b[0m\u001b[0;34m\u001b[0m\u001b[0m\n\u001b[1;32m   1346\u001b[0m                 \u001b[0mself\u001b[0m\u001b[0;34m.\u001b[0m\u001b[0mclose\u001b[0m\u001b[0;34m(\u001b[0m\u001b[0;34m)\u001b[0m\u001b[0;34m\u001b[0m\u001b[0;34m\u001b[0m\u001b[0m\n",
      "\u001b[0;32m/data/weismanal/miniconda3/envs/myenv/lib/python3.7/http/client.py\u001b[0m in \u001b[0;36mbegin\u001b[0;34m(self)\u001b[0m\n\u001b[1;32m    304\u001b[0m         \u001b[0;31m# read until we get a non-100 response\u001b[0m\u001b[0;34m\u001b[0m\u001b[0;34m\u001b[0m\u001b[0;34m\u001b[0m\u001b[0m\n\u001b[1;32m    305\u001b[0m         \u001b[0;32mwhile\u001b[0m \u001b[0;32mTrue\u001b[0m\u001b[0;34m:\u001b[0m\u001b[0;34m\u001b[0m\u001b[0;34m\u001b[0m\u001b[0m\n\u001b[0;32m--> 306\u001b[0;31m             \u001b[0mversion\u001b[0m\u001b[0;34m,\u001b[0m \u001b[0mstatus\u001b[0m\u001b[0;34m,\u001b[0m \u001b[0mreason\u001b[0m \u001b[0;34m=\u001b[0m \u001b[0mself\u001b[0m\u001b[0;34m.\u001b[0m\u001b[0m_read_status\u001b[0m\u001b[0;34m(\u001b[0m\u001b[0;34m)\u001b[0m\u001b[0;34m\u001b[0m\u001b[0;34m\u001b[0m\u001b[0m\n\u001b[0m\u001b[1;32m    307\u001b[0m             \u001b[0;32mif\u001b[0m \u001b[0mstatus\u001b[0m \u001b[0;34m!=\u001b[0m \u001b[0mCONTINUE\u001b[0m\u001b[0;34m:\u001b[0m\u001b[0;34m\u001b[0m\u001b[0;34m\u001b[0m\u001b[0m\n\u001b[1;32m    308\u001b[0m                 \u001b[0;32mbreak\u001b[0m\u001b[0;34m\u001b[0m\u001b[0;34m\u001b[0m\u001b[0m\n",
      "\u001b[0;32m/data/weismanal/miniconda3/envs/myenv/lib/python3.7/http/client.py\u001b[0m in \u001b[0;36m_read_status\u001b[0;34m(self)\u001b[0m\n\u001b[1;32m    265\u001b[0m \u001b[0;34m\u001b[0m\u001b[0m\n\u001b[1;32m    266\u001b[0m     \u001b[0;32mdef\u001b[0m \u001b[0m_read_status\u001b[0m\u001b[0;34m(\u001b[0m\u001b[0mself\u001b[0m\u001b[0;34m)\u001b[0m\u001b[0;34m:\u001b[0m\u001b[0;34m\u001b[0m\u001b[0;34m\u001b[0m\u001b[0m\n\u001b[0;32m--> 267\u001b[0;31m         \u001b[0mline\u001b[0m \u001b[0;34m=\u001b[0m \u001b[0mstr\u001b[0m\u001b[0;34m(\u001b[0m\u001b[0mself\u001b[0m\u001b[0;34m.\u001b[0m\u001b[0mfp\u001b[0m\u001b[0;34m.\u001b[0m\u001b[0mreadline\u001b[0m\u001b[0;34m(\u001b[0m\u001b[0m_MAXLINE\u001b[0m \u001b[0;34m+\u001b[0m \u001b[0;36m1\u001b[0m\u001b[0;34m)\u001b[0m\u001b[0;34m,\u001b[0m \u001b[0;34m\"iso-8859-1\"\u001b[0m\u001b[0;34m)\u001b[0m\u001b[0;34m\u001b[0m\u001b[0;34m\u001b[0m\u001b[0m\n\u001b[0m\u001b[1;32m    268\u001b[0m         \u001b[0;32mif\u001b[0m \u001b[0mlen\u001b[0m\u001b[0;34m(\u001b[0m\u001b[0mline\u001b[0m\u001b[0;34m)\u001b[0m \u001b[0;34m>\u001b[0m \u001b[0m_MAXLINE\u001b[0m\u001b[0;34m:\u001b[0m\u001b[0;34m\u001b[0m\u001b[0;34m\u001b[0m\u001b[0m\n\u001b[1;32m    269\u001b[0m             \u001b[0;32mraise\u001b[0m \u001b[0mLineTooLong\u001b[0m\u001b[0;34m(\u001b[0m\u001b[0;34m\"status line\"\u001b[0m\u001b[0;34m)\u001b[0m\u001b[0;34m\u001b[0m\u001b[0;34m\u001b[0m\u001b[0m\n",
      "\u001b[0;32m/data/weismanal/miniconda3/envs/myenv/lib/python3.7/socket.py\u001b[0m in \u001b[0;36mreadinto\u001b[0;34m(self, b)\u001b[0m\n\u001b[1;32m    587\u001b[0m         \u001b[0;32mwhile\u001b[0m \u001b[0;32mTrue\u001b[0m\u001b[0;34m:\u001b[0m\u001b[0;34m\u001b[0m\u001b[0;34m\u001b[0m\u001b[0m\n\u001b[1;32m    588\u001b[0m             \u001b[0;32mtry\u001b[0m\u001b[0;34m:\u001b[0m\u001b[0;34m\u001b[0m\u001b[0;34m\u001b[0m\u001b[0m\n\u001b[0;32m--> 589\u001b[0;31m                 \u001b[0;32mreturn\u001b[0m \u001b[0mself\u001b[0m\u001b[0;34m.\u001b[0m\u001b[0m_sock\u001b[0m\u001b[0;34m.\u001b[0m\u001b[0mrecv_into\u001b[0m\u001b[0;34m(\u001b[0m\u001b[0mb\u001b[0m\u001b[0;34m)\u001b[0m\u001b[0;34m\u001b[0m\u001b[0;34m\u001b[0m\u001b[0m\n\u001b[0m\u001b[1;32m    590\u001b[0m             \u001b[0;32mexcept\u001b[0m \u001b[0mtimeout\u001b[0m\u001b[0;34m:\u001b[0m\u001b[0;34m\u001b[0m\u001b[0;34m\u001b[0m\u001b[0m\n\u001b[1;32m    591\u001b[0m                 \u001b[0mself\u001b[0m\u001b[0;34m.\u001b[0m\u001b[0m_timeout_occurred\u001b[0m \u001b[0;34m=\u001b[0m \u001b[0;32mTrue\u001b[0m\u001b[0;34m\u001b[0m\u001b[0;34m\u001b[0m\u001b[0m\n",
      "\u001b[0;32m/data/weismanal/miniconda3/envs/myenv/lib/python3.7/site-packages/urllib3/contrib/pyopenssl.py\u001b[0m in \u001b[0;36mrecv_into\u001b[0;34m(self, *args, **kwargs)\u001b[0m\n\u001b[1;32m    311\u001b[0m     \u001b[0;32mdef\u001b[0m \u001b[0mrecv_into\u001b[0m\u001b[0;34m(\u001b[0m\u001b[0mself\u001b[0m\u001b[0;34m,\u001b[0m \u001b[0;34m*\u001b[0m\u001b[0margs\u001b[0m\u001b[0;34m,\u001b[0m \u001b[0;34m**\u001b[0m\u001b[0mkwargs\u001b[0m\u001b[0;34m)\u001b[0m\u001b[0;34m:\u001b[0m\u001b[0;34m\u001b[0m\u001b[0;34m\u001b[0m\u001b[0m\n\u001b[1;32m    312\u001b[0m         \u001b[0;32mtry\u001b[0m\u001b[0;34m:\u001b[0m\u001b[0;34m\u001b[0m\u001b[0;34m\u001b[0m\u001b[0m\n\u001b[0;32m--> 313\u001b[0;31m             \u001b[0;32mreturn\u001b[0m \u001b[0mself\u001b[0m\u001b[0;34m.\u001b[0m\u001b[0mconnection\u001b[0m\u001b[0;34m.\u001b[0m\u001b[0mrecv_into\u001b[0m\u001b[0;34m(\u001b[0m\u001b[0;34m*\u001b[0m\u001b[0margs\u001b[0m\u001b[0;34m,\u001b[0m \u001b[0;34m**\u001b[0m\u001b[0mkwargs\u001b[0m\u001b[0;34m)\u001b[0m\u001b[0;34m\u001b[0m\u001b[0;34m\u001b[0m\u001b[0m\n\u001b[0m\u001b[1;32m    314\u001b[0m         \u001b[0;32mexcept\u001b[0m \u001b[0mOpenSSL\u001b[0m\u001b[0;34m.\u001b[0m\u001b[0mSSL\u001b[0m\u001b[0;34m.\u001b[0m\u001b[0mSysCallError\u001b[0m \u001b[0;32mas\u001b[0m \u001b[0me\u001b[0m\u001b[0;34m:\u001b[0m\u001b[0;34m\u001b[0m\u001b[0;34m\u001b[0m\u001b[0m\n\u001b[1;32m    315\u001b[0m             \u001b[0;32mif\u001b[0m \u001b[0mself\u001b[0m\u001b[0;34m.\u001b[0m\u001b[0msuppress_ragged_eofs\u001b[0m \u001b[0;32mand\u001b[0m \u001b[0me\u001b[0m\u001b[0;34m.\u001b[0m\u001b[0margs\u001b[0m \u001b[0;34m==\u001b[0m \u001b[0;34m(\u001b[0m\u001b[0;34m-\u001b[0m\u001b[0;36m1\u001b[0m\u001b[0;34m,\u001b[0m \u001b[0;34m\"Unexpected EOF\"\u001b[0m\u001b[0;34m)\u001b[0m\u001b[0;34m:\u001b[0m\u001b[0;34m\u001b[0m\u001b[0;34m\u001b[0m\u001b[0m\n",
      "\u001b[0;32m/data/weismanal/miniconda3/envs/myenv/lib/python3.7/site-packages/OpenSSL/SSL.py\u001b[0m in \u001b[0;36mrecv_into\u001b[0;34m(self, buffer, nbytes, flags)\u001b[0m\n\u001b[1;32m   1837\u001b[0m             \u001b[0mresult\u001b[0m \u001b[0;34m=\u001b[0m \u001b[0m_lib\u001b[0m\u001b[0;34m.\u001b[0m\u001b[0mSSL_peek\u001b[0m\u001b[0;34m(\u001b[0m\u001b[0mself\u001b[0m\u001b[0;34m.\u001b[0m\u001b[0m_ssl\u001b[0m\u001b[0;34m,\u001b[0m \u001b[0mbuf\u001b[0m\u001b[0;34m,\u001b[0m \u001b[0mnbytes\u001b[0m\u001b[0;34m)\u001b[0m\u001b[0;34m\u001b[0m\u001b[0;34m\u001b[0m\u001b[0m\n\u001b[1;32m   1838\u001b[0m         \u001b[0;32melse\u001b[0m\u001b[0;34m:\u001b[0m\u001b[0;34m\u001b[0m\u001b[0;34m\u001b[0m\u001b[0m\n\u001b[0;32m-> 1839\u001b[0;31m             \u001b[0mresult\u001b[0m \u001b[0;34m=\u001b[0m \u001b[0m_lib\u001b[0m\u001b[0;34m.\u001b[0m\u001b[0mSSL_read\u001b[0m\u001b[0;34m(\u001b[0m\u001b[0mself\u001b[0m\u001b[0;34m.\u001b[0m\u001b[0m_ssl\u001b[0m\u001b[0;34m,\u001b[0m \u001b[0mbuf\u001b[0m\u001b[0;34m,\u001b[0m \u001b[0mnbytes\u001b[0m\u001b[0;34m)\u001b[0m\u001b[0;34m\u001b[0m\u001b[0;34m\u001b[0m\u001b[0m\n\u001b[0m\u001b[1;32m   1840\u001b[0m         \u001b[0mself\u001b[0m\u001b[0;34m.\u001b[0m\u001b[0m_raise_ssl_error\u001b[0m\u001b[0;34m(\u001b[0m\u001b[0mself\u001b[0m\u001b[0;34m.\u001b[0m\u001b[0m_ssl\u001b[0m\u001b[0;34m,\u001b[0m \u001b[0mresult\u001b[0m\u001b[0;34m)\u001b[0m\u001b[0;34m\u001b[0m\u001b[0;34m\u001b[0m\u001b[0m\n\u001b[1;32m   1841\u001b[0m \u001b[0;34m\u001b[0m\u001b[0m\n",
      "\u001b[0;31mKeyboardInterrupt\u001b[0m: "
     ]
    }
   ],
   "source": [
    "if not os.path.exists(os.path.join(project_dir,'data','primary_lookup_lists.pkl')):\n",
    "\n",
    "    # Import the GMB library in order to get the make_pickle() function\n",
    "    gmb_dir = '/data/BIDS-HPC/private/projects/gmb/checkout'\n",
    "    if gmb_dir not in sys.path:\n",
    "        sys.path.append(gmb_dir)\n",
    "    import time_cell_interaction_lib as tci # we need this to get the make_pickle() function\n",
    "\n",
    "    # Query the Ensembl REST API to see whether we can identify the gene \"names\"\n",
    "    id_lookup_list, id_nidentified = tc.get_lookup_list('id', os.path.join(project_dir,'data','unique_ensembl_ids.txt'))\n",
    "    symbol_lookup_list, symbol_nidentified = tc.get_lookup_list('symbol', os.path.join(project_dir,'data','unique_other_names.txt'))\n",
    "\n",
    "    # Run a check on the number of Nones in the lists; otherwise, save the lookup lists to disk\n",
    "    if (sum([ 0 if x[1] is None else 1 for x in symbol_lookup_list ]) != symbol_nidentified) or (sum([ 0 if x[1] is None else 1 for x in id_lookup_list ]) != id_nidentified):\n",
    "        print('ERROR: Inconsistent number of Nones in the lookup lists')\n",
    "        exit\n",
    "    else:\n",
    "        tci.make_pickle([symbol_lookup_list, id_lookup_list], os.path.join(project_dir,'data'), 'primary_lookup_lists.pkl')\n",
    "\n",
    "else:\n",
    "    [symbol_lookup_list, id_lookup_list] = tci.load_pickle(os.path.join(project_dir,'data'), 'primary_lookup_lists.pkl')"
   ]
  },
  {
   "cell_type": "code",
   "execution_count": 4,
   "metadata": {},
   "outputs": [
    {
     "output_type": "stream",
     "name": "stdout",
     "text": "[1] Given 10 names, we identified 10 of them\n[2] Given 10 names, we identified 10 of them\n[3] Given 10 names, we identified 10 of them\n[4] Given 10 names, we identified 10 of them\n[5] Given 10 names, we identified 10 of them\n[6] Given 10 names, we identified 10 of them\n[7] Given 10 names, we identified 10 of them\n[8] Given 10 names, we identified 10 of them\n[9] Given 10 names, we identified 10 of them\n[10] Given 10 names, we identified 10 of them\n[11] Given 10 names, we identified 10 of them\n[12] Given 10 names, we identified 9 of them\n[13] Given 10 names, we identified 7 of them\n[14] Given 10 names, we identified 10 of them\n[15] Given 10 names, we identified 10 of them\n"
    }
   ],
   "source": [
    "id_lookup_list, id_nidentified = tc.get_lookup_list('id', os.path.join(project_dir,'data','unique_ensembl_ids.txt'), max_list_len=10, max_iter=15)"
   ]
  },
  {
   "cell_type": "code",
   "execution_count": 22,
   "metadata": {},
   "outputs": [
    {
     "output_type": "execute_result",
     "data": {
      "text/plain": "870"
     },
     "metadata": {},
     "execution_count": 22
    }
   ],
   "source": [
    "sum([ 0 if x[1] is None else 1 for x in symbol_lookup_list ])"
   ]
  },
  {
   "cell_type": "code",
   "execution_count": 17,
   "metadata": {},
   "outputs": [
    {
     "output_type": "error",
     "ename": "TypeError",
     "evalue": "unsupported operand type(s) for +: 'int' and 'str'",
     "traceback": [
      "\u001b[0;31m---------------------------------------------------------------------------\u001b[0m",
      "\u001b[0;31mTypeError\u001b[0m                                 Traceback (most recent call last)",
      "\u001b[0;32m<ipython-input-17-760e003acb17>\u001b[0m in \u001b[0;36m<module>\u001b[0;34m\u001b[0m\n\u001b[0;32m----> 1\u001b[0;31m \u001b[0msum\u001b[0m\u001b[0;34m(\u001b[0m\u001b[0mcol\u001b[0m\u001b[0;34m)\u001b[0m\u001b[0;34m\u001b[0m\u001b[0;34m\u001b[0m\u001b[0m\n\u001b[0m",
      "\u001b[0;31mTypeError\u001b[0m: unsupported operand type(s) for +: 'int' and 'str'"
     ]
    }
   ],
   "source": [
    "col.is"
   ]
  },
  {
   "cell_type": "code",
   "execution_count": 7,
   "metadata": {},
   "outputs": [],
   "source": [
    "list1 = [\"ENSG00000005483\", \"ENSG00000005486\", \"ENSG00000005513\", \"ENSG00000005700\", \"ENSG00000005801\", \"ENSG00000005810\", \"ENSG00000005812\", \"ENSG00000005844\", \"ENSG00000005882\", \"ENSG00000005884\"]\n",
    "list2 = [\"ENSG00000005889\", \"ENSG00000005893\", \"ENSG00000005955\", \"ENSG00000005961\", \"ENSG00000005981\", \"ENSG00000006007\", \"ENSG00000006015\", \"ENSG00000006016\", \"ENSG00000006025\", \"ENSG00000006042\"]\n",
    "res1 = tc.ensembl_name_request('id', list1)\n",
    "res2 = tc.ensembl_name_request('id', list2)"
   ]
  },
  {
   "cell_type": "code",
   "execution_count": 9,
   "metadata": {},
   "outputs": [
    {
     "output_type": "execute_result",
     "data": {
      "text/plain": "{'ENSG00000005961': {'db_type': 'core',\n  'assembly_name': 'GRCh38',\n  'id': 'ENSG00000005961',\n  'start': 44372180,\n  'logic_name': 'ensembl_havana_gene_homo_sapiens',\n  'source': 'ensembl_havana',\n  'end': 44389649,\n  'display_name': 'ITGA2B',\n  'seq_region_name': '17',\n  'species': 'homo_sapiens',\n  'biotype': 'protein_coding',\n  'version': 19,\n  'strand': -1,\n  'description': 'integrin subunit alpha 2b [Source:HGNC Symbol;Acc:HGNC:6138]',\n  'object_type': 'Gene'},\n 'ENSG00000006025': {'description': 'oxysterol binding protein like 7 [Source:HGNC Symbol;Acc:HGNC:16387]',\n  'strand': -1,\n  'object_type': 'Gene',\n  'biotype': 'protein_coding',\n  'version': 12,\n  'start': 47807372,\n  'source': 'ensembl_havana',\n  'display_name': 'OSBPL7',\n  'end': 47821834,\n  'species': 'homo_sapiens',\n  'seq_region_name': '17',\n  'logic_name': 'ensembl_havana_gene_homo_sapiens',\n  'assembly_name': 'GRCh38',\n  'db_type': 'core',\n  'id': 'ENSG00000006025'},\n 'ENSG00000006042': {'id': 'ENSG00000006042',\n  'assembly_name': 'GRCh38',\n  'db_type': 'core',\n  'source': 'ensembl_havana',\n  'end': 32945106,\n  'display_name': 'TMEM98',\n  'species': 'homo_sapiens',\n  'seq_region_name': '17',\n  'logic_name': 'ensembl_havana_gene_homo_sapiens',\n  'start': 32927910,\n  'version': 12,\n  'biotype': 'protein_coding',\n  'object_type': 'Gene',\n  'description': 'transmembrane protein 98 [Source:HGNC Symbol;Acc:HGNC:24529]',\n  'strand': 1},\n 'ENSG00000006007': {'id': 'ENSG00000006007',\n  'db_type': 'core',\n  'assembly_name': 'GRCh38',\n  'logic_name': 'ensembl_havana_gene_homo_sapiens',\n  'display_name': 'GDE1',\n  'source': 'ensembl_havana',\n  'seq_region_name': '16',\n  'end': 19522123,\n  'species': 'homo_sapiens',\n  'start': 19501693,\n  'version': 12,\n  'biotype': 'protein_coding',\n  'object_type': 'Gene',\n  'strand': -1,\n  'description': 'glycerophosphodiester phosphodiesterase 1 [Source:HGNC Symbol;Acc:HGNC:29644]'},\n 'ENSG00000005981': {'start': 95478444,\n  'display_name': 'ASB4',\n  'source': 'ensembl_havana',\n  'end': 95540233,\n  'seq_region_name': '7',\n  'species': 'homo_sapiens',\n  'logic_name': 'ensembl_havana_gene_homo_sapiens',\n  'assembly_name': 'GRCh38',\n  'db_type': 'core',\n  'id': 'ENSG00000005981',\n  'description': 'ankyrin repeat and SOCS box containing 4 [Source:HGNC Symbol;Acc:HGNC:16009]',\n  'strand': 1,\n  'object_type': 'Gene',\n  'biotype': 'protein_coding',\n  'version': 13},\n 'ENSG00000005889': {'start': 24149173,\n  'logic_name': 'ensembl_havana_gene_homo_sapiens',\n  'end': 24216255,\n  'source': 'ensembl_havana',\n  'display_name': 'ZFX',\n  'species': 'homo_sapiens',\n  'seq_region_name': 'X',\n  'db_type': 'core',\n  'assembly_name': 'GRCh38',\n  'id': 'ENSG00000005889',\n  'strand': 1,\n  'description': 'zinc finger protein X-linked [Source:HGNC Symbol;Acc:HGNC:12869]',\n  'object_type': 'Gene',\n  'biotype': 'protein_coding',\n  'version': 15},\n 'ENSG00000006015': {'id': 'ENSG00000006015',\n  'db_type': 'core',\n  'assembly_name': 'GRCh38',\n  'logic_name': 'ensembl_havana_gene_homo_sapiens',\n  'source': 'ensembl_havana',\n  'display_name': 'REX1BD',\n  'end': 18592336,\n  'seq_region_name': '19',\n  'species': 'homo_sapiens',\n  'start': 18588685,\n  'version': 17,\n  'biotype': 'protein_coding',\n  'object_type': 'Gene',\n  'strand': 1,\n  'description': 'required for excision 1-B domain containing [Source:HGNC Symbol;Acc:HGNC:26098]'},\n 'ENSG00000006016': {'object_type': 'Gene',\n  'strand': -1,\n  'description': 'cytokine receptor like factor 1 [Source:HGNC Symbol;Acc:HGNC:2364]',\n  'version': 11,\n  'biotype': 'protein_coding',\n  'logic_name': 'ensembl_havana_gene_homo_sapiens',\n  'source': 'ensembl_havana',\n  'end': 18607741,\n  'display_name': 'CRLF1',\n  'seq_region_name': '19',\n  'species': 'homo_sapiens',\n  'start': 18572220,\n  'id': 'ENSG00000006016',\n  'db_type': 'core',\n  'assembly_name': 'GRCh38'},\n 'ENSG00000005955': None,\n 'ENSG00000005893': {'logic_name': 'ensembl_havana_gene_homo_sapiens',\n  'end': 120469365,\n  'source': 'ensembl_havana',\n  'display_name': 'LAMP2',\n  'seq_region_name': 'X',\n  'species': 'homo_sapiens',\n  'start': 120426148,\n  'id': 'ENSG00000005893',\n  'db_type': 'core',\n  'assembly_name': 'GRCh38',\n  'object_type': 'Gene',\n  'strand': -1,\n  'description': 'lysosomal associated membrane protein 2 [Source:HGNC Symbol;Acc:HGNC:6501]',\n  'version': 16,\n  'biotype': 'protein_coding'}}"
     },
     "metadata": {},
     "execution_count": 9
    }
   ],
   "source": [
    "res2"
   ]
  },
  {
   "cell_type": "code",
   "execution_count": 5,
   "metadata": {},
   "outputs": [
    {
     "output_type": "execute_result",
     "data": {
      "text/plain": "ENSG00000287636'],\n ['AARD', 'ENSG00000205002'],\n ['AC002066.1', 'ENSG00000237813'],\n ['AC004148.1', 'ENSG00000263272'],\n ['ABCB6', 'ENSG00000115657'],\n ['AC006947.1', 'ENSG00000229330'],\n ['AC003984.1', 'ENSG00000235139'],\n ['AC006499.2', 'ENSG00000250074'],\n ['AC003006.1', 'ENSG00000269026'],\n ['AC005537.2', 'ENSG00000232006'],\n ['AANAT', 'ENSG00000129673'],\n ['ABL2', 'ENSG00000143322'],\n ['AC005625.1', 'ENSG00000266963'],\n ['AC004771.1', 'ENSG00000234203'],\n ['ABCC9', 'ENSG00000069431'],\n ['ABI2', 'ENSG00000138443'],\n ['AC000124.1', 'ENSG00000226770'],\n ['ABHD13', 'ENSG00000139826'],\n ['AC005943.2', 'ENSG00000279009'],\n ['ABI3BP', 'ENSG00000154175'],\n ['AC002511.1', 'ENSG00000232680'],\n ['AC004063.1', 'ENSG00000250670'],\n ['AC003043.2', 'ENSG00000267211'],\n ['AC004562.1', 'ENSG00000199801'],\n ['AC005307.1', 'ENSG00000260725'],\n ['AC005154.5', 'ENSG00000281039'],\n ['ABCD1', 'ENSG00000101986'],\n ['AC002480.2', 'ENSG00000232949'],\n ['AC006328.1', 'ENSG00000233619'],\n ['AC004079.1', 'ENSG00000274396'],\n ['AC007003.1', 'ENSG00000231183'],\n ['AC006335.2', 'ENSG00000275352'],\n ['AC002070.1', 'ENSG00000248636'],\n ['AC005336.2', 'ENSG00000267218'],\n ['AC004492.1', 'ENSG00000272072'],\n ['AAK1', 'ENSG00000115977'],\n ['AC005071.1', 'ENSG00000201913'],\n ['AC005786.3', 'ENSG00000267436'],\n ['AACSP1', 'ENSG00000250420'],\n ['AC005255.1', 'ENSG00000256210'],\n ['ABHD5', 'ENSG00000011198'],\n ['ABCC6', 'ENSG00000091262'],\n ['AC000374.1', 'ENSG00000227249'],\n ['AC004866.1', 'ENSG00000223514'],\n ['AC004054.1', 'ENSG00000248984'],\n ['AC005772.2', 'ENSG00000287307'],\n ['AACS', 'ENSG00000081760'],\n ['ABCC5', 'ENSG00000114770'],\n ['AC004069.2', 'ENSG00000251473'],\n ['AC005000.2', 'ENSG00000270431'],\n ['AC006499.7', 'ENSG00000251338'],\n ['AC002558.1', 'ENSG00000239291'],\n ['AC005000.1', 'ENSG00000228532'],\n ['AC004980.1', 'ENSG00000205485'],\n ['ABCG1', 'ENSG00000160179'],\n ['AC006372.4', 'ENSG00000280266'],\n ['AC006041.1', 'ENSG00000229379'],\n ['AC003077.1', 'ENSG00000287011'],\n ['ABCC12', 'ENSG00000140798'],\n ['ABCD1P5', 'ENSG00000214330'],\n ['ABCD2', 'ENSG00000173208'],\n ['AC006196.1', 'ENSG00000252517'],\n ['AC006483.1', 'ENSG00000228974'],\n ['ABHD4', 'ENSG00000100439'],\n ['AC006460.2', 'ENSG00000284052'],\n ['AC005618.1', 'ENSG00000272070'],\n ['ABLIM2', 'ENSG00000163995'],\n ['ABHD17C', 'ENSG00000136379'],\n ['ABCC6P2', 'ENSG00000255277'],\n ['AC002386.1', 'ENSG00000230941'],\n ['ABHD15', 'ENSG00000168792'],\n ['ABCA9-AS1', 'ENSG00000231749'],\n ['ABHD16B', 'ENSG00000183260'],\n ['AC005730.2', 'ENSG00000261033'],\n ['AC007114.1', 'ENSG00000263004'],\n ['AC005020.1', 'ENSG00000224448'],\n ['AC004009.3', 'ENSG00000279655'],\n ['AC004837.4', 'ENSG00000287584'],\n ['AC003009.1', 'ENSG00000262011'],\n ['AC003988.1', 'ENSG00000234223'],\n ['ABCC13', 'ENSG00000243064'],\n ['AC005838.1', 'ENSG00000223544'],\n ['AC005838.2', 'ENSG00000252129'],\n ['ABHD1', 'ENSG00000143994'],\n ['AC005498.3', 'ENSG00000269696'],\n ['AC002365.1', 'ENSG00000206844'],\n ['AC003985.1', 'ENSG00000233824'],\n ['AC005355.2', 'ENSG00000280420'],\n ['AC005178.1', 'ENSG00000251243'],\n ['AADACL3', 'ENSG00000188984'],\n ['AAR2', 'ENSG00000131043'],\n ['ABCB1', 'ENSG00000085563'],\n ['AC004980.8', 'ENSG00000282580'],\n ['AC004053.1', 'ENSG00000248242'],\n ['AC006150.1', 'ENSG00000226323'],\n ['AC006499.5', 'ENSG00000251278'],\n ['AC005392.1', 'ENSG00000227606'],\n ['AC005281.1', 'ENSG00000225606'],\n ['AC003035.1', 'ENSG00000212663'],\n ['AC005034.2', 'ENSG00000230477'],\n ['ABHD14A-ACY1', 'ENSG00000114786'],\n ['AAAS', 'ENSG00000094914'],\n ['ABLIM1', 'ENSG00000099204'],\n ['AC005071.2', 'ENSG00000287631'],\n ['AC004797.1', 'ENSG00000177369'],\n ['ABHD8', 'ENSG00000127220'],\n ['AC005086.5', 'ENSG00000280404'],\n ['ABCA10', 'ENSG00000154263'],\n ['AC004917.1', 'ENSG00000243797'],\n ['ABL1', 'ENSG00000097007'],\n ['ABHD3', 'ENSG00000158201'],\n ['ABTB2', 'ENSG00000166016'],\n ['ABCA11P', 'ENSG00000251595'],\n ['AC000367.1', 'ENSG00000224981'],\n ['AC003958.2', 'ENSG00000234859'],\n ['AC007036.4', 'ENSG00000283618'],\n ['AC005013.1', 'ENSG00000228421'],\n ['ABCC11', 'ENSG00000121270'],\n ['AC005086.3', 'ENSG00000279724'],\n ['AC002331.1', 'ENSG00000286712'],\n ['A2MP1', 'ENSG00000256069'],\n ['ABCC5-AS1', 'ENSG00000223882'],\n ['AC006427.2', 'ENSG00000286888'],\n ['ABCG4', 'ENSG00000172350'],\n ['AATF', 'ENSG00000275700'],\n ['AC007179.1', 'ENSG00000231815'],\n ['AASS', 'ENSG00000008311'],\n ['AADACL2', 'ENSG00000197953'],\n ['AC006427.1', 'ENSG00000248851'],\n ['AC006539.1', 'ENSG00000240673'],\n ['AC006076.1', 'ENSG00000225563'],\n ['ABHD6', 'ENSG00000163686'],\n ['AC005544.1', 'ENSG00000264491'],\n ['ABCC2', 'ENSG00000023839'],\n ['ABCC6P1', 'ENSG00000256340'],\n ['ABCA9', 'ENSG00000154258'],\n ['AC002553.1', 'ENSG00000227782'],\n ['ABHD11', 'ENSG00000106077'],\n ['AC003070.1', 'ENSG00000267344'],\n ['ABHD17A', 'ENSG00000129968'],\n ['ABRA', 'ENSG00000174429'],\n ['AC004947.2', 'ENSG00000280255'],\n ['AC007098.1', 'ENSG00000231609'],\n ['AARSD1', 'ENSG00000266967'],\n ['AC005702.2', 'ENSG00000267526'],\n ['AC006296.3', 'ENSG00000287360'],\n ['ABO', 'ENSG00000175164'],\n ['ABCD1P2', 'ENSG00000215151'],\n ['AC006499.6', 'ENSG00000251296'],\n ['AC005863.1', 'ENSG00000205325'],\n ['AC005034.3', 'ENSG00000270462'],\n ['AC005086.1', 'ENSG00000252824'],\n ['AC005280.1', 'ENSG00000251393'],\n ['ABCA4', 'ENSG00000198691'],\n ['AC006499.1', 'ENSG00000248777'],\n ['AC002511.3', 'ENSG00000283479'],\n ['AC005237.2', 'ENSG00000235861'],\n ['A1CF', 'ENSG00000148584'],\n ['ABHD11-AS1', 'ENSG00000225969'],\n ['A2ML1-AS1', 'ENSG00000256661'],\n ['AC006557.1', 'ENSG00000267150'],\n ['AC004870.4', 'ENSG00000232072'],\n ['AC005592.2', 'ENSG00000287203'],\n ['AC005631.1', 'ENSG00000253088'],\n ['AC005609.1', 'ENSG00000278901'],\n ['AC005703.3', 'ENSG00000265445'],\n ['AADAC', 'ENSG00000114771'],\n ['AC006115.1', 'ENSG00000268407'],\n ['AC004448.5', 'ENSG00000287196'],\n ['AC000041.8', None],\n ['AC005592.3', None],\n ['AC006133.3', None],\n ['AC006987.5', None],\n ['AC004231.7', None],\n ['AC000111.4', None],\n ['AC004062.2', None],\n ['AC004878.7', None],\n ['AC002366.3', None],\n ['AC005041.11', None],\n ['AC005077.8', None],\n ['AC004790.3', None],\n ['AC006465.4', None],\n ['AC002398.5', None],\n ['AC005954.4', None],\n ['AC005205.3', None],\n ['AC007036.6', None],\n ['AC005606.15', None],\n ['AC005029.1', None],\n ['AC005037.3', None],\n ['AC006042.8', None],\n ['AC006989.2', None],\n ['AC005265.1', None],\n ['AC004237.1', None],\n ['AC006026.9', None],\n ['AC006335.11', None],\n ['AC005062.2', None],\n ['AC006355.3', None],\n ['AC007131.3', None],\n ['AC002398.11', None],\n ['AC006014.8', None],\n ['AC002994.1', None],\n ['AC004692.5', None],\n ['AC004851.2', None],\n ['AC006953.1', None],\n ['AC005088.2', None],\n ['AC006014.10', None],\n ['AC006033.22', None],\n ['AC002117.1', None],\n ['AC003986.6', None],\n ['AC000032.2', None],\n ['AC006926.1', None],\n ['AC005895.4', None],\n ['AC004699.1', None],\n ['AC005550.3', None],\n ['AC002314.2', None],\n ['AC005205.4', None],\n ['AC007056.1', None],\n ['AC007064.25', None],\n ['AC007163.4', None],\n ['AC006011.4', None],\n ['AC000059.1', None],\n ['ABC13-48559800H2.1', None],\n ['AC005022.1', None],\n ['ABC11-48400900C8.1', None],\n ['ABC9-43961700F1.1', None],\n ['AC005086.8', None],\n ['AC005037.4', None],\n ['AC004909.3', None],\n ['AC005616.2', None],\n ['AC004006.2', None],\n ['AC004967.11', None],\n ['ABC7-42391500H16.2', None],\n ['AC006116.22', None],\n ['AC004920.2', None],\n ['AC004381.6', None],\n ['AC005300.5', None],\n ['AC005682.6', None],\n ['AC004161.4', None],\n ['AC000370.2', None],\n ['AC004656.1', None],\n ['AC006978.6', None],\n ['AC004475.1', None],\n ['AB019438.66', None],\n ['AC004870.5', None],\n ['AC004851.1', None],\n ['AC005779.2', None],\n ['AC002519.8', None],\n ['AC003002.6', None],\n ['AC007041.2', None],\n ['AC006335.6', None],\n ['AC006461.2', None],\n ['AC005493.1', None],\n ['AC004166.7', None],\n ['AC003102.3', None],\n ['AC002978.1', None],\n ['AC006960.5', None],\n ['AC007000.12', None],\n ['AC005757.7', None],\n ['AC004659.1', None],\n ['AC004907.2', None],\n ['AC006390.4', None],\n ['AC005944.2', None],\n ['AC004066.2', None],\n ['AC005391.3', None],\n ['AC006380.3', None],\n ['AC004894.2', None],\n ['AC004125.3', None],\n ['AC006130.4', None],\n ['AC005258.3', None],\n ['AC005534.8', None],\n ['AC004741.3', None],\n ['AC002550.5', None],\n ['7SK', None],\n ['AC005161.1', None],\n ['AC006466.5', None],\n ['AC006080.1', None],\n ['AC004967.8', None],\n ['AC006116.19', None],\n ['AC005741.2', None],\n ['AC006483.5', None],\n ['AC006273.7', None],\n ['AC004543.2', None],\n ['AC005237.4', None],\n ['AC004901.1', None],\n ['AC005336.4', None],\n ['AC005392.8', None],\n ['AC006465.3', None],\n ['AC004899.3', None],\n ['AC005009.2', None],\n ['AC006230.4', None],\n ['1060P11.3', None],\n ['AC005281.2', None],\n ['AC005162.3', None],\n ['AC002115.5', None],\n ['AC005330.2', None],\n ['AC005017.2', None],\n ['AC006552.1', None],\n ['AC005329.7', None],\n ['AC006160.4', None],\n ['AC006445.8', None],\n ['AC007040.6', None],\n ['AC006160.5', None],\n ['AC002076.10', None],\n ['AC000093.3', None],\n ['AC005484.5', None],\n ['AC006262.5', None],\n ['AC006372.6', None],\n ['AACP', None],\n ['AC004906.3', None],\n ['AC005779.1', None],\n ['AC005067.1', None],\n ['AC005488.13', None],\n ['AC006277.2', None],\n ['AC003665.1', None],\n ['AC005621.1', None],\n ['AC005559.2', None],\n ['AC004549.6', None],\n ['AC004540.4', None],\n ['AC004863.6', None],\n ['AC002485.1', None],\n ['AC007163.3', None],\n ['AC005559.3', None],\n ['AC006534.2', None],\n ['AC005162.5', None],\n ['AC007064.22', None],\n ['AC004152.5', None],\n ['AC005775.2', None],\n ['AC004987.10', None],\n ['AC002429.4', None],\n ['AC003045.1', None],\n ['AC004463.6', None],\n ['AC004987.9', None],\n ['AC004221.2', None],\n ['AC006322.1', None],\n ['AC005550.6', None],\n ['AC004460.1', None],\n ['AC007040.7', None],\n ['AC006445.7', None],\n ['AC004595.1', None],\n ['AC006115.3', None],\n ['AB019439.68', None],\n ['AC004840.8', None],\n ['AC005510.1', None],\n ['AC004528.5', None],\n ['AC006024.4', None],\n ['AC006035.2', None],\n ['AC004980.10', None],\n ['AC007131.1', None],\n ['AC006132.1', None],\n ['AC005513.1', None],\n ['AC005534.9', None],\n ['AC005517.3', None],\n ['AC004129.7', None],\n ['AC005392.13', None],\n ['AC004016.1', None],\n ['AC004603.4', None],\n ['AC007025.1', None],\n ['AC002127.4', None],\n ['AC004510.3', None],\n ['AC005077.9', None],\n ['AB015752.4', None],\n ['AC006070.11', None],\n ['AC002984.2', None],\n ['AC004538.3', None],\n ['AC006335.7', None],\n ['AC005094.2', None],\n ['AC005926.1', None],\n ['AC005301.8', None],\n ['AC004824.1', None],\n ['AC006070.13', None],\n ['AC002055.4', None],\n ['AC005895.3', None],\n ['AC006547.13', None],\n ['AC006159.3', None],\n ['AC007050.17', None],\n ['AC002398.12', None],\n ['AC005154.9', None],\n ['AC006026.13', None],\n ['AC002429.5', None],\n ['ABBA01057584.1', None],\n ['AC005086.6', None],\n ['AC007163.10', None],\n ['AC005082.12', None],\n ['AC004957.5', None],\n ['AC004951.5', None],\n ['AC004540.5', None],\n ['AC006548.20', None],\n ['AC002477.1', None],\n ['AC005358.3', None],\n ['AC005324.8-001', None],\n ['AC004535.2', None],\n ['AC004623.2', None],\n ['AC005375.1', None],\n ['AC002467.7', None],\n ['AC006028.10', None],\n ['AC006987.7', None],\n ['AC002116.7', None],\n ['AC004878.2', None],\n ['AC007161.5', None],\n ['AC005235.1', None],\n ['AC006150.2', None],\n ['AC006157.2', None],\n ['AC004383.3', None],\n ['AC004996.1', None],\n ['AC000089.3', None],\n ['AC007115.3', None],\n ['AC005262.3', None],\n ['AC006003.3', None],\n ['AC005789.11', None],\n ['AC004019.13', None],\n ['AC005777.3', None],\n ['AC000099.1', None],\n ['ABP1', None],\n ['AC005863.2', None],\n ['AC003090.1', None],\n ['AC006116.14', None],\n ['AC006548.19', None],\n ['AC004070.1', None],\n ['AC000094.3', None],\n ['AC004017.1', None],\n ['AC004166.6', None],\n ['AC004837.5', None],\n ['AC002454.1', None],\n ['AC004449.6', None],\n ['AC003986.5', None],\n ['AC005037.6', None],\n ['AC002069.5', None],\n ['AB019440.1', None],\n ['AC004790.5', None],\n ['AC006366.3', None],\n ['AB019441.29', None],\n ['AC007040.10', None],\n ['AC004461.4', None],\n ['AC006509.4', None],\n ['AC006335.12', None],\n ['AC006026.12', None],\n ['AC003080.4', None],\n ['AC004980.9', None],\n ['AC006126.4', None],\n ['AC007163.6', None],\n ['AC006129.4', None],\n ['AC004156.3', None],\n ['AC006994.2', None],\n ['AC005306.3', None],\n ['AC006481.1', None],\n ['AC005498.4', None],\n ['AC005105.2', None],\n ['AC005522.7', None],\n ['AC005943.5', None],\n ['AC004878.3', None],\n ['AC005284.1', None],\n ['AC006273.5', None],\n ['AC007016.3', None],\n ['AC005757.6', None],\n ['AC007163.9', None],\n ['AC004691.5', None],\n ['AC006023.8', None],\n ['AC004510.2', None],\n ['AC005076.5', None],\n ['AC006373.1', None],\n ['AB015752.3', None],\n ['AC005003.1', None],\n ['AC000003.1', None],\n ['AC000077.2', None],\n ['AC004112.4', None],\n ['AC006160.8', None],\n ['AC005189.6', None],\n ['AC000078.5', None],\n ['AC005008.3', None],\n ['AC007040.8', None],\n ['AC007040.11', None],\n ['AC005488.11', None],\n ['AC007131.2', None],\n ['AC004593.3', None],\n ['AC004051.2', None],\n ['AC005077.12', None],\n ['AC005686.1', None],\n ['AC006116.26', None],\n ['AC004941.3', None],\n ['AC000111.5', None],\n ['AC002310.10', None],\n ['AC005550.5', None],\n ['AC004954.2', None],\n ['AC005326.2', None],\n ['AC006946.15', None],\n ['AC002480.5', None],\n ['AC003958.6', None],\n ['AC004014.3', None],\n ['AC005971.3', None],\n ['AC006116.20', None],\n ['AC004478.2', None],\n ['AC005954.3', None],\n ['AC004076.9', None],\n ['AC005229.7', None],\n ['AC006116.15', None],\n ['AC000035.3', None],\n ['AC005019.3', None],\n ['AC005540.3', None],\n ['AC006988.1', None],\n ['ABHD11-AS2', None],\n ['AC004258.1', None],\n ['AC006328.9', None],\n ['AC003968.1', None],\n ['AC003989.4', None],\n ['AC005264.2', None],\n ['AC006145.4', None],\n ['AC004471.9', None],\n ['AC006026.10', None],\n ['AC005154.6', None],\n ['AC006369.3', None],\n ['AC006116.27', None],\n ['AC006445.6', None],\n ['A3GALT2P', None],\n ['AC002519.6', None],\n ['AC005546.2', None],\n ['AC004893.11', None],\n ['AC004458.1', None],\n ['AC002553.4', None],\n ['AC003658.1', None],\n ['AC006547.14', None],\n ['AC007050.18', None],\n ['AC004744.3', None],\n ['AC004889.1', None],\n ['AC004878.8', None],\n ['AC002069.6', None],\n ['AC002056.5', None],\n ['AC002383.2', None],\n ['AC002398.9', None],\n ['AC003088.1', None],\n ['AC003986.7', None],\n ['AC005522.6', None],\n ['AC005154.8', None],\n ['AC005307.3', None],\n ['AC003989.3', None],\n ['AC006052.1', None],\n ['AC004507.1', None],\n ['AC002467.5', None],\n ['AC004893.10', None],\n ['AC005077.5', None],\n ['AC002314.4', None],\n ['AC005086.7', None],\n ['AC004941.5', None],\n ['AC006458.3', None],\n ['AC005363.9', None],\n ['AC003079.1', None],\n ['AC002321.2', None],\n ['AC002064.5', None],\n ['AC004076.7', None],\n ['AC005077.7', None],\n ['AC000068.5', None],\n ['AC003087.4', None],\n ['AC002075.4', None],\n ['AC004769.1', None],\n ['AC006116.13', None],\n ['AC006995.8', None],\n ['AC000123.4', None],\n ['AC002398.13', None],\n ['AC006335.10', None],\n ['AC005701.1', None],\n ['AC004158.3', None],\n ['AC006960.7', None],\n ['AC006534.1', None],\n ['AC002992.1', None],\n ['AC006994.3', None],\n ['AC005042.4', None],\n ['AC000364.1', None],\n ['AC004876.1', None],\n ['AC003075.4', None],\n ['AC004383.4', None],\n ['AC006038.4', None],\n ['AC006509.7', None],\n ['AC006014.7', None],\n ['AC005013.5', None],\n ['AC007000.11', None],\n ['AC006987.4', None],\n ['AC007000.10', None],\n ['AC005033.6', None],\n ['AC006390.3', None],\n ['AC006153.3', None],\n ['ABC7-42389800N19.1', None],\n ['AC005152.3', None],\n ['AC004528.4', None],\n ['AC006377.1', None],\n ['AC005220.3', None],\n ['AC006019.4', None],\n ['AC005808.3', None],\n ['AC004160.4', None],\n ['AC006946.12', None],\n ['AC002486.3', None],\n ['AC004878.5', None],\n ['AC002115.9', None],\n ['AC004938.5', None],\n ['AC005786.7', None],\n ['AC002310.7', None],\n ['AC004702.2', None],\n ['AC005606.14', None],\n ['AC006227.1', None],\n ['AC004980.11', None],\n ['AC004854.4', None],\n ['AC005370.1', None],\n ['AC004016.2', None],\n ['AC005539.2', None],\n ['AC005041.17', None],\n ['AC002992.4', None],\n ['AC004869.3', None],\n ['AC002310.17', None],\n ['AC003051.1', None],\n ['AC005481.5', None],\n ['AC005042.3', None],\n ['AC004655.1', None],\n ['AC004854.5', None],\n ['AC004381.7', None],\n ['AC002539.2', None],\n ['AC005150.1', None],\n ['AC006116.17', None],\n ['AC005789.9', None],\n ['AC006050.2', None],\n ['AC005204.2', None],\n ['AC005205.2', None],\n ['AC004022.7', None],\n ['AC005159.1', None],\n ['AC006293.3', None],\n ['AC005538.5', None],\n ['AC005046.5', None],\n ['AC002310.12', None],\n ['AC004692.4', None],\n ['AC006022.4', None],\n ['AC005549.2', None],\n ['AC005324.7', None],\n ['AC002480.3', None],\n ['AC004985.12', None],\n ['AC003029.1', None],\n ['AC002480.4', None],\n ['AC005336.5', None],\n ['AC006042.6', None],\n ['AC004112.5', None],\n ['AC002979.1', None],\n ['AC005251.4', None],\n ['AC006026.11', None],\n ['AC004159.1', None],\n ['AC005154.7', None],\n ['AC004485.3', None],\n ['AC006326.3', None],\n ['AC006028.11', None],\n ['AC003104.1', None],\n ['AC004673.1', None],\n ['AC005943.4', None],\n ['AC006159.4', None],\n ['AC006156.1', None],\n ['AATK-AS1', None],\n ['AC006035.1', None],\n ['AC006195.2', None],\n ['AC003991.3', None],\n ['AC004987.8', None],\n ['AC006378.2', None],\n ['AC007041.1', None],\n ['AC002472.13', None],\n ['AC002472.11', None],\n ['AC002539.1', None],\n ['AC000111.6', None],\n ['AC002321.1', None],\n ['AAED1', None],\n ['AC004074.4', None],\n ['AC006374.2', None],\n ['AC005276.1', None],\n ['AC005391.2', None],\n ['AC006042.7', None],\n ['AC002066.2', None],\n ['AC006326.5', None],\n ['AC006045.3', None],\n ['AC002075.3', None],\n ['AC002310.13', None],\n ['AC005042.5', None],\n ['AC002310.11', None],\n ['AC004041.2', None],\n ['AC005534.6', None],\n ['AC006145.1', None],\n ['AC005077.14', None],\n ['AC000036.4', None],\n ['AC004129.9', None],\n ['AC004895.4', None],\n ['AC002127.2', None],\n ['AC003003.5', None],\n ['AC005786.5', None],\n ['AC007096.1', None],\n ['AC004866.3', None],\n ['AC004840.9', None],\n ['AC005014.5', None],\n ['A2LD1', None],\n ['AC000110.1', None],\n ['AC004022.8', None],\n ['AC002076.9', None],\n ['AC004878.6', None],\n ['AC006547.8', None],\n ['AC000120.7', None],\n ['AC005160.3', None],\n ['AB019438.63', None],\n ['AC005682.8', None],\n ['AC005780.1', None],\n ['AC004528.3', None],\n ['AC005035.1', None],\n ['AC006370.2', None],\n ['AC005783.1', None],\n ['AC003084.2', None],\n ['AC004862.6', None],\n ['AC005027.3', None],\n ['AC004112.7', None],\n ['AC005594.3', None],\n ['AC007163.11', None],\n ['AC004790.4', None],\n ['AC005162.4', None],\n ['AC005487.2', None],\n ['AC004014.4', None],\n ['AC004520.1', None],\n ['AC007009.2', None],\n ['AC006159.5', None],\n ['AC004967.7', None],\n ['AC002368.4', None],\n ['AC004240.2', None],\n ['AC005215.1', None],\n ['AC007038.7', None],\n ['AC002463.3', None],\n ['AC004158.2', None],\n ['AA06', None],\n ['AC004453.8', None],\n ['AC003664.1', None],\n ['AC005215.2', None],\n ['AC005550.4', None],\n ['AC004799.3', None],\n ['AC002116.8', None],\n ['AC005682.5', None],\n ['AC002519.5', None],\n ['AC004911.2', None],\n ['AC002511.4', None],\n ['AARS', None],\n ['AC005262.4', None],\n ['AC004745.1', None],\n ['AC004920.3', None],\n ['AC006371.1', None],\n ['AC005048.1', None],\n ['AC007064.24', None],\n ['AC006372.5', None],\n ['AC006070.12', None],\n ['AC004074.3', None],\n ['AC004066.3', None],\n ['AC005040.3', None],\n ['AC007050.1', None],\n ['AC006116.24', None],\n ['AC004951.6', None],\n ['AC006126.3', None],\n ['AC005588.2', None],\n ['AC005488.12', None],\n ['AC005007.3', None],\n ['AC002128.4', None],\n ['AC002465.2', None],\n ['AC002523.1', None],\n ['AC005519.4', None],\n ['AC005754.1', None],\n ['AC005682.7', None],\n ['AC006987.6', None],\n ['AC004791.2', None],\n ['ABC12-47043100G14.2', None],\n ['AC002400.1', None],\n ['AC006116.21', None],\n ['AC003009.2', None],\n ['AC006432.1', None],\n ['AC006000.5', None],\n ['AC006028.9', None],\n ['AC002451.3', None],\n ['AC007040.5', None],\n ['AC007163.8', None],\n ['ABC13-48559800H2.2', None],\n ['AC005624.2', None],\n ['AC004924.1', None],\n ['AC005356.1', None],\n ['AC006509.6', None],\n ['AC004019.10', None],\n ['AC006004.1', None],\n ['AC005195.1', None],\n ['AC006378.3', None],\n ['AC000111.3', None],\n ['AC005532.5', None],\n ...]"
     },
     "metadata": {},
     "execution_count": 5
    }
   ],
   "source": [
    "symbol_lookup_list"
   ]
  },
  {
   "cell_type": "markdown",
   "metadata": {},
   "source": [
    "## (2) Return a list of symbols and corresponding IDs identified using the symbol lookup REST function of Ensembl given the symbols in a text file called to_lookup.txt"
   ]
  },
  {
   "cell_type": "code",
   "execution_count": 2,
   "metadata": {},
   "outputs": [
    {
     "output_type": "stream",
     "name": "stdout",
     "text": "[1] Given 1000 symbols, we identified 311 of them\n[2] Given 1000 symbols, we identified 477 of them\n[3] Given 1000 symbols, we identified 457 of them\n[4] Given 1000 symbols, we identified 462 of them\n[5] Given 1000 symbols, we identified 470 of them\n[6] Given 1000 symbols, we identified 424 of them\n[7] Given 1000 symbols, we identified 180 of them\n[8] Given 1000 symbols, we identified 82 of them\n[9] Given 1000 symbols, we identified 0 of them\n[10] Given 1000 symbols, we identified 22 of them\n[11] Given 1000 symbols, we identified 17 of them\n[12] Given 1000 symbols, we identified 0 of them\n[13] Given 1000 symbols, we identified 10 of them\n[14] Given 1000 symbols, we identified 0 of them\n[15] Given 1000 symbols, we identified 0 of them\n[16] Given 1000 symbols, we identified 0 of them\n[17] Given 1000 symbols, we identified 0 of them\n[18] Given 1000 symbols, we identified 0 of them\n[19] Given 1000 symbols, we identified 0 of them\n[20] Given 1000 symbols, we identified 0 of them\n[21] Given 1000 symbols, we identified 0 of them\n[22] Given 1000 symbols, we identified 0 of them\n[23] Given 1000 symbols, we identified 0 of them\n[24] Given 1000 symbols, we identified 0 of them\n[25] Given 1000 symbols, we identified 0 of them\n[26] Given 1000 symbols, we identified 0 of them\n[27] Given 1000 symbols, we identified 0 of them\n[28] Given 695 symbols, we identified 36 of them\n"
    }
   ],
   "source": [
    "max_post_size = 1000\n",
    "res = tc.get_lookup_list(project_dir, max_post_size=max_post_size)"
   ]
  },
  {
   "cell_type": "markdown",
   "metadata": {},
   "source": [
    "## (3) Load the lookup table, add the new entries to it, and save it to disk"
   ]
  },
  {
   "cell_type": "code",
   "execution_count": 34,
   "metadata": {},
   "outputs": [
    {
     "output_type": "stream",
     "name": "stdout",
     "text": "2948 lookup pairs have been recorded; 27695 null before, 24747 null after\nCreating pickle file /data/BIDS-HPC/private/projects/dmi/data/lookup_table_after_symbol_lookup.pkl...\n"
    }
   ],
   "source": [
    "# Import relevant modules\n",
    "import pandas as pd\n",
    "import numpy as np\n",
    "gmb_dir = '/data/BIDS-HPC/private/projects/gmb/checkout'\n",
    "if gmb_dir not in sys.path:\n",
    "    sys.path.append(gmb_dir)\n",
    "import time_cell_interaction_lib as tci # we need this to get the make_pickle() function\n",
    "\n",
    "# Load the first-pass of the global lookup table using Pandas\n",
    "lookup = pd.read_csv(os.path.join(project_dir,'data','partial_global_lookup_table.txt'), sep='\\t', names=['status','name','id'], index_col='name')\n",
    "\n",
    "# Count how many null IDs there are\n",
    "nnull_before = np.sum(pd.isnull(lookup.loc[:,'id']))\n",
    "\n",
    "# Use the list generated in Step (2) to add IDs to the lookup table\n",
    "for pair in res:\n",
    "    lookup.loc[pair[0],:] = ['lookup:', pair[1]]\n",
    "\n",
    "# Count how many null IDs there are\n",
    "nnull_after = np.sum(pd.isnull(lookup.loc[:,'id']))\n",
    "\n",
    "# Print how we improved the lookup table\n",
    "print('{} lookup pairs have been recorded; {} null before, {} null after'.format(len(res), nnull_before, nnull_after))\n",
    "\n",
    "# Save the new lookup table in the data directory\n",
    "tci.make_pickle(lookup, os.path.join(project_dir,'data'), 'lookup_table_after_symbol_lookup.pkl')"
   ]
  },
  {
   "cell_type": "code",
   "execution_count": null,
   "metadata": {},
   "outputs": [],
   "source": [
    "lookup = tci.load_pickle(os.path.join(project_dir,'data'), 'lookup_table_after_symbol_lookup.pkl')"
   ]
  },
  {
   "cell_type": "code",
   "execution_count": 7,
   "metadata": {},
   "outputs": [
    {
     "output_type": "execute_result",
     "data": {
      "text/plain": "{'c', 'e', 'f'}"
     },
     "metadata": {},
     "execution_count": 7
    }
   ],
   "source": [
    "set(['a','c','d','e','f']) - set(['a','b','d'])\n"
   ]
  },
  {
   "cell_type": "code",
   "execution_count": 35,
   "metadata": {},
   "outputs": [
    {
     "output_type": "stream",
     "name": "stdout",
     "text": "Reading pickle file /data/BIDS-HPC/private/projects/dmi/data/lookup_table_after_symbol_lookup.pkl...\n"
    }
   ],
   "source": [
    "bleh = tci.load_pickle(os.path.join(project_dir,'data'), 'lookup_table_after_symbol_lookup.pkl')"
   ]
  },
  {
   "cell_type": "code",
   "execution_count": 41,
   "metadata": {},
   "outputs": [
    {
     "output_type": "execute_result",
     "data": {
      "text/plain": "True"
     },
     "metadata": {},
     "execution_count": 41
    }
   ],
   "source": [
    "lookup.equals(bleh)"
   ]
  },
  {
   "cell_type": "code",
   "execution_count": 31,
   "metadata": {},
   "outputs": [
    {
     "output_type": "execute_result",
     "data": {
      "text/plain": "24747"
     },
     "metadata": {},
     "execution_count": 31
    }
   ],
   "source": [
    "np.sum(lookup.loc[:,'status'] == 'unmatched:')"
   ]
  },
  {
   "cell_type": "code",
   "execution_count": 13,
   "metadata": {},
   "outputs": [
    {
     "output_type": "execute_result",
     "data": {
      "text/plain": "                     status               id\nname                                        \nENSG00000000003     lookup:  ENSG00000000003\nENSG00000000005     lookup:  ENSG00000000005\nENSG00000000419     lookup:  ENSG00000000419\nENSG00000000457     lookup:  ENSG00000000457\nENSG00000000460     lookup:  ENSG00000000460\n...                     ...              ...\nZNRD1            unmatched:              NaN\nZNRD1-AS1        unmatched:              NaN\nZRSR1            unmatched:              NaN\nZSCAN5D          unmatched:              NaN\nZUFSP            unmatched:              NaN\n\n[128610 rows x 2 columns]",
      "text/html": "<div>\n<style scoped>\n    .dataframe tbody tr th:only-of-type {\n        vertical-align: middle;\n    }\n\n    .dataframe tbody tr th {\n        vertical-align: top;\n    }\n\n    .dataframe thead th {\n        text-align: right;\n    }\n</style>\n<table border=\"1\" class=\"dataframe\">\n  <thead>\n    <tr style=\"text-align: right;\">\n      <th></th>\n      <th>status</th>\n      <th>id</th>\n    </tr>\n    <tr>\n      <th>name</th>\n      <th></th>\n      <th></th>\n    </tr>\n  </thead>\n  <tbody>\n    <tr>\n      <th>ENSG00000000003</th>\n      <td>lookup:</td>\n      <td>ENSG00000000003</td>\n    </tr>\n    <tr>\n      <th>ENSG00000000005</th>\n      <td>lookup:</td>\n      <td>ENSG00000000005</td>\n    </tr>\n    <tr>\n      <th>ENSG00000000419</th>\n      <td>lookup:</td>\n      <td>ENSG00000000419</td>\n    </tr>\n    <tr>\n      <th>ENSG00000000457</th>\n      <td>lookup:</td>\n      <td>ENSG00000000457</td>\n    </tr>\n    <tr>\n      <th>ENSG00000000460</th>\n      <td>lookup:</td>\n      <td>ENSG00000000460</td>\n    </tr>\n    <tr>\n      <th>...</th>\n      <td>...</td>\n      <td>...</td>\n    </tr>\n    <tr>\n      <th>ZNRD1</th>\n      <td>unmatched:</td>\n      <td>NaN</td>\n    </tr>\n    <tr>\n      <th>ZNRD1-AS1</th>\n      <td>unmatched:</td>\n      <td>NaN</td>\n    </tr>\n    <tr>\n      <th>ZRSR1</th>\n      <td>unmatched:</td>\n      <td>NaN</td>\n    </tr>\n    <tr>\n      <th>ZSCAN5D</th>\n      <td>unmatched:</td>\n      <td>NaN</td>\n    </tr>\n    <tr>\n      <th>ZUFSP</th>\n      <td>unmatched:</td>\n      <td>NaN</td>\n    </tr>\n  </tbody>\n</table>\n<p>128610 rows × 2 columns</p>\n</div>"
     },
     "metadata": {},
     "execution_count": 13
    }
   ],
   "source": [
    "lookup"
   ]
  },
  {
   "cell_type": "code",
   "execution_count": 27,
   "metadata": {},
   "outputs": [
    {
     "output_type": "stream",
     "name": "stdout",
     "text": "27695\n"
    }
   ],
   "source": [
    "print(np.sum(pd.isnull(lookup.loc[:,'id'])))"
   ]
  },
  {
   "cell_type": "code",
   "execution_count": 32,
   "metadata": {},
   "outputs": [
    {
     "output_type": "execute_result",
     "data": {
      "text/plain": "status            lookup:\nid        ENSG00000253801\nName: AC010376.1, dtype: object"
     },
     "metadata": {},
     "execution_count": 32
    }
   ],
   "source": [
    "#lookup.loc['ENSG00000000457','id'] = 'andrew'\n",
    "lookup.loc['AC010376.1',:]"
   ]
  },
  {
   "cell_type": "code",
   "execution_count": 11,
   "metadata": {},
   "outputs": [
    {
     "output_type": "error",
     "ename": "KeyError",
     "evalue": "'AC009161.1'",
     "traceback": [
      "\u001b[0;31m---------------------------------------------------------------------------\u001b[0m",
      "\u001b[0;31mKeyError\u001b[0m                                  Traceback (most recent call last)",
      "\u001b[0;32m/data/weismanal/miniconda3/envs/myenv/lib/python3.7/site-packages/pandas/core/indexes/base.py\u001b[0m in \u001b[0;36mget_loc\u001b[0;34m(self, key, method, tolerance)\u001b[0m\n\u001b[1;32m   2645\u001b[0m             \u001b[0;32mtry\u001b[0m\u001b[0;34m:\u001b[0m\u001b[0;34m\u001b[0m\u001b[0;34m\u001b[0m\u001b[0m\n\u001b[0;32m-> 2646\u001b[0;31m                 \u001b[0;32mreturn\u001b[0m \u001b[0mself\u001b[0m\u001b[0;34m.\u001b[0m\u001b[0m_engine\u001b[0m\u001b[0;34m.\u001b[0m\u001b[0mget_loc\u001b[0m\u001b[0;34m(\u001b[0m\u001b[0mkey\u001b[0m\u001b[0;34m)\u001b[0m\u001b[0;34m\u001b[0m\u001b[0;34m\u001b[0m\u001b[0m\n\u001b[0m\u001b[1;32m   2647\u001b[0m             \u001b[0;32mexcept\u001b[0m \u001b[0mKeyError\u001b[0m\u001b[0;34m:\u001b[0m\u001b[0;34m\u001b[0m\u001b[0;34m\u001b[0m\u001b[0m\n",
      "\u001b[0;32mpandas/_libs/index.pyx\u001b[0m in \u001b[0;36mpandas._libs.index.IndexEngine.get_loc\u001b[0;34m()\u001b[0m\n",
      "\u001b[0;32mpandas/_libs/index.pyx\u001b[0m in \u001b[0;36mpandas._libs.index.IndexEngine.get_loc\u001b[0;34m()\u001b[0m\n",
      "\u001b[0;32mpandas/_libs/index_class_helper.pxi\u001b[0m in \u001b[0;36mpandas._libs.index.Int64Engine._check_type\u001b[0;34m()\u001b[0m\n",
      "\u001b[0;31mKeyError\u001b[0m: 'AC009161.1'",
      "\nDuring handling of the above exception, another exception occurred:\n",
      "\u001b[0;31mKeyError\u001b[0m                                  Traceback (most recent call last)",
      "\u001b[0;32m<ipython-input-11-d6beed726867>\u001b[0m in \u001b[0;36m<module>\u001b[0;34m\u001b[0m\n\u001b[1;32m      2\u001b[0m \u001b[0;31m#np.sum(lookup['id'] == '')\u001b[0m\u001b[0;34m\u001b[0m\u001b[0;34m\u001b[0m\u001b[0;34m\u001b[0m\u001b[0m\n\u001b[1;32m      3\u001b[0m \u001b[0;31m#np.sum(pd.isnull(lookup.loc[:,'id']))\u001b[0m\u001b[0;34m\u001b[0m\u001b[0;34m\u001b[0m\u001b[0;34m\u001b[0m\u001b[0m\n\u001b[0;32m----> 4\u001b[0;31m \u001b[0mlookup\u001b[0m\u001b[0;34m.\u001b[0m\u001b[0mloc\u001b[0m\u001b[0;34m[\u001b[0m\u001b[0;34m'AC009161.1'\u001b[0m\u001b[0;34m]\u001b[0m\u001b[0;34m\u001b[0m\u001b[0;34m\u001b[0m\u001b[0m\n\u001b[0m",
      "\u001b[0;32m/data/weismanal/miniconda3/envs/myenv/lib/python3.7/site-packages/pandas/core/indexing.py\u001b[0m in \u001b[0;36m__getitem__\u001b[0;34m(self, key)\u001b[0m\n\u001b[1;32m   1766\u001b[0m \u001b[0;34m\u001b[0m\u001b[0m\n\u001b[1;32m   1767\u001b[0m             \u001b[0mmaybe_callable\u001b[0m \u001b[0;34m=\u001b[0m \u001b[0mcom\u001b[0m\u001b[0;34m.\u001b[0m\u001b[0mapply_if_callable\u001b[0m\u001b[0;34m(\u001b[0m\u001b[0mkey\u001b[0m\u001b[0;34m,\u001b[0m \u001b[0mself\u001b[0m\u001b[0;34m.\u001b[0m\u001b[0mobj\u001b[0m\u001b[0;34m)\u001b[0m\u001b[0;34m\u001b[0m\u001b[0;34m\u001b[0m\u001b[0m\n\u001b[0;32m-> 1768\u001b[0;31m             \u001b[0;32mreturn\u001b[0m \u001b[0mself\u001b[0m\u001b[0;34m.\u001b[0m\u001b[0m_getitem_axis\u001b[0m\u001b[0;34m(\u001b[0m\u001b[0mmaybe_callable\u001b[0m\u001b[0;34m,\u001b[0m \u001b[0maxis\u001b[0m\u001b[0;34m=\u001b[0m\u001b[0maxis\u001b[0m\u001b[0;34m)\u001b[0m\u001b[0;34m\u001b[0m\u001b[0;34m\u001b[0m\u001b[0m\n\u001b[0m\u001b[1;32m   1769\u001b[0m \u001b[0;34m\u001b[0m\u001b[0m\n\u001b[1;32m   1770\u001b[0m     \u001b[0;32mdef\u001b[0m \u001b[0m_is_scalar_access\u001b[0m\u001b[0;34m(\u001b[0m\u001b[0mself\u001b[0m\u001b[0;34m,\u001b[0m \u001b[0mkey\u001b[0m\u001b[0;34m:\u001b[0m \u001b[0mTuple\u001b[0m\u001b[0;34m)\u001b[0m\u001b[0;34m:\u001b[0m\u001b[0;34m\u001b[0m\u001b[0;34m\u001b[0m\u001b[0m\n",
      "\u001b[0;32m/data/weismanal/miniconda3/envs/myenv/lib/python3.7/site-packages/pandas/core/indexing.py\u001b[0m in \u001b[0;36m_getitem_axis\u001b[0;34m(self, key, axis)\u001b[0m\n\u001b[1;32m   1963\u001b[0m         \u001b[0;31m# fall thru to straight lookup\u001b[0m\u001b[0;34m\u001b[0m\u001b[0;34m\u001b[0m\u001b[0;34m\u001b[0m\u001b[0m\n\u001b[1;32m   1964\u001b[0m         \u001b[0mself\u001b[0m\u001b[0;34m.\u001b[0m\u001b[0m_validate_key\u001b[0m\u001b[0;34m(\u001b[0m\u001b[0mkey\u001b[0m\u001b[0;34m,\u001b[0m \u001b[0maxis\u001b[0m\u001b[0;34m)\u001b[0m\u001b[0;34m\u001b[0m\u001b[0;34m\u001b[0m\u001b[0m\n\u001b[0;32m-> 1965\u001b[0;31m         \u001b[0;32mreturn\u001b[0m \u001b[0mself\u001b[0m\u001b[0;34m.\u001b[0m\u001b[0m_get_label\u001b[0m\u001b[0;34m(\u001b[0m\u001b[0mkey\u001b[0m\u001b[0;34m,\u001b[0m \u001b[0maxis\u001b[0m\u001b[0;34m=\u001b[0m\u001b[0maxis\u001b[0m\u001b[0;34m)\u001b[0m\u001b[0;34m\u001b[0m\u001b[0;34m\u001b[0m\u001b[0m\n\u001b[0m\u001b[1;32m   1966\u001b[0m \u001b[0;34m\u001b[0m\u001b[0m\n\u001b[1;32m   1967\u001b[0m \u001b[0;34m\u001b[0m\u001b[0m\n",
      "\u001b[0;32m/data/weismanal/miniconda3/envs/myenv/lib/python3.7/site-packages/pandas/core/indexing.py\u001b[0m in \u001b[0;36m_get_label\u001b[0;34m(self, label, axis)\u001b[0m\n\u001b[1;32m    623\u001b[0m             \u001b[0;32mraise\u001b[0m \u001b[0mIndexingError\u001b[0m\u001b[0;34m(\u001b[0m\u001b[0;34m\"no slices here, handle elsewhere\"\u001b[0m\u001b[0;34m)\u001b[0m\u001b[0;34m\u001b[0m\u001b[0;34m\u001b[0m\u001b[0m\n\u001b[1;32m    624\u001b[0m \u001b[0;34m\u001b[0m\u001b[0m\n\u001b[0;32m--> 625\u001b[0;31m         \u001b[0;32mreturn\u001b[0m \u001b[0mself\u001b[0m\u001b[0;34m.\u001b[0m\u001b[0mobj\u001b[0m\u001b[0;34m.\u001b[0m\u001b[0m_xs\u001b[0m\u001b[0;34m(\u001b[0m\u001b[0mlabel\u001b[0m\u001b[0;34m,\u001b[0m \u001b[0maxis\u001b[0m\u001b[0;34m=\u001b[0m\u001b[0maxis\u001b[0m\u001b[0;34m)\u001b[0m\u001b[0;34m\u001b[0m\u001b[0;34m\u001b[0m\u001b[0m\n\u001b[0m\u001b[1;32m    626\u001b[0m \u001b[0;34m\u001b[0m\u001b[0m\n\u001b[1;32m    627\u001b[0m     \u001b[0;32mdef\u001b[0m \u001b[0m_get_loc\u001b[0m\u001b[0;34m(\u001b[0m\u001b[0mself\u001b[0m\u001b[0;34m,\u001b[0m \u001b[0mkey\u001b[0m\u001b[0;34m:\u001b[0m \u001b[0mint\u001b[0m\u001b[0;34m,\u001b[0m \u001b[0maxis\u001b[0m\u001b[0;34m:\u001b[0m \u001b[0mint\u001b[0m\u001b[0;34m)\u001b[0m\u001b[0;34m:\u001b[0m\u001b[0;34m\u001b[0m\u001b[0;34m\u001b[0m\u001b[0m\n",
      "\u001b[0;32m/data/weismanal/miniconda3/envs/myenv/lib/python3.7/site-packages/pandas/core/generic.py\u001b[0m in \u001b[0;36mxs\u001b[0;34m(self, key, axis, level, drop_level)\u001b[0m\n\u001b[1;32m   3535\u001b[0m             \u001b[0mloc\u001b[0m\u001b[0;34m,\u001b[0m \u001b[0mnew_index\u001b[0m \u001b[0;34m=\u001b[0m \u001b[0mself\u001b[0m\u001b[0;34m.\u001b[0m\u001b[0mindex\u001b[0m\u001b[0;34m.\u001b[0m\u001b[0mget_loc_level\u001b[0m\u001b[0;34m(\u001b[0m\u001b[0mkey\u001b[0m\u001b[0;34m,\u001b[0m \u001b[0mdrop_level\u001b[0m\u001b[0;34m=\u001b[0m\u001b[0mdrop_level\u001b[0m\u001b[0;34m)\u001b[0m\u001b[0;34m\u001b[0m\u001b[0;34m\u001b[0m\u001b[0m\n\u001b[1;32m   3536\u001b[0m         \u001b[0;32melse\u001b[0m\u001b[0;34m:\u001b[0m\u001b[0;34m\u001b[0m\u001b[0;34m\u001b[0m\u001b[0m\n\u001b[0;32m-> 3537\u001b[0;31m             \u001b[0mloc\u001b[0m \u001b[0;34m=\u001b[0m \u001b[0mself\u001b[0m\u001b[0;34m.\u001b[0m\u001b[0mindex\u001b[0m\u001b[0;34m.\u001b[0m\u001b[0mget_loc\u001b[0m\u001b[0;34m(\u001b[0m\u001b[0mkey\u001b[0m\u001b[0;34m)\u001b[0m\u001b[0;34m\u001b[0m\u001b[0;34m\u001b[0m\u001b[0m\n\u001b[0m\u001b[1;32m   3538\u001b[0m \u001b[0;34m\u001b[0m\u001b[0m\n\u001b[1;32m   3539\u001b[0m             \u001b[0;32mif\u001b[0m \u001b[0misinstance\u001b[0m\u001b[0;34m(\u001b[0m\u001b[0mloc\u001b[0m\u001b[0;34m,\u001b[0m \u001b[0mnp\u001b[0m\u001b[0;34m.\u001b[0m\u001b[0mndarray\u001b[0m\u001b[0;34m)\u001b[0m\u001b[0;34m:\u001b[0m\u001b[0;34m\u001b[0m\u001b[0;34m\u001b[0m\u001b[0m\n",
      "\u001b[0;32m/data/weismanal/miniconda3/envs/myenv/lib/python3.7/site-packages/pandas/core/indexes/range.py\u001b[0m in \u001b[0;36mget_loc\u001b[0;34m(self, key, method, tolerance)\u001b[0m\n\u001b[1;32m    351\u001b[0m             \u001b[0;32mexcept\u001b[0m \u001b[0mValueError\u001b[0m\u001b[0;34m:\u001b[0m\u001b[0;34m\u001b[0m\u001b[0;34m\u001b[0m\u001b[0m\n\u001b[1;32m    352\u001b[0m                 \u001b[0;32mraise\u001b[0m \u001b[0mKeyError\u001b[0m\u001b[0;34m(\u001b[0m\u001b[0mkey\u001b[0m\u001b[0;34m)\u001b[0m\u001b[0;34m\u001b[0m\u001b[0;34m\u001b[0m\u001b[0m\n\u001b[0;32m--> 353\u001b[0;31m         \u001b[0;32mreturn\u001b[0m \u001b[0msuper\u001b[0m\u001b[0;34m(\u001b[0m\u001b[0;34m)\u001b[0m\u001b[0;34m.\u001b[0m\u001b[0mget_loc\u001b[0m\u001b[0;34m(\u001b[0m\u001b[0mkey\u001b[0m\u001b[0;34m,\u001b[0m \u001b[0mmethod\u001b[0m\u001b[0;34m=\u001b[0m\u001b[0mmethod\u001b[0m\u001b[0;34m,\u001b[0m \u001b[0mtolerance\u001b[0m\u001b[0;34m=\u001b[0m\u001b[0mtolerance\u001b[0m\u001b[0;34m)\u001b[0m\u001b[0;34m\u001b[0m\u001b[0;34m\u001b[0m\u001b[0m\n\u001b[0m\u001b[1;32m    354\u001b[0m \u001b[0;34m\u001b[0m\u001b[0m\n\u001b[1;32m    355\u001b[0m     \u001b[0;34m@\u001b[0m\u001b[0mAppender\u001b[0m\u001b[0;34m(\u001b[0m\u001b[0m_index_shared_docs\u001b[0m\u001b[0;34m[\u001b[0m\u001b[0;34m\"get_indexer\"\u001b[0m\u001b[0;34m]\u001b[0m\u001b[0;34m)\u001b[0m\u001b[0;34m\u001b[0m\u001b[0;34m\u001b[0m\u001b[0m\n",
      "\u001b[0;32m/data/weismanal/miniconda3/envs/myenv/lib/python3.7/site-packages/pandas/core/indexes/base.py\u001b[0m in \u001b[0;36mget_loc\u001b[0;34m(self, key, method, tolerance)\u001b[0m\n\u001b[1;32m   2646\u001b[0m                 \u001b[0;32mreturn\u001b[0m \u001b[0mself\u001b[0m\u001b[0;34m.\u001b[0m\u001b[0m_engine\u001b[0m\u001b[0;34m.\u001b[0m\u001b[0mget_loc\u001b[0m\u001b[0;34m(\u001b[0m\u001b[0mkey\u001b[0m\u001b[0;34m)\u001b[0m\u001b[0;34m\u001b[0m\u001b[0;34m\u001b[0m\u001b[0m\n\u001b[1;32m   2647\u001b[0m             \u001b[0;32mexcept\u001b[0m \u001b[0mKeyError\u001b[0m\u001b[0;34m:\u001b[0m\u001b[0;34m\u001b[0m\u001b[0;34m\u001b[0m\u001b[0m\n\u001b[0;32m-> 2648\u001b[0;31m                 \u001b[0;32mreturn\u001b[0m \u001b[0mself\u001b[0m\u001b[0;34m.\u001b[0m\u001b[0m_engine\u001b[0m\u001b[0;34m.\u001b[0m\u001b[0mget_loc\u001b[0m\u001b[0;34m(\u001b[0m\u001b[0mself\u001b[0m\u001b[0;34m.\u001b[0m\u001b[0m_maybe_cast_indexer\u001b[0m\u001b[0;34m(\u001b[0m\u001b[0mkey\u001b[0m\u001b[0;34m)\u001b[0m\u001b[0;34m)\u001b[0m\u001b[0;34m\u001b[0m\u001b[0;34m\u001b[0m\u001b[0m\n\u001b[0m\u001b[1;32m   2649\u001b[0m         \u001b[0mindexer\u001b[0m \u001b[0;34m=\u001b[0m \u001b[0mself\u001b[0m\u001b[0;34m.\u001b[0m\u001b[0mget_indexer\u001b[0m\u001b[0;34m(\u001b[0m\u001b[0;34m[\u001b[0m\u001b[0mkey\u001b[0m\u001b[0;34m]\u001b[0m\u001b[0;34m,\u001b[0m \u001b[0mmethod\u001b[0m\u001b[0;34m=\u001b[0m\u001b[0mmethod\u001b[0m\u001b[0;34m,\u001b[0m \u001b[0mtolerance\u001b[0m\u001b[0;34m=\u001b[0m\u001b[0mtolerance\u001b[0m\u001b[0;34m)\u001b[0m\u001b[0;34m\u001b[0m\u001b[0;34m\u001b[0m\u001b[0m\n\u001b[1;32m   2650\u001b[0m         \u001b[0;32mif\u001b[0m \u001b[0mindexer\u001b[0m\u001b[0;34m.\u001b[0m\u001b[0mndim\u001b[0m \u001b[0;34m>\u001b[0m \u001b[0;36m1\u001b[0m \u001b[0;32mor\u001b[0m \u001b[0mindexer\u001b[0m\u001b[0;34m.\u001b[0m\u001b[0msize\u001b[0m \u001b[0;34m>\u001b[0m \u001b[0;36m1\u001b[0m\u001b[0;34m:\u001b[0m\u001b[0;34m\u001b[0m\u001b[0;34m\u001b[0m\u001b[0m\n",
      "\u001b[0;32mpandas/_libs/index.pyx\u001b[0m in \u001b[0;36mpandas._libs.index.IndexEngine.get_loc\u001b[0;34m()\u001b[0m\n",
      "\u001b[0;32mpandas/_libs/index.pyx\u001b[0m in \u001b[0;36mpandas._libs.index.IndexEngine.get_loc\u001b[0;34m()\u001b[0m\n",
      "\u001b[0;32mpandas/_libs/index_class_helper.pxi\u001b[0m in \u001b[0;36mpandas._libs.index.Int64Engine._check_type\u001b[0;34m()\u001b[0m\n",
      "\u001b[0;31mKeyError\u001b[0m: 'AC009161.1'"
     ]
    }
   ],
   "source": [
    "import numpy as np\n",
    "#np.sum(lookup['id'] == '')\n",
    "#np.sum(pd.isnull(lookup.loc[:,'id']))\n",
    "lookup.loc['AC009161.1']"
   ]
  },
  {
   "cell_type": "code",
   "execution_count": 3,
   "metadata": {},
   "outputs": [
    {
     "output_type": "stream",
     "name": "stdout",
     "text": "2948\n"
    },
    {
     "output_type": "execute_result",
     "data": {
      "text/plain": "05'],\n ['AC009474.2', 'ENSG00000230355'],\n ['AC013410.2', 'ENSG00000237617'],\n ['AC009161.1', 'ENSG00000237901'],\n ['AC011379.1', 'ENSG00000250069'],\n ['AC016727.1', 'ENSG00000270820'],\n ['AC012564.1', 'ENSG00000283157'],\n ['AC012314.7', 'ENSG00000274905'],\n ['AC009492.1', 'ENSG00000278004'],\n ['AC011551.1', 'ENSG00000278797'],\n ['AC008565.1', 'ENSG00000251135'],\n ['AC009065.2', 'ENSG00000259780'],\n ['AC011453.1', 'ENSG00000269842'],\n ['AC013268.5', 'ENSG00000283684'],\n ['AC012462.3', 'ENSG00000230695'],\n ['AC009800.1', 'ENSG00000248911'],\n ['AC007948.1', 'ENSG00000263863'],\n ['AC010970.1', 'ENSG00000225840'],\n ['AC010376.1', 'ENSG00000253801'],\n ['AC008132.1', 'ENSG00000161103'],\n ['AC015871.1', 'ENSG00000259770'],\n ['AC008746.5', 'ENSG00000276551'],\n ['AC008410.1', 'ENSG00000253261'],\n ['AC008734.1', 'ENSG00000269300'],\n ['AC009478.1', 'ENSG00000225258'],\n ['AC015987.1', 'ENSG00000224746'],\n ['AC008674.1', 'ENSG00000287003'],\n ['AC016734.1', 'ENSG00000228305'],\n ['AC011752.1', 'ENSG00000231204'],\n ['AC013406.1', 'ENSG00000207161'],\n ['AC015804.1', 'ENSG00000279600'],\n ['AC011478.1', 'ENSG00000267760'],\n ['AC011477.1', 'ENSG00000267481'],\n ['AC010536.2', 'ENSG00000260671'],\n ['AC010504.2', 'ENSG00000282746'],\n ['AC010754.1', 'ENSG00000265752'],\n ['AC015849.12', 'ENSG00000282202'],\n ['AC012603.1', 'ENSG00000271849'],\n ['AC008171.1', 'ENSG00000223890'],\n ['AC016745.2', 'ENSG00000272563'],\n ['AC010297.1', 'ENSG00000280139'],\n ['AC010096.1', 'ENSG00000234597'],\n ['AC007773.1', 'ENSG00000267213'],\n ['AC013477.1', 'ENSG00000201786'],\n ['AC011306.1', 'ENSG00000272180'],\n ['AC007950.1', 'ENSG00000259268'],\n ['AC009779.1', 'ENSG00000257384'],\n ['AC009313.2', 'ENSG00000232337'],\n ['AC007568.1', 'ENSG00000224136'],\n ['AC011407.1', 'ENSG00000287814'],\n ['AC015849.13', 'ENSG00000282384'],\n ['AC016727.3', 'ENSG00000285857'],\n ['AC010967.3', 'ENSG00000232668'],\n ['AC008537.2', 'ENSG00000269843'],\n ['AC008397.1', 'ENSG00000284797'],\n ['AC007956.1', 'ENSG00000222604'],\n ['AC007967.3', 'ENSG00000230025'],\n ['AC007631.1', 'ENSG00000264131'],\n ['AC012314.9', 'ENSG00000276206'],\n ['AC016582.2', 'ENSG00000267422'],\n ['AC009987.1', 'ENSG00000231138'],\n ['AC010745.4', 'ENSG00000232444'],\n ['AC010468.1', 'ENSG00000249318'],\n ['AC010976.2', 'ENSG00000272789'],\n ['AC009237.8', 'ENSG00000236431'],\n ['AC011193.1', 'ENSG00000225582'],\n ['AC008463.1', 'ENSG00000274106'],\n ['AC008281.1', 'ENSG00000286199'],\n ['AC010982.2', 'ENSG00000235242'],\n ['AC008175.1', 'ENSG00000235059'],\n ['AC012485.2', 'ENSG00000232306'],\n ['AC008747.1', 'ENSG00000267024'],\n ['AC010196.1', 'ENSG00000258185'],\n ['AC012507.3', 'ENSG00000283164'],\n ['AC013448.2', 'ENSG00000235610'],\n ['AC010336.1', 'ENSG00000214248'],\n ['AC012593.1', 'ENSG00000226994'],\n ['AC008280.1', 'ENSG00000241114'],\n ['AC013442.1', 'ENSG00000288535'],\n ['AC010329.1', 'ENSG00000268416'],\n ['AC009410.1', 'ENSG00000286772'],\n ['AC012150.1', 'ENSG00000257258'],\n ['AC012306.2', 'ENSG00000272667'],\n ['AC010761.6', 'ENSG00000267729'],\n ['AC011499.1', 'ENSG00000267157'],\n ['AC011526.1', 'ENSG00000277136'],\n ['AC013268.2', 'ENSG00000229730'],\n ['AC008147.2', 'ENSG00000257298'],\n ['AC012066.1', 'ENSG00000213197'],\n ['AC012613.2', 'ENSG00000253406'],\n ['AC011410.1', 'ENSG00000253110'],\n ['AC008155.1', 'ENSG00000213238'],\n ['AC016710.1', 'ENSG00000206901'],\n ['AC012050.1', 'ENSG00000259588'],\n ['AC015923.1', 'ENSG00000233635'],\n ['AC011626.1', 'ENSG00000271219'],\n ['AC010468.2', 'ENSG00000250728'],\n ['AC009065.3', 'ENSG00000259933'],\n ['AC011298.2', 'ENSG00000274977'],\n ['AC011933.2', 'ENSG00000264853'],\n ['AC009159.1', 'ENSG00000275040'],\n ['AC009997.1', 'ENSG00000259369'],\n ['AC012462.2', 'ENSG00000228618'],\n ['AC008752.3', 'ENSG00000267289'],\n ['AC008686.1', 'ENSG00000267633'],\n ['AC011497.1', 'ENSG00000268605'],\n ['AC009365.3', 'ENSG00000225881'],\n ['AC008869.1', 'ENSG00000250032'],\n ['AC009227.2', 'ENSG00000238004'],\n ['AC009237.6', 'ENSG00000235959'],\n ['AC011467.2', 'ENSG00000268589'],\n ['AC009081.1', 'ENSG00000261310'],\n ['AC012314.12', 'ENSG00000276421'],\n ['AC013268.3', 'ENSG00000235721'],\n ['AC007731.1', 'ENSG00000201916'],\n ['AC009970.1', 'ENSG00000233953'],\n ['AC013460.1', 'ENSG00000229727'],\n ['AC008391.1', 'ENSG00000285997'],\n ['AC012671.1', 'ENSG00000283262'],\n ['AC008277.1', 'ENSG00000223642'],\n ['AC011995.1', 'ENSG00000228391'],\n ['AC007731.2', 'ENSG00000215493'],\n ['AC016739.1', 'ENSG00000218175'],\n ['AC010203.1', 'ENSG00000257489'],\n ['AC011998.1', 'ENSG00000227241'],\n ['AC012005.2', 'ENSG00000284071'],\n ['AC010745.3', 'ENSG00000231266'],\n ['AC016696.1', 'ENSG00000278764'],\n ['AC008780.1', 'ENSG00000249436'],\n ['AC016405.1', 'ENSG00000253372'],\n ['AC009951.1', 'ENSG00000273537'],\n ['AC010928.1', 'ENSG00000267382'],\n ['AC010980.2', 'ENSG00000267034'],\n ['AC010525.2', 'ENSG00000267689'],\n ['AC015971.1', 'ENSG00000228363'],\n ['AC008984.5', 'ENSG00000278402'],\n ['AC013275.1', 'ENSG00000231013'],\n ['AC009303.3', 'ENSG00000272895'],\n ['AC009892.2', 'ENSG00000276983'],\n ['AC007682.1', 'ENSG00000286412'],\n ['AC016644.1', 'ENSG00000235635'],\n ['AC012354.8', 'ENSG00000277809'],\n ['AC009121.1', 'ENSG00000199668'],\n ['AC009411.1', 'ENSG00000228538'],\n ['AC011322.1', 'ENSG00000286017'],\n ['AC012370.2', 'ENSG00000234255'],\n ['AC012445.1', 'ENSG00000229550'],\n ['AC016251.1', 'ENSG00000280291'],\n ['AC016629.2', 'ENSG00000269600'],\n ['AC007620.3', 'ENSG00000272699'],\n ['AC013410.1', 'ENSG00000237016'],\n ['AC009403.2', 'ENSG00000283128'],\n ['AC010880.1', 'ENSG00000224400'],\n ['AC008834.1', 'ENSG00000249101'],\n ['AC015871.2', 'ENSG00000271364'],\n ['AC007967.2', 'ENSG00000228207'],\n ['AC008992.1', 'ENSG00000267636'],\n ['AC009166.3', 'ENSG00000287718'],\n ['AC013268.1', 'ENSG00000186148'],\n ['AC012354.6', 'ENSG00000276670'],\n ['AC008581.1', 'ENSG00000250615'],\n ['AC015849.14', 'ENSG00000282498'],\n ['AC015849.2', 'ENSG00000270829'],\n ['AC009237.4', 'ENSG00000230083'],\n ['AC009237.2', 'ENSG00000224719'],\n ['AC007879.2', 'ENSG00000225916'],\n ['AC009950.2', 'ENSG00000283451'],\n ['AC008938.1', 'ENSG00000260072'],\n ['AC007663.1', 'ENSG00000161132'],\n ['AC007679.4', 'ENSG00000283129'],\n ['AC008278.2', 'ENSG00000234022'],\n ['AC011443.1', 'ENSG00000269172'],\n ['AC010904.1', 'ENSG00000213774'],\n ['AC008984.2', 'ENSG00000275893'],\n ['AC016722.1', 'ENSG00000226548'],\n ['AC011718.1', 'ENSG00000276874'],\n ['AC010975.1', 'ENSG00000277171'],\n ['AC007952.1', 'ENSG00000197665'],\n ['AC015688.3', 'ENSG00000265041'],\n ['AC009110.1', 'ENSG00000231589'],\n ['AC012313.1', 'ENSG00000232098'],\n ['AC009303.1', 'ENSG00000224967'],\n ['AC010999.1', 'ENSG00000275343'],\n ['AC007881.2', 'ENSG00000236469'],\n ['AC010967.1', 'ENSG00000228033'],\n ['AC016735.1', 'ENSG00000224739'],\n ['AC009236.2', 'ENSG00000286728'],\n ['AC012119.1', 'ENSG00000207027'],\n ['AC009506.2', 'ENSG00000224152'],\n ['AC013402.2', 'ENSG00000231626'],\n ['AC010642.1', 'ENSG00000269794'],\n ['AC007787.2', 'ENSG00000279044'],\n ['AC009965.1', 'ENSG00000234714'],\n ['AC009506.1', 'ENSG00000207117'],\n ['AC008694.2', 'ENSG00000254336'],\n ['AC007879.3', 'ENSG00000234902'],\n ['AC012314.11', 'ENSG00000276287'],\n ['AC013727.1', 'ENSG00000232597'],\n ['AC007879.5', 'ENSG00000286568'],\n ['AC011841.2', 'ENSG00000276932'],\n ['AC010983.1', 'ENSG00000235056'],\n ['AC009336.1', 'ENSG00000272729'],\n ['AC007919.1', 'ENSG00000224611'],\n ['AC009299.1', 'ENSG00000225813'],\n ['AC012075.1', 'ENSG00000231722'],\n ['AC011524.1', 'ENSG00000267027'],\n ['AC010525.1', 'ENSG00000267117'],\n ['AC010141.1', 'ENSG00000228257'],\n ['AC007880.1', 'ENSG00000199964'],\n ['AC011450.1', 'ENSG00000197813'],\n ['AC016716.1', 'ENSG00000224731'],\n ['AC009236.1', 'ENSG00000286519'],\n ['AC011233.2', 'ENSG00000286170'],\n ['AC013401.2', 'ENSG00000278406'],\n ['AC009969.1', 'ENSG00000234932'],\n ['AC008752.1', 'ENSG00000200237'],\n ['AC008940.1', 'ENSG00000228650'],\n ['AC011994.1', 'ENSG00000285626'],\n ['AC007743.1', 'ENSG00000233251'],\n ['AC009542.2', 'ENSG00000276067'],\n ['AC011467.1', 'ENSG00000260599'],\n ['AC016575.1', 'ENSG00000272057'],\n ['AC013269.3', 'ENSG00000274711'],\n ['AC010207.1', 'ENSG00000260633'],\n ['AC010319.1', 'ENSG00000254503'],\n ['AC011625.1', 'ENSG00000223436'],\n ['AC009237.14', 'ENSG00000272913'],\n ['AC011484.1', 'ENSG00000204850'],\n ['AC013468.1', 'ENSG00000273240'],\n ['AC009950.1', 'ENSG00000225963'],\n ['AC012506.4', 'ENSG00000235497'],\n ['AC012379.1', 'ENSG00000259670'],\n ['AC012314.3', 'ENSG00000274144'],\n ['AC011416.1', 'ENSG00000250080'],\n ['AC010731.3', 'ENSG00000231653'],\n ['AC007795.1', 'ENSG00000267617'],\n ['AC010323.1', 'ENSG00000167774'],\n ['AC010422.1', 'ENSG00000230310'],\n ['AC012181.1', 'ENSG00000261114'],\n ['AC016717.1', 'ENSG00000228206'],\n ['AC009035.1', 'ENSG00000260580'],\n ['AC009237.10', 'ENSG00000237308'],\n ['AC009237.11', 'ENSG00000238162'],\n ['AC010894.4', 'ENSG00000237798'],\n ['AC010894.5', 'ENSG00000279884'],\n ['AC011500.1', 'ENSG00000269188'],\n ['AC012668.2', 'ENSG00000234938'],\n ['AC010170.1', 'ENSG00000202268'],\n ['AC012087.2', 'ENSG00000272554'],\n ['AC010528.1', 'ENSG00000260983'],\n ['AC009120.5', 'ENSG00000275236'],\n ['AC012317.1', 'ENSG00000261583'],\n ['AC008738.2', 'ENSG00000267130'],\n ['AC010546.1', 'ENSG00000260332'],\n ['AC007966.1', 'ENSG00000212581'],\n ['AC009947.2', 'ENSG00000236647'],\n ['AC009784.1', 'ENSG00000236503'],\n ['AC007842.2', 'ENSG00000281233'],\n ['AC010092.1', 'ENSG00000286115'],\n ['AC011313.1', 'ENSG00000257642'],\n ['AC008537.1', 'ENSG00000268797'],\n ['AC009892.1', 'ENSG00000275440'],\n ['AC008060.5', 'ENSG00000288051'],\n ['AC016553.1', 'ENSG00000248145'],\n ['AC009312.1', 'ENSG00000238207'],\n ['AC013759.1', 'ENSG00000262892'],\n ['AC009113.1', 'ENSG00000259877'],\n ['AC011997.1', 'ENSG00000222017'],\n ['AC009495.3', 'ENSG00000235192'],\n ['AC010907.2', 'ENSG00000237370'],\n ['AC013727.2', 'ENSG00000236141'],\n ['AC009878.2', 'ENSG00000287280'],\n ['AC010641.1', 'ENSG00000267443'],\n ['AC007967.4', 'ENSG00000273731'],\n ['AC012123.1', 'ENSG00000228835'],\n ['AC010884.1', 'ENSG00000287135'],\n ['AC012314.1', 'ENSG00000273655'],\n ['AC009237.9', 'ENSG00000236750'],\n ['AC013448.1', 'ENSG00000231189'],\n ['AC012451.1', 'ENSG00000237532'],\n ['AC009961.2', 'ENSG00000227055'],\n ['AC009041.1', 'ENSG00000260496'],\n ['AC011225.1', 'ENSG00000225253'],\n ['AC012668.3', 'ENSG00000237525'],\n ['AC011897.1', 'ENSG00000228505'],\n ['AC013476.1', 'ENSG00000278083'],\n ['AC012462.1', 'ENSG00000225166'],\n ['AC008687.1', 'ENSG00000267335'],\n ['AC009518.2', 'ENSG00000236386'],\n ['AC011816.1', 'ENSG00000234073'],\n ['AC010620.1', 'ENSG00000268892'],\n ['AC012501.2', 'ENSG00000227400'],\n ['AC010969.1', 'ENSG00000188525'],\n ['AC016730.1', 'ENSG00000227718'],\n ['AC009142.1', 'ENSG00000261410'],\n ['AC008069.1', 'ENSG00000224604'],\n ['AC010325.1', 'ENSG00000261341'],\n ['AC012615.1', 'ENSG00000261526'],\n ['AC010536.1', 'ENSG00000226180'],\n ['AC013401.1', 'ENSG00000232227'],\n ['AC011363.1', 'ENSG00000254391'],\n ['AC012358.4', 'ENSG00000240401'],\n ['AC012175.1', 'ENSG00000270440'],\n ['AC016586.1', 'ENSG00000268670'],\n ['AC009965.2', 'ENSG00000235951'],\n ['AC009313.1', 'ENSG00000224467'],\n ['AC012414.1', 'ENSG00000259214'],\n ['AC010982.1', 'ENSG00000212182'],\n ['AC009411.2', 'ENSG00000235537'],\n ['AC009961.3', 'ENSG00000287091'],\n ['AC007879.4', 'ENSG00000240440'],\n ['AC007881.4', 'ENSG00000288065'],\n ['AC013404.1', 'ENSG00000231017'],\n ['AC011243.1', 'ENSG00000223430'],\n ['AC009228.1', 'ENSG00000242628'],\n ['AC009951.2', 'ENSG00000275372'],\n ['AC012314.8', 'ENSG00000275117'],\n ['AC011239.1', 'ENSG00000224361'],\n ['AC009158.1', 'ENSG00000231876'],\n ['AC007881.1', 'ENSG00000233870'],\n ['AC010492.2', 'ENSG00000275299'],\n ['AC011591.1', 'ENSG00000267250'],\n ['AC007690.1', 'ENSG00000233565'],\n ['AC015726.1', 'ENSG00000270091'],\n ['AC012314.13', 'ENSG00000277154'],\n ['AC008752.2', 'ENSG00000266950'],\n ['AC008555.1', 'ENSG00000261754'],\n ['AC016745.1', 'ENSG00000234997'],\n ['AC012668.1', 'ENSG00000227981'],\n ['AC008592.4', 'ENSG00000272021'],\n ['AC016682.1', 'ENSG00000286081'],\n ['AC010247.1', 'ENSG00000254887'],\n ['AC010872.2', 'ENSG00000287956'],\n ['AC011525.2', 'ENSG00000267465'],\n ['AC012494.1', 'ENSG00000227088'],\n ['AC007611.1', 'ENSG00000260086'],\n ['AC008625.1', 'ENSG00000287695'],\n ['AC007952.6', 'ENSG00000262319'],\n ['AC010336.2', 'ENSG00000260500'],\n ['AC010614.1', 'ENSG00000262113'],\n ['AC008394.1', 'ENSG00000288569'],\n ['AC009835.1', 'ENSG00000287994'],\n ['AC008746.3', 'ENSG00000275137'],\n ['AC009264.1', 'ENSG00000234352'],\n ['AC061975.3', 'ENSG00000264029'],\n ['AC068137.2', 'ENSG00000284171'],\n ['AC073135.3', 'ENSG00000267639'],\n ['AC026495.1', 'ENSG00000258654'],\n ['AC068533.1', 'ENSG00000205596'],\n ['AC027807.1', 'ENSG00000259609'],\n ['AC018880.2', 'ENSG00000231723'],\n ['AC018685.1', 'ENSG00000227364'],\n ['AC068535.2', 'ENSG00000287793'],\n ['AC078785.1', 'ENSG00000240057'],\n ['AC024580.1', 'ENSG00000223060'],\n ['AC062032.1', 'ENSG00000227902'],\n ['AC022762.1', 'ENSG00000254444'],\n ['AC064853.2', 'ENSG00000285843'],\n ['AC021860.1', 'ENSG00000271958'],\n ['AC034236.2', 'ENSG00000271918'],\n ['AC072062.1', 'ENSG00000227769'],\n ['AC027601.1', 'ENSG00000185332'],\n ['AC063979.1', 'ENSG00000206770'],\n ['AC073409.1', 'ENSG00000226708'],\n ['AC034243.1', 'ENSG00000253404'],\n ['AC019205.1', 'ENSG00000229852'],\n ['AC051649.1', 'ENSG00000249086'],\n ['AC027612.2', 'ENSG00000230572'],\n ['AC019129.1', 'ENSG00000219391'],\n ['AC023137.2', 'ENSG00000228950'],\n ['AC018685.2', 'ENSG00000234929'],\n ['AC026271.5', 'ENSG00000287058'],\n ['AC016907.2', 'ENSG00000233862'],\n ['AC017048.2', 'ENSG00000236231'],\n ['AC022498.1', 'ENSG00000234238'],\n ['AC073325.1', 'ENSG00000225537'],\n ['AC079467.1', 'ENSG00000250978'],\n ['AC023469.2', 'ENSG00000228064'],\n ['AC018635.1', 'ENSG00000242261'],\n ['AC078889.1', 'ENSG00000256072'],\n ['AC017048.3', 'ENSG00000272551'],\n ['AC022210.2', 'ENSG00000287625'],\n ['AC079140.1', 'ENSG00000248564'],\n ['AC078993.1', 'ENSG00000238178'],\n ['AC026202.3', 'ENSG00000268509'],\n ['AC069155.1', 'ENSG00000233581'],\n ['AC017083.2', 'ENSG00000273275'],\n ['AC017104.4', 'ENSG00000283312'],\n ['AC074008.1', 'ENSG00000284902'],\n ['AC016894.1', 'ENSG00000234624'],\n ['AC068506.1', 'ENSG00000278464'],\n ['AC073263.1', 'ENSG00000217702'],\n ['AC074290.1', 'ENSG00000224219'],\n ['AC023669.1', 'ENSG00000229459'],\n ['AC079584.2', 'ENSG00000257226'],\n ['AC069243.1', 'ENSG00000286994'],\n ['AC068831.3', 'ENSG00000258542'],\n ['AC053503.6', 'ENSG00000286143'],\n ['AC055876.2', 'ENSG00000254398'],\n ['AC018450.1', 'ENSG00000241679'],\n ['AC078816.1', 'ENSG00000286273'],\n ['AC023824.1', 'ENSG00000260073'],\n ['AC024067.1', 'ENSG00000225876'],\n ['AC037482.1', 'ENSG00000262487'],\n ['AC064872.1', 'ENSG00000270470'],\n ['AC026700.1', 'ENSG00000251066'],\n ['AC067852.1', 'ENSG00000266929'],\n ['AC022182.2', 'ENSG00000254802'],\n ['AC016903.1', 'ENSG00000236634'],\n ['AC027281.1', 'ENSG00000262890'],\n ['AC022021.1', 'ENSG00000222666'],\n ['AC073626.2', 'ENSG00000236580'],\n ['AC055811.2', 'ENSG00000264187'],\n ['AC027763.2', 'ENSG00000263316'],\n ['AC078842.3', 'ENSG00000231114'],\n ['AC062021.1', 'ENSG00000226939'],\n ['AC026904.1', 'ENSG00000253140'],\n ['AC064836.3', 'ENSG00000286223'],\n ['AC020743.2', 'ENSG00000231681'],\n ['AC024937.2', 'ENSG00000231464'],\n ['AC068489.1', 'ENSG00000234446'],\n ['AC074286.1', 'ENSG00000236501'],\n ['AC079610.1', 'ENSG00000270659'],\n ['AC016821.1', 'ENSG00000287306'],\n ['AC024084.1', 'ENSG00000206705'],\n ['AC068135.1', 'ENSG00000224670'],\n ['AC068587.1', 'ENSG00000254581'],\n ['AC073218.1', 'ENSG00000272027'],\n ['AC073465.2', 'ENSG00000236832'],\n ['AC061992.2', 'ENSG00000266970'],\n ['AC023050.1', 'ENSG00000244436'],\n ['AC061975.8', 'ENSG00000287721'],\n ['AC073320.1', 'ENSG00000199516'],\n ['AC018737.1', 'ENSG00000270798'],\n ['AC073387.2', 'ENSG00000271368'],\n ['AC078828.1', 'ENSG00000243296'],\n ['AC026150.2', 'ENSG00000260693'],\n ['AC022182.1', 'ENSG00000254777'],\n ['AC079354.1', 'ENSG00000231903'],\n ['AC024996.1', 'ENSG00000286946'],\n ['AC073082.1', 'ENSG00000279956'],\n ['AC016908.1', 'ENSG00000228225'],\n ['AC019173.1', 'ENSG00000281154'],\n ['AC016747.3', 'ENSG00000273302'],\n ['AC018607.1', 'ENSG00000254325'],\n ['AC069213.1', 'ENSG00000223711'],\n ['AC019064.1', 'ENSG00000237320'],\n ['AC073343.2', 'ENSG00000228010'],\n ['AC021818.1', 'ENSG00000259309'],\n ['AC073135.7', 'ENSG00000281617'],\n ['AC063944.1', 'ENSG00000239828'],\n ['AC019117.2', 'ENSG00000236039'],\n ['AC024475.1', 'ENSG00000254653'],\n ['AC078864.1', 'ENSG00000257989'],\n ['AC022872.1', 'ENSG00000261632'],\n ['AC019186.1', 'ENSG00000234584'],\n ['AC073610.1', 'ENSG00000239617'],\n ['AC018755.1', 'ENSG00000267808'],\n ['AC078852.2', 'ENSG00000254094'],\n ['AC068657.2', 'ENSG00000223908'],\n ['AC026956.1', 'ENSG00000259622'],\n ['AC027319.1', 'ENSG00000267484'],\n ['AC025300.1', 'ENSG00000254983'],\n ['AC068643.1', 'ENSG00000257703'],\n ['AC022532.1', 'ENSG00000280401'],\n ['AC026877.1', 'ENSG00000240809'],\n ['AC018712.2', 'ENSG00000239041'],\n ['AC062028.1', 'ENSG00000145063'],\n ['AC027612.1', 'ENSG00000223703'],\n ['AC073551.1', 'ENSG00000235548'],\n ['AC018692.1', 'ENSG00000252199'],\n ['AC020907.2', 'ENSG00000221857'],\n ['AC079466.1', 'ENSG00000266976'],\n ['AC073869.7', 'ENSG00000284706'],\n ['AC017002.4', 'ENSG00000285016'],\n ['AC068279.1', 'ENSG00000224881'],\n ['AC018618.1', 'ENSG00000259675'],\n ['AC068286.1', 'ENSG00000235127'],\n ['AC074051.1', 'ENSG00000260431'],\n ['AC025458.1', 'ENSG00000249774'],\n ['AC073316.1', 'ENSG00000217455'],\n ['AC020934.1', 'ENSG00000267424'],\n ['AC073648.1', 'ENSG00000197468'],\n ['AC068491.1', 'ENSG00000223973'],\n ['AC055764.1', 'ENSG00000234136'],\n ['AC073348.1', 'ENSG00000278894'],\n ['AC073130.1', 'ENSG00000237870'],\n ['AC016831.5', 'ENSG00000271522'],\n ['AC017074.1', 'ENSG00000227359'],\n ['AC046143.2', 'ENSG00000272707'],\n ['AC034229.1', 'ENSG00000249807'],\n ['AC061975.1', 'ENSG00000260777'],\n ['AC023158.1', 'ENSG00000259937'],\n ['AC024560.3', 'ENSG00000273308'],\n ['AC079117.1', 'ENSG00000287025'],\n ['AC024619.2', 'ENSG00000263613'],\n ['AC025284.1', 'ENSG00000260701'],\n ['AC068896.1', 'ENSG00000199466'],\n ['AC019118.2', 'ENSG00000236760'],\n ['AC022819.1', 'ENSG00000259921'],\n ['AC027307.1', 'ENSG00000267092'],\n ['AC064843.1', 'ENSG00000286621'],\n ['AC027811.1', 'ENSG00000287408'],\n ['AC079112.1', 'ENSG00000235968'],\n ['AC062020.1', 'ENSG00000237856'],\n ['AC019330.1', 'ENSG00000225421'],\n ['AC019131.1', 'ENSG00000263923'],\n ['AC068014.1', 'ENSG00000263098'],\n ['AC061975.6', 'ENSG00000266830'],\n ['AC021066.1', 'ENSG00000257830'],\n ['AC062016.1', 'ENSG00000224869'],\n ['AC068057.1', 'ENSG00000207249'],\n ['AC068831.8', 'ENSG00000284946'],\n ['AC078882.1', 'ENSG00000244125'],\n ['AC018804.1', 'ENSG00000227632'],\n ['AC069363.1', 'ENSG00000278781'],\n ['AC018730.1', 'ENSG00000269707'],\n ['AC068580.1', 'ENSG00000229512'],\n ['AC023385.1', 'ENSG00000285675'],\n ['AC034205.1', 'ENSG00000253472'],\n ['AC064871.3', 'ENSG00000224643'],\n ['AC025627.4', 'ENSG00000271900'],\n ['AC061975.5', 'ENSG00000266306'],\n ['AC021660.1', 'ENSG00000240827'],\n ['AC016764.1', 'ENSG00000201584'],\n ['AC017104.2', 'ENSG00000230047'],\n ['AC027612.4', 'ENSG00000271627'],\n ['AC020595.1', 'ENSG00000226681'],\n ['AC018880.1', 'ENSG00000221849'],\n ['AC025165.1', 'ENSG00000224713'],\n ['AC063976.1', 'ENSG00000224015'],\n ['AC079354.2', 'ENSG00000287041'],\n ['AC022558.1', 'ENSG00000259767'],\n ['AC023480.1', 'ENSG00000287720'],\n ['AC067751.1', 'ENSG00000238280'],\n ['AC023590.1', 'ENSG00000225885'],\n ['AC020910.1', 'ENSG00000252230'],\n ['AC025175.1', 'ENSG00000272416'],\n ['AC040162.1', 'ENSG00000261884'],\n ['AC027288.1', 'ENSG00000257474'],\n ['AC020892.1', 'ENSG00000259241'],\n ['AC018359.1', 'ENSG00000227498'],\n ['AC026318.1', 'ENSG00000274420'],\n ['AC067959.1', 'ENSG00000271629'],\n ['AC073987.1', 'ENSG00000229209'],\n ['AC073325.2', 'ENSG00000226999'],\n ['AC034110.1', 'ENSG00000286090'],\n ['AC073508.1', 'ENSG00000224244'],\n ['AC021146.2', 'ENSG00000248547'],\n ['AC026185.1', 'ENSG00000235240'],\n ['AC019055.1', 'ENSG00000235911'],\n ['AC017074.2', 'ENSG00000233479'],\n ['AC078899.2', 'ENSG00000268461'],\n ['AC078852.1', 'ENSG00000253399'],\n ['AC068138.1', 'ENSG00000230621'],\n ['AC062016.2', 'ENSG00000235871'],\n ...]"
     },
     "metadata": {},
     "execution_count": 3
    }
   ],
   "source": [
    "print(len(res))\n",
    "res"
   ]
  },
  {
   "cell_type": "code",
   "execution_count": 30,
   "metadata": {
    "tags": [
     "outputPrepend",
     "outputPrepend",
     "outputPrepend",
     "outputPrepend",
     "outputPrepend",
     "outputPrepend",
     "outputPrepend",
     "outputPrepend",
     "outputPrepend",
     "outputPrepend"
    ]
   },
   "outputs": [
    {
     "output_type": "stream",
     "name": "stdout",
     "text": "20\n['AC002310.11', 'AC002310.12', 'AC002310.13', 'AC002310.17', 'AC002310.7', 'AC002314.2', 'AC002314.4', 'AC002321.1', 'AC002321.2', 'AC002331.1', 'AC002365.1', 'AC002366.3', 'AC002368.4', 'AC002383.2', 'AC002386.1', 'AC002395.1', 'AC002398.11', 'AC002398.12', 'AC002398.13', 'AC002398.5']\n"
    }
   ],
   "source": [
    "datadir = os.path.join(project_dir, 'data')\n",
    "max_post_size = 20\n",
    "max_iter = 5\n",
    "iter = 0\n",
    "lookup_list = []\n",
    "with open(os.path.join(datadir, 'to_lookup.txt'), 'r') as f:\n",
    "    iname = 0\n",
    "    symbols_list = []\n",
    "    for name in f:\n",
    "        iname = iname + 1\n",
    "        symbols_list.append(name.rstrip())\n",
    "        if iname == max_post_size:\n",
    "            res = tc.ensembl_symbol_lookup(symbols_list)\n",
    "            for key in res.keys():\n",
    "                lookup_list.append([key, res.get(key).get('id')])\n",
    "            iter = iter + 1\n",
    "            if iter == max_iter:\n",
    "                break\n",
    "            iname = 0\n",
    "            symbols_list = []\n",
    "\n",
    "if iname != max_post_size:\n",
    "    res = tc.ensembl_symbol_lookup(symbols_list)\n",
    "    for key in res.keys():\n",
    "        lookup_list.append([key, res.get(key).get('id')])\n",
    "    iter = iter + 1\n",
    "\n",
    "\n",
    "print(iname)\n",
    "print(symbols_list)\n",
    "#tc.ensembl_symbol_lookup(symbols_list)"
   ]
  },
  {
   "cell_type": "code",
   "execution_count": 32,
   "metadata": {},
   "outputs": [
    {
     "output_type": "execute_result",
     "data": {
      "text/plain": "17"
     },
     "metadata": {},
     "execution_count": 32
    }
   ],
   "source": [
    "len(lookup_list)"
   ]
  },
  {
   "cell_type": "code",
   "execution_count": 6,
   "metadata": {},
   "outputs": [],
   "source": [
    "res = tc.ensembl_symbol_lookup(symbols_list)\n",
    "# # The maximum POST size (and therefore list size) is 1000\n",
    "# if len(symbols_list) > 1000:\n",
    "#     print('ERROR: POST lookup list is too long ({})'.format(len(symbols_list)))\n",
    "#     exit\n",
    "\n",
    "# # Import relevant modules\n",
    "# import requests, sys\n",
    "\n",
    "# # Set some constants\n",
    "# server = \"https://rest.ensembl.org\"\n",
    "# ext = \"/lookup/symbol/homo_sapiens\"\n",
    "# headers={ \"Content-Type\" : \"application/json\", \"Accept\" : \"application/json\"}\n",
    "\n",
    "# # Query the REST server\n",
    "# #r = requests.post(server+ext, headers=headers, data='{ \"symbols\" : [\"BRCA2\", \"BRAF\" ] }')\n",
    "# r = requests.post(server+ext, headers=headers, data=str({'symbols': symbols_list}).replace('\\'','\"'))\n",
    "\n",
    "# # Ensure everything is okay\n",
    "# if not r.ok:\n",
    "#     r.raise_for_status()\n",
    "#     sys.exit()\n",
    "\n",
    "# # Return the result\n",
    "# #return(repr(r.json()))\n",
    "# print(r.json())\n"
   ]
  },
  {
   "cell_type": "code",
   "execution_count": 27,
   "metadata": {},
   "outputs": [
    {
     "output_type": "stream",
     "name": "stdout",
     "text": "[['AC002386.1', 'ENSG00000230941'], ['AC000362.1', 'ENSG00000230820'], ['AC002056.3', 'ENSG00000283252'], ['AC002306.1', 'ENSG00000259242'], ['AC000124.1', 'ENSG00000226770'], ['AC002066.1', 'ENSG00000237813'], ['AC000081.2', 'ENSG00000251940'], ['AC002070.1', 'ENSG00000248636'], ['AC000367.1', 'ENSG00000224981'], ['AC000374.1', 'ENSG00000227249'], ['AC002064.4', 'ENSG00000280440'], ['AC002395.1', 'ENSG00000272215'], ['AC000029.1', 'ENSG00000275635'], ['AC000067.1', 'ENSG00000225007'], ['AC002365.1', 'ENSG00000206844'], ['AC002331.1', 'ENSG00000286712'], ['AC000403.1', 'ENSG00000278727']]\n"
    }
   ],
   "source": [
    "print([ [key, res.get(key).get('id')] for key in res.keys() ])\n",
    "#res.get('AC000124.1')"
   ]
  },
  {
   "cell_type": "code",
   "execution_count": 39,
   "metadata": {},
   "outputs": [
    {
     "output_type": "stream",
     "name": "stdout",
     "text": "{}\n"
    }
   ],
   "source": [
    "# The maximum POST size (and therefore list size) is 1000\n",
    "if len(symbols_list) > 1000:\n",
    "    print('ERROR: POST lookup list is too long ({})'.format(len(symbols_list)))\n",
    "    exit\n",
    "\n",
    "# Import relevant modules\n",
    "import requests, sys\n",
    "\n",
    "# Set some constants\n",
    "server = \"https://rest.ensembl.org\"\n",
    "ext = \"/lookup/symbol/homo_sapiens\"\n",
    "headers={ \"Content-Type\" : \"application/json\", \"Accept\" : \"application/json\"}\n",
    "\n",
    "# Query the REST server\n",
    "#r = requests.post(server+ext, headers=headers, data='{ \"symbols\" : [\"BRCA2\", \"BRAF\" ] }')\n",
    "r = requests.post(server+ext, headers=headers, data=str({'symbols': symbols_list}).replace('\\'','\"'))\n",
    "\n",
    "# Ensure everything is okay\n",
    "if not r.ok:\n",
    "    r.raise_for_status()\n",
    "    sys.exit()\n",
    "\n",
    "# Return the result\n",
    "print(r.json())\n"
   ]
  },
  {
   "cell_type": "code",
   "execution_count": 38,
   "metadata": {},
   "outputs": [
    {
     "output_type": "execute_result",
     "data": {
      "text/plain": "{}"
     },
     "metadata": {},
     "execution_count": 38
    }
   ],
   "source": [
    "#str({'symbols': symbols_list}).replace('\\'','\"')\n",
    "#\n",
    "mystr = '{\"symbols\": [\"1060P11.3\", \"7SK\", \"A2LD1\", \"A3GALT2P\", \"AA06\", \"AACP\", \"AAED1\", \"AARS\", \"AATK-AS1\", \"AB015752.3\"]}'\n",
    "r = requests.post(server+ext, headers=headers, data=mystr)\n",
    "#[ repr(x) for x in r.iter_lines() ]\n",
    "r.json()"
   ]
  },
  {
   "cell_type": "code",
   "execution_count": 4,
   "metadata": {},
   "outputs": [],
   "source": [
    "# The maximum POST size (and therefore list size) is 1000\n",
    "if len(symbols_list) > 1000:\n",
    "    print('ERROR: POST lookup list is too long ({})'.format(len(symbols_list)))\n",
    "    exit\n",
    "\n",
    "# Import relevant modules\n",
    "import requests, sys\n",
    "\n",
    "# Set some constants\n",
    "server = \"https://rest.ensembl.org\"\n",
    "ext = \"/lookup/symbol/homo_sapiens\"\n",
    "headers={ \"Content-Type\" : \"application/json\", \"Accept\" : \"application/json\"}\n",
    "\n",
    "# # Query the REST server\n",
    "# #r = requests.post(server+ext, headers=headers, data='{ \"symbols\" : [\"BRCA2\", \"BRAF\" ] }')\n",
    "r = requests.post(server+ext, headers=headers, data=str({'symbols': symbols_list}))\n",
    "\n",
    "\n",
    "# # Ensure everything is okay\n",
    "# if not r.ok:\n",
    "#     r.raise_for_status()\n",
    "#     sys.exit()\n",
    "\n",
    "# # Return the result\n",
    "# return(repr(r.json()))\n"
   ]
  },
  {
   "cell_type": "code",
   "execution_count": 17,
   "metadata": {},
   "outputs": [],
   "source": [
    "tmp = { 'symbols' : ['BRCA2', 'BRAF' ] }\n",
    "mydata = str(tmp).replace('\\'','\"')\n",
    "r = requests.post(server+ext, data=mydata)"
   ]
  },
  {
   "cell_type": "code",
   "execution_count": 18,
   "metadata": {},
   "outputs": [
    {
     "output_type": "stream",
     "name": "stdout",
     "text": "b'<html><title>EnsEMBL::REST</title><body><pre>--- '\nb'BRAF: '\nb'  assembly_name: GRCh38'\nb'  biotype: protein_coding'\nb'  db_type: core'\nb'  description: B-Raf proto-oncogene, serine/threonine kinase [Source:HGNC Symbol;Acc:HGNC:1097]'\nb'  display_name: BRAF'\nb'  end: 140924928'\nb'  id: ENSG00000157764'\nb'  logic_name: ensembl_havana_gene_homo_sapiens'\nb'  object_type: Gene'\nb'  seq_region_name: 7'\nb'  source: ensembl_havana'\nb'  species: homo_sapiens'\nb'  start: 140719327'\nb'  strand: -1'\nb'  version: 13'\nb'BRCA2: '\nb'  assembly_name: GRCh38'\nb'  biotype: protein_coding'\nb'  db_type: core'\nb'  description: BRCA2 DNA repair associated [Source:HGNC Symbol;Acc:HGNC:1101]'\nb'  display_name: BRCA2'\nb'  end: 32400266'\nb'  id: ENSG00000139618'\nb'  logic_name: ensembl_havana_gene_homo_sapiens'\nb'  object_type: Gene'\nb'  seq_region_name: 13'\nb'  source: ensembl_havana'\nb'  species: homo_sapiens'\nb'  start: 32315086'\nb'  strand: 1'\nb'  version: 15'\nb'</pre></body></html>'\n"
    },
    {
     "output_type": "execute_result",
     "data": {
      "text/plain": "[None,\n None,\n None,\n None,\n None,\n None,\n None,\n None,\n None,\n None,\n None,\n None,\n None,\n None,\n None,\n None,\n None,\n None,\n None,\n None,\n None,\n None,\n None,\n None,\n None,\n None,\n None,\n None,\n None,\n None,\n None,\n None,\n None,\n None]"
     },
     "metadata": {},
     "execution_count": 18
    }
   ],
   "source": [
    "[ print(x) for x in r.iter_lines() ]"
   ]
  },
  {
   "cell_type": "code",
   "execution_count": null,
   "metadata": {},
   "outputs": [],
   "source": []
  },
  {
   "cell_type": "code",
   "execution_count": null,
   "metadata": {},
   "outputs": [],
   "source": []
  }
 ],
 "metadata": {
  "language_info": {
   "codemirror_mode": {
    "name": "ipython",
    "version": 3
   },
   "file_extension": ".py",
   "mimetype": "text/x-python",
   "name": "python",
   "nbconvert_exporter": "python",
   "pygments_lexer": "ipython3",
   "version": "3.7.7-final"
  },
  "orig_nbformat": 2,
  "kernelspec": {
   "name": "python3",
   "display_name": "Python 3"
  }
 },
 "nbformat": 4,
 "nbformat_minor": 2
}