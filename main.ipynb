{
 "cells": [
  {
   "cell_type": "code",
   "execution_count": 1,
   "metadata": {},
   "outputs": [],
   "source": [
    "# Define the sample HT-Seq datafiles\n",
    "datadir = '/data/BIDS-HPC/private/projects/dmi2/data/all_gene_expression_files_in_target/links'\n",
    "file_fpkm = 'fffee315-9aa3-44d2-8c89-78a2c1d107e7.FPKM.txt'\n",
    "file_fpkm_uq = 'fffee315-9aa3-44d2-8c89-78a2c1d107e7.FPKM-UQ.txt'\n",
    "file_counts = 'fffee315-9aa3-44d2-8c89-78a2c1d107e7.htseq_counts.txt'\n",
    "\n",
    "# Define the reference datafiles\n",
    "gdc_tsv_file = '/data/BIDS-HPC/private/projects/dmi2/data/gencode.gene.info.v22.tsv'\n",
    "gencode_gtf_file = '/data/BIDS-HPC/private/projects/dmi2/data/gencode.v22.annotation.gtf'"
   ]
  },
  {
   "cell_type": "code",
   "execution_count": 2,
   "metadata": {},
   "outputs": [],
   "source": [
    "# Read in all the datafiles into Pandas dataframes\n",
    "import pandas as pd\n",
    "import os\n",
    "df_fpkm = pd.read_csv(os.path.join(datadir, file_fpkm), sep='\\t', names=['id','intensity'])\n",
    "df_fpkm_uq = pd.read_csv(os.path.join(datadir, file_fpkm_uq), sep='\\t', names=['id','intensity'])\n",
    "df_count = pd.read_csv(os.path.join(datadir, file_counts), sep='\\t', skipfooter=5, names=['id','intensity'])\n",
    "df_samples = [df_count, df_fpkm, df_fpkm_uq]\n",
    "df_gdc = pd.read_csv(gdc_tsv_file, sep='\\t')\n",
    "df_gencode = pd.read_csv(gencode_gtf_file, sep='\\t', skiprows=5, header=None)\n",
    "df_gencode_genes = df_gencode[df_gencode[2]=='gene'].reset_index(drop=True)\n",
    "df_gencode_exons = df_gencode[df_gencode[2]=='exon'].reset_index(drop=True)"
   ]
  },
  {
   "cell_type": "code",
   "execution_count": 3,
   "metadata": {},
   "outputs": [],
   "source": [
    "# Format the sample dataframes for consistency\n",
    "for idf, df in enumerate(df_samples):\n",
    "    df = df.set_index('id')\n",
    "    df_samples[idf] = df.sort_index()"
   ]
  },
  {
   "cell_type": "code",
   "execution_count": 4,
   "metadata": {},
   "outputs": [],
   "source": [
    "# Format the df_gencode_genes dataframe for consistency\n",
    "df_gencode_genes['id'] = df_gencode_genes.apply(lambda x: x[8].split()[1].split('\\\"')[1], axis=1)\n",
    "df_gencode_genes['type'] = df_gencode_genes.apply(lambda x: x[8].split()[3].split('\\\"')[1], axis=1)\n",
    "df_gencode_genes['name'] = df_gencode_genes.apply(lambda x: x[8].split()[7].split('\\\"')[1], axis=1)\n",
    "df_gencode_genes = df_gencode_genes.rename({3: 'start', 4: 'end', 6: 'strand', 0: 'seqname'}, axis='columns')\n",
    "df_gencode_genes = df_gencode_genes.set_index('id')\n",
    "df_gencode_genes = df_gencode_genes.sort_index()"
   ]
  },
  {
   "cell_type": "code",
   "execution_count": 5,
   "metadata": {},
   "outputs": [],
   "source": [
    "# Format the df_gencode_exons dataframe for consistency\n",
    "df_gencode_exons['id'] = df_gencode_exons.apply(lambda x: x[8].split()[1].split('\\\"')[1], axis=1)\n",
    "df_gencode_exons['type'] = df_gencode_exons.apply(lambda x: x[8].split()[3].split('\\\"')[1], axis=1)\n",
    "df_gencode_exons['name'] = df_gencode_exons.apply(lambda x: x[8].split()[7].split('\\\"')[1], axis=1)\n",
    "df_gencode_exons = df_gencode_exons.rename({3: 'start', 4: 'end', 6: 'strand', 0: 'seqname'}, axis='columns')\n",
    "df_gencode_exons = df_gencode_exons.set_index('id')\n",
    "df_gencode_exons = df_gencode_exons.sort_index()"
   ]
  },
  {
   "cell_type": "code",
   "execution_count": 6,
   "metadata": {},
   "outputs": [],
   "source": [
    "# Format the df_gdc dataframe for consistency\n",
    "df_gdc = df_gdc.rename({'gene_id': 'id', 'gene_name': 'name', 'gene_type': 'type'}, axis='columns')\n",
    "df_gdc = df_gdc.set_index('id')\n",
    "df_gdc = df_gdc.sort_index()"
   ]
  },
  {
   "cell_type": "code",
   "execution_count": 7,
   "metadata": {},
   "outputs": [
    {
     "output_type": "stream",
     "name": "stdout",
     "text": "True\nTrue\nTrue\nTrue\nTrue\nTrue\n"
    }
   ],
   "source": [
    "# Check for column equality between the two reference datafiles\n",
    "for colname in ['name', 'seqname', 'start', 'end', 'strand', 'type']:\n",
    "    print(df_gdc[colname].equals(df_gencode_genes[colname]))"
   ]
  },
  {
   "cell_type": "code",
   "execution_count": 8,
   "metadata": {},
   "outputs": [
    {
     "output_type": "stream",
     "name": "stdout",
     "text": "0 1 True\n0 2 True\n0 3 True\n0 4 True\n1 2 True\n1 3 True\n1 4 True\n2 3 True\n2 4 True\n3 4 True\n"
    }
   ],
   "source": [
    "# Check that the ID columns of all five dataframes are exactly the same\n",
    "dfs = df_samples + [df_gdc, df_gencode_genes]\n",
    "ndfs = len(dfs)\n",
    "import numpy as np\n",
    "for idf1 in range(ndfs-1):\n",
    "    for idf2 in np.array(range(ndfs-1-idf1)) + idf1+1:\n",
    "        df1 = dfs[idf1]\n",
    "        df2 = dfs[idf2]\n",
    "        print(idf1, idf2, df1.index.equals(df2.index))"
   ]
  },
  {
   "cell_type": "code",
   "execution_count": 9,
   "metadata": {},
   "outputs": [
    {
     "output_type": "stream",
     "name": "stdout",
     "text": "0/100 complete...\n1/100 complete...\n2/100 complete...\n3/100 complete...\n4/100 complete...\n5/100 complete...\n6/100 complete...\n7/100 complete...\n8/100 complete...\n9/100 complete...\n10/100 complete...\n11/100 complete...\n12/100 complete...\n13/100 complete...\n14/100 complete...\n15/100 complete...\n16/100 complete...\n17/100 complete...\n18/100 complete...\n19/100 complete...\n20/100 complete...\n21/100 complete...\n22/100 complete...\n23/100 complete...\n24/100 complete...\n25/100 complete...\n26/100 complete...\n27/100 complete...\n28/100 complete...\n29/100 complete...\n30/100 complete...\n31/100 complete...\n32/100 complete...\n33/100 complete...\n34/100 complete...\n35/100 complete...\n36/100 complete...\n37/100 complete...\n38/100 complete...\n39/100 complete...\n40/100 complete...\n41/100 complete...\n42/100 complete...\n43/100 complete...\n44/100 complete...\n45/100 complete...\n46/100 complete...\n47/100 complete...\n48/100 complete...\n49/100 complete...\n50/100 complete...\n51/100 complete...\n52/100 complete...\n53/100 complete...\n54/100 complete...\n55/100 complete...\n56/100 complete...\n57/100 complete...\n58/100 complete...\n59/100 complete...\n60/100 complete...\n61/100 complete...\n62/100 complete...\n63/100 complete...\n64/100 complete...\n65/100 complete...\n66/100 complete...\n67/100 complete...\n68/100 complete...\n69/100 complete...\n70/100 complete...\n71/100 complete...\n72/100 complete...\n73/100 complete...\n74/100 complete...\n75/100 complete...\n76/100 complete...\n77/100 complete...\n78/100 complete...\n79/100 complete...\n80/100 complete...\n81/100 complete...\n82/100 complete...\n83/100 complete...\n84/100 complete...\n85/100 complete...\n86/100 complete...\n87/100 complete...\n88/100 complete...\n89/100 complete...\n90/100 complete...\n91/100 complete...\n92/100 complete...\n93/100 complete...\n94/100 complete...\n95/100 complete...\n96/100 complete...\n97/100 complete...\n98/100 complete...\n99/100 complete...\n100/100 complete...\n"
    }
   ],
   "source": [
    "# Calculate the exon length of each gene (corresponding to its non-overlapping exons) and add this as a column to the df_gencode_genes dataframe\n",
    "# Takes about 10 minutes\n",
    "\n",
    "# Import relevant library\n",
    "import numpy as np\n",
    "\n",
    "# Set the number of steps to output so we can evaluate progress\n",
    "nsteps = 100\n",
    "\n",
    "# Set the step size in units of the size of the df_gencode_exons dataframe\n",
    "unit_len = int(len(df_gencode_exons) / nsteps)\n",
    "\n",
    "# Initialize some values\n",
    "istep = 0 # the step that we're on\n",
    "exon_lengths = [] # the array holding the final exon gene lengths (non-overlapping union of exon base pairs)\n",
    "prev_idx = '' # set the previous index to null\n",
    "\n",
    "# For every index in the ordered-by-index exons dataframe...\n",
    "for iidx, idx in enumerate(df_gencode_exons.index):\n",
    "\n",
    "    # Get the current row of data in the dataframe\n",
    "    curr_row = df_gencode_exons.iloc[iidx,:]\n",
    "    \n",
    "    # Output progress if the time is right\n",
    "    if (iidx%unit_len) == 0:\n",
    "        print('{}/{} complete...'.format(istep,nsteps))\n",
    "        istep = istep + 1\n",
    "\n",
    "    # If the current index is not equal to the previous index...\n",
    "    if idx != prev_idx:\n",
    "\n",
    "        # If the previous index is not null (i.e., if this isn't the very first loop iteration and therefore base_pairs has been initialized below), calculate and store the number of unique base pairs for the current unique idx\n",
    "        if prev_idx != '':\n",
    "            exon_lengths.append(len(set(np.concatenate(base_pairs))))\n",
    "\n",
    "        # Initialize the base_pairs holder (which will ultimately be a list of lists of base pairs)\n",
    "        base_pairs = []\n",
    "\n",
    "    # Always append the current set of base pairs corresponding to curr_row to the base_pairs list\n",
    "    base_pairs.append(np.arange(curr_row['start'], curr_row['end']+1))\n",
    "\n",
    "    # Set the previous index to the current index\n",
    "    prev_idx = idx\n",
    "\n",
    "# Calculate and store the number of unique base pairs for the final unique idx\n",
    "exon_lengths.append(len(set(np.concatenate(base_pairs))))\n",
    "\n",
    "# Add a column of exon gene length to the genes dataframe\n",
    "df_gencode_genes['exon_length'] = exon_lengths"
   ]
  },
  {
   "cell_type": "code",
   "execution_count": 22,
   "metadata": {},
   "outputs": [
    {
     "output_type": "stream",
     "name": "stdout",
     "text": "True\n0.09319213127634611 3.132997043405492\n"
    }
   ],
   "source": [
    "# Show that we've reproduced what GDC calls the \"exon_length\" and what I'm assuming is probably the \"aggregate_length\" as well\n",
    "df_gencode_genes = df_gencode_genes.rename({'aggregate_length': 'exon_length'}, axis='columns')\n",
    "print(df_gencode_genes['exon_length'].equals(df_gdc['exon_length']))\n",
    "\n",
    "# Show that using these exon lengths we have achieved adjusted counts that are proportional to the FPKM values\n",
    "tmp = df_samples[0]['intensity'] / df_gencode_genes['exon_length'] / df_samples[1]['intensity']\n",
    "tmp = tmp[tmp.notnull()]\n",
    "print(tmp.std()/tmp.mean()*100, (tmp-tmp.mean()).abs().max()/tmp.mean()*100)"
   ]
  },
  {
   "cell_type": "code",
   "execution_count": null,
   "metadata": {},
   "outputs": [],
   "source": []
  },
  {
   "cell_type": "code",
   "execution_count": null,
   "metadata": {},
   "outputs": [],
   "source": []
  },
  {
   "cell_type": "code",
   "execution_count": 27,
   "metadata": {},
   "outputs": [
    {
     "output_type": "execute_result",
     "data": {
      "text/plain": "43200"
     },
     "metadata": {},
     "execution_count": 27
    }
   ],
   "source": [
    "tol = 1e-6\n",
    "((df_fpkm['fpkm']/df_fpkm['fpkm'].sum() - df_fpkm_uq['fpkm-uq']/df_fpkm_uq['fpkm-uq'].sum()).abs() < tol).sum() # This line shows that the FPKM and FPKM-UQ files have the same values up to a fixed normalization\n",
    "((df_counts['count']/df_counts['count'].sum() - df_fpkm_uq['fpkm-uq']/df_fpkm_uq['fpkm-uq'].sum()).abs() < tol).sum() # this line shows that this is not true of the counts"
   ]
  },
  {
   "cell_type": "code",
   "execution_count": 30,
   "metadata": {},
   "outputs": [
    {
     "output_type": "execute_result",
     "data": {
      "text/plain": "True"
     },
     "metadata": {},
     "execution_count": 30
    }
   ],
   "source": [
    "#set(df_fpkm['id']) - set(df_gdc['gene_id'])\n",
    "set(df_fpkm['id']) == set(df_gdc['gene_id'])"
   ]
  },
  {
   "cell_type": "code",
   "execution_count": 68,
   "metadata": {},
   "outputs": [
    {
     "output_type": "stream",
     "name": "stdout",
     "text": "331163.3667\n"
    },
    {
     "output_type": "execute_result",
     "data": {
      "text/plain": "26613.247395329272"
     },
     "metadata": {},
     "execution_count": 68
    }
   ],
   "source": [
    "import numpy as np\n",
    "arr = df_fpkm['fpkm'].to_numpy()\n",
    "quantiles = np.quantile(arr, [0,0.25,0.5,0.75,1])\n",
    "#arr[quantiles[0]<arr and arr<quantiles[3]]\n",
    "print(arr[(quantiles[3]<arr) & (arr<quantiles[4])].sum())\n",
    "1/(df_fpkm['fpkm'].max()/df_fpkm_uq['fpkm-uq'].max())"
   ]
  },
  {
   "cell_type": "code",
   "execution_count": 45,
   "metadata": {},
   "outputs": [
    {
     "output_type": "execute_result",
     "data": {
      "text/plain": "3865.25345"
     },
     "metadata": {},
     "execution_count": 45
    }
   ],
   "source": [
    "arr.max()/2"
   ]
  },
  {
   "cell_type": "code",
   "execution_count": 29,
   "metadata": {},
   "outputs": [
    {
     "output_type": "error",
     "ename": "ValueError",
     "evalue": "Bin edges must be unique: array([0.0000000e+00, 0.0000000e+00, 4.7900000e-02, 8.8105000e-01,\n       7.7305069e+03]).\nYou can drop duplicate edges by setting the 'duplicates' kwarg",
     "traceback": [
      "\u001b[0;31m---------------------------------------------------------------------------\u001b[0m",
      "\u001b[0;31mValueError\u001b[0m                                Traceback (most recent call last)",
      "\u001b[0;32m<ipython-input-29-6394ab3f1f0c>\u001b[0m in \u001b[0;36m<module>\u001b[0;34m\u001b[0m\n\u001b[0;32m----> 1\u001b[0;31m \u001b[0mpd\u001b[0m\u001b[0;34m.\u001b[0m\u001b[0mqcut\u001b[0m\u001b[0;34m(\u001b[0m\u001b[0mdf_fpkm\u001b[0m\u001b[0;34m[\u001b[0m\u001b[0;34m'fpkm'\u001b[0m\u001b[0;34m]\u001b[0m\u001b[0;34m,\u001b[0m \u001b[0;36m4\u001b[0m\u001b[0;34m)\u001b[0m\u001b[0;34m\u001b[0m\u001b[0;34m\u001b[0m\u001b[0m\n\u001b[0m",
      "\u001b[0;32m/data/weismanal/miniconda3/envs/bioinfo/lib/python3.6/site-packages/pandas/core/reshape/tile.py\u001b[0m in \u001b[0;36mqcut\u001b[0;34m(x, q, labels, retbins, precision, duplicates)\u001b[0m\n\u001b[1;32m    346\u001b[0m         \u001b[0minclude_lowest\u001b[0m\u001b[0;34m=\u001b[0m\u001b[0;32mTrue\u001b[0m\u001b[0;34m,\u001b[0m\u001b[0;34m\u001b[0m\u001b[0;34m\u001b[0m\u001b[0m\n\u001b[1;32m    347\u001b[0m         \u001b[0mdtype\u001b[0m\u001b[0;34m=\u001b[0m\u001b[0mdtype\u001b[0m\u001b[0;34m,\u001b[0m\u001b[0;34m\u001b[0m\u001b[0;34m\u001b[0m\u001b[0m\n\u001b[0;32m--> 348\u001b[0;31m         \u001b[0mduplicates\u001b[0m\u001b[0;34m=\u001b[0m\u001b[0mduplicates\u001b[0m\u001b[0;34m,\u001b[0m\u001b[0;34m\u001b[0m\u001b[0;34m\u001b[0m\u001b[0m\n\u001b[0m\u001b[1;32m    349\u001b[0m     )\n\u001b[1;32m    350\u001b[0m \u001b[0;34m\u001b[0m\u001b[0m\n",
      "\u001b[0;32m/data/weismanal/miniconda3/envs/bioinfo/lib/python3.6/site-packages/pandas/core/reshape/tile.py\u001b[0m in \u001b[0;36m_bins_to_cuts\u001b[0;34m(x, bins, right, labels, precision, include_lowest, dtype, duplicates)\u001b[0m\n\u001b[1;32m    379\u001b[0m         \u001b[0;32mif\u001b[0m \u001b[0mduplicates\u001b[0m \u001b[0;34m==\u001b[0m \u001b[0;34m\"raise\"\u001b[0m\u001b[0;34m:\u001b[0m\u001b[0;34m\u001b[0m\u001b[0;34m\u001b[0m\u001b[0m\n\u001b[1;32m    380\u001b[0m             raise ValueError(\n\u001b[0;32m--> 381\u001b[0;31m                 \u001b[0;34mf\"Bin edges must be unique: {repr(bins)}.\\n\"\u001b[0m\u001b[0;34m\u001b[0m\u001b[0;34m\u001b[0m\u001b[0m\n\u001b[0m\u001b[1;32m    382\u001b[0m                 \u001b[0;34mf\"You can drop duplicate edges by setting the 'duplicates' kwarg\"\u001b[0m\u001b[0;34m\u001b[0m\u001b[0;34m\u001b[0m\u001b[0m\n\u001b[1;32m    383\u001b[0m             )\n",
      "\u001b[0;31mValueError\u001b[0m: Bin edges must be unique: array([0.0000000e+00, 0.0000000e+00, 4.7900000e-02, 8.8105000e-01,\n       7.7305069e+03]).\nYou can drop duplicate edges by setting the 'duplicates' kwarg"
     ]
    }
   ],
   "source": [
    "pd.qcut(df_fpkm['fpkm'], 4)"
   ]
  },
  {
   "cell_type": "code",
   "execution_count": 9,
   "metadata": {},
   "outputs": [
    {
     "output_type": "execute_result",
     "data": {
      "text/plain": "                       id  count\n0      ENSG00000000003.13  11205\n1       ENSG00000000005.5    334\n2      ENSG00000000419.11   4022\n3      ENSG00000000457.12    539\n4      ENSG00000000460.15    898\n...                   ...    ...\n60478   ENSGR0000275287.3      0\n60479   ENSGR0000276543.3      0\n60480   ENSGR0000277120.3      0\n60481   ENSGR0000280767.1      0\n60482   ENSGR0000281849.1      0\n\n[60483 rows x 2 columns]",
      "text/html": "<div>\n<style scoped>\n    .dataframe tbody tr th:only-of-type {\n        vertical-align: middle;\n    }\n\n    .dataframe tbody tr th {\n        vertical-align: top;\n    }\n\n    .dataframe thead th {\n        text-align: right;\n    }\n</style>\n<table border=\"1\" class=\"dataframe\">\n  <thead>\n    <tr style=\"text-align: right;\">\n      <th></th>\n      <th>id</th>\n      <th>count</th>\n    </tr>\n  </thead>\n  <tbody>\n    <tr>\n      <th>0</th>\n      <td>ENSG00000000003.13</td>\n      <td>11205</td>\n    </tr>\n    <tr>\n      <th>1</th>\n      <td>ENSG00000000005.5</td>\n      <td>334</td>\n    </tr>\n    <tr>\n      <th>2</th>\n      <td>ENSG00000000419.11</td>\n      <td>4022</td>\n    </tr>\n    <tr>\n      <th>3</th>\n      <td>ENSG00000000457.12</td>\n      <td>539</td>\n    </tr>\n    <tr>\n      <th>4</th>\n      <td>ENSG00000000460.15</td>\n      <td>898</td>\n    </tr>\n    <tr>\n      <th>...</th>\n      <td>...</td>\n      <td>...</td>\n    </tr>\n    <tr>\n      <th>60478</th>\n      <td>ENSGR0000275287.3</td>\n      <td>0</td>\n    </tr>\n    <tr>\n      <th>60479</th>\n      <td>ENSGR0000276543.3</td>\n      <td>0</td>\n    </tr>\n    <tr>\n      <th>60480</th>\n      <td>ENSGR0000277120.3</td>\n      <td>0</td>\n    </tr>\n    <tr>\n      <th>60481</th>\n      <td>ENSGR0000280767.1</td>\n      <td>0</td>\n    </tr>\n    <tr>\n      <th>60482</th>\n      <td>ENSGR0000281849.1</td>\n      <td>0</td>\n    </tr>\n  </tbody>\n</table>\n<p>60483 rows × 2 columns</p>\n</div>"
     },
     "metadata": {},
     "execution_count": 9
    }
   ],
   "source": [
    "df_counts"
   ]
  },
  {
   "cell_type": "code",
   "execution_count": 83,
   "metadata": {},
   "outputs": [
    {
     "output_type": "error",
     "ename": "KeyError",
     "evalue": "'id'",
     "traceback": [
      "\u001b[0;31m---------------------------------------------------------------------------\u001b[0m",
      "\u001b[0;31mKeyError\u001b[0m                                  Traceback (most recent call last)",
      "\u001b[0;32m/data/weismanal/miniconda3/envs/bioinfo/lib/python3.6/site-packages/pandas/core/indexes/base.py\u001b[0m in \u001b[0;36mget_loc\u001b[0;34m(self, key, method, tolerance)\u001b[0m\n\u001b[1;32m   2645\u001b[0m             \u001b[0;32mtry\u001b[0m\u001b[0;34m:\u001b[0m\u001b[0;34m\u001b[0m\u001b[0;34m\u001b[0m\u001b[0m\n\u001b[0;32m-> 2646\u001b[0;31m                 \u001b[0;32mreturn\u001b[0m \u001b[0mself\u001b[0m\u001b[0;34m.\u001b[0m\u001b[0m_engine\u001b[0m\u001b[0;34m.\u001b[0m\u001b[0mget_loc\u001b[0m\u001b[0;34m(\u001b[0m\u001b[0mkey\u001b[0m\u001b[0;34m)\u001b[0m\u001b[0;34m\u001b[0m\u001b[0;34m\u001b[0m\u001b[0m\n\u001b[0m\u001b[1;32m   2647\u001b[0m             \u001b[0;32mexcept\u001b[0m \u001b[0mKeyError\u001b[0m\u001b[0;34m:\u001b[0m\u001b[0;34m\u001b[0m\u001b[0;34m\u001b[0m\u001b[0m\n",
      "\u001b[0;32mpandas/_libs/index.pyx\u001b[0m in \u001b[0;36mpandas._libs.index.IndexEngine.get_loc\u001b[0;34m()\u001b[0m\n",
      "\u001b[0;32mpandas/_libs/index.pyx\u001b[0m in \u001b[0;36mpandas._libs.index.IndexEngine.get_loc\u001b[0;34m()\u001b[0m\n",
      "\u001b[0;32mpandas/_libs/hashtable_class_helper.pxi\u001b[0m in \u001b[0;36mpandas._libs.hashtable.PyObjectHashTable.get_item\u001b[0;34m()\u001b[0m\n",
      "\u001b[0;32mpandas/_libs/hashtable_class_helper.pxi\u001b[0m in \u001b[0;36mpandas._libs.hashtable.PyObjectHashTable.get_item\u001b[0;34m()\u001b[0m\n",
      "\u001b[0;31mKeyError\u001b[0m: 'id'",
      "\nDuring handling of the above exception, another exception occurred:\n",
      "\u001b[0;31mKeyError\u001b[0m                                  Traceback (most recent call last)",
      "\u001b[0;32m<ipython-input-83-d6d0360787b9>\u001b[0m in \u001b[0;36m<module>\u001b[0;34m\u001b[0m\n\u001b[1;32m      6\u001b[0m \u001b[0;31m#df_gdc['strand'].equals(df_gencode['strand'])\u001b[0m\u001b[0;34m\u001b[0m\u001b[0;34m\u001b[0m\u001b[0;34m\u001b[0m\u001b[0m\n\u001b[1;32m      7\u001b[0m \u001b[0;31m#df_gdc['type'].equals(df_gencode['type'])\u001b[0m\u001b[0;34m\u001b[0m\u001b[0;34m\u001b[0m\u001b[0;34m\u001b[0m\u001b[0m\n\u001b[0;32m----> 8\u001b[0;31m \u001b[0mdf_gdc\u001b[0m\u001b[0;34m[\u001b[0m\u001b[0;34m'id'\u001b[0m\u001b[0;34m]\u001b[0m\u001b[0;34m\u001b[0m\u001b[0;34m\u001b[0m\u001b[0m\n\u001b[0m",
      "\u001b[0;32m/data/weismanal/miniconda3/envs/bioinfo/lib/python3.6/site-packages/pandas/core/frame.py\u001b[0m in \u001b[0;36m__getitem__\u001b[0;34m(self, key)\u001b[0m\n\u001b[1;32m   2798\u001b[0m             \u001b[0;32mif\u001b[0m \u001b[0mself\u001b[0m\u001b[0;34m.\u001b[0m\u001b[0mcolumns\u001b[0m\u001b[0;34m.\u001b[0m\u001b[0mnlevels\u001b[0m \u001b[0;34m>\u001b[0m \u001b[0;36m1\u001b[0m\u001b[0;34m:\u001b[0m\u001b[0;34m\u001b[0m\u001b[0;34m\u001b[0m\u001b[0m\n\u001b[1;32m   2799\u001b[0m                 \u001b[0;32mreturn\u001b[0m \u001b[0mself\u001b[0m\u001b[0;34m.\u001b[0m\u001b[0m_getitem_multilevel\u001b[0m\u001b[0;34m(\u001b[0m\u001b[0mkey\u001b[0m\u001b[0;34m)\u001b[0m\u001b[0;34m\u001b[0m\u001b[0;34m\u001b[0m\u001b[0m\n\u001b[0;32m-> 2800\u001b[0;31m             \u001b[0mindexer\u001b[0m \u001b[0;34m=\u001b[0m \u001b[0mself\u001b[0m\u001b[0;34m.\u001b[0m\u001b[0mcolumns\u001b[0m\u001b[0;34m.\u001b[0m\u001b[0mget_loc\u001b[0m\u001b[0;34m(\u001b[0m\u001b[0mkey\u001b[0m\u001b[0;34m)\u001b[0m\u001b[0;34m\u001b[0m\u001b[0;34m\u001b[0m\u001b[0m\n\u001b[0m\u001b[1;32m   2801\u001b[0m             \u001b[0;32mif\u001b[0m \u001b[0mis_integer\u001b[0m\u001b[0;34m(\u001b[0m\u001b[0mindexer\u001b[0m\u001b[0;34m)\u001b[0m\u001b[0;34m:\u001b[0m\u001b[0;34m\u001b[0m\u001b[0;34m\u001b[0m\u001b[0m\n\u001b[1;32m   2802\u001b[0m                 \u001b[0mindexer\u001b[0m \u001b[0;34m=\u001b[0m \u001b[0;34m[\u001b[0m\u001b[0mindexer\u001b[0m\u001b[0;34m]\u001b[0m\u001b[0;34m\u001b[0m\u001b[0;34m\u001b[0m\u001b[0m\n",
      "\u001b[0;32m/data/weismanal/miniconda3/envs/bioinfo/lib/python3.6/site-packages/pandas/core/indexes/base.py\u001b[0m in \u001b[0;36mget_loc\u001b[0;34m(self, key, method, tolerance)\u001b[0m\n\u001b[1;32m   2646\u001b[0m                 \u001b[0;32mreturn\u001b[0m \u001b[0mself\u001b[0m\u001b[0;34m.\u001b[0m\u001b[0m_engine\u001b[0m\u001b[0;34m.\u001b[0m\u001b[0mget_loc\u001b[0m\u001b[0;34m(\u001b[0m\u001b[0mkey\u001b[0m\u001b[0;34m)\u001b[0m\u001b[0;34m\u001b[0m\u001b[0;34m\u001b[0m\u001b[0m\n\u001b[1;32m   2647\u001b[0m             \u001b[0;32mexcept\u001b[0m \u001b[0mKeyError\u001b[0m\u001b[0;34m:\u001b[0m\u001b[0;34m\u001b[0m\u001b[0;34m\u001b[0m\u001b[0m\n\u001b[0;32m-> 2648\u001b[0;31m                 \u001b[0;32mreturn\u001b[0m \u001b[0mself\u001b[0m\u001b[0;34m.\u001b[0m\u001b[0m_engine\u001b[0m\u001b[0;34m.\u001b[0m\u001b[0mget_loc\u001b[0m\u001b[0;34m(\u001b[0m\u001b[0mself\u001b[0m\u001b[0;34m.\u001b[0m\u001b[0m_maybe_cast_indexer\u001b[0m\u001b[0;34m(\u001b[0m\u001b[0mkey\u001b[0m\u001b[0;34m)\u001b[0m\u001b[0;34m)\u001b[0m\u001b[0;34m\u001b[0m\u001b[0;34m\u001b[0m\u001b[0m\n\u001b[0m\u001b[1;32m   2649\u001b[0m         \u001b[0mindexer\u001b[0m \u001b[0;34m=\u001b[0m \u001b[0mself\u001b[0m\u001b[0;34m.\u001b[0m\u001b[0mget_indexer\u001b[0m\u001b[0;34m(\u001b[0m\u001b[0;34m[\u001b[0m\u001b[0mkey\u001b[0m\u001b[0;34m]\u001b[0m\u001b[0;34m,\u001b[0m \u001b[0mmethod\u001b[0m\u001b[0;34m=\u001b[0m\u001b[0mmethod\u001b[0m\u001b[0;34m,\u001b[0m \u001b[0mtolerance\u001b[0m\u001b[0;34m=\u001b[0m\u001b[0mtolerance\u001b[0m\u001b[0;34m)\u001b[0m\u001b[0;34m\u001b[0m\u001b[0;34m\u001b[0m\u001b[0m\n\u001b[1;32m   2650\u001b[0m         \u001b[0;32mif\u001b[0m \u001b[0mindexer\u001b[0m\u001b[0;34m.\u001b[0m\u001b[0mndim\u001b[0m \u001b[0;34m>\u001b[0m \u001b[0;36m1\u001b[0m \u001b[0;32mor\u001b[0m \u001b[0mindexer\u001b[0m\u001b[0;34m.\u001b[0m\u001b[0msize\u001b[0m \u001b[0;34m>\u001b[0m \u001b[0;36m1\u001b[0m\u001b[0;34m:\u001b[0m\u001b[0;34m\u001b[0m\u001b[0;34m\u001b[0m\u001b[0m\n",
      "\u001b[0;32mpandas/_libs/index.pyx\u001b[0m in \u001b[0;36mpandas._libs.index.IndexEngine.get_loc\u001b[0;34m()\u001b[0m\n",
      "\u001b[0;32mpandas/_libs/index.pyx\u001b[0m in \u001b[0;36mpandas._libs.index.IndexEngine.get_loc\u001b[0;34m()\u001b[0m\n",
      "\u001b[0;32mpandas/_libs/hashtable_class_helper.pxi\u001b[0m in \u001b[0;36mpandas._libs.hashtable.PyObjectHashTable.get_item\u001b[0;34m()\u001b[0m\n",
      "\u001b[0;32mpandas/_libs/hashtable_class_helper.pxi\u001b[0m in \u001b[0;36mpandas._libs.hashtable.PyObjectHashTable.get_item\u001b[0;34m()\u001b[0m\n",
      "\u001b[0;31mKeyError\u001b[0m: 'id'"
     ]
    }
   ],
   "source": [
    "#df_gdc.index.equals(df_gencode.index)\n",
    "#df_gdc['name'].equals(df_gencode['name'])\n",
    "#df_gdc['seqname'].equals(df_gencode['seqname'])\n",
    "#df_gdc['start'].equals(df_gencode['start'])\n",
    "#df_gdc['end'].equals(df_gencode['end'])\n",
    "#df_gdc['strand'].equals(df_gencode['strand'])\n",
    "#df_gdc['type'].equals(df_gencode['type'])"
   ]
  },
  {
   "cell_type": "code",
   "execution_count": 70,
   "metadata": {},
   "outputs": [
    {
     "output_type": "execute_result",
     "data": {
      "text/plain": "                             name seqname      start        end strand  \\\nid                                                                       \nENSG00000000003.13         TSPAN6    chrX  100627109  100639991      -   \nENSG00000000005.5            TNMD    chrX  100584802  100599885      +   \nENSG00000000419.11           DPM1   chr20   50934867   50958555      -   \nENSG00000000457.12          SCYL3    chr1  169849631  169894267      -   \nENSG00000000460.15       C1orf112    chr1  169662007  169854080      +   \n...                           ...     ...        ...        ...    ...   \nENSGR0000275287.3     Metazoa_SRP    chrY     388100     388389      -   \nENSGR0000276543.3      AJ271736.1    chrY   57209151   57209218      +   \nENSGR0000277120.3         MIR6089    chrY    2609191    2609254      +   \nENSGR0000280767.1   RP13-465B17.5    chrY     419157     421980      +   \nENSGR0000281849.1   RP13-465B17.4    chrY     386980     405579      +   \n\n                              type gene_status           havana_gene  \\\nid                                                                     \nENSG00000000003.13  protein_coding       KNOWN  OTTHUMG00000022002.1   \nENSG00000000005.5   protein_coding       KNOWN  OTTHUMG00000022001.1   \nENSG00000000419.11  protein_coding       KNOWN  OTTHUMG00000032742.2   \nENSG00000000457.12  protein_coding       KNOWN  OTTHUMG00000035941.4   \nENSG00000000460.15  protein_coding       KNOWN  OTTHUMG00000035821.7   \n...                            ...         ...                   ...   \nENSGR0000275287.3         misc_RNA       NOVEL                   NaN   \nENSGR0000276543.3            miRNA       NOVEL                   NaN   \nENSGR0000277120.3            miRNA       KNOWN                   NaN   \nENSGR0000280767.1          lincRNA       NOVEL  OTTHUMG00000189993.1   \nENSGR0000281849.1        antisense       NOVEL  OTTHUMG00000189992.1   \n\n                    full_length  exon_length  exon_num  \nid                                                      \nENSG00000000003.13        12883         4535        34  \nENSG00000000005.5         15084         1610        10  \nENSG00000000419.11        23689         1207        53  \nENSG00000000457.12        44637         6883        63  \nENSG00000000460.15       192074         5967       151  \n...                         ...          ...       ...  \nENSGR0000275287.3           290          290         1  \nENSGR0000276543.3            68           68         1  \nENSGR0000277120.3            64           64         1  \nENSGR0000280767.1          2824          515         2  \nENSGR0000281849.1         18600          484         2  \n\n[60483 rows x 11 columns]",
      "text/html": "<div>\n<style scoped>\n    .dataframe tbody tr th:only-of-type {\n        vertical-align: middle;\n    }\n\n    .dataframe tbody tr th {\n        vertical-align: top;\n    }\n\n    .dataframe thead th {\n        text-align: right;\n    }\n</style>\n<table border=\"1\" class=\"dataframe\">\n  <thead>\n    <tr style=\"text-align: right;\">\n      <th></th>\n      <th>name</th>\n      <th>seqname</th>\n      <th>start</th>\n      <th>end</th>\n      <th>strand</th>\n      <th>type</th>\n      <th>gene_status</th>\n      <th>havana_gene</th>\n      <th>full_length</th>\n      <th>exon_length</th>\n      <th>exon_num</th>\n    </tr>\n    <tr>\n      <th>id</th>\n      <th></th>\n      <th></th>\n      <th></th>\n      <th></th>\n      <th></th>\n      <th></th>\n      <th></th>\n      <th></th>\n      <th></th>\n      <th></th>\n      <th></th>\n    </tr>\n  </thead>\n  <tbody>\n    <tr>\n      <th>ENSG00000000003.13</th>\n      <td>TSPAN6</td>\n      <td>chrX</td>\n      <td>100627109</td>\n      <td>100639991</td>\n      <td>-</td>\n      <td>protein_coding</td>\n      <td>KNOWN</td>\n      <td>OTTHUMG00000022002.1</td>\n      <td>12883</td>\n      <td>4535</td>\n      <td>34</td>\n    </tr>\n    <tr>\n      <th>ENSG00000000005.5</th>\n      <td>TNMD</td>\n      <td>chrX</td>\n      <td>100584802</td>\n      <td>100599885</td>\n      <td>+</td>\n      <td>protein_coding</td>\n      <td>KNOWN</td>\n      <td>OTTHUMG00000022001.1</td>\n      <td>15084</td>\n      <td>1610</td>\n      <td>10</td>\n    </tr>\n    <tr>\n      <th>ENSG00000000419.11</th>\n      <td>DPM1</td>\n      <td>chr20</td>\n      <td>50934867</td>\n      <td>50958555</td>\n      <td>-</td>\n      <td>protein_coding</td>\n      <td>KNOWN</td>\n      <td>OTTHUMG00000032742.2</td>\n      <td>23689</td>\n      <td>1207</td>\n      <td>53</td>\n    </tr>\n    <tr>\n      <th>ENSG00000000457.12</th>\n      <td>SCYL3</td>\n      <td>chr1</td>\n      <td>169849631</td>\n      <td>169894267</td>\n      <td>-</td>\n      <td>protein_coding</td>\n      <td>KNOWN</td>\n      <td>OTTHUMG00000035941.4</td>\n      <td>44637</td>\n      <td>6883</td>\n      <td>63</td>\n    </tr>\n    <tr>\n      <th>ENSG00000000460.15</th>\n      <td>C1orf112</td>\n      <td>chr1</td>\n      <td>169662007</td>\n      <td>169854080</td>\n      <td>+</td>\n      <td>protein_coding</td>\n      <td>KNOWN</td>\n      <td>OTTHUMG00000035821.7</td>\n      <td>192074</td>\n      <td>5967</td>\n      <td>151</td>\n    </tr>\n    <tr>\n      <th>...</th>\n      <td>...</td>\n      <td>...</td>\n      <td>...</td>\n      <td>...</td>\n      <td>...</td>\n      <td>...</td>\n      <td>...</td>\n      <td>...</td>\n      <td>...</td>\n      <td>...</td>\n      <td>...</td>\n    </tr>\n    <tr>\n      <th>ENSGR0000275287.3</th>\n      <td>Metazoa_SRP</td>\n      <td>chrY</td>\n      <td>388100</td>\n      <td>388389</td>\n      <td>-</td>\n      <td>misc_RNA</td>\n      <td>NOVEL</td>\n      <td>NaN</td>\n      <td>290</td>\n      <td>290</td>\n      <td>1</td>\n    </tr>\n    <tr>\n      <th>ENSGR0000276543.3</th>\n      <td>AJ271736.1</td>\n      <td>chrY</td>\n      <td>57209151</td>\n      <td>57209218</td>\n      <td>+</td>\n      <td>miRNA</td>\n      <td>NOVEL</td>\n      <td>NaN</td>\n      <td>68</td>\n      <td>68</td>\n      <td>1</td>\n    </tr>\n    <tr>\n      <th>ENSGR0000277120.3</th>\n      <td>MIR6089</td>\n      <td>chrY</td>\n      <td>2609191</td>\n      <td>2609254</td>\n      <td>+</td>\n      <td>miRNA</td>\n      <td>KNOWN</td>\n      <td>NaN</td>\n      <td>64</td>\n      <td>64</td>\n      <td>1</td>\n    </tr>\n    <tr>\n      <th>ENSGR0000280767.1</th>\n      <td>RP13-465B17.5</td>\n      <td>chrY</td>\n      <td>419157</td>\n      <td>421980</td>\n      <td>+</td>\n      <td>lincRNA</td>\n      <td>NOVEL</td>\n      <td>OTTHUMG00000189993.1</td>\n      <td>2824</td>\n      <td>515</td>\n      <td>2</td>\n    </tr>\n    <tr>\n      <th>ENSGR0000281849.1</th>\n      <td>RP13-465B17.4</td>\n      <td>chrY</td>\n      <td>386980</td>\n      <td>405579</td>\n      <td>+</td>\n      <td>antisense</td>\n      <td>NOVEL</td>\n      <td>OTTHUMG00000189992.1</td>\n      <td>18600</td>\n      <td>484</td>\n      <td>2</td>\n    </tr>\n  </tbody>\n</table>\n<p>60483 rows × 11 columns</p>\n</div>"
     },
     "metadata": {},
     "execution_count": 70
    }
   ],
   "source": [
    "df_gdc"
   ]
  },
  {
   "cell_type": "code",
   "execution_count": 71,
   "metadata": {},
   "outputs": [
    {
     "output_type": "execute_result",
     "data": {
      "text/plain": "                   seqname        1     2      start        end  5 strand  7  \\\nid                                                                             \nENSG00000000003.13    chrX   HAVANA  gene  100627109  100639991  .      -  .   \nENSG00000000005.5     chrX   HAVANA  gene  100584802  100599885  .      +  .   \nENSG00000000419.11   chr20   HAVANA  gene   50934867   50958555  .      -  .   \nENSG00000000457.12    chr1   HAVANA  gene  169849631  169894267  .      -  .   \nENSG00000000460.15    chr1   HAVANA  gene  169662007  169854080  .      +  .   \n...                    ...      ...   ...        ...        ... ..    ... ..   \nENSGR0000275287.3     chrY  ENSEMBL  gene     388100     388389  .      -  .   \nENSGR0000276543.3     chrY  ENSEMBL  gene   57209151   57209218  .      +  .   \nENSGR0000277120.3     chrY  ENSEMBL  gene    2609191    2609254  .      +  .   \nENSGR0000280767.1     chrY   HAVANA  gene     419157     421980  .      +  .   \nENSGR0000281849.1     chrY   HAVANA  gene     386980     405579  .      +  .   \n\n                                                                    8  \\\nid                                                                      \nENSG00000000003.13  gene_id \"ENSG00000000003.13\"; gene_type \"prote...   \nENSG00000000005.5   gene_id \"ENSG00000000005.5\"; gene_type \"protei...   \nENSG00000000419.11  gene_id \"ENSG00000000419.11\"; gene_type \"prote...   \nENSG00000000457.12  gene_id \"ENSG00000000457.12\"; gene_type \"prote...   \nENSG00000000460.15  gene_id \"ENSG00000000460.15\"; gene_type \"prote...   \n...                                                               ...   \nENSGR0000275287.3   gene_id \"ENSGR0000275287.3\"; gene_type \"misc_R...   \nENSGR0000276543.3   gene_id \"ENSGR0000276543.3\"; gene_type \"miRNA\"...   \nENSGR0000277120.3   gene_id \"ENSGR0000277120.3\"; gene_type \"miRNA\"...   \nENSGR0000280767.1   gene_id \"ENSGR0000280767.1\"; gene_type \"lincRN...   \nENSGR0000281849.1   gene_id \"ENSGR0000281849.1\"; gene_type \"antise...   \n\n                              type           name  \nid                                                 \nENSG00000000003.13  protein_coding         TSPAN6  \nENSG00000000005.5   protein_coding           TNMD  \nENSG00000000419.11  protein_coding           DPM1  \nENSG00000000457.12  protein_coding          SCYL3  \nENSG00000000460.15  protein_coding       C1orf112  \n...                            ...            ...  \nENSGR0000275287.3         misc_RNA    Metazoa_SRP  \nENSGR0000276543.3            miRNA     AJ271736.1  \nENSGR0000277120.3            miRNA        MIR6089  \nENSGR0000280767.1          lincRNA  RP13-465B17.5  \nENSGR0000281849.1        antisense  RP13-465B17.4  \n\n[60483 rows x 11 columns]",
      "text/html": "<div>\n<style scoped>\n    .dataframe tbody tr th:only-of-type {\n        vertical-align: middle;\n    }\n\n    .dataframe tbody tr th {\n        vertical-align: top;\n    }\n\n    .dataframe thead th {\n        text-align: right;\n    }\n</style>\n<table border=\"1\" class=\"dataframe\">\n  <thead>\n    <tr style=\"text-align: right;\">\n      <th></th>\n      <th>seqname</th>\n      <th>1</th>\n      <th>2</th>\n      <th>start</th>\n      <th>end</th>\n      <th>5</th>\n      <th>strand</th>\n      <th>7</th>\n      <th>8</th>\n      <th>type</th>\n      <th>name</th>\n    </tr>\n    <tr>\n      <th>id</th>\n      <th></th>\n      <th></th>\n      <th></th>\n      <th></th>\n      <th></th>\n      <th></th>\n      <th></th>\n      <th></th>\n      <th></th>\n      <th></th>\n      <th></th>\n    </tr>\n  </thead>\n  <tbody>\n    <tr>\n      <th>ENSG00000000003.13</th>\n      <td>chrX</td>\n      <td>HAVANA</td>\n      <td>gene</td>\n      <td>100627109</td>\n      <td>100639991</td>\n      <td>.</td>\n      <td>-</td>\n      <td>.</td>\n      <td>gene_id \"ENSG00000000003.13\"; gene_type \"prote...</td>\n      <td>protein_coding</td>\n      <td>TSPAN6</td>\n    </tr>\n    <tr>\n      <th>ENSG00000000005.5</th>\n      <td>chrX</td>\n      <td>HAVANA</td>\n      <td>gene</td>\n      <td>100584802</td>\n      <td>100599885</td>\n      <td>.</td>\n      <td>+</td>\n      <td>.</td>\n      <td>gene_id \"ENSG00000000005.5\"; gene_type \"protei...</td>\n      <td>protein_coding</td>\n      <td>TNMD</td>\n    </tr>\n    <tr>\n      <th>ENSG00000000419.11</th>\n      <td>chr20</td>\n      <td>HAVANA</td>\n      <td>gene</td>\n      <td>50934867</td>\n      <td>50958555</td>\n      <td>.</td>\n      <td>-</td>\n      <td>.</td>\n      <td>gene_id \"ENSG00000000419.11\"; gene_type \"prote...</td>\n      <td>protein_coding</td>\n      <td>DPM1</td>\n    </tr>\n    <tr>\n      <th>ENSG00000000457.12</th>\n      <td>chr1</td>\n      <td>HAVANA</td>\n      <td>gene</td>\n      <td>169849631</td>\n      <td>169894267</td>\n      <td>.</td>\n      <td>-</td>\n      <td>.</td>\n      <td>gene_id \"ENSG00000000457.12\"; gene_type \"prote...</td>\n      <td>protein_coding</td>\n      <td>SCYL3</td>\n    </tr>\n    <tr>\n      <th>ENSG00000000460.15</th>\n      <td>chr1</td>\n      <td>HAVANA</td>\n      <td>gene</td>\n      <td>169662007</td>\n      <td>169854080</td>\n      <td>.</td>\n      <td>+</td>\n      <td>.</td>\n      <td>gene_id \"ENSG00000000460.15\"; gene_type \"prote...</td>\n      <td>protein_coding</td>\n      <td>C1orf112</td>\n    </tr>\n    <tr>\n      <th>...</th>\n      <td>...</td>\n      <td>...</td>\n      <td>...</td>\n      <td>...</td>\n      <td>...</td>\n      <td>...</td>\n      <td>...</td>\n      <td>...</td>\n      <td>...</td>\n      <td>...</td>\n      <td>...</td>\n    </tr>\n    <tr>\n      <th>ENSGR0000275287.3</th>\n      <td>chrY</td>\n      <td>ENSEMBL</td>\n      <td>gene</td>\n      <td>388100</td>\n      <td>388389</td>\n      <td>.</td>\n      <td>-</td>\n      <td>.</td>\n      <td>gene_id \"ENSGR0000275287.3\"; gene_type \"misc_R...</td>\n      <td>misc_RNA</td>\n      <td>Metazoa_SRP</td>\n    </tr>\n    <tr>\n      <th>ENSGR0000276543.3</th>\n      <td>chrY</td>\n      <td>ENSEMBL</td>\n      <td>gene</td>\n      <td>57209151</td>\n      <td>57209218</td>\n      <td>.</td>\n      <td>+</td>\n      <td>.</td>\n      <td>gene_id \"ENSGR0000276543.3\"; gene_type \"miRNA\"...</td>\n      <td>miRNA</td>\n      <td>AJ271736.1</td>\n    </tr>\n    <tr>\n      <th>ENSGR0000277120.3</th>\n      <td>chrY</td>\n      <td>ENSEMBL</td>\n      <td>gene</td>\n      <td>2609191</td>\n      <td>2609254</td>\n      <td>.</td>\n      <td>+</td>\n      <td>.</td>\n      <td>gene_id \"ENSGR0000277120.3\"; gene_type \"miRNA\"...</td>\n      <td>miRNA</td>\n      <td>MIR6089</td>\n    </tr>\n    <tr>\n      <th>ENSGR0000280767.1</th>\n      <td>chrY</td>\n      <td>HAVANA</td>\n      <td>gene</td>\n      <td>419157</td>\n      <td>421980</td>\n      <td>.</td>\n      <td>+</td>\n      <td>.</td>\n      <td>gene_id \"ENSGR0000280767.1\"; gene_type \"lincRN...</td>\n      <td>lincRNA</td>\n      <td>RP13-465B17.5</td>\n    </tr>\n    <tr>\n      <th>ENSGR0000281849.1</th>\n      <td>chrY</td>\n      <td>HAVANA</td>\n      <td>gene</td>\n      <td>386980</td>\n      <td>405579</td>\n      <td>.</td>\n      <td>+</td>\n      <td>.</td>\n      <td>gene_id \"ENSGR0000281849.1\"; gene_type \"antise...</td>\n      <td>antisense</td>\n      <td>RP13-465B17.4</td>\n    </tr>\n  </tbody>\n</table>\n<p>60483 rows × 11 columns</p>\n</div>"
     },
     "metadata": {},
     "execution_count": 71
    }
   ],
   "source": [
    "df_gencode"
   ]
  },
  {
   "cell_type": "code",
   "execution_count": 17,
   "metadata": {},
   "outputs": [
    {
     "output_type": "execute_result",
     "data": {
      "text/plain": "True"
     },
     "metadata": {},
     "execution_count": 17
    }
   ],
   "source": [
    "df1 = pd.DataFrame({1: [10,11], 2: [20,21]}, index=['a','b'])\n",
    "df2 = pd.DataFrame({1: [11,10], 2: [21,20]}, index=['b','a'])\n",
    "df2.sort_index().equals(df1)"
   ]
  },
  {
   "cell_type": "code",
   "execution_count": 15,
   "metadata": {},
   "outputs": [
    {
     "output_type": "execute_result",
     "data": {
      "text/plain": "    1   2\na  10  20\nb  11  21",
      "text/html": "<div>\n<style scoped>\n    .dataframe tbody tr th:only-of-type {\n        vertical-align: middle;\n    }\n\n    .dataframe tbody tr th {\n        vertical-align: top;\n    }\n\n    .dataframe thead th {\n        text-align: right;\n    }\n</style>\n<table border=\"1\" class=\"dataframe\">\n  <thead>\n    <tr style=\"text-align: right;\">\n      <th></th>\n      <th>1</th>\n      <th>2</th>\n    </tr>\n  </thead>\n  <tbody>\n    <tr>\n      <th>a</th>\n      <td>10</td>\n      <td>20</td>\n    </tr>\n    <tr>\n      <th>b</th>\n      <td>11</td>\n      <td>21</td>\n    </tr>\n  </tbody>\n</table>\n</div>"
     },
     "metadata": {},
     "execution_count": 15
    }
   ],
   "source": [
    "df2.sort_index()"
   ]
  },
  {
   "cell_type": "code",
   "execution_count": 47,
   "metadata": {},
   "outputs": [],
   "source": [
    "df_gencode['id'] = df_gencode.apply(lambda x: x[8].split()[1].split('\\\"')[1], axis=1)\n",
    "df_gencode['type'] = df_gencode.apply(lambda x: x[8].split()[3].split('\\\"')[1], axis=1)\n",
    "df_gencode['name'] = df_gencode.apply(lambda x: x[8].split()[7].split('\\\"')[1], axis=1)\n",
    "df_gencode = df_gencode.rename({3: 'start', 4: 'stop'}, axis='columns')\n",
    "df_gencode = df_gencode.set_index('id')\n",
    "df_gencode = df_gencode.sort_index()"
   ]
  },
  {
   "cell_type": "code",
   "execution_count": 45,
   "metadata": {},
   "outputs": [
    {
     "output_type": "execute_result",
     "data": {
      "text/plain": "0.09319213127634611"
     },
     "metadata": {},
     "execution_count": 45
    }
   ],
   "source": [
    "x = df_samples[0]['intensity'] / df_gdc['exon_length'] / df_samples[1]['intensity']\n",
    "#x = df_samples[2]['intensity'] / df_samples[1]['intensity']\n",
    "x[x.notnull()].std() / x[x.notnull()].mean() * 100"
   ]
  },
  {
   "cell_type": "code",
   "execution_count": 15,
   "metadata": {},
   "outputs": [
    {
     "output_type": "execute_result",
     "data": {
      "text/plain": "                             name seqname      start        end strand  \\\nid                                                                       \nENSG00000000003.13         TSPAN6    chrX  100627109  100639991      -   \nENSG00000000005.5            TNMD    chrX  100584802  100599885      +   \nENSG00000000419.11           DPM1   chr20   50934867   50958555      -   \nENSG00000000457.12          SCYL3    chr1  169849631  169894267      -   \nENSG00000000460.15       C1orf112    chr1  169662007  169854080      +   \n...                           ...     ...        ...        ...    ...   \nENSGR0000275287.3     Metazoa_SRP    chrY     388100     388389      -   \nENSGR0000276543.3      AJ271736.1    chrY   57209151   57209218      +   \nENSGR0000277120.3         MIR6089    chrY    2609191    2609254      +   \nENSGR0000280767.1   RP13-465B17.5    chrY     419157     421980      +   \nENSGR0000281849.1   RP13-465B17.4    chrY     386980     405579      +   \n\n                              type gene_status           havana_gene  \\\nid                                                                     \nENSG00000000003.13  protein_coding       KNOWN  OTTHUMG00000022002.1   \nENSG00000000005.5   protein_coding       KNOWN  OTTHUMG00000022001.1   \nENSG00000000419.11  protein_coding       KNOWN  OTTHUMG00000032742.2   \nENSG00000000457.12  protein_coding       KNOWN  OTTHUMG00000035941.4   \nENSG00000000460.15  protein_coding       KNOWN  OTTHUMG00000035821.7   \n...                            ...         ...                   ...   \nENSGR0000275287.3         misc_RNA       NOVEL                   NaN   \nENSGR0000276543.3            miRNA       NOVEL                   NaN   \nENSGR0000277120.3            miRNA       KNOWN                   NaN   \nENSGR0000280767.1          lincRNA       NOVEL  OTTHUMG00000189993.1   \nENSGR0000281849.1        antisense       NOVEL  OTTHUMG00000189992.1   \n\n                    full_length  exon_length  exon_num  \nid                                                      \nENSG00000000003.13        12883         4535        34  \nENSG00000000005.5         15084         1610        10  \nENSG00000000419.11        23689         1207        53  \nENSG00000000457.12        44637         6883        63  \nENSG00000000460.15       192074         5967       151  \n...                         ...          ...       ...  \nENSGR0000275287.3           290          290         1  \nENSGR0000276543.3            68           68         1  \nENSGR0000277120.3            64           64         1  \nENSGR0000280767.1          2824          515         2  \nENSGR0000281849.1         18600          484         2  \n\n[60483 rows x 11 columns]",
      "text/html": "<div>\n<style scoped>\n    .dataframe tbody tr th:only-of-type {\n        vertical-align: middle;\n    }\n\n    .dataframe tbody tr th {\n        vertical-align: top;\n    }\n\n    .dataframe thead th {\n        text-align: right;\n    }\n</style>\n<table border=\"1\" class=\"dataframe\">\n  <thead>\n    <tr style=\"text-align: right;\">\n      <th></th>\n      <th>name</th>\n      <th>seqname</th>\n      <th>start</th>\n      <th>end</th>\n      <th>strand</th>\n      <th>type</th>\n      <th>gene_status</th>\n      <th>havana_gene</th>\n      <th>full_length</th>\n      <th>exon_length</th>\n      <th>exon_num</th>\n    </tr>\n    <tr>\n      <th>id</th>\n      <th></th>\n      <th></th>\n      <th></th>\n      <th></th>\n      <th></th>\n      <th></th>\n      <th></th>\n      <th></th>\n      <th></th>\n      <th></th>\n      <th></th>\n    </tr>\n  </thead>\n  <tbody>\n    <tr>\n      <th>ENSG00000000003.13</th>\n      <td>TSPAN6</td>\n      <td>chrX</td>\n      <td>100627109</td>\n      <td>100639991</td>\n      <td>-</td>\n      <td>protein_coding</td>\n      <td>KNOWN</td>\n      <td>OTTHUMG00000022002.1</td>\n      <td>12883</td>\n      <td>4535</td>\n      <td>34</td>\n    </tr>\n    <tr>\n      <th>ENSG00000000005.5</th>\n      <td>TNMD</td>\n      <td>chrX</td>\n      <td>100584802</td>\n      <td>100599885</td>\n      <td>+</td>\n      <td>protein_coding</td>\n      <td>KNOWN</td>\n      <td>OTTHUMG00000022001.1</td>\n      <td>15084</td>\n      <td>1610</td>\n      <td>10</td>\n    </tr>\n    <tr>\n      <th>ENSG00000000419.11</th>\n      <td>DPM1</td>\n      <td>chr20</td>\n      <td>50934867</td>\n      <td>50958555</td>\n      <td>-</td>\n      <td>protein_coding</td>\n      <td>KNOWN</td>\n      <td>OTTHUMG00000032742.2</td>\n      <td>23689</td>\n      <td>1207</td>\n      <td>53</td>\n    </tr>\n    <tr>\n      <th>ENSG00000000457.12</th>\n      <td>SCYL3</td>\n      <td>chr1</td>\n      <td>169849631</td>\n      <td>169894267</td>\n      <td>-</td>\n      <td>protein_coding</td>\n      <td>KNOWN</td>\n      <td>OTTHUMG00000035941.4</td>\n      <td>44637</td>\n      <td>6883</td>\n      <td>63</td>\n    </tr>\n    <tr>\n      <th>ENSG00000000460.15</th>\n      <td>C1orf112</td>\n      <td>chr1</td>\n      <td>169662007</td>\n      <td>169854080</td>\n      <td>+</td>\n      <td>protein_coding</td>\n      <td>KNOWN</td>\n      <td>OTTHUMG00000035821.7</td>\n      <td>192074</td>\n      <td>5967</td>\n      <td>151</td>\n    </tr>\n    <tr>\n      <th>...</th>\n      <td>...</td>\n      <td>...</td>\n      <td>...</td>\n      <td>...</td>\n      <td>...</td>\n      <td>...</td>\n      <td>...</td>\n      <td>...</td>\n      <td>...</td>\n      <td>...</td>\n      <td>...</td>\n    </tr>\n    <tr>\n      <th>ENSGR0000275287.3</th>\n      <td>Metazoa_SRP</td>\n      <td>chrY</td>\n      <td>388100</td>\n      <td>388389</td>\n      <td>-</td>\n      <td>misc_RNA</td>\n      <td>NOVEL</td>\n      <td>NaN</td>\n      <td>290</td>\n      <td>290</td>\n      <td>1</td>\n    </tr>\n    <tr>\n      <th>ENSGR0000276543.3</th>\n      <td>AJ271736.1</td>\n      <td>chrY</td>\n      <td>57209151</td>\n      <td>57209218</td>\n      <td>+</td>\n      <td>miRNA</td>\n      <td>NOVEL</td>\n      <td>NaN</td>\n      <td>68</td>\n      <td>68</td>\n      <td>1</td>\n    </tr>\n    <tr>\n      <th>ENSGR0000277120.3</th>\n      <td>MIR6089</td>\n      <td>chrY</td>\n      <td>2609191</td>\n      <td>2609254</td>\n      <td>+</td>\n      <td>miRNA</td>\n      <td>KNOWN</td>\n      <td>NaN</td>\n      <td>64</td>\n      <td>64</td>\n      <td>1</td>\n    </tr>\n    <tr>\n      <th>ENSGR0000280767.1</th>\n      <td>RP13-465B17.5</td>\n      <td>chrY</td>\n      <td>419157</td>\n      <td>421980</td>\n      <td>+</td>\n      <td>lincRNA</td>\n      <td>NOVEL</td>\n      <td>OTTHUMG00000189993.1</td>\n      <td>2824</td>\n      <td>515</td>\n      <td>2</td>\n    </tr>\n    <tr>\n      <th>ENSGR0000281849.1</th>\n      <td>RP13-465B17.4</td>\n      <td>chrY</td>\n      <td>386980</td>\n      <td>405579</td>\n      <td>+</td>\n      <td>antisense</td>\n      <td>NOVEL</td>\n      <td>OTTHUMG00000189992.1</td>\n      <td>18600</td>\n      <td>484</td>\n      <td>2</td>\n    </tr>\n  </tbody>\n</table>\n<p>60483 rows × 11 columns</p>\n</div>"
     },
     "metadata": {},
     "execution_count": 15
    }
   ],
   "source": [
    "df_gdc"
   ]
  },
  {
   "cell_type": "code",
   "execution_count": 13,
   "metadata": {},
   "outputs": [
    {
     "output_type": "execute_result",
     "data": {
      "text/plain": "                       id  intensity\n0      ENSG00000000003.13    48.2789\n1       ENSG00000000005.5     4.0536\n2      ENSG00000000419.11    65.1115\n3      ENSG00000000457.12     1.5301\n4      ENSG00000000460.15     2.9406\n...                   ...        ...\n60478   ENSGR0000275287.3     0.0000\n60479   ENSGR0000276543.3     0.0000\n60480   ENSGR0000277120.3     0.0000\n60481   ENSGR0000280767.1     0.0000\n60482   ENSGR0000281849.1     0.0000\n\n[60483 rows x 2 columns]",
      "text/html": "<div>\n<style scoped>\n    .dataframe tbody tr th:only-of-type {\n        vertical-align: middle;\n    }\n\n    .dataframe tbody tr th {\n        vertical-align: top;\n    }\n\n    .dataframe thead th {\n        text-align: right;\n    }\n</style>\n<table border=\"1\" class=\"dataframe\">\n  <thead>\n    <tr style=\"text-align: right;\">\n      <th></th>\n      <th>id</th>\n      <th>intensity</th>\n    </tr>\n  </thead>\n  <tbody>\n    <tr>\n      <th>0</th>\n      <td>ENSG00000000003.13</td>\n      <td>48.2789</td>\n    </tr>\n    <tr>\n      <th>1</th>\n      <td>ENSG00000000005.5</td>\n      <td>4.0536</td>\n    </tr>\n    <tr>\n      <th>2</th>\n      <td>ENSG00000000419.11</td>\n      <td>65.1115</td>\n    </tr>\n    <tr>\n      <th>3</th>\n      <td>ENSG00000000457.12</td>\n      <td>1.5301</td>\n    </tr>\n    <tr>\n      <th>4</th>\n      <td>ENSG00000000460.15</td>\n      <td>2.9406</td>\n    </tr>\n    <tr>\n      <th>...</th>\n      <td>...</td>\n      <td>...</td>\n    </tr>\n    <tr>\n      <th>60478</th>\n      <td>ENSGR0000275287.3</td>\n      <td>0.0000</td>\n    </tr>\n    <tr>\n      <th>60479</th>\n      <td>ENSGR0000276543.3</td>\n      <td>0.0000</td>\n    </tr>\n    <tr>\n      <th>60480</th>\n      <td>ENSGR0000277120.3</td>\n      <td>0.0000</td>\n    </tr>\n    <tr>\n      <th>60481</th>\n      <td>ENSGR0000280767.1</td>\n      <td>0.0000</td>\n    </tr>\n    <tr>\n      <th>60482</th>\n      <td>ENSGR0000281849.1</td>\n      <td>0.0000</td>\n    </tr>\n  </tbody>\n</table>\n<p>60483 rows × 2 columns</p>\n</div>"
     },
     "metadata": {},
     "execution_count": 13
    }
   ],
   "source": [
    "df_fpkm"
   ]
  },
  {
   "cell_type": "code",
   "execution_count": 48,
   "metadata": {},
   "outputs": [
    {
     "output_type": "execute_result",
     "data": {
      "text/plain": "            0        1           2      3      4  5  6  7  \\\n0        chr1   HAVANA        gene  11869  14409  .  +  .   \n1        chr1   HAVANA  transcript  11869  14409  .  +  .   \n2        chr1   HAVANA        exon  11869  12227  .  +  .   \n3        chr1   HAVANA        exon  12613  12721  .  +  .   \n4        chr1   HAVANA        exon  13221  14409  .  +  .   \n...       ...      ...         ...    ...    ... .. .. ..   \n2563666  chrM  ENSEMBL  transcript  15888  15953  .  +  .   \n2563667  chrM  ENSEMBL        exon  15888  15953  .  +  .   \n2563668  chrM  ENSEMBL        gene  15956  16023  .  -  .   \n2563669  chrM  ENSEMBL  transcript  15956  16023  .  -  .   \n2563670  chrM  ENSEMBL        exon  15956  16023  .  -  .   \n\n                                                         8  \n0        gene_id \"ENSG00000223972.5\"; gene_type \"transc...  \n1        gene_id \"ENSG00000223972.5\"; transcript_id \"EN...  \n2        gene_id \"ENSG00000223972.5\"; transcript_id \"EN...  \n3        gene_id \"ENSG00000223972.5\"; transcript_id \"EN...  \n4        gene_id \"ENSG00000223972.5\"; transcript_id \"EN...  \n...                                                    ...  \n2563666  gene_id \"ENSG00000210195.2\"; transcript_id \"EN...  \n2563667  gene_id \"ENSG00000210195.2\"; transcript_id \"EN...  \n2563668  gene_id \"ENSG00000210196.2\"; gene_type \"Mt_tRN...  \n2563669  gene_id \"ENSG00000210196.2\"; transcript_id \"EN...  \n2563670  gene_id \"ENSG00000210196.2\"; transcript_id \"EN...  \n\n[2563671 rows x 9 columns]",
      "text/html": "<div>\n<style scoped>\n    .dataframe tbody tr th:only-of-type {\n        vertical-align: middle;\n    }\n\n    .dataframe tbody tr th {\n        vertical-align: top;\n    }\n\n    .dataframe thead th {\n        text-align: right;\n    }\n</style>\n<table border=\"1\" class=\"dataframe\">\n  <thead>\n    <tr style=\"text-align: right;\">\n      <th></th>\n      <th>0</th>\n      <th>1</th>\n      <th>2</th>\n      <th>3</th>\n      <th>4</th>\n      <th>5</th>\n      <th>6</th>\n      <th>7</th>\n      <th>8</th>\n    </tr>\n  </thead>\n  <tbody>\n    <tr>\n      <th>0</th>\n      <td>chr1</td>\n      <td>HAVANA</td>\n      <td>gene</td>\n      <td>11869</td>\n      <td>14409</td>\n      <td>.</td>\n      <td>+</td>\n      <td>.</td>\n      <td>gene_id \"ENSG00000223972.5\"; gene_type \"transc...</td>\n    </tr>\n    <tr>\n      <th>1</th>\n      <td>chr1</td>\n      <td>HAVANA</td>\n      <td>transcript</td>\n      <td>11869</td>\n      <td>14409</td>\n      <td>.</td>\n      <td>+</td>\n      <td>.</td>\n      <td>gene_id \"ENSG00000223972.5\"; transcript_id \"EN...</td>\n    </tr>\n    <tr>\n      <th>2</th>\n      <td>chr1</td>\n      <td>HAVANA</td>\n      <td>exon</td>\n      <td>11869</td>\n      <td>12227</td>\n      <td>.</td>\n      <td>+</td>\n      <td>.</td>\n      <td>gene_id \"ENSG00000223972.5\"; transcript_id \"EN...</td>\n    </tr>\n    <tr>\n      <th>3</th>\n      <td>chr1</td>\n      <td>HAVANA</td>\n      <td>exon</td>\n      <td>12613</td>\n      <td>12721</td>\n      <td>.</td>\n      <td>+</td>\n      <td>.</td>\n      <td>gene_id \"ENSG00000223972.5\"; transcript_id \"EN...</td>\n    </tr>\n    <tr>\n      <th>4</th>\n      <td>chr1</td>\n      <td>HAVANA</td>\n      <td>exon</td>\n      <td>13221</td>\n      <td>14409</td>\n      <td>.</td>\n      <td>+</td>\n      <td>.</td>\n      <td>gene_id \"ENSG00000223972.5\"; transcript_id \"EN...</td>\n    </tr>\n    <tr>\n      <th>...</th>\n      <td>...</td>\n      <td>...</td>\n      <td>...</td>\n      <td>...</td>\n      <td>...</td>\n      <td>...</td>\n      <td>...</td>\n      <td>...</td>\n      <td>...</td>\n    </tr>\n    <tr>\n      <th>2563666</th>\n      <td>chrM</td>\n      <td>ENSEMBL</td>\n      <td>transcript</td>\n      <td>15888</td>\n      <td>15953</td>\n      <td>.</td>\n      <td>+</td>\n      <td>.</td>\n      <td>gene_id \"ENSG00000210195.2\"; transcript_id \"EN...</td>\n    </tr>\n    <tr>\n      <th>2563667</th>\n      <td>chrM</td>\n      <td>ENSEMBL</td>\n      <td>exon</td>\n      <td>15888</td>\n      <td>15953</td>\n      <td>.</td>\n      <td>+</td>\n      <td>.</td>\n      <td>gene_id \"ENSG00000210195.2\"; transcript_id \"EN...</td>\n    </tr>\n    <tr>\n      <th>2563668</th>\n      <td>chrM</td>\n      <td>ENSEMBL</td>\n      <td>gene</td>\n      <td>15956</td>\n      <td>16023</td>\n      <td>.</td>\n      <td>-</td>\n      <td>.</td>\n      <td>gene_id \"ENSG00000210196.2\"; gene_type \"Mt_tRN...</td>\n    </tr>\n    <tr>\n      <th>2563669</th>\n      <td>chrM</td>\n      <td>ENSEMBL</td>\n      <td>transcript</td>\n      <td>15956</td>\n      <td>16023</td>\n      <td>.</td>\n      <td>-</td>\n      <td>.</td>\n      <td>gene_id \"ENSG00000210196.2\"; transcript_id \"EN...</td>\n    </tr>\n    <tr>\n      <th>2563670</th>\n      <td>chrM</td>\n      <td>ENSEMBL</td>\n      <td>exon</td>\n      <td>15956</td>\n      <td>16023</td>\n      <td>.</td>\n      <td>-</td>\n      <td>.</td>\n      <td>gene_id \"ENSG00000210196.2\"; transcript_id \"EN...</td>\n    </tr>\n  </tbody>\n</table>\n<p>2563671 rows × 9 columns</p>\n</div>"
     },
     "metadata": {},
     "execution_count": 48
    }
   ],
   "source": [
    "df_gencode_full"
   ]
  },
  {
   "cell_type": "code",
   "execution_count": 15,
   "metadata": {},
   "outputs": [
    {
     "output_type": "execute_result",
     "data": {
      "text/plain": "True"
     },
     "metadata": {},
     "execution_count": 15
    }
   ],
   "source": [
    "#df_gencode_full.loc[df_gencode_full[2]=='gene',:].reindex()\n",
    "#df_gencode_full[df_gencode_full[2]=='gene'].equals(pd.read_csv(gencode_gtf_file, sep='\\t', skiprows=5, header=None))\n",
    "df_gencode_full[df_gencode_full[2]=='gene'].reset_index(drop=True).equals(pd.read_csv(gencode_gtf_file, sep='\\t', skiprows=5, header=None))"
   ]
  },
  {
   "cell_type": "code",
   "execution_count": 13,
   "metadata": {},
   "outputs": [
    {
     "output_type": "execute_result",
     "data": {
      "text/plain": "          0        1     2      3      4  5  6  7  \\\n0      chr1   HAVANA  gene  11869  14409  .  +  .   \n1      chr1   HAVANA  gene  14404  29570  .  -  .   \n2      chr1  ENSEMBL  gene  17369  17436  .  -  .   \n3      chr1   HAVANA  gene  29554  31109  .  +  .   \n4      chr1  ENSEMBL  gene  30366  30503  .  +  .   \n...     ...      ...   ...    ...    ... .. .. ..   \n60478  chrM  ENSEMBL  gene  14149  14673  .  -  .   \n60479  chrM  ENSEMBL  gene  14674  14742  .  -  .   \n60480  chrM  ENSEMBL  gene  14747  15887  .  +  .   \n60481  chrM  ENSEMBL  gene  15888  15953  .  +  .   \n60482  chrM  ENSEMBL  gene  15956  16023  .  -  .   \n\n                                                       8  \n0      gene_id \"ENSG00000223972.5\"; gene_type \"transc...  \n1      gene_id \"ENSG00000227232.5\"; gene_type \"unproc...  \n2      gene_id \"ENSG00000278267.1\"; gene_type \"miRNA\"...  \n3      gene_id \"ENSG00000243485.3\"; gene_type \"lincRN...  \n4      gene_id \"ENSG00000274890.1\"; gene_type \"miRNA\"...  \n...                                                  ...  \n60478  gene_id \"ENSG00000198695.2\"; gene_type \"protei...  \n60479  gene_id \"ENSG00000210194.1\"; gene_type \"Mt_tRN...  \n60480  gene_id \"ENSG00000198727.2\"; gene_type \"protei...  \n60481  gene_id \"ENSG00000210195.2\"; gene_type \"Mt_tRN...  \n60482  gene_id \"ENSG00000210196.2\"; gene_type \"Mt_tRN...  \n\n[60483 rows x 9 columns]",
      "text/html": "<div>\n<style scoped>\n    .dataframe tbody tr th:only-of-type {\n        vertical-align: middle;\n    }\n\n    .dataframe tbody tr th {\n        vertical-align: top;\n    }\n\n    .dataframe thead th {\n        text-align: right;\n    }\n</style>\n<table border=\"1\" class=\"dataframe\">\n  <thead>\n    <tr style=\"text-align: right;\">\n      <th></th>\n      <th>0</th>\n      <th>1</th>\n      <th>2</th>\n      <th>3</th>\n      <th>4</th>\n      <th>5</th>\n      <th>6</th>\n      <th>7</th>\n      <th>8</th>\n    </tr>\n  </thead>\n  <tbody>\n    <tr>\n      <th>0</th>\n      <td>chr1</td>\n      <td>HAVANA</td>\n      <td>gene</td>\n      <td>11869</td>\n      <td>14409</td>\n      <td>.</td>\n      <td>+</td>\n      <td>.</td>\n      <td>gene_id \"ENSG00000223972.5\"; gene_type \"transc...</td>\n    </tr>\n    <tr>\n      <th>1</th>\n      <td>chr1</td>\n      <td>HAVANA</td>\n      <td>gene</td>\n      <td>14404</td>\n      <td>29570</td>\n      <td>.</td>\n      <td>-</td>\n      <td>.</td>\n      <td>gene_id \"ENSG00000227232.5\"; gene_type \"unproc...</td>\n    </tr>\n    <tr>\n      <th>2</th>\n      <td>chr1</td>\n      <td>ENSEMBL</td>\n      <td>gene</td>\n      <td>17369</td>\n      <td>17436</td>\n      <td>.</td>\n      <td>-</td>\n      <td>.</td>\n      <td>gene_id \"ENSG00000278267.1\"; gene_type \"miRNA\"...</td>\n    </tr>\n    <tr>\n      <th>3</th>\n      <td>chr1</td>\n      <td>HAVANA</td>\n      <td>gene</td>\n      <td>29554</td>\n      <td>31109</td>\n      <td>.</td>\n      <td>+</td>\n      <td>.</td>\n      <td>gene_id \"ENSG00000243485.3\"; gene_type \"lincRN...</td>\n    </tr>\n    <tr>\n      <th>4</th>\n      <td>chr1</td>\n      <td>ENSEMBL</td>\n      <td>gene</td>\n      <td>30366</td>\n      <td>30503</td>\n      <td>.</td>\n      <td>+</td>\n      <td>.</td>\n      <td>gene_id \"ENSG00000274890.1\"; gene_type \"miRNA\"...</td>\n    </tr>\n    <tr>\n      <th>...</th>\n      <td>...</td>\n      <td>...</td>\n      <td>...</td>\n      <td>...</td>\n      <td>...</td>\n      <td>...</td>\n      <td>...</td>\n      <td>...</td>\n      <td>...</td>\n    </tr>\n    <tr>\n      <th>60478</th>\n      <td>chrM</td>\n      <td>ENSEMBL</td>\n      <td>gene</td>\n      <td>14149</td>\n      <td>14673</td>\n      <td>.</td>\n      <td>-</td>\n      <td>.</td>\n      <td>gene_id \"ENSG00000198695.2\"; gene_type \"protei...</td>\n    </tr>\n    <tr>\n      <th>60479</th>\n      <td>chrM</td>\n      <td>ENSEMBL</td>\n      <td>gene</td>\n      <td>14674</td>\n      <td>14742</td>\n      <td>.</td>\n      <td>-</td>\n      <td>.</td>\n      <td>gene_id \"ENSG00000210194.1\"; gene_type \"Mt_tRN...</td>\n    </tr>\n    <tr>\n      <th>60480</th>\n      <td>chrM</td>\n      <td>ENSEMBL</td>\n      <td>gene</td>\n      <td>14747</td>\n      <td>15887</td>\n      <td>.</td>\n      <td>+</td>\n      <td>.</td>\n      <td>gene_id \"ENSG00000198727.2\"; gene_type \"protei...</td>\n    </tr>\n    <tr>\n      <th>60481</th>\n      <td>chrM</td>\n      <td>ENSEMBL</td>\n      <td>gene</td>\n      <td>15888</td>\n      <td>15953</td>\n      <td>.</td>\n      <td>+</td>\n      <td>.</td>\n      <td>gene_id \"ENSG00000210195.2\"; gene_type \"Mt_tRN...</td>\n    </tr>\n    <tr>\n      <th>60482</th>\n      <td>chrM</td>\n      <td>ENSEMBL</td>\n      <td>gene</td>\n      <td>15956</td>\n      <td>16023</td>\n      <td>.</td>\n      <td>-</td>\n      <td>.</td>\n      <td>gene_id \"ENSG00000210196.2\"; gene_type \"Mt_tRN...</td>\n    </tr>\n  </tbody>\n</table>\n<p>60483 rows × 9 columns</p>\n</div>"
     },
     "metadata": {},
     "execution_count": 13
    }
   ],
   "source": [
    "pd.read_csv(gencode_gtf_file, sep='\\t', skiprows=5, header=None)"
   ]
  },
  {
   "cell_type": "code",
   "execution_count": 20,
   "metadata": {},
   "outputs": [
    {
     "output_type": "execute_result",
     "data": {
      "text/plain": "Index(['ENSG00000000003.13', 'ENSG00000000003.13', 'ENSG00000000003.13',\n       'ENSG00000000003.13', 'ENSG00000000003.13', 'ENSG00000000003.13',\n       'ENSG00000000003.13', 'ENSG00000000003.13', 'ENSG00000000003.13',\n       'ENSG00000000003.13', 'ENSG00000000003.13', 'ENSG00000000003.13',\n       'ENSG00000000003.13', 'ENSG00000000003.13', 'ENSG00000000003.13',\n       'ENSG00000000003.13', 'ENSG00000000003.13', 'ENSG00000000003.13',\n       'ENSG00000000003.13', 'ENSG00000000003.13', 'ENSG00000000003.13',\n       'ENSG00000000003.13', 'ENSG00000000003.13', 'ENSG00000000003.13',\n       'ENSG00000000003.13', 'ENSG00000000003.13', 'ENSG00000000003.13',\n       'ENSG00000000003.13', 'ENSG00000000003.13', 'ENSG00000000003.13',\n       'ENSG00000000003.13', 'ENSG00000000003.13', 'ENSG00000000003.13',\n       'ENSG00000000003.13', 'ENSG00000000005.5', 'ENSG00000000005.5',\n       'ENSG00000000005.5', 'ENSG00000000005.5', 'ENSG00000000005.5',\n       'ENSG00000000005.5', 'ENSG00000000005.5', 'ENSG00000000005.5',\n       'ENSG00000000005.5', 'ENSG00000000005.5', 'ENSG00000000419.11',\n       'ENSG00000000419.11', 'ENSG00000000419.11', 'ENSG00000000419.11',\n       'ENSG00000000419.11', 'ENSG00000000419.11', 'ENSG00000000419.11',\n       'ENSG00000000419.11', 'ENSG00000000419.11', 'ENSG00000000419.11',\n       'ENSG00000000419.11', 'ENSG00000000419.11', 'ENSG00000000419.11',\n       'ENSG00000000419.11', 'ENSG00000000419.11', 'ENSG00000000419.11',\n       'ENSG00000000419.11', 'ENSG00000000419.11', 'ENSG00000000419.11',\n       'ENSG00000000419.11', 'ENSG00000000419.11', 'ENSG00000000419.11',\n       'ENSG00000000419.11', 'ENSG00000000419.11', 'ENSG00000000419.11',\n       'ENSG00000000419.11', 'ENSG00000000419.11', 'ENSG00000000419.11',\n       'ENSG00000000419.11', 'ENSG00000000419.11', 'ENSG00000000419.11',\n       'ENSG00000000419.11', 'ENSG00000000419.11', 'ENSG00000000419.11',\n       'ENSG00000000419.11', 'ENSG00000000419.11', 'ENSG00000000419.11',\n       'ENSG00000000419.11', 'ENSG00000000419.11', 'ENSG00000000419.11',\n       'ENSG00000000419.11', 'ENSG00000000419.11', 'ENSG00000000419.11',\n       'ENSG00000000419.11', 'ENSG00000000419.11', 'ENSG00000000419.11',\n       'ENSG00000000419.11', 'ENSG00000000419.11', 'ENSG00000000419.11',\n       'ENSG00000000419.11', 'ENSG00000000419.11', 'ENSG00000000419.11',\n       'ENSG00000000419.11', 'ENSG00000000457.12', 'ENSG00000000457.12',\n       'ENSG00000000457.12'],\n      dtype='object', name='id')"
     },
     "metadata": {},
     "execution_count": 20
    }
   ],
   "source": [
    "# for id in df_gencode_genes[:5].index:\n",
    "#     print(id)\n",
    "df_gencode_exons.index[:100]"
   ]
  },
  {
   "cell_type": "code",
   "execution_count": 25,
   "metadata": {
    "tags": [
     "outputPrepend"
    ]
   },
   "outputs": [
    {
     "output_type": "stream",
     "name": "stdout",
     "text": "                                              KNOWN\nName: ENSG00000000419.11, dtype: object\nseqname                                                chr20\n1                                                     HAVANA\n2                                                       exon\nstart                                               50945847\nend                                                 50945923\n5                                                          .\nstrand                                                     -\n7                                                          .\n8          gene_id \"ENSG00000000419.11\"; transcript_id \"E...\ntype                                       ENST00000371582.7\nname                                                   KNOWN\nName: ENSG00000000419.11, dtype: object\nseqname                                                chr20\n1                                                     HAVANA\n2                                                       exon\nstart                                               50945737\nend                                                 50945762\n5                                                          .\nstrand                                                     -\n7                                                          .\n8          gene_id \"ENSG00000000419.11\"; transcript_id \"E...\ntype                                       ENST00000371584.7\nname                                                   KNOWN\nName: ENSG00000000419.11, dtype: object\nseqname                                                chr20\n1                                                     HAVANA\n2                                                       exon\nstart                                               50942031\nend                                                 50942126\n5                                                          .\nstrand                                                     -\n7                                                          .\n8          gene_id \"ENSG00000000419.11\"; transcript_id \"E...\ntype                                       ENST00000371584.7\nname                                                   KNOWN\nName: ENSG00000000419.11, dtype: object\nseqname                                                chr20\n1                                                     HAVANA\n2                                                       exon\nstart                                               50941105\nend                                                 50941209\n5                                                          .\nstrand                                                     -\n7                                                          .\n8          gene_id \"ENSG00000000419.11\"; transcript_id \"E...\ntype                                       ENST00000371584.7\nname                                                   KNOWN\nName: ENSG00000000419.11, dtype: object\nseqname                                                chr20\n1                                                     HAVANA\n2                                                       exon\nstart                                               50940865\nend                                                 50940933\n5                                                          .\nstrand                                                     -\n7                                                          .\n8          gene_id \"ENSG00000000419.11\"; transcript_id \"E...\ntype                                       ENST00000371584.7\nname                                                   KNOWN\nName: ENSG00000000419.11, dtype: object\nseqname                                                chr20\n1                                                     HAVANA\n2                                                       exon\nstart                                               50936148\nend                                                 50936262\n5                                                          .\nstrand                                                     -\n7                                                          .\n8          gene_id \"ENSG00000000419.11\"; transcript_id \"E...\ntype                                       ENST00000371584.7\nname                                                   KNOWN\nName: ENSG00000000419.11, dtype: object\nseqname                                                chr20\n1                                                     HAVANA\n2                                                       exon\nstart                                               50934945\nend                                                 50935236\n5                                                          .\nstrand                                                     -\n7                                                          .\n8          gene_id \"ENSG00000000419.11\"; transcript_id \"E...\ntype                                       ENST00000371584.7\nname                                                   KNOWN\nName: ENSG00000000419.11, dtype: object\nseqname                                                chr20\n1                                                     HAVANA\n2                                                       exon\nstart                                               50958363\nend                                                 50958532\n5                                                          .\nstrand                                                     -\n7                                                          .\n8          gene_id \"ENSG00000000419.11\"; transcript_id \"E...\ntype                                       ENST00000413082.1\nname                                                   KNOWN\nName: ENSG00000000419.11, dtype: object\nseqname                                                chr20\n1                                                     HAVANA\n2                                                       exon\nstart                                               50955186\nend                                                 50955285\n5                                                          .\nstrand                                                     -\n7                                                          .\n8          gene_id \"ENSG00000000419.11\"; transcript_id \"E...\ntype                                       ENST00000413082.1\nname                                                   KNOWN\nName: ENSG00000000419.11, dtype: object\nseqname                                                chr20\n1                                                     HAVANA\n2                                                       exon\nstart                                               50948629\nend                                                 50948662\n5                                                          .\nstrand                                                     -\n7                                                          .\n8          gene_id \"ENSG00000000419.11\"; transcript_id \"E...\ntype                                       ENST00000413082.1\nname                                                   KNOWN\nName: ENSG00000000419.11, dtype: object\nseqname                                                chr20\n1                                                     HAVANA\n2                                                       exon\nstart                                               50945847\nend                                                 50945923\n5                                                          .\nstrand                                                     -\n7                                                          .\n8          gene_id \"ENSG00000000419.11\"; transcript_id \"E...\ntype                                       ENST00000413082.1\nname                                                   KNOWN\nName: ENSG00000000419.11, dtype: object\nseqname                                                chr20\n1                                                     HAVANA\n2                                                       exon\nstart                                               50945847\nend                                                 50945923\n5                                                          .\nstrand                                                     -\n7                                                          .\n8          gene_id \"ENSG00000000419.11\"; transcript_id \"E...\ntype                                       ENST00000371584.7\nname                                                   KNOWN\nName: ENSG00000000419.11, dtype: object\nseqname                                                chr20\n1                                                     HAVANA\n2                                                       exon\nstart                                               50941129\nend                                                 50941209\n5                                                          .\nstrand                                                     -\n7                                                          .\n8          gene_id \"ENSG00000000419.11\"; transcript_id \"E...\ntype                                       ENST00000413082.1\nname                                                   KNOWN\nName: ENSG00000000419.11, dtype: object\nseqname                                                chr20\n1                                                     HAVANA\n2                                                       exon\nstart                                               50945737\nend                                                 50945762\n5                                                          .\nstrand                                                     -\n7                                                          .\n8          gene_id \"ENSG00000000419.11\"; transcript_id \"E...\ntype                                       ENST00000413082.1\nname                                                   KNOWN\nName: ENSG00000000419.11, dtype: object\nseqname                                                chr20\n1                                                     HAVANA\n2                                                       exon\nstart                                               50942031\nend                                                 50942126\n5                                                          .\nstrand                                                     -\n7                                                          .\n8          gene_id \"ENSG00000000419.11\"; transcript_id \"E...\ntype                                       ENST00000371582.7\nname                                                   KNOWN\nName: ENSG00000000419.11, dtype: object\nseqname                                                chr20\n1                                                     HAVANA\n2                                                       exon\nstart                                               50941129\nend                                                 50941209\n5                                                          .\nstrand                                                     -\n7                                                          .\n8          gene_id \"ENSG00000000419.11\"; transcript_id \"E...\ntype                                       ENST00000371582.7\nname                                                   KNOWN\nName: ENSG00000000419.11, dtype: object\nseqname                                                chr20\n1                                                     HAVANA\n2                                                       exon\nstart                                               50936148\nend                                                 50936262\n5                                                          .\nstrand                                                     -\n7                                                          .\n8          gene_id \"ENSG00000000419.11\"; transcript_id \"E...\ntype                                       ENST00000371582.7\nname                                                   KNOWN\nName: ENSG00000000419.11, dtype: object\nseqname                                                chr20\n1                                                     HAVANA\n2                                                       exon\nstart                                               50934867\nend                                                 50935236\n5                                                          .\nstrand                                                     -\n7                                                          .\n8          gene_id \"ENSG00000000419.11\"; transcript_id \"E...\ntype                                       ENST00000371582.7\nname                                                   KNOWN\nName: ENSG00000000419.11, dtype: object\nseqname                                                chr20\n1                                                     HAVANA\n2                                                       exon\nstart                                               50940865\nend                                                 50940933\n5                                                          .\nstrand                                                     -\n7                                                          .\n8          gene_id \"ENSG00000000419.11\"; transcript_id \"E...\ntype                                       ENST00000371582.7\nname                                                   KNOWN\nName: ENSG00000000419.11, dtype: object\nseqname                                                chr20\n1                                                     HAVANA\n2                                                       exon\nstart                                               50945737\nend                                                 50945762\n5                                                          .\nstrand                                                     -\n7                                                          .\n8          gene_id \"ENSG00000000419.11\"; transcript_id \"E...\ntype                                       ENST00000494752.1\nname                                                   KNOWN\nName: ENSG00000000419.11, dtype: object\nseqname                                                chr20\n1                                                     HAVANA\n2                                                       exon\nstart                                               50942031\nend                                                 50942126\n5                                                          .\nstrand                                                     -\n7                                                          .\n8          gene_id \"ENSG00000000419.11\"; transcript_id \"E...\ntype                                       ENST00000494752.1\nname                                                   KNOWN\nName: ENSG00000000419.11, dtype: object\nseqname                                                chr20\n1                                                     HAVANA\n2                                                       exon\nstart                                               50941105\nend                                                 50941209\n5                                                          .\nstrand                                                     -\n7                                                          .\n8          gene_id \"ENSG00000000419.11\"; transcript_id \"E...\ntype                                       ENST00000494752.1\nname                                                   KNOWN\nName: ENSG00000000419.11, dtype: object\nseqname                                                chr20\n1                                                     HAVANA\n2                                                       exon\nstart                                               50936148\nend                                                 50936262\n5                                                          .\nstrand                                                     -\n7                                                          .\n8          gene_id \"ENSG00000000419.11\"; transcript_id \"E...\ntype                                       ENST00000413082.1\nname                                                   KNOWN\nName: ENSG00000000419.11, dtype: object\nseqname                                                chr20\n1                                                     HAVANA\n2                                                       exon\nstart                                               50940865\nend                                                 50940933\n5                                                          .\nstrand                                                     -\n7                                                          .\n8          gene_id \"ENSG00000000419.11\"; transcript_id \"E...\ntype                                       ENST00000413082.1\nname                                                   KNOWN\nName: ENSG00000000419.11, dtype: object\nseqname                                                chr20\n1                                                     HAVANA\n2                                                       exon\nstart                                               50945847\nend                                                 50945861\n5                                                          .\nstrand                                                     -\n7                                                          .\n8          gene_id \"ENSG00000000419.11\"; transcript_id \"E...\ntype                                       ENST00000494752.1\nname                                                   KNOWN\nName: ENSG00000000419.11, dtype: object\nseqname                                                 chr1\n1                                                     HAVANA\n2                                                       exon\nstart                                              169854270\nend                                                169854964\n5                                                          .\nstrand                                                     -\n7                                                          .\n8          gene_id \"ENSG00000000457.12\"; transcript_id \"E...\ntype                                       ENST00000367770.4\nname                                                   KNOWN\nName: ENSG00000000457.12, dtype: object\nseqname                                                 chr1\n1                                                    ENSEMBL\n2                                                       exon\nstart                                              169893788\nend                                                169893959\n5                                                          .\nstrand                                                     -\n7                                                          .\n8          gene_id \"ENSG00000000457.12\"; transcript_id \"E...\ntype                                       ENST00000367772.7\nname                                                   KNOWN\nName: ENSG00000000457.12, dtype: object\nseqname                                                 chr1\n1                                                    ENSEMBL\n2                                                       exon\nstart                                              169866896\nend                                                169866973\n5                                                          .\nstrand                                                     -\n7                                                          .\n8          gene_id \"ENSG00000000457.12\"; transcript_id \"E...\ntype                                       ENST00000367772.7\nname                                                   KNOWN\nName: ENSG00000000457.12, dtype: object\n"
    }
   ],
   "source": [
    "aggregate_lengths = []\n",
    "prev_idx = ''\n",
    "for iidx, idx in enumerate(df_gencode_exons.index[:100]):\n",
    "    row = df_gencode_exons.iloc[iidx,:]\n",
    "    curr_len = row['end'] - row['start'] + 1\n",
    "    print(row)\n",
    "    if idx != prev_idx:\n",
    "        if prev_idx != '':\n",
    "            aggregate_lengths.append(tmp_len)\n",
    "        tmp_len = 0\n",
    "    tmp_len = tmp_len + curr_len\n",
    "    prev_idx = idx\n",
    "aggregate_lengths.append(tmp_len)"
   ]
  },
  {
   "cell_type": "code",
   "execution_count": 38,
   "metadata": {},
   "outputs": [
    {
     "output_type": "execute_result",
     "data": {
      "text/plain": "15985"
     },
     "metadata": {},
     "execution_count": 38
    }
   ],
   "source": [
    "df_gencode_exons.index[:100]\n",
    "tmp = df_gencode_exons[df_gencode_exons.index=='ENSG00000000457.12']\n",
    "(tmp['end'] - tmp['start'] + 1).sum()"
   ]
  },
  {
   "cell_type": "code",
   "execution_count": null,
   "metadata": {},
   "outputs": [],
   "source": []
  },
  {
   "cell_type": "code",
   "execution_count": 12,
   "metadata": {},
   "outputs": [],
   "source": [
    "mylist = [5,5,2,2,2,9,6,6,6]"
   ]
  },
  {
   "cell_type": "code",
   "execution_count": 17,
   "metadata": {},
   "outputs": [],
   "source": [
    "aggregate_lengths = []\n",
    "prev_num = -1\n",
    "for num in mylist:\n",
    "    if num != prev_num:\n",
    "        if prev_num != -1:\n",
    "            aggregate_lengths.append(tmp_len)\n",
    "        tmp_len = 0\n",
    "    tmp_len = tmp_len + num\n",
    "    prev_num = num\n",
    "aggregate_lengths.append(tmp_len)"
   ]
  },
  {
   "cell_type": "code",
   "execution_count": 159,
   "metadata": {},
   "outputs": [
    {
     "output_type": "execute_result",
     "data": {
      "text/plain": "                   seqname       1     2      start        end  5 strand  7  \\\nid                                                                            \nENSG00000000003.13    chrX  HAVANA  gene  100627109  100639991  .      -  .   \nENSG00000000005.5     chrX  HAVANA  gene  100584802  100599885  .      +  .   \nENSG00000000419.11   chr20  HAVANA  gene   50934867   50958555  .      -  .   \nENSG00000000457.12    chr1  HAVANA  gene  169849631  169894267  .      -  .   \nENSG00000000460.15    chr1  HAVANA  gene  169662007  169854080  .      +  .   \nENSG00000000938.11    chr1  HAVANA  gene   27612064   27635277  .      -  .   \nENSG00000000971.14    chr1  HAVANA  gene  196651878  196747504  .      +  .   \nENSG00000001036.12    chr6  HAVANA  gene  143494811  143511690  .      -  .   \nENSG00000001084.9     chr6  HAVANA  gene   53497341   53616970  .      -  .   \nENSG00000001167.13    chr6  HAVANA  gene   41072945   41099976  .      +  .   \n\n                                                                    8  \\\nid                                                                      \nENSG00000000003.13  gene_id \"ENSG00000000003.13\"; gene_type \"prote...   \nENSG00000000005.5   gene_id \"ENSG00000000005.5\"; gene_type \"protei...   \nENSG00000000419.11  gene_id \"ENSG00000000419.11\"; gene_type \"prote...   \nENSG00000000457.12  gene_id \"ENSG00000000457.12\"; gene_type \"prote...   \nENSG00000000460.15  gene_id \"ENSG00000000460.15\"; gene_type \"prote...   \nENSG00000000938.11  gene_id \"ENSG00000000938.11\"; gene_type \"prote...   \nENSG00000000971.14  gene_id \"ENSG00000000971.14\"; gene_type \"prote...   \nENSG00000001036.12  gene_id \"ENSG00000001036.12\"; gene_type \"prote...   \nENSG00000001084.9   gene_id \"ENSG00000001084.9\"; gene_type \"protei...   \nENSG00000001167.13  gene_id \"ENSG00000001167.13\"; gene_type \"prote...   \n\n                              type      name  aggregate_length  \nid                                                              \nENSG00000000003.13  protein_coding    TSPAN6              8747  \nENSG00000000005.5   protein_coding      TNMD              1881  \nENSG00000000419.11  protein_coding      DPM1              5867  \nENSG00000000457.12  protein_coding     SCYL3             15985  \nENSG00000000460.15  protein_coding  C1orf112             21871  \nENSG00000000938.11  protein_coding       FGR             12147  \nENSG00000000971.14  protein_coding       CFH             15527  \nENSG00000001036.12  protein_coding     FUCA2              3739  \nENSG00000001084.9   protein_coding      GCLC             20982  \nENSG00000001167.13  protein_coding      NFYA              5471  ",
      "text/html": "<div>\n<style scoped>\n    .dataframe tbody tr th:only-of-type {\n        vertical-align: middle;\n    }\n\n    .dataframe tbody tr th {\n        vertical-align: top;\n    }\n\n    .dataframe thead th {\n        text-align: right;\n    }\n</style>\n<table border=\"1\" class=\"dataframe\">\n  <thead>\n    <tr style=\"text-align: right;\">\n      <th></th>\n      <th>seqname</th>\n      <th>1</th>\n      <th>2</th>\n      <th>start</th>\n      <th>end</th>\n      <th>5</th>\n      <th>strand</th>\n      <th>7</th>\n      <th>8</th>\n      <th>type</th>\n      <th>name</th>\n      <th>aggregate_length</th>\n    </tr>\n    <tr>\n      <th>id</th>\n      <th></th>\n      <th></th>\n      <th></th>\n      <th></th>\n      <th></th>\n      <th></th>\n      <th></th>\n      <th></th>\n      <th></th>\n      <th></th>\n      <th></th>\n      <th></th>\n    </tr>\n  </thead>\n  <tbody>\n    <tr>\n      <th>ENSG00000000003.13</th>\n      <td>chrX</td>\n      <td>HAVANA</td>\n      <td>gene</td>\n      <td>100627109</td>\n      <td>100639991</td>\n      <td>.</td>\n      <td>-</td>\n      <td>.</td>\n      <td>gene_id \"ENSG00000000003.13\"; gene_type \"prote...</td>\n      <td>protein_coding</td>\n      <td>TSPAN6</td>\n      <td>8747</td>\n    </tr>\n    <tr>\n      <th>ENSG00000000005.5</th>\n      <td>chrX</td>\n      <td>HAVANA</td>\n      <td>gene</td>\n      <td>100584802</td>\n      <td>100599885</td>\n      <td>.</td>\n      <td>+</td>\n      <td>.</td>\n      <td>gene_id \"ENSG00000000005.5\"; gene_type \"protei...</td>\n      <td>protein_coding</td>\n      <td>TNMD</td>\n      <td>1881</td>\n    </tr>\n    <tr>\n      <th>ENSG00000000419.11</th>\n      <td>chr20</td>\n      <td>HAVANA</td>\n      <td>gene</td>\n      <td>50934867</td>\n      <td>50958555</td>\n      <td>.</td>\n      <td>-</td>\n      <td>.</td>\n      <td>gene_id \"ENSG00000000419.11\"; gene_type \"prote...</td>\n      <td>protein_coding</td>\n      <td>DPM1</td>\n      <td>5867</td>\n    </tr>\n    <tr>\n      <th>ENSG00000000457.12</th>\n      <td>chr1</td>\n      <td>HAVANA</td>\n      <td>gene</td>\n      <td>169849631</td>\n      <td>169894267</td>\n      <td>.</td>\n      <td>-</td>\n      <td>.</td>\n      <td>gene_id \"ENSG00000000457.12\"; gene_type \"prote...</td>\n      <td>protein_coding</td>\n      <td>SCYL3</td>\n      <td>15985</td>\n    </tr>\n    <tr>\n      <th>ENSG00000000460.15</th>\n      <td>chr1</td>\n      <td>HAVANA</td>\n      <td>gene</td>\n      <td>169662007</td>\n      <td>169854080</td>\n      <td>.</td>\n      <td>+</td>\n      <td>.</td>\n      <td>gene_id \"ENSG00000000460.15\"; gene_type \"prote...</td>\n      <td>protein_coding</td>\n      <td>C1orf112</td>\n      <td>21871</td>\n    </tr>\n    <tr>\n      <th>ENSG00000000938.11</th>\n      <td>chr1</td>\n      <td>HAVANA</td>\n      <td>gene</td>\n      <td>27612064</td>\n      <td>27635277</td>\n      <td>.</td>\n      <td>-</td>\n      <td>.</td>\n      <td>gene_id \"ENSG00000000938.11\"; gene_type \"prote...</td>\n      <td>protein_coding</td>\n      <td>FGR</td>\n      <td>12147</td>\n    </tr>\n    <tr>\n      <th>ENSG00000000971.14</th>\n      <td>chr1</td>\n      <td>HAVANA</td>\n      <td>gene</td>\n      <td>196651878</td>\n      <td>196747504</td>\n      <td>.</td>\n      <td>+</td>\n      <td>.</td>\n      <td>gene_id \"ENSG00000000971.14\"; gene_type \"prote...</td>\n      <td>protein_coding</td>\n      <td>CFH</td>\n      <td>15527</td>\n    </tr>\n    <tr>\n      <th>ENSG00000001036.12</th>\n      <td>chr6</td>\n      <td>HAVANA</td>\n      <td>gene</td>\n      <td>143494811</td>\n      <td>143511690</td>\n      <td>.</td>\n      <td>-</td>\n      <td>.</td>\n      <td>gene_id \"ENSG00000001036.12\"; gene_type \"prote...</td>\n      <td>protein_coding</td>\n      <td>FUCA2</td>\n      <td>3739</td>\n    </tr>\n    <tr>\n      <th>ENSG00000001084.9</th>\n      <td>chr6</td>\n      <td>HAVANA</td>\n      <td>gene</td>\n      <td>53497341</td>\n      <td>53616970</td>\n      <td>.</td>\n      <td>-</td>\n      <td>.</td>\n      <td>gene_id \"ENSG00000001084.9\"; gene_type \"protei...</td>\n      <td>protein_coding</td>\n      <td>GCLC</td>\n      <td>20982</td>\n    </tr>\n    <tr>\n      <th>ENSG00000001167.13</th>\n      <td>chr6</td>\n      <td>HAVANA</td>\n      <td>gene</td>\n      <td>41072945</td>\n      <td>41099976</td>\n      <td>.</td>\n      <td>+</td>\n      <td>.</td>\n      <td>gene_id \"ENSG00000001167.13\"; gene_type \"prote...</td>\n      <td>protein_coding</td>\n      <td>NFYA</td>\n      <td>5471</td>\n    </tr>\n  </tbody>\n</table>\n</div>"
     },
     "metadata": {},
     "execution_count": 159
    }
   ],
   "source": [
    "df_gencode_genes[:10]"
   ]
  },
  {
   "cell_type": "code",
   "execution_count": 158,
   "metadata": {},
   "outputs": [
    {
     "output_type": "execute_result",
     "data": {
      "text/plain": "                        name seqname      start        end strand  \\\nid                                                                  \nENSG00000000003.13    TSPAN6    chrX  100627109  100639991      -   \nENSG00000000005.5       TNMD    chrX  100584802  100599885      +   \nENSG00000000419.11      DPM1   chr20   50934867   50958555      -   \nENSG00000000457.12     SCYL3    chr1  169849631  169894267      -   \nENSG00000000460.15  C1orf112    chr1  169662007  169854080      +   \nENSG00000000938.11       FGR    chr1   27612064   27635277      -   \nENSG00000000971.14       CFH    chr1  196651878  196747504      +   \nENSG00000001036.12     FUCA2    chr6  143494811  143511690      -   \nENSG00000001084.9       GCLC    chr6   53497341   53616970      -   \nENSG00000001167.13      NFYA    chr6   41072945   41099976      +   \n\n                              type gene_status           havana_gene  \\\nid                                                                     \nENSG00000000003.13  protein_coding       KNOWN  OTTHUMG00000022002.1   \nENSG00000000005.5   protein_coding       KNOWN  OTTHUMG00000022001.1   \nENSG00000000419.11  protein_coding       KNOWN  OTTHUMG00000032742.2   \nENSG00000000457.12  protein_coding       KNOWN  OTTHUMG00000035941.4   \nENSG00000000460.15  protein_coding       KNOWN  OTTHUMG00000035821.7   \nENSG00000000938.11  protein_coding       KNOWN  OTTHUMG00000003516.1   \nENSG00000000971.14  protein_coding       KNOWN  OTTHUMG00000035607.5   \nENSG00000001036.12  protein_coding       KNOWN  OTTHUMG00000015728.2   \nENSG00000001084.9   protein_coding       KNOWN  OTTHUMG00000160220.5   \nENSG00000001167.13  protein_coding       KNOWN  OTTHUMG00000014669.1   \n\n                    full_length  exon_length  exon_num  \nid                                                      \nENSG00000000003.13        12883         4535        34  \nENSG00000000005.5         15084         1610        10  \nENSG00000000419.11        23689         1207        53  \nENSG00000000457.12        44637         6883        63  \nENSG00000000460.15       192074         5967       151  \nENSG00000000938.11        23214         3474        65  \nENSG00000000971.14        95627         8145        62  \nENSG00000001036.12        16880         2793        12  \nENSG00000001084.9        119630         8463        86  \nENSG00000001167.13        27032         3811        19  ",
      "text/html": "<div>\n<style scoped>\n    .dataframe tbody tr th:only-of-type {\n        vertical-align: middle;\n    }\n\n    .dataframe tbody tr th {\n        vertical-align: top;\n    }\n\n    .dataframe thead th {\n        text-align: right;\n    }\n</style>\n<table border=\"1\" class=\"dataframe\">\n  <thead>\n    <tr style=\"text-align: right;\">\n      <th></th>\n      <th>name</th>\n      <th>seqname</th>\n      <th>start</th>\n      <th>end</th>\n      <th>strand</th>\n      <th>type</th>\n      <th>gene_status</th>\n      <th>havana_gene</th>\n      <th>full_length</th>\n      <th>exon_length</th>\n      <th>exon_num</th>\n    </tr>\n    <tr>\n      <th>id</th>\n      <th></th>\n      <th></th>\n      <th></th>\n      <th></th>\n      <th></th>\n      <th></th>\n      <th></th>\n      <th></th>\n      <th></th>\n      <th></th>\n      <th></th>\n    </tr>\n  </thead>\n  <tbody>\n    <tr>\n      <th>ENSG00000000003.13</th>\n      <td>TSPAN6</td>\n      <td>chrX</td>\n      <td>100627109</td>\n      <td>100639991</td>\n      <td>-</td>\n      <td>protein_coding</td>\n      <td>KNOWN</td>\n      <td>OTTHUMG00000022002.1</td>\n      <td>12883</td>\n      <td>4535</td>\n      <td>34</td>\n    </tr>\n    <tr>\n      <th>ENSG00000000005.5</th>\n      <td>TNMD</td>\n      <td>chrX</td>\n      <td>100584802</td>\n      <td>100599885</td>\n      <td>+</td>\n      <td>protein_coding</td>\n      <td>KNOWN</td>\n      <td>OTTHUMG00000022001.1</td>\n      <td>15084</td>\n      <td>1610</td>\n      <td>10</td>\n    </tr>\n    <tr>\n      <th>ENSG00000000419.11</th>\n      <td>DPM1</td>\n      <td>chr20</td>\n      <td>50934867</td>\n      <td>50958555</td>\n      <td>-</td>\n      <td>protein_coding</td>\n      <td>KNOWN</td>\n      <td>OTTHUMG00000032742.2</td>\n      <td>23689</td>\n      <td>1207</td>\n      <td>53</td>\n    </tr>\n    <tr>\n      <th>ENSG00000000457.12</th>\n      <td>SCYL3</td>\n      <td>chr1</td>\n      <td>169849631</td>\n      <td>169894267</td>\n      <td>-</td>\n      <td>protein_coding</td>\n      <td>KNOWN</td>\n      <td>OTTHUMG00000035941.4</td>\n      <td>44637</td>\n      <td>6883</td>\n      <td>63</td>\n    </tr>\n    <tr>\n      <th>ENSG00000000460.15</th>\n      <td>C1orf112</td>\n      <td>chr1</td>\n      <td>169662007</td>\n      <td>169854080</td>\n      <td>+</td>\n      <td>protein_coding</td>\n      <td>KNOWN</td>\n      <td>OTTHUMG00000035821.7</td>\n      <td>192074</td>\n      <td>5967</td>\n      <td>151</td>\n    </tr>\n    <tr>\n      <th>ENSG00000000938.11</th>\n      <td>FGR</td>\n      <td>chr1</td>\n      <td>27612064</td>\n      <td>27635277</td>\n      <td>-</td>\n      <td>protein_coding</td>\n      <td>KNOWN</td>\n      <td>OTTHUMG00000003516.1</td>\n      <td>23214</td>\n      <td>3474</td>\n      <td>65</td>\n    </tr>\n    <tr>\n      <th>ENSG00000000971.14</th>\n      <td>CFH</td>\n      <td>chr1</td>\n      <td>196651878</td>\n      <td>196747504</td>\n      <td>+</td>\n      <td>protein_coding</td>\n      <td>KNOWN</td>\n      <td>OTTHUMG00000035607.5</td>\n      <td>95627</td>\n      <td>8145</td>\n      <td>62</td>\n    </tr>\n    <tr>\n      <th>ENSG00000001036.12</th>\n      <td>FUCA2</td>\n      <td>chr6</td>\n      <td>143494811</td>\n      <td>143511690</td>\n      <td>-</td>\n      <td>protein_coding</td>\n      <td>KNOWN</td>\n      <td>OTTHUMG00000015728.2</td>\n      <td>16880</td>\n      <td>2793</td>\n      <td>12</td>\n    </tr>\n    <tr>\n      <th>ENSG00000001084.9</th>\n      <td>GCLC</td>\n      <td>chr6</td>\n      <td>53497341</td>\n      <td>53616970</td>\n      <td>-</td>\n      <td>protein_coding</td>\n      <td>KNOWN</td>\n      <td>OTTHUMG00000160220.5</td>\n      <td>119630</td>\n      <td>8463</td>\n      <td>86</td>\n    </tr>\n    <tr>\n      <th>ENSG00000001167.13</th>\n      <td>NFYA</td>\n      <td>chr6</td>\n      <td>41072945</td>\n      <td>41099976</td>\n      <td>+</td>\n      <td>protein_coding</td>\n      <td>KNOWN</td>\n      <td>OTTHUMG00000014669.1</td>\n      <td>27032</td>\n      <td>3811</td>\n      <td>19</td>\n    </tr>\n  </tbody>\n</table>\n</div>"
     },
     "metadata": {},
     "execution_count": 158
    }
   ],
   "source": [
    "df_gdc[:10]"
   ]
  },
  {
   "cell_type": "code",
   "execution_count": 54,
   "metadata": {},
   "outputs": [
    {
     "output_type": "execute_result",
     "data": {
      "text/plain": "Index(['ENSG00000000003.13', 'ENSG00000000003.13', 'ENSG00000000003.13',\n       'ENSG00000000003.13', 'ENSG00000000003.13', 'ENSG00000000003.13',\n       'ENSG00000000003.13', 'ENSG00000000003.13', 'ENSG00000000003.13',\n       'ENSG00000000003.13', 'ENSG00000000003.13', 'ENSG00000000003.13',\n       'ENSG00000000003.13', 'ENSG00000000003.13', 'ENSG00000000003.13',\n       'ENSG00000000003.13', 'ENSG00000000003.13', 'ENSG00000000003.13',\n       'ENSG00000000003.13', 'ENSG00000000003.13', 'ENSG00000000003.13',\n       'ENSG00000000003.13', 'ENSG00000000003.13', 'ENSG00000000003.13',\n       'ENSG00000000003.13', 'ENSG00000000003.13', 'ENSG00000000003.13',\n       'ENSG00000000003.13', 'ENSG00000000003.13', 'ENSG00000000003.13',\n       'ENSG00000000003.13', 'ENSG00000000003.13', 'ENSG00000000003.13',\n       'ENSG00000000003.13', 'ENSG00000000005.5', 'ENSG00000000005.5',\n       'ENSG00000000005.5', 'ENSG00000000005.5', 'ENSG00000000005.5',\n       'ENSG00000000005.5', 'ENSG00000000005.5', 'ENSG00000000005.5',\n       'ENSG00000000005.5', 'ENSG00000000005.5', 'ENSG00000000419.11',\n       'ENSG00000000419.11', 'ENSG00000000419.11', 'ENSG00000000419.11',\n       'ENSG00000000419.11', 'ENSG00000000419.11', 'ENSG00000000419.11',\n       'ENSG00000000419.11', 'ENSG00000000419.11', 'ENSG00000000419.11',\n       'ENSG00000000419.11', 'ENSG00000000419.11', 'ENSG00000000419.11',\n       'ENSG00000000419.11', 'ENSG00000000419.11', 'ENSG00000000419.11',\n       'ENSG00000000419.11', 'ENSG00000000419.11', 'ENSG00000000419.11',\n       'ENSG00000000419.11', 'ENSG00000000419.11', 'ENSG00000000419.11',\n       'ENSG00000000419.11', 'ENSG00000000419.11', 'ENSG00000000419.11',\n       'ENSG00000000419.11', 'ENSG00000000419.11', 'ENSG00000000419.11',\n       'ENSG00000000419.11', 'ENSG00000000419.11', 'ENSG00000000419.11',\n       'ENSG00000000419.11', 'ENSG00000000419.11', 'ENSG00000000419.11',\n       'ENSG00000000419.11', 'ENSG00000000419.11', 'ENSG00000000419.11',\n       'ENSG00000000419.11', 'ENSG00000000419.11', 'ENSG00000000419.11',\n       'ENSG00000000419.11', 'ENSG00000000419.11', 'ENSG00000000419.11',\n       'ENSG00000000419.11', 'ENSG00000000419.11', 'ENSG00000000419.11',\n       'ENSG00000000419.11', 'ENSG00000000419.11', 'ENSG00000000419.11',\n       'ENSG00000000419.11', 'ENSG00000000419.11', 'ENSG00000000419.11',\n       'ENSG00000000419.11', 'ENSG00000000457.12', 'ENSG00000000457.12',\n       'ENSG00000000457.12'],\n      dtype='object', name='id')"
     },
     "metadata": {},
     "execution_count": 54
    }
   ],
   "source": [
    "df_gencode_exons.index[:100]"
   ]
  },
  {
   "cell_type": "code",
   "execution_count": 169,
   "metadata": {},
   "outputs": [
    {
     "output_type": "execute_result",
     "data": {
      "text/plain": "                  seqname       1     2      start        end  5 strand  7  \\\nid                                                                           \nENSG00000000005.5    chrX  HAVANA  exon  100594261  100594362  .      +  .   \nENSG00000000005.5    chrX  HAVANA  exon  100584802  100585066  .      +  .   \nENSG00000000005.5    chrX  HAVANA  exon  100585231  100585362  .      +  .   \nENSG00000000005.5    chrX  HAVANA  exon  100593895  100594035  .      +  .   \nENSG00000000005.5    chrX  HAVANA  exon  100594261  100594362  .      +  .   \nENSG00000000005.5    chrX  HAVANA  exon  100597504  100597657  .      +  .   \nENSG00000000005.5    chrX  HAVANA  exon  100599016  100599182  .      +  .   \nENSG00000000005.5    chrX  HAVANA  exon  100599508  100599885  .      +  .   \nENSG00000000005.5    chrX  HAVANA  exon  100593624  100594035  .      +  .   \nENSG00000000005.5    chrX  HAVANA  exon  100597504  100597531  .      +  .   \n\n                                                                   8  \\\nid                                                                     \nENSG00000000005.5  gene_id \"ENSG00000000005.5\"; transcript_id \"EN...   \nENSG00000000005.5  gene_id \"ENSG00000000005.5\"; transcript_id \"EN...   \nENSG00000000005.5  gene_id \"ENSG00000000005.5\"; transcript_id \"EN...   \nENSG00000000005.5  gene_id \"ENSG00000000005.5\"; transcript_id \"EN...   \nENSG00000000005.5  gene_id \"ENSG00000000005.5\"; transcript_id \"EN...   \nENSG00000000005.5  gene_id \"ENSG00000000005.5\"; transcript_id \"EN...   \nENSG00000000005.5  gene_id \"ENSG00000000005.5\"; transcript_id \"EN...   \nENSG00000000005.5  gene_id \"ENSG00000000005.5\"; transcript_id \"EN...   \nENSG00000000005.5  gene_id \"ENSG00000000005.5\"; transcript_id \"EN...   \nENSG00000000005.5  gene_id \"ENSG00000000005.5\"; transcript_id \"EN...   \n\n                                type   name  exon_length  \nid                                                        \nENSG00000000005.5  ENST00000485971.1  KNOWN          102  \nENSG00000000005.5  ENST00000373031.4  KNOWN          265  \nENSG00000000005.5  ENST00000373031.4  KNOWN          132  \nENSG00000000005.5  ENST00000373031.4  KNOWN          141  \nENSG00000000005.5  ENST00000373031.4  KNOWN          102  \nENSG00000000005.5  ENST00000373031.4  KNOWN          154  \nENSG00000000005.5  ENST00000373031.4  KNOWN          167  \nENSG00000000005.5  ENST00000373031.4  KNOWN          378  \nENSG00000000005.5  ENST00000485971.1  KNOWN          412  \nENSG00000000005.5  ENST00000485971.1  KNOWN           28  ",
      "text/html": "<div>\n<style scoped>\n    .dataframe tbody tr th:only-of-type {\n        vertical-align: middle;\n    }\n\n    .dataframe tbody tr th {\n        vertical-align: top;\n    }\n\n    .dataframe thead th {\n        text-align: right;\n    }\n</style>\n<table border=\"1\" class=\"dataframe\">\n  <thead>\n    <tr style=\"text-align: right;\">\n      <th></th>\n      <th>seqname</th>\n      <th>1</th>\n      <th>2</th>\n      <th>start</th>\n      <th>end</th>\n      <th>5</th>\n      <th>strand</th>\n      <th>7</th>\n      <th>8</th>\n      <th>type</th>\n      <th>name</th>\n      <th>exon_length</th>\n    </tr>\n    <tr>\n      <th>id</th>\n      <th></th>\n      <th></th>\n      <th></th>\n      <th></th>\n      <th></th>\n      <th></th>\n      <th></th>\n      <th></th>\n      <th></th>\n      <th></th>\n      <th></th>\n      <th></th>\n    </tr>\n  </thead>\n  <tbody>\n    <tr>\n      <th>ENSG00000000005.5</th>\n      <td>chrX</td>\n      <td>HAVANA</td>\n      <td>exon</td>\n      <td>100594261</td>\n      <td>100594362</td>\n      <td>.</td>\n      <td>+</td>\n      <td>.</td>\n      <td>gene_id \"ENSG00000000005.5\"; transcript_id \"EN...</td>\n      <td>ENST00000485971.1</td>\n      <td>KNOWN</td>\n      <td>102</td>\n    </tr>\n    <tr>\n      <th>ENSG00000000005.5</th>\n      <td>chrX</td>\n      <td>HAVANA</td>\n      <td>exon</td>\n      <td>100584802</td>\n      <td>100585066</td>\n      <td>.</td>\n      <td>+</td>\n      <td>.</td>\n      <td>gene_id \"ENSG00000000005.5\"; transcript_id \"EN...</td>\n      <td>ENST00000373031.4</td>\n      <td>KNOWN</td>\n      <td>265</td>\n    </tr>\n    <tr>\n      <th>ENSG00000000005.5</th>\n      <td>chrX</td>\n      <td>HAVANA</td>\n      <td>exon</td>\n      <td>100585231</td>\n      <td>100585362</td>\n      <td>.</td>\n      <td>+</td>\n      <td>.</td>\n      <td>gene_id \"ENSG00000000005.5\"; transcript_id \"EN...</td>\n      <td>ENST00000373031.4</td>\n      <td>KNOWN</td>\n      <td>132</td>\n    </tr>\n    <tr>\n      <th>ENSG00000000005.5</th>\n      <td>chrX</td>\n      <td>HAVANA</td>\n      <td>exon</td>\n      <td>100593895</td>\n      <td>100594035</td>\n      <td>.</td>\n      <td>+</td>\n      <td>.</td>\n      <td>gene_id \"ENSG00000000005.5\"; transcript_id \"EN...</td>\n      <td>ENST00000373031.4</td>\n      <td>KNOWN</td>\n      <td>141</td>\n    </tr>\n    <tr>\n      <th>ENSG00000000005.5</th>\n      <td>chrX</td>\n      <td>HAVANA</td>\n      <td>exon</td>\n      <td>100594261</td>\n      <td>100594362</td>\n      <td>.</td>\n      <td>+</td>\n      <td>.</td>\n      <td>gene_id \"ENSG00000000005.5\"; transcript_id \"EN...</td>\n      <td>ENST00000373031.4</td>\n      <td>KNOWN</td>\n      <td>102</td>\n    </tr>\n    <tr>\n      <th>ENSG00000000005.5</th>\n      <td>chrX</td>\n      <td>HAVANA</td>\n      <td>exon</td>\n      <td>100597504</td>\n      <td>100597657</td>\n      <td>.</td>\n      <td>+</td>\n      <td>.</td>\n      <td>gene_id \"ENSG00000000005.5\"; transcript_id \"EN...</td>\n      <td>ENST00000373031.4</td>\n      <td>KNOWN</td>\n      <td>154</td>\n    </tr>\n    <tr>\n      <th>ENSG00000000005.5</th>\n      <td>chrX</td>\n      <td>HAVANA</td>\n      <td>exon</td>\n      <td>100599016</td>\n      <td>100599182</td>\n      <td>.</td>\n      <td>+</td>\n      <td>.</td>\n      <td>gene_id \"ENSG00000000005.5\"; transcript_id \"EN...</td>\n      <td>ENST00000373031.4</td>\n      <td>KNOWN</td>\n      <td>167</td>\n    </tr>\n    <tr>\n      <th>ENSG00000000005.5</th>\n      <td>chrX</td>\n      <td>HAVANA</td>\n      <td>exon</td>\n      <td>100599508</td>\n      <td>100599885</td>\n      <td>.</td>\n      <td>+</td>\n      <td>.</td>\n      <td>gene_id \"ENSG00000000005.5\"; transcript_id \"EN...</td>\n      <td>ENST00000373031.4</td>\n      <td>KNOWN</td>\n      <td>378</td>\n    </tr>\n    <tr>\n      <th>ENSG00000000005.5</th>\n      <td>chrX</td>\n      <td>HAVANA</td>\n      <td>exon</td>\n      <td>100593624</td>\n      <td>100594035</td>\n      <td>.</td>\n      <td>+</td>\n      <td>.</td>\n      <td>gene_id \"ENSG00000000005.5\"; transcript_id \"EN...</td>\n      <td>ENST00000485971.1</td>\n      <td>KNOWN</td>\n      <td>412</td>\n    </tr>\n    <tr>\n      <th>ENSG00000000005.5</th>\n      <td>chrX</td>\n      <td>HAVANA</td>\n      <td>exon</td>\n      <td>100597504</td>\n      <td>100597531</td>\n      <td>.</td>\n      <td>+</td>\n      <td>.</td>\n      <td>gene_id \"ENSG00000000005.5\"; transcript_id \"EN...</td>\n      <td>ENST00000485971.1</td>\n      <td>KNOWN</td>\n      <td>28</td>\n    </tr>\n  </tbody>\n</table>\n</div>"
     },
     "metadata": {},
     "execution_count": 169
    }
   ],
   "source": [
    "df_gencode_exons[df_gencode_exons.index=='ENSG00000000005.5']\n",
    "#df_gencode_exons[df_gencode_exons.index=='ENSG00000001036.12']"
   ]
  },
  {
   "cell_type": "code",
   "execution_count": 74,
   "metadata": {},
   "outputs": [
    {
     "output_type": "execute_result",
     "data": {
      "text/plain": "id\nENSG00000000005.5    141\nENSG00000000005.5    -22\nENSG00000000005.5    111\nENSG00000000005.5    102\nENSG00000000005.5    141\nENSG00000000005.5     89\nENSG00000000005.5     76\nENSG00000000005.5   -135\nENSG00000000005.5   -169\nENSG00000000005.5    215\nName: exon_length, dtype: int64"
     },
     "metadata": {},
     "execution_count": 74
    }
   ],
   "source": [
    "243 - df_gencode_exons[df_gencode_exons.index=='ENSG00000000005.5']['exon_length']"
   ]
  },
  {
   "cell_type": "code",
   "execution_count": 162,
   "metadata": {},
   "outputs": [
    {
     "output_type": "stream",
     "name": "stdout",
     "text": "0 transcript_support_level\n1 protein_id\n2 protein_id\n3 protein_id\n4 protein_id\n5 protein_id\n6 protein_id\n7 protein_id\n8 transcript_support_level\n9 transcript_support_level\n"
    }
   ],
   "source": [
    "for ivalue, value in enumerate(df_gencode_exons[df_gencode_exons.index=='ENSG00000000005.5'][8]): # ENSGR0000281849.1\n",
    "#for value in df_gencode_exons[df_gencode_exons.index=='ENSGR0000281849.1'][8]:\n",
    "#for value in df_gencode_exons[df_gencode_exons.index=='ENSG00000001036.12'][8]:\n",
    "    print(ivalue, value.split()[22])"
   ]
  },
  {
   "cell_type": "code",
   "execution_count": 176,
   "metadata": {},
   "outputs": [
    {
     "output_type": "execute_result",
     "data": {
      "text/plain": "{1, 2, 3, 4, 5, 6, 7, 8, 9, 10, 11, 12, 13, 14, 15, 16, 17, 18, 19, 20}"
     },
     "metadata": {},
     "execution_count": 176
    }
   ],
   "source": [
    "import numpy as np\n",
    "set(np.concatenate([np.arange(1,5+1), np.arange(4,20+1)]))"
   ]
  },
  {
   "cell_type": "code",
   "execution_count": 10,
   "metadata": {},
   "outputs": [
    {
     "output_type": "execute_result",
     "data": {
      "text/plain": "                   seqname        1     2      start        end  5 strand  7  \\\nid                                                                             \nENSG00000000003.13    chrX   HAVANA  gene  100627109  100639991  .      -  .   \nENSG00000000005.5     chrX   HAVANA  gene  100584802  100599885  .      +  .   \nENSG00000000419.11   chr20   HAVANA  gene   50934867   50958555  .      -  .   \nENSG00000000457.12    chr1   HAVANA  gene  169849631  169894267  .      -  .   \nENSG00000000460.15    chr1   HAVANA  gene  169662007  169854080  .      +  .   \n...                    ...      ...   ...        ...        ... ..    ... ..   \nENSGR0000275287.3     chrY  ENSEMBL  gene     388100     388389  .      -  .   \nENSGR0000276543.3     chrY  ENSEMBL  gene   57209151   57209218  .      +  .   \nENSGR0000277120.3     chrY  ENSEMBL  gene    2609191    2609254  .      +  .   \nENSGR0000280767.1     chrY   HAVANA  gene     419157     421980  .      +  .   \nENSGR0000281849.1     chrY   HAVANA  gene     386980     405579  .      +  .   \n\n                                                                    8  \\\nid                                                                      \nENSG00000000003.13  gene_id \"ENSG00000000003.13\"; gene_type \"prote...   \nENSG00000000005.5   gene_id \"ENSG00000000005.5\"; gene_type \"protei...   \nENSG00000000419.11  gene_id \"ENSG00000000419.11\"; gene_type \"prote...   \nENSG00000000457.12  gene_id \"ENSG00000000457.12\"; gene_type \"prote...   \nENSG00000000460.15  gene_id \"ENSG00000000460.15\"; gene_type \"prote...   \n...                                                               ...   \nENSGR0000275287.3   gene_id \"ENSGR0000275287.3\"; gene_type \"misc_R...   \nENSGR0000276543.3   gene_id \"ENSGR0000276543.3\"; gene_type \"miRNA\"...   \nENSGR0000277120.3   gene_id \"ENSGR0000277120.3\"; gene_type \"miRNA\"...   \nENSGR0000280767.1   gene_id \"ENSGR0000280767.1\"; gene_type \"lincRN...   \nENSGR0000281849.1   gene_id \"ENSGR0000281849.1\"; gene_type \"antise...   \n\n                              type           name  aggregate_length  \nid                                                                   \nENSG00000000003.13  protein_coding         TSPAN6              4535  \nENSG00000000005.5   protein_coding           TNMD              1610  \nENSG00000000419.11  protein_coding           DPM1              1207  \nENSG00000000457.12  protein_coding          SCYL3              6883  \nENSG00000000460.15  protein_coding       C1orf112              5967  \n...                            ...            ...               ...  \nENSGR0000275287.3         misc_RNA    Metazoa_SRP               290  \nENSGR0000276543.3            miRNA     AJ271736.1                68  \nENSGR0000277120.3            miRNA        MIR6089                64  \nENSGR0000280767.1          lincRNA  RP13-465B17.5               515  \nENSGR0000281849.1        antisense  RP13-465B17.4               484  \n\n[60483 rows x 12 columns]",
      "text/html": "<div>\n<style scoped>\n    .dataframe tbody tr th:only-of-type {\n        vertical-align: middle;\n    }\n\n    .dataframe tbody tr th {\n        vertical-align: top;\n    }\n\n    .dataframe thead th {\n        text-align: right;\n    }\n</style>\n<table border=\"1\" class=\"dataframe\">\n  <thead>\n    <tr style=\"text-align: right;\">\n      <th></th>\n      <th>seqname</th>\n      <th>1</th>\n      <th>2</th>\n      <th>start</th>\n      <th>end</th>\n      <th>5</th>\n      <th>strand</th>\n      <th>7</th>\n      <th>8</th>\n      <th>type</th>\n      <th>name</th>\n      <th>aggregate_length</th>\n    </tr>\n    <tr>\n      <th>id</th>\n      <th></th>\n      <th></th>\n      <th></th>\n      <th></th>\n      <th></th>\n      <th></th>\n      <th></th>\n      <th></th>\n      <th></th>\n      <th></th>\n      <th></th>\n      <th></th>\n    </tr>\n  </thead>\n  <tbody>\n    <tr>\n      <th>ENSG00000000003.13</th>\n      <td>chrX</td>\n      <td>HAVANA</td>\n      <td>gene</td>\n      <td>100627109</td>\n      <td>100639991</td>\n      <td>.</td>\n      <td>-</td>\n      <td>.</td>\n      <td>gene_id \"ENSG00000000003.13\"; gene_type \"prote...</td>\n      <td>protein_coding</td>\n      <td>TSPAN6</td>\n      <td>4535</td>\n    </tr>\n    <tr>\n      <th>ENSG00000000005.5</th>\n      <td>chrX</td>\n      <td>HAVANA</td>\n      <td>gene</td>\n      <td>100584802</td>\n      <td>100599885</td>\n      <td>.</td>\n      <td>+</td>\n      <td>.</td>\n      <td>gene_id \"ENSG00000000005.5\"; gene_type \"protei...</td>\n      <td>protein_coding</td>\n      <td>TNMD</td>\n      <td>1610</td>\n    </tr>\n    <tr>\n      <th>ENSG00000000419.11</th>\n      <td>chr20</td>\n      <td>HAVANA</td>\n      <td>gene</td>\n      <td>50934867</td>\n      <td>50958555</td>\n      <td>.</td>\n      <td>-</td>\n      <td>.</td>\n      <td>gene_id \"ENSG00000000419.11\"; gene_type \"prote...</td>\n      <td>protein_coding</td>\n      <td>DPM1</td>\n      <td>1207</td>\n    </tr>\n    <tr>\n      <th>ENSG00000000457.12</th>\n      <td>chr1</td>\n      <td>HAVANA</td>\n      <td>gene</td>\n      <td>169849631</td>\n      <td>169894267</td>\n      <td>.</td>\n      <td>-</td>\n      <td>.</td>\n      <td>gene_id \"ENSG00000000457.12\"; gene_type \"prote...</td>\n      <td>protein_coding</td>\n      <td>SCYL3</td>\n      <td>6883</td>\n    </tr>\n    <tr>\n      <th>ENSG00000000460.15</th>\n      <td>chr1</td>\n      <td>HAVANA</td>\n      <td>gene</td>\n      <td>169662007</td>\n      <td>169854080</td>\n      <td>.</td>\n      <td>+</td>\n      <td>.</td>\n      <td>gene_id \"ENSG00000000460.15\"; gene_type \"prote...</td>\n      <td>protein_coding</td>\n      <td>C1orf112</td>\n      <td>5967</td>\n    </tr>\n    <tr>\n      <th>...</th>\n      <td>...</td>\n      <td>...</td>\n      <td>...</td>\n      <td>...</td>\n      <td>...</td>\n      <td>...</td>\n      <td>...</td>\n      <td>...</td>\n      <td>...</td>\n      <td>...</td>\n      <td>...</td>\n      <td>...</td>\n    </tr>\n    <tr>\n      <th>ENSGR0000275287.3</th>\n      <td>chrY</td>\n      <td>ENSEMBL</td>\n      <td>gene</td>\n      <td>388100</td>\n      <td>388389</td>\n      <td>.</td>\n      <td>-</td>\n      <td>.</td>\n      <td>gene_id \"ENSGR0000275287.3\"; gene_type \"misc_R...</td>\n      <td>misc_RNA</td>\n      <td>Metazoa_SRP</td>\n      <td>290</td>\n    </tr>\n    <tr>\n      <th>ENSGR0000276543.3</th>\n      <td>chrY</td>\n      <td>ENSEMBL</td>\n      <td>gene</td>\n      <td>57209151</td>\n      <td>57209218</td>\n      <td>.</td>\n      <td>+</td>\n      <td>.</td>\n      <td>gene_id \"ENSGR0000276543.3\"; gene_type \"miRNA\"...</td>\n      <td>miRNA</td>\n      <td>AJ271736.1</td>\n      <td>68</td>\n    </tr>\n    <tr>\n      <th>ENSGR0000277120.3</th>\n      <td>chrY</td>\n      <td>ENSEMBL</td>\n      <td>gene</td>\n      <td>2609191</td>\n      <td>2609254</td>\n      <td>.</td>\n      <td>+</td>\n      <td>.</td>\n      <td>gene_id \"ENSGR0000277120.3\"; gene_type \"miRNA\"...</td>\n      <td>miRNA</td>\n      <td>MIR6089</td>\n      <td>64</td>\n    </tr>\n    <tr>\n      <th>ENSGR0000280767.1</th>\n      <td>chrY</td>\n      <td>HAVANA</td>\n      <td>gene</td>\n      <td>419157</td>\n      <td>421980</td>\n      <td>.</td>\n      <td>+</td>\n      <td>.</td>\n      <td>gene_id \"ENSGR0000280767.1\"; gene_type \"lincRN...</td>\n      <td>lincRNA</td>\n      <td>RP13-465B17.5</td>\n      <td>515</td>\n    </tr>\n    <tr>\n      <th>ENSGR0000281849.1</th>\n      <td>chrY</td>\n      <td>HAVANA</td>\n      <td>gene</td>\n      <td>386980</td>\n      <td>405579</td>\n      <td>.</td>\n      <td>+</td>\n      <td>.</td>\n      <td>gene_id \"ENSGR0000281849.1\"; gene_type \"antise...</td>\n      <td>antisense</td>\n      <td>RP13-465B17.4</td>\n      <td>484</td>\n    </tr>\n  </tbody>\n</table>\n<p>60483 rows × 12 columns</p>\n</div>"
     },
     "metadata": {},
     "execution_count": 10
    }
   ],
   "source": [
    "df_gencode_genes"
   ]
  },
  {
   "cell_type": "code",
   "execution_count": 11,
   "metadata": {},
   "outputs": [
    {
     "output_type": "execute_result",
     "data": {
      "text/plain": "                             name seqname      start        end strand  \\\nid                                                                       \nENSG00000000003.13         TSPAN6    chrX  100627109  100639991      -   \nENSG00000000005.5            TNMD    chrX  100584802  100599885      +   \nENSG00000000419.11           DPM1   chr20   50934867   50958555      -   \nENSG00000000457.12          SCYL3    chr1  169849631  169894267      -   \nENSG00000000460.15       C1orf112    chr1  169662007  169854080      +   \n...                           ...     ...        ...        ...    ...   \nENSGR0000275287.3     Metazoa_SRP    chrY     388100     388389      -   \nENSGR0000276543.3      AJ271736.1    chrY   57209151   57209218      +   \nENSGR0000277120.3         MIR6089    chrY    2609191    2609254      +   \nENSGR0000280767.1   RP13-465B17.5    chrY     419157     421980      +   \nENSGR0000281849.1   RP13-465B17.4    chrY     386980     405579      +   \n\n                              type gene_status           havana_gene  \\\nid                                                                     \nENSG00000000003.13  protein_coding       KNOWN  OTTHUMG00000022002.1   \nENSG00000000005.5   protein_coding       KNOWN  OTTHUMG00000022001.1   \nENSG00000000419.11  protein_coding       KNOWN  OTTHUMG00000032742.2   \nENSG00000000457.12  protein_coding       KNOWN  OTTHUMG00000035941.4   \nENSG00000000460.15  protein_coding       KNOWN  OTTHUMG00000035821.7   \n...                            ...         ...                   ...   \nENSGR0000275287.3         misc_RNA       NOVEL                   NaN   \nENSGR0000276543.3            miRNA       NOVEL                   NaN   \nENSGR0000277120.3            miRNA       KNOWN                   NaN   \nENSGR0000280767.1          lincRNA       NOVEL  OTTHUMG00000189993.1   \nENSGR0000281849.1        antisense       NOVEL  OTTHUMG00000189992.1   \n\n                    full_length  exon_length  exon_num  \nid                                                      \nENSG00000000003.13        12883         4535        34  \nENSG00000000005.5         15084         1610        10  \nENSG00000000419.11        23689         1207        53  \nENSG00000000457.12        44637         6883        63  \nENSG00000000460.15       192074         5967       151  \n...                         ...          ...       ...  \nENSGR0000275287.3           290          290         1  \nENSGR0000276543.3            68           68         1  \nENSGR0000277120.3            64           64         1  \nENSGR0000280767.1          2824          515         2  \nENSGR0000281849.1         18600          484         2  \n\n[60483 rows x 11 columns]",
      "text/html": "<div>\n<style scoped>\n    .dataframe tbody tr th:only-of-type {\n        vertical-align: middle;\n    }\n\n    .dataframe tbody tr th {\n        vertical-align: top;\n    }\n\n    .dataframe thead th {\n        text-align: right;\n    }\n</style>\n<table border=\"1\" class=\"dataframe\">\n  <thead>\n    <tr style=\"text-align: right;\">\n      <th></th>\n      <th>name</th>\n      <th>seqname</th>\n      <th>start</th>\n      <th>end</th>\n      <th>strand</th>\n      <th>type</th>\n      <th>gene_status</th>\n      <th>havana_gene</th>\n      <th>full_length</th>\n      <th>exon_length</th>\n      <th>exon_num</th>\n    </tr>\n    <tr>\n      <th>id</th>\n      <th></th>\n      <th></th>\n      <th></th>\n      <th></th>\n      <th></th>\n      <th></th>\n      <th></th>\n      <th></th>\n      <th></th>\n      <th></th>\n      <th></th>\n    </tr>\n  </thead>\n  <tbody>\n    <tr>\n      <th>ENSG00000000003.13</th>\n      <td>TSPAN6</td>\n      <td>chrX</td>\n      <td>100627109</td>\n      <td>100639991</td>\n      <td>-</td>\n      <td>protein_coding</td>\n      <td>KNOWN</td>\n      <td>OTTHUMG00000022002.1</td>\n      <td>12883</td>\n      <td>4535</td>\n      <td>34</td>\n    </tr>\n    <tr>\n      <th>ENSG00000000005.5</th>\n      <td>TNMD</td>\n      <td>chrX</td>\n      <td>100584802</td>\n      <td>100599885</td>\n      <td>+</td>\n      <td>protein_coding</td>\n      <td>KNOWN</td>\n      <td>OTTHUMG00000022001.1</td>\n      <td>15084</td>\n      <td>1610</td>\n      <td>10</td>\n    </tr>\n    <tr>\n      <th>ENSG00000000419.11</th>\n      <td>DPM1</td>\n      <td>chr20</td>\n      <td>50934867</td>\n      <td>50958555</td>\n      <td>-</td>\n      <td>protein_coding</td>\n      <td>KNOWN</td>\n      <td>OTTHUMG00000032742.2</td>\n      <td>23689</td>\n      <td>1207</td>\n      <td>53</td>\n    </tr>\n    <tr>\n      <th>ENSG00000000457.12</th>\n      <td>SCYL3</td>\n      <td>chr1</td>\n      <td>169849631</td>\n      <td>169894267</td>\n      <td>-</td>\n      <td>protein_coding</td>\n      <td>KNOWN</td>\n      <td>OTTHUMG00000035941.4</td>\n      <td>44637</td>\n      <td>6883</td>\n      <td>63</td>\n    </tr>\n    <tr>\n      <th>ENSG00000000460.15</th>\n      <td>C1orf112</td>\n      <td>chr1</td>\n      <td>169662007</td>\n      <td>169854080</td>\n      <td>+</td>\n      <td>protein_coding</td>\n      <td>KNOWN</td>\n      <td>OTTHUMG00000035821.7</td>\n      <td>192074</td>\n      <td>5967</td>\n      <td>151</td>\n    </tr>\n    <tr>\n      <th>...</th>\n      <td>...</td>\n      <td>...</td>\n      <td>...</td>\n      <td>...</td>\n      <td>...</td>\n      <td>...</td>\n      <td>...</td>\n      <td>...</td>\n      <td>...</td>\n      <td>...</td>\n      <td>...</td>\n    </tr>\n    <tr>\n      <th>ENSGR0000275287.3</th>\n      <td>Metazoa_SRP</td>\n      <td>chrY</td>\n      <td>388100</td>\n      <td>388389</td>\n      <td>-</td>\n      <td>misc_RNA</td>\n      <td>NOVEL</td>\n      <td>NaN</td>\n      <td>290</td>\n      <td>290</td>\n      <td>1</td>\n    </tr>\n    <tr>\n      <th>ENSGR0000276543.3</th>\n      <td>AJ271736.1</td>\n      <td>chrY</td>\n      <td>57209151</td>\n      <td>57209218</td>\n      <td>+</td>\n      <td>miRNA</td>\n      <td>NOVEL</td>\n      <td>NaN</td>\n      <td>68</td>\n      <td>68</td>\n      <td>1</td>\n    </tr>\n    <tr>\n      <th>ENSGR0000277120.3</th>\n      <td>MIR6089</td>\n      <td>chrY</td>\n      <td>2609191</td>\n      <td>2609254</td>\n      <td>+</td>\n      <td>miRNA</td>\n      <td>KNOWN</td>\n      <td>NaN</td>\n      <td>64</td>\n      <td>64</td>\n      <td>1</td>\n    </tr>\n    <tr>\n      <th>ENSGR0000280767.1</th>\n      <td>RP13-465B17.5</td>\n      <td>chrY</td>\n      <td>419157</td>\n      <td>421980</td>\n      <td>+</td>\n      <td>lincRNA</td>\n      <td>NOVEL</td>\n      <td>OTTHUMG00000189993.1</td>\n      <td>2824</td>\n      <td>515</td>\n      <td>2</td>\n    </tr>\n    <tr>\n      <th>ENSGR0000281849.1</th>\n      <td>RP13-465B17.4</td>\n      <td>chrY</td>\n      <td>386980</td>\n      <td>405579</td>\n      <td>+</td>\n      <td>antisense</td>\n      <td>NOVEL</td>\n      <td>OTTHUMG00000189992.1</td>\n      <td>18600</td>\n      <td>484</td>\n      <td>2</td>\n    </tr>\n  </tbody>\n</table>\n<p>60483 rows × 11 columns</p>\n</div>"
     },
     "metadata": {},
     "execution_count": 11
    }
   ],
   "source": [
    "df_gdc"
   ]
  },
  {
   "cell_type": "code",
   "execution_count": null,
   "metadata": {},
   "outputs": [],
   "source": []
  }
 ],
 "metadata": {
  "language_info": {
   "codemirror_mode": {
    "name": "ipython",
    "version": 3
   },
   "file_extension": ".py",
   "mimetype": "text/x-python",
   "name": "python",
   "nbconvert_exporter": "python",
   "pygments_lexer": "ipython3",
   "version": "3.6.10-final"
  },
  "orig_nbformat": 2,
  "kernelspec": {
   "name": "python361064bitbioinfoconda52065af5c2fa481f9826820ca4acba48",
   "display_name": "Python 3.6.10 64-bit ('bioinfo': conda)"
  }
 },
 "nbformat": 4,
 "nbformat_minor": 2
}