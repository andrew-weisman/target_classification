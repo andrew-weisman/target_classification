{
 "cells": [
  {
   "cell_type": "markdown",
   "metadata": {},
   "source": [
    "# Test Python functionality"
   ]
  },
  {
   "cell_type": "code",
   "execution_count": 1,
   "metadata": {},
   "outputs": [
    {
     "output_type": "stream",
     "name": "stdout",
     "text": "hey 15\nposix.uname_result(sysname='Linux', nodename='cn3121', release='3.10.0-862.14.4.el7.x86_64', version='#1 SMP Wed Sep 26 15:12:11 UTC 2018', machine='x86_64')\n"
    }
   ],
   "source": [
    "print('hey', 9+6)\n",
    "import os\n",
    "print(os.uname())"
   ]
  },
  {
   "cell_type": "markdown",
   "metadata": {},
   "source": [
    "# Main workflow"
   ]
  },
  {
   "cell_type": "markdown",
   "metadata": {},
   "source": [
    "## (1) Set the project directory and load the main Python library"
   ]
  },
  {
   "cell_type": "code",
   "execution_count": 1,
   "metadata": {},
   "outputs": [],
   "source": [
    "project_dir = '/data/BIDS-HPC/private/projects/dmi'\n",
    "import os, sys\n",
    "checkout_dir = os.path.join(project_dir, 'checkout')\n",
    "if checkout_dir not in sys.path:\n",
    "    sys.path.append(checkout_dir)\n",
    "import target_class_lib as tc"
   ]
  },
  {
   "cell_type": "markdown",
   "metadata": {},
   "source": [
    "## (2) Generate or read in the initial lookup lists that can be calculated by querying the Ensembl REST API"
   ]
  },
  {
   "cell_type": "code",
   "execution_count": 20,
   "metadata": {},
   "outputs": [
    {
     "output_type": "stream",
     "name": "stdout",
     "text": "Reading pickle file /data/BIDS-HPC/private/projects/dmi/data/initial_lookup_lists.pkl...\n"
    }
   ],
   "source": [
    "symbol_lookup_list, id_lookup_list = tc.get_initial_lookup_lists(project_dir)"
   ]
  },
  {
   "cell_type": "markdown",
   "metadata": {},
   "source": [
    "## (3) Go through symbol_lookup_list, split into chunks all the names that don't have Ensembl IDs, and try to determine them if the pickle file corresponding to each chunk doesn't yet exist"
   ]
  },
  {
   "cell_type": "code",
   "execution_count": 47,
   "metadata": {},
   "outputs": [
    {
     "output_type": "stream",
     "name": "stdout",
     "text": "Reading pickle file /data/BIDS-HPC/private/projects/dmi/data/missing_lookup_lists/missing_lookup_list_000.pkl...\nReading pickle file /data/BIDS-HPC/private/projects/dmi/data/missing_lookup_lists/missing_lookup_list_001.pkl...\nReading pickle file /data/BIDS-HPC/private/projects/dmi/data/missing_lookup_lists/missing_lookup_list_002.pkl...\nReading pickle file /data/BIDS-HPC/private/projects/dmi/data/missing_lookup_lists/missing_lookup_list_003.pkl...\nReading pickle file /data/BIDS-HPC/private/projects/dmi/data/missing_lookup_lists/missing_lookup_list_004.pkl...\nReading pickle file /data/BIDS-HPC/private/projects/dmi/data/missing_lookup_lists/missing_lookup_list_005.pkl...\nReading pickle file /data/BIDS-HPC/private/projects/dmi/data/missing_lookup_lists/missing_lookup_list_006.pkl...\nReading pickle file /data/BIDS-HPC/private/projects/dmi/data/missing_lookup_lists/missing_lookup_list_007.pkl...\nReading pickle file /data/BIDS-HPC/private/projects/dmi/data/missing_lookup_lists/missing_lookup_list_008.pkl...\nReading pickle file /data/BIDS-HPC/private/projects/dmi/data/missing_lookup_lists/missing_lookup_list_009.pkl...\nReading pickle file /data/BIDS-HPC/private/projects/dmi/data/missing_lookup_lists/missing_lookup_list_010.pkl...\nReading pickle file /data/BIDS-HPC/private/projects/dmi/data/missing_lookup_lists/missing_lookup_list_011.pkl...\nReading pickle file /data/BIDS-HPC/private/projects/dmi/data/missing_lookup_lists/missing_lookup_list_012.pkl...\nReading pickle file /data/BIDS-HPC/private/projects/dmi/data/missing_lookup_lists/missing_lookup_list_013.pkl...\nReading pickle file /data/BIDS-HPC/private/projects/dmi/data/missing_lookup_lists/missing_lookup_list_014.pkl...\nReading pickle file /data/BIDS-HPC/private/projects/dmi/data/missing_lookup_lists/missing_lookup_list_015.pkl...\nReading pickle file /data/BIDS-HPC/private/projects/dmi/data/missing_lookup_lists/missing_lookup_list_016.pkl...\nReading pickle file /data/BIDS-HPC/private/projects/dmi/data/missing_lookup_lists/missing_lookup_list_017.pkl...\nReading pickle file /data/BIDS-HPC/private/projects/dmi/data/missing_lookup_lists/missing_lookup_list_018.pkl...\nReading pickle file /data/BIDS-HPC/private/projects/dmi/data/missing_lookup_lists/missing_lookup_list_019.pkl...\nReading pickle file /data/BIDS-HPC/private/projects/dmi/data/missing_lookup_lists/missing_lookup_list_020.pkl...\nReading pickle file /data/BIDS-HPC/private/projects/dmi/data/missing_lookup_lists/missing_lookup_list_021.pkl...\nReading pickle file /data/BIDS-HPC/private/projects/dmi/data/missing_lookup_lists/missing_lookup_list_022.pkl...\nReading pickle file /data/BIDS-HPC/private/projects/dmi/data/missing_lookup_lists/missing_lookup_list_023.pkl...\nReading pickle file /data/BIDS-HPC/private/projects/dmi/data/missing_lookup_lists/missing_lookup_list_024.pkl...\n"
    }
   ],
   "source": [
    "# Takes about 20 hours if the pickle files don't already exist\n",
    "missing_lookup_chunks = tc.get_missing_lookups_in_chunks(symbol_lookup_list, project_dir, chunk_size=1000, pickle_dir_single='missing_lookup_lists')"
   ]
  },
  {
   "cell_type": "markdown",
   "metadata": {},
   "source": [
    "## (4) From the two initial lookup lists and the set of chunks of \"missing\" lookups, create the full lookup table as a Pandas dataframe"
   ]
  },
  {
   "cell_type": "code",
   "execution_count": 48,
   "metadata": {},
   "outputs": [
    {
     "output_type": "stream",
     "name": "stdout",
     "text": "Out of 128610 entries in the initial lookup table, 40233 are null\n2514 entries have been added to the lookup table, so now 37719 are null\n"
    }
   ],
   "source": [
    "# Should be 37,719 null in the 128,610 total\n",
    "data_lookup = tc.get_data_lookup_table(id_lookup_list, symbol_lookup_list, missing_lookup_chunks)"
   ]
  },
  {
   "cell_type": "markdown",
   "metadata": {},
   "source": [
    "## (5) Create a lookup table using the output from the Biomart website"
   ]
  },
  {
   "cell_type": "code",
   "execution_count": 6,
   "metadata": {},
   "outputs": [],
   "source": [
    "# Should be 77,912 of these\n",
    "hgnc_lookup = tc.get_hgnc_lookup_table(project_dir)"
   ]
  },
  {
   "cell_type": "markdown",
   "metadata": {},
   "source": [
    "## (6) Incorporate some additional synonyms into the data lookup table using the HGNC database"
   ]
  },
  {
   "cell_type": "code",
   "execution_count": 7,
   "metadata": {},
   "outputs": [
    {
     "output_type": "stream",
     "name": "stdout",
     "text": "There are 79 names in the data lookup table lacking Ensembl IDs that DO have Ensembl IDs in the HGNC lookup table\nHowever, not all of the corresponding Ensembl IDs in the HGNC lookup table are necessarily in the Ensembl database; that's what we're about to find out\n{'ENSG00000186354', 'ENSG00000198384', 'ENSG00000234449', 'PWAR6', 'MT1IP', 'ATP8A2P1', 'ENSG00000266960', 'ENSG00000260760', 'BRD7P3', 'ENSG00000204365', 'ENSG00000233864', 'ENSG00000224813', 'ENSG00000256927', 'TTTY16', 'LINC00904', 'ENSG00000212290', 'ENSG00000240800', 'PGBD3', 'TOP1P1', 'ENSG00000254671', 'ENSG00000256304', 'ENSG00000241670', 'CBX3P2', 'ENSG00000273585', 'ENSG00000236850', 'ENSG00000233265', 'SIK3-IT1', 'ENSG00000223111', 'OR4A14P', 'ENSG00000248686', 'ENSG00000220548', 'MRS2P2', 'ENSG00000236269', 'NPPA-AS1', 'CDR1', 'ENSG00000254962', 'ENSG00000205850', 'ENSG00000221972', 'ENSG00000243251', 'ENSG00000223929', 'ENSG00000265592', 'ENSG00000279355', 'TPTE2P3', 'SKP1P2', 'ENSG00000251317', 'ENSG00000270024', 'ENSG00000231865', 'ENSG00000069712', 'COX7BP1', 'ENO1-IT1', 'ENSG00000283073', 'ENSG00000269721', 'ENSG00000257151', 'ENSG00000265119', 'ENSG00000250003', 'ENSG00000213865', 'ENSG00000223119', 'ENSG00000205663', 'ENSG00000253264', 'TTTY15', 'ENSG00000235719', 'ENSG00000205662', 'ENSG00000242349', 'AGPAT4-IT1', 'ENSG00000184258', 'BMS1P20', 'ENSG00000270898', 'ID2B', 'OR1R1P', 'ENSG00000133808', 'ENSG00000254462', 'MICF', 'ENSG00000243453', 'LAMB2P1', 'ENSG00000256763', 'RNA5SP424', 'YWHAQP8', 'ENSG00000225520', 'C10ORF126'}\n[1] Given 28 names, we identified 11 of them\nname\nSKP1P2       None\nBRD7P3       None\nTOP1P1       None\nLINC00904    None\nOR1R1P       None\nMT1IP        None\nMRS2P2       None\nYWHAQP8      None\nCBX3P2       None\nLAMB2P1      None\nID2B         None\nName: id, dtype: object\nname\nSKP1P2       ENSG00000256211\nBRD7P3       ENSG00000169075\nTOP1P1       ENSG00000285665\nLINC00904    ENSG00000271171\nOR1R1P       ENSG00000180042\nMT1IP        ENSG00000275691\nMRS2P2       ENSG00000257802\nYWHAQP8      ENSG00000231643\nCBX3P2       ENSG00000266405\nLAMB2P1      ENSG00000270441\nID2B         ENSG00000237456\nName: id, dtype: object\nWe added 11 lookups to the data lookup table using the HGNC lookup table; now the number of null entries in the data lookup table is 37708\nNote: There are 3 (out of 38956) duplicate Ensembl IDs in the HGNC database:\nname\nENSG00000230417    ENSG00000230417\nENSG00000255374    ENSG00000255374\nENSG00000230426    ENSG00000230426\nName: id, dtype: object\n"
    }
   ],
   "source": [
    "data_lookup = tc.incorporate_hgnc_lookups(data_lookup, hgnc_lookup)"
   ]
  },
  {
   "cell_type": "markdown",
   "metadata": {},
   "source": [
    "# Supplementary lookup method and exploration"
   ]
  },
  {
   "cell_type": "code",
   "execution_count": 2,
   "metadata": {},
   "outputs": [],
   "source": [
    "# Import relevant module\n",
    "import pandas as pd\n",
    "\n",
    "# Create an empty dataframe to hold the lookup data\n",
    "lookup = pd.DataFrame(columns=['id', 'id_version', 'biotype', 'tsv_file'])\n",
    "\n",
    "# Potential ways (using add_tsv_file_to_lookup()) to add to the lookup table using the GTF (and, for the xref files, TSV) files from the Ensembl FTP site after processing them in Bash to better-formatted TSV files\n",
    "\n",
    "# These TSV files were generated using the make_tsv_files_for_lookup_table() function in the .sh library\n",
    "# lookup = tc.add_tsv_file_to_lookup(lookup, '/data/BIDS-HPC/private/projects/dmi/data/processed_files_for_lookup/main_38.tsv')\n",
    "# lookup = tc.add_tsv_file_to_lookup(lookup, '/data/BIDS-HPC/private/projects/dmi/data/processed_files_for_lookup/xref_38-entrez.tsv')\n",
    "# lookup = tc.add_tsv_file_to_lookup(lookup, '/data/BIDS-HPC/private/projects/dmi/data/processed_files_for_lookup/xref_38-refseq.tsv')\n",
    "# lookup = tc.add_tsv_file_to_lookup(lookup, '/data/BIDS-HPC/private/projects/dmi/data/processed_files_for_lookup/xref_38-ena.tsv')\n",
    "# lookup = tc.add_tsv_file_to_lookup(lookup, '/data/BIDS-HPC/private/projects/dmi/data/processed_files_for_lookup/xref_38-uniprot.tsv')\n",
    "# lookup = tc.add_tsv_file_to_lookup(lookup, '/data/BIDS-HPC/private/projects/dmi/data/processed_files_for_lookup/main_37.tsv')\n",
    "# lookup = tc.add_tsv_file_to_lookup(lookup, '/data/BIDS-HPC/private/projects/dmi/data/processed_files_for_lookup/main_38-80.tsv')\n",
    "# lookup = tc.add_tsv_file_to_lookup(lookup, '/data/BIDS-HPC/private/projects/dmi/data/processed_files_for_lookup/xref_37-ena.tsv')\n",
    "# lookup = tc.add_tsv_file_to_lookup(lookup, '/data/BIDS-HPC/private/projects/dmi/data/processed_files_for_lookup/xref_37-uniprot.tsv')\n",
    "\n",
    "# # After downloading the corresponding GTF files en masse using a Bash for loop, these files were generated using the process_all_gtf_files() .sh library function and the code below was generated using the write_python_lines() function\n",
    "# lookup = tc.add_tsv_file_to_lookup(lookup, '/home/weismanal/notebook/2020-06-01/dmi/processed/main_37-82.tsv')\n",
    "# lookup = tc.add_tsv_file_to_lookup(lookup, '/home/weismanal/notebook/2020-06-01/dmi/processed/main_37-85.tsv')\n",
    "# lookup = tc.add_tsv_file_to_lookup(lookup, '/home/weismanal/notebook/2020-06-01/dmi/processed/main_37-87.tsv')\n",
    "# lookup = tc.add_tsv_file_to_lookup(lookup, '/home/weismanal/notebook/2020-06-01/dmi/processed/main_38-100.tsv')\n",
    "# lookup = tc.add_tsv_file_to_lookup(lookup, '/home/weismanal/notebook/2020-06-01/dmi/processed/main_38-76.tsv')\n",
    "# lookup = tc.add_tsv_file_to_lookup(lookup, '/home/weismanal/notebook/2020-06-01/dmi/processed/main_38-77.tsv')\n",
    "# lookup = tc.add_tsv_file_to_lookup(lookup, '/home/weismanal/notebook/2020-06-01/dmi/processed/main_38-78.tsv')\n",
    "# lookup = tc.add_tsv_file_to_lookup(lookup, '/home/weismanal/notebook/2020-06-01/dmi/processed/main_38-79.tsv')\n",
    "# lookup = tc.add_tsv_file_to_lookup(lookup, '/home/weismanal/notebook/2020-06-01/dmi/processed/main_38-80.tsv')\n",
    "# lookup = tc.add_tsv_file_to_lookup(lookup, '/home/weismanal/notebook/2020-06-01/dmi/processed/main_38-81.tsv')\n",
    "# lookup = tc.add_tsv_file_to_lookup(lookup, '/home/weismanal/notebook/2020-06-01/dmi/processed/main_38-82.tsv')\n",
    "# lookup = tc.add_tsv_file_to_lookup(lookup, '/home/weismanal/notebook/2020-06-01/dmi/processed/main_38-83.tsv')\n",
    "# lookup = tc.add_tsv_file_to_lookup(lookup, '/home/weismanal/notebook/2020-06-01/dmi/processed/main_38-84.tsv')\n",
    "# lookup = tc.add_tsv_file_to_lookup(lookup, '/home/weismanal/notebook/2020-06-01/dmi/processed/main_38-85.tsv')\n",
    "# lookup = tc.add_tsv_file_to_lookup(lookup, '/home/weismanal/notebook/2020-06-01/dmi/processed/main_38-86.tsv')\n",
    "# lookup = tc.add_tsv_file_to_lookup(lookup, '/home/weismanal/notebook/2020-06-01/dmi/processed/main_38-87.tsv')\n",
    "# lookup = tc.add_tsv_file_to_lookup(lookup, '/home/weismanal/notebook/2020-06-01/dmi/processed/main_38-88.tsv')\n",
    "# lookup = tc.add_tsv_file_to_lookup(lookup, '/home/weismanal/notebook/2020-06-01/dmi/processed/main_38-89.tsv')\n",
    "# lookup = tc.add_tsv_file_to_lookup(lookup, '/home/weismanal/notebook/2020-06-01/dmi/processed/main_38-90.tsv')\n",
    "# lookup = tc.add_tsv_file_to_lookup(lookup, '/home/weismanal/notebook/2020-06-01/dmi/processed/main_38-91.tsv')\n",
    "# lookup = tc.add_tsv_file_to_lookup(lookup, '/home/weismanal/notebook/2020-06-01/dmi/processed/main_38-92.tsv')\n",
    "# lookup = tc.add_tsv_file_to_lookup(lookup, '/home/weismanal/notebook/2020-06-01/dmi/processed/main_38-93.tsv')\n",
    "# lookup = tc.add_tsv_file_to_lookup(lookup, '/home/weismanal/notebook/2020-06-01/dmi/processed/main_38-94.tsv')\n",
    "# lookup = tc.add_tsv_file_to_lookup(lookup, '/home/weismanal/notebook/2020-06-01/dmi/processed/main_38-95.tsv')\n",
    "# lookup = tc.add_tsv_file_to_lookup(lookup, '/home/weismanal/notebook/2020-06-01/dmi/processed/main_38-96.tsv')\n",
    "# lookup = tc.add_tsv_file_to_lookup(lookup, '/home/weismanal/notebook/2020-06-01/dmi/processed/main_38-97.tsv')\n",
    "# lookup = tc.add_tsv_file_to_lookup(lookup, '/home/weismanal/notebook/2020-06-01/dmi/processed/main_38-98.tsv')\n",
    "# lookup = tc.add_tsv_file_to_lookup(lookup, '/home/weismanal/notebook/2020-06-01/dmi/processed/main_38-99.tsv')\n",
    "\n",
    "# Read in the list of unique gene names generated using Bash from the 2261 datafiles (this should result in a set of size 128,612)\n",
    "unique_gene_names = pd.read_csv('/data/BIDS-HPC/private/projects/dmi/data/unique_best_gene_names.txt', names=['name'])\n",
    "\n",
    "# Identify whatever unique_gene_names that we can using the lookup table (look at the size of remainder to see how many names we still need to identify)\n",
    "remainder = set(unique_gene_names['name']) - set(lookup.index)\n",
    "\n",
    "# Now comparing the two lookup methods a bit\n",
    "\n",
    "# This says that I'm starting with the same 128,610 unknowns\n",
    "set([x[0] for x in symbol_lookup_list]+[x[0] for x in id_lookup_list]) == set(unique_gene_names['name'])\n",
    "\n",
    "# Now asking: Which ones are identified?\n",
    "# Note this does not include the names identified using xref or the HGNC lookup table\n",
    "identified_before = []\n",
    "for x in symbol_lookup_list+id_lookup_list:\n",
    "    if x[1] is not None:\n",
    "        identified_before.append(x[0])\n",
    "identified_before = set(identified_before)\n",
    "\n",
    "# known = set(['a','b','c','d','e'])\n",
    "# test = set(['b','f','d','g'])\n",
    "known = set(lookup.index)\n",
    "test = set(unique_gene_names['name'])\n",
    "len(known) - len(known-test) # this many are known\n",
    "identified_after = known - (known-test) # these ones of the test set are known\n",
    "# This code just confirms the way we just calculated identified_after above\n",
    "# identified_after = []\n",
    "# for item in test:\n",
    "#     if item in known:\n",
    "#         identified_after.append(item)\n",
    "\n",
    "# See which ones were identified using the old method but not the new one\n",
    "identified_before - identified_after\n",
    "\n",
    "# test2 is the set of all identified names using the old method, depending on how many Main cells were actually run, less the set of the identified names using the old method excluding the xref or HGNC lookup steps\n",
    "# Basically, test2 tells us what other names were identified after the initial POST methods were run using the REST API\n",
    "test2 = set(data_lookup['id'][data_lookup['id'].notnull()].index) - identified_before # if these are all already identified by the new lookup method, then I can trust that xref is practically just looking at old gene names, not other DBs\n",
    "\n",
    "# known gives us the set of names identified using the new method (using the lookup variable)\n",
    "known = set(lookup.index)\n",
    "\n",
    "# This tells us how many of the names in test2 we can identify using the new lookup table lookup\n",
    "len(known) - len(known-test2) # this many are known... well it's 1819 not 2514, so xref is doing more than just looking at old gene names probably, unless I don't have all old names in my dataset still, i.e., PIs are using still older gene names"
   ]
  },
  {
   "cell_type": "markdown",
   "metadata": {},
   "source": [
    "# Scratch"
   ]
  },
  {
   "cell_type": "code",
   "execution_count": 32,
   "metadata": {
    "tags": [
     "outputPrepend",
     "outputPrepend",
     "outputPrepend",
     "outputPrepend",
     "outputPrepend",
     "outputPrepend",
     "outputPrepend",
     "outputPrepend",
     "outputPrepend",
     "outputPrepend",
     "outputPrepend",
     "outputPrepend",
     "outputPrepend",
     "outputPrepend",
     "outputPrepend",
     "outputPrepend",
     "outputPrepend",
     "outputPrepend",
     "outputPrepend",
     "outputPrepend",
     "outputPrepend",
     "outputPrepend",
     "outputPrepend",
     "outputPrepend",
     "outputPrepend",
     "outputPrepend",
     "outputPrepend",
     "outputPrepend",
     "outputPrepend",
     "outputPrepend",
     "outputPrepend",
     "outputPrepend",
     "outputPrepend",
     "outputPrepend",
     "outputPrepend",
     "outputPrepend",
     "outputPrepend",
     "outputPrepend",
     "outputPrepend",
     "outputPrepend",
     "outputPrepend",
     "outputPrepend",
     "outputPrepend",
     "outputPrepend",
     "outputPrepend",
     "outputPrepend",
     "outputPrepend",
     "outputPrepend",
     "outputPrepend",
     "outputPrepend",
     "outputPrepend",
     "outputPrepend",
     "outputPrepend",
     "outputPrepend",
     "outputPrepend",
     "outputPrepend",
     "outputPrepend",
     "outputPrepend",
     "outputPrepend",
     "outputPrepend",
     "outputPrepend",
     "outputPrepend",
     "outputPrepend",
     "outputPrepend",
     "outputPrepend",
     "outputPrepend",
     "outputPrepend",
     "outputPrepend",
     "outputPrepend",
     "outputPrepend",
     "outputPrepend",
     "outputPrepend",
     "outputPrepend",
     "outputPrepend",
     "outputPrepend",
     "outputPrepend",
     "outputPrepend",
     "outputPrepend",
     "outputPrepend",
     "outputPrepend",
     "outputPrepend",
     "outputPrepend",
     "outputPrepend",
     "outputPrepend",
     "outputPrepend",
     "outputPrepend",
     "outputPrepend",
     "outputPrepend",
     "outputPrepend",
     "outputPrepend",
     "outputPrepend",
     "outputPrepend",
     "outputPrepend",
     "outputPrepend",
     "outputPrepend",
     "outputPrepend",
     "outputPrepend",
     "outputPrepend",
     "outputPrepend",
     "outputPrepend",
     "outputPrepend",
     "outputPrepend",
     "outputPrepend",
     "outputPrepend",
     "outputPrepend",
     "outputPrepend",
     "outputPrepend",
     "outputPrepend",
     "outputPrepend",
     "outputPrepend",
     "outputPrepend",
     "outputPrepend",
     "outputPrepend",
     "outputPrepend",
     "outputPrepend",
     "outputPrepend",
     "outputPrepend",
     "outputPrepend",
     "outputPrepend",
     "outputPrepend",
     "outputPrepend",
     "outputPrepend",
     "outputPrepend",
     "outputPrepend",
     "outputPrepend",
     "outputPrepend",
     "outputPrepend",
     "outputPrepend",
     "outputPrepend",
     "outputPrepend",
     "outputPrepend",
     "outputPrepend",
     "outputPrepend",
     "outputPrepend",
     "outputPrepend",
     "outputPrepend",
     "outputPrepend",
     "outputPrepend",
     "outputPrepend",
     "outputPrepend",
     "outputPrepend",
     "outputPrepend",
     "outputPrepend",
     "outputPrepend",
     "outputPrepend",
     "outputPrepend",
     "outputPrepend",
     "outputPrepend",
     "outputPrepend",
     "outputPrepend",
     "outputPrepend",
     "outputPrepend",
     "outputPrepend",
     "outputPrepend",
     "outputPrepend",
     "outputPrepend",
     "outputPrepend",
     "outputPrepend",
     "outputPrepend",
     "outputPrepend",
     "outputPrepend",
     "outputPrepend",
     "outputPrepend",
     "outputPrepend",
     "outputPrepend",
     "outputPrepend",
     "outputPrepend",
     "outputPrepend",
     "outputPrepend",
     "outputPrepend",
     "outputPrepend",
     "outputPrepend",
     "outputPrepend",
     "outputPrepend",
     "outputPrepend",
     "outputPrepend",
     "outputPrepend",
     "outputPrepend",
     "outputPrepend",
     "outputPrepend",
     "outputPrepend",
     "outputPrepend",
     "outputPrepend",
     "outputPrepend",
     "outputPrepend",
     "outputPrepend",
     "outputPrepend",
     "outputPrepend",
     "outputPrepend",
     "outputPrepend",
     "outputPrepend",
     "outputPrepend",
     "outputPrepend",
     "outputPrepend",
     "outputPrepend",
     "outputPrepend",
     "outputPrepend",
     "outputPrepend",
     "outputPrepend",
     "outputPrepend",
     "outputPrepend",
     "outputPrepend",
     "outputPrepend",
     "outputPrepend",
     "outputPrepend",
     "outputPrepend",
     "outputPrepend",
     "outputPrepend",
     "outputPrepend",
     "outputPrepend",
     "outputPrepend",
     "outputPrepend",
     "outputPrepend",
     "outputPrepend",
     "outputPrepend",
     "outputPrepend",
     "outputPrepend",
     "outputPrepend",
     "outputPrepend",
     "outputPrepend",
     "outputPrepend",
     "outputPrepend",
     "outputPrepend",
     "outputPrepend",
     "outputPrepend",
     "outputPrepend",
     "outputPrepend",
     "outputPrepend",
     "outputPrepend",
     "outputPrepend",
     "outputPrepend",
     "outputPrepend",
     "outputPrepend",
     "outputPrepend",
     "outputPrepend",
     "outputPrepend",
     "outputPrepend",
     "outputPrepend",
     "outputPrepend",
     "outputPrepend",
     "outputPrepend",
     "outputPrepend",
     "outputPrepend",
     "outputPrepend",
     "outputPrepend",
     "outputPrepend",
     "outputPrepend",
     "outputPrepend",
     "outputPrepend",
     "outputPrepend",
     "outputPrepend",
     "outputPrepend",
     "outputPrepend",
     "outputPrepend",
     "outputPrepend",
     "outputPrepend",
     "outputPrepend",
     "outputPrepend",
     "outputPrepend",
     "outputPrepend",
     "outputPrepend",
     "outputPrepend",
     "outputPrepend",
     "outputPrepend",
     "outputPrepend",
     "outputPrepend",
     "outputPrepend",
     "outputPrepend",
     "outputPrepend",
     "outputPrepend",
     "outputPrepend",
     "outputPrepend",
     "outputPrepend",
     "outputPrepend",
     "outputPrepend",
     "outputPrepend",
     "outputPrepend",
     "outputPrepend",
     "outputPrepend",
     "outputPrepend",
     "outputPrepend",
     "outputPrepend",
     "outputPrepend",
     "outputPrepend",
     "outputPrepend",
     "outputPrepend",
     "outputPrepend",
     "outputPrepend",
     "outputPrepend",
     "outputPrepend",
     "outputPrepend",
     "outputPrepend",
     "outputPrepend",
     "outputPrepend",
     "outputPrepend",
     "outputPrepend",
     "outputPrepend",
     "outputPrepend",
     "outputPrepend",
     "outputPrepend",
     "outputPrepend",
     "outputPrepend",
     "outputPrepend",
     "outputPrepend",
     "outputPrepend",
     "outputPrepend",
     "outputPrepend",
     "outputPrepend",
     "outputPrepend",
     "outputPrepend",
     "outputPrepend",
     "outputPrepend",
     "outputPrepend",
     "outputPrepend",
     "outputPrepend",
     "outputPrepend",
     "outputPrepend",
     "outputPrepend",
     "outputPrepend",
     "outputPrepend",
     "outputPrepend",
     "outputPrepend",
     "outputPrepend",
     "outputPrepend",
     "outputPrepend",
     "outputPrepend",
     "outputPrepend",
     "outputPrepend",
     "outputPrepend",
     "outputPrepend",
     "outputPrepend",
     "outputPrepend",
     "outputPrepend",
     "outputPrepend",
     "outputPrepend",
     "outputPrepend",
     "outputPrepend",
     "outputPrepend",
     "outputPrepend",
     "outputPrepend",
     "outputPrepend",
     "outputPrepend",
     "outputPrepend",
     "outputPrepend",
     "outputPrepend",
     "outputPrepend",
     "outputPrepend",
     "outputPrepend",
     "outputPrepend",
     "outputPrepend",
     "outputPrepend",
     "outputPrepend",
     "outputPrepend",
     "outputPrepend",
     "outputPrepend",
     "outputPrepend",
     "outputPrepend",
     "outputPrepend",
     "outputPrepend",
     "outputPrepend",
     "outputPrepend",
     "outputPrepend",
     "outputPrepend",
     "outputPrepend",
     "outputPrepend",
     "outputPrepend",
     "outputPrepend",
     "outputPrepend",
     "outputPrepend",
     "outputPrepend",
     "outputPrepend",
     "outputPrepend",
     "outputPrepend",
     "outputPrepend",
     "outputPrepend",
     "outputPrepend",
     "outputPrepend",
     "outputPrepend",
     "outputPrepend",
     "outputPrepend",
     "outputPrepend",
     "outputPrepend",
     "outputPrepend",
     "outputPrepend",
     "outputPrepend",
     "outputPrepend",
     "outputPrepend",
     "outputPrepend",
     "outputPrepend",
     "outputPrepend",
     "outputPrepend",
     "outputPrepend",
     "outputPrepend",
     "outputPrepend",
     "outputPrepend",
     "outputPrepend",
     "outputPrepend",
     "outputPrepend",
     "outputPrepend",
     "outputPrepend",
     "outputPrepend",
     "outputPrepend",
     "outputPrepend",
     "outputPrepend",
     "outputPrepend",
     "outputPrepend",
     "outputPrepend",
     "outputPrepend",
     "outputPrepend",
     "outputPrepend",
     "outputPrepend",
     "outputPrepend",
     "outputPrepend",
     "outputPrepend",
     "outputPrepend",
     "outputPrepend",
     "outputPrepend",
     "outputPrepend",
     "outputPrepend",
     "outputPrepend",
     "outputPrepend",
     "outputPrepend",
     "outputPrepend",
     "outputPrepend",
     "outputPrepend",
     "outputPrepend",
     "outputPrepend",
     "outputPrepend",
     "outputPrepend",
     "outputPrepend",
     "outputPrepend",
     "outputPrepend",
     "outputPrepend",
     "outputPrepend",
     "outputPrepend",
     "outputPrepend",
     "outputPrepend",
     "outputPrepend",
     "outputPrepend",
     "outputPrepend",
     "outputPrepend",
     "outputPrepend",
     "outputPrepend",
     "outputPrepend",
     "outputPrepend",
     "outputPrepend",
     "outputPrepend",
     "outputPrepend",
     "outputPrepend",
     "outputPrepend",
     "outputPrepend",
     "outputPrepend",
     "outputPrepend",
     "outputPrepend",
     "outputPrepend",
     "outputPrepend",
     "outputPrepend",
     "outputPrepend",
     "outputPrepend",
     "outputPrepend",
     "outputPrepend",
     "outputPrepend",
     "outputPrepend",
     "outputPrepend",
     "outputPrepend",
     "outputPrepend",
     "outputPrepend",
     "outputPrepend",
     "outputPrepend",
     "outputPrepend",
     "outputPrepend",
     "outputPrepend",
     "outputPrepend",
     "outputPrepend",
     "outputPrepend",
     "outputPrepend",
     "outputPrepend",
     "outputPrepend",
     "outputPrepend",
     "outputPrepend",
     "outputPrepend",
     "outputPrepend",
     "outputPrepend",
     "outputPrepend",
     "outputPrepend",
     "outputPrepend",
     "outputPrepend",
     "outputPrepend",
     "outputPrepend",
     "outputPrepend",
     "outputPrepend",
     "outputPrepend",
     "outputPrepend",
     "outputPrepend",
     "outputPrepend",
     "outputPrepend",
     "outputPrepend",
     "outputPrepend",
     "outputPrepend",
     "outputPrepend",
     "outputPrepend",
     "outputPrepend",
     "outputPrepend",
     "outputPrepend",
     "outputPrepend",
     "outputPrepend",
     "outputPrepend",
     "outputPrepend",
     "outputPrepend",
     "outputPrepend",
     "outputPrepend",
     "outputPrepend",
     "outputPrepend",
     "outputPrepend",
     "outputPrepend",
     "outputPrepend",
     "outputPrepend",
     "outputPrepend",
     "outputPrepend",
     "outputPrepend",
     "outputPrepend",
     "outputPrepend",
     "outputPrepend",
     "outputPrepend",
     "outputPrepend",
     "outputPrepend",
     "outputPrepend",
     "outputPrepend",
     "outputPrepend",
     "outputPrepend",
     "outputPrepend",
     "outputPrepend",
     "outputPrepend",
     "outputPrepend",
     "outputPrepend",
     "outputPrepend",
     "outputPrepend",
     "outputPrepend",
     "outputPrepend",
     "outputPrepend",
     "outputPrepend",
     "outputPrepend",
     "outputPrepend",
     "outputPrepend",
     "outputPrepend",
     "outputPrepend",
     "outputPrepend",
     "outputPrepend",
     "outputPrepend",
     "outputPrepend",
     "outputPrepend",
     "outputPrepend",
     "outputPrepend",
     "outputPrepend",
     "outputPrepend",
     "outputPrepend",
     "outputPrepend",
     "outputPrepend",
     "outputPrepend",
     "outputPrepend",
     "outputPrepend",
     "outputPrepend",
     "outputPrepend",
     "outputPrepend",
     "outputPrepend",
     "outputPrepend",
     "outputPrepend",
     "outputPrepend",
     "outputPrepend",
     "outputPrepend",
     "outputPrepend",
     "outputPrepend",
     "outputPrepend",
     "outputPrepend",
     "outputPrepend",
     "outputPrepend",
     "outputPrepend",
     "outputPrepend"
    ]
   },
   "outputs": [],
   "source": [
    "import json\n",
    "import pandas as pd\n",
    "\n",
    "with open('/data/BIDS-HPC/private/projects/dmi/data/metadata.json') as f:\n",
    "    metadata = json.load(f)\n",
    "\n",
    "dfs = []\n",
    "for tsv_file in metadata['filedata']['tsv_files']:\n",
    "    dfs.append(pd.read_csv(tsv_file, sep='\\t'))"
   ]
  },
  {
   "cell_type": "code",
   "execution_count": 122,
   "metadata": {},
   "outputs": [
    {
     "output_type": "execute_result",
     "data": {
      "text/plain": "0"
     },
     "metadata": {},
     "execution_count": 122
    }
   ],
   "source": [
    "sums = []\n",
    "for df in dfs:\n",
    "    #sums.append(sum([ 1 if '|' in x else 0 for x in df['name'] ])) # This shows that there are no '|' characters in any name in any of the files\n",
    "    if 'locus' in df.keys():# This shows that there are no '|' characters in any 'locus' field in any of the files that contain such fields\n",
    "        sums.append(sum([ 1 if '|' in x else 0 for x in df['locus'] ]))\n",
    "sum(sums)"
   ]
  },
  {
   "cell_type": "code",
   "execution_count": 121,
   "metadata": {},
   "outputs": [
    {
     "output_type": "execute_result",
     "data": {
      "text/plain": "174"
     },
     "metadata": {},
     "execution_count": 121
    }
   ],
   "source": [
    "len(sums)"
   ]
  },
  {
   "cell_type": "code",
   "execution_count": 118,
   "metadata": {},
   "outputs": [
    {
     "output_type": "execute_result",
     "data": {
      "text/plain": "0"
     },
     "metadata": {},
     "execution_count": 118
    }
   ],
   "source": []
  },
  {
   "cell_type": "code",
   "execution_count": 163,
   "metadata": {},
   "outputs": [],
   "source": [
    "unique_names = []\n",
    "for df in dfs:\n",
    "    unique_names.append(len(set(df['name'])) == len(df))"
   ]
  },
  {
   "cell_type": "code",
   "execution_count": 148,
   "metadata": {
    "tags": [
     "outputPrepend",
     "outputPrepend"
    ]
   },
   "outputs": [],
   "source": [
    "df = dfs[1022]\n",
    "tmp = df['name'].value_counts()!=1\n",
    "for dup_name in tmp[tmp].index:\n",
    "    #print(df[df['name']==dup_name]['fpkm'].to_list())\n",
    "    df_tmp = df[df['name']==dup_name][['name','locus']]\n",
    "    df_tmp['name'] = df_tmp.apply(lambda x: '|'.join(x), axis=1)\n",
    "    #df = df.replace(df_tmp['name'])\n",
    "    df.loc[df_tmp['name'].index,'name'] = df_tmp['name']\n",
    "    print(df_tmp['name'])\n",
    "    print('-------------------')"
   ]
  },
  {
   "cell_type": "code",
   "execution_count": 156,
   "metadata": {},
   "outputs": [
    {
     "output_type": "execute_result",
     "data": {
      "text/plain": "61968"
     },
     "metadata": {},
     "execution_count": 156
    }
   ],
   "source": [
    "#df = dfs[1022]\n",
    "len(dfs[1022]['name'].unique())"
   ]
  },
  {
   "cell_type": "code",
   "execution_count": 165,
   "metadata": {},
   "outputs": [
    {
     "output_type": "stream",
     "name": "stdout",
     "text": "279\n280\n281\n282\n283\n284\n285\n286\n287\n288\n289\n290\n291\n292\n293\n294\n295\n296\n297\n298\n299\n300\n301\n302\n303\n304\n305\n306\n307\n308\n309\n310\n311\n312\n313\n314\n315\n316\n317\n318\n319\n320\n321\n322\n323\n324\n325\n326\n327\n328\n329\n330\n331\n332\n333\n334\n335\n336\n337\n338\n339\n340\n341\n342\n343\n344\n345\n346\n347\n348\n349\n350\n351\n352\n353\n354\n355\n356\n357\n358\n359\n360\n361\n362\n363\n364\n365\n366\n367\n368\n369\n370\n371\n372\n373\n374\n375\n376\n377\n378\n379\n380\n381\n382\n383\n384\n385\n386\n387\n388\n389\n390\n391\n392\n393\n394\n395\n396\n397\n398\n399\n400\n401\n402\n403\n404\n405\n406\n407\n408\n409\n410\n411\n412\n413\n414\n415\n416\n417\n418\n419\n420\n421\n422\n423\n424\n425\n426\n427\n428\n429\n430\n431\n432\n433\n434\n435\n436\n437\n438\n439\n440\n441\n442\n443\n444\n445\n446\n447\n448\n449\n450\n451\n452\n453\n454\n455\n456\n457\n458\n459\n460\n461\n462\n463\n464\n465\n466\n467\n468\n469\n470\n471\n472\n473\n474\n475\n476\n477\n478\n479\n480\n481\n482\n483\n484\n485\n486\n487\n488\n489\n490\n491\n492\n493\n494\n495\n496\n497\n498\n499\n500\n501\n502\n503\n504\n505\n506\n507\n508\n509\n510\n511\n512\n513\n514\n515\n516\n517\n518\n519\n520\n521\n522\n523\n524\n525\n526\n527\n528\n529\n530\n531\n532\n533\n534\n535\n536\n537\n538\n539\n540\n541\n542\n"
    }
   ],
   "source": [
    "for iname, unique_name in enumerate(unique_names):\n",
    "    #if (not unique_name) and ('locus' in dfs[iname].keys()):\n",
    "    if (not unique_name):\n",
    "        print(iname)\n",
    "        # df = dfs[iname]\n",
    "        # dupes = df['name'].value_counts()!=1\n",
    "        # for dup_name in dupes[dupes].index:\n",
    "        #     df_tmp = df[df['name']==dup_name][['name','locus']]\n",
    "        #     df_tmp['name'] = df_tmp.apply(lambda x: '|'.join(x), axis=1)\n",
    "        #     df.loc[df_tmp['name'].index,'name'] = df_tmp['name']"
   ]
  },
  {
   "cell_type": "code",
   "execution_count": 171,
   "metadata": {},
   "outputs": [
    {
     "output_type": "execute_result",
     "data": {
      "text/plain": "C2ORF15       2\nC6ORF165      2\nCANX          1\nCOL19A1       1\nAC112715.2    1\n             ..\nHADHA         1\nLMO7          1\nPCDHB8        1\nANKFN1        1\nPLD5          1\nName: name, Length: 19462, dtype: int64"
     },
     "metadata": {},
     "execution_count": 171
    }
   ],
   "source": [
    "df = dfs[405]\n",
    "df['name'].value_counts()"
   ]
  },
  {
   "cell_type": "code",
   "execution_count": 97,
   "metadata": {},
   "outputs": [
    {
     "output_type": "stream",
     "name": "stdout",
     "text": "name  fpkm            name2 name3 class_code nearest_ref_id  \\\n61738  ENSG00000237333   0.0  ENSG00000237333  MSH5          -              -   \n61752  ENSG00000237333   0.0  ENSG00000237333  MSH5          -              -   \n\n      tss_id                              locus length coverage  fpkm_conf_lo  \\\n61738      -  HSCHR6_MHC_SSTO:31697727-31699023      -        -           0.0   \n61752      -  HSCHR6_MHC_SSTO:31714323-31720408      -        -           0.0   \n\n       fpkm_conf_hi fpkm_status  \n61738           0.0          OK  \n61752           0.0          OK  \n"
    }
   ],
   "source": [
    "print(df[df['name']==dup_name])"
   ]
  },
  {
   "cell_type": "code",
   "execution_count": 94,
   "metadata": {},
   "outputs": [
    {
     "output_type": "stream",
     "name": "stdout",
     "text": "[0.0, 0.0, 0.0, 0.0]\n"
    }
   ],
   "source": [
    "print(df[df['name']=='ENSG00000269324']['fpkm'].to_list())"
   ]
  },
  {
   "cell_type": "code",
   "execution_count": 166,
   "metadata": {
    "tags": [
     "outputPrepend"
    ]
   },
   "outputs": [
    {
     "output_type": "stream",
     "name": "stdout",
     "text": "BIDS-HPC/private/projects/dmi/data/tree/Public/ALL/mRNA-seq/Phase2/L3/expression/StJude/TARGET-10-PASYAJ-09A-01R.expression.txt\n405 False /data/BIDS-HPC/private/projects/dmi/data/tree/Public/ALL/mRNA-seq/Phase2/L3/expression/StJude/TARGET-10-PASYCN-09A-01R.expression.txt\n406 False /data/BIDS-HPC/private/projects/dmi/data/tree/Public/ALL/mRNA-seq/Phase2/L3/expression/StJude/TARGET-10-PASYHN-09A-01R.expression.txt\n407 False /data/BIDS-HPC/private/projects/dmi/data/tree/Public/ALL/mRNA-seq/Phase2/L3/expression/StJude/TARGET-10-PASYIS-09A-01R.expression.txt\n408 False /data/BIDS-HPC/private/projects/dmi/data/tree/Public/ALL/mRNA-seq/Phase2/L3/expression/StJude/TARGET-10-PASYSJ-09A-01R.expression.txt\n409 False /data/BIDS-HPC/private/projects/dmi/data/tree/Public/ALL/mRNA-seq/Phase2/L3/expression/StJude/TARGET-10-PASYWF-03A-01R.expression.txt\n410 False /data/BIDS-HPC/private/projects/dmi/data/tree/Public/ALL/mRNA-seq/Phase2/L3/expression/StJude/TARGET-10-PASZEW-09A-01R.expression.txt\n411 False /data/BIDS-HPC/private/projects/dmi/data/tree/Public/ALL/mRNA-seq/Phase2/L3/expression/StJude/TARGET-10-PASZIY-09A-01R.expression.txt\n412 False /data/BIDS-HPC/private/projects/dmi/data/tree/Public/ALL/mRNA-seq/Phase2/L3/expression/StJude/TARGET-10-PASZJW-03A-01R.expression.txt\n413 False /data/BIDS-HPC/private/projects/dmi/data/tree/Public/ALL/mRNA-seq/Phase2/L3/expression/StJude/TARGET-10-PATALJ-09A-01R.expression.txt\n414 False /data/BIDS-HPC/private/projects/dmi/data/tree/Public/ALL/mRNA-seq/Phase2/L3/expression/StJude/TARGET-10-PATAXS-09A-01R.expression.txt\n415 False /data/BIDS-HPC/private/projects/dmi/data/tree/Public/ALL/mRNA-seq/Phase2/L3/expression/StJude/TARGET-10-PATAYT-09A-01R.expression.txt\n416 False /data/BIDS-HPC/private/projects/dmi/data/tree/Public/ALL/mRNA-seq/Phase2/L3/expression/StJude/TARGET-10-PATBDJ-09A-01R.expression.txt\n417 False /data/BIDS-HPC/private/projects/dmi/data/tree/Public/ALL/mRNA-seq/Phase2/L3/expression/StJude/TARGET-10-PATBDK-09A-01R.expression.txt\n418 False /data/BIDS-HPC/private/projects/dmi/data/tree/Public/ALL/mRNA-seq/Phase2/L3/expression/StJude/TARGET-10-PATBGC-09A-01R.expression.txt\n419 False /data/BIDS-HPC/private/projects/dmi/data/tree/Public/ALL/mRNA-seq/Phase2/L3/expression/StJude/TARGET-10-PATBNT-09A-01R.expression.txt\n420 False /data/BIDS-HPC/private/projects/dmi/data/tree/Public/ALL/mRNA-seq/Phase2/L3/expression/StJude/TARGET-10-PATBRV-09A-01R.expression.txt\n421 False /data/BIDS-HPC/private/projects/dmi/data/tree/Public/ALL/mRNA-seq/Phase2/L3/expression/StJude/TARGET-10-PATBTX-09A-01R.expression.txt\n422 False /data/BIDS-HPC/private/projects/dmi/data/tree/Public/ALL/mRNA-seq/Phase2/L3/expression/StJude/TARGET-10-PATBYK-09A-01R.expression.txt\n423 False /data/BIDS-HPC/private/projects/dmi/data/tree/Public/ALL/mRNA-seq/Phase2/L3/expression/StJude/TARGET-10-PATCDM-09A-01R.expression.txt\n424 False /data/BIDS-HPC/private/projects/dmi/data/tree/Public/ALL/mRNA-seq/Phase2/L3/expression/StJude/TARGET-10-PATCDZ-09A-01R.expression.txt\n425 False /data/BIDS-HPC/private/projects/dmi/data/tree/Public/ALL/mRNA-seq/Phase2/L3/expression/StJude/TARGET-10-PATCKV-09A-01R.expression.txt\n426 False /data/BIDS-HPC/private/projects/dmi/data/tree/Public/ALL/mRNA-seq/Phase2/L3/expression/StJude/TARGET-10-PATCNI-09A-01R.expression.txt\n427 False /data/BIDS-HPC/private/projects/dmi/data/tree/Public/ALL/mRNA-seq/Phase2/L3/expression/StJude/TARGET-10-PATCUK-09A-01R.expression.txt\n428 False /data/BIDS-HPC/private/projects/dmi/data/tree/Public/ALL/mRNA-seq/Phase2/L3/expression/StJude/TARGET-10-PATCZN-09A-01R.expression.txt\n429 False /data/BIDS-HPC/private/projects/dmi/data/tree/Public/ALL/mRNA-seq/Phase2/L3/expression/StJude/TARGET-10-PATDBU-09A-01R.expression.txt\n430 False /data/BIDS-HPC/private/projects/dmi/data/tree/Public/ALL/mRNA-seq/Phase2/L3/expression/StJude/TARGET-10-PATDDZ-09A-01R.expression.txt\n431 False /data/BIDS-HPC/private/projects/dmi/data/tree/Public/ALL/mRNA-seq/Phase2/L3/expression/StJude/TARGET-10-PATDFE-09A-01R.expression.txt\n432 False /data/BIDS-HPC/private/projects/dmi/data/tree/Public/ALL/mRNA-seq/Phase2/L3/expression/StJude/TARGET-10-PATDGZ-09A-01R.expression.txt\n433 False /data/BIDS-HPC/private/projects/dmi/data/tree/Public/ALL/mRNA-seq/Phase2/L3/expression/StJude/TARGET-10-PATDKT-09A-01R.expression.txt\n434 False /data/BIDS-HPC/private/projects/dmi/data/tree/Public/ALL/mRNA-seq/Phase2/L3/expression/StJude/TARGET-10-PATDLG-09A-01R.expression.txt\n435 False /data/BIDS-HPC/private/projects/dmi/data/tree/Public/ALL/mRNA-seq/Phase2/L3/expression/StJude/TARGET-10-PATDMN-09A-01R.expression.txt\n436 False /data/BIDS-HPC/private/projects/dmi/data/tree/Public/ALL/mRNA-seq/Phase2/L3/expression/StJude/TARGET-10-PATDRC-03A-01R.expression.txt\n437 False /data/BIDS-HPC/private/projects/dmi/data/tree/Public/ALL/mRNA-seq/Phase2/L3/expression/StJude/TARGET-10-PATEAK-09A-01R.expression.txt\n438 False /data/BIDS-HPC/private/projects/dmi/data/tree/Public/ALL/mRNA-seq/Phase2/L3/expression/StJude/TARGET-10-PATEFF-09A-01R.expression.txt\n439 False /data/BIDS-HPC/private/projects/dmi/data/tree/Public/ALL/mRNA-seq/Phase2/L3/expression/StJude/TARGET-10-PATEHZ-03A-01R.expression.txt\n440 False /data/BIDS-HPC/private/projects/dmi/data/tree/Public/ALL/mRNA-seq/Phase2/L3/expression/StJude/TARGET-10-PATEIT-09A-01R.expression.txt\n441 False /data/BIDS-HPC/private/projects/dmi/data/tree/Public/ALL/mRNA-seq/Phase2/L3/expression/StJude/TARGET-10-PATEMI-09A-01R.expression.txt\n442 False /data/BIDS-HPC/private/projects/dmi/data/tree/Public/ALL/mRNA-seq/Phase2/L3/expression/StJude/TARGET-10-PATENL-09A-01R.expression.txt\n443 False /data/BIDS-HPC/private/projects/dmi/data/tree/Public/ALL/mRNA-seq/Phase2/L3/expression/StJude/TARGET-10-PATEVL-09A-01R.expression.txt\n444 False /data/BIDS-HPC/private/projects/dmi/data/tree/Public/ALL/mRNA-seq/Phase2/L3/expression/StJude/TARGET-10-PATEYS-09A-01R.expression.txt\n445 False /data/BIDS-HPC/private/projects/dmi/data/tree/Public/ALL/mRNA-seq/Phase2/L3/expression/StJude/TARGET-10-PATFJD-09A-01R.expression.txt\n446 False /data/BIDS-HPC/private/projects/dmi/data/tree/Public/ALL/mRNA-seq/Phase2/L3/expression/StJude/TARGET-10-PATFJP-09A-01R.expression.txt\n447 False /data/BIDS-HPC/private/projects/dmi/data/tree/Public/ALL/mRNA-seq/Phase2/L3/expression/StJude/TARGET-10-PATFRM-09A-01R.expression.txt\n448 False /data/BIDS-HPC/private/projects/dmi/data/tree/Public/ALL/mRNA-seq/Phase2/L3/expression/StJude/TARGET-10-PATFVG-09A-01R.expression.txt\n449 False /data/BIDS-HPC/private/projects/dmi/data/tree/Public/ALL/mRNA-seq/Phase2/L3/expression/StJude/TARGET-10-PATFWF-09A-01R.expression.txt\n450 False /data/BIDS-HPC/private/projects/dmi/data/tree/Public/ALL/mRNA-seq/Phase2/L3/expression/StJude/TARGET-10-PATFYZ-09A-01R.expression.txt\n451 False /data/BIDS-HPC/private/projects/dmi/data/tree/Public/ALL/mRNA-seq/Phase2/L3/expression/StJude/TARGET-10-PATGBY-09A-01R.expression.txt\n452 False /data/BIDS-HPC/private/projects/dmi/data/tree/Public/ALL/mRNA-seq/Phase2/L3/expression/StJude/TARGET-10-PATGKE-09A-01R.expression.txt\n453 False /data/BIDS-HPC/private/projects/dmi/data/tree/Public/ALL/mRNA-seq/Phase2/L3/expression/StJude/TARGET-10-PATGLV-09A-01R.expression.txt\n454 False /data/BIDS-HPC/private/projects/dmi/data/tree/Public/ALL/mRNA-seq/Phase2/L3/expression/StJude/TARGET-10-PATGMP-09A-01R.expression.txt\n455 False /data/BIDS-HPC/private/projects/dmi/data/tree/Public/ALL/mRNA-seq/Phase2/L3/expression/StJude/TARGET-10-PATGVX-09A-01R.expression.txt\n456 False /data/BIDS-HPC/private/projects/dmi/data/tree/Public/ALL/mRNA-seq/Phase2/L3/expression/StJude/TARGET-10-PATGWP-09A-01R.expression.txt\n457 False /data/BIDS-HPC/private/projects/dmi/data/tree/Public/ALL/mRNA-seq/Phase2/L3/expression/StJude/TARGET-10-PATGYH-09A-01R.expression.txt\n458 False /data/BIDS-HPC/private/projects/dmi/data/tree/Public/ALL/mRNA-seq/Phase2/L3/expression/StJude/TARGET-10-PATGZA-09A-01R.expression.txt\n459 False /data/BIDS-HPC/private/projects/dmi/data/tree/Public/ALL/mRNA-seq/Phase2/L3/expression/StJude/TARGET-10-PATHBG-09A-01R.expression.txt\n460 False /data/BIDS-HPC/private/projects/dmi/data/tree/Public/ALL/mRNA-seq/Phase2/L3/expression/StJude/TARGET-10-PATHFE-09A-01R.expression.txt\n461 False /data/BIDS-HPC/private/projects/dmi/data/tree/Public/ALL/mRNA-seq/Phase2/L3/expression/StJude/TARGET-10-PATHGY-09A-01R.expression.txt\n462 False /data/BIDS-HPC/private/projects/dmi/data/tree/Public/ALL/mRNA-seq/Phase2/L3/expression/StJude/TARGET-10-PATHJF-09A-01R.expression.txt\n463 False /data/BIDS-HPC/private/projects/dmi/data/tree/Public/ALL/mRNA-seq/Phase2/L3/expression/StJude/TARGET-10-PATHRF-09A-01R.expression.txt\n464 False /data/BIDS-HPC/private/projects/dmi/data/tree/Public/ALL/mRNA-seq/Phase2/L3/expression/StJude/TARGET-10-PATHWV-09A-01R.expression.txt\n465 False /data/BIDS-HPC/private/projects/dmi/data/tree/Public/ALL/mRNA-seq/Phase2/L3/expression/StJude/TARGET-10-PATIBE-09A-01R.expression.txt\n466 False /data/BIDS-HPC/private/projects/dmi/data/tree/Public/ALL/mRNA-seq/Phase2/L3/expression/StJude/TARGET-10-PATIKN-03A-01R.expression.txt\n467 False /data/BIDS-HPC/private/projects/dmi/data/tree/Public/ALL/mRNA-seq/Phase2/L3/expression/StJude/TARGET-10-PATITB-09A-01R.expression.txt\n468 False /data/BIDS-HPC/private/projects/dmi/data/tree/Public/ALL/mRNA-seq/Phase2/L3/expression/StJude/TARGET-10-PATITY-09A-01R.expression.txt\n469 False /data/BIDS-HPC/private/projects/dmi/data/tree/Public/ALL/mRNA-seq/Phase2/L3/expression/StJude/TARGET-10-PATJBC-09A-01R.expression.txt\n470 False /data/BIDS-HPC/private/projects/dmi/data/tree/Public/ALL/mRNA-seq/Phase2/L3/expression/StJude/TARGET-10-PATJLT-09A-01R.expression.txt\n471 False /data/BIDS-HPC/private/projects/dmi/data/tree/Public/ALL/mRNA-seq/Phase2/L3/expression/StJude/TARGET-10-PATJZK-09A-01R.expression.txt\n472 False /data/BIDS-HPC/private/projects/dmi/data/tree/Public/ALL/mRNA-seq/Phase2/L3/expression/StJude/TARGET-10-PATKGP-09A-01R.expression.txt\n473 False /data/BIDS-HPC/private/projects/dmi/data/tree/Public/ALL/mRNA-seq/Phase2/L3/expression/StJude/TARGET-10-PATKVD-09A-01R.expression.txt\n474 False /data/BIDS-HPC/private/projects/dmi/data/tree/Public/ALL/mRNA-seq/Phase2/L3/expression/StJude/TARGET-10-PATKWU-09A-01R.expression.txt\n475 False /data/BIDS-HPC/private/projects/dmi/data/tree/Public/ALL/mRNA-seq/Phase2/L3/expression/StJude/TARGET-10-PATKYI-09A-01R.expression.txt\n476 False /data/BIDS-HPC/private/projects/dmi/data/tree/Public/ALL/mRNA-seq/Phase2/L3/expression/StJude/TARGET-10-PATLGU-09A-01R.expression.txt\n477 False /data/BIDS-HPC/private/projects/dmi/data/tree/Public/ALL/mRNA-seq/Phase2/L3/expression/StJude/TARGET-10-PATLHH-09A-01R.expression.txt\n478 False /data/BIDS-HPC/private/projects/dmi/data/tree/Public/ALL/mRNA-seq/Phase2/L3/expression/StJude/TARGET-10-PATLHS-09A-01R.expression.txt\n479 False /data/BIDS-HPC/private/projects/dmi/data/tree/Public/ALL/mRNA-seq/Phase2/L3/expression/StJude/TARGET-10-PATLMA-03A-01R.expression.txt\n480 False /data/BIDS-HPC/private/projects/dmi/data/tree/Public/ALL/mRNA-seq/Phase2/L3/expression/StJude/TARGET-10-PATLNS-09A-01R.expression.txt\n481 False /data/BIDS-HPC/private/projects/dmi/data/tree/Public/ALL/mRNA-seq/Phase2/L3/expression/StJude/TARGET-10-PATLNZ-09A-01R.expression.txt\n482 False /data/BIDS-HPC/private/projects/dmi/data/tree/Public/ALL/mRNA-seq/Phase2/L3/expression/StJude/TARGET-10-PATLPN-03A-01R.expression.txt\n483 False /data/BIDS-HPC/private/projects/dmi/data/tree/Public/ALL/mRNA-seq/Phase2/L3/expression/StJude/TARGET-10-PATLRZ-09A-01R.expression.txt\n484 False /data/BIDS-HPC/private/projects/dmi/data/tree/Public/ALL/mRNA-seq/Phase2/L3/expression/StJude/TARGET-10-PATMAF-09A-01R.expression.txt\n485 False /data/BIDS-HPC/private/projects/dmi/data/tree/Public/ALL/mRNA-seq/Phase2/L3/expression/StJude/TARGET-10-PATMRE-09A-01R.expression.txt\n486 False /data/BIDS-HPC/private/projects/dmi/data/tree/Public/ALL/mRNA-seq/Phase2/L3/expression/StJude/TARGET-10-PATMTV-09A-01R.expression.txt\n487 False /data/BIDS-HPC/private/projects/dmi/data/tree/Public/ALL/mRNA-seq/Phase2/L3/expression/StJude/TARGET-10-PATMVH-09A-01R.expression.txt\n488 False /data/BIDS-HPC/private/projects/dmi/data/tree/Public/ALL/mRNA-seq/Phase2/L3/expression/StJude/TARGET-10-PATMXN-09A-01R.expression.txt\n489 False /data/BIDS-HPC/private/projects/dmi/data/tree/Public/ALL/mRNA-seq/Phase2/L3/expression/StJude/TARGET-10-PATMYZ-09A-01R.expression.txt\n490 False /data/BIDS-HPC/private/projects/dmi/data/tree/Public/ALL/mRNA-seq/Phase2/L3/expression/StJude/TARGET-10-PATNAM-09A-01R.expression.txt\n491 False /data/BIDS-HPC/private/projects/dmi/data/tree/Public/ALL/mRNA-seq/Phase2/L3/expression/StJude/TARGET-10-PATNIA-09A-01R.expression.txt\n492 False /data/BIDS-HPC/private/projects/dmi/data/tree/Public/ALL/mRNA-seq/Phase2/L3/expression/StJude/TARGET-10-PATPDA-09A-01R.expression.txt\n493 False /data/BIDS-HPC/private/projects/dmi/data/tree/Public/ALL/mRNA-seq/Phase2/L3/expression/StJude/TARGET-10-PATPGE-09A-01R.expression.txt\n494 False /data/BIDS-HPC/private/projects/dmi/data/tree/Public/ALL/mRNA-seq/Phase2/L3/expression/StJude/TARGET-10-PATPWF-03A-01R.expression.txt\n495 False /data/BIDS-HPC/private/projects/dmi/data/tree/Public/ALL/mRNA-seq/Phase2/L3/expression/StJude/TARGET-10-PATRAB-09A-01R.expression.txt\n496 False /data/BIDS-HPC/private/projects/dmi/data/tree/Public/ALL/mRNA-seq/Phase2/L3/expression/StJude/TARGET-10-PATRGV-09A-01R.expression.txt\n497 False /data/BIDS-HPC/private/projects/dmi/data/tree/Public/ALL/mRNA-seq/Phase2/L3/expression/StJude/TARGET-10-PATRHL-09A-01R.expression.txt\n498 False /data/BIDS-HPC/private/projects/dmi/data/tree/Public/ALL/mRNA-seq/Phase2/L3/expression/StJude/TARGET-10-PATRNA-09A-01R.expression.txt\n499 False /data/BIDS-HPC/private/projects/dmi/data/tree/Public/ALL/mRNA-seq/Phase2/L3/expression/StJude/TARGET-10-PATRUN-09A-01R.expression.txt\n500 False /data/BIDS-HPC/private/projects/dmi/data/tree/Public/ALL/mRNA-seq/Phase2/L3/expression/StJude/TARGET-10-PATRXL-09A-01R.expression.txt\n501 False /data/BIDS-HPC/private/projects/dmi/data/tree/Public/ALL/mRNA-seq/Phase2/L3/expression/StJude/TARGET-10-PATSDS-03A-01R.expression.txt\n502 False /data/BIDS-HPC/private/projects/dmi/data/tree/Public/ALL/mRNA-seq/Phase2/L3/expression/StJude/TARGET-10-PATSIL-09A-01R.expression.txt\n503 False /data/BIDS-HPC/private/projects/dmi/data/tree/Public/ALL/mRNA-seq/Phase2/L3/expression/StJude/TARGET-10-PATSIY-09A-01R.expression.txt\n504 False /data/BIDS-HPC/private/projects/dmi/data/tree/Public/ALL/mRNA-seq/Phase2/L3/expression/StJude/TARGET-10-PATSLH-09A-01R.expression.txt\n505 False /data/BIDS-HPC/private/projects/dmi/data/tree/Public/ALL/mRNA-seq/Phase2/L3/expression/StJude/TARGET-10-PATTHR-09A-01R.expression.txt\n506 False /data/BIDS-HPC/private/projects/dmi/data/tree/Public/ALL/mRNA-seq/Phase2/L3/expression/StJude/TARGET-10-PATVDA-03A-01R.expression.txt\n507 False /data/BIDS-HPC/private/projects/dmi/data/tree/Public/ALL/mRNA-seq/Phase2/L3/expression/StJude/TARGET-10-PATWHB-09A-01R.expression.txt\n508 False /data/BIDS-HPC/private/projects/dmi/data/tree/Public/ALL/mRNA-seq/Phase2/L3/expression/StJude/TARGET-10-PATWIJ-09A-01R.expression.txt\n509 False /data/BIDS-HPC/private/projects/dmi/data/tree/Public/ALL/mRNA-seq/Phase2/L3/expression/StJude/TARGET-10-PATWJU-09A-01R.expression.txt\n510 False /data/BIDS-HPC/private/projects/dmi/data/tree/Public/ALL/mRNA-seq/Phase2/L3/expression/StJude/TARGET-10-PATWNL-09A-01R.expression.txt\n511 False /data/BIDS-HPC/private/projects/dmi/data/tree/Public/ALL/mRNA-seq/Phase2/L3/expression/StJude/TARGET-10-PATWXC-09A-01R.expression.txt\n512 False /data/BIDS-HPC/private/projects/dmi/data/tree/Public/ALL/mRNA-seq/Phase2/L3/expression/StJude/TARGET-10-PATWYL-09A-01R.expression.txt\n513 False /data/BIDS-HPC/private/projects/dmi/data/tree/Public/ALL/mRNA-seq/Phase2/L3/expression/StJude/TARGET-10-PATWYZ-09A-01R.expression.txt\n514 False /data/BIDS-HPC/private/projects/dmi/data/tree/Public/ALL/mRNA-seq/Phase2/L3/expression/StJude/TARGET-10-PATXAL-09A-01R.expression.txt\n515 False /data/BIDS-HPC/private/projects/dmi/data/tree/Public/ALL/mRNA-seq/Phase2/L3/expression/StJude/TARGET-10-PATXKW-03A-01R.expression.txt\n516 False /data/BIDS-HPC/private/projects/dmi/data/tree/Public/ALL/mRNA-seq/Phase2/L3/expression/StJude/TARGET-10-PATXNK-09A-01R.expression.txt\n517 False /data/BIDS-HPC/private/projects/dmi/data/tree/Public/ALL/mRNA-seq/Phase2/L3/expression/StJude/TARGET-10-PATXNR-09A-01R.expression.txt\n518 False /data/BIDS-HPC/private/projects/dmi/data/tree/Public/ALL/mRNA-seq/Phase2/L3/expression/StJude/TARGET-10-PATXSK-09A-01R.expression.txt\n519 False /data/BIDS-HPC/private/projects/dmi/data/tree/Public/ALL/mRNA-seq/Phase2/L3/expression/StJude/TARGET-10-PATYCH-09A-01R.expression.txt\n520 False /data/BIDS-HPC/private/projects/dmi/data/tree/Public/ALL/mRNA-seq/Phase2/L3/expression/StJude/TARGET-10-PATYJK-09A-01R.expression.txt\n521 False /data/BIDS-HPC/private/projects/dmi/data/tree/Public/ALL/mRNA-seq/Phase2/L3/expression/StJude/TARGET-10-PATYMP-09A-01R.expression.txt\n522 False /data/BIDS-HPC/private/projects/dmi/data/tree/Public/ALL/mRNA-seq/Phase2/L3/expression/StJude/TARGET-10-PATYWV-09A-01R.expression.txt\n523 False /data/BIDS-HPC/private/projects/dmi/data/tree/Public/ALL/mRNA-seq/Phase2/L3/expression/StJude/TARGET-10-PATZFF-09A-01R.expression.txt\n524 False /data/BIDS-HPC/private/projects/dmi/data/tree/Public/ALL/mRNA-seq/Phase2/L3/expression/StJude/TARGET-10-PATZSL-09A-01R.expression.txt\n525 False /data/BIDS-HPC/private/projects/dmi/data/tree/Public/ALL/mRNA-seq/Phase2/L3/expression/StJude/TARGET-10-PATZVD-09A-01R.expression.txt\n526 False /data/BIDS-HPC/private/projects/dmi/data/tree/Public/ALL/mRNA-seq/Phase2/L3/expression/StJude/TARGET-10-PATZWA-03A-01R.expression.txt\n527 False /data/BIDS-HPC/private/projects/dmi/data/tree/Public/ALL/mRNA-seq/Phase2/L3/expression/StJude/TARGET-10-PATZYC-09A-01R.expression.txt\n528 False /data/BIDS-HPC/private/projects/dmi/data/tree/Public/ALL/mRNA-seq/Phase2/L3/expression/StJude/TARGET-10-PATZYR-03A-01R.expression.txt\n529 False /data/BIDS-HPC/private/projects/dmi/data/tree/Public/ALL/mRNA-seq/Phase2/L3/expression/StJude/TARGET-10-PAUACG-09A-01R.expression.txt\n530 False /data/BIDS-HPC/private/projects/dmi/data/tree/Public/ALL/mRNA-seq/Phase2/L3/expression/StJude/TARGET-10-PAUAFN-09A-01R.expression.txt\n531 False /data/BIDS-HPC/private/projects/dmi/data/tree/Public/ALL/mRNA-seq/Phase2/L3/expression/StJude/TARGET-10-PAUAJA-09A-01R.expression.txt\n532 False /data/BIDS-HPC/private/projects/dmi/data/tree/Public/ALL/mRNA-seq/Phase2/L3/expression/StJude/TARGET-10-PAUAYB-09A-01R.expression.txt\n533 False /data/BIDS-HPC/private/projects/dmi/data/tree/Public/ALL/mRNA-seq/Phase2/L3/expression/StJude/TARGET-10-PAUAZV-09A-01R.expression.txt\n534 False /data/BIDS-HPC/private/projects/dmi/data/tree/Public/ALL/mRNA-seq/Phase2/L3/expression/StJude/TARGET-10-PAUBCB-09A-01R.expression.txt\n535 False /data/BIDS-HPC/private/projects/dmi/data/tree/Public/ALL/mRNA-seq/Phase2/L3/expression/StJude/TARGET-10-PAUBCT-09A-01R.expression.txt\n536 False /data/BIDS-HPC/private/projects/dmi/data/tree/Public/ALL/mRNA-seq/Phase2/L3/expression/StJude/TARGET-10-PAUBLL-09A-01R.expression.txt\n537 False /data/BIDS-HPC/private/projects/dmi/data/tree/Public/ALL/mRNA-seq/Phase2/L3/expression/StJude/TARGET-10-PAUBPY-09A-01R.expression.txt\n538 False /data/BIDS-HPC/private/projects/dmi/data/tree/Public/ALL/mRNA-seq/Phase2/L3/expression/StJude/TARGET-10-PAUBRD-09A-01R.expression.txt\n539 False /data/BIDS-HPC/private/projects/dmi/data/tree/Public/ALL/mRNA-seq/Phase2/L3/expression/StJude/TARGET-10-PAUBTC-09A-01R.expression.txt\n540 False /data/BIDS-HPC/private/projects/dmi/data/tree/Public/ALL/mRNA-seq/Phase2/L3/expression/StJude/TARGET-10-PAUBXP-09A-01R.expression.txt\n541 False /data/BIDS-HPC/private/projects/dmi/data/tree/Public/ALL/mRNA-seq/Phase2/L3/expression/StJude/TARGET-10-PAUCDC-09A-01R.expression.txt\n542 False /data/BIDS-HPC/private/projects/dmi/data/tree/Public/ALL/mRNA-seq/Phase2/L3/expression/StJude/TARGET-10-PAUCDY-09A-01R.expression.txt\n"
    }
   ],
   "source": [
    "for ifile, unique_name in enumerate(unique_names):\n",
    "    if not unique_name:\n",
    "        print(ifile, unique_name, metadata['filedata']['filenames'][ifile])"
   ]
  },
  {
   "cell_type": "code",
   "execution_count": 40,
   "metadata": {},
   "outputs": [
    {
     "output_type": "execute_result",
     "data": {
      "text/plain": "'/data/BIDS-HPC/private/projects/dmi/data/tree/Public/ALL/mRNA-seq/Phase1/L3/expression/BCCA/HS0825.gene.quantification.txt'"
     },
     "metadata": {},
     "execution_count": 40
    }
   ],
   "source": [
    "metadata['filedata']['filenames'][0]"
   ]
  },
  {
   "cell_type": "code",
   "execution_count": 42,
   "metadata": {},
   "outputs": [
    {
     "output_type": "execute_result",
     "data": {
      "text/plain": "                  name      rpkm       name2  raw_counts  \\\n0      ENSG00000000457  3.586679       SCYL3         513   \n1      ENSG00000000460  2.103487    C1ORF112         468   \n2      ENSG00000000938  1.759050         FGR         230   \n3      ENSG00000000971  0.067245         CFH          21   \n4      ENSG00000001460  0.170594    C1ORF201          55   \n...                ...       ...         ...         ...   \n51732  ENSG00000252766  1.981214          U6           8   \n51733  ENSG00000252855  0.000000  AC134878.2           0   \n51734  ENSG00000252900  0.000000          U6           0   \n51735  ENSG00000252939  0.000000  AC006156.6           0   \n51736  ENSG00000252948  0.000000          U6           0   \n\n       median_length_normalized  \n0                      6.500000  \n1                      3.812060  \n2                      3.187850  \n3                      0.121865  \n4                      0.309160  \n...                         ...  \n51732                  3.590480  \n51733                  0.000000  \n51734                  0.000000  \n51735                  0.000000  \n51736                  0.000000  \n\n[51737 rows x 5 columns]",
      "text/html": "<div>\n<style scoped>\n    .dataframe tbody tr th:only-of-type {\n        vertical-align: middle;\n    }\n\n    .dataframe tbody tr th {\n        vertical-align: top;\n    }\n\n    .dataframe thead th {\n        text-align: right;\n    }\n</style>\n<table border=\"1\" class=\"dataframe\">\n  <thead>\n    <tr style=\"text-align: right;\">\n      <th></th>\n      <th>name</th>\n      <th>rpkm</th>\n      <th>name2</th>\n      <th>raw_counts</th>\n      <th>median_length_normalized</th>\n    </tr>\n  </thead>\n  <tbody>\n    <tr>\n      <th>0</th>\n      <td>ENSG00000000457</td>\n      <td>3.586679</td>\n      <td>SCYL3</td>\n      <td>513</td>\n      <td>6.500000</td>\n    </tr>\n    <tr>\n      <th>1</th>\n      <td>ENSG00000000460</td>\n      <td>2.103487</td>\n      <td>C1ORF112</td>\n      <td>468</td>\n      <td>3.812060</td>\n    </tr>\n    <tr>\n      <th>2</th>\n      <td>ENSG00000000938</td>\n      <td>1.759050</td>\n      <td>FGR</td>\n      <td>230</td>\n      <td>3.187850</td>\n    </tr>\n    <tr>\n      <th>3</th>\n      <td>ENSG00000000971</td>\n      <td>0.067245</td>\n      <td>CFH</td>\n      <td>21</td>\n      <td>0.121865</td>\n    </tr>\n    <tr>\n      <th>4</th>\n      <td>ENSG00000001460</td>\n      <td>0.170594</td>\n      <td>C1ORF201</td>\n      <td>55</td>\n      <td>0.309160</td>\n    </tr>\n    <tr>\n      <th>...</th>\n      <td>...</td>\n      <td>...</td>\n      <td>...</td>\n      <td>...</td>\n      <td>...</td>\n    </tr>\n    <tr>\n      <th>51732</th>\n      <td>ENSG00000252766</td>\n      <td>1.981214</td>\n      <td>U6</td>\n      <td>8</td>\n      <td>3.590480</td>\n    </tr>\n    <tr>\n      <th>51733</th>\n      <td>ENSG00000252855</td>\n      <td>0.000000</td>\n      <td>AC134878.2</td>\n      <td>0</td>\n      <td>0.000000</td>\n    </tr>\n    <tr>\n      <th>51734</th>\n      <td>ENSG00000252900</td>\n      <td>0.000000</td>\n      <td>U6</td>\n      <td>0</td>\n      <td>0.000000</td>\n    </tr>\n    <tr>\n      <th>51735</th>\n      <td>ENSG00000252939</td>\n      <td>0.000000</td>\n      <td>AC006156.6</td>\n      <td>0</td>\n      <td>0.000000</td>\n    </tr>\n    <tr>\n      <th>51736</th>\n      <td>ENSG00000252948</td>\n      <td>0.000000</td>\n      <td>U6</td>\n      <td>0</td>\n      <td>0.000000</td>\n    </tr>\n  </tbody>\n</table>\n<p>51737 rows × 5 columns</p>\n</div>"
     },
     "metadata": {},
     "execution_count": 42
    }
   ],
   "source": [
    "dfs[0]\n",
    "# for df in dfs:\n",
    "#     print(len(df))"
   ]
  },
  {
   "cell_type": "code",
   "execution_count": 10,
   "metadata": {},
   "outputs": [
    {
     "output_type": "execute_result",
     "data": {
      "text/plain": "{'base_url': 'https://target-data.nci.nih.gov/',\n 'datadir': '/data/BIDS-HPC/private/projects/dmi/data/tree/',\n 'file_index': '/data/BIDS-HPC/private/projects/dmi/data/all_files_in_tree.txt',\n 'working_dir': '/home/weismanal/notebook/2020-05-28/dmi',\n 'ndatafiles': 2261}"
     },
     "metadata": {},
     "execution_count": 10
    }
   ],
   "source": [
    "metadata['metadata']"
   ]
  },
  {
   "cell_type": "code",
   "execution_count": 13,
   "metadata": {},
   "outputs": [
    {
     "output_type": "execute_result",
     "data": {
      "text/plain": "dict_keys(['filenames', 'weblinks', 'idatafiles', 'tsv_files', 'format_nums'])"
     },
     "metadata": {},
     "execution_count": 13
    }
   ],
   "source": [
    "metadata['filedata'].keys()"
   ]
  },
  {
   "cell_type": "code",
   "execution_count": 36,
   "metadata": {},
   "outputs": [
    {
     "output_type": "execute_result",
     "data": {
      "text/plain": "2261"
     },
     "metadata": {},
     "execution_count": 36
    }
   ],
   "source": [
    "len(dfs)"
   ]
  },
  {
   "cell_type": "code",
   "execution_count": 30,
   "metadata": {},
   "outputs": [
    {
     "output_type": "execute_result",
     "data": {
      "text/plain": ".tsv',\n '/data/BIDS-HPC/private/projects/dmi/data/tsv_files/tsv_file_0000737.tsv',\n '/data/BIDS-HPC/private/projects/dmi/data/tsv_files/tsv_file_0000738.tsv',\n '/data/BIDS-HPC/private/projects/dmi/data/tsv_files/tsv_file_0000739.tsv',\n '/data/BIDS-HPC/private/projects/dmi/data/tsv_files/tsv_file_0000740.tsv',\n '/data/BIDS-HPC/private/projects/dmi/data/tsv_files/tsv_file_0000741.tsv',\n '/data/BIDS-HPC/private/projects/dmi/data/tsv_files/tsv_file_0000742.tsv',\n '/data/BIDS-HPC/private/projects/dmi/data/tsv_files/tsv_file_0000743.tsv',\n '/data/BIDS-HPC/private/projects/dmi/data/tsv_files/tsv_file_0000744.tsv',\n '/data/BIDS-HPC/private/projects/dmi/data/tsv_files/tsv_file_0000745.tsv',\n '/data/BIDS-HPC/private/projects/dmi/data/tsv_files/tsv_file_0000746.tsv',\n '/data/BIDS-HPC/private/projects/dmi/data/tsv_files/tsv_file_0000747.tsv',\n '/data/BIDS-HPC/private/projects/dmi/data/tsv_files/tsv_file_0000748.tsv',\n '/data/BIDS-HPC/private/projects/dmi/data/tsv_files/tsv_file_0000749.tsv',\n '/data/BIDS-HPC/private/projects/dmi/data/tsv_files/tsv_file_0000750.tsv',\n '/data/BIDS-HPC/private/projects/dmi/data/tsv_files/tsv_file_0000751.tsv',\n '/data/BIDS-HPC/private/projects/dmi/data/tsv_files/tsv_file_0000752.tsv',\n '/data/BIDS-HPC/private/projects/dmi/data/tsv_files/tsv_file_0000753.tsv',\n '/data/BIDS-HPC/private/projects/dmi/data/tsv_files/tsv_file_0000754.tsv',\n '/data/BIDS-HPC/private/projects/dmi/data/tsv_files/tsv_file_0000755.tsv',\n '/data/BIDS-HPC/private/projects/dmi/data/tsv_files/tsv_file_0000756.tsv',\n '/data/BIDS-HPC/private/projects/dmi/data/tsv_files/tsv_file_0000757.tsv',\n '/data/BIDS-HPC/private/projects/dmi/data/tsv_files/tsv_file_0000758.tsv',\n '/data/BIDS-HPC/private/projects/dmi/data/tsv_files/tsv_file_0000759.tsv',\n '/data/BIDS-HPC/private/projects/dmi/data/tsv_files/tsv_file_0000760.tsv',\n '/data/BIDS-HPC/private/projects/dmi/data/tsv_files/tsv_file_0000761.tsv',\n '/data/BIDS-HPC/private/projects/dmi/data/tsv_files/tsv_file_0000762.tsv',\n '/data/BIDS-HPC/private/projects/dmi/data/tsv_files/tsv_file_0000763.tsv',\n '/data/BIDS-HPC/private/projects/dmi/data/tsv_files/tsv_file_0000764.tsv',\n '/data/BIDS-HPC/private/projects/dmi/data/tsv_files/tsv_file_0000765.tsv',\n '/data/BIDS-HPC/private/projects/dmi/data/tsv_files/tsv_file_0000766.tsv',\n '/data/BIDS-HPC/private/projects/dmi/data/tsv_files/tsv_file_0000767.tsv',\n '/data/BIDS-HPC/private/projects/dmi/data/tsv_files/tsv_file_0000768.tsv',\n '/data/BIDS-HPC/private/projects/dmi/data/tsv_files/tsv_file_0000769.tsv',\n '/data/BIDS-HPC/private/projects/dmi/data/tsv_files/tsv_file_0000770.tsv',\n '/data/BIDS-HPC/private/projects/dmi/data/tsv_files/tsv_file_0000771.tsv',\n '/data/BIDS-HPC/private/projects/dmi/data/tsv_files/tsv_file_0000772.tsv',\n '/data/BIDS-HPC/private/projects/dmi/data/tsv_files/tsv_file_0000773.tsv',\n '/data/BIDS-HPC/private/projects/dmi/data/tsv_files/tsv_file_0000774.tsv',\n '/data/BIDS-HPC/private/projects/dmi/data/tsv_files/tsv_file_0000775.tsv',\n '/data/BIDS-HPC/private/projects/dmi/data/tsv_files/tsv_file_0000776.tsv',\n '/data/BIDS-HPC/private/projects/dmi/data/tsv_files/tsv_file_0000777.tsv',\n '/data/BIDS-HPC/private/projects/dmi/data/tsv_files/tsv_file_0000778.tsv',\n '/data/BIDS-HPC/private/projects/dmi/data/tsv_files/tsv_file_0000779.tsv',\n '/data/BIDS-HPC/private/projects/dmi/data/tsv_files/tsv_file_0000780.tsv',\n '/data/BIDS-HPC/private/projects/dmi/data/tsv_files/tsv_file_0000781.tsv',\n '/data/BIDS-HPC/private/projects/dmi/data/tsv_files/tsv_file_0000782.tsv',\n '/data/BIDS-HPC/private/projects/dmi/data/tsv_files/tsv_file_0000783.tsv',\n '/data/BIDS-HPC/private/projects/dmi/data/tsv_files/tsv_file_0000784.tsv',\n '/data/BIDS-HPC/private/projects/dmi/data/tsv_files/tsv_file_0000785.tsv',\n '/data/BIDS-HPC/private/projects/dmi/data/tsv_files/tsv_file_0000786.tsv',\n '/data/BIDS-HPC/private/projects/dmi/data/tsv_files/tsv_file_0000787.tsv',\n '/data/BIDS-HPC/private/projects/dmi/data/tsv_files/tsv_file_0000788.tsv',\n '/data/BIDS-HPC/private/projects/dmi/data/tsv_files/tsv_file_0000789.tsv',\n '/data/BIDS-HPC/private/projects/dmi/data/tsv_files/tsv_file_0000790.tsv',\n '/data/BIDS-HPC/private/projects/dmi/data/tsv_files/tsv_file_0000791.tsv',\n '/data/BIDS-HPC/private/projects/dmi/data/tsv_files/tsv_file_0000792.tsv',\n '/data/BIDS-HPC/private/projects/dmi/data/tsv_files/tsv_file_0000793.tsv',\n '/data/BIDS-HPC/private/projects/dmi/data/tsv_files/tsv_file_0000794.tsv',\n '/data/BIDS-HPC/private/projects/dmi/data/tsv_files/tsv_file_0000795.tsv',\n '/data/BIDS-HPC/private/projects/dmi/data/tsv_files/tsv_file_0000796.tsv',\n '/data/BIDS-HPC/private/projects/dmi/data/tsv_files/tsv_file_0000797.tsv',\n '/data/BIDS-HPC/private/projects/dmi/data/tsv_files/tsv_file_0000798.tsv',\n '/data/BIDS-HPC/private/projects/dmi/data/tsv_files/tsv_file_0000799.tsv',\n '/data/BIDS-HPC/private/projects/dmi/data/tsv_files/tsv_file_0000800.tsv',\n '/data/BIDS-HPC/private/projects/dmi/data/tsv_files/tsv_file_0000801.tsv',\n '/data/BIDS-HPC/private/projects/dmi/data/tsv_files/tsv_file_0000802.tsv',\n '/data/BIDS-HPC/private/projects/dmi/data/tsv_files/tsv_file_0000803.tsv',\n '/data/BIDS-HPC/private/projects/dmi/data/tsv_files/tsv_file_0000804.tsv',\n '/data/BIDS-HPC/private/projects/dmi/data/tsv_files/tsv_file_0000805.tsv',\n '/data/BIDS-HPC/private/projects/dmi/data/tsv_files/tsv_file_0000806.tsv',\n '/data/BIDS-HPC/private/projects/dmi/data/tsv_files/tsv_file_0000807.tsv',\n '/data/BIDS-HPC/private/projects/dmi/data/tsv_files/tsv_file_0000808.tsv',\n '/data/BIDS-HPC/private/projects/dmi/data/tsv_files/tsv_file_0000809.tsv',\n '/data/BIDS-HPC/private/projects/dmi/data/tsv_files/tsv_file_0000810.tsv',\n '/data/BIDS-HPC/private/projects/dmi/data/tsv_files/tsv_file_0000811.tsv',\n '/data/BIDS-HPC/private/projects/dmi/data/tsv_files/tsv_file_0000812.tsv',\n '/data/BIDS-HPC/private/projects/dmi/data/tsv_files/tsv_file_0000813.tsv',\n '/data/BIDS-HPC/private/projects/dmi/data/tsv_files/tsv_file_0000814.tsv',\n '/data/BIDS-HPC/private/projects/dmi/data/tsv_files/tsv_file_0000815.tsv',\n '/data/BIDS-HPC/private/projects/dmi/data/tsv_files/tsv_file_0000816.tsv',\n '/data/BIDS-HPC/private/projects/dmi/data/tsv_files/tsv_file_0000817.tsv',\n '/data/BIDS-HPC/private/projects/dmi/data/tsv_files/tsv_file_0000818.tsv',\n '/data/BIDS-HPC/private/projects/dmi/data/tsv_files/tsv_file_0000819.tsv',\n '/data/BIDS-HPC/private/projects/dmi/data/tsv_files/tsv_file_0000820.tsv',\n '/data/BIDS-HPC/private/projects/dmi/data/tsv_files/tsv_file_0000821.tsv',\n '/data/BIDS-HPC/private/projects/dmi/data/tsv_files/tsv_file_0000822.tsv',\n '/data/BIDS-HPC/private/projects/dmi/data/tsv_files/tsv_file_0000823.tsv',\n '/data/BIDS-HPC/private/projects/dmi/data/tsv_files/tsv_file_0000824.tsv',\n '/data/BIDS-HPC/private/projects/dmi/data/tsv_files/tsv_file_0000825.tsv',\n '/data/BIDS-HPC/private/projects/dmi/data/tsv_files/tsv_file_0000826.tsv',\n '/data/BIDS-HPC/private/projects/dmi/data/tsv_files/tsv_file_0000827.tsv',\n '/data/BIDS-HPC/private/projects/dmi/data/tsv_files/tsv_file_0000828.tsv',\n '/data/BIDS-HPC/private/projects/dmi/data/tsv_files/tsv_file_0000829.tsv',\n '/data/BIDS-HPC/private/projects/dmi/data/tsv_files/tsv_file_0000830.tsv',\n '/data/BIDS-HPC/private/projects/dmi/data/tsv_files/tsv_file_0000831.tsv',\n '/data/BIDS-HPC/private/projects/dmi/data/tsv_files/tsv_file_0000832.tsv',\n '/data/BIDS-HPC/private/projects/dmi/data/tsv_files/tsv_file_0000833.tsv',\n '/data/BIDS-HPC/private/projects/dmi/data/tsv_files/tsv_file_0000834.tsv',\n '/data/BIDS-HPC/private/projects/dmi/data/tsv_files/tsv_file_0000835.tsv',\n '/data/BIDS-HPC/private/projects/dmi/data/tsv_files/tsv_file_0000836.tsv',\n '/data/BIDS-HPC/private/projects/dmi/data/tsv_files/tsv_file_0000837.tsv',\n '/data/BIDS-HPC/private/projects/dmi/data/tsv_files/tsv_file_0000838.tsv',\n '/data/BIDS-HPC/private/projects/dmi/data/tsv_files/tsv_file_0000839.tsv',\n '/data/BIDS-HPC/private/projects/dmi/data/tsv_files/tsv_file_0000840.tsv',\n '/data/BIDS-HPC/private/projects/dmi/data/tsv_files/tsv_file_0000841.tsv',\n '/data/BIDS-HPC/private/projects/dmi/data/tsv_files/tsv_file_0000842.tsv',\n '/data/BIDS-HPC/private/projects/dmi/data/tsv_files/tsv_file_0000843.tsv',\n '/data/BIDS-HPC/private/projects/dmi/data/tsv_files/tsv_file_0000844.tsv',\n '/data/BIDS-HPC/private/projects/dmi/data/tsv_files/tsv_file_0000845.tsv',\n '/data/BIDS-HPC/private/projects/dmi/data/tsv_files/tsv_file_0000846.tsv',\n '/data/BIDS-HPC/private/projects/dmi/data/tsv_files/tsv_file_0000847.tsv',\n '/data/BIDS-HPC/private/projects/dmi/data/tsv_files/tsv_file_0000848.tsv',\n '/data/BIDS-HPC/private/projects/dmi/data/tsv_files/tsv_file_0000849.tsv',\n '/data/BIDS-HPC/private/projects/dmi/data/tsv_files/tsv_file_0000850.tsv',\n '/data/BIDS-HPC/private/projects/dmi/data/tsv_files/tsv_file_0000851.tsv',\n '/data/BIDS-HPC/private/projects/dmi/data/tsv_files/tsv_file_0000852.tsv',\n '/data/BIDS-HPC/private/projects/dmi/data/tsv_files/tsv_file_0000853.tsv',\n '/data/BIDS-HPC/private/projects/dmi/data/tsv_files/tsv_file_0000854.tsv',\n '/data/BIDS-HPC/private/projects/dmi/data/tsv_files/tsv_file_0000855.tsv',\n '/data/BIDS-HPC/private/projects/dmi/data/tsv_files/tsv_file_0000856.tsv',\n '/data/BIDS-HPC/private/projects/dmi/data/tsv_files/tsv_file_0000857.tsv',\n '/data/BIDS-HPC/private/projects/dmi/data/tsv_files/tsv_file_0000858.tsv',\n '/data/BIDS-HPC/private/projects/dmi/data/tsv_files/tsv_file_0000859.tsv',\n '/data/BIDS-HPC/private/projects/dmi/data/tsv_files/tsv_file_0000860.tsv',\n '/data/BIDS-HPC/private/projects/dmi/data/tsv_files/tsv_file_0000861.tsv',\n '/data/BIDS-HPC/private/projects/dmi/data/tsv_files/tsv_file_0000862.tsv',\n '/data/BIDS-HPC/private/projects/dmi/data/tsv_files/tsv_file_0000863.tsv',\n '/data/BIDS-HPC/private/projects/dmi/data/tsv_files/tsv_file_0000864.tsv',\n '/data/BIDS-HPC/private/projects/dmi/data/tsv_files/tsv_file_0000865.tsv',\n '/data/BIDS-HPC/private/projects/dmi/data/tsv_files/tsv_file_0000866.tsv',\n '/data/BIDS-HPC/private/projects/dmi/data/tsv_files/tsv_file_0000867.tsv',\n '/data/BIDS-HPC/private/projects/dmi/data/tsv_files/tsv_file_0000868.tsv',\n '/data/BIDS-HPC/private/projects/dmi/data/tsv_files/tsv_file_0000869.tsv',\n '/data/BIDS-HPC/private/projects/dmi/data/tsv_files/tsv_file_0000870.tsv',\n '/data/BIDS-HPC/private/projects/dmi/data/tsv_files/tsv_file_0000871.tsv',\n '/data/BIDS-HPC/private/projects/dmi/data/tsv_files/tsv_file_0000872.tsv',\n '/data/BIDS-HPC/private/projects/dmi/data/tsv_files/tsv_file_0000873.tsv',\n '/data/BIDS-HPC/private/projects/dmi/data/tsv_files/tsv_file_0000874.tsv',\n '/data/BIDS-HPC/private/projects/dmi/data/tsv_files/tsv_file_0000875.tsv',\n '/data/BIDS-HPC/private/projects/dmi/data/tsv_files/tsv_file_0000876.tsv',\n '/data/BIDS-HPC/private/projects/dmi/data/tsv_files/tsv_file_0000877.tsv',\n '/data/BIDS-HPC/private/projects/dmi/data/tsv_files/tsv_file_0000878.tsv',\n '/data/BIDS-HPC/private/projects/dmi/data/tsv_files/tsv_file_0000879.tsv',\n '/data/BIDS-HPC/private/projects/dmi/data/tsv_files/tsv_file_0000880.tsv',\n '/data/BIDS-HPC/private/projects/dmi/data/tsv_files/tsv_file_0000881.tsv',\n '/data/BIDS-HPC/private/projects/dmi/data/tsv_files/tsv_file_0000882.tsv',\n '/data/BIDS-HPC/private/projects/dmi/data/tsv_files/tsv_file_0000883.tsv',\n '/data/BIDS-HPC/private/projects/dmi/data/tsv_files/tsv_file_0000884.tsv',\n '/data/BIDS-HPC/private/projects/dmi/data/tsv_files/tsv_file_0000885.tsv',\n '/data/BIDS-HPC/private/projects/dmi/data/tsv_files/tsv_file_0000886.tsv',\n '/data/BIDS-HPC/private/projects/dmi/data/tsv_files/tsv_file_0000887.tsv',\n '/data/BIDS-HPC/private/projects/dmi/data/tsv_files/tsv_file_0000888.tsv',\n '/data/BIDS-HPC/private/projects/dmi/data/tsv_files/tsv_file_0000889.tsv',\n '/data/BIDS-HPC/private/projects/dmi/data/tsv_files/tsv_file_0000890.tsv',\n '/data/BIDS-HPC/private/projects/dmi/data/tsv_files/tsv_file_0000891.tsv',\n '/data/BIDS-HPC/private/projects/dmi/data/tsv_files/tsv_file_0000892.tsv',\n '/data/BIDS-HPC/private/projects/dmi/data/tsv_files/tsv_file_0000893.tsv',\n '/data/BIDS-HPC/private/projects/dmi/data/tsv_files/tsv_file_0000894.tsv',\n '/data/BIDS-HPC/private/projects/dmi/data/tsv_files/tsv_file_0000895.tsv',\n '/data/BIDS-HPC/private/projects/dmi/data/tsv_files/tsv_file_0000896.tsv',\n '/data/BIDS-HPC/private/projects/dmi/data/tsv_files/tsv_file_0000897.tsv',\n '/data/BIDS-HPC/private/projects/dmi/data/tsv_files/tsv_file_0000898.tsv',\n '/data/BIDS-HPC/private/projects/dmi/data/tsv_files/tsv_file_0000899.tsv',\n '/data/BIDS-HPC/private/projects/dmi/data/tsv_files/tsv_file_0000900.tsv',\n '/data/BIDS-HPC/private/projects/dmi/data/tsv_files/tsv_file_0000901.tsv',\n '/data/BIDS-HPC/private/projects/dmi/data/tsv_files/tsv_file_0000902.tsv',\n '/data/BIDS-HPC/private/projects/dmi/data/tsv_files/tsv_file_0000903.tsv',\n '/data/BIDS-HPC/private/projects/dmi/data/tsv_files/tsv_file_0000904.tsv',\n '/data/BIDS-HPC/private/projects/dmi/data/tsv_files/tsv_file_0000905.tsv',\n '/data/BIDS-HPC/private/projects/dmi/data/tsv_files/tsv_file_0000906.tsv',\n '/data/BIDS-HPC/private/projects/dmi/data/tsv_files/tsv_file_0000907.tsv',\n '/data/BIDS-HPC/private/projects/dmi/data/tsv_files/tsv_file_0000908.tsv',\n '/data/BIDS-HPC/private/projects/dmi/data/tsv_files/tsv_file_0000909.tsv',\n '/data/BIDS-HPC/private/projects/dmi/data/tsv_files/tsv_file_0000910.tsv',\n '/data/BIDS-HPC/private/projects/dmi/data/tsv_files/tsv_file_0000911.tsv',\n '/data/BIDS-HPC/private/projects/dmi/data/tsv_files/tsv_file_0000912.tsv',\n '/data/BIDS-HPC/private/projects/dmi/data/tsv_files/tsv_file_0000913.tsv',\n '/data/BIDS-HPC/private/projects/dmi/data/tsv_files/tsv_file_0000914.tsv',\n '/data/BIDS-HPC/private/projects/dmi/data/tsv_files/tsv_file_0000915.tsv',\n '/data/BIDS-HPC/private/projects/dmi/data/tsv_files/tsv_file_0000916.tsv',\n '/data/BIDS-HPC/private/projects/dmi/data/tsv_files/tsv_file_0000917.tsv',\n '/data/BIDS-HPC/private/projects/dmi/data/tsv_files/tsv_file_0000918.tsv',\n '/data/BIDS-HPC/private/projects/dmi/data/tsv_files/tsv_file_0000919.tsv',\n '/data/BIDS-HPC/private/projects/dmi/data/tsv_files/tsv_file_0000920.tsv',\n '/data/BIDS-HPC/private/projects/dmi/data/tsv_files/tsv_file_0000921.tsv',\n '/data/BIDS-HPC/private/projects/dmi/data/tsv_files/tsv_file_0000922.tsv',\n '/data/BIDS-HPC/private/projects/dmi/data/tsv_files/tsv_file_0000923.tsv',\n '/data/BIDS-HPC/private/projects/dmi/data/tsv_files/tsv_file_0000924.tsv',\n '/data/BIDS-HPC/private/projects/dmi/data/tsv_files/tsv_file_0000925.tsv',\n '/data/BIDS-HPC/private/projects/dmi/data/tsv_files/tsv_file_0000926.tsv',\n '/data/BIDS-HPC/private/projects/dmi/data/tsv_files/tsv_file_0000927.tsv',\n '/data/BIDS-HPC/private/projects/dmi/data/tsv_files/tsv_file_0000928.tsv',\n '/data/BIDS-HPC/private/projects/dmi/data/tsv_files/tsv_file_0000929.tsv',\n '/data/BIDS-HPC/private/projects/dmi/data/tsv_files/tsv_file_0000930.tsv',\n '/data/BIDS-HPC/private/projects/dmi/data/tsv_files/tsv_file_0000931.tsv',\n '/data/BIDS-HPC/private/projects/dmi/data/tsv_files/tsv_file_0000932.tsv',\n '/data/BIDS-HPC/private/projects/dmi/data/tsv_files/tsv_file_0000933.tsv',\n '/data/BIDS-HPC/private/projects/dmi/data/tsv_files/tsv_file_0000934.tsv',\n '/data/BIDS-HPC/private/projects/dmi/data/tsv_files/tsv_file_0000935.tsv',\n '/data/BIDS-HPC/private/projects/dmi/data/tsv_files/tsv_file_0000936.tsv',\n '/data/BIDS-HPC/private/projects/dmi/data/tsv_files/tsv_file_0000937.tsv',\n '/data/BIDS-HPC/private/projects/dmi/data/tsv_files/tsv_file_0000938.tsv',\n '/data/BIDS-HPC/private/projects/dmi/data/tsv_files/tsv_file_0000939.tsv',\n '/data/BIDS-HPC/private/projects/dmi/data/tsv_files/tsv_file_0000940.tsv',\n '/data/BIDS-HPC/private/projects/dmi/data/tsv_files/tsv_file_0000941.tsv',\n '/data/BIDS-HPC/private/projects/dmi/data/tsv_files/tsv_file_0000942.tsv',\n '/data/BIDS-HPC/private/projects/dmi/data/tsv_files/tsv_file_0000943.tsv',\n '/data/BIDS-HPC/private/projects/dmi/data/tsv_files/tsv_file_0000944.tsv',\n '/data/BIDS-HPC/private/projects/dmi/data/tsv_files/tsv_file_0000945.tsv',\n '/data/BIDS-HPC/private/projects/dmi/data/tsv_files/tsv_file_0000946.tsv',\n '/data/BIDS-HPC/private/projects/dmi/data/tsv_files/tsv_file_0000947.tsv',\n '/data/BIDS-HPC/private/projects/dmi/data/tsv_files/tsv_file_0000948.tsv',\n '/data/BIDS-HPC/private/projects/dmi/data/tsv_files/tsv_file_0000949.tsv',\n '/data/BIDS-HPC/private/projects/dmi/data/tsv_files/tsv_file_0000950.tsv',\n '/data/BIDS-HPC/private/projects/dmi/data/tsv_files/tsv_file_0000951.tsv',\n '/data/BIDS-HPC/private/projects/dmi/data/tsv_files/tsv_file_0000952.tsv',\n '/data/BIDS-HPC/private/projects/dmi/data/tsv_files/tsv_file_0000953.tsv',\n '/data/BIDS-HPC/private/projects/dmi/data/tsv_files/tsv_file_0000954.tsv',\n '/data/BIDS-HPC/private/projects/dmi/data/tsv_files/tsv_file_0000955.tsv',\n '/data/BIDS-HPC/private/projects/dmi/data/tsv_files/tsv_file_0000956.tsv',\n '/data/BIDS-HPC/private/projects/dmi/data/tsv_files/tsv_file_0000957.tsv',\n '/data/BIDS-HPC/private/projects/dmi/data/tsv_files/tsv_file_0000958.tsv',\n '/data/BIDS-HPC/private/projects/dmi/data/tsv_files/tsv_file_0000959.tsv',\n '/data/BIDS-HPC/private/projects/dmi/data/tsv_files/tsv_file_0000960.tsv',\n '/data/BIDS-HPC/private/projects/dmi/data/tsv_files/tsv_file_0000961.tsv',\n '/data/BIDS-HPC/private/projects/dmi/data/tsv_files/tsv_file_0000962.tsv',\n '/data/BIDS-HPC/private/projects/dmi/data/tsv_files/tsv_file_0000963.tsv',\n '/data/BIDS-HPC/private/projects/dmi/data/tsv_files/tsv_file_0000964.tsv',\n '/data/BIDS-HPC/private/projects/dmi/data/tsv_files/tsv_file_0000965.tsv',\n '/data/BIDS-HPC/private/projects/dmi/data/tsv_files/tsv_file_0000966.tsv',\n '/data/BIDS-HPC/private/projects/dmi/data/tsv_files/tsv_file_0000967.tsv',\n '/data/BIDS-HPC/private/projects/dmi/data/tsv_files/tsv_file_0000968.tsv',\n '/data/BIDS-HPC/private/projects/dmi/data/tsv_files/tsv_file_0000969.tsv',\n '/data/BIDS-HPC/private/projects/dmi/data/tsv_files/tsv_file_0000970.tsv',\n '/data/BIDS-HPC/private/projects/dmi/data/tsv_files/tsv_file_0000971.tsv',\n '/data/BIDS-HPC/private/projects/dmi/data/tsv_files/tsv_file_0000972.tsv',\n '/data/BIDS-HPC/private/projects/dmi/data/tsv_files/tsv_file_0000973.tsv',\n '/data/BIDS-HPC/private/projects/dmi/data/tsv_files/tsv_file_0000974.tsv',\n '/data/BIDS-HPC/private/projects/dmi/data/tsv_files/tsv_file_0000975.tsv',\n '/data/BIDS-HPC/private/projects/dmi/data/tsv_files/tsv_file_0000976.tsv',\n '/data/BIDS-HPC/private/projects/dmi/data/tsv_files/tsv_file_0000977.tsv',\n '/data/BIDS-HPC/private/projects/dmi/data/tsv_files/tsv_file_0000978.tsv',\n '/data/BIDS-HPC/private/projects/dmi/data/tsv_files/tsv_file_0000979.tsv',\n '/data/BIDS-HPC/private/projects/dmi/data/tsv_files/tsv_file_0000980.tsv',\n '/data/BIDS-HPC/private/projects/dmi/data/tsv_files/tsv_file_0000981.tsv',\n '/data/BIDS-HPC/private/projects/dmi/data/tsv_files/tsv_file_0000982.tsv',\n '/data/BIDS-HPC/private/projects/dmi/data/tsv_files/tsv_file_0000983.tsv',\n '/data/BIDS-HPC/private/projects/dmi/data/tsv_files/tsv_file_0000984.tsv',\n '/data/BIDS-HPC/private/projects/dmi/data/tsv_files/tsv_file_0000985.tsv',\n '/data/BIDS-HPC/private/projects/dmi/data/tsv_files/tsv_file_0000986.tsv',\n '/data/BIDS-HPC/private/projects/dmi/data/tsv_files/tsv_file_0000987.tsv',\n '/data/BIDS-HPC/private/projects/dmi/data/tsv_files/tsv_file_0000988.tsv',\n '/data/BIDS-HPC/private/projects/dmi/data/tsv_files/tsv_file_0000989.tsv',\n '/data/BIDS-HPC/private/projects/dmi/data/tsv_files/tsv_file_0000990.tsv',\n '/data/BIDS-HPC/private/projects/dmi/data/tsv_files/tsv_file_0000991.tsv',\n '/data/BIDS-HPC/private/projects/dmi/data/tsv_files/tsv_file_0000992.tsv',\n '/data/BIDS-HPC/private/projects/dmi/data/tsv_files/tsv_file_0000993.tsv',\n '/data/BIDS-HPC/private/projects/dmi/data/tsv_files/tsv_file_0000994.tsv',\n '/data/BIDS-HPC/private/projects/dmi/data/tsv_files/tsv_file_0000995.tsv',\n '/data/BIDS-HPC/private/projects/dmi/data/tsv_files/tsv_file_0000996.tsv',\n '/data/BIDS-HPC/private/projects/dmi/data/tsv_files/tsv_file_0000997.tsv',\n '/data/BIDS-HPC/private/projects/dmi/data/tsv_files/tsv_file_0000998.tsv',\n '/data/BIDS-HPC/private/projects/dmi/data/tsv_files/tsv_file_0000999.tsv',\n ...]"
     },
     "metadata": {},
     "execution_count": 30
    }
   ],
   "source": [
    "metadata['filedata']['tsv_files']"
   ]
  },
  {
   "cell_type": "code",
   "execution_count": 84,
   "metadata": {},
   "outputs": [],
   "source": [
    "import pandas as pd\n",
    "lookup = pd.DataFrame(columns=['id', 'id_version', 'biotype', 'tsv_file'])\n",
    "\n",
    "# These TSV files were generated using the make_tsv_files_for_lookup_table() function in the .sh library\n",
    "# lookup = tc.add_tsv_file_to_lookup(lookup, '/data/BIDS-HPC/private/projects/dmi/data/processed_files_for_lookup/main_38.tsv')\n",
    "# lookup = tc.add_tsv_file_to_lookup(lookup, '/data/BIDS-HPC/private/projects/dmi/data/processed_files_for_lookup/xref_38-entrez.tsv')\n",
    "# lookup = tc.add_tsv_file_to_lookup(lookup, '/data/BIDS-HPC/private/projects/dmi/data/processed_files_for_lookup/xref_38-refseq.tsv')\n",
    "# lookup = tc.add_tsv_file_to_lookup(lookup, '/data/BIDS-HPC/private/projects/dmi/data/processed_files_for_lookup/xref_38-ena.tsv')\n",
    "# lookup = tc.add_tsv_file_to_lookup(lookup, '/data/BIDS-HPC/private/projects/dmi/data/processed_files_for_lookup/xref_38-uniprot.tsv')\n",
    "# lookup = tc.add_tsv_file_to_lookup(lookup, '/data/BIDS-HPC/private/projects/dmi/data/processed_files_for_lookup/main_37.tsv')\n",
    "# lookup = tc.add_tsv_file_to_lookup(lookup, '/data/BIDS-HPC/private/projects/dmi/data/processed_files_for_lookup/main_38-80.tsv')\n",
    "# lookup = tc.add_tsv_file_to_lookup(lookup, '/data/BIDS-HPC/private/projects/dmi/data/processed_files_for_lookup/xref_37-ena.tsv')\n",
    "# lookup = tc.add_tsv_file_to_lookup(lookup, '/data/BIDS-HPC/private/projects/dmi/data/processed_files_for_lookup/xref_37-uniprot.tsv')\n",
    "lookup = tc.add_tsv_file_to_lookup(lookup, '/home/weismanal/notebook/2020-06-01/dmi/processed/main_37-82.tsv')\n",
    "lookup = tc.add_tsv_file_to_lookup(lookup, '/home/weismanal/notebook/2020-06-01/dmi/processed/main_37-85.tsv')\n",
    "lookup = tc.add_tsv_file_to_lookup(lookup, '/home/weismanal/notebook/2020-06-01/dmi/processed/main_37-87.tsv')\n",
    "lookup = tc.add_tsv_file_to_lookup(lookup, '/home/weismanal/notebook/2020-06-01/dmi/processed/main_38-100.tsv')\n",
    "lookup = tc.add_tsv_file_to_lookup(lookup, '/home/weismanal/notebook/2020-06-01/dmi/processed/main_38-76.tsv')\n",
    "lookup = tc.add_tsv_file_to_lookup(lookup, '/home/weismanal/notebook/2020-06-01/dmi/processed/main_38-77.tsv')\n",
    "lookup = tc.add_tsv_file_to_lookup(lookup, '/home/weismanal/notebook/2020-06-01/dmi/processed/main_38-78.tsv')\n",
    "lookup = tc.add_tsv_file_to_lookup(lookup, '/home/weismanal/notebook/2020-06-01/dmi/processed/main_38-79.tsv')\n",
    "lookup = tc.add_tsv_file_to_lookup(lookup, '/home/weismanal/notebook/2020-06-01/dmi/processed/main_38-80.tsv')\n",
    "lookup = tc.add_tsv_file_to_lookup(lookup, '/home/weismanal/notebook/2020-06-01/dmi/processed/main_38-81.tsv')\n",
    "lookup = tc.add_tsv_file_to_lookup(lookup, '/home/weismanal/notebook/2020-06-01/dmi/processed/main_38-82.tsv')\n",
    "lookup = tc.add_tsv_file_to_lookup(lookup, '/home/weismanal/notebook/2020-06-01/dmi/processed/main_38-83.tsv')\n",
    "lookup = tc.add_tsv_file_to_lookup(lookup, '/home/weismanal/notebook/2020-06-01/dmi/processed/main_38-84.tsv')\n",
    "lookup = tc.add_tsv_file_to_lookup(lookup, '/home/weismanal/notebook/2020-06-01/dmi/processed/main_38-85.tsv')\n",
    "lookup = tc.add_tsv_file_to_lookup(lookup, '/home/weismanal/notebook/2020-06-01/dmi/processed/main_38-86.tsv')\n",
    "lookup = tc.add_tsv_file_to_lookup(lookup, '/home/weismanal/notebook/2020-06-01/dmi/processed/main_38-87.tsv')\n",
    "lookup = tc.add_tsv_file_to_lookup(lookup, '/home/weismanal/notebook/2020-06-01/dmi/processed/main_38-88.tsv')\n",
    "lookup = tc.add_tsv_file_to_lookup(lookup, '/home/weismanal/notebook/2020-06-01/dmi/processed/main_38-89.tsv')\n",
    "lookup = tc.add_tsv_file_to_lookup(lookup, '/home/weismanal/notebook/2020-06-01/dmi/processed/main_38-90.tsv')\n",
    "lookup = tc.add_tsv_file_to_lookup(lookup, '/home/weismanal/notebook/2020-06-01/dmi/processed/main_38-91.tsv')\n",
    "lookup = tc.add_tsv_file_to_lookup(lookup, '/home/weismanal/notebook/2020-06-01/dmi/processed/main_38-92.tsv')\n",
    "lookup = tc.add_tsv_file_to_lookup(lookup, '/home/weismanal/notebook/2020-06-01/dmi/processed/main_38-93.tsv')\n",
    "lookup = tc.add_tsv_file_to_lookup(lookup, '/home/weismanal/notebook/2020-06-01/dmi/processed/main_38-94.tsv')\n",
    "lookup = tc.add_tsv_file_to_lookup(lookup, '/home/weismanal/notebook/2020-06-01/dmi/processed/main_38-95.tsv')\n",
    "lookup = tc.add_tsv_file_to_lookup(lookup, '/home/weismanal/notebook/2020-06-01/dmi/processed/main_38-96.tsv')\n",
    "lookup = tc.add_tsv_file_to_lookup(lookup, '/home/weismanal/notebook/2020-06-01/dmi/processed/main_38-97.tsv')\n",
    "lookup = tc.add_tsv_file_to_lookup(lookup, '/home/weismanal/notebook/2020-06-01/dmi/processed/main_38-98.tsv')\n",
    "lookup = tc.add_tsv_file_to_lookup(lookup, '/home/weismanal/notebook/2020-06-01/dmi/processed/main_38-99.tsv')\n",
    "\n",
    "import pandas as pd\n",
    "unique_gene_names = pd.read_csv('/data/BIDS-HPC/private/projects/dmi/data/unique_best_gene_names_uppercase.txt', names=['name'])\n",
    "remainder = set(unique_gene_names['name']) - set(lookup.index)"
   ]
  },
  {
   "cell_type": "code",
   "execution_count": 50,
   "metadata": {},
   "outputs": [],
   "source": [
    "#set([x[0] for x in symbol_lookup_list]+[x[0] for x in id_lookup_list]) == set(unique_gene_names['name']) # this says that I'm starting with the same 128,610 unknowns\n",
    "# Now: Which ones are identified?\n",
    "identified_before = []\n",
    "for x in symbol_lookup_list+id_lookup_list:\n",
    "    if x[1] is not None:\n",
    "        identified_before.append(x[0])\n",
    "identified_before = set(identified_before)\n",
    "\n",
    "\n",
    "# known = set(['a','b','c','d','e'])\n",
    "# test = set(['b','f','d','g'])\n",
    "known = set(lookup.index)\n",
    "test = set(unique_gene_names['name'])\n",
    "len(known) - len(known-test) # this many are known\n",
    "identified_after = known - (known-test) # these ones of the test set are known\n",
    "# identified_after = []\n",
    "# for item in test:\n",
    "#     if item in known:\n",
    "#         identified_after.append(item)\n",
    "# set(identified_after) == x\n",
    "\n",
    "#identified_before - identified_after"
   ]
  },
  {
   "cell_type": "code",
   "execution_count": 85,
   "metadata": {},
   "outputs": [
    {
     "output_type": "execute_result",
     "data": {
      "text/plain": "1819"
     },
     "metadata": {},
     "execution_count": 85
    }
   ],
   "source": [
    "test2 = set(data_lookup['id'][data_lookup['id'].notnull()].index) - identified_before # if these are all already identified, then I can trust that xref is practically just looking at old gene names, not other DBs\n",
    "known = set(lookup.index)\n",
    "len(known) - len(known-test2) # this many are known... well it's 1819 not 2514, so xref is doing more than just looking at old gene names probably, unless I don't have all old names in my dataset still, i.e., PIs are using still older gene names\n",
    "\n",
    "# Next up: Run xref on the 15240 remainder gene names; see whether the old (in Main part of notebook) or the new (in Scratch part) methods are more comprehensive and choose that (or modified version of) which is the most comprehensive as possible, write it up, and move on!"
   ]
  },
  {
   "cell_type": "code",
   "execution_count": 3,
   "metadata": {},
   "outputs": [
    {
     "output_type": "execute_result",
     "data": {
      "text/plain": "128610"
     },
     "metadata": {},
     "execution_count": 3
    }
   ],
   "source": [
    "len(set(unique_gene_names['name']))"
   ]
  },
  {
   "cell_type": "code",
   "execution_count": 19,
   "metadata": {},
   "outputs": [
    {
     "output_type": "execute_result",
     "data": {
      "text/plain": "{'IGKV2D-19',\n 'ENSG00000033011',\n 'ENSG00000272494',\n 'LINC01204',\n 'PTDSS2',\n 'ENSG00000285628',\n 'ENSG00000168757',\n 'TTTY5',\n 'HNRNPA1P32',\n 'PTCRA',\n 'PSMD10',\n 'ENSG00000266933',\n 'ENSG00000225647',\n 'ENSG00000245970',\n 'ENSG00000280139',\n 'ENSG00000110492',\n 'PHF21B',\n 'ENSG00000252218',\n 'ENSG00000235029',\n 'ENSG00000261642',\n 'SLC46A1',\n 'ENSG00000284704',\n 'SPON2',\n 'ING3',\n 'ENSG00000254383',\n 'MYO19',\n 'ENSG00000260032',\n 'ENSG00000268199',\n 'ENSG00000222033',\n 'ENSG00000231095',\n 'ENSG00000272137',\n 'ENSG00000224155',\n 'ENSG00000224622',\n 'ENSG00000287569',\n 'ENSG00000160256',\n 'ENSG00000274923',\n 'ENSG00000234546',\n 'ENSG00000228960',\n 'ENSG00000280025',\n 'ATP6V1FNB',\n 'EEF1AKMT2',\n 'AC010745.4',\n 'ENSG00000211699',\n 'ENSG00000222791',\n 'ENSG00000276916',\n 'ENSG00000266530',\n 'ENSG00000127774',\n 'ASAP1-IT2',\n 'ENSG00000200029',\n 'WIZ',\n 'ENPP7P9',\n 'ENSG00000225509',\n 'ENSG00000197769',\n 'ENSG00000237992',\n 'ENSG00000204437',\n 'AC009220.2',\n 'RPSAP5',\n 'AL353593.2',\n 'ENSG00000236871',\n 'ENSG00000261569',\n 'AL359220.1',\n 'LINC02030',\n 'IGKV1D-42',\n 'LINC01500',\n 'AC105396.1',\n 'ENSG00000201775',\n 'ENSG00000285623',\n 'RXYLT1',\n 'STPG3-AS1',\n 'INA',\n 'ENSG00000218766',\n 'ENSG00000253525',\n 'ENSG00000257905',\n 'ENSG00000206129',\n 'NDUFAF2P2',\n 'AC123904.3',\n 'NFE2L1',\n 'ENSG00000215601',\n 'ENSG00000235533',\n 'AC068213.1',\n 'ENSG00000288064',\n 'SPRYD3',\n 'RBMY2TP',\n 'LINC01962',\n 'ENSG00000166471',\n 'ENSG00000144366',\n 'ENSG00000279914',\n 'ENSG00000234838',\n 'ENSG00000275772',\n 'ENSG00000257494',\n 'ENSG00000223496',\n 'AC136604.2',\n 'ENSG00000268589',\n 'AC117532.1',\n 'ENSG00000171169',\n 'AC010883.2',\n 'AL355488.1',\n 'AL139811.3',\n 'ENSG00000223060',\n 'ENSG00000285412',\n 'ENSG00000233381',\n 'ENSG00000274919',\n 'AC105343.1',\n 'MIPEPP3',\n 'AL357033.2',\n 'MEGF11',\n 'AC027607.1',\n 'AC239367.1',\n 'AC027088.5',\n 'ENSG00000223197',\n 'ENSG00000227227',\n 'ENSG00000256851',\n 'AC079163.1',\n 'AC124864.1',\n 'ENSG00000242353',\n 'ENSG00000101945',\n 'ABHD10',\n 'AC025947.1',\n 'TNFSF11',\n 'AC239802.1',\n 'ENSG00000233581',\n 'ENSG00000285554',\n 'ENSG00000252868',\n 'AC120057.1',\n 'AC025265.2',\n 'A4GNT',\n 'AC093772.2',\n 'DCAF15',\n 'ENSG00000186009',\n 'ENSG00000196436',\n 'XRCC6P5',\n 'PDCL2P1',\n 'AP002840.2',\n 'ENSG00000253849',\n 'AC009511.3',\n 'ENSG00000283845',\n 'AC015688.2',\n 'MIR10A',\n 'ENSG00000236521',\n 'ENSG00000275278',\n 'SRP14-AS1',\n 'ENSG00000280096',\n 'ENSG00000285897',\n 'ENSG00000256441',\n 'ENSG00000254930',\n 'RNU6-526P',\n 'ENSG00000202521',\n 'LINC01361',\n 'AL022328.3',\n 'ENSG00000221494',\n 'ENSG00000164740',\n 'AP003785.1',\n 'AC006128.1',\n 'ENSG00000250185',\n 'CR1L',\n 'AC021193.1',\n 'ENSG00000223076',\n 'RN7SKP166',\n 'ATP5F1EP2',\n 'AC020915.1',\n 'RNU6-274P',\n 'ENSG00000229926',\n 'ENSG00000107669',\n 'ENSG00000270228',\n 'ENSG00000228679',\n 'ENSG00000006059',\n 'ENSG00000228594',\n 'ENSG00000250721',\n 'ENSG00000236080',\n 'ENSG00000200790',\n 'AC105941.1',\n 'IL20',\n 'RPE',\n 'AL133493.2',\n 'ENSG00000249754',\n 'DAZ4',\n 'ENSG00000257335',\n 'ENSG00000224602',\n 'PAPSS2',\n 'MIR1270',\n 'AC090695.2',\n 'ENSG00000240764',\n 'ENSG00000223959',\n 'ENSG00000252722',\n 'ENSG00000286001',\n 'ENSG00000263720',\n 'ENSG00000146828',\n 'ENSG00000104805',\n 'H2BC4',\n 'ENSG00000284135',\n 'TRGJ1',\n 'SNORA5B',\n 'MANSC1',\n 'AC022336.2',\n 'RN7SKP179',\n 'ENSG00000278897',\n 'ENSG00000278381',\n 'AC104640.1',\n 'AC107890.1',\n 'ENSG00000197934',\n 'SNRPGP7',\n 'ENSG00000232344',\n 'HSPE1P25',\n 'DUSP15',\n 'ENSG00000144227',\n 'ZBTB16',\n 'ENSG00000282122',\n 'ENSG00000227924',\n 'ENSG00000252821',\n 'ENSG00000280090',\n 'RNA5SP344',\n 'AC116353.1',\n 'MB',\n 'AC079298.1',\n 'AL606807.1',\n 'ENSG00000249286',\n 'ENSG00000207001',\n 'ENSG00000248591',\n 'SNORD43',\n 'AC006158.1',\n 'RNU6-446P',\n 'AL022323.2',\n 'AL137018.1',\n 'ENSG00000253702',\n 'GGNBP2',\n 'ENSG00000258343',\n 'ZNF781',\n 'ENSG00000251841',\n 'OLMALINC',\n 'ENSG00000251088',\n 'AC114977.2',\n 'RPL41',\n 'ENSG00000161681',\n 'COX5B',\n 'SLC35E3',\n 'ENSG00000224674',\n 'ENSG00000081320',\n 'CR383656.5',\n 'AL160269.1',\n 'AC114980.1',\n 'PLEKHJ1',\n 'AL357080.1',\n 'ENSG00000231184',\n 'ENSG00000223765',\n 'RN7SKP257',\n 'ENSG00000241280',\n 'ENSG00000255650',\n 'ENSG00000202300',\n 'ENSG00000206669',\n 'TRAV8-6',\n 'XKR9',\n 'ENSG00000249893',\n 'ENSG00000124091',\n 'ENSG00000097046',\n 'ENSG00000182625',\n 'ENSG00000287725',\n 'TIMM21',\n 'LINC01152',\n 'ENSG00000232296',\n 'ENSG00000255266',\n 'AC073592.2',\n 'MRPL43',\n 'ENSG00000265450',\n 'ENSG00000224583',\n 'ENSG00000272986',\n 'ATP5MC2P4',\n 'ENSG00000128965',\n 'ENSG00000272160',\n 'AC119751.1',\n 'WDR43',\n 'ENSG00000172382',\n 'AC139667.1',\n 'MIR4528',\n 'ENSG00000271538',\n 'FRMD6-AS1',\n 'ENSG00000233107',\n 'ENSG00000036549',\n 'ENSG00000163378',\n 'RNA5SP421',\n 'ENSG00000215117',\n 'AC117944.1',\n 'AC079248.1',\n 'ENSG00000251014',\n 'ENSG00000261019',\n 'CHORDC1P3',\n 'RPL7AP6',\n 'AL353770.3',\n 'ENSG00000125851',\n 'MIR346',\n 'AC063926.3',\n 'SIK1B',\n 'ENSG00000268366',\n 'AP001021.2',\n 'ENSG00000285854',\n 'ENSG00000239552',\n 'ENSG00000166436',\n 'ENSG00000260412',\n 'ENSG00000239003',\n 'AF129408.2',\n 'ENSG00000237540',\n 'AC091685.1',\n 'ENSG00000240868',\n 'ERVFRD-3',\n 'GNG8',\n 'TYMSP2',\n 'ENSG00000142632',\n 'ENSG00000256661',\n 'MIR4444-1',\n 'AC021424.1',\n 'AL359751.1',\n 'ENSG00000238906',\n 'ENSG00000284186',\n 'AC114798.1',\n 'ZNF823',\n 'ENSG00000233003',\n 'AL118496.2',\n 'ENSG00000207359',\n 'ENSG00000254833',\n 'PES1P1',\n 'ABI3',\n 'ENSG00000137563',\n 'ENSG00000183251',\n 'MIR873',\n 'ENSG00000236543',\n 'SLFN12',\n 'ENSG00000100129',\n 'MIR3200',\n 'MIR3065',\n 'ENSG00000132694',\n 'ENSG00000207251',\n 'ENSG00000225205',\n 'MIR3179-4',\n 'AC068014.1',\n 'SNORA15B-1',\n 'AC027419.1',\n 'E2F3',\n 'Z99774.1',\n 'ENSG00000244052',\n 'ENSG00000177257',\n 'OR4Q1P',\n 'ENSG00000259306',\n 'CTSO',\n 'TENT4A',\n 'ENSG00000186723',\n 'AP004247.1',\n 'AC002451.2',\n 'ENSG00000271848',\n 'SERBP1P3',\n 'AL158032.2',\n 'AC007336.2',\n 'ENSG00000258915',\n 'HMGB1P7',\n 'CDH3',\n 'ENSG00000184530',\n 'AL137127.1',\n 'ENSG00000278918',\n 'TRMT112',\n 'AC073109.1',\n 'ENSG00000265144',\n 'KIAA0087',\n 'COPS8P3',\n 'ENSG00000283940',\n 'AP001439.1',\n 'ENSG00000108950',\n 'ENSG00000253404',\n 'ENSG00000253955',\n 'ENSG00000093100',\n 'ENSG00000272822',\n 'ENSG00000099995',\n 'MIR4330',\n 'ENSG00000200142',\n 'AL713922.2',\n 'TRIM60P8Y',\n 'ENSG00000286896',\n 'ENSG00000202490',\n 'AC096922.1',\n 'AC041040.1',\n 'ENSG00000187650',\n 'AC009055.1',\n 'ENSG00000232124',\n 'ENSG00000234429',\n 'ENSG00000121058',\n 'CHCHD4P5',\n 'ENSG00000225815',\n 'AC022447.3',\n 'ENSG00000166167',\n 'PAIP1',\n 'C18ORF54',\n 'AC034228.2',\n 'SNRPCP19',\n 'ENSG00000184022',\n 'ENSG00000175470',\n 'ENSG00000283117',\n 'ENSG00000135503',\n 'AL162376.1',\n 'PPP2R2D',\n 'TAP1',\n 'AC106754.2',\n 'PFN1P9',\n 'ENSG00000252689',\n 'ARFIP1',\n 'ENSG00000007516',\n 'AC090888.2',\n 'RNU6-14P',\n 'ENSG00000225192',\n 'ENSG00000253290',\n 'ENSG00000214784',\n 'ENSG00000285709',\n 'OR5K3',\n 'ENSG00000188306',\n 'AL365396.1',\n 'SERPINA15P',\n 'AL139353.1',\n 'KRT126P',\n 'ENSG00000069812',\n 'ENSG00000254811',\n 'AC108752.1',\n 'AL591499.1',\n 'ENSG00000269910',\n 'ENSG00000156869',\n 'ENSG00000138246',\n 'TRMT10A',\n 'ENSG00000287843',\n 'ENSG00000167395',\n 'ENSG00000287910',\n 'RN7SKP292',\n 'AC018371.2',\n 'AC104316.1',\n 'AC007269.1',\n 'RNU6-1054P',\n 'AC005597.1',\n 'ENSG00000254186',\n 'ENSG00000188761',\n 'ENSG00000265380',\n 'ENSG00000287047',\n 'ATRN',\n 'ENSG00000230377',\n 'ENSG00000259133',\n 'ZNRF3-AS1',\n 'SLC30A4',\n 'SH3GL2',\n 'PMEPA1',\n 'AC018692.3',\n 'ENSG00000143543',\n 'MIR4432',\n 'PPT2',\n 'ENSG00000270371',\n 'SNORD11',\n 'AC073878.2',\n 'ENSG00000200610',\n 'FGF7P6',\n 'AC016027.1',\n 'ENSG00000233196',\n 'HIGD1AP8',\n 'ENSG00000217385',\n 'ENSG00000260850',\n 'ENSG00000197210',\n 'AC007993.3',\n 'ENSG00000172940',\n 'ENSG00000091542',\n 'AC084125.3',\n 'RNA5SP486',\n 'CCDC47',\n 'ENSG00000200832',\n 'AC012400.1',\n 'AL356583.2',\n 'RHBDF1',\n 'ENSG00000130939',\n 'ENSG00000207200',\n 'LINC01961',\n 'AC112695.1',\n 'ENSG00000206688',\n 'ENSG00000211665',\n 'AP003721.2',\n 'ENSG00000223001',\n 'ENSG00000072778',\n 'AC025588.2',\n 'ENSG00000267717',\n 'PRAMEF36P',\n 'CCDC28A-AS1',\n 'LHX5-AS1',\n 'ENSG00000285711',\n 'ENSG00000218870',\n 'YIPF3',\n 'ENSG00000201825',\n 'ENSG00000236320',\n 'ENSG00000235705',\n 'ENSG00000215127',\n 'CAPN15',\n 'IFNA16',\n 'ENSG00000101057',\n 'ENSG00000228120',\n 'ENSG00000244503',\n 'ENSG00000145390',\n 'ENSG00000068971',\n 'STPG2',\n 'ENSG00000140478',\n 'ENSG00000257162',\n 'PRELID3BP10',\n 'AC106712.2',\n 'MIR578',\n 'AC109458.1',\n 'ENSG00000258960',\n 'ENSG00000241868',\n 'HMGB1',\n 'MTATP6P27',\n 'AC021016.1',\n 'ENSG00000273213',\n 'INHBC',\n 'ENSG00000199121',\n 'ENSG00000237361',\n 'ENSG00000231619',\n 'AC140121.1',\n 'ENSG00000257504',\n 'ENSG00000275239',\n 'PAPLN',\n 'ENSG00000231152',\n 'FXYD1',\n 'ENSG00000281131',\n 'GOLGA8DP',\n 'AL606804.2',\n 'AC008592.4',\n 'LGALS7B',\n 'ENSG00000166598',\n 'SNORD114-2',\n 'ENSG00000258171',\n 'ENSG00000151690',\n 'BX293995.1',\n 'HAGH',\n 'SH3GL1P2',\n 'ENSG00000265818',\n 'AATF',\n 'AC004156.1',\n 'C8B',\n 'AC024082.2',\n 'SLC22A10',\n 'ENSG00000241475',\n 'AC073283.1',\n 'UCHL1-AS1',\n 'ENSG00000104953',\n 'MRPS11P1',\n 'ARL4C',\n 'CXCL13',\n 'RNU6-1176P',\n 'ENSG00000237752',\n 'ZNF92P1Y',\n 'TAAR3P',\n 'RANP7',\n 'LINC01974',\n 'ENSG00000257113',\n 'ETV5',\n 'AC097634.1',\n 'AC120045.3',\n 'ENSG00000184478',\n 'AC105148.1',\n 'CXORF38',\n 'AC010646.1',\n 'ENSG00000212295',\n 'ENSG00000236834',\n 'OR51C4P',\n 'ENSG00000136999',\n 'GOLGA8B',\n 'ENSG00000146054',\n 'ENSG00000006016',\n 'HMGB3P24',\n 'CATSPER2P1',\n 'CYP19A1',\n 'LINC01228',\n 'ENSG00000197872',\n 'ENSG00000167377',\n 'WDPCP',\n 'ENSG00000008516',\n 'AL355303.2',\n 'AC005515.1',\n 'ENSG00000260681',\n 'ACTN2',\n 'MIR4273',\n 'RPL30P5',\n 'RN7SL559P',\n 'ENSG00000273437',\n 'RNU6-811P',\n 'ENSG00000255452',\n 'PELI2',\n 'AC010486.2',\n 'ENSG00000250992',\n 'ENSG00000287131',\n 'SNX27',\n 'ENSG00000235361',\n 'CLCN4',\n 'AC106793.1',\n 'ENSG00000234519',\n 'ENSG00000279021',\n 'ENSG00000262898',\n 'PPM1F',\n 'SNCA',\n 'ENSG00000228089',\n 'AL392103.1',\n 'TSPAN31',\n 'AC092279.1',\n 'ENSG00000182261',\n 'CYP11A1',\n 'ENSG00000280021',\n 'ENSG00000232281',\n 'DRD5P1',\n 'ENSG00000281039',\n 'ENSG00000261526',\n 'HMMR-AS1',\n 'ENSG00000224918',\n 'FLNA',\n 'ENSG00000104371',\n 'ENSG00000212534',\n 'ENSG00000233876',\n 'ENSG00000175513',\n 'ENSG00000254417',\n 'ENSG00000283025',\n 'ENSG00000136152',\n 'AC090912.3',\n 'AC061708.1',\n 'ENSG00000169164',\n 'ENSG00000259324',\n 'ENSG00000212933',\n 'DRD5P2',\n 'AC055733.3',\n 'ENSG00000007376',\n 'ENSG00000260266',\n 'ENSG00000223791',\n 'AL353804.5',\n 'AL158062.1',\n 'ENSG00000272195',\n 'ENSG00000204435',\n 'LINC01690',\n 'ENSG00000235408',\n 'ENSG00000088035',\n 'ENSG00000249863',\n 'AP001533.1',\n 'ENSG00000270885',\n 'ENSG00000137441',\n 'ENSG00000250506',\n 'ENSG00000232560',\n 'ENSG00000215873',\n 'ENSG00000287728',\n 'ENSG00000185684',\n 'SLC35A4',\n 'AC064874.1',\n 'PTPN3',\n 'ENSG00000259985',\n 'ENSG00000198121',\n 'ENSG00000203870',\n 'AF124730.2',\n 'ENSG00000124003',\n 'MT-CO1',\n 'BX664727.2',\n 'RNY4P25',\n 'EBP',\n 'ENSG00000207780',\n 'ENSG00000272543',\n 'AL008721.1',\n 'AL162582.1',\n 'AP000472.1',\n 'AL096701.4',\n 'ENSG00000229696',\n 'ENSG00000201363',\n 'ENSG00000286456',\n 'MIR589',\n 'MTATP6P20',\n 'ENSG00000187918',\n 'ENSG00000196189',\n 'ZNF420',\n 'AC011495.3',\n 'ENSG00000034713',\n 'ENSG00000215373',\n 'ENSG00000172900',\n 'ENSG00000201113',\n 'AC024451.1',\n 'ANKRD6',\n 'CPOX',\n 'TSPOAP1-AS1',\n 'ENSG00000162734',\n 'POLR2LP1',\n 'AC118344.3',\n 'AC003072.1',\n 'ENSG00000257557',\n 'ENSG00000286647',\n 'ENSG00000232393',\n 'AL132656.2',\n 'ENSG00000231396',\n 'ENSG00000284280',\n 'ENSG00000111875',\n 'ENSG00000215269',\n 'ENSG00000265625',\n 'ENSG00000250387',\n 'ENSG00000240590',\n 'ENSG00000131470',\n 'RNU6-312P',\n 'ENSG00000230712',\n 'SUCLA2P1',\n 'RPL39',\n 'AK3P5',\n 'AC130462.2',\n 'ENAH',\n 'ENSG00000271361',\n 'ENSG00000131069',\n 'TOMM22',\n 'ANGPTL2',\n 'ENSG00000207933',\n 'ENSG00000240411',\n 'ENSG00000211846',\n 'ENSG00000183807',\n 'ENSG00000166887',\n 'ENSG00000182541',\n 'AC004946.1',\n 'ENSG00000200274',\n 'ENSG00000277893',\n 'MIR181A1HG',\n 'ENSG00000229261',\n 'ENSG00000205786',\n 'AL023574.1',\n 'AL589642.1',\n 'ENSG00000162999',\n 'PPP1R2P10',\n 'FBXO11',\n 'ENSG00000224374',\n 'ENSG00000253747',\n 'EIF3M',\n 'REG4',\n 'SDHCP3',\n 'AC096582.1',\n 'AC010343.3',\n 'AC073578.3',\n 'AL513320.1',\n 'ENSG00000207402',\n 'ENSG00000117472',\n 'ENSG00000228301',\n 'ENSG00000224506',\n 'C1ORF50',\n 'ENSG00000126267',\n 'ENSG00000278869',\n 'RNA5SP116',\n 'AC021915.2',\n 'ENSG00000244568',\n 'OFCC1',\n 'ISCA1P3',\n 'AC000077.1',\n 'ENSG00000219622',\n 'AL110504.1',\n 'ENSG00000196542',\n 'ESYT2',\n 'ENSG00000240040',\n 'AC087273.1',\n 'FAM66B',\n 'Z83840.2',\n 'ENSG00000278291',\n 'KHDC1L',\n 'RNA5SP401',\n 'ENSG00000183155',\n 'ENSG00000131876',\n 'ENSG00000152818',\n 'AC073488.2',\n 'MIR4276',\n 'ENSG00000229203',\n 'ENSG00000277806',\n 'ENSG00000250777',\n 'RPL36AP15',\n 'AC027237.6',\n 'ENSG00000222500',\n 'UQCRHP2',\n 'AL138479.2',\n 'ID1',\n 'ENSG00000165821',\n 'ENSG00000183579',\n 'ANKRD28',\n 'ENSG00000242971',\n 'ENSG00000223850',\n 'ENSG00000212304',\n 'ENSG00000241680',\n 'AC061975.4',\n 'RAET1M',\n 'ENSG00000109171',\n 'ENSG00000214188',\n 'ACE2',\n 'ENSG00000220842',\n 'ENSG00000152193',\n 'Z83844.3',\n 'ENSG00000257398',\n 'PAFAH1B3',\n 'ENSG00000198182',\n 'SP5',\n 'ENSG00000244355',\n 'ADM',\n 'ERVK9-11',\n 'ENSG00000164190',\n 'ENSG00000054148',\n 'CRYGFP',\n 'AC109454.1',\n 'RN7SL350P',\n 'ENSG00000138379',\n 'ENSG00000244620',\n 'RNU6-1212P',\n 'ENSG00000100614',\n 'ENSG00000112983',\n 'RNU5E-7P',\n 'ENSG00000269736',\n 'C1QTNF7',\n 'ENSG00000222973',\n 'ENSG00000259170',\n 'PFKFB1',\n 'AL669914.4',\n 'ENSG00000232471',\n 'ENSG00000235920',\n 'ENSG00000141219',\n 'AL353604.1',\n 'ENSG00000254722',\n 'ENSG00000214559',\n 'AC087203.2',\n 'MGA',\n 'ENSG00000275708',\n 'AP000317.2',\n 'GALNT13',\n 'MAP4',\n 'AC022415.1',\n 'ENSG00000172824',\n 'ENSG00000286500',\n 'ENSG00000185897',\n 'RPL5P4',\n 'AC016866.1',\n 'AC005336.2',\n 'AP002765.1',\n 'FP236240.3',\n 'ENSG00000224203',\n 'ENSG00000149476',\n 'AC060766.2',\n 'AL132709.5',\n 'ENSG00000215769',\n 'AC090136.1',\n 'AC116667.1',\n 'ENSG00000134802',\n 'AC122710.2',\n 'ENSG00000278705',\n 'FBXW11',\n 'ENSG00000066735',\n 'ENSG00000204241',\n 'ENSG00000179776',\n 'AC092079.2',\n 'AC073413.2',\n 'PPARGC1A',\n 'ENSG00000258992',\n 'NSMCE2',\n 'ACOT9',\n 'ENSG00000233771',\n 'SMPD4P1',\n 'RNU6-406P',\n 'ENSG00000123395',\n 'SEC16B',\n 'SUGP1',\n 'AL117328.3',\n 'SPRTN',\n 'ENSG00000171604',\n 'AC069257.3',\n 'ENSG00000272693',\n 'SFXN2',\n 'ENSG00000253896',\n 'ENSG00000222488',\n 'MIR6126',\n 'AC018953.1',\n 'AC023245.2',\n 'SNAP25',\n 'ENSG00000251306',\n 'ENSG00000253027',\n 'ENSG00000265943',\n 'ZNF630',\n 'ENSG00000275484',\n 'H3C2',\n 'RUNX1T1',\n 'ATP2C2-AS1',\n 'AJ006995.1',\n 'TMEM50B',\n 'DHRS2',\n 'ENSG00000180035',\n 'ENSG00000271707',\n 'ENSG00000273112',\n 'AC022098.4',\n 'EXOG',\n 'AL121955.1',\n 'RPL23AP56',\n 'NCOA5',\n 'ENSG00000237529',\n 'ENSG00000224479',\n 'AL356413.1',\n 'AC079416.2',\n 'ENSG00000223561',\n 'ENSG00000239672',\n 'ENSG00000283221',\n 'ENSG00000286555',\n 'C9ORF129',\n 'AC090283.1',\n 'PACS2',\n 'ENSG00000207711',\n 'ENSG00000134955',\n 'ENSG00000202237',\n 'AGR2',\n 'CT47A11',\n 'LCN2',\n 'ENSG00000136052',\n 'ENSG00000266426',\n 'ENSG00000243792',\n 'ENSG00000259986',\n 'ENSG00000254832',\n 'ENSG00000215790',\n 'ENSG00000259892',\n 'CBWD4P',\n 'ENSG00000267044',\n 'AC008770.1',\n 'AL645933.5',\n 'FAM47A',\n 'ENSG00000033030',\n 'STRIP1',\n 'AL136115.3',\n 'AL132780.1',\n 'METTL23',\n 'RNU1-47P',\n 'ENSG00000251321',\n 'ENSG00000031003',\n 'AL357373.1',\n 'ENSG00000214851',\n 'AC000078.1',\n 'MRE11',\n 'AC073862.2',\n 'BX005019.1',\n 'AL135999.2',\n 'ENSG00000198822',\n 'BCL11B',\n 'C2',\n 'AC135050.5',\n 'ENSG00000279601',\n 'NDUFA7',\n 'ENSG00000224881',\n 'ENSG00000231690',\n 'HMBOX1-IT1',\n 'DNAL4',\n 'ENSG00000248503',\n 'ENSG00000235196',\n 'ENSG00000286306',\n 'ENSG00000183122',\n 'RN7SL372P',\n 'NUDT13',\n 'TNFRSF11B',\n 'ENSG00000106400',\n 'ENSG00000271754',\n 'RN7SL148P',\n 'ENSG00000108785',\n 'ENSG00000262366',\n 'THAP5P1',\n 'ENSG00000248340',\n 'ENSG00000204637',\n 'ENSG00000237089',\n 'ENSG00000172746',\n 'OR52E8',\n 'MTND3P3',\n 'ENSG00000248160',\n 'ENSG00000257262',\n 'ENSG00000237263',\n 'ENSG00000230087',\n 'AC005520.3',\n 'RPL12P18',\n 'UNC13D',\n 'AL133351.1',\n 'AC015978.2',\n 'RNU6-472P',\n 'ENSG00000284011',\n 'ENSG00000234192',\n 'AC079779.1',\n 'ENSG00000230013',\n 'ENSG00000153208',\n 'ENSG00000283360',\n 'ENSG00000173588',\n 'MAP3K20-AS1',\n 'ENSG00000274766',\n 'ENSG00000229518',\n 'BECN1',\n 'ENSG00000076826',\n 'ENSG00000274569',\n 'ENSG00000252002',\n 'NDUFA5P11',\n 'RNU6-4P',\n 'ENSG00000173391',\n 'ENSG00000221926',\n 'ENSG00000236047',\n 'ENSG00000076248',\n 'ENSG00000242248',\n 'ENSG00000277958',\n 'ENSG00000263657',\n 'ENSG00000141736',\n 'SNORA68',\n 'AC010493.1',\n 'ENSG00000249941',\n 'ENSG00000287257',\n 'ENSG00000266072',\n 'USP46',\n 'ENSG00000163686',\n 'AC004678.1',\n ...}"
     },
     "metadata": {},
     "execution_count": 19
    }
   ],
   "source": [
    "set(lookup.index)"
   ]
  },
  {
   "cell_type": "code",
   "execution_count": 43,
   "metadata": {},
   "outputs": [
    {
     "output_type": "execute_result",
     "data": {
      "text/plain": "                              id id_version  \\\nENSG00000223972  ENSG00000223972          5   \nENSG00000227232  ENSG00000227232          5   \nENSG00000278267  ENSG00000278267          1   \nENSG00000243485  ENSG00000243485          5   \nENSG00000284332  ENSG00000284332          1   \n...                          ...        ...   \nCU442762.4       ENSG00000271726          1   \nAC002321.2       ENSG00000215616          3   \nAC002321.1       ENSG00000215611          3   \nCT867977.1       ENSG00000265557          1   \nCT978678.1       ENSG00000238643          1   \n\n                                            biotype  \\\nENSG00000223972  transcribed_unprocessed_pseudogene   \nENSG00000227232              unprocessed_pseudogene   \nENSG00000278267                               miRNA   \nENSG00000243485                              lncRNA   \nENSG00000284332                               miRNA   \n...                                             ...   \nCU442762.4                                    miRNA   \nAC002321.2                           protein_coding   \nAC002321.1                           protein_coding   \nCT867977.1                                    miRNA   \nCT978678.1                                    miRNA   \n\n                                                          tsv_file  \nENSG00000223972  /data/BIDS-HPC/private/projects/dmi/data/proce...  \nENSG00000227232  /data/BIDS-HPC/private/projects/dmi/data/proce...  \nENSG00000278267  /data/BIDS-HPC/private/projects/dmi/data/proce...  \nENSG00000243485  /data/BIDS-HPC/private/projects/dmi/data/proce...  \nENSG00000284332  /data/BIDS-HPC/private/projects/dmi/data/proce...  \n...                                                            ...  \nCU442762.4       /data/BIDS-HPC/private/projects/dmi/data/proce...  \nAC002321.2       /data/BIDS-HPC/private/projects/dmi/data/proce...  \nAC002321.1       /data/BIDS-HPC/private/projects/dmi/data/proce...  \nCT867977.1       /data/BIDS-HPC/private/projects/dmi/data/proce...  \nCT978678.1       /data/BIDS-HPC/private/projects/dmi/data/proce...  \n\n[237176 rows x 4 columns]",
      "text/html": "<div>\n<style scoped>\n    .dataframe tbody tr th:only-of-type {\n        vertical-align: middle;\n    }\n\n    .dataframe tbody tr th {\n        vertical-align: top;\n    }\n\n    .dataframe thead th {\n        text-align: right;\n    }\n</style>\n<table border=\"1\" class=\"dataframe\">\n  <thead>\n    <tr style=\"text-align: right;\">\n      <th></th>\n      <th>id</th>\n      <th>id_version</th>\n      <th>biotype</th>\n      <th>tsv_file</th>\n    </tr>\n  </thead>\n  <tbody>\n    <tr>\n      <th>ENSG00000223972</th>\n      <td>ENSG00000223972</td>\n      <td>5</td>\n      <td>transcribed_unprocessed_pseudogene</td>\n      <td>/data/BIDS-HPC/private/projects/dmi/data/proce...</td>\n    </tr>\n    <tr>\n      <th>ENSG00000227232</th>\n      <td>ENSG00000227232</td>\n      <td>5</td>\n      <td>unprocessed_pseudogene</td>\n      <td>/data/BIDS-HPC/private/projects/dmi/data/proce...</td>\n    </tr>\n    <tr>\n      <th>ENSG00000278267</th>\n      <td>ENSG00000278267</td>\n      <td>1</td>\n      <td>miRNA</td>\n      <td>/data/BIDS-HPC/private/projects/dmi/data/proce...</td>\n    </tr>\n    <tr>\n      <th>ENSG00000243485</th>\n      <td>ENSG00000243485</td>\n      <td>5</td>\n      <td>lncRNA</td>\n      <td>/data/BIDS-HPC/private/projects/dmi/data/proce...</td>\n    </tr>\n    <tr>\n      <th>ENSG00000284332</th>\n      <td>ENSG00000284332</td>\n      <td>1</td>\n      <td>miRNA</td>\n      <td>/data/BIDS-HPC/private/projects/dmi/data/proce...</td>\n    </tr>\n    <tr>\n      <th>...</th>\n      <td>...</td>\n      <td>...</td>\n      <td>...</td>\n      <td>...</td>\n    </tr>\n    <tr>\n      <th>CU442762.4</th>\n      <td>ENSG00000271726</td>\n      <td>1</td>\n      <td>miRNA</td>\n      <td>/data/BIDS-HPC/private/projects/dmi/data/proce...</td>\n    </tr>\n    <tr>\n      <th>AC002321.2</th>\n      <td>ENSG00000215616</td>\n      <td>3</td>\n      <td>protein_coding</td>\n      <td>/data/BIDS-HPC/private/projects/dmi/data/proce...</td>\n    </tr>\n    <tr>\n      <th>AC002321.1</th>\n      <td>ENSG00000215611</td>\n      <td>3</td>\n      <td>protein_coding</td>\n      <td>/data/BIDS-HPC/private/projects/dmi/data/proce...</td>\n    </tr>\n    <tr>\n      <th>CT867977.1</th>\n      <td>ENSG00000265557</td>\n      <td>1</td>\n      <td>miRNA</td>\n      <td>/data/BIDS-HPC/private/projects/dmi/data/proce...</td>\n    </tr>\n    <tr>\n      <th>CT978678.1</th>\n      <td>ENSG00000238643</td>\n      <td>1</td>\n      <td>miRNA</td>\n      <td>/data/BIDS-HPC/private/projects/dmi/data/proce...</td>\n    </tr>\n  </tbody>\n</table>\n<p>237176 rows × 4 columns</p>\n</div>"
     },
     "metadata": {},
     "execution_count": 43
    }
   ],
   "source": [
    "lookup"
   ]
  },
  {
   "cell_type": "code",
   "execution_count": 56,
   "metadata": {},
   "outputs": [
    {
     "output_type": "execute_result",
     "data": {
      "text/plain": "False"
     },
     "metadata": {},
     "execution_count": 56
    }
   ],
   "source": [
    "'biotypes' in lookup.keys()"
   ]
  },
  {
   "cell_type": "code",
   "execution_count": 6,
   "metadata": {},
   "outputs": [
    {
     "output_type": "execute_result",
     "data": {
      "text/plain": "121333"
     },
     "metadata": {},
     "execution_count": 6
    }
   ],
   "source": [
    "import pandas as pd\n",
    "lookup = pd.Series(name='id')\n",
    "\n",
    "df = pd.read_csv('/data/BIDS-HPC/private/projects/dmi/data/processed_files_for_lookup/main_38.tsv', sep='\\t')\n",
    "id_list = df['id'].apply(lambda x: x.upper()).to_list()\n",
    "name_list = df['name'].apply(lambda x: x.upper()).to_list()\n",
    "lookup = pd.concat([lookup, pd.Series(index=id_list, data=id_list, name='id')])\n",
    "lookup = pd.concat([lookup, pd.Series(index=name_list, data=id_list, name='id')])\n",
    "\n",
    "len(lookup.index.unique())"
   ]
  },
  {
   "cell_type": "code",
   "execution_count": null,
   "metadata": {},
   "outputs": [],
   "source": [
    "import pandas\n",
    "'/data/BIDS-HPC/private/projects/dmi/data/ensembl_ftp_site/grch38/Homo_sapiens.GRCh38.100.gtf'"
   ]
  },
  {
   "cell_type": "code",
   "execution_count": 10,
   "metadata": {},
   "outputs": [],
   "source": [
    "import json\n",
    "with open('/data/BIDS-HPC/private/projects/dmi/data/metadata.json') as f:\n",
    "    x = json.load(f)"
   ]
  },
  {
   "cell_type": "code",
   "execution_count": 29,
   "metadata": {},
   "outputs": [
    {
     "output_type": "execute_result",
     "data": {
      "text/plain": "dict_keys(['filenames', 'weblinks', 'idatafiles', 'tsv_files', 'format_nums'])"
     },
     "metadata": {},
     "execution_count": 29
    }
   ],
   "source": [
    "x['filedata'].keys()\n",
    "#x['filedata']['format_nums']"
   ]
  },
  {
   "cell_type": "code",
   "execution_count": 9,
   "metadata": {},
   "outputs": [
    {
     "output_type": "execute_result",
     "data": {
      "text/plain": "37708"
     },
     "metadata": {},
     "execution_count": 9
    }
   ],
   "source": [
    "sum(data_lookup['id'].isnull())"
   ]
  },
  {
   "cell_type": "code",
   "execution_count": 18,
   "metadata": {},
   "outputs": [],
   "source": [
    "with open('/home/weismanal/notebook/2020-05-22/dmi/data_lookup.html', 'w') as f:\n",
    "    f.write(data_lookup.sort_values(by='id', axis='index').to_html())\n"
   ]
  },
  {
   "cell_type": "code",
   "execution_count": 15,
   "metadata": {},
   "outputs": [
    {
     "output_type": "execute_result",
     "data": {
      "text/plain": "id    90902\ndtype: int64"
     },
     "metadata": {},
     "execution_count": 15
    }
   ],
   "source": [
    "len(data_lookup) - data_lookup.isnull().sum()"
   ]
  },
  {
   "cell_type": "code",
   "execution_count": 29,
   "metadata": {},
   "outputs": [
    {
     "output_type": "execute_result",
     "data": {
      "text/plain": "True"
     },
     "metadata": {},
     "execution_count": 29
    }
   ],
   "source": [
    "symbol_list == id_list2"
   ]
  },
  {
   "cell_type": "code",
   "execution_count": 84,
   "metadata": {},
   "outputs": [
    {
     "output_type": "stream",
     "name": "stdout",
     "text": "[1] Given 28 names, we identified 11 of them\n{'ENSG00000198384': 'TPTE2P3', 'ENSG00000240800': 'ATP8A2P1', 'ENSG00000257151': 'PWAR6', 'ENSG00000242349': 'NPPA-AS1', 'ENSG00000285665': 'TOP1P1', 'ENSG00000236269': 'ENO1-IT1', 'ENSG00000236850': 'BMS1P20', 'ENSG00000237456': 'ID2B', 'ENSG00000275691': 'MT1IP', 'ENSG00000257802': 'MRS2P2', 'ENSG00000231865': 'SIK3-IT1', 'ENSG00000180042': 'OR1R1P', 'ENSG00000169075': 'BRD7P3', 'ENSG00000233265': 'MICF', 'ENSG00000231643': 'YWHAQP8', 'ENSG00000271171': 'LINC00904', 'ENSG00000212290': 'RNA5SP424', 'ENSG00000243453': 'COX7BP1', 'ENSG00000233864': 'TTTY15', 'ENSG00000204365': 'C10ORF126', 'ENSG00000266405': 'CBX3P2', 'ENSG00000256211': 'SKP1P2', 'ENSG00000225520': 'TTTY16', 'ENSG00000184258': 'CDR1', 'ENSG00000279355': 'AGPAT4-IT1', 'ENSG00000254962': 'OR4A14P', 'ENSG00000270441': 'LAMB2P1', 'ENSG00000243251': 'PGBD3'}\nname\nID2B         ENSG00000237456\nLAMB2P1      ENSG00000270441\nLINC00904    ENSG00000271171\nSKP1P2       ENSG00000256211\nBRD7P3       ENSG00000169075\nCBX3P2       ENSG00000266405\nMRS2P2       ENSG00000257802\nMT1IP        ENSG00000275691\nOR1R1P       ENSG00000180042\nYWHAQP8      ENSG00000231643\nTOP1P1       ENSG00000285665\nName: id, dtype: object\nname\nID2B         ENSG00000237456\nLAMB2P1      ENSG00000270441\nLINC00904    ENSG00000271171\nSKP1P2       ENSG00000256211\nBRD7P3       ENSG00000169075\nCBX3P2       ENSG00000266405\nMRS2P2       ENSG00000257802\nMT1IP        ENSG00000275691\nOR1R1P       ENSG00000180042\nYWHAQP8      ENSG00000231643\nTOP1P1       ENSG00000285665\nName: id, dtype: object\nWe added 11 lookups to the data lookup table using the HGNC lookup table; now the number of null entries in the data lookup table is 37708\n"
    }
   ],
   "source": [
    "pairs_to_test = []\n",
    "for name in intxn:\n",
    "    if name != hgnc_lookup.loc[name,'id']:\n",
    "        #print(name)\n",
    "        pairs_to_test.append([hgnc_lookup.loc[name,'id'], name])\n",
    "#pairs_to_test\n",
    "id_list2 = [x[0] for x in pairs_to_test]\n",
    "\n",
    "# #print(tc.ensembl_name_request('id', id_list2))\n",
    "# print(tc.ensembl_name_request('symbol', id_list2))\n",
    "# for name in id_list2:\n",
    "#     print(tc.ensembl_name_request('xref', [name]))\n",
    "\n",
    "iiter = 0\n",
    "lookup_list = []\n",
    "nidentified = 0\n",
    "#lookup_list, result_processed, iiter, nidentified = tc.run_and_process_query('symbol', id_list2, lookup_list, iiter, nidentified) # returned nothing as expected\n",
    "lookup_list, result_processed, iiter, nidentified = tc.run_and_process_query('id', id_list2, lookup_list, iiter, nidentified) # returned 11 as expected\n",
    "# for name in id_list2: # returned the same 11 as expected\n",
    "#     lookup_list, result_processed, iiter, nidentified = tc.run_and_process_query('xref', [name], lookup_list, iiter, nidentified)\n",
    "#lookup_list\n",
    "tested_dict = dict(pairs_to_test)\n",
    "print(tested_dict)\n",
    "\n",
    "lookups_to_add = []\n",
    "for item in lookup_list:\n",
    "    if item[1] is not None:\n",
    "        lookups_to_add.append([tested_dict[item[1]], item[1]])\n",
    "lookups_to_add\n",
    "\n",
    "symbols = [x[0] for x in lookups_to_add] # these don't show up in Ensembl\n",
    "ids = [x[1] for x in lookups_to_add] # these do\n",
    "\n",
    "print(data_lookup.loc[symbols,'id'])\n",
    "\n",
    "data_lookup.loc[symbols,'id'] = ids\n",
    "\n",
    "print(data_lookup.loc[symbols,'id'])\n",
    "\n",
    "print('We added {} lookups to the data lookup table using the HGNC lookup table; now the number of null entries in the data lookup table is {}'.format(len(lookups_to_add), data_lookup.isnull()['id'].sum()))\n",
    "\n",
    "counts = hgnc_lookup.loc[:,'id'].value_counts()\n",
    "duplicates = list(counts.index[counts!=2])\n",
    "data_lookup.loc[duplicates,'id']"
   ]
  },
  {
   "cell_type": "code",
   "execution_count": 94,
   "metadata": {},
   "outputs": [
    {
     "output_type": "execute_result",
     "data": {
      "text/plain": "name\nENSG00000230417    ENSG00000230417\nENSG00000255374    ENSG00000255374\nENSG00000230426    ENSG00000230426\nName: id, dtype: object"
     },
     "metadata": {},
     "execution_count": 94
    }
   ],
   "source": [
    "counts = hgnc_lookup.loc[:,'id'].value_counts()\n",
    "duplicates = list(counts.index[counts!=2])\n",
    "data_lookup.loc[duplicates,'id']"
   ]
  },
  {
   "cell_type": "code",
   "execution_count": 98,
   "metadata": {},
   "outputs": [
    {
     "output_type": "execute_result",
     "data": {
      "text/plain": "set()"
     },
     "metadata": {},
     "execution_count": 98
    }
   ],
   "source": [
    "set(ids) & set(duplicates)"
   ]
  },
  {
   "cell_type": "code",
   "execution_count": 76,
   "metadata": {},
   "outputs": [
    {
     "output_type": "execute_result",
     "data": {
      "text/plain": "{'ENSG00000271171': {'object_type': 'Gene',\n  'seq_region_name': '19',\n  'version': 3,\n  'strand': -1,\n  'description': 'novel transcript',\n  'db_type': 'core',\n  'display_name': 'AC008555.5',\n  'biotype': 'lncRNA',\n  'assembly_name': 'GRCh38',\n  'start': 34891605,\n  'logic_name': 'havana_homo_sapiens',\n  'source': 'havana',\n  'species': 'homo_sapiens',\n  'end': 34905139,\n  'id': 'ENSG00000271171'},\n 'ENSG00000237456': {'object_type': 'Gene',\n  'version': 3,\n  'seq_region_name': '3',\n  'strand': -1,\n  'description': 'inhibitor of DNA binding 2, dominant negative helix-loop-helix protein (ID2) pseudogene',\n  'display_name': 'AC104849.1',\n  'db_type': 'core',\n  'biotype': 'processed_pseudogene',\n  'assembly_name': 'GRCh38',\n  'start': 62124204,\n  'source': 'havana',\n  'logic_name': 'havana_homo_sapiens',\n  'species': 'homo_sapiens',\n  'end': 62124608,\n  'id': 'ENSG00000237456'},\n 'ENSG00000270441': {'strand': -1,\n  'seq_region_name': '3',\n  'version': 1,\n  'object_type': 'Gene',\n  'description': 'laminin, beta 1 (LAMB1) pseudogene',\n  'start': 49140086,\n  'biotype': 'unprocessed_pseudogene',\n  'assembly_name': 'GRCh38',\n  'display_name': 'AC135506.1',\n  'db_type': 'core',\n  'id': 'ENSG00000270441',\n  'end': 49160851,\n  'species': 'homo_sapiens',\n  'logic_name': 'havana_homo_sapiens',\n  'source': 'havana'},\n 'ENSG00000275691': {'species': 'homo_sapiens',\n  'id': 'ENSG00000275691',\n  'end': 56677763,\n  'logic_name': 'havana_homo_sapiens',\n  'source': 'havana',\n  'start': 56676132,\n  'db_type': 'core',\n  'display_name': 'AC026461.4',\n  'biotype': 'transcribed_unprocessed_pseudogene',\n  'assembly_name': 'GRCh38',\n  'description': 'metallothionein family pseudogene',\n  'strand': 1,\n  'object_type': 'Gene',\n  'seq_region_name': '16',\n  'version': 2},\n 'ENSG00000256211': {'strand': 1,\n  'seq_region_name': '12',\n  'version': 1,\n  'object_type': 'Gene',\n  'description': 'S-phase kinase-associated protein 1 (SKP1) pseudogene',\n  'start': 16989126,\n  'assembly_name': 'GRCh38',\n  'biotype': 'processed_pseudogene',\n  'db_type': 'core',\n  'display_name': 'AC023512.1',\n  'id': 'ENSG00000256211',\n  'end': 16989936,\n  'species': 'homo_sapiens',\n  'logic_name': 'havana_homo_sapiens',\n  'source': 'havana'},\n 'ENSG00000257802': {'object_type': 'Gene',\n  'seq_region_name': '12',\n  'version': 1,\n  'strand': -1,\n  'description': 'MRS2 magnesium homeostasis factor homolog (S. cerevisiae) (MRS2) pseudogene',\n  'db_type': 'core',\n  'display_name': 'AC089984.2',\n  'biotype': 'processed_pseudogene',\n  'assembly_name': 'GRCh38',\n  'start': 71849228,\n  'logic_name': 'havana_homo_sapiens',\n  'source': 'havana',\n  'species': 'homo_sapiens',\n  'id': 'ENSG00000257802',\n  'end': 71850428},\n 'ENSG00000180042': {'seq_region_name': '17',\n  'version': 5,\n  'object_type': 'Gene',\n  'strand': 1,\n  'description': 'olfactory receptor, family 1, subfamily R, member 1 pseudogene',\n  'biotype': 'protein_coding',\n  'assembly_name': 'GRCh38',\n  'db_type': 'core',\n  'display_name': 'AC087498.1',\n  'start': 3385930,\n  'source': 'havana',\n  'logic_name': 'havana_homo_sapiens',\n  'end': 3386874,\n  'id': 'ENSG00000180042',\n  'species': 'homo_sapiens'},\n 'ENSG00000169075': {'description': 'bromodomain-containing 7 (BRD7) pseudogene',\n  'object_type': 'Gene',\n  'version': 7,\n  'seq_region_name': '6',\n  'strand': 1,\n  'source': 'havana',\n  'logic_name': 'havana_homo_sapiens',\n  'species': 'homo_sapiens',\n  'id': 'ENSG00000169075',\n  'end': 118502906,\n  'db_type': 'core',\n  'display_name': 'Z99496.1',\n  'assembly_name': 'GRCh38',\n  'biotype': 'processed_pseudogene',\n  'start': 118501430},\n 'ENSG00000231643': {'object_type': 'Gene',\n  'seq_region_name': 'X',\n  'version': 4,\n  'strand': -1,\n  'description': 'tyrosine 3-monooxygenase/tryptophan 5-monooxygenase activation protein, theta polypeptide (YWHAQ) pseudogene',\n  'display_name': 'Z70280.1',\n  'db_type': 'core',\n  'biotype': 'processed_pseudogene',\n  'assembly_name': 'GRCh38',\n  'start': 101191115,\n  'source': 'havana',\n  'logic_name': 'havana_homo_sapiens',\n  'species': 'homo_sapiens',\n  'end': 101191409,\n  'id': 'ENSG00000231643'},\n 'ENSG00000285665': {'seq_region_name': '1',\n  'version': 1,\n  'object_type': 'Gene',\n  'strand': 1,\n  'description': 'DNA topoisomerase I pseudogene 1',\n  'assembly_name': 'GRCh38',\n  'biotype': 'processed_pseudogene',\n  'db_type': 'core',\n  'display_name': 'AL031274.1',\n  'start': 171339299,\n  'source': 'havana',\n  'logic_name': 'havana_homo_sapiens',\n  'id': 'ENSG00000285665',\n  'end': 171339959,\n  'species': 'homo_sapiens'},\n 'ENSG00000266405': {'start': 2652170,\n  'display_name': 'AP005061.2',\n  'db_type': 'core',\n  'biotype': 'transcribed_processed_pseudogene',\n  'assembly_name': 'GRCh38',\n  'species': 'homo_sapiens',\n  'id': 'ENSG00000266405',\n  'end': 2655395,\n  'logic_name': 'havana_homo_sapiens',\n  'source': 'havana',\n  'strand': -1,\n  'object_type': 'Gene',\n  'version': 3,\n  'seq_region_name': '18',\n  'description': 'Chromobox protein homolog 3 (CBX3) pseudogene'}}"
     },
     "metadata": {},
     "execution_count": 76
    }
   ],
   "source": [
    "#print(symbols)\n",
    "#print(ids)\n",
    "tc.ensembl_name_request('id', ids)"
   ]
  },
  {
   "cell_type": "code",
   "execution_count": 58,
   "metadata": {},
   "outputs": [
    {
     "output_type": "execute_result",
     "data": {
      "text/plain": "True"
     },
     "metadata": {},
     "execution_count": 58
    }
   ],
   "source": [
    "mylist.sort() == lookup_list.sort()"
   ]
  },
  {
   "cell_type": "code",
   "execution_count": 54,
   "metadata": {},
   "outputs": [],
   "source": [
    "lookup_list[:len(id_list2)].sort() == lookup_list[len(id_list2):].sort()\n",
    "mylist = lookup_list[len(id_list2):]"
   ]
  },
  {
   "cell_type": "code",
   "execution_count": 21,
   "metadata": {},
   "outputs": [
    {
     "output_type": "stream",
     "name": "stdout",
     "text": "{'ENSG00000233864': None, 'ENSG00000133808': None, 'ENSG00000205663': None, 'ENSG00000253264': None, 'ENSG00000186354': None, 'ENSG00000257151': None, 'ENSG00000236850': None, 'ENSG00000265119': None, 'ENSG00000256927': None, 'ENSG00000231865': None, 'ENSG00000223111': None, 'ENSG00000236269': None, 'ENSG00000224813': None, 'ENSG00000225520': None, 'ENSG00000220548': None, 'ENSG00000233265': None, 'ENSG00000241670': None, 'ENSG00000184258': None, 'ENSG00000223119': None, 'ENSG00000248686': None, 'ENSG00000251317': None, 'ENSG00000204365': None, 'ENSG00000283073': None, 'ENSG00000254671': None, 'ENSG00000270024': None, 'ENSG00000254462': None, 'ENSG00000279355': None, 'ENSG00000260760': None, 'ENSG00000221972': None, 'ENSG00000256763': None, 'ENSG00000234449': None, 'ENSG00000266960': None, 'ENSG00000242349': None, 'ENSG00000223929': None, 'ENSG00000243453': None, 'ENSG00000273585': None, 'ENSG00000250003': None, 'ENSG00000205662': None, 'ENSG00000213865': None, 'ENSG00000270898': None, 'ENSG00000205850': None, 'ENSG00000069712': None, 'ENSG00000235719': None, 'ENSG00000243251': None, 'ENSG00000254962': None, 'ENSG00000256304': None, 'ENSG00000198384': None, 'ENSG00000269721': None, 'ENSG00000265592': None, 'ENSG00000240800': None, 'ENSG00000212290': None}\n{}\n[]\n[]\n[]\n[]\n[]\n[]\n[]\n[]\n[]\n[]\n[]\n[]\n[]\n[]\n[]\n[]\n[]\n[]\n[]\n[]\n[]\n[]\n[]\n[]\n[]\n[]\n[]\n[]\n[]\n[]\n[]\n[]\n[]\n[]\n[]\n[]\n[]\n[]\n[]\n[]\n[]\n[]\n[]\n[]\n[]\n[]\n[]\n[]\n[]\n[]\n[]\n[]\n[]\n[]\n[]\n[]\n[]\n[]\n[]\n[]\n[]\n[]\n[]\n[]\n[]\n[]\n[]\n[]\n[]\n[]\n[]\n[]\n[]\n[]\n[]\n[]\n[]\n[]\n[]\n"
    }
   ],
   "source": [
    "import re\n",
    "ensembl_format = re.compile('^ENSG[0-9]{11}$')\n",
    "id_list = []\n",
    "symbol_list = []\n",
    "for name in intxn:\n",
    "    if ensembl_format.match(name) is not None:\n",
    "        id_list.append(name)\n",
    "    else:\n",
    "        symbol_list.append(name)\n",
    "#symbol_list\n",
    "#print(symbol_list)\n",
    "print(tc.ensembl_name_request('id', id_list))\n",
    "print(tc.ensembl_name_request('symbol', symbol_list))\n",
    "for name in intxn:\n",
    "    print(tc.ensembl_name_request('xref', [name]))"
   ]
  },
  {
   "cell_type": "code",
   "execution_count": 12,
   "metadata": {},
   "outputs": [
    {
     "output_type": "stream",
     "name": "stdout",
     "text": "ENSG00000240800 None\nENSG00000223119 None\nENSG00000233864 None\nENSG00000269721 None\nENSG00000256927 None\nENSG00000251317 None\nENSG00000198384 None\nENSG00000240800 None\nENSG00000242349 None\nENSG00000257151 None\nENSG00000198384 None\nENSG00000221972 None\nENSG00000243453 None\nENSG00000242349 None\nENSG00000243251 None\nENSG00000223111 None\nENSG00000236850 None\nENSG00000285665 None\nENSG00000205850 None\nENSG00000236269 None\nENSG00000270898 None\nENSG00000205663 None\nENSG00000256304 None\nENSG00000235719 None\nENSG00000253264 None\nENSG00000236850 None\nENSG00000237456 None\nENSG00000256763 None\nENSG00000275691 None\nENSG00000257802 None\nENSG00000231865 None\nENSG00000212290 None\nENSG00000180042 None\nENSG00000254962 None\nENSG00000223929 None\nENSG00000169075 None\nENSG00000283073 None\nENSG00000257151 None\nENSG00000233265 None\nENSG00000241670 None\nENSG00000273585 None\nENSG00000184258 None\nENSG00000205662 None\nENSG00000213865 None\nENSG00000265592 None\nENSG00000231643 None\nENSG00000271171 None\nENSG00000266960 None\nENSG00000212290 None\nENSG00000204365 None\nENSG00000243453 None\nENSG00000133808 None\nENSG00000233864 None\nENSG00000231865 None\nENSG00000224813 None\nENSG00000204365 None\nENSG00000279355 None\nENSG00000270024 None\nENSG00000186354 None\nENSG00000260760 None\nENSG00000266405 None\nENSG00000069712 None\nENSG00000225520 None\nENSG00000233265 None\nENSG00000256211 None\nENSG00000250003 None\nENSG00000254671 None\nENSG00000225520 None\nENSG00000234449 None\nENSG00000184258 None\nENSG00000279355 None\nENSG00000254462 None\nENSG00000254962 None\nENSG00000248686 None\nENSG00000270441 None\nENSG00000243251 None\nENSG00000220548 None\nENSG00000236269 None\nENSG00000265119 None\n"
    },
    {
     "output_type": "execute_result",
     "data": {
      "text/plain": "{'ENSG00000221972': None,\n 'ENSG00000257151': None,\n 'ENSG00000186354': None,\n 'ENSG00000265592': None,\n 'ENSG00000285665': {'start': 171339299,\n  'assembly_name': 'GRCh38',\n  'biotype': 'processed_pseudogene',\n  'db_type': 'core',\n  'display_name': 'AL031274.1',\n  'end': 171339959,\n  'id': 'ENSG00000285665',\n  'species': 'homo_sapiens',\n  'source': 'havana',\n  'logic_name': 'havana_homo_sapiens',\n  'strand': 1,\n  'seq_region_name': '1',\n  'version': 1,\n  'object_type': 'Gene',\n  'description': 'DNA topoisomerase I pseudogene 1'},\n 'ENSG00000205663': None,\n 'ENSG00000231643': {'start': 101191115,\n  'display_name': 'Z70280.1',\n  'db_type': 'core',\n  'biotype': 'processed_pseudogene',\n  'assembly_name': 'GRCh38',\n  'species': 'homo_sapiens',\n  'id': 'ENSG00000231643',\n  'end': 101191409,\n  'logic_name': 'havana_homo_sapiens',\n  'source': 'havana',\n  'strand': -1,\n  'object_type': 'Gene',\n  'seq_region_name': 'X',\n  'version': 4,\n  'description': 'tyrosine 3-monooxygenase/tryptophan 5-monooxygenase activation protein, theta polypeptide (YWHAQ) pseudogene'},\n 'ENSG00000234449': None,\n 'ENSG00000069712': None,\n 'ENSG00000260760': None,\n 'ENSG00000273585': None,\n 'ENSG00000231865': None,\n 'ENSG00000256304': None,\n 'ENSG00000235719': None,\n 'ENSG00000212290': None,\n 'ENSG00000180042': {'source': 'havana',\n  'logic_name': 'havana_homo_sapiens',\n  'end': 3386874,\n  'id': 'ENSG00000180042',\n  'species': 'homo_sapiens',\n  'assembly_name': 'GRCh38',\n  'biotype': 'protein_coding',\n  'display_name': 'AC087498.1',\n  'db_type': 'core',\n  'start': 3385930,\n  'description': 'olfactory receptor, family 1, subfamily R, member 1 pseudogene',\n  'seq_region_name': '17',\n  'version': 5,\n  'object_type': 'Gene',\n  'strand': 1},\n 'ENSG00000225520': None,\n 'ENSG00000240800': None,\n 'ENSG00000254462': None,\n 'ENSG00000266405': {'description': 'Chromobox protein homolog 3 (CBX3) pseudogene',\n  'version': 3,\n  'seq_region_name': '18',\n  'object_type': 'Gene',\n  'strand': -1,\n  'source': 'havana',\n  'logic_name': 'havana_homo_sapiens',\n  'id': 'ENSG00000266405',\n  'end': 2655395,\n  'species': 'homo_sapiens',\n  'biotype': 'transcribed_processed_pseudogene',\n  'assembly_name': 'GRCh38',\n  'db_type': 'core',\n  'display_name': 'AP005061.2',\n  'start': 2652170},\n 'ENSG00000241670': None,\n 'ENSG00000253264': None,\n 'ENSG00000248686': None,\n 'ENSG00000242349': None,\n 'ENSG00000236850': None,\n 'ENSG00000237456': {'start': 62124204,\n  'display_name': 'AC104849.1',\n  'db_type': 'core',\n  'assembly_name': 'GRCh38',\n  'biotype': 'processed_pseudogene',\n  'species': 'homo_sapiens',\n  'end': 62124608,\n  'id': 'ENSG00000237456',\n  'logic_name': 'havana_homo_sapiens',\n  'source': 'havana',\n  'strand': -1,\n  'object_type': 'Gene',\n  'version': 3,\n  'seq_region_name': '3',\n  'description': 'inhibitor of DNA binding 2, dominant negative helix-loop-helix protein (ID2) pseudogene'},\n 'ENSG00000270441': {'description': 'laminin, beta 1 (LAMB1) pseudogene',\n  'strand': -1,\n  'version': 1,\n  'seq_region_name': '3',\n  'object_type': 'Gene',\n  'end': 49160851,\n  'id': 'ENSG00000270441',\n  'species': 'homo_sapiens',\n  'source': 'havana',\n  'logic_name': 'havana_homo_sapiens',\n  'start': 49140086,\n  'biotype': 'unprocessed_pseudogene',\n  'assembly_name': 'GRCh38',\n  'display_name': 'AC135506.1',\n  'db_type': 'core'},\n 'ENSG00000220548': None,\n 'ENSG00000270898': None,\n 'ENSG00000198384': None,\n 'ENSG00000223119': None,\n 'ENSG00000243453': None,\n 'ENSG00000256763': None,\n 'ENSG00000133808': None,\n 'ENSG00000250003': None,\n 'ENSG00000266960': None,\n 'ENSG00000233265': None,\n 'ENSG00000251317': None,\n 'ENSG00000205850': None,\n 'ENSG00000279355': None,\n 'ENSG00000269721': None,\n 'ENSG00000254671': None,\n 'ENSG00000283073': None,\n 'ENSG00000224813': None,\n 'ENSG00000184258': None,\n 'ENSG00000257802': {'start': 71849228,\n  'biotype': 'processed_pseudogene',\n  'assembly_name': 'GRCh38',\n  'db_type': 'core',\n  'display_name': 'AC089984.2',\n  'id': 'ENSG00000257802',\n  'end': 71850428,\n  'species': 'homo_sapiens',\n  'source': 'havana',\n  'logic_name': 'havana_homo_sapiens',\n  'strand': -1,\n  'seq_region_name': '12',\n  'version': 1,\n  'object_type': 'Gene',\n  'description': 'MRS2 magnesium homeostasis factor homolog (S. cerevisiae) (MRS2) pseudogene'},\n 'ENSG00000275691': {'assembly_name': 'GRCh38',\n  'biotype': 'transcribed_unprocessed_pseudogene',\n  'display_name': 'AC026461.4',\n  'db_type': 'core',\n  'start': 56676132,\n  'source': 'havana',\n  'logic_name': 'havana_homo_sapiens',\n  'id': 'ENSG00000275691',\n  'end': 56677763,\n  'species': 'homo_sapiens',\n  'version': 2,\n  'seq_region_name': '16',\n  'object_type': 'Gene',\n  'strand': 1,\n  'description': 'metallothionein family pseudogene'},\n 'ENSG00000223111': None,\n 'ENSG00000213865': None,\n 'ENSG00000223929': None,\n 'ENSG00000265119': None,\n 'ENSG00000233864': None,\n 'ENSG00000169075': {'version': 7,\n  'seq_region_name': '6',\n  'object_type': 'Gene',\n  'strand': 1,\n  'description': 'bromodomain-containing 7 (BRD7) pseudogene',\n  'biotype': 'processed_pseudogene',\n  'assembly_name': 'GRCh38',\n  'db_type': 'core',\n  'display_name': 'Z99496.1',\n  'start': 118501430,\n  'logic_name': 'havana_homo_sapiens',\n  'source': 'havana',\n  'end': 118502906,\n  'id': 'ENSG00000169075',\n  'species': 'homo_sapiens'},\n 'ENSG00000243251': None,\n 'ENSG00000205662': None,\n 'ENSG00000256927': None,\n 'ENSG00000236269': None,\n 'ENSG00000204365': None,\n 'ENSG00000271171': {'object_type': 'Gene',\n  'version': 3,\n  'seq_region_name': '19',\n  'strand': -1,\n  'description': 'novel transcript',\n  'display_name': 'AC008555.5',\n  'db_type': 'core',\n  'assembly_name': 'GRCh38',\n  'biotype': 'lncRNA',\n  'start': 34891605,\n  'source': 'havana',\n  'logic_name': 'havana_homo_sapiens',\n  'species': 'homo_sapiens',\n  'end': 34905139,\n  'id': 'ENSG00000271171'},\n 'ENSG00000256211': {'description': 'S-phase kinase-associated protein 1 (SKP1) pseudogene',\n  'version': 1,\n  'seq_region_name': '12',\n  'object_type': 'Gene',\n  'strand': 1,\n  'source': 'havana',\n  'logic_name': 'havana_homo_sapiens',\n  'end': 16989936,\n  'id': 'ENSG00000256211',\n  'species': 'homo_sapiens',\n  'biotype': 'processed_pseudogene',\n  'assembly_name': 'GRCh38',\n  'display_name': 'AC023512.1',\n  'db_type': 'core',\n  'start': 16989126},\n 'ENSG00000270024': None,\n 'ENSG00000254962': None}"
     },
     "metadata": {},
     "execution_count": 12
    }
   ],
   "source": [
    "names = []\n",
    "for name in intxn:\n",
    "    print(hgnc_lookup.loc[name,'id'], data_lookup.loc[name,'id'])\n",
    "    names.append(hgnc_lookup.loc[name,'id'])\n",
    "tc.ensembl_name_request('id', names)"
   ]
  },
  {
   "cell_type": "code",
   "execution_count": 38,
   "metadata": {},
   "outputs": [
    {
     "output_type": "execute_result",
     "data": {
      "text/plain": "38953"
     },
     "metadata": {},
     "execution_count": 38
    }
   ],
   "source": [
    "len(hgnc_lookup['id'].unique())"
   ]
  },
  {
   "cell_type": "code",
   "execution_count": 10,
   "metadata": {},
   "outputs": [
    {
     "output_type": "error",
     "ename": "AttributeError",
     "evalue": "'int' object has no attribute 'upper'",
     "traceback": [
      "\u001b[0;31m---------------------------------------------------------------------------\u001b[0m",
      "\u001b[0;31mAttributeError\u001b[0m                            Traceback (most recent call last)",
      "\u001b[0;32m<ipython-input-10-1dfc6ac9b4f5>\u001b[0m in \u001b[0;36m<module>\u001b[0;34m\u001b[0m\n\u001b[0;32m----> 1\u001b[0;31m \u001b[0mtc\u001b[0m\u001b[0;34m.\u001b[0m\u001b[0mtest_caps_equality\u001b[0m\u001b[0;34m(\u001b[0m\u001b[0mdf\u001b[0m\u001b[0;34m)\u001b[0m\u001b[0;34m\u001b[0m\u001b[0;34m\u001b[0m\u001b[0m\n\u001b[0m",
      "\u001b[0;32m/gpfs/gsfs9/users/BIDS-HPC/private/projects/dmi/checkout/target_class_lib.py\u001b[0m in \u001b[0;36mtest_caps_equality\u001b[0;34m(df)\u001b[0m\n\u001b[1;32m    394\u001b[0m     \u001b[0;32mfor\u001b[0m \u001b[0micol\u001b[0m\u001b[0;34m,\u001b[0m \u001b[0mseries\u001b[0m \u001b[0;32min\u001b[0m \u001b[0menumerate\u001b[0m\u001b[0;34m(\u001b[0m\u001b[0;34m[\u001b[0m\u001b[0mdf\u001b[0m\u001b[0;34m.\u001b[0m\u001b[0mindex\u001b[0m\u001b[0;34m.\u001b[0m\u001b[0mto_series\u001b[0m\u001b[0;34m(\u001b[0m\u001b[0;34m)\u001b[0m\u001b[0;34m]\u001b[0m \u001b[0;34m+\u001b[0m \u001b[0;34m[\u001b[0m\u001b[0mdf\u001b[0m\u001b[0;34m.\u001b[0m\u001b[0miloc\u001b[0m\u001b[0;34m[\u001b[0m\u001b[0;34m:\u001b[0m\u001b[0;34m,\u001b[0m\u001b[0micol\u001b[0m\u001b[0;34m]\u001b[0m \u001b[0;32mfor\u001b[0m \u001b[0micol\u001b[0m \u001b[0;32min\u001b[0m \u001b[0mrange\u001b[0m\u001b[0;34m(\u001b[0m\u001b[0mdf\u001b[0m\u001b[0;34m.\u001b[0m\u001b[0mshape\u001b[0m\u001b[0;34m[\u001b[0m\u001b[0;36m1\u001b[0m\u001b[0;34m]\u001b[0m\u001b[0;34m)\u001b[0m\u001b[0;34m]\u001b[0m\u001b[0;34m)\u001b[0m\u001b[0;34m:\u001b[0m\u001b[0;34m\u001b[0m\u001b[0;34m\u001b[0m\u001b[0m\n\u001b[1;32m    395\u001b[0m         \u001b[0mseries2\u001b[0m \u001b[0;34m=\u001b[0m \u001b[0mseries\u001b[0m\u001b[0;34m[\u001b[0m\u001b[0mseries\u001b[0m\u001b[0;34m.\u001b[0m\u001b[0mnotnull\u001b[0m\u001b[0;34m(\u001b[0m\u001b[0;34m)\u001b[0m\u001b[0;34m]\u001b[0m\u001b[0;34m\u001b[0m\u001b[0;34m\u001b[0m\u001b[0m\n\u001b[0;32m--> 396\u001b[0;31m         \u001b[0mseries3\u001b[0m \u001b[0;34m=\u001b[0m \u001b[0mseries2\u001b[0m\u001b[0;34m.\u001b[0m\u001b[0mapply\u001b[0m\u001b[0;34m(\u001b[0m\u001b[0;32mlambda\u001b[0m \u001b[0mx\u001b[0m\u001b[0;34m:\u001b[0m \u001b[0mx\u001b[0m\u001b[0;34m.\u001b[0m\u001b[0mupper\u001b[0m\u001b[0;34m(\u001b[0m\u001b[0;34m)\u001b[0m\u001b[0;34m)\u001b[0m\u001b[0;34m\u001b[0m\u001b[0;34m\u001b[0m\u001b[0m\n\u001b[0m\u001b[1;32m    397\u001b[0m         \u001b[0mprint\u001b[0m\u001b[0;34m(\u001b[0m\u001b[0;34m'Uppercase equality of column {}: {}'\u001b[0m\u001b[0;34m.\u001b[0m\u001b[0mformat\u001b[0m\u001b[0;34m(\u001b[0m\u001b[0micol\u001b[0m\u001b[0;34m,\u001b[0m \u001b[0;34m(\u001b[0m\u001b[0mseries2\u001b[0m\u001b[0;34m==\u001b[0m\u001b[0mseries3\u001b[0m\u001b[0;34m)\u001b[0m\u001b[0;34m.\u001b[0m\u001b[0msum\u001b[0m\u001b[0;34m(\u001b[0m\u001b[0maxis\u001b[0m\u001b[0;34m=\u001b[0m\u001b[0;36m0\u001b[0m\u001b[0;34m)\u001b[0m\u001b[0;34m==\u001b[0m\u001b[0mlen\u001b[0m\u001b[0;34m(\u001b[0m\u001b[0mseries2\u001b[0m\u001b[0;34m)\u001b[0m\u001b[0;34m)\u001b[0m\u001b[0;34m)\u001b[0m\u001b[0;34m\u001b[0m\u001b[0;34m\u001b[0m\u001b[0m\n",
      "\u001b[0;32m/data/weismanal/miniconda3/envs/myenv/lib/python3.7/site-packages/pandas/core/series.py\u001b[0m in \u001b[0;36mapply\u001b[0;34m(self, func, convert_dtype, args, **kwds)\u001b[0m\n\u001b[1;32m   3846\u001b[0m             \u001b[0;32melse\u001b[0m\u001b[0;34m:\u001b[0m\u001b[0;34m\u001b[0m\u001b[0;34m\u001b[0m\u001b[0m\n\u001b[1;32m   3847\u001b[0m                 \u001b[0mvalues\u001b[0m \u001b[0;34m=\u001b[0m \u001b[0mself\u001b[0m\u001b[0;34m.\u001b[0m\u001b[0mastype\u001b[0m\u001b[0;34m(\u001b[0m\u001b[0mobject\u001b[0m\u001b[0;34m)\u001b[0m\u001b[0;34m.\u001b[0m\u001b[0mvalues\u001b[0m\u001b[0;34m\u001b[0m\u001b[0;34m\u001b[0m\u001b[0m\n\u001b[0;32m-> 3848\u001b[0;31m                 \u001b[0mmapped\u001b[0m \u001b[0;34m=\u001b[0m \u001b[0mlib\u001b[0m\u001b[0;34m.\u001b[0m\u001b[0mmap_infer\u001b[0m\u001b[0;34m(\u001b[0m\u001b[0mvalues\u001b[0m\u001b[0;34m,\u001b[0m \u001b[0mf\u001b[0m\u001b[0;34m,\u001b[0m \u001b[0mconvert\u001b[0m\u001b[0;34m=\u001b[0m\u001b[0mconvert_dtype\u001b[0m\u001b[0;34m)\u001b[0m\u001b[0;34m\u001b[0m\u001b[0;34m\u001b[0m\u001b[0m\n\u001b[0m\u001b[1;32m   3849\u001b[0m \u001b[0;34m\u001b[0m\u001b[0m\n\u001b[1;32m   3850\u001b[0m         \u001b[0;32mif\u001b[0m \u001b[0mlen\u001b[0m\u001b[0;34m(\u001b[0m\u001b[0mmapped\u001b[0m\u001b[0;34m)\u001b[0m \u001b[0;32mand\u001b[0m \u001b[0misinstance\u001b[0m\u001b[0;34m(\u001b[0m\u001b[0mmapped\u001b[0m\u001b[0;34m[\u001b[0m\u001b[0;36m0\u001b[0m\u001b[0;34m]\u001b[0m\u001b[0;34m,\u001b[0m \u001b[0mSeries\u001b[0m\u001b[0;34m)\u001b[0m\u001b[0;34m:\u001b[0m\u001b[0;34m\u001b[0m\u001b[0;34m\u001b[0m\u001b[0m\n",
      "\u001b[0;32mpandas/_libs/lib.pyx\u001b[0m in \u001b[0;36mpandas._libs.lib.map_infer\u001b[0;34m()\u001b[0m\n",
      "\u001b[0;32m/gpfs/gsfs9/users/BIDS-HPC/private/projects/dmi/checkout/target_class_lib.py\u001b[0m in \u001b[0;36m<lambda>\u001b[0;34m(x)\u001b[0m\n\u001b[1;32m    394\u001b[0m     \u001b[0;32mfor\u001b[0m \u001b[0micol\u001b[0m\u001b[0;34m,\u001b[0m \u001b[0mseries\u001b[0m \u001b[0;32min\u001b[0m \u001b[0menumerate\u001b[0m\u001b[0;34m(\u001b[0m\u001b[0;34m[\u001b[0m\u001b[0mdf\u001b[0m\u001b[0;34m.\u001b[0m\u001b[0mindex\u001b[0m\u001b[0;34m.\u001b[0m\u001b[0mto_series\u001b[0m\u001b[0;34m(\u001b[0m\u001b[0;34m)\u001b[0m\u001b[0;34m]\u001b[0m \u001b[0;34m+\u001b[0m \u001b[0;34m[\u001b[0m\u001b[0mdf\u001b[0m\u001b[0;34m.\u001b[0m\u001b[0miloc\u001b[0m\u001b[0;34m[\u001b[0m\u001b[0;34m:\u001b[0m\u001b[0;34m,\u001b[0m\u001b[0micol\u001b[0m\u001b[0;34m]\u001b[0m \u001b[0;32mfor\u001b[0m \u001b[0micol\u001b[0m \u001b[0;32min\u001b[0m \u001b[0mrange\u001b[0m\u001b[0;34m(\u001b[0m\u001b[0mdf\u001b[0m\u001b[0;34m.\u001b[0m\u001b[0mshape\u001b[0m\u001b[0;34m[\u001b[0m\u001b[0;36m1\u001b[0m\u001b[0;34m]\u001b[0m\u001b[0;34m)\u001b[0m\u001b[0;34m]\u001b[0m\u001b[0;34m)\u001b[0m\u001b[0;34m:\u001b[0m\u001b[0;34m\u001b[0m\u001b[0;34m\u001b[0m\u001b[0m\n\u001b[1;32m    395\u001b[0m         \u001b[0mseries2\u001b[0m \u001b[0;34m=\u001b[0m \u001b[0mseries\u001b[0m\u001b[0;34m[\u001b[0m\u001b[0mseries\u001b[0m\u001b[0;34m.\u001b[0m\u001b[0mnotnull\u001b[0m\u001b[0;34m(\u001b[0m\u001b[0;34m)\u001b[0m\u001b[0;34m]\u001b[0m\u001b[0;34m\u001b[0m\u001b[0;34m\u001b[0m\u001b[0m\n\u001b[0;32m--> 396\u001b[0;31m         \u001b[0mseries3\u001b[0m \u001b[0;34m=\u001b[0m \u001b[0mseries2\u001b[0m\u001b[0;34m.\u001b[0m\u001b[0mapply\u001b[0m\u001b[0;34m(\u001b[0m\u001b[0;32mlambda\u001b[0m \u001b[0mx\u001b[0m\u001b[0;34m:\u001b[0m \u001b[0mx\u001b[0m\u001b[0;34m.\u001b[0m\u001b[0mupper\u001b[0m\u001b[0;34m(\u001b[0m\u001b[0;34m)\u001b[0m\u001b[0;34m)\u001b[0m\u001b[0;34m\u001b[0m\u001b[0;34m\u001b[0m\u001b[0m\n\u001b[0m\u001b[1;32m    397\u001b[0m         \u001b[0mprint\u001b[0m\u001b[0;34m(\u001b[0m\u001b[0;34m'Uppercase equality of column {}: {}'\u001b[0m\u001b[0;34m.\u001b[0m\u001b[0mformat\u001b[0m\u001b[0;34m(\u001b[0m\u001b[0micol\u001b[0m\u001b[0;34m,\u001b[0m \u001b[0;34m(\u001b[0m\u001b[0mseries2\u001b[0m\u001b[0;34m==\u001b[0m\u001b[0mseries3\u001b[0m\u001b[0;34m)\u001b[0m\u001b[0;34m.\u001b[0m\u001b[0msum\u001b[0m\u001b[0;34m(\u001b[0m\u001b[0maxis\u001b[0m\u001b[0;34m=\u001b[0m\u001b[0;36m0\u001b[0m\u001b[0;34m)\u001b[0m\u001b[0;34m==\u001b[0m\u001b[0mlen\u001b[0m\u001b[0;34m(\u001b[0m\u001b[0mseries2\u001b[0m\u001b[0;34m)\u001b[0m\u001b[0;34m)\u001b[0m\u001b[0;34m)\u001b[0m\u001b[0;34m\u001b[0m\u001b[0;34m\u001b[0m\u001b[0m\n",
      "\u001b[0;31mAttributeError\u001b[0m: 'int' object has no attribute 'upper'"
     ]
    }
   ],
   "source": [
    "tc.test_caps_equality(df)"
   ]
  },
  {
   "cell_type": "code",
   "execution_count": 37,
   "metadata": {},
   "outputs": [
    {
     "output_type": "execute_result",
     "data": {
      "text/plain": "{'AGPAT4-IT1',\n 'ATP8A2P1',\n 'BMS1P20',\n 'BRD7P3',\n 'C10ORF126',\n 'CBX3P2',\n 'CDR1',\n 'COX7BP1',\n 'ENO1-IT1',\n 'ENSG00000069712',\n 'ENSG00000133808',\n 'ENSG00000184258',\n 'ENSG00000186354',\n 'ENSG00000198384',\n 'ENSG00000204365',\n 'ENSG00000205662',\n 'ENSG00000205663',\n 'ENSG00000205850',\n 'ENSG00000212290',\n 'ENSG00000213865',\n 'ENSG00000220548',\n 'ENSG00000221972',\n 'ENSG00000223111',\n 'ENSG00000223119',\n 'ENSG00000223929',\n 'ENSG00000224813',\n 'ENSG00000225520',\n 'ENSG00000231865',\n 'ENSG00000233265',\n 'ENSG00000233864',\n 'ENSG00000234449',\n 'ENSG00000235719',\n 'ENSG00000236269',\n 'ENSG00000236850',\n 'ENSG00000240800',\n 'ENSG00000241670',\n 'ENSG00000242349',\n 'ENSG00000243251',\n 'ENSG00000243453',\n 'ENSG00000248686',\n 'ENSG00000250003',\n 'ENSG00000251317',\n 'ENSG00000253264',\n 'ENSG00000254462',\n 'ENSG00000254671',\n 'ENSG00000254962',\n 'ENSG00000256304',\n 'ENSG00000256763',\n 'ENSG00000256927',\n 'ENSG00000257151',\n 'ENSG00000260760',\n 'ENSG00000265119',\n 'ENSG00000265592',\n 'ENSG00000266960',\n 'ENSG00000269721',\n 'ENSG00000270024',\n 'ENSG00000270898',\n 'ENSG00000273585',\n 'ENSG00000279355',\n 'ENSG00000283073',\n 'ID2B',\n 'LAMB2P1',\n 'LINC00904',\n 'MICF',\n 'MRS2P2',\n 'MT1IP',\n 'NPPA-AS1',\n 'OR1R1P',\n 'OR4A14P',\n 'PGBD3',\n 'PWAR6',\n 'RNA5SP424',\n 'SIK3-IT1',\n 'SKP1P2',\n 'TOP1P1',\n 'TPTE2P3',\n 'TTTY15',\n 'TTTY16',\n 'YWHAQP8'}"
     },
     "metadata": {},
     "execution_count": 37
    }
   ],
   "source": [
    "#len(hgnc_lookup['id'].unique())\n",
    "#len(hgnc_lookup.index.unique())\n",
    "set1 = set(data_lookup.index[data_lookup['id'].isnull()]) # the question is which of these are in HGNC lookup\n",
    "set2 = set(hgnc_lookup.index)\n",
    "set1 & set2"
   ]
  },
  {
   "cell_type": "code",
   "execution_count": null,
   "metadata": {},
   "outputs": [],
   "source": [
    "ENSG00000198384 TPTE2P3\n",
    "ENSG00000266405 CBX3P2\n",
    "ENSG00000256211 SKP1P2\n",
    "ENSG00000271171 LINC00904\n",
    "ENSG00000243251 PGBD3\n",
    "ENSG00000212290 RNA5SP424\n",
    "ENSG00000257151 PWAR6\n",
    "ENSG00000257802 MRS2P2\n",
    "ENSG00000180042 OR1R1P\n",
    "ENSG00000270441 LAMB2P1\n",
    "ENSG00000275691 MT1IP\n",
    "ENSG00000231643 YWHAQP8\n",
    "ENSG00000237456 ID2B\n",
    "ENSG00000233864 TTTY15\n",
    "ENSG00000285665 TOP1P1\n",
    "ENSG00000236269 ENO1-IT1\n",
    "ENSG00000184258 CDR1\n",
    "ENSG00000236850 BMS1P20\n",
    "ENSG00000279355 AGPAT4-IT1\n",
    "ENSG00000240800 ATP8A2P1\n",
    "ENSG00000225520 TTTY16\n",
    "ENSG00000169075 BRD7P3\n",
    "ENSG00000231865 SIK3-IT1\n",
    "ENSG00000243453 COX7BP1\n",
    "ENSG00000254962 OR4A14P\n",
    "ENSG00000233265 MICF\n",
    "ENSG00000242349 NPPA-AS1"
   ]
  },
  {
   "cell_type": "code",
   "execution_count": 66,
   "metadata": {},
   "outputs": [
    {
     "output_type": "stream",
     "name": "stdout",
     "text": "Uppercase equality of column 0: True\nUppercase equality of column 1: True\n"
    }
   ],
   "source": [
    "def test_caps_equality(df):\n",
    "    for icol, series in enumerate([df.index.to_series()] + [df.iloc[:,icol] for icol in range(df.shape[1])]):\n",
    "        series2 = series[series.notnull()]\n",
    "        series3 = series2.apply(lambda x: x.upper())\n",
    "        print('Uppercase equality of column {}: {}'.format(icol, (series2==series3).sum(axis=0)==len(series2)))\n",
    "\n",
    "test_caps_equality(data_lookup)"
   ]
  },
  {
   "cell_type": "code",
   "execution_count": 9,
   "metadata": {},
   "outputs": [],
   "source": [
    "import pandas as pd\n",
    "d = {'col1': ['andrew', 'weisman'], 'col2': [None, 'WEISMAN']}\n",
    "df = pd.DataFrame(data=d)\n",
    "# print((df['col1'] == df['col2']).sum(axis=0) == len(df))\n",
    "# print(type(hgnc_lookup.index.to_series()), type(df['col1']))\n",
    "# df['col2'][df['col2'].notnull()]\n",
    "# type(df.iloc[:,1])\n",
    "\n"
   ]
  },
  {
   "cell_type": "code",
   "execution_count": 8,
   "metadata": {},
   "outputs": [
    {
     "output_type": "execute_result",
     "data": {
      "text/plain": "                              id\nname                            \nENSG00000023902  ENSG00000023902\nENSG00000057757  ENSG00000057757\nENSG00000006652  ENSG00000006652\nENSG00000006327  ENSG00000006327\nENSG00000058272  ENSG00000058272\n...                          ...\nZNF33AP1         ENSG00000235197\nZFYVE20          ENSG00000131381\nZCCHC16          ENSG00000187823\nZNF434           ENSG00000140987\nZNF645           ENSG00000175809\n\n[128610 rows x 1 columns]",
      "text/html": "<div>\n<style scoped>\n    .dataframe tbody tr th:only-of-type {\n        vertical-align: middle;\n    }\n\n    .dataframe tbody tr th {\n        vertical-align: top;\n    }\n\n    .dataframe thead th {\n        text-align: right;\n    }\n</style>\n<table border=\"1\" class=\"dataframe\">\n  <thead>\n    <tr style=\"text-align: right;\">\n      <th></th>\n      <th>id</th>\n    </tr>\n    <tr>\n      <th>name</th>\n      <th></th>\n    </tr>\n  </thead>\n  <tbody>\n    <tr>\n      <th>ENSG00000023902</th>\n      <td>ENSG00000023902</td>\n    </tr>\n    <tr>\n      <th>ENSG00000057757</th>\n      <td>ENSG00000057757</td>\n    </tr>\n    <tr>\n      <th>ENSG00000006652</th>\n      <td>ENSG00000006652</td>\n    </tr>\n    <tr>\n      <th>ENSG00000006327</th>\n      <td>ENSG00000006327</td>\n    </tr>\n    <tr>\n      <th>ENSG00000058272</th>\n      <td>ENSG00000058272</td>\n    </tr>\n    <tr>\n      <th>...</th>\n      <td>...</td>\n    </tr>\n    <tr>\n      <th>ZNF33AP1</th>\n      <td>ENSG00000235197</td>\n    </tr>\n    <tr>\n      <th>ZFYVE20</th>\n      <td>ENSG00000131381</td>\n    </tr>\n    <tr>\n      <th>ZCCHC16</th>\n      <td>ENSG00000187823</td>\n    </tr>\n    <tr>\n      <th>ZNF434</th>\n      <td>ENSG00000140987</td>\n    </tr>\n    <tr>\n      <th>ZNF645</th>\n      <td>ENSG00000175809</td>\n    </tr>\n  </tbody>\n</table>\n<p>128610 rows × 1 columns</p>\n</div>"
     },
     "metadata": {},
     "execution_count": 8
    }
   ],
   "source": [
    "data_lookup"
   ]
  },
  {
   "cell_type": "code",
   "execution_count": 9,
   "metadata": {},
   "outputs": [
    {
     "output_type": "execute_result",
     "data": {
      "text/plain": "                              id\nname                            \nENSG00000121410  ENSG00000121410\nENSG00000268895  ENSG00000268895\nENSG00000148584  ENSG00000148584\nENSG00000175899  ENSG00000175899\nENSG00000245105  ENSG00000245105\n...                          ...\nZYG11B           ENSG00000162378\nZYX              ENSG00000159840\nZYXP1            ENSG00000274572\nZZEF1            ENSG00000074755\nZZZ3             ENSG00000036549\n\n[77912 rows x 1 columns]",
      "text/html": "<div>\n<style scoped>\n    .dataframe tbody tr th:only-of-type {\n        vertical-align: middle;\n    }\n\n    .dataframe tbody tr th {\n        vertical-align: top;\n    }\n\n    .dataframe thead th {\n        text-align: right;\n    }\n</style>\n<table border=\"1\" class=\"dataframe\">\n  <thead>\n    <tr style=\"text-align: right;\">\n      <th></th>\n      <th>id</th>\n    </tr>\n    <tr>\n      <th>name</th>\n      <th></th>\n    </tr>\n  </thead>\n  <tbody>\n    <tr>\n      <th>ENSG00000121410</th>\n      <td>ENSG00000121410</td>\n    </tr>\n    <tr>\n      <th>ENSG00000268895</th>\n      <td>ENSG00000268895</td>\n    </tr>\n    <tr>\n      <th>ENSG00000148584</th>\n      <td>ENSG00000148584</td>\n    </tr>\n    <tr>\n      <th>ENSG00000175899</th>\n      <td>ENSG00000175899</td>\n    </tr>\n    <tr>\n      <th>ENSG00000245105</th>\n      <td>ENSG00000245105</td>\n    </tr>\n    <tr>\n      <th>...</th>\n      <td>...</td>\n    </tr>\n    <tr>\n      <th>ZYG11B</th>\n      <td>ENSG00000162378</td>\n    </tr>\n    <tr>\n      <th>ZYX</th>\n      <td>ENSG00000159840</td>\n    </tr>\n    <tr>\n      <th>ZYXP1</th>\n      <td>ENSG00000274572</td>\n    </tr>\n    <tr>\n      <th>ZZEF1</th>\n      <td>ENSG00000074755</td>\n    </tr>\n    <tr>\n      <th>ZZZ3</th>\n      <td>ENSG00000036549</td>\n    </tr>\n  </tbody>\n</table>\n<p>77912 rows × 1 columns</p>\n</div>"
     },
     "metadata": {},
     "execution_count": 9
    }
   ],
   "source": [
    "hgnc_lookup"
   ]
  },
  {
   "cell_type": "code",
   "execution_count": 19,
   "metadata": {},
   "outputs": [],
   "source": [
    "import random\n",
    "x = random.sample([x[0] for x in id_lookup_list], k=1000)\n",
    "x.sort()\n",
    "y = tc.ensembl_name_request('id', x)"
   ]
  },
  {
   "cell_type": "code",
   "execution_count": 25,
   "metadata": {},
   "outputs": [
    {
     "output_type": "execute_result",
     "data": {
      "text/plain": "True"
     },
     "metadata": {},
     "execution_count": 25
    }
   ],
   "source": [
    "z = [i for i in y.keys()]\n",
    "set(x)==set(z)"
   ]
  },
  {
   "cell_type": "code",
   "execution_count": 11,
   "metadata": {},
   "outputs": [
    {
     "output_type": "execute_result",
     "data": {
      "text/plain": "'ENSG00000198691'],\n ['AC005280.1', 'ENSG00000251393'],\n ['AC005086.1', 'ENSG00000252824'],\n ['ABHD11-AS1', 'ENSG00000225969'],\n ['A1CF', 'ENSG00000148584'],\n ['AADACL2', 'ENSG00000197953'],\n ['AC006427.1', 'ENSG00000248851'],\n ['AC007179.1', 'ENSG00000231815'],\n ['AASS', 'ENSG00000008311'],\n ['ABCC5-AS1', 'ENSG00000223882'],\n ['A2MP1', 'ENSG00000256069'],\n ['AATF', 'ENSG00000275700'],\n ['AC006427.2', 'ENSG00000286888'],\n ['ABCG4', 'ENSG00000172350'],\n ['AC005013.1', 'ENSG00000228421'],\n ['AC005086.3', 'ENSG00000279724'],\n ['ABCC11', 'ENSG00000121270'],\n ['AC002331.1', 'ENSG00000286712'],\n ['AC003070.1', 'ENSG00000267344'],\n ['ABHD17A', 'ENSG00000129968'],\n ['AC002553.1', 'ENSG00000227782'],\n ['ABHD11', 'ENSG00000106077'],\n ['AC005544.1', 'ENSG00000264491'],\n ['ABCC6P1', 'ENSG00000256340'],\n ['ABCA9', 'ENSG00000154258'],\n ['ABCC2', 'ENSG00000023839'],\n ['AC006076.1', 'ENSG00000225563'],\n ['AC006539.1', 'ENSG00000240673'],\n ['ABHD6', 'ENSG00000163686'],\n ['ABHD8', 'ENSG00000127220'],\n ['AC004797.1', 'ENSG00000177369'],\n ['AC005086.5', 'ENSG00000280404'],\n ['AC005071.2', 'ENSG00000287631'],\n ['AAAS', 'ENSG00000094914'],\n ['ABLIM1', 'ENSG00000099204'],\n ['AC005034.2', 'ENSG00000230477'],\n ['ABHD14A-ACY1', 'ENSG00000114786'],\n ['AC003035.1', 'ENSG00000212663'],\n ['AC003958.2', 'ENSG00000234859'],\n ['AC007036.4', 'ENSG00000283618'],\n ['AC000367.1', 'ENSG00000224981'],\n ['ABTB2', 'ENSG00000166016'],\n ['ABCA11P', 'ENSG00000251595'],\n ['ABCA10', 'ENSG00000154263'],\n ['ABL1', 'ENSG00000097007'],\n ['ABHD3', 'ENSG00000158201'],\n ['AC004917.1', 'ENSG00000243797'],\n ['AC005355.2', 'ENSG00000280420'],\n ['AC003985.1', 'ENSG00000233824'],\n ['AC002365.1', 'ENSG00000206844'],\n ['AC005498.3', 'ENSG00000269696'],\n ['AC005838.2', 'ENSG00000252129'],\n ['ABHD1', 'ENSG00000143994'],\n ['AC005838.1', 'ENSG00000223544'],\n ['ABCC13', 'ENSG00000243064'],\n ['AC003009.1', 'ENSG00000262011'],\n ['AC003988.1', 'ENSG00000234223'],\n ['AC005392.1', 'ENSG00000227606'],\n ['AC006499.5', 'ENSG00000251278'],\n ['AC005281.1', 'ENSG00000225606'],\n ['AC006150.1', 'ENSG00000226323'],\n ['AC004053.1', 'ENSG00000248242'],\n ['AADACL3', 'ENSG00000188984'],\n ['AC004980.8', 'ENSG00000282580'],\n ['AAR2', 'ENSG00000131043'],\n ['ABCB1', 'ENSG00000085563'],\n ['AC005178.1', 'ENSG00000251243'],\n ['AC006196.1', 'ENSG00000252517'],\n ['AC006483.1', 'ENSG00000228974'],\n ['ABHD4', 'ENSG00000100439'],\n ['ABCC12', 'ENSG00000140798'],\n ['ABCD1P5', 'ENSG00000214330'],\n ['ABCD2', 'ENSG00000173208'],\n ['AC003077.1', 'ENSG00000287011'],\n ['AC006041.1', 'ENSG00000229379'],\n ['AC006372.4', 'ENSG00000280266'],\n ['AC005020.1', 'ENSG00000224448'],\n ['AC007114.1', 'ENSG00000263004'],\n ['AC004837.4', 'ENSG00000287584'],\n ['AC004009.3', 'ENSG00000279655'],\n ['ABCA9-AS1', 'ENSG00000231749'],\n ['AC005730.2', 'ENSG00000261033'],\n ['ABHD16B', 'ENSG00000183260'],\n ['ABHD17C', 'ENSG00000136379'],\n ['ABCC6P2', 'ENSG00000255277'],\n ['ABHD15', 'ENSG00000168792'],\n ['AC002386.1', 'ENSG00000230941'],\n ['ABLIM2', 'ENSG00000163995'],\n ['AC005618.1', 'ENSG00000272070'],\n ['AC006460.2', 'ENSG00000284052'],\n ['AC005786.3', 'ENSG00000267436'],\n ['AACSP1', 'ENSG00000250420'],\n ['AC005071.1', 'ENSG00000201913'],\n ['AAK1', 'ENSG00000115977'],\n ['AC004492.1', 'ENSG00000272072'],\n ['AC005336.2', 'ENSG00000267218'],\n ['AC002070.1', 'ENSG00000248636'],\n ['AC006335.2', 'ENSG00000275352'],\n ['AC007003.1', 'ENSG00000231183'],\n ['AC005000.1', 'ENSG00000228532'],\n ['AC002558.1', 'ENSG00000239291'],\n ['AC006499.7', 'ENSG00000251338'],\n ['ABCG1', 'ENSG00000160179'],\n ['AC004980.1', 'ENSG00000205485'],\n ['AC005000.2', 'ENSG00000270431'],\n ['AC004069.2', 'ENSG00000251473'],\n ['ABCC5', 'ENSG00000114770'],\n ['AACS', 'ENSG00000081760'],\n ['AC000374.1', 'ENSG00000227249'],\n ['ABCC6', 'ENSG00000091262'],\n ['AC004866.1', 'ENSG00000223514'],\n ['AC005255.1', 'ENSG00000256210'],\n ['ABHD5', 'ENSG00000011198'],\n ['AC005772.2', 'ENSG00000287307'],\n ['AC004054.1', 'ENSG00000248984'],\n ['AC005537.2', 'ENSG00000232006'],\n ['AC003006.1', 'ENSG00000269026'],\n ['AC004771.1', 'ENSG00000234203'],\n ['AC005625.1', 'ENSG00000266963'],\n ['AANAT', 'ENSG00000129673'],\n ['ABL2', 'ENSG00000143322'],\n ['AC003984.1', 'ENSG00000235139'],\n ['AC006499.2', 'ENSG00000250074'],\n ['AARD', 'ENSG00000205002'],\n ['AC002066.1', 'ENSG00000237813'],\n ['A4GALT', 'ENSG00000128274'],\n ['AC005229.5', 'ENSG00000287636'],\n ['AC006947.1', 'ENSG00000229330'],\n ['AC004148.1', 'ENSG00000263272'],\n ['ABCB6', 'ENSG00000115657'],\n ['AC005758.1', 'ENSG00000267630'],\n ['AC007099.2', 'ENSG00000237293'],\n ['ABHD14B', 'ENSG00000114779'],\n ['AC004079.1', 'ENSG00000274396'],\n ['AC006328.1', 'ENSG00000233619'],\n ['AC005307.1', 'ENSG00000260725'],\n ['ABCD1', 'ENSG00000101986'],\n ['AC005154.5', 'ENSG00000281039'],\n ['AC002480.2', 'ENSG00000232949'],\n ['AC003043.2', 'ENSG00000267211'],\n ['AC004562.1', 'ENSG00000199801'],\n ['AC005943.2', 'ENSG00000279009'],\n ['AC004063.1', 'ENSG00000250670'],\n ['AC002511.1', 'ENSG00000232680'],\n ['ABI3BP', 'ENSG00000154175'],\n ['ABI2', 'ENSG00000138443'],\n ['ABCC9', 'ENSG00000069431'],\n ['ABHD13', 'ENSG00000139826'],\n ['AC000124.1', 'ENSG00000226770'],\n ['A3GALT2', 'ENSG00000184389'],\n ['AC004869.2', 'ENSG00000240355'],\n ['AC005086.4', 'ENSG00000280004'],\n ['AC007014.1', 'ENSG00000262020'],\n ['AC000081.2', 'ENSG00000251940'],\n ['AC007126.1', 'ENSG00000250497'],\n ['AC005594.1', 'ENSG00000287884'],\n ['AC002543.2', 'ENSG00000252115'],\n ['ABHD2', 'ENSG00000140526'],\n ['ABCB10P4', 'ENSG00000260053'],\n ['AC004706.1', 'ENSG00000261996'],\n ['AC004812.1', 'ENSG00000255575'],\n ['ABCB7', 'ENSG00000131269'],\n ['ABCA3', 'ENSG00000167972'],\n ['AC005597.1', 'ENSG00000267223'],\n ['AC006539.2', 'ENSG00000268070'],\n ['AC006452.1', 'ENSG00000201354'],\n ['ABTB1', 'ENSG00000114626'],\n ['AC007106.1', 'ENSG00000251410'],\n ['AC002401.1', 'ENSG00000236472'],\n ['AC005391.3', None],\n ['AC005330.2', None],\n ['AC005329.7', None],\n ['AC007040.10', None],\n ['AC006159.4', None],\n ['AC004893.11', None],\n ['AC004692.4', None],\n ['AC002310.11', None],\n ['AC005392.13', None],\n ['AC002069.6', None],\n ['AC005895.4', None],\n ['AC004744.3', None],\n ['AC004019.13', None],\n ['AC005532.5', None],\n ['AC004741.3', None],\n ['AC006277.2', None],\n ['AC005014.5', None],\n ['AC002127.4', None],\n ['AC004460.1', None],\n ['AC002472.13', None],\n ['AC004840.9', None],\n ['AC004066.2', None],\n ['AC003658.1', None],\n ['AC004878.7', None],\n ['AC005276.1', None],\n ['AC005780.1', None],\n ['AC006159.5', None],\n ['AC007064.25', None],\n ['AC004014.3', None],\n ['AC006116.14', None],\n ['AC005682.6', None],\n ['ABC7-42389800N19.1', None],\n ['AC006461.2', None],\n ['AC002398.12', None],\n ['AC006042.6', None],\n ['AC005493.1', None],\n ['AC006126.4', None],\n ['AC004022.7', None],\n ['AC006052.1', None],\n ['AC007000.10', None],\n ['AC004854.4', None],\n ['AC004066.3', None],\n ['AC002429.5', None],\n ['AC003989.3', None],\n ['AC005077.7', None],\n ['AC006326.5', None],\n ['AC006509.4', None],\n ['AC004240.2', None],\n ['AC005048.1', None],\n ['AC004862.6', None],\n ['AC005265.1', None],\n ['AC004449.6', None],\n ['AC002984.2', None],\n ['ABHD11-AS2', None],\n ['AC005358.3', None],\n ['AC000032.2', None],\n ['AC002523.1', None],\n ['AC004893.10', None],\n ['AC007025.1', None],\n ['AC005033.6', None],\n ['AC006126.3', None],\n ['AC004878.2', None],\n ['AC006326.3', None],\n ['AC005150.1', None],\n ['AC004231.7', None],\n ['AC005538.5', None],\n ['AC006372.6', None],\n ['AC004957.5', None],\n ['AC006987.7', None],\n ['AC005086.7', None],\n ['AC004528.4', None],\n ['AC004851.1', None],\n ['AC004535.2', None],\n ['AC006116.20', None],\n ['AC005392.8', None],\n ['AC004907.2', None],\n ['ABC11-48400900C8.1', None],\n ['AC002398.13', None],\n ['AC002310.13', None],\n ['AB019438.63', None],\n ['AC006004.1', None],\n ['AC006552.1', None],\n ['AC006033.22', None],\n ['AC000364.1', None],\n ['AC005701.1', None],\n ['AC002454.1', None],\n ['AC005943.4', None],\n ['AC003986.7', None],\n ['AC004463.6', None],\n ['AC005154.6', None],\n ['AC006378.3', None],\n ['AC004702.2', None],\n ['AATK-AS1', None],\n ['AC005154.9', None],\n ['AC006369.3', None],\n ['AC007016.3', None],\n ['AC004016.1', None],\n ['AC002055.4', None],\n ['AC007163.10', None],\n ['AC004876.1', None],\n ['AC005594.3', None],\n ['AC004510.3', None],\n ['AC004156.3', None],\n ['A2LD1', None],\n ['AAED1', None],\n ['AC004540.5', None],\n ['AC005621.1', None],\n ['AC006547.13', None],\n ['AC006116.17', None],\n ['AC003986.5', None],\n ['AC006023.8', None],\n ['AC005363.9', None],\n ['AB019440.1', None],\n ['AC005534.9', None],\n ['AC002429.4', None],\n ['AC005013.5', None],\n ['AC006026.12', None],\n ['AC006273.5', None],\n ['AC006377.1', None],\n ['AC003002.6', None],\n ['AC005251.4', None],\n ['AC002994.1', None],\n ['AC007009.2', None],\n ['AC006160.4', None],\n ['AC002519.8', None],\n ['AC005306.3', None],\n ['AC003664.1', None],\n ['AC005786.5', None],\n ['AC000123.4', None],\n ['AC002978.1', None],\n ['AC006035.1', None],\n ['AC004996.1', None],\n ['AC005281.2', None],\n ['AC006042.8', None],\n ['AC005008.3', None],\n ['AC005040.3', None],\n ['AC006989.2', None],\n ['AC007056.1', None],\n ['AC002480.4', None],\n ['AC002511.4', None],\n ['AC002115.5', None],\n ['AC007040.11', None],\n ['1060P11.3', None],\n ['AC000093.3', None],\n ['AC005487.2', None],\n ['AC005094.2', None],\n ['AC002310.17', None],\n ['AC004878.5', None],\n ['AC005003.1', None],\n ['AC003087.4', None],\n ['AC002451.3', None],\n ['ABC13-48559800H2.2', None],\n ['AC005042.4', None],\n ['AC006195.2', None],\n ['AB019441.29', None],\n ['AC004878.6', None],\n ['AC000120.7', None],\n ['AC004528.3', None],\n ['AC004659.1', None],\n ['AC007038.7', None],\n ['AC005550.5', None],\n ['AB015752.4', None],\n ['AC004824.1', None],\n ['AC000077.2', None],\n ['AC006335.7', None],\n ['AC006160.5', None],\n ['AC003090.1', None],\n ['AC006534.1', None],\n ['A3GALT2P', None],\n ['AC004656.1', None],\n ['AC004471.9', None],\n ['AC005082.12', None],\n ['AC006045.3', None],\n ['AC005007.3', None],\n ['AC005160.3', None],\n ['AC004383.4', None],\n ['AB019438.66', None],\n ['AC005863.2', None],\n ['ABC13-48559800H2.1', None],\n ['AC005205.3', None],\n ['AARS', None],\n ['AC006035.2', None],\n ['AC007163.3', None],\n ['AC006335.11', None],\n ['AC005498.4', None],\n ['AC006116.27', None],\n ['AC004901.1', None],\n ['AC006994.3', None],\n ['AC006335.6', None],\n ['AC007131.1', None],\n ['AC003080.4', None],\n ['AC006145.1', None],\n ['AC005301.8', None],\n ['AC005041.17', None],\n ['AC005783.1', None],\n ['AC000078.5', None],\n ['AB015752.3', None],\n ['AC006026.11', None],\n ['AC007050.18', None],\n ['AC004152.5', None],\n ['AC004461.4', None],\n ['AC006335.10', None],\n ['AC005235.1', None],\n ['AC005042.5', None],\n ['AC007064.22', None],\n ['AC004475.1', None],\n ['AC004074.3', None],\n ['ABP1', None],\n ['AC004837.5', None],\n ['AC006115.3', None],\n ['AC004699.1', None],\n ['AC005029.1', None],\n ['AC003003.5', None],\n ['AC003045.1', None],\n ['AC000041.8', None],\n ['AC006227.1', None],\n ['AC005522.7', None],\n ['AC005326.2', None],\n ['AC005229.7', None],\n ['AC002398.11', None],\n ['AC004985.12', None],\n ['AC002127.2', None],\n ['AC006378.2', None],\n ['AC005035.1', None],\n ['AC002076.10', None],\n ['AC003991.3', None],\n ['AC003051.1', None],\n ['AC006374.2', None],\n ['AC005519.4', None],\n ['AC007050.17', None],\n ['AC005754.1', None],\n ['AC005077.8', None],\n ['AC006022.4', None],\n ['AC005189.6', None],\n ['AC006157.2', None],\n ['AC004924.1', None],\n ['AC006014.10', None],\n ['AC004623.2', None],\n ['AC002519.5', None],\n ['AC002310.10', None],\n ['AC005215.2', None],\n ['AB019439.68', None],\n ['AC005550.3', None],\n ['AC006465.4', None],\n ['AC006328.9', None],\n ['AC006372.5', None],\n ['AC002485.1', None],\n ['AC005391.2', None],\n ['AC005757.6', None],\n ['AC003104.1', None],\n ['AC002117.1', None],\n ['AACP', None],\n ['AC004129.7', None],\n ['AC004895.4', None],\n ['AC004543.2', None],\n ['AC007131.3', None],\n ['AC006995.8', None],\n ['AC002366.3', None],\n ['AC004528.5', None],\n ['AC000110.1', None],\n ['AC007040.5', None],\n ['AC004655.1', None],\n ['AC004967.11', None],\n ['AC004041.2', None],\n ['ABC7-42391500H16.2', None],\n ['AC000089.3', None],\n ['AC005159.1', None],\n ['AC004863.6', None],\n ['AC005775.2', None],\n ['AC002314.2', None],\n ['AC006116.13', None],\n ['AC006988.1', None],\n ['AC004070.1', None],\n ['AC006026.10', None],\n ['AC006070.11', None],\n ['AC000111.3', None],\n ['AC004980.9', None],\n ['AC002519.6', None],\n ['AC007096.1', None],\n ['AC004870.5', None],\n ['AC005606.14', None],\n ['ABC9-43961700F1.1', None],\n ['AC005204.2', None],\n ['AC005779.2', None],\n ['AC002398.5', None],\n ['AC007000.11', None],\n ['AC006390.3', None],\n ['AC005067.1', None],\n ['AC004112.5', None],\n ['AC005534.6', None],\n ['AC006370.2', None],\n ['AC005027.3', None],\n ['AC005076.5', None],\n ['AC006987.6', None],\n ['AC002116.7', None],\n ['AC005022.1', None],\n ['AC006150.2', None],\n ['AC007041.1', None],\n ['AC005262.4', None],\n ['AC006380.3', None],\n ['AC006116.19', None],\n ['AC006548.20', None],\n ['AC002480.5', None],\n ['AC000035.3', None],\n ['AC006994.2', None],\n ['AC000370.2', None],\n ['AC006481.1', None],\n ['AC004016.2', None],\n ['AC006445.6', None],\n ['AC002553.4', None],\n ['AC004076.9', None],\n ['AC007161.5', None],\n ['AC004158.3', None],\n ['AC006028.10', None],\n ['AC005926.1', None],\n ['AC007163.9', None],\n ['AC003665.1', None],\n ['AC006445.7', None],\n ['AC002128.4', None],\n ['AC005616.2', None],\n ['AC005324.7', None],\n ['AC006293.3', None],\n ['AC007040.6', None],\n ['AC004381.7', None],\n ['AC000111.4', None],\n ['AC004987.8', None],\n ['AC004769.1', None],\n ['AC006322.1', None],\n ['AC005682.7', None],\n ['AC006483.5', None],\n ['AC004237.1', None],\n ['AC005375.1', None],\n ['AC004453.8', None],\n ['AC005549.2', None],\n ['7SK', None],\n ['AC002116.8', None],\n ['AC004383.3', None],\n ['AC004673.1', None],\n ['AC005037.3', None],\n ['AC006390.4', None],\n ['AC004595.1', None],\n ['AC002398.9', None],\n ['AC004603.4', None],\n ['AC005789.9', None],\n ['AC006116.24', None],\n ['AC004161.4', None],\n ['AC004851.2', None],\n ['AC003968.1', None],\n ['AC005017.2', None],\n ['AC004941.3', None],\n ['AC004909.3', None],\n ['AC004954.2', None],\n ['AC004951.6', None],\n ['AC003084.2', None],\n ['AC006926.1', None],\n ['AC002979.1', None],\n ['AC004980.11', None],\n ['AC005534.8', None],\n ['AC005944.2', None],\n ['AC007041.2', None],\n ['AC007064.24', None],\n ['AC004899.3', None],\n ['AC005062.2', None],\n ['AC002465.2', None],\n ['AC002550.5', None],\n ['AC004987.9', None],\n ['AC004221.2', None],\n ['AC000094.3', None],\n ['AC005559.3', None],\n ['AC005042.3', None],\n ['AC006116.21', None],\n ['AC002069.5', None],\n ['AC004894.2', None],\n ['AC005510.1', None],\n ['AC003075.4', None],\n ['AC006445.8', None],\n ['AC004160.4', None],\n ['AC002992.4', None],\n ['AC006547.8', None],\n ['AC006534.2', None],\n ['AC005037.6', None],\n ['AC002467.7', None],\n ['AC006160.8', None],\n ['AC005037.4', None],\n ['AC006371.1', None],\n ['AC005370.1', None],\n ['AC004878.3', None],\n ['AC006548.19', None],\n ['AC005195.1', None],\n ['AC005077.12', None],\n ['AC005088.2', None],\n ['AC002064.5', None],\n ['AC005237.4', None],\n ['AC004967.7', None],\n ['AC005162.3', None],\n ['AC004510.2', None],\n ['AC005336.4', None],\n ['AC005686.1', None],\n ['AC005588.2', None],\n ['AC006116.15', None],\n ['AC002477.1', None],\n ['AC002076.9', None],\n ['AC002115.9', None],\n ['AA06', None],\n ['AC004540.4', None],\n ['AC006026.13', None],\n ['AC007115.3', None],\n ['AC005077.14', None],\n ['AC006466.5', None],\n ['AC005808.3', None],\n ['AC006133.3', None],\n ['AC004869.3', None],\n ['AC005779.1', None],\n ['AC002314.4', None],\n ['AC005488.11', None],\n ['AC006070.12', None],\n ['AC005517.3', None],\n ['AC006960.7', None],\n ['AC004166.6', None],\n ['AC004507.1', None],\n ['AC004019.10', None],\n ['AC002383.2', None],\n ['AC005546.2', None],\n ['AC005152.3', None],\n ['AC005154.8', None],\n ['AC002463.3', None],\n ['AC005484.5', None],\n ['AC002321.1', None],\n ['AC005046.5', None],\n ['AC004014.4', None],\n ['AC005300.5', None],\n ['AC000003.1', None],\n ['AC006000.5', None],\n ['AC006547.14', None],\n ['AC007163.6', None],\n ['AC004112.7', None],\n ['AC004745.1', None],\n ['AC003102.3', None],\n ['AC005943.5', None],\n ['AC004006.2', None],\n ['AC004980.10', None],\n ['AC000036.4', None],\n ['AC000111.5', None],\n ['AC004112.4', None],\n ['AC005262.3', None],\n ['AC006080.1', None],\n ['AC006262.5', None],\n ['AC006946.12', None],\n ['AC006953.1', None],\n ['AC005162.5', None],\n ['AC006019.4', None],\n ['AC004258.1', None],\n ['AC003009.2', None],\n ['AC002480.3', None],\n ['AC006978.6', None],\n ['AC005539.2', None],\n ['AC003989.4', None],\n ['AC006130.4', None],\n ['AC002467.5', None],\n ['AC004790.5', None],\n ['AC007163.4', None],\n ['AC005161.1', None],\n ['AC006024.4', None],\n ['AC006366.3', None],\n ['AC006509.7', None],\n ['AC004840.8', None],\n ['AC005019.3', None],\n ['AC005481.5', None],\n ['AC006230.4', None],\n ['AC004920.3', None],\n ['AC005086.6', None],\n ['AC006458.3', None],\n ['AC005009.2', None],\n ['AC006156.1', None],\n ['AC007163.8', None],\n ['AC006335.12', None],\n ['AC004076.7', None],\n ['AC006432.1', None],\n ['AC005077.9', None],\n ['AC006987.4', None],\n ['AC005954.3', None],\n ['AC002075.4', None],\n ['AC005954.4', None],\n ['AC002539.1', None],\n ['AC006355.3', None],\n ['AC006132.1', None],\n ['AC005682.5', None],\n ['AC005488.13', None],\n ['AC006465.3', None],\n ['AC004790.4', None],\n ['AC005606.15', None],\n ['AC004878.8', None],\n ['AC004074.4', None],\n ['AC002472.11', None],\n ['AC002310.7', None],\n ['AC005162.4', None],\n ['AC006028.9', None],\n ['AC005215.1', None],\n ['AC002310.12', None],\n ['AC004159.1', None],\n ['AC005786.7', None],\n ['AC007040.7', None],\n ['AC006038.4', None],\n ['AC006011.4', None],\n ['AC004920.2', None],\n ['AC004791.2', None],\n ['AC004854.5', None],\n ['AC005741.2', None],\n ['AC002321.2', None],\n ['AC007036.6', None],\n ['AC003088.1', None],\n ['AC000099.1', None],\n ['AC002486.3', None],\n ['AC002992.1', None],\n ['AC005264.2', None],\n ['AC006070.13', None],\n ['AC005105.2', None],\n ['AC002056.5', None],\n ['AC002400.1', None],\n ['AC005522.6', None],\n ['AC002368.4', None],\n ['AC004549.6', None],\n ['AC000068.5', None],\n ['AC005324.8-001', None],\n ['AC004478.2', None],\n ['AC006116.22', None],\n ['AC003986.6', None],\n ['AC004129.9', None],\n ['AC006116.26', None],\n ['AC005307.3', None],\n ['AC006042.7', None],\n ['AC004790.3', None],\n ['AC006028.11', None],\n ['AC004987.10', None],\n ['AC005086.8', None],\n ['AC004911.2', None],\n ['AC005041.11', None],\n ['AC006273.7', None],\n ['AC006159.3', None],\n ['AC004381.6', None],\n ['AC004538.3', None],\n ['AC005895.3', None],\n ['AC005356.1', None],\n ['AC004951.5', None],\n ['AC000111.6', None],\n ['AC004158.2', None],\n ['AC004889.1', None],\n ['AC005336.5', None],\n ['AC007050.1', None],\n ['AC006014.7', None],\n ['AC005550.4', None],\n ['AC005205.2', None],\n ['AC007040.8', None],\n ['AC005550.6', None],\n ['AC005682.8', None],\n ['AC004938.5', None],\n ['AC004125.3', None],\n ['AC005220.3', None],\n ['AC006050.2', None],\n ['AC005205.4', None],\n ['AC005077.5', None],\n ['AC004062.2', None],\n ['AC004051.2', None],\n ['AC005284.1', None],\n ['AC004593.3', None],\n ['AC006960.5', None],\n ['AC005540.3', None],\n ['AC005559.2', None],\n ['AC003079.1', None],\n ['AC004692.5', None],\n ['AC005488.12', None],\n ['AC007000.12', None],\n ['AC004941.5', None],\n ['AC006373.1', None],\n ['AC004022.8', None],\n ['AC005513.1', None],\n ['AC003029.1', None],\n ['AC005789.11', None],\n ['AC000059.1', None],\n ['AC006509.6', None],\n ['AC004485.3', None],\n ['AC007163.11', None],\n ['AC005624.2', None],\n ['AC004520.1', None],\n ['AC006003.3', None],\n ['AC006026.9', None],\n ['ABBA01057584.1', None],\n ['AC006014.8', None],\n ['AC006153.3', None],\n ['AC004967.8', None],\n ['AC005757.7', None],\n ['AC006129.4', None],\n ['AC004866.3', None],\n ['AC005971.3', None],\n ['AC006145.4', None],\n ['AC007131.2', None],\n ['AC004906.3', None],\n ['AC003958.6', None],\n ['AC005258.3', None],\n ['AC005592.3', None],\n ['AC004458.1', None],\n ['AC002066.2', None],\n ['AC002539.2', None],\n ['AC004799.3', None],\n ['AC005154.7', None],\n ['AC004166.7', None],\n ['AC006946.15', None],\n ['AC004017.1', None],\n ['AC004691.5', None],\n ['AC006987.5', None],\n ['AC005777.3', None],\n ['AC002075.3', None],\n ['ABC12-47043100G14.2', None],\n ...]"
     },
     "metadata": {},
     "execution_count": 11
    }
   ],
   "source": [
    "symbol_lookup_list"
   ]
  },
  {
   "cell_type": "code",
   "execution_count": 5,
   "metadata": {},
   "outputs": [
    {
     "output_type": "error",
     "ename": "AttributeError",
     "evalue": "'float' object has no attribute 'upper'",
     "traceback": [
      "\u001b[0;31m---------------------------------------------------------------------------\u001b[0m",
      "\u001b[0;31mAttributeError\u001b[0m                            Traceback (most recent call last)",
      "\u001b[0;32m<ipython-input-5-360868a4d230>\u001b[0m in \u001b[0;36m<module>\u001b[0;34m\u001b[0m\n\u001b[1;32m      8\u001b[0m \u001b[0;31m# Make the contents of the symbol and id columns uppercase\u001b[0m\u001b[0;34m\u001b[0m\u001b[0;34m\u001b[0m\u001b[0;34m\u001b[0m\u001b[0m\n\u001b[1;32m      9\u001b[0m \u001b[0mdf\u001b[0m\u001b[0;34m[\u001b[0m\u001b[0;34m'symbol'\u001b[0m\u001b[0;34m]\u001b[0m \u001b[0;34m=\u001b[0m \u001b[0mdf\u001b[0m\u001b[0;34m[\u001b[0m\u001b[0;34m'symbol'\u001b[0m\u001b[0;34m]\u001b[0m\u001b[0;34m.\u001b[0m\u001b[0mapply\u001b[0m\u001b[0;34m(\u001b[0m\u001b[0;32mlambda\u001b[0m \u001b[0mx\u001b[0m\u001b[0;34m:\u001b[0m \u001b[0mx\u001b[0m\u001b[0;34m.\u001b[0m\u001b[0mupper\u001b[0m\u001b[0;34m(\u001b[0m\u001b[0;34m)\u001b[0m\u001b[0;34m)\u001b[0m\u001b[0;34m\u001b[0m\u001b[0;34m\u001b[0m\u001b[0m\n\u001b[0;32m---> 10\u001b[0;31m \u001b[0mdf\u001b[0m\u001b[0;34m[\u001b[0m\u001b[0;34m'id'\u001b[0m\u001b[0;34m]\u001b[0m \u001b[0;34m=\u001b[0m \u001b[0mdf\u001b[0m\u001b[0;34m[\u001b[0m\u001b[0;34m'id'\u001b[0m\u001b[0;34m]\u001b[0m\u001b[0;34m.\u001b[0m\u001b[0mapply\u001b[0m\u001b[0;34m(\u001b[0m\u001b[0;32mlambda\u001b[0m \u001b[0mx\u001b[0m\u001b[0;34m:\u001b[0m \u001b[0mx\u001b[0m\u001b[0;34m.\u001b[0m\u001b[0mupper\u001b[0m\u001b[0;34m(\u001b[0m\u001b[0;34m)\u001b[0m\u001b[0;34m)\u001b[0m\u001b[0;34m\u001b[0m\u001b[0;34m\u001b[0m\u001b[0m\n\u001b[0m\u001b[1;32m     11\u001b[0m \u001b[0;34m\u001b[0m\u001b[0m\n\u001b[1;32m     12\u001b[0m \u001b[0;34m\u001b[0m\u001b[0m\n",
      "\u001b[0;32m/data/weismanal/miniconda3/envs/myenv/lib/python3.7/site-packages/pandas/core/series.py\u001b[0m in \u001b[0;36mapply\u001b[0;34m(self, func, convert_dtype, args, **kwds)\u001b[0m\n\u001b[1;32m   3846\u001b[0m             \u001b[0;32melse\u001b[0m\u001b[0;34m:\u001b[0m\u001b[0;34m\u001b[0m\u001b[0;34m\u001b[0m\u001b[0m\n\u001b[1;32m   3847\u001b[0m                 \u001b[0mvalues\u001b[0m \u001b[0;34m=\u001b[0m \u001b[0mself\u001b[0m\u001b[0;34m.\u001b[0m\u001b[0mastype\u001b[0m\u001b[0;34m(\u001b[0m\u001b[0mobject\u001b[0m\u001b[0;34m)\u001b[0m\u001b[0;34m.\u001b[0m\u001b[0mvalues\u001b[0m\u001b[0;34m\u001b[0m\u001b[0;34m\u001b[0m\u001b[0m\n\u001b[0;32m-> 3848\u001b[0;31m                 \u001b[0mmapped\u001b[0m \u001b[0;34m=\u001b[0m \u001b[0mlib\u001b[0m\u001b[0;34m.\u001b[0m\u001b[0mmap_infer\u001b[0m\u001b[0;34m(\u001b[0m\u001b[0mvalues\u001b[0m\u001b[0;34m,\u001b[0m \u001b[0mf\u001b[0m\u001b[0;34m,\u001b[0m \u001b[0mconvert\u001b[0m\u001b[0;34m=\u001b[0m\u001b[0mconvert_dtype\u001b[0m\u001b[0;34m)\u001b[0m\u001b[0;34m\u001b[0m\u001b[0;34m\u001b[0m\u001b[0m\n\u001b[0m\u001b[1;32m   3849\u001b[0m \u001b[0;34m\u001b[0m\u001b[0m\n\u001b[1;32m   3850\u001b[0m         \u001b[0;32mif\u001b[0m \u001b[0mlen\u001b[0m\u001b[0;34m(\u001b[0m\u001b[0mmapped\u001b[0m\u001b[0;34m)\u001b[0m \u001b[0;32mand\u001b[0m \u001b[0misinstance\u001b[0m\u001b[0;34m(\u001b[0m\u001b[0mmapped\u001b[0m\u001b[0;34m[\u001b[0m\u001b[0;36m0\u001b[0m\u001b[0;34m]\u001b[0m\u001b[0;34m,\u001b[0m \u001b[0mSeries\u001b[0m\u001b[0;34m)\u001b[0m\u001b[0;34m:\u001b[0m\u001b[0;34m\u001b[0m\u001b[0;34m\u001b[0m\u001b[0m\n",
      "\u001b[0;32mpandas/_libs/lib.pyx\u001b[0m in \u001b[0;36mpandas._libs.lib.map_infer\u001b[0;34m()\u001b[0m\n",
      "\u001b[0;32m<ipython-input-5-360868a4d230>\u001b[0m in \u001b[0;36m<lambda>\u001b[0;34m(x)\u001b[0m\n\u001b[1;32m      8\u001b[0m \u001b[0;31m# Make the contents of the symbol and id columns uppercase\u001b[0m\u001b[0;34m\u001b[0m\u001b[0;34m\u001b[0m\u001b[0;34m\u001b[0m\u001b[0m\n\u001b[1;32m      9\u001b[0m \u001b[0mdf\u001b[0m\u001b[0;34m[\u001b[0m\u001b[0;34m'symbol'\u001b[0m\u001b[0;34m]\u001b[0m \u001b[0;34m=\u001b[0m \u001b[0mdf\u001b[0m\u001b[0;34m[\u001b[0m\u001b[0;34m'symbol'\u001b[0m\u001b[0;34m]\u001b[0m\u001b[0;34m.\u001b[0m\u001b[0mapply\u001b[0m\u001b[0;34m(\u001b[0m\u001b[0;32mlambda\u001b[0m \u001b[0mx\u001b[0m\u001b[0;34m:\u001b[0m \u001b[0mx\u001b[0m\u001b[0;34m.\u001b[0m\u001b[0mupper\u001b[0m\u001b[0;34m(\u001b[0m\u001b[0;34m)\u001b[0m\u001b[0;34m)\u001b[0m\u001b[0;34m\u001b[0m\u001b[0;34m\u001b[0m\u001b[0m\n\u001b[0;32m---> 10\u001b[0;31m \u001b[0mdf\u001b[0m\u001b[0;34m[\u001b[0m\u001b[0;34m'id'\u001b[0m\u001b[0;34m]\u001b[0m \u001b[0;34m=\u001b[0m \u001b[0mdf\u001b[0m\u001b[0;34m[\u001b[0m\u001b[0;34m'id'\u001b[0m\u001b[0;34m]\u001b[0m\u001b[0;34m.\u001b[0m\u001b[0mapply\u001b[0m\u001b[0;34m(\u001b[0m\u001b[0;32mlambda\u001b[0m \u001b[0mx\u001b[0m\u001b[0;34m:\u001b[0m \u001b[0mx\u001b[0m\u001b[0;34m.\u001b[0m\u001b[0mupper\u001b[0m\u001b[0;34m(\u001b[0m\u001b[0;34m)\u001b[0m\u001b[0;34m)\u001b[0m\u001b[0;34m\u001b[0m\u001b[0;34m\u001b[0m\u001b[0m\n\u001b[0m\u001b[1;32m     11\u001b[0m \u001b[0;34m\u001b[0m\u001b[0m\n\u001b[1;32m     12\u001b[0m \u001b[0;34m\u001b[0m\u001b[0m\n",
      "\u001b[0;31mAttributeError\u001b[0m: 'float' object has no attribute 'upper'"
     ]
    }
   ],
   "source": [
    "# Import relevant modules\n",
    "import pandas as pd\n",
    "import os\n",
    "\n",
    "# Read the result.txt file created by the Biomart website\n",
    "df = pd.read_csv(os.path.join(project_dir,'data','gene_lookup_table.txt'), sep='\\t', names=['hgnc','symbol','id'], header=0)\n",
    "\n",
    "# Make the contents of the symbol and id columns uppercase\n",
    "df = df.dropna(axis='index') # this should result in 38,956 non-header rows --> it does\n",
    "df['symbol'] = df['symbol'].apply(lambda x: x.upper())\n",
    "df['id'] = df['id'].apply(lambda x: x.upper())\n",
    "\n",
    "# Set the index to be the symbol column, delete that column and the HGNC ID column, delete rows without an Ensembl ID, and rename the index\n",
    "df = df.set_index('symbol')\n",
    "df = df.drop(columns='hgnc')\n",
    "df = df.rename_axis(index='name')\n",
    "\n",
    "# Duplicate the table but this time using the Ensembl IDs as the index labels\n",
    "df2 = df.set_index(df['id'])\n",
    "df2 = df2.rename_axis(index='name')"
   ]
  },
  {
   "cell_type": "code",
   "execution_count": 168,
   "metadata": {},
   "outputs": [
    {
     "output_type": "execute_result",
     "data": {
      "text/plain": "                       id\nname                     \nA1BG      ensg00000121410\nA1BG-AS1  ensg00000268895\nA1CF      ensg00000148584\nA2M       ensg00000175899\nA2M-AS1   ensg00000245105\n...                   ...\nZYG11B    ensg00000162378\nZYX       ensg00000159840\nZYXP1     ensg00000274572\nZZEF1     ensg00000074755\nZZZ3      ensg00000036549\n\n[38956 rows x 1 columns]",
      "text/html": "<div>\n<style scoped>\n    .dataframe tbody tr th:only-of-type {\n        vertical-align: middle;\n    }\n\n    .dataframe tbody tr th {\n        vertical-align: top;\n    }\n\n    .dataframe thead th {\n        text-align: right;\n    }\n</style>\n<table border=\"1\" class=\"dataframe\">\n  <thead>\n    <tr style=\"text-align: right;\">\n      <th></th>\n      <th>id</th>\n    </tr>\n    <tr>\n      <th>name</th>\n      <th></th>\n    </tr>\n  </thead>\n  <tbody>\n    <tr>\n      <th>A1BG</th>\n      <td>ensg00000121410</td>\n    </tr>\n    <tr>\n      <th>A1BG-AS1</th>\n      <td>ensg00000268895</td>\n    </tr>\n    <tr>\n      <th>A1CF</th>\n      <td>ensg00000148584</td>\n    </tr>\n    <tr>\n      <th>A2M</th>\n      <td>ensg00000175899</td>\n    </tr>\n    <tr>\n      <th>A2M-AS1</th>\n      <td>ensg00000245105</td>\n    </tr>\n    <tr>\n      <th>...</th>\n      <td>...</td>\n    </tr>\n    <tr>\n      <th>ZYG11B</th>\n      <td>ensg00000162378</td>\n    </tr>\n    <tr>\n      <th>ZYX</th>\n      <td>ensg00000159840</td>\n    </tr>\n    <tr>\n      <th>ZYXP1</th>\n      <td>ensg00000274572</td>\n    </tr>\n    <tr>\n      <th>ZZEF1</th>\n      <td>ensg00000074755</td>\n    </tr>\n    <tr>\n      <th>ZZZ3</th>\n      <td>ensg00000036549</td>\n    </tr>\n  </tbody>\n</table>\n<p>38956 rows × 1 columns</p>\n</div>"
     },
     "metadata": {},
     "execution_count": 168
    }
   ],
   "source": [
    "import pandas as pd\n",
    "import os\n",
    "df = pd.read_csv(os.path.join(project_dir,'data','gene_lookup_table.txt'), sep='\\t', names=['hgnc','symbol','id'], header=0)\n",
    "#df['Approved symbol'].apply(lambda x: x.lower())\n",
    "df = df.set_index(df['symbol'].apply(lambda x: x.upper()))\n",
    "df = df.drop(columns=['hgnc','symbol'])\n",
    "df = df.dropna(axis='index') # this should result in 38,956 non-header rows --> it does\n",
    "df = df.rename_axis(index='name')\n",
    "#df\n",
    "df2 = df.set_index(df['id'])\n",
    "df2 = df2.rename_axis(index='name')\n",
    "#df2\n",
    "df_tot = pd.concat([df2,df])\n",
    "#df_tot\n",
    "lookup = lookup.rename_axis(index='name')\n",
    "#lookup\n",
    "df['id'] = df['id'].apply(lambda x: x.lower())\n",
    "df"
   ]
  },
  {
   "cell_type": "code",
   "execution_count": 115,
   "metadata": {
    "tags": [
     "outputPrepend",
     "outputPrepend",
     "outputPrepend",
     "outputPrepend",
     "outputPrepend",
     "outputPrepend",
     "outputPrepend"
    ]
   },
   "outputs": [
    {
     "output_type": "stream",
     "name": "stdout",
     "text": "ENSG00000198384 TPTE2P3\nENSG00000266405 CBX3P2\nENSG00000256211 SKP1P2\nENSG00000271171 LINC00904\nENSG00000243251 PGBD3\nENSG00000212290 RNA5SP424\nENSG00000257151 PWAR6\nENSG00000257802 MRS2P2\nENSG00000180042 OR1R1P\nENSG00000270441 LAMB2P1\nENSG00000275691 MT1IP\nENSG00000231643 YWHAQP8\nENSG00000237456 ID2B\nENSG00000233864 TTTY15\nENSG00000285665 TOP1P1\nENSG00000236269 ENO1-IT1\nENSG00000184258 CDR1\nENSG00000236850 BMS1P20\nENSG00000279355 AGPAT4-IT1\nENSG00000240800 ATP8A2P1\nENSG00000225520 TTTY16\nENSG00000169075 BRD7P3\nENSG00000231865 SIK3-IT1\nENSG00000243453 COX7BP1\nENSG00000254962 OR4A14P\nENSG00000233265 MICF\nENSG00000242349 NPPA-AS1\n"
    }
   ],
   "source": [
    "#import numpy as np\n",
    "#np.sum(lookup['id'] == None)\n",
    "set1 = set([x.upper() for x in lookup.index[lookup.loc[:,'id'].isnull()].tolist()])\n",
    "import pandas as pd\n",
    "hgnc = pd.read_csv('/data/BIDS-HPC/private/projects/dmi/data/gene_lookup_table.txt', sep='\\t')\n",
    "set2 = set([x.upper() for x in hgnc['Approved symbol'].tolist()])\n",
    "set1.intersection(set2)\n",
    "#hgnc['Approved symbol'].lower()\n",
    "hgnc['upper'] = hgnc['Approved symbol'].apply(lambda x: x.upper())\n",
    "hgnc['lower'] = hgnc['Approved symbol'].apply(lambda x: x.lower())\n",
    "intersection = set1.intersection(set2)\n",
    "for name in intersection:\n",
    "    #print(name)\n",
    "    #print(hgnc[:,'Approved symbol'][np.sum(hgnc['upper'] == name)])\n",
    "    mylist = hgnc.loc[hgnc.loc[:,'Approved symbol'] == name, 'Ensembl gene ID'].to_list()\n",
    "    if len(mylist) != 0:\n",
    "        if not isinstance(mylist[0],float):\n",
    "            print(mylist[0], name)\n",
    "        #print(type(mylist[0]))"
   ]
  },
  {
   "cell_type": "code",
   "execution_count": 52,
   "metadata": {},
   "outputs": [
    {
     "output_type": "stream",
     "name": "stdout",
     "text": "40233 id    40233\ndtype: int64\n2514\nid    37719\ndtype: int64\n"
    }
   ],
   "source": [
    "import pandas as pd\n",
    "import numpy as np\n",
    "data = id_lookup_list + symbol_lookup_list\n",
    "df = pd.DataFrame(data=[x[1] for x in data], index=[x[0] for x in data], columns=['id'])\n",
    "np.sum(df.isnull())\n",
    "nnone = 0\n",
    "for x in id_lookup_list:\n",
    "    if x[1] is None:\n",
    "        nnone = nnone + 1\n",
    "for x in symbol_lookup_list:\n",
    "    if x[1] is None:\n",
    "        nnone = nnone + 1\n",
    "print(nnone, np.sum(df.isnull())) # this is a good check for the number of Nones in the two inital lists (id_lookup_list and symbol_lookup_list)\n",
    "#df.loc[['BRCA2','ENSG00000023902'],'id'] = [4,5]\n",
    "df.loc[['BRCA2','ENSG00000023902']]\n",
    "nnotnones = 0\n",
    "indexes = []\n",
    "values = []\n",
    "for chunk in missing_lookup_chunks:\n",
    "    for item in chunk:\n",
    "        if item[1] is not None:\n",
    "            nnotnones = nnotnones + 1 # this is a good check for how many we identified (based on the .out files)\n",
    "            indexes.append(item[0])\n",
    "            values.append(item[1])\n",
    "print(nnotnones)\n",
    "values\n",
    "df.loc[indexes,'id'] = values\n",
    "print(np.sum(df.isnull()))"
   ]
  },
  {
   "cell_type": "code",
   "execution_count": 57,
   "metadata": {},
   "outputs": [],
   "source": [
    "assert(5+4==9)"
   ]
  },
  {
   "cell_type": "code",
   "execution_count": 53,
   "metadata": {},
   "outputs": [
    {
     "output_type": "execute_result",
     "data": {
      "text/plain": "128610"
     },
     "metadata": {},
     "execution_count": 53
    }
   ],
   "source": [
    "len(df)"
   ]
  },
  {
   "cell_type": "code",
   "execution_count": 16,
   "metadata": {},
   "outputs": [
    {
     "output_type": "stream",
     "name": "stdout",
     "text": "Reading pickle file /data/BIDS-HPC/private/projects/dmi/data/missing_lookup_lists2/missing_lookup_list_000.pkl...\nhey it did something!\nhey it did something!\nhey it did something!\nhey it did something!\nhey it did something!\nhey it did something!\nhey it did something!\nhey it did something!\nhey it did something!\nhey it did something!\nhey it did something!\nhey it did something!\nhey it did something!\nhey it did something!\nhey it did something!\nhey it did something!\nhey it did something!\nhey it did something!\nhey it did something!\nhey it did something!\nhey it did something!\nhey it did something!\nhey it did something!\nhey it did something!\nhey it did something!\nhey it did something!\nhey it did something!\nhey it did something!\nhey it did something!\nhey it did something!\nhey it did something!\nhey it did something!\nhey it did something!\nhey it did something!\nhey it did something!\nhey it did something!\nhey it did something!\nhey it did something!\nandrew\n"
    }
   ],
   "source": [
    "import random\n",
    "none_list = []\n",
    "for item in id_lookup_list:\n",
    "    if item[1] is None:\n",
    "        none_list.append(item)\n",
    "none_list2 = random.sample(none_list, k=1000)\n",
    "test_chunk = tc.get_missing_lookups_in_chunks(none_list2, project_dir, chunk_size=1000, pickle_dir_single='missing_lookup_lists2')\n",
    "#x = test_chunk[0]\n",
    "x = missing_lookup_chunks[10]\n",
    "for item in x:\n",
    "    if item[1] is not None:\n",
    "        print('hey it did something!')\n",
    "print('andrew')"
   ]
  },
  {
   "cell_type": "code",
   "execution_count": 9,
   "metadata": {
    "tags": [
     "outputPrepend"
    ]
   },
   "outputs": [],
   "source": [
    "x = test_chunk[0]\n",
    "for item in x:\n",
    "    if item[1] is not None:\n",
    "        print('hey it did something!')"
   ]
  },
  {
   "cell_type": "code",
   "execution_count": 49,
   "metadata": {
    "tags": [
     "outputPrepend",
     "outputPrepend",
     "outputPrepend",
     "outputPrepend",
     "outputPrepend",
     "outputPrepend",
     "outputPrepend",
     "outputPrepend",
     "outputPrepend",
     "outputPrepend",
     "outputPrepend",
     "outputPrepend",
     "outputPrepend",
     "outputPrepend",
     "outputPrepend",
     "outputPrepend",
     "outputPrepend",
     "outputPrepend",
     "outputPrepend",
     "outputPrepend",
     "outputPrepend",
     "outputPrepend",
     "outputPrepend",
     "outputPrepend",
     "outputPrepend",
     "outputPrepend",
     "outputPrepend",
     "outputPrepend",
     "outputPrepend",
     "outputPrepend",
     "outputPrepend",
     "outputPrepend",
     "outputPrepend",
     "outputPrepend",
     "outputPrepend",
     "outputPrepend",
     "outputPrepend",
     "outputPrepend",
     "outputPrepend",
     "outputPrepend",
     "outputPrepend",
     "outputPrepend",
     "outputPrepend",
     "outputPrepend",
     "outputPrepend",
     "outputPrepend",
     "outputPrepend",
     "outputPrepend",
     "outputPrepend",
     "outputPrepend",
     "outputPrepend",
     "outputPrepend",
     "outputPrepend",
     "outputPrepend",
     "outputPrepend",
     "outputPrepend",
     "outputPrepend",
     "outputPrepend",
     "outputPrepend",
     "outputPrepend",
     "outputPrepend",
     "outputPrepend",
     "outputPrepend",
     "outputPrepend",
     "outputPrepend",
     "outputPrepend",
     "outputPrepend",
     "outputPrepend",
     "outputPrepend",
     "outputPrepend",
     "outputPrepend",
     "outputPrepend",
     "outputPrepend",
     "outputPrepend",
     "outputPrepend",
     "outputPrepend",
     "outputPrepend",
     "outputPrepend",
     "outputPrepend",
     "outputPrepend",
     "outputPrepend",
     "outputPrepend",
     "outputPrepend",
     "outputPrepend",
     "outputPrepend",
     "outputPrepend",
     "outputPrepend",
     "outputPrepend",
     "outputPrepend",
     "outputPrepend",
     "outputPrepend",
     "outputPrepend",
     "outputPrepend",
     "outputPrepend",
     "outputPrepend",
     "outputPrepend",
     "outputPrepend",
     "outputPrepend",
     "outputPrepend",
     "outputPrepend",
     "outputPrepend",
     "outputPrepend",
     "outputPrepend",
     "outputPrepend",
     "outputPrepend",
     "outputPrepend",
     "outputPrepend",
     "outputPrepend",
     "outputPrepend",
     "outputPrepend",
     "outputPrepend",
     "outputPrepend",
     "outputPrepend",
     "outputPrepend",
     "outputPrepend",
     "outputPrepend",
     "outputPrepend",
     "outputPrepend",
     "outputPrepend",
     "outputPrepend",
     "outputPrepend",
     "outputPrepend",
     "outputPrepend",
     "outputPrepend",
     "outputPrepend",
     "outputPrepend",
     "outputPrepend",
     "outputPrepend",
     "outputPrepend",
     "outputPrepend",
     "outputPrepend",
     "outputPrepend",
     "outputPrepend",
     "outputPrepend",
     "outputPrepend",
     "outputPrepend",
     "outputPrepend",
     "outputPrepend",
     "outputPrepend",
     "outputPrepend",
     "outputPrepend",
     "outputPrepend",
     "outputPrepend",
     "outputPrepend",
     "outputPrepend",
     "outputPrepend",
     "outputPrepend",
     "outputPrepend",
     "outputPrepend",
     "outputPrepend",
     "outputPrepend",
     "outputPrepend",
     "outputPrepend",
     "outputPrepend",
     "outputPrepend",
     "outputPrepend",
     "outputPrepend",
     "outputPrepend",
     "outputPrepend",
     "outputPrepend",
     "outputPrepend",
     "outputPrepend",
     "outputPrepend",
     "outputPrepend",
     "outputPrepend",
     "outputPrepend",
     "outputPrepend",
     "outputPrepend",
     "outputPrepend",
     "outputPrepend",
     "outputPrepend",
     "outputPrepend",
     "outputPrepend",
     "outputPrepend",
     "outputPrepend",
     "outputPrepend",
     "outputPrepend",
     "outputPrepend",
     "outputPrepend",
     "outputPrepend",
     "outputPrepend",
     "outputPrepend",
     "outputPrepend",
     "outputPrepend",
     "outputPrepend",
     "outputPrepend",
     "outputPrepend",
     "outputPrepend",
     "outputPrepend",
     "outputPrepend",
     "outputPrepend",
     "outputPrepend",
     "outputPrepend",
     "outputPrepend",
     "outputPrepend",
     "outputPrepend",
     "outputPrepend",
     "outputPrepend",
     "outputPrepend",
     "outputPrepend",
     "outputPrepend",
     "outputPrepend",
     "outputPrepend",
     "outputPrepend",
     "outputPrepend",
     "outputPrepend",
     "outputPrepend",
     "outputPrepend",
     "outputPrepend",
     "outputPrepend",
     "outputPrepend",
     "outputPrepend",
     "outputPrepend",
     "outputPrepend",
     "outputPrepend",
     "outputPrepend",
     "outputPrepend",
     "outputPrepend",
     "outputPrepend",
     "outputPrepend",
     "outputPrepend",
     "outputPrepend",
     "outputPrepend",
     "outputPrepend",
     "outputPrepend",
     "outputPrepend",
     "outputPrepend",
     "outputPrepend",
     "outputPrepend",
     "outputPrepend",
     "outputPrepend",
     "outputPrepend",
     "outputPrepend",
     "outputPrepend",
     "outputPrepend",
     "outputPrepend",
     "outputPrepend",
     "outputPrepend",
     "outputPrepend",
     "outputPrepend",
     "outputPrepend",
     "outputPrepend",
     "outputPrepend",
     "outputPrepend",
     "outputPrepend",
     "outputPrepend",
     "outputPrepend",
     "outputPrepend",
     "outputPrepend",
     "outputPrepend",
     "outputPrepend",
     "outputPrepend",
     "outputPrepend",
     "outputPrepend",
     "outputPrepend",
     "outputPrepend",
     "outputPrepend",
     "outputPrepend",
     "outputPrepend",
     "outputPrepend",
     "outputPrepend",
     "outputPrepend",
     "outputPrepend",
     "outputPrepend",
     "outputPrepend",
     "outputPrepend",
     "outputPrepend",
     "outputPrepend",
     "outputPrepend",
     "outputPrepend",
     "outputPrepend",
     "outputPrepend",
     "outputPrepend",
     "outputPrepend",
     "outputPrepend",
     "outputPrepend",
     "outputPrepend",
     "outputPrepend",
     "outputPrepend",
     "outputPrepend",
     "outputPrepend",
     "outputPrepend",
     "outputPrepend",
     "outputPrepend",
     "outputPrepend",
     "outputPrepend",
     "outputPrepend",
     "outputPrepend",
     "outputPrepend",
     "outputPrepend",
     "outputPrepend",
     "outputPrepend",
     "outputPrepend",
     "outputPrepend",
     "outputPrepend",
     "outputPrepend",
     "outputPrepend",
     "outputPrepend",
     "outputPrepend",
     "outputPrepend",
     "outputPrepend",
     "outputPrepend",
     "outputPrepend",
     "outputPrepend",
     "outputPrepend",
     "outputPrepend",
     "outputPrepend",
     "outputPrepend",
     "outputPrepend",
     "outputPrepend",
     "outputPrepend",
     "outputPrepend",
     "outputPrepend",
     "outputPrepend",
     "outputPrepend",
     "outputPrepend",
     "outputPrepend",
     "outputPrepend",
     "outputPrepend",
     "outputPrepend",
     "outputPrepend",
     "outputPrepend",
     "outputPrepend",
     "outputPrepend",
     "outputPrepend",
     "outputPrepend",
     "outputPrepend",
     "outputPrepend",
     "outputPrepend",
     "outputPrepend",
     "outputPrepend",
     "outputPrepend",
     "outputPrepend",
     "outputPrepend",
     "outputPrepend",
     "outputPrepend",
     "outputPrepend",
     "outputPrepend",
     "outputPrepend",
     "outputPrepend",
     "outputPrepend",
     "outputPrepend",
     "outputPrepend",
     "outputPrepend",
     "outputPrepend",
     "outputPrepend",
     "outputPrepend",
     "outputPrepend",
     "outputPrepend",
     "outputPrepend",
     "outputPrepend",
     "outputPrepend",
     "outputPrepend",
     "outputPrepend",
     "outputPrepend",
     "outputPrepend",
     "outputPrepend",
     "outputPrepend",
     "outputPrepend",
     "outputPrepend",
     "outputPrepend",
     "outputPrepend",
     "outputPrepend",
     "outputPrepend",
     "outputPrepend",
     "outputPrepend",
     "outputPrepend",
     "outputPrepend",
     "outputPrepend",
     "outputPrepend",
     "outputPrepend",
     "outputPrepend",
     "outputPrepend",
     "outputPrepend",
     "outputPrepend",
     "outputPrepend",
     "outputPrepend",
     "outputPrepend",
     "outputPrepend",
     "outputPrepend",
     "outputPrepend",
     "outputPrepend",
     "outputPrepend",
     "outputPrepend",
     "outputPrepend",
     "outputPrepend",
     "outputPrepend",
     "outputPrepend",
     "outputPrepend",
     "outputPrepend",
     "outputPrepend",
     "outputPrepend",
     "outputPrepend",
     "outputPrepend",
     "outputPrepend",
     "outputPrepend",
     "outputPrepend",
     "outputPrepend",
     "outputPrepend",
     "outputPrepend",
     "outputPrepend",
     "outputPrepend",
     "outputPrepend",
     "outputPrepend",
     "outputPrepend",
     "outputPrepend",
     "outputPrepend",
     "outputPrepend",
     "outputPrepend",
     "outputPrepend",
     "outputPrepend",
     "outputPrepend",
     "outputPrepend",
     "outputPrepend",
     "outputPrepend",
     "outputPrepend",
     "outputPrepend",
     "outputPrepend",
     "outputPrepend",
     "outputPrepend",
     "outputPrepend",
     "outputPrepend",
     "outputPrepend",
     "outputPrepend",
     "outputPrepend",
     "outputPrepend",
     "outputPrepend",
     "outputPrepend",
     "outputPrepend",
     "outputPrepend",
     "outputPrepend",
     "outputPrepend",
     "outputPrepend",
     "outputPrepend",
     "outputPrepend",
     "outputPrepend",
     "outputPrepend",
     "outputPrepend",
     "outputPrepend",
     "outputPrepend",
     "outputPrepend",
     "outputPrepend",
     "outputPrepend",
     "outputPrepend",
     "outputPrepend",
     "outputPrepend",
     "outputPrepend",
     "outputPrepend",
     "outputPrepend",
     "outputPrepend",
     "outputPrepend",
     "outputPrepend",
     "outputPrepend",
     "outputPrepend",
     "outputPrepend",
     "outputPrepend",
     "outputPrepend",
     "outputPrepend",
     "outputPrepend",
     "outputPrepend",
     "outputPrepend",
     "outputPrepend",
     "outputPrepend",
     "outputPrepend",
     "outputPrepend",
     "outputPrepend",
     "outputPrepend",
     "outputPrepend",
     "outputPrepend",
     "outputPrepend",
     "outputPrepend",
     "outputPrepend",
     "outputPrepend",
     "outputPrepend",
     "outputPrepend",
     "outputPrepend",
     "outputPrepend",
     "outputPrepend",
     "outputPrepend",
     "outputPrepend",
     "outputPrepend",
     "outputPrepend",
     "outputPrepend",
     "outputPrepend",
     "outputPrepend",
     "outputPrepend",
     "outputPrepend",
     "outputPrepend",
     "outputPrepend",
     "outputPrepend",
     "outputPrepend",
     "outputPrepend",
     "outputPrepend",
     "outputPrepend",
     "outputPrepend",
     "outputPrepend",
     "outputPrepend",
     "outputPrepend",
     "outputPrepend",
     "outputPrepend",
     "outputPrepend",
     "outputPrepend",
     "outputPrepend",
     "outputPrepend",
     "outputPrepend",
     "outputPrepend",
     "outputPrepend",
     "outputPrepend",
     "outputPrepend",
     "outputPrepend",
     "outputPrepend",
     "outputPrepend",
     "outputPrepend",
     "outputPrepend",
     "outputPrepend",
     "outputPrepend",
     "outputPrepend",
     "outputPrepend",
     "outputPrepend",
     "outputPrepend",
     "outputPrepend",
     "outputPrepend",
     "outputPrepend",
     "outputPrepend",
     "outputPrepend",
     "outputPrepend",
     "outputPrepend",
     "outputPrepend",
     "outputPrepend",
     "outputPrepend",
     "outputPrepend",
     "outputPrepend",
     "outputPrepend",
     "outputPrepend",
     "outputPrepend",
     "outputPrepend",
     "outputPrepend",
     "outputPrepend",
     "outputPrepend",
     "outputPrepend",
     "outputPrepend",
     "outputPrepend",
     "outputPrepend",
     "outputPrepend",
     "outputPrepend",
     "outputPrepend",
     "outputPrepend",
     "outputPrepend",
     "outputPrepend",
     "outputPrepend",
     "outputPrepend",
     "outputPrepend",
     "outputPrepend",
     "outputPrepend",
     "outputPrepend"
    ]
   },
   "outputs": [
    {
     "output_type": "stream",
     "name": "stdout",
     "text": "Given 1 names, we identified 0 of them\n[560] Given 1 names, we identified 0 of them\n[561] Given 1 names, we identified 0 of them\n[562] Given 1 names, we identified 0 of them\n[563] Given 1 names, we identified 0 of them\n[564] Given 1 names, we identified 0 of them\n[565] Given 1 names, we identified 0 of them\n[566] Given 1 names, we identified 0 of them\n[567] Given 1 names, we identified 0 of them\n[568] Given 1 names, we identified 0 of them\n[569] Given 1 names, we identified 0 of them\n[570] Given 1 names, we identified 0 of them\n[571] Given 1 names, we identified 0 of them\n[572] Given 1 names, we identified 0 of them\n[573] Given 1 names, we identified 0 of them\n[574] Given 1 names, we identified 0 of them\n[575] Given 1 names, we identified 0 of them\n[576] Given 1 names, we identified 0 of them\n[577] Given 1 names, we identified 0 of them\n[578] Given 1 names, we identified 0 of them\n[579] Given 1 names, we identified 0 of them\n[580] Given 1 names, we identified 0 of them\n[581] Given 1 names, we identified 0 of them\n[582] Given 1 names, we identified 0 of them\n[583] Given 1 names, we identified 0 of them\n[584] Given 1 names, we identified 0 of them\n[585] Given 1 names, we identified 0 of them\n[586] Given 1 names, we identified 0 of them\n[587] Given 1 names, we identified 0 of them\n[588] Given 1 names, we identified 0 of them\n[589] Given 1 names, we identified 0 of them\n[590] Given 1 names, we identified 0 of them\n[591] Given 1 names, we identified 0 of them\n[592] Given 1 names, we identified 0 of them\n[593] Given 1 names, we identified 0 of them\n[594] Given 1 names, we identified 0 of them\n[595] Given 1 names, we identified 0 of them\n[596] Given 1 names, we identified 0 of them\n[597] Given 1 names, we identified 0 of them\n[598] Given 1 names, we identified 0 of them\n[599] Given 1 names, we identified 0 of them\n[600] Given 1 names, we identified 0 of them\n[601] Given 1 names, we identified 0 of them\n[602] Given 1 names, we identified 0 of them\n[603] Given 1 names, we identified 0 of them\n[604] Given 1 names, we identified 0 of them\n[605] Given 1 names, we identified 0 of them\n[606] Given 1 names, we identified 0 of them\n[607] Given 1 names, we identified 0 of them\n[608] Given 1 names, we identified 0 of them\n[609] Given 1 names, we identified 0 of them\n[610] Given 1 names, we identified 0 of them\n[611] Given 1 names, we identified 0 of them\n[612] Given 1 names, we identified 0 of them\n[613] Given 1 names, we identified 0 of them\n[614] Given 1 names, we identified 0 of them\n[615] Given 1 names, we identified 0 of them\n[616] Given 1 names, we identified 0 of them\n[617] Given 1 names, we identified 0 of them\n[618] Given 1 names, we identified 0 of them\n[619] Given 1 names, we identified 0 of them\n[620] Given 1 names, we identified 0 of them\n[621] Given 1 names, we identified 0 of them\n[622] Given 1 names, we identified 0 of them\n[623] Given 1 names, we identified 0 of them\n[624] Given 1 names, we identified 0 of them\n[625] Given 1 names, we identified 0 of them\n[626] Given 1 names, we identified 0 of them\n[627] Given 1 names, we identified 0 of them\n[628] Given 1 names, we identified 0 of them\n[629] Given 1 names, we identified 0 of them\n[630] Given 1 names, we identified 0 of them\n[631] Given 1 names, we identified 0 of them\n[632] Given 1 names, we identified 0 of them\n[633] Given 1 names, we identified 0 of them\n[634] Given 1 names, we identified 0 of them\n[635] Given 1 names, we identified 0 of them\n[636] Given 1 names, we identified 0 of them\n[637] Given 1 names, we identified 0 of them\n[638] Given 1 names, we identified 0 of them\n[639] Given 1 names, we identified 0 of them\n[640] Given 1 names, we identified 0 of them\n[641] Given 1 names, we identified 0 of them\n[642] Given 1 names, we identified 0 of them\n[643] Given 1 names, we identified 0 of them\n[644] Given 1 names, we identified 0 of them\n[645] Given 1 names, we identified 0 of them\n[646] Given 1 names, we identified 0 of them\n[647] Given 1 names, we identified 0 of them\n[648] Given 1 names, we identified 0 of them\n[649] Given 1 names, we identified 0 of them\n[650] Given 1 names, we identified 0 of them\n[651] Given 1 names, we identified 0 of them\n[652] Given 1 names, we identified 0 of them\n[653] Given 1 names, we identified 0 of them\n[654] Given 1 names, we identified 0 of them\n[655] Given 1 names, we identified 0 of them\n[656] Given 1 names, we identified 0 of them\n[657] Given 1 names, we identified 0 of them\n[658] Given 1 names, we identified 0 of them\n[659] Given 1 names, we identified 0 of them\n[660] Given 1 names, we identified 0 of them\n[661] Given 1 names, we identified 0 of them\n[662] Given 1 names, we identified 0 of them\n[663] Given 1 names, we identified 0 of them\n[664] Given 1 names, we identified 0 of them\n[665] Given 1 names, we identified 0 of them\n[666] Given 1 names, we identified 0 of them\n[667] Given 1 names, we identified 0 of them\n[668] Given 1 names, we identified 0 of them\n[669] Given 1 names, we identified 0 of them\n[670] Given 1 names, we identified 0 of them\n[671] Given 1 names, we identified 0 of them\n[672] Given 1 names, we identified 0 of them\n[673] Given 1 names, we identified 0 of them\n[674] Given 1 names, we identified 0 of them\n[675] Given 1 names, we identified 0 of them\n[676] Given 1 names, we identified 0 of them\n[677] Given 1 names, we identified 0 of them\n[678] Given 1 names, we identified 0 of them\n[679] Given 1 names, we identified 0 of them\n[680] Given 1 names, we identified 0 of them\n[681] Given 1 names, we identified 0 of them\n[682] Given 1 names, we identified 0 of them\n[683] Given 1 names, we identified 0 of them\n[684] Given 1 names, we identified 0 of them\n[685] Given 1 names, we identified 0 of them\n[686] Given 1 names, we identified 0 of them\n[687] Given 1 names, we identified 0 of them\n[688] Given 1 names, we identified 0 of them\n[689] Given 1 names, we identified 0 of them\n[690] Given 1 names, we identified 0 of them\n[691] Given 1 names, we identified 0 of them\n[692] Given 1 names, we identified 0 of them\n[693] Given 1 names, we identified 0 of them\n[694] Given 1 names, we identified 0 of them\n[695] Given 1 names, we identified 0 of them\n[696] Given 1 names, we identified 0 of them\n[697] Given 1 names, we identified 0 of them\n[698] Given 1 names, we identified 0 of them\n[699] Given 1 names, we identified 0 of them\n[700] Given 1 names, we identified 0 of them\n[701] Given 1 names, we identified 0 of them\n[702] Given 1 names, we identified 0 of them\n[703] Given 1 names, we identified 0 of them\n[704] Given 1 names, we identified 0 of them\n[705] Given 1 names, we identified 0 of them\n[706] Given 1 names, we identified 0 of them\n[707] Given 1 names, we identified 0 of them\n[708] Given 1 names, we identified 0 of them\n[709] Given 1 names, we identified 0 of them\n[710] Given 1 names, we identified 0 of them\n[711] Given 1 names, we identified 0 of them\n[712] Given 1 names, we identified 0 of them\n[713] Given 1 names, we identified 0 of them\n[714] Given 1 names, we identified 0 of them\n[715] Given 1 names, we identified 0 of them\n[716] Given 1 names, we identified 0 of them\n[717] Given 1 names, we identified 0 of them\n[718] Given 1 names, we identified 0 of them\n[719] Given 1 names, we identified 0 of them\n[720] Given 1 names, we identified 0 of them\n[721] Given 1 names, we identified 0 of them\n[722] Given 1 names, we identified 0 of them\n[723] Given 1 names, we identified 0 of them\n[724] Given 1 names, we identified 0 of them\n[725] Given 1 names, we identified 0 of them\n[726] Given 1 names, we identified 0 of them\n[727] Given 1 names, we identified 0 of them\n[728] Given 1 names, we identified 0 of them\n[729] Given 1 names, we identified 0 of them\n[730] Given 1 names, we identified 0 of them\n[731] Given 1 names, we identified 0 of them\n[732] Given 1 names, we identified 0 of them\n[733] Given 1 names, we identified 0 of them\n[734] Given 1 names, we identified 0 of them\n[735] Given 1 names, we identified 0 of them\n[736] Given 1 names, we identified 0 of them\n[737] Given 1 names, we identified 0 of them\n[738] Given 1 names, we identified 0 of them\n[739] Given 1 names, we identified 0 of them\n[740] Given 1 names, we identified 0 of them\n[741] Given 1 names, we identified 0 of them\n[742] Given 1 names, we identified 0 of them\n[743] Given 1 names, we identified 0 of them\n[744] Given 1 names, we identified 0 of them\n[745] Given 1 names, we identified 0 of them\n[746] Given 1 names, we identified 0 of them\n[747] Given 1 names, we identified 0 of them\n[748] Given 1 names, we identified 0 of them\n[749] Given 1 names, we identified 0 of them\n[750] Given 1 names, we identified 0 of them\n[751] Given 1 names, we identified 0 of them\n[752] Given 1 names, we identified 0 of them\n[753] Given 1 names, we identified 0 of them\n[754] Given 1 names, we identified 0 of them\n[755] Given 1 names, we identified 0 of them\n[756] Given 1 names, we identified 0 of them\n[757] Given 1 names, we identified 0 of them\n[758] Given 1 names, we identified 0 of them\n[759] Given 1 names, we identified 0 of them\n[760] Given 1 names, we identified 0 of them\n[761] Given 1 names, we identified 0 of them\n[762] Given 1 names, we identified 0 of them\n[763] Given 1 names, we identified 0 of them\n[764] Given 1 names, we identified 0 of them\n[765] Given 1 names, we identified 0 of them\n[766] Given 1 names, we identified 0 of them\n[767] Given 1 names, we identified 0 of them\n[768] Given 1 names, we identified 0 of them\n[769] Given 1 names, we identified 0 of them\n[770] Given 1 names, we identified 0 of them\n[771] Given 1 names, we identified 0 of them\n[772] Given 1 names, we identified 0 of them\n[773] Given 1 names, we identified 0 of them\n[774] Given 1 names, we identified 0 of them\n[775] Given 1 names, we identified 0 of them\n[776] Given 1 names, we identified 0 of them\n[777] Given 1 names, we identified 0 of them\n[778] Given 1 names, we identified 0 of them\n[779] Given 1 names, we identified 0 of them\n[780] Given 1 names, we identified 0 of them\n[781] Given 1 names, we identified 0 of them\n[782] Given 1 names, we identified 0 of them\n[783] Given 1 names, we identified 0 of them\n[784] Given 1 names, we identified 0 of them\n[785] Given 1 names, we identified 0 of them\n[786] Given 1 names, we identified 0 of them\n[787] Given 1 names, we identified 0 of them\n[788] Given 1 names, we identified 0 of them\n[789] Given 1 names, we identified 0 of them\n[790] Given 1 names, we identified 0 of them\n[791] Given 1 names, we identified 0 of them\n[792] Given 1 names, we identified 0 of them\n[793] Given 1 names, we identified 0 of them\n[794] Given 1 names, we identified 0 of them\n[795] Given 1 names, we identified 0 of them\n[796] Given 1 names, we identified 0 of them\n[797] Given 1 names, we identified 0 of them\n[798] Given 1 names, we identified 0 of them\n[799] Given 1 names, we identified 0 of them\n[800] Given 1 names, we identified 0 of them\n[801] Given 1 names, we identified 0 of them\n[802] Given 1 names, we identified 0 of them\n[803] Given 1 names, we identified 0 of them\n[804] Given 1 names, we identified 0 of them\n[805] Given 1 names, we identified 0 of them\n[806] Given 1 names, we identified 0 of them\n[807] Given 1 names, we identified 0 of them\n[808] Given 1 names, we identified 0 of them\n[809] Given 1 names, we identified 0 of them\n[810] Given 1 names, we identified 0 of them\n[811] Given 1 names, we identified 0 of them\n[812] Given 1 names, we identified 0 of them\n[813] Given 1 names, we identified 0 of them\n[814] Given 1 names, we identified 0 of them\n[815] Given 1 names, we identified 0 of them\n[816] Given 1 names, we identified 0 of them\n[817] Given 1 names, we identified 0 of them\n[818] Given 1 names, we identified 0 of them\n[819] Given 1 names, we identified 0 of them\n[820] Given 1 names, we identified 0 of them\n[821] Given 1 names, we identified 0 of them\n[822] Given 1 names, we identified 0 of them\n[823] Given 1 names, we identified 0 of them\n[824] Given 1 names, we identified 0 of them\n[825] Given 1 names, we identified 0 of them\n[826] Given 1 names, we identified 0 of them\n[827] Given 1 names, we identified 0 of them\n[828] Given 1 names, we identified 0 of them\n[829] Given 1 names, we identified 0 of them\n[830] Given 1 names, we identified 0 of them\n[831] Given 1 names, we identified 0 of them\n[832] Given 1 names, we identified 0 of them\n[833] Given 1 names, we identified 0 of them\n[834] Given 1 names, we identified 0 of them\n[835] Given 1 names, we identified 0 of them\n[836] Given 1 names, we identified 0 of them\n[837] Given 1 names, we identified 0 of them\n[838] Given 1 names, we identified 0 of them\n[839] Given 1 names, we identified 0 of them\n[840] Given 1 names, we identified 0 of them\n[841] Given 1 names, we identified 0 of them\n[842] Given 1 names, we identified 0 of them\n[843] Given 1 names, we identified 0 of them\n[844] Given 1 names, we identified 0 of them\n[845] Given 1 names, we identified 0 of them\n[846] Given 1 names, we identified 0 of them\n[847] Given 1 names, we identified 0 of them\n[848] Given 1 names, we identified 0 of them\n[849] Given 1 names, we identified 0 of them\n[850] Given 1 names, we identified 0 of them\n[851] Given 1 names, we identified 0 of them\n[852] Given 1 names, we identified 0 of them\n[853] Given 1 names, we identified 0 of them\n[854] Given 1 names, we identified 0 of them\n[855] Given 1 names, we identified 0 of them\n[856] Given 1 names, we identified 0 of them\n[857] Given 1 names, we identified 0 of them\n[858] Given 1 names, we identified 0 of them\n[859] Given 1 names, we identified 0 of them\n[860] Given 1 names, we identified 0 of them\n[861] Given 1 names, we identified 0 of them\n[862] Given 1 names, we identified 0 of them\n[863] Given 1 names, we identified 0 of them\n[864] Given 1 names, we identified 0 of them\n[865] Given 1 names, we identified 0 of them\n[866] Given 1 names, we identified 0 of them\n[867] Given 1 names, we identified 0 of them\n[868] Given 1 names, we identified 0 of them\n[869] Given 1 names, we identified 0 of them\n[870] Given 1 names, we identified 0 of them\n[871] Given 1 names, we identified 0 of them\n[872] Given 1 names, we identified 0 of them\n[873] Given 1 names, we identified 0 of them\n[874] Given 1 names, we identified 0 of them\n[875] Given 1 names, we identified 0 of them\n[876] Given 1 names, we identified 0 of them\n[877] Given 1 names, we identified 0 of them\n[878] Given 1 names, we identified 0 of them\n[879] Given 1 names, we identified 0 of them\n[880] Given 1 names, we identified 0 of them\n[881] Given 1 names, we identified 0 of them\n[882] Given 1 names, we identified 0 of them\n[883] Given 1 names, we identified 0 of them\n[884] Given 1 names, we identified 0 of them\n[885] Given 1 names, we identified 0 of them\n[886] Given 1 names, we identified 0 of them\n[887] Given 1 names, we identified 0 of them\n[888] Given 1 names, we identified 0 of them\n[889] Given 1 names, we identified 0 of them\n[890] Given 1 names, we identified 0 of them\n[891] Given 1 names, we identified 0 of them\n[892] Given 1 names, we identified 0 of them\n[893] Given 1 names, we identified 0 of them\n[894] Given 1 names, we identified 0 of them\n[895] Given 1 names, we identified 0 of them\n[896] Given 1 names, we identified 0 of them\n[897] Given 1 names, we identified 0 of them\n[898] Given 1 names, we identified 0 of them\n[899] Given 1 names, we identified 0 of them\n[900] Given 1 names, we identified 0 of them\n[901] Given 1 names, we identified 0 of them\n[902] Given 1 names, we identified 0 of them\n[903] Given 1 names, we identified 0 of them\n[904] Given 1 names, we identified 0 of them\n[905] Given 1 names, we identified 0 of them\n[906] Given 1 names, we identified 0 of them\n[907] Given 1 names, we identified 0 of them\n[908] Given 1 names, we identified 0 of them\n[909] Given 1 names, we identified 0 of them\n[910] Given 1 names, we identified 0 of them\n[911] Given 1 names, we identified 0 of them\n[912] Given 1 names, we identified 0 of them\n[913] Given 1 names, we identified 0 of them\n[914] Given 1 names, we identified 0 of them\n[915] Given 1 names, we identified 0 of them\n[916] Given 1 names, we identified 0 of them\n[917] Given 1 names, we identified 0 of them\n[918] Given 1 names, we identified 0 of them\n[919] Given 1 names, we identified 0 of them\n[920] Given 1 names, we identified 0 of them\n[921] Given 1 names, we identified 0 of them\n[922] Given 1 names, we identified 0 of them\n[923] Given 1 names, we identified 0 of them\n[924] Given 1 names, we identified 0 of them\n[925] Given 1 names, we identified 0 of them\n[926] Given 1 names, we identified 0 of them\n[927] Given 1 names, we identified 0 of them\n[928] Given 1 names, we identified 0 of them\n[929] Given 1 names, we identified 0 of them\n[930] Given 1 names, we identified 0 of them\n[931] Given 1 names, we identified 0 of them\n[932] Given 1 names, we identified 0 of them\n[933] Given 1 names, we identified 0 of them\n[934] Given 1 names, we identified 0 of them\n[935] Given 1 names, we identified 0 of them\n[936] Given 1 names, we identified 0 of them\n[937] Given 1 names, we identified 0 of them\n[938] Given 1 names, we identified 0 of them\n[939] Given 1 names, we identified 0 of them\n[940] Given 1 names, we identified 0 of them\n[941] Given 1 names, we identified 0 of them\n[942] Given 1 names, we identified 0 of them\n[943] Given 1 names, we identified 0 of them\n[944] Given 1 names, we identified 0 of them\n[945] Given 1 names, we identified 0 of them\n[946] Given 1 names, we identified 0 of them\n[947] Given 1 names, we identified 0 of them\n[948] Given 1 names, we identified 0 of them\n[949] Given 1 names, we identified 0 of them\n[950] Given 1 names, we identified 0 of them\n[951] Given 1 names, we identified 0 of them\n[952] Given 1 names, we identified 0 of them\n[953] Given 1 names, we identified 0 of them\n[954] Given 1 names, we identified 0 of them\n[955] Given 1 names, we identified 0 of them\n[956] Given 1 names, we identified 0 of them\n[957] Given 1 names, we identified 0 of them\n[958] Given 1 names, we identified 0 of them\n[959] Given 1 names, we identified 0 of them\n[960] Given 1 names, we identified 0 of them\n[961] Given 1 names, we identified 0 of them\n[962] Given 1 names, we identified 0 of them\n[963] Given 1 names, we identified 0 of them\n[964] Given 1 names, we identified 0 of them\n[965] Given 1 names, we identified 0 of them\n[966] Given 1 names, we identified 0 of them\n[967] Given 1 names, we identified 0 of them\n[968] Given 1 names, we identified 0 of them\n[969] Given 1 names, we identified 0 of them\n[970] Given 1 names, we identified 0 of them\n[971] Given 1 names, we identified 0 of them\n[972] Given 1 names, we identified 0 of them\n[973] Given 1 names, we identified 0 of them\n[974] Given 1 names, we identified 0 of them\n[975] Given 1 names, we identified 0 of them\n[976] Given 1 names, we identified 0 of them\n[977] Given 1 names, we identified 0 of them\n[978] Given 1 names, we identified 0 of them\n[979] Given 1 names, we identified 0 of them\n[980] Given 1 names, we identified 0 of them\n[981] Given 1 names, we identified 0 of them\n[982] Given 1 names, we identified 0 of them\n[983] Given 1 names, we identified 0 of them\n[984] Given 1 names, we identified 0 of them\n[985] Given 1 names, we identified 0 of them\n[986] Given 1 names, we identified 0 of them\n[987] Given 1 names, we identified 0 of them\n[988] Given 1 names, we identified 0 of them\n[989] Given 1 names, we identified 0 of them\n[990] Given 1 names, we identified 0 of them\n[991] Given 1 names, we identified 0 of them\n[992] Given 1 names, we identified 0 of them\n[993] Given 1 names, we identified 0 of them\n[994] Given 1 names, we identified 0 of them\n[995] Given 1 names, we identified 0 of them\n[996] Given 1 names, we identified 0 of them\n[997] Given 1 names, we identified 0 of them\n[998] Given 1 names, we identified 0 of them\n[999] Given 1 names, we identified 0 of them\n[1000] Given 1 names, we identified 0 of them\nCreating pickle file /data/BIDS-HPC/private/projects/dmi/data/missing_lookup_lists2/missing_lookup_list_000.pkl...\n"
    },
    {
     "output_type": "execute_result",
     "data": {
      "text/plain": "()"
     },
     "metadata": {},
     "execution_count": 49
    }
   ],
   "source": [
    "test_chunk = tc.get_missing_lookups_in_chunks(none_list2, project_dir, chunk_size=1000, pickle_dir_single='missing_lookup_lists2')"
   ]
  },
  {
   "cell_type": "code",
   "execution_count": 7,
   "metadata": {},
   "outputs": [
    {
     "output_type": "stream",
     "name": "stdout",
     "text": "24782\n15451\n"
    }
   ],
   "source": [
    "print(sum([ 1 if x[1] is None else 0 for x in symbol_lookup_list ]))\n",
    "print(sum([ 1 if x[1] is None else 0 for x in id_lookup_list ]))"
   ]
  },
  {
   "cell_type": "code",
   "execution_count": 6,
   "metadata": {},
   "outputs": [
    {
     "output_type": "stream",
     "name": "stdout",
     "text": "WARNING: Gene name OK/SW-CL.36 has a \"/\" in it and is being skipped because otherwise this endpoint (xref) dies. This gene must be queried manually, e.g., using the HTTP method (see the comment in the ensemble_name_request() function in target_class_lib.py). For the time being we're recording this gene as having no Ensembl ID.\n"
    },
    {
     "output_type": "execute_result",
     "data": {
      "text/plain": "[]"
     },
     "metadata": {},
     "execution_count": 6
    }
   ],
   "source": [
    "tc.ensembl_name_request('xref', ['OK/SW-CL.36'], wait_time=0)\n",
    "#tc.ensembl_name_request('xref', ['andrew'], wait_time=0)\n",
    "#tc.ensembl_name_request('xref', ['BRCA2'], wait_time=0)"
   ]
  },
  {
   "cell_type": "code",
   "execution_count": 11,
   "metadata": {},
   "outputs": [
    {
     "output_type": "stream",
     "name": "stdout",
     "text": "27976 ['OK/SW-CL.36', None]\n27988 ['OK/SW-CL.58', None]\n"
    }
   ],
   "source": [
    "imissing = 0\n",
    "for item in symbol_lookup_list:\n",
    "    if item[0].find('/') != -1:\n",
    "        print(iitem, item)"
   ]
  },
  {
   "cell_type": "markdown",
   "metadata": {},
   "source": [
    "Go through the missing lookups in the symbols lookup list and try to determine them using the xref endpoint of the Ensembl REST API"
   ]
  },
  {
   "cell_type": "code",
   "execution_count": 5,
   "metadata": {},
   "outputs": [
    {
     "output_type": "stream",
     "name": "stdout",
     "text": "Reading pickle file /data/BIDS-HPC/private/projects/dmi/data/missing_lookup_list.pkl...\n"
    }
   ],
   "source": [
    "missing_lookup_list = tc.get_missing_lookups(project_dir, symbol_lookup_list, max_num_names=5)"
   ]
  },
  {
   "cell_type": "code",
   "execution_count": 20,
   "metadata": {
    "tags": [
     "outputPrepend"
    ]
   },
   "outputs": [
    {
     "output_type": "stream",
     "name": "stdout",
     "text": "missing_lookup_list_000.pkl doesn't exist\nAC005391.3\nmissing_lookup_list_001.pkl doesn't exist\nAC012314.20\nmissing_lookup_list_002.pkl doesn't exist\nAC091654.7\nmissing_lookup_list_003.pkl doesn't exist\nAL357932.1\nmissing_lookup_list_004.pkl doesn't exist\nC1ORF111\nmissing_lookup_list_005.pkl doesn't exist\nCTD-2218K11.3\nmissing_lookup_list_007.pkl doesn't exist\nGSG2\nmissing_lookup_list_008.pkl doesn't exist\nLOC100131860\nmissing_lookup_list_009.pkl doesn't exist\nLOC57399\nmissing_lookup_list_010.pkl doesn't exist\nRP1-101K10.4\nmissing_lookup_list_011.pkl doesn't exist\nRP11-10N16.2\nmissing_lookup_list_012.pkl doesn't exist\nRP11-181K3.4\nmissing_lookup_list_013.pkl doesn't exist\nRP11-21C4.5\nmissing_lookup_list_014.pkl doesn't exist\nRP11-27M9.1\nmissing_lookup_list_015.pkl doesn't exist\nRP11-327I22.8\nmissing_lookup_list_016.pkl doesn't exist\nRP11-413E6.1\nmissing_lookup_list_017.pkl doesn't exist\nRP11-432M8.9\nmissing_lookup_list_018.pkl doesn't exist\nRP11-51L5.1\nmissing_lookup_list_019.pkl doesn't exist\nRP11-56B16.4\nmissing_lookup_list_020.pkl doesn't exist\nRP11-696D21.2\nmissing_lookup_list_021.pkl doesn't exist\nRP11-76E17.1\nmissing_lookup_list_022.pkl doesn't exist\nRP11-815I9.5\nmissing_lookup_list_023.pkl doesn't exist\nRP13-895J2.3\nmissing_lookup_list_024.pkl doesn't exist\nRP5-826L7.1\n"
    }
   ],
   "source": [
    "chunk_size = 10\n",
    "\n",
    "# Get the names in the symbol lookup list that do not have Ensembl IDs\n",
    "to_xref = []\n",
    "for item in symbol_lookup_list:\n",
    "    if item[1] is None:\n",
    "        to_xref.append(item[0])\n",
    "\n",
    "# Split this list of names to try xref-ing into chunks of a certain size\n",
    "to_xref_lists = list(tc.divide_chunks(to_xref, chunk_size))\n",
    "\n",
    "# Set the directory to save the missing lists in and create it if it doesn't already exist\n",
    "pickle_dir = os.path.join(project_dir,'data','missing_lookup_lists')\n",
    "if not os.path.exists(pickle_dir):\n",
    "    os.mkdir(pickle_dir)\n",
    "\n",
    "# For each sub-list in to_xref, if the corresponding pickle file doesn't already exist, go through the names and try to determine their Ensembl IDs using the xref endpoint of the Ensembl REST API, and save the pickle file\n",
    "for ilist, to_xref_single_list in enumerate(to_xref_lists):\n",
    "    pickle_file = 'missing_lookup_list_{:03d}.pkl'.format(ilist)\n",
    "    get_missing_lookups(pickle_dir, pickle_file, to_xref_single_list, max_num_names=-1)\n",
    "\n",
    "    #print(pickle_file)\n",
    "\n",
    "#print([ len(y) for y in to_xref_lists ])\n",
    "#print(to_xref_lists[0])"
   ]
  },
  {
   "cell_type": "code",
   "execution_count": 24,
   "metadata": {},
   "outputs": [
    {
     "output_type": "stream",
     "name": "stdout",
     "text": "['AC091654.7', 'AC096669.3', 'AC103863.1', 'AC092570.3', 'AC079834.3', 'AC074093.1', 'AC092174.1', 'AC092765.1', 'AC091969.1', 'AC093110.3', 'AC073900.4', 'AC074117.10', 'AC098614.3', 'AC104037.1', 'AC079150.2', 'AC074323.1', 'AC104438.1', 'AC092798.2', 'AC104651.1', 'AC093897.1', 'AC079807.4', 'AC078941.1', 'AC093106.4', 'AC092104.3', 'AC098971.2', 'AC083855.5', 'AC079235.1', 'AC092104.2', 'AC078988.1', 'AC079150.3', 'AC092669.2', 'AC083883.1', 'AC079586.1', 'AC097495.2', 'AC091736.11', 'AC093415.4', 'AC100852.2', 'AC092431.3', 'AC103965.1', 'AC092646.2', 'AC092662.6', 'AC092573.3', 'AC074389.7', 'AC099339.1', 'AC092619.1', 'AC098973.2', 'AC090519.7', 'AC092796.1', 'AC092641.2', 'AC078794.1', 'AC093847.1', 'AC094019.4', 'AC079117.3', 'AC096582.8', 'AC093899.3', 'AC092295.7', 'AC096649.4', 'AC079807.2', 'AC104076.3', 'AC099757.1', 'AC084010.1', 'AC093106.5', 'AC096655.2', 'AC098592.8', 'AC073987.2', 'AC092122.2', 'AC104389.32', 'AC079603.1', 'AC104308.2', 'AC100830.4', 'AC091813.2', 'AC080008.1', 'AC097374.5', 'AC090804.1', 'AC098824.6', 'AC102953.4', 'AC083822.2', 'AC090573.1', 'AC090952.4', 'AC090660.1', 'AC090044.2', 'AC091171.1', 'AC073940.1', 'AC084872.1', 'AC093376.1', 'AC084193.1', 'AC074183.4', 'AC104134.2', 'AC093142.2', 'AC096772.6', 'AC092578.1', 'AC093416.3', 'AC090505.5', 'AC091177.1', 'AC098823.3', 'AC096670.3', 'AC090587.4', 'AC087237.1', 'AC092657.2', 'AC092669.6', 'AC092628.3', 'AC104113.3', 'AC092038.2', 'AC092669.3', 'AC096951.1', 'AC104076.2', 'AC083875.2', 'AC079779.7', 'AC098592.6', 'AC095064.1', 'AC096534.1', 'AC092841.1', 'AC074138.3', 'AC079412.1', 'AC096655.1', 'AC092594.1', 'AC095067.1', 'AC096643.1', 'AC091814.2', 'AC092667.2', 'AC079767.4', 'AC100848.1', 'AC084219.2', 'AC096579.1', 'AC091559.1', 'AC083949.1', 'AC092048.1', 'AC093495.4', 'AC096582.9', 'AC091199.1', 'AC084854.4', 'AC091814.3', 'AC093662.5', 'AC079741.2', 'AC074391.1', 'AC080080.5', 'AC074011.2', 'AC093680.1', 'AC093673.5', 'AC079354.6', 'AC095061.1', 'AC091321.1', 'AC079767.3', 'AC087590.3', 'AC091633.3', 'AC092786.1', 'AC093106.7', 'AC104405.1', 'AC099545.1', 'AC074366.3', 'AC090957.2', 'AC090505.6', 'AC092156.3', 'AC087491.2', 'AC092933.4', 'AC093388.3', 'AC096546.1', 'AC093602.1', 'AC100802.3', 'AC093611.2', 'AC097635.5', 'AC098971.1', 'AC087294.2', 'AC092431.2-001', 'AC074212.3', 'AC092022.1', 'AC090955.3', 'AC092846.1', 'AC092597.3', 'AC091801.1', 'AC090602.2', 'AC087431.1', 'AC079742.4', 'AC074338.5', 'AC102953.6', 'AC091705.2', 'AC093734.14', 'AC084262.3', 'AC096664.3', 'AC091487.1', 'AC090587.5', 'AC092635.1', 'AC093662.6', 'AC093724.2', 'AC096559.2', 'AC104183.1', 'AC091652.2', 'AC073934.6', 'AC093734.11', 'AC092168.4', 'AC090955.5', 'AC097711.1', 'AC092684.1', 'AC100830.5', 'AC092812.1', 'AC096582.7', 'AC090939.2', 'AC079305.9', 'AC087793.1', 'AC093668.4', 'AC092839.4', 'AC079781.8', 'AC092338.5', 'AC090505.4', 'AC090133.1', 'AC092988.1', 'AC100808.3', 'AC093393.2', 'AC099539.1', 'AC093166.4', 'AC083863.5', 'AC097500.2', 'AC092687.5', 'AC096664.4', 'AC079305.5', 'AC093616.4', 'AC093509.2', 'AC079630.2', 'AC104434.1', 'AC083863.7', 'AC103801.1', 'AC074117.13', 'AC093415.2', 'AC078883.4', 'AC073928.2', 'AC092364.4', 'AC104389.31', 'AC093620.5', 'AC093865.2', 'AC217772.1', 'AC107399.2', 'AC135048.13', 'AC117444.1', 'AC144838.3', 'AC112211.3', 'AC104802.1', 'AC107025.1', 'AC128677.4', 'AC131025.8', 'AC106869.2', 'AC114877.3', 'AC215219.2', 'AC145343.2', 'AC106782.18', 'AC114755.7', 'AC225613.10', 'AC226150.4', 'AC136365.1', 'AC108211.1', 'AC116366.6', 'AC106878.1', 'AC145291.2', 'AC138688.3', 'AC109586.1', 'AC134300.1', 'AC114783.1', 'AC116038.2', 'AC116533.2', 'AC112715.2', 'AC139712.2', 'AC131951.1', 'AC118278.1', 'AC131971.3', 'AC136289.1', 'AC145212.3', 'AC112518.3', 'AC147651.5', 'AC114814.4', 'AC112211.2', 'AC127032.6', 'AC134882.1', 'AC131571.2', 'AC124853.1', 'ACPP', 'AC105750.1', 'AC114812.5', 'AC135999.2', 'AC114788.1', 'AC140481.8', 'AC140542.2', 'AC138688.7', 'AC108739.1', 'AC133528.2', 'AC115283.1', 'AC138688.8', 'AC242843.1', 'AC140481.7', 'AC133919.6', 'AC108051.2', 'AC105398.3', 'AC109309.4', 'AC127032.5', 'AC113342.1', 'AC118274.1', 'AC105749.5', 'AC136896.2', 'AC118754.4', 'AC133644.3', 'AC243756.2', 'ACA59', 'AC109351.1', 'AC104782.3', 'AC108056.1', 'AC105253.1', 'AC145060.1', 'AC108218.1', 'AC113612.1', 'AC114788.2', 'AC134729.1', 'AC147651.3', 'AC112229.6', 'AC142119.1', 'AC108938.3', 'AC132479.4', 'AC114730.11', 'AC145124.2', 'AC104655.2', 'AC159540.3', 'AC114730.5', 'AC118463.1', 'AC126281.3', 'AC126327.5', 'AC147651.4', 'AC140061.6', 'AC106900.6', 'AC133141.1', 'AC107070.1', 'AC217770.3', 'AC105049.1', 'AC105242.1', 'AC114765.2', 'AC109815.2', 'AC108039.3', 'AC108696.1', 'AC115115.3', 'AC131180.3', 'AC239811.2', 'AC104809.4', 'AC105053.3', 'AC105381.1', 'AC133965.1', 'AC136704.1', 'AC104809.3', 'AC114812.10', 'AC139143.2', 'AC217770.5', 'AC108683.1', 'AC109826.1', 'AC108004.2', 'AC129778.4', 'AC145212.2', 'AC109335.1', 'AC242845.1', 'AC108868.4', 'AC113617.1', 'AC104942.1', 'AC104698.1', 'AC126327.1', 'AC105760.2', 'AC108456.1', 'AC104801.1', 'AC106722.1', 'AC125238.4', 'AC110280.1', 'AC109333.10', 'ACRC', 'AC139099.6', 'AC105461.1', 'AC130689.5', 'AC217778.4', 'AC239868.3', 'AC113617.2', 'AC124997.1', 'AC137723.5', 'AC112229.7', 'AC106775.1', 'AC137934.1', 'AC105443.2', 'AC129778.7', 'AC114969.1', 'AC140061.2', 'AC106874.3', 'AC109309.5', 'AC104820.2', 'AC115115.2', 'AC137674.1', 'AC217775.2', 'AC105402.4', 'AC139931.1', 'AC138031.1', 'AC115115.4', 'AC217770.1', 'AC135966.1', 'AC226150.3', 'AC124890.1', 'AC104777.4', 'AC125387.1', 'ACCN5', 'AC122720.1', 'AC151960.1', 'AC138688.4', 'AC135995.1', 'AC140061.5', 'AC138031.2', 'AC145110.1', 'AC113331.9', 'AC138783.12', 'AC130352.2', 'AC138517.4', 'AC114877.1', 'AC104697.1', 'AC109309.6', 'AC125238.3', 'AC239808.1', 'AC105247.1', 'AC137527.2', 'AC138688.2', 'AC140061.7', 'AC144450.2', 'AC124057.5', 'AC137674.2', 'AC131012.1', 'AC140061.10', 'AC113612.2', 'AC124309.1', 'AC132217.4', 'AC116533.3', 'AC139099.5', 'AC140061.9', 'AC133680.1', 'AC108004.3', 'AC138430.4', 'AC113167.2', 'AC105344.2', 'AC105901.1', 'AC132515.1', 'AC145291.1', 'AC138688.6', 'AC217770.2', 'AC105316.1', 'AC145124.3', 'AC116035.2', 'AC138744.2', 'AC108137.1', 'AC195454.1', 'AC126339.1', 'AC107218.3', 'AC111177.1', 'AC124914.3', 'AC114499.1', 'AC127032.7', 'AC131180.5', 'AC109828.1', 'AC116606.1', 'AC121336.2', 'AC108697.1', 'AC151961.1', 'AC226119.4', 'AC114803.3', 'AC117401.1', 'AC225613.3', 'AC131180.4', 'AC140061.8', 'AC124944.4', 'AC137932.6', 'AC109135.1', 'AC114808.3', 'AC105402.3', 'AC109994.1', 'AC111155.1', 'AC111200.7', 'AC138710.1', 'AC114813.1', 'AC139677.8', 'AC109357.1', 'AC134025.1', 'AC243547.4', 'AC123900.2', 'AC115617.2', 'AC106860.1', 'AC139677.7', 'AC107057.2', 'AC105053.4', 'AC117947.1', 'AC139099.4', 'AC133106.2', 'AC105760.3', 'AC217770.4', 'AC121157.1', 'ACPT', 'AC106753.1', 'AC108004.1', 'AC138655.4', 'AC138972.1', 'AC104655.3', 'AC110298.1', 'AC139100.3', 'AC152005.1', 'AC239868.2', 'AC104699.1', 'AC107020.1', 'AC144838.2', 'AC159540.14', 'AC225613.8', 'AC226119.3', 'ACPL2', 'AC126327.2', 'AC114730.8', 'AC144525.1', 'AC110810.1', 'AC106899.1', 'AC105765.1', 'AC112502.1', 'AC127904.2', 'ACA64', 'AC141928.1', 'AC130686.6', 'AC109589.1', 'AC113610.1', 'AC131213.1', 'AC138517.5', 'AC129778.3', 'AC122136.2', 'AC136932.2', 'AC138472.4', 'AC134873.1', 'AC128653.1', 'AC108938.2', 'AC111200.2', 'AC108059.4', 'AC114752.3', 'AC113171.1', 'AC118345.2', 'AC145123.2', 'AC140061.1', 'AC108004.4', 'AC140132.1', 'AC225613.7', 'AC126365.4', 'AC105402.2', 'AC108938.5', 'AC123886.2', 'AC124944.5', 'AC145205.1', 'AC104777.3', 'AC105921.5', 'AC107983.4', 'AC113195.1', 'AC144568.4', 'AC114755.5', 'AC110781.3', 'AC242988.3', 'AC139676.1', 'AC105396.3', 'AC116366.5', 'AC141846.4-001', 'AC142528.1', 'AC110086.1', 'AC127032.4', 'AC140481.9', 'AC113607.2', 'AC139452.2', 'AC114730.7', 'AC225613.6', 'AC113144.2', 'AC110781.5', 'AC142293.3', 'AC104698.2', 'AC108868.3', 'AC106876.2', 'AC126327.6', 'AC129929.5', 'AC137932.5', 'AC109826.2', 'AC109829.1', 'AC225613.9', 'AC140725.7', 'AC114765.1', 'AC108025.2', 'AC128677.3', 'AC144536.4', 'AC225613.5', 'AC108051.3', 'AC139666.1', 'AC111200.8', 'AC239811.1', 'AC118138.2', 'AC106782.20', 'AC138655.6', 'AC225613.2', 'AC108488.4', 'AC140061.3', 'AC243756.1', 'AC120120.1', 'AC117479.1', 'AC106732.1', 'AC113134.1', 'ACN9', 'AC130360.8', 'AC140061.11', 'AC139712.4', 'AC113607.3', 'AC114273.1', 'AC144449.1', 'AC109496.1', 'AC129778.5', 'AC145436.1', 'AC110283.1', 'AC118759.1', 'AC114776.3', 'AC105030.1', 'AC107982.4', 'AC116614.1', 'AC225613.4', 'AC174470.1', 'AC105399.2', 'AC104843.4', 'AC116154.1', 'AC138688.5', 'AC139677.6', 'AC114812.9', 'AC110619.2', 'AC138783.13', 'AC124789.1', 'AC138783.11', 'AC238894.1', 'AC108868.5', 'AC110754.3', 'AC139085.2', 'AC138472.6', 'AC140061.4', 'AC121332.1', 'AC131180.2', 'AC133749.1', 'AC110299.5', 'AC114812.8', 'AC118063.1', 'AC104667.3', 'AC110926.4', 'AC108868.6', 'AC129778.2', 'AC215219.1', 'AC114765.3', 'AC127391.3', 'AL139319.1', 'AL022476.2', 'AF011889.6', 'AKAP16BP', 'AF064858.10', 'AL034449.1', 'AL356270.1', 'AF196970.3', 'AL353664.1', 'AL049798.1', 'AL357519.1', 'AD000685.1', 'AF127936.7', 'AL157788.1', 'AF124730.4', 'AF228730.13', 'AL138935.1', 'AF064858.8', 'AD001527.5', 'AL031721.1', 'AF277315.19', 'AL161915.1', 'AF254982.2', 'AE000660.1', 'AF064860.7', 'AL357519.2', 'AL158821.1', 'AL353141.1', 'AL031655.2', 'AL138925.1', 'AL121652.2', 'AF121897.4', 'AF131217.1', 'AL163760.1', 'AF127936.3', 'AF241726.4', 'AL109922.2', 'AF131216.6', 'AL354680.1', 'AL109843.1', 'AL033403.1', 'AL031594.1', 'AL117380.2', 'AL035088.1', 'AJ239321.3', 'AL162415.2', 'AL138706.1', 'AF196779.12', 'AL049757.3', 'AL161626.1', 'AF222686.1', 'AL078633.1', 'AL138795.1', 'AL035610.2', 'AL161668.5', 'AL138696.1', 'AL132768.1', 'AL163952.2', 'AF216667.1', 'AL049543.2', 'AF241725.6', 'ADPRHL2', 'AL122019.1', 'AL109947.2', 'AL356213.1', 'AL109805.1', 'AL162590.1', 'AF064858.6', 'AL122127.5', 'AF196779.1', 'AF224669.3', 'AL161723.1', 'AL356154.1', 'AD000092.3', 'AE000658.29', 'AL121963.1', 'AL021394.1', 'AL356806.3', 'AF121898.3', 'AL022341.3', 'AL080272.1', 'AL050321.1', 'AL023807.2', 'AL133376.1', 'AL162415.4', 'AL356741.1', 'AF228730.8', 'AKAP11-IT1', 'AF127936.5', 'AL139239.1', 'AL139821.1', 'AKIRIN2-AS1', 'AL031390.1', 'AL121656.5', 'AL161668.12', 'AL050303.7', 'AL121865.1', 'AL353671.2', 'AE000659.41', 'AL121588.1', 'AL022393.7', 'AL353671.1', 'AL121578.7', 'AF121898.2', 'AGXT2L1', 'AL138930.2', 'AL356739.1', 'AL353671.3', 'AL137118.1', 'AL162407.1', 'AGAP10', 'AL021977.1', 'AHSA2', 'AF178030.2', 'AL159977.1', 'AL139318.1', 'AF003626.1', 'AF070718.1', 'AE000658.27', 'ADCK3', 'AL356693.1', 'AL133269.1', 'AL353997.11', 'AL049831.1', 'AL022344.7', 'AF038458.4', 'AL034375.1', 'AL139151.1', 'AL162502.1', 'AL161898.1', 'AL138837.1', 'AE000658.26', 'AL133458.1', 'AL137019.1', 'AL354764.1', 'AL136123.1', 'AGPHD1', 'AL035422.1', 'AE000658.25', 'AL109658.1', 'AL157775.1', 'AL078621.13', 'AL356137.1', 'AL160056.1', 'AL031655.1', 'AL109749.1', 'AF015262.2', 'AL109844.1', 'AL136001.1', 'AL157830.1', 'AL109750.1', 'AL022237.3', 'AKAP2', 'AF196972.3', 'AL137145.1', 'AL030997.1', 'AKD1', 'AD000864.5', 'ADRBK2', 'AL163636.6', 'AL031905.1', 'AE000658.22', 'AL354806.1', 'ADC', 'AF207550.1', 'AL031176.1', 'AF129075.5', 'AE000661.50', 'AL008708.1', 'AL079339.1', 'AF196972.4', 'AL356865.1', 'ADCK4', 'AL137229.1', 'AF228730.12', 'AL021398.1', 'AL160037.1', 'AL122127.4', 'AL159997.1', 'ADSSL1', 'AL355794.1', 'AL159140.1', 'AE000662.92', 'AL162415.1', 'AL121657.4', 'AL353731.1', 'AL122015.1', 'AL354833.3', 'ADRBK1', 'AL117333.1', 'AF064858.7', 'AL136302.1', 'AGPAT6', 'AF241725.4', 'AE000661.37', 'AL035697.1', 'AL354775.1', 'AF277315.13', 'AL078621.5', 'AL158150.1', 'AL353698.1', 'AL353805.1', 'AL137008.1', 'AF038458.5', 'AL162151.4', 'AF001548.5', 'AL354732.1', 'AD000090.2', 'AL133492.3', 'AL139139.1', 'AE000658.30', 'AL353791.1', 'AKR1CL1', 'AL109761.5', 'AF196972.9', 'AL353354.1', 'AD000091.3', 'AL138815.1', 'AL356261.1', 'AL162381.1', 'AL136219.1', 'AL158111.1', 'AL138498.1', 'AL136218.1', 'AL157883.1', 'AL157359.4', 'AGAP7', 'AL160011.1', 'AF165138.7', 'AGPAT9', 'AL157902.3', 'AL133168.3', 'AL078585.1', 'AL357115.1', 'AF127577.11', 'AL139429.1', 'AL118525.1', 'ADORA2BP', 'AL109763.2', 'AL160471.6', 'AL353733.1', 'AL132772.1', 'AL137059.1', 'AL117380.1', 'AL353671.4', 'AL355149.2', 'AL022344.3', 'AL121578.5', 'AL022344.2', 'AL354720.1', 'AE000660.4', 'AL163953.3', 'AF011889.4', 'AF011889.5', 'AGAP8', 'AL139377.1', 'AJ006998.2', 'AL096864.1', 'AL033378.1', 'AL354981.1', 'AL353707.1', 'AL121819.1', 'AL121893.1', 'AD000091.2', 'AL132868.1', 'AL122127.3', 'AF015720.3', 'AE000659.23', 'AL138479.3', 'AF001548.6', 'AJ009632.3', 'AL035457.1', 'AF011889.2', 'AL121869.1', 'AF104455.1', 'AL358134.2', 'AL136137.1', 'AE000662.93', 'AE000658.31', 'AL162614.1', 'AF064858.11', 'AL136419.6', 'AL137145.2', 'AL161751.1', 'AF238380.3', 'AL136446.1', 'AGPAT4-IT1', 'AF238378.7', 'AF064860.5', 'AF127577.12', 'AF003529.2', 'AL161790.1', 'AJ239322.3', 'AL136160.1', 'AL358133.1', 'AF130249.5', 'AL035610.1', 'AL137251.1', 'AF238380.5', 'AL354808.1', 'AJ003147.8', 'AL121756.1', 'AL158051.1', 'AF212831.2', 'AL162759.1', 'AIM1L', 'AF238380.8', 'AL356865.2', 'AF228730.7', 'AL356479.1', 'AL034400.1', 'AF001550.7', 'AL050316.1', 'AL356140.1', 'AL353629.1', 'AL354896.1', 'ADSS', 'AL033532.1', 'AL137855.1', 'AL109922.1', 'AL139328.1', 'AL355885.1', 'AE000659.1', 'AL162711.1', 'AF127577.10', 'AL031653.1', 'AL162571.1', 'AD001527.4', 'AL133228.1', 'AJ003147.9', 'AF127577.8', 'AF130343.1', 'AL138796.1', 'AL022344.6', 'AIM1', 'AL138968.1', 'AF196972.10', 'AL163953.2', 'AGXT2L2', 'AL122127.25', 'AL121652.3', 'AL137846.1', 'AL354933.1', 'AL121914.1', 'AL034553.1', 'AL078621.11', 'AF240627.2', 'AL353662.4', 'AL355512.2', 'AL138710.1', 'AL138764.1', 'AL049758.2', 'AL022344.4', 'AD000671.6', 'AL354978.1', 'AE000661.36']\n"
    }
   ],
   "source": [
    "print(to_xref_lists[2])"
   ]
  },
  {
   "cell_type": "code",
   "execution_count": 4,
   "metadata": {},
   "outputs": [
    {
     "output_type": "stream",
     "name": "stdout",
     "text": "[['geeks', 'for', 'geeks', 'like', 'geeky'], ['nerdy', 'geek', 'love', 'questions', 'words'], ['life']]\n[5, 5, 1]\n"
    }
   ],
   "source": [
    "my_list = ['geeks', 'for', 'geeks', 'like', \n",
    "           'geeky','nerdy', 'geek', 'love', \n",
    "               'questions','words', 'life'] \n",
    "# How many elements each list should have \n",
    "n = 5\n",
    "\n",
    "x = list(tc.divide_chunks(my_list, n)) \n",
    "print(x)\n",
    "print([ len(y) for y in x ])"
   ]
  },
  {
   "cell_type": "code",
   "execution_count": 7,
   "metadata": {},
   "outputs": [],
   "source": [
    "to_xref = []\n",
    "for item in symbol_lookup_list:\n",
    "    if item[1] is None:\n",
    "        to_xref.append(item[0])"
   ]
  },
  {
   "cell_type": "code",
   "execution_count": 6,
   "metadata": {},
   "outputs": [
    {
     "output_type": "execute_result",
     "data": {
      "text/plain": "[['AC005391.3', None],\n ['AC005330.2', None],\n ['AC005329.7', None],\n ['AC007040.10', None],\n ['AC006159.4', None]]"
     },
     "metadata": {},
     "execution_count": 6
    }
   ],
   "source": [
    "missing_lookup_list"
   ]
  },
  {
   "cell_type": "code",
   "execution_count": null,
   "metadata": {},
   "outputs": [],
   "source": [
    "lookup_list = []\n",
    "iiter = 0\n",
    "nidentified = 0\n",
    "for item in symbol_lookup_list:\n",
    "    if item[1] is None:\n",
    "        lookup_list, result_processed, iiter, nidentified = run_and_process_query('xref', [item[0]], lookup_list, iiter, nidentified)"
   ]
  },
  {
   "cell_type": "code",
   "execution_count": 49,
   "metadata": {},
   "outputs": [
    {
     "output_type": "stream",
     "name": "stdout",
     "text": "ERROR: Names list is too long (2) for the xref endpoint (max length is 1)\n"
    },
    {
     "output_type": "error",
     "ename": "NameError",
     "evalue": "name 'exit' is not defined",
     "traceback": [
      "\u001b[0;31m---------------------------------------------------------------------------\u001b[0m",
      "\u001b[0;31mNameError\u001b[0m                                 Traceback (most recent call last)",
      "\u001b[0;32m<ipython-input-49-0c28c1609982>\u001b[0m in \u001b[0;36m<module>\u001b[0;34m\u001b[0m\n\u001b[1;32m      1\u001b[0m \u001b[0;31m#res = tc.ensembl_name_request('xref', [to_xref2[0]])\u001b[0m\u001b[0;34m\u001b[0m\u001b[0;34m\u001b[0m\u001b[0;34m\u001b[0m\u001b[0m\n\u001b[0;32m----> 2\u001b[0;31m \u001b[0mres\u001b[0m \u001b[0;34m=\u001b[0m \u001b[0mtc\u001b[0m\u001b[0;34m.\u001b[0m\u001b[0mensembl_name_request\u001b[0m\u001b[0;34m(\u001b[0m\u001b[0;34m'xref'\u001b[0m\u001b[0;34m,\u001b[0m \u001b[0;34m[\u001b[0m\u001b[0;34m'AC005086.1'\u001b[0m\u001b[0;34m,\u001b[0m\u001b[0;34m'andrew'\u001b[0m\u001b[0;34m]\u001b[0m\u001b[0;34m)\u001b[0m\u001b[0;34m\u001b[0m\u001b[0;34m\u001b[0m\u001b[0m\n\u001b[0m\u001b[1;32m      3\u001b[0m \u001b[0;31m#res\u001b[0m\u001b[0;34m\u001b[0m\u001b[0;34m\u001b[0m\u001b[0;34m\u001b[0m\u001b[0m\n\u001b[1;32m      4\u001b[0m \u001b[0mnames_list\u001b[0m \u001b[0;34m=\u001b[0m \u001b[0;34m[\u001b[0m\u001b[0;34m'AC005086.1'\u001b[0m\u001b[0;34m]\u001b[0m\u001b[0;34m\u001b[0m\u001b[0;34m\u001b[0m\u001b[0m\n\u001b[1;32m      5\u001b[0m \u001b[0mres\u001b[0m \u001b[0;34m=\u001b[0m \u001b[0;34m[\u001b[0m\u001b[0;34m{\u001b[0m\u001b[0;34m'type'\u001b[0m\u001b[0;34m:\u001b[0m \u001b[0;34m'gene'\u001b[0m\u001b[0;34m,\u001b[0m \u001b[0;34m'id'\u001b[0m\u001b[0;34m:\u001b[0m \u001b[0;34m'ENSG00000252824'\u001b[0m\u001b[0;34m}\u001b[0m\u001b[0;34m]\u001b[0m\u001b[0;34m\u001b[0m\u001b[0;34m\u001b[0m\u001b[0m\n",
      "\u001b[0;32m/gpfs/gsfs9/users/BIDS-HPC/private/projects/dmi/checkout/target_class_lib.py\u001b[0m in \u001b[0;36mensembl_name_request\u001b[0;34m(endpoint, names_list, wait_time)\u001b[0m\n\u001b[1;32m     70\u001b[0m     \u001b[0;32mif\u001b[0m \u001b[0mlen\u001b[0m\u001b[0;34m(\u001b[0m\u001b[0mnames_list\u001b[0m\u001b[0;34m)\u001b[0m \u001b[0;34m>\u001b[0m \u001b[0mmax_list_len\u001b[0m\u001b[0;34m:\u001b[0m\u001b[0;34m\u001b[0m\u001b[0;34m\u001b[0m\u001b[0m\n\u001b[1;32m     71\u001b[0m         \u001b[0mprint\u001b[0m\u001b[0;34m(\u001b[0m\u001b[0;34m'ERROR: Names list is too long ({}) for the {} endpoint (max length is {})'\u001b[0m\u001b[0;34m.\u001b[0m\u001b[0mformat\u001b[0m\u001b[0;34m(\u001b[0m\u001b[0mlen\u001b[0m\u001b[0;34m(\u001b[0m\u001b[0mnames_list\u001b[0m\u001b[0;34m)\u001b[0m\u001b[0;34m,\u001b[0m \u001b[0mendpoint\u001b[0m\u001b[0;34m,\u001b[0m \u001b[0mmax_list_len\u001b[0m\u001b[0;34m)\u001b[0m\u001b[0;34m)\u001b[0m\u001b[0;34m\u001b[0m\u001b[0;34m\u001b[0m\u001b[0m\n\u001b[0;32m---> 72\u001b[0;31m         \u001b[0mexit\u001b[0m\u001b[0;34m\u001b[0m\u001b[0;34m\u001b[0m\u001b[0m\n\u001b[0m\u001b[1;32m     73\u001b[0m \u001b[0;34m\u001b[0m\u001b[0m\n\u001b[1;32m     74\u001b[0m     \u001b[0;31m# Query the REST server\u001b[0m\u001b[0;34m\u001b[0m\u001b[0;34m\u001b[0m\u001b[0;34m\u001b[0m\u001b[0m\n",
      "\u001b[0;31mNameError\u001b[0m: name 'exit' is not defined"
     ]
    }
   ],
   "source": [
    "#res = tc.ensembl_name_request('xref', [to_xref2[0]])\n",
    "#res = tc.ensembl_name_request('xref', ['AC005086.1'])\n",
    "#res\n",
    "names_list = ['AC005086.1']\n",
    "res = [{'type': 'gene', 'id': 'ENSG00000252824'}]\n",
    "{names_list[0]: res[0]}\n",
    "\n",
    "if endpoint == 'xref':\n",
    "    if res:\n",
    "        #print('not empty')\n",
    "        res = {names_list[0]: res[0]}\n",
    "    else:\n",
    "        #print('empty')\n",
    "        res = {}\n",
    "\n",
    "# Symbol does not exist: {}\n",
    "# Symbol exists:\n",
    "# {'AC005086.1': {'version': 1,\n",
    "#   'biotype': 'snoRNA',\n",
    "#   'object_type': 'Gene',\n",
    "#   'strand': -1,\n",
    "#   'id': 'ENSG00000252824',\n",
    "#   'db_type': 'core',\n",
    "#   'assembly_name': 'GRCh38',\n",
    "#   'logic_name': 'ncrna_homo_sapiens',\n",
    "#   'source': 'ensembl',\n",
    "#   'display_name': 'AC005086.1',\n",
    "#   'seq_region_name': '7',\n",
    "#   'end': 102194164,\n",
    "#   'species': 'homo_sapiens',\n",
    "#   'start': 102194076}}\n",
    "\n",
    "# xref does not exist: [] --> {}\n",
    "# xref exists: [{'type': 'gene', 'id': 'ENSG00000252824'}] --> {names_list[0]: res[0]}"
   ]
  },
  {
   "cell_type": "code",
   "execution_count": 48,
   "metadata": {},
   "outputs": [
    {
     "output_type": "execute_result",
     "data": {
      "text/plain": "False"
     },
     "metadata": {},
     "execution_count": 48
    }
   ],
   "source": [
    "'andrew' == 'anddrew'"
   ]
  },
  {
   "cell_type": "code",
   "execution_count": 50,
   "metadata": {},
   "outputs": [
    {
     "output_type": "error",
     "ename": "AttributeError",
     "evalue": "'list' object has no attribute 'keys'",
     "traceback": [
      "\u001b[0;31m---------------------------------------------------------------------------\u001b[0m",
      "\u001b[0;31mAttributeError\u001b[0m                            Traceback (most recent call last)",
      "\u001b[0;32m<ipython-input-50-511e0b387d06>\u001b[0m in \u001b[0;36m<module>\u001b[0;34m\u001b[0m\n\u001b[1;32m      3\u001b[0m \u001b[0mnidentified\u001b[0m \u001b[0;34m=\u001b[0m \u001b[0;36m0\u001b[0m\u001b[0;34m\u001b[0m\u001b[0;34m\u001b[0m\u001b[0m\n\u001b[1;32m      4\u001b[0m \u001b[0;32mfor\u001b[0m \u001b[0mitem\u001b[0m \u001b[0;32min\u001b[0m \u001b[0mto_xref2\u001b[0m\u001b[0;34m:\u001b[0m\u001b[0;34m\u001b[0m\u001b[0;34m\u001b[0m\u001b[0m\n\u001b[0;32m----> 5\u001b[0;31m     \u001b[0mtmp_list\u001b[0m\u001b[0;34m,\u001b[0m \u001b[0mresult_processed\u001b[0m\u001b[0;34m,\u001b[0m \u001b[0miiter\u001b[0m\u001b[0;34m,\u001b[0m \u001b[0mnidentified\u001b[0m \u001b[0;34m=\u001b[0m \u001b[0mtc\u001b[0m\u001b[0;34m.\u001b[0m\u001b[0mrun_and_process_query\u001b[0m\u001b[0;34m(\u001b[0m\u001b[0;34m'xref'\u001b[0m\u001b[0;34m,\u001b[0m \u001b[0;34m[\u001b[0m\u001b[0mitem\u001b[0m\u001b[0;34m]\u001b[0m\u001b[0;34m,\u001b[0m \u001b[0mtmp_list\u001b[0m\u001b[0;34m,\u001b[0m \u001b[0miiter\u001b[0m\u001b[0;34m,\u001b[0m \u001b[0mnidentified\u001b[0m\u001b[0;34m)\u001b[0m\u001b[0;34m\u001b[0m\u001b[0;34m\u001b[0m\u001b[0m\n\u001b[0m",
      "\u001b[0;32m/gpfs/gsfs9/users/BIDS-HPC/private/projects/dmi/checkout/target_class_lib.py\u001b[0m in \u001b[0;36mrun_and_process_query\u001b[0;34m(endpoint, names_list, lookup_list, iiter, nidentified_tot)\u001b[0m\n\u001b[1;32m     94\u001b[0m \u001b[0;34m\u001b[0m\u001b[0m\n\u001b[1;32m     95\u001b[0m     \u001b[0;31m# If the endpoint is 'xref', convert the result to something that was already processable for the 'symbol' and 'id' endpoints\u001b[0m\u001b[0;34m\u001b[0m\u001b[0;34m\u001b[0m\u001b[0;34m\u001b[0m\u001b[0m\n\u001b[0;32m---> 96\u001b[0;31m     \u001b[0;32mif\u001b[0m \u001b[0mendpoint\u001b[0m \u001b[0;34m==\u001b[0m \u001b[0;34m'xref'\u001b[0m\u001b[0;34m:\u001b[0m\u001b[0;34m\u001b[0m\u001b[0;34m\u001b[0m\u001b[0m\n\u001b[0m\u001b[1;32m     97\u001b[0m         \u001b[0;32mif\u001b[0m \u001b[0mres\u001b[0m\u001b[0;34m:\u001b[0m\u001b[0;34m\u001b[0m\u001b[0;34m\u001b[0m\u001b[0m\n\u001b[1;32m     98\u001b[0m             \u001b[0mres\u001b[0m \u001b[0;34m=\u001b[0m \u001b[0;34m{\u001b[0m\u001b[0mnames_list\u001b[0m\u001b[0;34m[\u001b[0m\u001b[0;36m0\u001b[0m\u001b[0;34m]\u001b[0m\u001b[0;34m:\u001b[0m \u001b[0mres\u001b[0m\u001b[0;34m[\u001b[0m\u001b[0;36m0\u001b[0m\u001b[0;34m]\u001b[0m\u001b[0;34m}\u001b[0m\u001b[0;34m\u001b[0m\u001b[0;34m\u001b[0m\u001b[0m\n",
      "\u001b[0;31mAttributeError\u001b[0m: 'list' object has no attribute 'keys'"
     ]
    }
   ],
   "source": [
    "tmp_list = []\n",
    "iiter = 0\n",
    "nidentified = 0\n",
    "for item in to_xref2:\n",
    "    tmp_list, result_processed, iiter, nidentified = tc.run_and_process_query('xref', [item], tmp_list, iiter, nidentified)"
   ]
  },
  {
   "cell_type": "code",
   "execution_count": 13,
   "metadata": {},
   "outputs": [
    {
     "output_type": "execute_result",
     "data": {
      "text/plain": "['AC005391.3',\n 'AC005330.2',\n 'AC005329.7',\n 'AC007040.10',\n 'AC006159.4',\n 'AC004893.11',\n 'AC004692.4',\n 'AC002310.11',\n 'AC005392.13',\n 'AC002069.6']"
     },
     "metadata": {},
     "execution_count": 13
    }
   ],
   "source": [
    "to_xref2"
   ]
  },
  {
   "cell_type": "code",
   "execution_count": 12,
   "metadata": {},
   "outputs": [],
   "source": [
    "to_xref2 = [ to_xref[x] for x in range(10) ]"
   ]
  },
  {
   "cell_type": "code",
   "execution_count": 5,
   "metadata": {},
   "outputs": [
    {
     "output_type": "execute_result",
     "data": {
      "text/plain": "'ENSG00000198691'],\n ['AC005280.1', 'ENSG00000251393'],\n ['AC005086.1', 'ENSG00000252824'],\n ['ABHD11-AS1', 'ENSG00000225969'],\n ['A1CF', 'ENSG00000148584'],\n ['AADACL2', 'ENSG00000197953'],\n ['AC006427.1', 'ENSG00000248851'],\n ['AC007179.1', 'ENSG00000231815'],\n ['AASS', 'ENSG00000008311'],\n ['ABCC5-AS1', 'ENSG00000223882'],\n ['A2MP1', 'ENSG00000256069'],\n ['AATF', 'ENSG00000275700'],\n ['AC006427.2', 'ENSG00000286888'],\n ['ABCG4', 'ENSG00000172350'],\n ['AC005013.1', 'ENSG00000228421'],\n ['AC005086.3', 'ENSG00000279724'],\n ['ABCC11', 'ENSG00000121270'],\n ['AC002331.1', 'ENSG00000286712'],\n ['AC003070.1', 'ENSG00000267344'],\n ['ABHD17A', 'ENSG00000129968'],\n ['AC002553.1', 'ENSG00000227782'],\n ['ABHD11', 'ENSG00000106077'],\n ['AC005544.1', 'ENSG00000264491'],\n ['ABCC6P1', 'ENSG00000256340'],\n ['ABCA9', 'ENSG00000154258'],\n ['ABCC2', 'ENSG00000023839'],\n ['AC006076.1', 'ENSG00000225563'],\n ['AC006539.1', 'ENSG00000240673'],\n ['ABHD6', 'ENSG00000163686'],\n ['ABHD8', 'ENSG00000127220'],\n ['AC004797.1', 'ENSG00000177369'],\n ['AC005086.5', 'ENSG00000280404'],\n ['AC005071.2', 'ENSG00000287631'],\n ['AAAS', 'ENSG00000094914'],\n ['ABLIM1', 'ENSG00000099204'],\n ['AC005034.2', 'ENSG00000230477'],\n ['ABHD14A-ACY1', 'ENSG00000114786'],\n ['AC003035.1', 'ENSG00000212663'],\n ['AC003958.2', 'ENSG00000234859'],\n ['AC007036.4', 'ENSG00000283618'],\n ['AC000367.1', 'ENSG00000224981'],\n ['ABTB2', 'ENSG00000166016'],\n ['ABCA11P', 'ENSG00000251595'],\n ['ABCA10', 'ENSG00000154263'],\n ['ABL1', 'ENSG00000097007'],\n ['ABHD3', 'ENSG00000158201'],\n ['AC004917.1', 'ENSG00000243797'],\n ['AC005355.2', 'ENSG00000280420'],\n ['AC003985.1', 'ENSG00000233824'],\n ['AC002365.1', 'ENSG00000206844'],\n ['AC005498.3', 'ENSG00000269696'],\n ['AC005838.2', 'ENSG00000252129'],\n ['ABHD1', 'ENSG00000143994'],\n ['AC005838.1', 'ENSG00000223544'],\n ['ABCC13', 'ENSG00000243064'],\n ['AC003009.1', 'ENSG00000262011'],\n ['AC003988.1', 'ENSG00000234223'],\n ['AC005392.1', 'ENSG00000227606'],\n ['AC006499.5', 'ENSG00000251278'],\n ['AC005281.1', 'ENSG00000225606'],\n ['AC006150.1', 'ENSG00000226323'],\n ['AC004053.1', 'ENSG00000248242'],\n ['AADACL3', 'ENSG00000188984'],\n ['AC004980.8', 'ENSG00000282580'],\n ['AAR2', 'ENSG00000131043'],\n ['ABCB1', 'ENSG00000085563'],\n ['AC005178.1', 'ENSG00000251243'],\n ['AC006196.1', 'ENSG00000252517'],\n ['AC006483.1', 'ENSG00000228974'],\n ['ABHD4', 'ENSG00000100439'],\n ['ABCC12', 'ENSG00000140798'],\n ['ABCD1P5', 'ENSG00000214330'],\n ['ABCD2', 'ENSG00000173208'],\n ['AC003077.1', 'ENSG00000287011'],\n ['AC006041.1', 'ENSG00000229379'],\n ['AC006372.4', 'ENSG00000280266'],\n ['AC005020.1', 'ENSG00000224448'],\n ['AC007114.1', 'ENSG00000263004'],\n ['AC004837.4', 'ENSG00000287584'],\n ['AC004009.3', 'ENSG00000279655'],\n ['ABCA9-AS1', 'ENSG00000231749'],\n ['AC005730.2', 'ENSG00000261033'],\n ['ABHD16B', 'ENSG00000183260'],\n ['ABHD17C', 'ENSG00000136379'],\n ['ABCC6P2', 'ENSG00000255277'],\n ['ABHD15', 'ENSG00000168792'],\n ['AC002386.1', 'ENSG00000230941'],\n ['ABLIM2', 'ENSG00000163995'],\n ['AC005618.1', 'ENSG00000272070'],\n ['AC006460.2', 'ENSG00000284052'],\n ['AC005786.3', 'ENSG00000267436'],\n ['AACSP1', 'ENSG00000250420'],\n ['AC005071.1', 'ENSG00000201913'],\n ['AAK1', 'ENSG00000115977'],\n ['AC004492.1', 'ENSG00000272072'],\n ['AC005336.2', 'ENSG00000267218'],\n ['AC002070.1', 'ENSG00000248636'],\n ['AC006335.2', 'ENSG00000275352'],\n ['AC007003.1', 'ENSG00000231183'],\n ['AC005000.1', 'ENSG00000228532'],\n ['AC002558.1', 'ENSG00000239291'],\n ['AC006499.7', 'ENSG00000251338'],\n ['ABCG1', 'ENSG00000160179'],\n ['AC004980.1', 'ENSG00000205485'],\n ['AC005000.2', 'ENSG00000270431'],\n ['AC004069.2', 'ENSG00000251473'],\n ['ABCC5', 'ENSG00000114770'],\n ['AACS', 'ENSG00000081760'],\n ['AC000374.1', 'ENSG00000227249'],\n ['ABCC6', 'ENSG00000091262'],\n ['AC004866.1', 'ENSG00000223514'],\n ['AC005255.1', 'ENSG00000256210'],\n ['ABHD5', 'ENSG00000011198'],\n ['AC005772.2', 'ENSG00000287307'],\n ['AC004054.1', 'ENSG00000248984'],\n ['AC005537.2', 'ENSG00000232006'],\n ['AC003006.1', 'ENSG00000269026'],\n ['AC004771.1', 'ENSG00000234203'],\n ['AC005625.1', 'ENSG00000266963'],\n ['AANAT', 'ENSG00000129673'],\n ['ABL2', 'ENSG00000143322'],\n ['AC003984.1', 'ENSG00000235139'],\n ['AC006499.2', 'ENSG00000250074'],\n ['AARD', 'ENSG00000205002'],\n ['AC002066.1', 'ENSG00000237813'],\n ['A4GALT', 'ENSG00000128274'],\n ['AC005229.5', 'ENSG00000287636'],\n ['AC006947.1', 'ENSG00000229330'],\n ['AC004148.1', 'ENSG00000263272'],\n ['ABCB6', 'ENSG00000115657'],\n ['AC005758.1', 'ENSG00000267630'],\n ['AC007099.2', 'ENSG00000237293'],\n ['ABHD14B', 'ENSG00000114779'],\n ['AC004079.1', 'ENSG00000274396'],\n ['AC006328.1', 'ENSG00000233619'],\n ['AC005307.1', 'ENSG00000260725'],\n ['ABCD1', 'ENSG00000101986'],\n ['AC005154.5', 'ENSG00000281039'],\n ['AC002480.2', 'ENSG00000232949'],\n ['AC003043.2', 'ENSG00000267211'],\n ['AC004562.1', 'ENSG00000199801'],\n ['AC005943.2', 'ENSG00000279009'],\n ['AC004063.1', 'ENSG00000250670'],\n ['AC002511.1', 'ENSG00000232680'],\n ['ABI3BP', 'ENSG00000154175'],\n ['ABI2', 'ENSG00000138443'],\n ['ABCC9', 'ENSG00000069431'],\n ['ABHD13', 'ENSG00000139826'],\n ['AC000124.1', 'ENSG00000226770'],\n ['A3GALT2', 'ENSG00000184389'],\n ['AC004869.2', 'ENSG00000240355'],\n ['AC005086.4', 'ENSG00000280004'],\n ['AC007014.1', 'ENSG00000262020'],\n ['AC000081.2', 'ENSG00000251940'],\n ['AC007126.1', 'ENSG00000250497'],\n ['AC005594.1', 'ENSG00000287884'],\n ['AC002543.2', 'ENSG00000252115'],\n ['ABHD2', 'ENSG00000140526'],\n ['ABCB10P4', 'ENSG00000260053'],\n ['AC004706.1', 'ENSG00000261996'],\n ['AC004812.1', 'ENSG00000255575'],\n ['ABCB7', 'ENSG00000131269'],\n ['ABCA3', 'ENSG00000167972'],\n ['AC005597.1', 'ENSG00000267223'],\n ['AC006539.2', 'ENSG00000268070'],\n ['AC006452.1', 'ENSG00000201354'],\n ['ABTB1', 'ENSG00000114626'],\n ['AC007106.1', 'ENSG00000251410'],\n ['AC002401.1', 'ENSG00000236472'],\n ['AC005391.3', None],\n ['AC005330.2', None],\n ['AC005329.7', None],\n ['AC007040.10', None],\n ['AC006159.4', None],\n ['AC004893.11', None],\n ['AC004692.4', None],\n ['AC002310.11', None],\n ['AC005392.13', None],\n ['AC002069.6', None],\n ['AC005895.4', None],\n ['AC004744.3', None],\n ['AC004019.13', None],\n ['AC005532.5', None],\n ['AC004741.3', None],\n ['AC006277.2', None],\n ['AC005014.5', None],\n ['AC002127.4', None],\n ['AC004460.1', None],\n ['AC002472.13', None],\n ['AC004840.9', None],\n ['AC004066.2', None],\n ['AC003658.1', None],\n ['AC004878.7', None],\n ['AC005276.1', None],\n ['AC005780.1', None],\n ['AC006159.5', None],\n ['AC007064.25', None],\n ['AC004014.3', None],\n ['AC006116.14', None],\n ['AC005682.6', None],\n ['ABC7-42389800N19.1', None],\n ['AC006461.2', None],\n ['AC002398.12', None],\n ['AC006042.6', None],\n ['AC005493.1', None],\n ['AC006126.4', None],\n ['AC004022.7', None],\n ['AC006052.1', None],\n ['AC007000.10', None],\n ['AC004854.4', None],\n ['AC004066.3', None],\n ['AC002429.5', None],\n ['AC003989.3', None],\n ['AC005077.7', None],\n ['AC006326.5', None],\n ['AC006509.4', None],\n ['AC004240.2', None],\n ['AC005048.1', None],\n ['AC004862.6', None],\n ['AC005265.1', None],\n ['AC004449.6', None],\n ['AC002984.2', None],\n ['ABHD11-AS2', None],\n ['AC005358.3', None],\n ['AC000032.2', None],\n ['AC002523.1', None],\n ['AC004893.10', None],\n ['AC007025.1', None],\n ['AC005033.6', None],\n ['AC006126.3', None],\n ['AC004878.2', None],\n ['AC006326.3', None],\n ['AC005150.1', None],\n ['AC004231.7', None],\n ['AC005538.5', None],\n ['AC006372.6', None],\n ['AC004957.5', None],\n ['AC006987.7', None],\n ['AC005086.7', None],\n ['AC004528.4', None],\n ['AC004851.1', None],\n ['AC004535.2', None],\n ['AC006116.20', None],\n ['AC005392.8', None],\n ['AC004907.2', None],\n ['ABC11-48400900C8.1', None],\n ['AC002398.13', None],\n ['AC002310.13', None],\n ['AB019438.63', None],\n ['AC006004.1', None],\n ['AC006552.1', None],\n ['AC006033.22', None],\n ['AC000364.1', None],\n ['AC005701.1', None],\n ['AC002454.1', None],\n ['AC005943.4', None],\n ['AC003986.7', None],\n ['AC004463.6', None],\n ['AC005154.6', None],\n ['AC006378.3', None],\n ['AC004702.2', None],\n ['AATK-AS1', None],\n ['AC005154.9', None],\n ['AC006369.3', None],\n ['AC007016.3', None],\n ['AC004016.1', None],\n ['AC002055.4', None],\n ['AC007163.10', None],\n ['AC004876.1', None],\n ['AC005594.3', None],\n ['AC004510.3', None],\n ['AC004156.3', None],\n ['A2LD1', None],\n ['AAED1', None],\n ['AC004540.5', None],\n ['AC005621.1', None],\n ['AC006547.13', None],\n ['AC006116.17', None],\n ['AC003986.5', None],\n ['AC006023.8', None],\n ['AC005363.9', None],\n ['AB019440.1', None],\n ['AC005534.9', None],\n ['AC002429.4', None],\n ['AC005013.5', None],\n ['AC006026.12', None],\n ['AC006273.5', None],\n ['AC006377.1', None],\n ['AC003002.6', None],\n ['AC005251.4', None],\n ['AC002994.1', None],\n ['AC007009.2', None],\n ['AC006160.4', None],\n ['AC002519.8', None],\n ['AC005306.3', None],\n ['AC003664.1', None],\n ['AC005786.5', None],\n ['AC000123.4', None],\n ['AC002978.1', None],\n ['AC006035.1', None],\n ['AC004996.1', None],\n ['AC005281.2', None],\n ['AC006042.8', None],\n ['AC005008.3', None],\n ['AC005040.3', None],\n ['AC006989.2', None],\n ['AC007056.1', None],\n ['AC002480.4', None],\n ['AC002511.4', None],\n ['AC002115.5', None],\n ['AC007040.11', None],\n ['1060P11.3', None],\n ['AC000093.3', None],\n ['AC005487.2', None],\n ['AC005094.2', None],\n ['AC002310.17', None],\n ['AC004878.5', None],\n ['AC005003.1', None],\n ['AC003087.4', None],\n ['AC002451.3', None],\n ['ABC13-48559800H2.2', None],\n ['AC005042.4', None],\n ['AC006195.2', None],\n ['AB019441.29', None],\n ['AC004878.6', None],\n ['AC000120.7', None],\n ['AC004528.3', None],\n ['AC004659.1', None],\n ['AC007038.7', None],\n ['AC005550.5', None],\n ['AB015752.4', None],\n ['AC004824.1', None],\n ['AC000077.2', None],\n ['AC006335.7', None],\n ['AC006160.5', None],\n ['AC003090.1', None],\n ['AC006534.1', None],\n ['A3GALT2P', None],\n ['AC004656.1', None],\n ['AC004471.9', None],\n ['AC005082.12', None],\n ['AC006045.3', None],\n ['AC005007.3', None],\n ['AC005160.3', None],\n ['AC004383.4', None],\n ['AB019438.66', None],\n ['AC005863.2', None],\n ['ABC13-48559800H2.1', None],\n ['AC005205.3', None],\n ['AARS', None],\n ['AC006035.2', None],\n ['AC007163.3', None],\n ['AC006335.11', None],\n ['AC005498.4', None],\n ['AC006116.27', None],\n ['AC004901.1', None],\n ['AC006994.3', None],\n ['AC006335.6', None],\n ['AC007131.1', None],\n ['AC003080.4', None],\n ['AC006145.1', None],\n ['AC005301.8', None],\n ['AC005041.17', None],\n ['AC005783.1', None],\n ['AC000078.5', None],\n ['AB015752.3', None],\n ['AC006026.11', None],\n ['AC007050.18', None],\n ['AC004152.5', None],\n ['AC004461.4', None],\n ['AC006335.10', None],\n ['AC005235.1', None],\n ['AC005042.5', None],\n ['AC007064.22', None],\n ['AC004475.1', None],\n ['AC004074.3', None],\n ['ABP1', None],\n ['AC004837.5', None],\n ['AC006115.3', None],\n ['AC004699.1', None],\n ['AC005029.1', None],\n ['AC003003.5', None],\n ['AC003045.1', None],\n ['AC000041.8', None],\n ['AC006227.1', None],\n ['AC005522.7', None],\n ['AC005326.2', None],\n ['AC005229.7', None],\n ['AC002398.11', None],\n ['AC004985.12', None],\n ['AC002127.2', None],\n ['AC006378.2', None],\n ['AC005035.1', None],\n ['AC002076.10', None],\n ['AC003991.3', None],\n ['AC003051.1', None],\n ['AC006374.2', None],\n ['AC005519.4', None],\n ['AC007050.17', None],\n ['AC005754.1', None],\n ['AC005077.8', None],\n ['AC006022.4', None],\n ['AC005189.6', None],\n ['AC006157.2', None],\n ['AC004924.1', None],\n ['AC006014.10', None],\n ['AC004623.2', None],\n ['AC002519.5', None],\n ['AC002310.10', None],\n ['AC005215.2', None],\n ['AB019439.68', None],\n ['AC005550.3', None],\n ['AC006465.4', None],\n ['AC006328.9', None],\n ['AC006372.5', None],\n ['AC002485.1', None],\n ['AC005391.2', None],\n ['AC005757.6', None],\n ['AC003104.1', None],\n ['AC002117.1', None],\n ['AACP', None],\n ['AC004129.7', None],\n ['AC004895.4', None],\n ['AC004543.2', None],\n ['AC007131.3', None],\n ['AC006995.8', None],\n ['AC002366.3', None],\n ['AC004528.5', None],\n ['AC000110.1', None],\n ['AC007040.5', None],\n ['AC004655.1', None],\n ['AC004967.11', None],\n ['AC004041.2', None],\n ['ABC7-42391500H16.2', None],\n ['AC000089.3', None],\n ['AC005159.1', None],\n ['AC004863.6', None],\n ['AC005775.2', None],\n ['AC002314.2', None],\n ['AC006116.13', None],\n ['AC006988.1', None],\n ['AC004070.1', None],\n ['AC006026.10', None],\n ['AC006070.11', None],\n ['AC000111.3', None],\n ['AC004980.9', None],\n ['AC002519.6', None],\n ['AC007096.1', None],\n ['AC004870.5', None],\n ['AC005606.14', None],\n ['ABC9-43961700F1.1', None],\n ['AC005204.2', None],\n ['AC005779.2', None],\n ['AC002398.5', None],\n ['AC007000.11', None],\n ['AC006390.3', None],\n ['AC005067.1', None],\n ['AC004112.5', None],\n ['AC005534.6', None],\n ['AC006370.2', None],\n ['AC005027.3', None],\n ['AC005076.5', None],\n ['AC006987.6', None],\n ['AC002116.7', None],\n ['AC005022.1', None],\n ['AC006150.2', None],\n ['AC007041.1', None],\n ['AC005262.4', None],\n ['AC006380.3', None],\n ['AC006116.19', None],\n ['AC006548.20', None],\n ['AC002480.5', None],\n ['AC000035.3', None],\n ['AC006994.2', None],\n ['AC000370.2', None],\n ['AC006481.1', None],\n ['AC004016.2', None],\n ['AC006445.6', None],\n ['AC002553.4', None],\n ['AC004076.9', None],\n ['AC007161.5', None],\n ['AC004158.3', None],\n ['AC006028.10', None],\n ['AC005926.1', None],\n ['AC007163.9', None],\n ['AC003665.1', None],\n ['AC006445.7', None],\n ['AC002128.4', None],\n ['AC005616.2', None],\n ['AC005324.7', None],\n ['AC006293.3', None],\n ['AC007040.6', None],\n ['AC004381.7', None],\n ['AC000111.4', None],\n ['AC004987.8', None],\n ['AC004769.1', None],\n ['AC006322.1', None],\n ['AC005682.7', None],\n ['AC006483.5', None],\n ['AC004237.1', None],\n ['AC005375.1', None],\n ['AC004453.8', None],\n ['AC005549.2', None],\n ['7SK', None],\n ['AC002116.8', None],\n ['AC004383.3', None],\n ['AC004673.1', None],\n ['AC005037.3', None],\n ['AC006390.4', None],\n ['AC004595.1', None],\n ['AC002398.9', None],\n ['AC004603.4', None],\n ['AC005789.9', None],\n ['AC006116.24', None],\n ['AC004161.4', None],\n ['AC004851.2', None],\n ['AC003968.1', None],\n ['AC005017.2', None],\n ['AC004941.3', None],\n ['AC004909.3', None],\n ['AC004954.2', None],\n ['AC004951.6', None],\n ['AC003084.2', None],\n ['AC006926.1', None],\n ['AC002979.1', None],\n ['AC004980.11', None],\n ['AC005534.8', None],\n ['AC005944.2', None],\n ['AC007041.2', None],\n ['AC007064.24', None],\n ['AC004899.3', None],\n ['AC005062.2', None],\n ['AC002465.2', None],\n ['AC002550.5', None],\n ['AC004987.9', None],\n ['AC004221.2', None],\n ['AC000094.3', None],\n ['AC005559.3', None],\n ['AC005042.3', None],\n ['AC006116.21', None],\n ['AC002069.5', None],\n ['AC004894.2', None],\n ['AC005510.1', None],\n ['AC003075.4', None],\n ['AC006445.8', None],\n ['AC004160.4', None],\n ['AC002992.4', None],\n ['AC006547.8', None],\n ['AC006534.2', None],\n ['AC005037.6', None],\n ['AC002467.7', None],\n ['AC006160.8', None],\n ['AC005037.4', None],\n ['AC006371.1', None],\n ['AC005370.1', None],\n ['AC004878.3', None],\n ['AC006548.19', None],\n ['AC005195.1', None],\n ['AC005077.12', None],\n ['AC005088.2', None],\n ['AC002064.5', None],\n ['AC005237.4', None],\n ['AC004967.7', None],\n ['AC005162.3', None],\n ['AC004510.2', None],\n ['AC005336.4', None],\n ['AC005686.1', None],\n ['AC005588.2', None],\n ['AC006116.15', None],\n ['AC002477.1', None],\n ['AC002076.9', None],\n ['AC002115.9', None],\n ['AA06', None],\n ['AC004540.4', None],\n ['AC006026.13', None],\n ['AC007115.3', None],\n ['AC005077.14', None],\n ['AC006466.5', None],\n ['AC005808.3', None],\n ['AC006133.3', None],\n ['AC004869.3', None],\n ['AC005779.1', None],\n ['AC002314.4', None],\n ['AC005488.11', None],\n ['AC006070.12', None],\n ['AC005517.3', None],\n ['AC006960.7', None],\n ['AC004166.6', None],\n ['AC004507.1', None],\n ['AC004019.10', None],\n ['AC002383.2', None],\n ['AC005546.2', None],\n ['AC005152.3', None],\n ['AC005154.8', None],\n ['AC002463.3', None],\n ['AC005484.5', None],\n ['AC002321.1', None],\n ['AC005046.5', None],\n ['AC004014.4', None],\n ['AC005300.5', None],\n ['AC000003.1', None],\n ['AC006000.5', None],\n ['AC006547.14', None],\n ['AC007163.6', None],\n ['AC004112.7', None],\n ['AC004745.1', None],\n ['AC003102.3', None],\n ['AC005943.5', None],\n ['AC004006.2', None],\n ['AC004980.10', None],\n ['AC000036.4', None],\n ['AC000111.5', None],\n ['AC004112.4', None],\n ['AC005262.3', None],\n ['AC006080.1', None],\n ['AC006262.5', None],\n ['AC006946.12', None],\n ['AC006953.1', None],\n ['AC005162.5', None],\n ['AC006019.4', None],\n ['AC004258.1', None],\n ['AC003009.2', None],\n ['AC002480.3', None],\n ['AC006978.6', None],\n ['AC005539.2', None],\n ['AC003989.4', None],\n ['AC006130.4', None],\n ['AC002467.5', None],\n ['AC004790.5', None],\n ['AC007163.4', None],\n ['AC005161.1', None],\n ['AC006024.4', None],\n ['AC006366.3', None],\n ['AC006509.7', None],\n ['AC004840.8', None],\n ['AC005019.3', None],\n ['AC005481.5', None],\n ['AC006230.4', None],\n ['AC004920.3', None],\n ['AC005086.6', None],\n ['AC006458.3', None],\n ['AC005009.2', None],\n ['AC006156.1', None],\n ['AC007163.8', None],\n ['AC006335.12', None],\n ['AC004076.7', None],\n ['AC006432.1', None],\n ['AC005077.9', None],\n ['AC006987.4', None],\n ['AC005954.3', None],\n ['AC002075.4', None],\n ['AC005954.4', None],\n ['AC002539.1', None],\n ['AC006355.3', None],\n ['AC006132.1', None],\n ['AC005682.5', None],\n ['AC005488.13', None],\n ['AC006465.3', None],\n ['AC004790.4', None],\n ['AC005606.15', None],\n ['AC004878.8', None],\n ['AC004074.4', None],\n ['AC002472.11', None],\n ['AC002310.7', None],\n ['AC005162.4', None],\n ['AC006028.9', None],\n ['AC005215.1', None],\n ['AC002310.12', None],\n ['AC004159.1', None],\n ['AC005786.7', None],\n ['AC007040.7', None],\n ['AC006038.4', None],\n ['AC006011.4', None],\n ['AC004920.2', None],\n ['AC004791.2', None],\n ['AC004854.5', None],\n ['AC005741.2', None],\n ['AC002321.2', None],\n ['AC007036.6', None],\n ['AC003088.1', None],\n ['AC000099.1', None],\n ['AC002486.3', None],\n ['AC002992.1', None],\n ['AC005264.2', None],\n ['AC006070.13', None],\n ['AC005105.2', None],\n ['AC002056.5', None],\n ['AC002400.1', None],\n ['AC005522.6', None],\n ['AC002368.4', None],\n ['AC004549.6', None],\n ['AC000068.5', None],\n ['AC005324.8-001', None],\n ['AC004478.2', None],\n ['AC006116.22', None],\n ['AC003986.6', None],\n ['AC004129.9', None],\n ['AC006116.26', None],\n ['AC005307.3', None],\n ['AC006042.7', None],\n ['AC004790.3', None],\n ['AC006028.11', None],\n ['AC004987.10', None],\n ['AC005086.8', None],\n ['AC004911.2', None],\n ['AC005041.11', None],\n ['AC006273.7', None],\n ['AC006159.3', None],\n ['AC004381.6', None],\n ['AC004538.3', None],\n ['AC005895.3', None],\n ['AC005356.1', None],\n ['AC004951.5', None],\n ['AC000111.6', None],\n ['AC004158.2', None],\n ['AC004889.1', None],\n ['AC005336.5', None],\n ['AC007050.1', None],\n ['AC006014.7', None],\n ['AC005550.4', None],\n ['AC005205.2', None],\n ['AC007040.8', None],\n ['AC005550.6', None],\n ['AC005682.8', None],\n ['AC004938.5', None],\n ['AC004125.3', None],\n ['AC005220.3', None],\n ['AC006050.2', None],\n ['AC005205.4', None],\n ['AC005077.5', None],\n ['AC004062.2', None],\n ['AC004051.2', None],\n ['AC005284.1', None],\n ['AC004593.3', None],\n ['AC006960.5', None],\n ['AC005540.3', None],\n ['AC005559.2', None],\n ['AC003079.1', None],\n ['AC004692.5', None],\n ['AC005488.12', None],\n ['AC007000.12', None],\n ['AC004941.5', None],\n ['AC006373.1', None],\n ['AC004022.8', None],\n ['AC005513.1', None],\n ['AC003029.1', None],\n ['AC005789.11', None],\n ['AC000059.1', None],\n ['AC006509.6', None],\n ['AC004485.3', None],\n ['AC007163.11', None],\n ['AC005624.2', None],\n ['AC004520.1', None],\n ['AC006003.3', None],\n ['AC006026.9', None],\n ['ABBA01057584.1', None],\n ['AC006014.8', None],\n ['AC006153.3', None],\n ['AC004967.8', None],\n ['AC005757.7', None],\n ['AC006129.4', None],\n ['AC004866.3', None],\n ['AC005971.3', None],\n ['AC006145.4', None],\n ['AC007131.2', None],\n ['AC004906.3', None],\n ['AC003958.6', None],\n ['AC005258.3', None],\n ['AC005592.3', None],\n ['AC004458.1', None],\n ['AC002066.2', None],\n ['AC002539.2', None],\n ['AC004799.3', None],\n ['AC005154.7', None],\n ['AC004166.7', None],\n ['AC006946.15', None],\n ['AC004017.1', None],\n ['AC004691.5', None],\n ['AC006987.5', None],\n ['AC005777.3', None],\n ['AC002075.3', None],\n ['ABC12-47043100G14.2', None],\n ...]"
     },
     "metadata": {},
     "execution_count": 5
    }
   ],
   "source": [
    "symbol_lookup_list"
   ]
  },
  {
   "cell_type": "code",
   "execution_count": 10,
   "metadata": {},
   "outputs": [],
   "source": [
    "to_xref = []\n",
    "for item in symbol_lookup_list:\n",
    "    if item[1] is None:\n",
    "        to_xref.append(item[0])"
   ]
  },
  {
   "cell_type": "code",
   "execution_count": 3,
   "metadata": {},
   "outputs": [
    {
     "output_type": "stream",
     "name": "stdout",
     "text": "[1] Given 1000 names, we identified 987 of them\n[2] Given 1000 names, we identified 989 of them\n[3] Given 1000 names, we identified 990 of them\n[4] Given 1000 names, we identified 984 of them\n"
    },
    {
     "output_type": "error",
     "ename": "KeyboardInterrupt",
     "evalue": "",
     "traceback": [
      "\u001b[0;31m---------------------------------------------------------------------------\u001b[0m",
      "\u001b[0;31mKeyboardInterrupt\u001b[0m                         Traceback (most recent call last)",
      "\u001b[0;32m<ipython-input-3-3f509ecebaeb>\u001b[0m in \u001b[0;36m<module>\u001b[0;34m\u001b[0m\n\u001b[0;32m----> 1\u001b[0;31m \u001b[0mid_lookup_list\u001b[0m\u001b[0;34m,\u001b[0m \u001b[0mid_nidentified\u001b[0m \u001b[0;34m=\u001b[0m \u001b[0mtc\u001b[0m\u001b[0;34m.\u001b[0m\u001b[0mget_lookup_list\u001b[0m\u001b[0;34m(\u001b[0m\u001b[0;34m'id'\u001b[0m\u001b[0;34m,\u001b[0m \u001b[0mos\u001b[0m\u001b[0;34m.\u001b[0m\u001b[0mpath\u001b[0m\u001b[0;34m.\u001b[0m\u001b[0mjoin\u001b[0m\u001b[0;34m(\u001b[0m\u001b[0mproject_dir\u001b[0m\u001b[0;34m,\u001b[0m\u001b[0;34m'data'\u001b[0m\u001b[0;34m,\u001b[0m\u001b[0;34m'unique_ensembl_ids.txt'\u001b[0m\u001b[0;34m)\u001b[0m\u001b[0;34m)\u001b[0m\u001b[0;34m\u001b[0m\u001b[0;34m\u001b[0m\u001b[0m\n\u001b[0m\u001b[1;32m      2\u001b[0m \u001b[0msymbol_lookup_list\u001b[0m\u001b[0;34m,\u001b[0m \u001b[0msymbol_nidentified\u001b[0m \u001b[0;34m=\u001b[0m \u001b[0mtc\u001b[0m\u001b[0;34m.\u001b[0m\u001b[0mget_lookup_list\u001b[0m\u001b[0;34m(\u001b[0m\u001b[0;34m'symbol'\u001b[0m\u001b[0;34m,\u001b[0m \u001b[0mos\u001b[0m\u001b[0;34m.\u001b[0m\u001b[0mpath\u001b[0m\u001b[0;34m.\u001b[0m\u001b[0mjoin\u001b[0m\u001b[0;34m(\u001b[0m\u001b[0mproject_dir\u001b[0m\u001b[0;34m,\u001b[0m\u001b[0;34m'data'\u001b[0m\u001b[0;34m,\u001b[0m\u001b[0;34m'unique_other_names.txt'\u001b[0m\u001b[0;34m)\u001b[0m\u001b[0;34m)\u001b[0m\u001b[0;34m\u001b[0m\u001b[0;34m\u001b[0m\u001b[0m\n",
      "\u001b[0;32m/gpfs/gsfs9/users/BIDS-HPC/private/projects/dmi/checkout/target_class_lib.py\u001b[0m in \u001b[0;36mget_lookup_list\u001b[0;34m(endpoint, names_file, max_list_len, max_iter)\u001b[0m\n\u001b[1;32m    157\u001b[0m \u001b[0;34m\u001b[0m\u001b[0m\n\u001b[1;32m    158\u001b[0m                 \u001b[0;31m# Run and process the query, adding any found name-ID pairs to the main lookup list (or otherwise, add None)\u001b[0m\u001b[0;34m\u001b[0m\u001b[0;34m\u001b[0m\u001b[0;34m\u001b[0m\u001b[0m\n\u001b[0;32m--> 159\u001b[0;31m                 \u001b[0mlookup_list\u001b[0m\u001b[0;34m,\u001b[0m \u001b[0mresult_processed\u001b[0m\u001b[0;34m,\u001b[0m \u001b[0miiter\u001b[0m\u001b[0;34m,\u001b[0m \u001b[0mnidentified\u001b[0m \u001b[0;34m=\u001b[0m \u001b[0mrun_and_process_query\u001b[0m\u001b[0;34m(\u001b[0m\u001b[0mendpoint\u001b[0m\u001b[0;34m,\u001b[0m \u001b[0mnames_list\u001b[0m\u001b[0;34m,\u001b[0m \u001b[0mlookup_list\u001b[0m\u001b[0;34m,\u001b[0m \u001b[0miiter\u001b[0m\u001b[0;34m,\u001b[0m \u001b[0mnidentified\u001b[0m\u001b[0;34m)\u001b[0m\u001b[0;34m\u001b[0m\u001b[0;34m\u001b[0m\u001b[0m\n\u001b[0m\u001b[1;32m    160\u001b[0m \u001b[0;34m\u001b[0m\u001b[0m\n\u001b[1;32m    161\u001b[0m                 \u001b[0;31m# If we've hit the maximum number of queries, get out of the loop\u001b[0m\u001b[0;34m\u001b[0m\u001b[0;34m\u001b[0m\u001b[0;34m\u001b[0m\u001b[0m\n",
      "\u001b[0;32m/gpfs/gsfs9/users/BIDS-HPC/private/projects/dmi/checkout/target_class_lib.py\u001b[0m in \u001b[0;36mrun_and_process_query\u001b[0;34m(endpoint, names_list, lookup_list, iiter, nidentified_tot)\u001b[0m\n\u001b[1;32m     91\u001b[0m \u001b[0;34m\u001b[0m\u001b[0m\n\u001b[1;32m     92\u001b[0m     \u001b[0;31m# Run the query\u001b[0m\u001b[0;34m\u001b[0m\u001b[0;34m\u001b[0m\u001b[0;34m\u001b[0m\u001b[0m\n\u001b[0;32m---> 93\u001b[0;31m     \u001b[0mres\u001b[0m \u001b[0;34m=\u001b[0m \u001b[0mensembl_name_request\u001b[0m\u001b[0;34m(\u001b[0m\u001b[0mendpoint\u001b[0m\u001b[0;34m,\u001b[0m \u001b[0mnames_list\u001b[0m\u001b[0;34m)\u001b[0m\u001b[0;34m\u001b[0m\u001b[0;34m\u001b[0m\u001b[0m\n\u001b[0m\u001b[1;32m     94\u001b[0m \u001b[0;34m\u001b[0m\u001b[0m\n\u001b[1;32m     95\u001b[0m     \u001b[0;31m# Process the result of the query, adding any found name-ID pairs to the main lookup list\u001b[0m\u001b[0;34m\u001b[0m\u001b[0;34m\u001b[0m\u001b[0;34m\u001b[0m\u001b[0m\n",
      "\u001b[0;32m/gpfs/gsfs9/users/BIDS-HPC/private/projects/dmi/checkout/target_class_lib.py\u001b[0m in \u001b[0;36mensembl_name_request\u001b[0;34m(endpoint, names_list, wait_time)\u001b[0m\n\u001b[1;32m     74\u001b[0m     \u001b[0;31m# Query the REST server\u001b[0m\u001b[0;34m\u001b[0m\u001b[0;34m\u001b[0m\u001b[0;34m\u001b[0m\u001b[0m\n\u001b[1;32m     75\u001b[0m     \u001b[0;32mif\u001b[0m \u001b[0mdata\u001b[0m \u001b[0;32mis\u001b[0m \u001b[0;32mnot\u001b[0m \u001b[0;32mNone\u001b[0m\u001b[0;34m:\u001b[0m\u001b[0;34m\u001b[0m\u001b[0;34m\u001b[0m\u001b[0m\n\u001b[0;32m---> 76\u001b[0;31m         \u001b[0mr\u001b[0m \u001b[0;34m=\u001b[0m \u001b[0mrequests\u001b[0m\u001b[0;34m.\u001b[0m\u001b[0mpost\u001b[0m\u001b[0;34m(\u001b[0m\u001b[0mserver\u001b[0m\u001b[0;34m+\u001b[0m\u001b[0mext\u001b[0m\u001b[0;34m,\u001b[0m \u001b[0mheaders\u001b[0m\u001b[0;34m=\u001b[0m\u001b[0mheaders\u001b[0m\u001b[0;34m,\u001b[0m \u001b[0mdata\u001b[0m\u001b[0;34m=\u001b[0m\u001b[0mdata\u001b[0m\u001b[0;34m)\u001b[0m\u001b[0;34m\u001b[0m\u001b[0;34m\u001b[0m\u001b[0m\n\u001b[0m\u001b[1;32m     77\u001b[0m     \u001b[0;32melse\u001b[0m\u001b[0;34m:\u001b[0m\u001b[0;34m\u001b[0m\u001b[0;34m\u001b[0m\u001b[0m\n\u001b[1;32m     78\u001b[0m         \u001b[0mr\u001b[0m \u001b[0;34m=\u001b[0m \u001b[0mrequests\u001b[0m\u001b[0;34m.\u001b[0m\u001b[0mget\u001b[0m\u001b[0;34m(\u001b[0m\u001b[0mserver\u001b[0m\u001b[0;34m+\u001b[0m\u001b[0mext\u001b[0m\u001b[0;34m,\u001b[0m \u001b[0mheaders\u001b[0m\u001b[0;34m=\u001b[0m\u001b[0mheaders\u001b[0m\u001b[0;34m)\u001b[0m\u001b[0;34m\u001b[0m\u001b[0;34m\u001b[0m\u001b[0m\n",
      "\u001b[0;32m/data/weismanal/miniconda3/envs/myenv/lib/python3.7/site-packages/requests/api.py\u001b[0m in \u001b[0;36mpost\u001b[0;34m(url, data, json, **kwargs)\u001b[0m\n\u001b[1;32m    117\u001b[0m     \"\"\"\n\u001b[1;32m    118\u001b[0m \u001b[0;34m\u001b[0m\u001b[0m\n\u001b[0;32m--> 119\u001b[0;31m     \u001b[0;32mreturn\u001b[0m \u001b[0mrequest\u001b[0m\u001b[0;34m(\u001b[0m\u001b[0;34m'post'\u001b[0m\u001b[0;34m,\u001b[0m \u001b[0murl\u001b[0m\u001b[0;34m,\u001b[0m \u001b[0mdata\u001b[0m\u001b[0;34m=\u001b[0m\u001b[0mdata\u001b[0m\u001b[0;34m,\u001b[0m \u001b[0mjson\u001b[0m\u001b[0;34m=\u001b[0m\u001b[0mjson\u001b[0m\u001b[0;34m,\u001b[0m \u001b[0;34m**\u001b[0m\u001b[0mkwargs\u001b[0m\u001b[0;34m)\u001b[0m\u001b[0;34m\u001b[0m\u001b[0;34m\u001b[0m\u001b[0m\n\u001b[0m\u001b[1;32m    120\u001b[0m \u001b[0;34m\u001b[0m\u001b[0m\n\u001b[1;32m    121\u001b[0m \u001b[0;34m\u001b[0m\u001b[0m\n",
      "\u001b[0;32m/data/weismanal/miniconda3/envs/myenv/lib/python3.7/site-packages/requests/api.py\u001b[0m in \u001b[0;36mrequest\u001b[0;34m(method, url, **kwargs)\u001b[0m\n\u001b[1;32m     59\u001b[0m     \u001b[0;31m# cases, and look like a memory leak in others.\u001b[0m\u001b[0;34m\u001b[0m\u001b[0;34m\u001b[0m\u001b[0;34m\u001b[0m\u001b[0m\n\u001b[1;32m     60\u001b[0m     \u001b[0;32mwith\u001b[0m \u001b[0msessions\u001b[0m\u001b[0;34m.\u001b[0m\u001b[0mSession\u001b[0m\u001b[0;34m(\u001b[0m\u001b[0;34m)\u001b[0m \u001b[0;32mas\u001b[0m \u001b[0msession\u001b[0m\u001b[0;34m:\u001b[0m\u001b[0;34m\u001b[0m\u001b[0;34m\u001b[0m\u001b[0m\n\u001b[0;32m---> 61\u001b[0;31m         \u001b[0;32mreturn\u001b[0m \u001b[0msession\u001b[0m\u001b[0;34m.\u001b[0m\u001b[0mrequest\u001b[0m\u001b[0;34m(\u001b[0m\u001b[0mmethod\u001b[0m\u001b[0;34m=\u001b[0m\u001b[0mmethod\u001b[0m\u001b[0;34m,\u001b[0m \u001b[0murl\u001b[0m\u001b[0;34m=\u001b[0m\u001b[0murl\u001b[0m\u001b[0;34m,\u001b[0m \u001b[0;34m**\u001b[0m\u001b[0mkwargs\u001b[0m\u001b[0;34m)\u001b[0m\u001b[0;34m\u001b[0m\u001b[0;34m\u001b[0m\u001b[0m\n\u001b[0m\u001b[1;32m     62\u001b[0m \u001b[0;34m\u001b[0m\u001b[0m\n\u001b[1;32m     63\u001b[0m \u001b[0;34m\u001b[0m\u001b[0m\n",
      "\u001b[0;32m/data/weismanal/miniconda3/envs/myenv/lib/python3.7/site-packages/requests/sessions.py\u001b[0m in \u001b[0;36mrequest\u001b[0;34m(self, method, url, params, data, headers, cookies, files, auth, timeout, allow_redirects, proxies, hooks, stream, verify, cert, json)\u001b[0m\n\u001b[1;32m    528\u001b[0m         }\n\u001b[1;32m    529\u001b[0m         \u001b[0msend_kwargs\u001b[0m\u001b[0;34m.\u001b[0m\u001b[0mupdate\u001b[0m\u001b[0;34m(\u001b[0m\u001b[0msettings\u001b[0m\u001b[0;34m)\u001b[0m\u001b[0;34m\u001b[0m\u001b[0;34m\u001b[0m\u001b[0m\n\u001b[0;32m--> 530\u001b[0;31m         \u001b[0mresp\u001b[0m \u001b[0;34m=\u001b[0m \u001b[0mself\u001b[0m\u001b[0;34m.\u001b[0m\u001b[0msend\u001b[0m\u001b[0;34m(\u001b[0m\u001b[0mprep\u001b[0m\u001b[0;34m,\u001b[0m \u001b[0;34m**\u001b[0m\u001b[0msend_kwargs\u001b[0m\u001b[0;34m)\u001b[0m\u001b[0;34m\u001b[0m\u001b[0;34m\u001b[0m\u001b[0m\n\u001b[0m\u001b[1;32m    531\u001b[0m \u001b[0;34m\u001b[0m\u001b[0m\n\u001b[1;32m    532\u001b[0m         \u001b[0;32mreturn\u001b[0m \u001b[0mresp\u001b[0m\u001b[0;34m\u001b[0m\u001b[0;34m\u001b[0m\u001b[0m\n",
      "\u001b[0;32m/data/weismanal/miniconda3/envs/myenv/lib/python3.7/site-packages/requests/sessions.py\u001b[0m in \u001b[0;36msend\u001b[0;34m(self, request, **kwargs)\u001b[0m\n\u001b[1;32m    641\u001b[0m \u001b[0;34m\u001b[0m\u001b[0m\n\u001b[1;32m    642\u001b[0m         \u001b[0;31m# Send the request\u001b[0m\u001b[0;34m\u001b[0m\u001b[0;34m\u001b[0m\u001b[0;34m\u001b[0m\u001b[0m\n\u001b[0;32m--> 643\u001b[0;31m         \u001b[0mr\u001b[0m \u001b[0;34m=\u001b[0m \u001b[0madapter\u001b[0m\u001b[0;34m.\u001b[0m\u001b[0msend\u001b[0m\u001b[0;34m(\u001b[0m\u001b[0mrequest\u001b[0m\u001b[0;34m,\u001b[0m \u001b[0;34m**\u001b[0m\u001b[0mkwargs\u001b[0m\u001b[0;34m)\u001b[0m\u001b[0;34m\u001b[0m\u001b[0;34m\u001b[0m\u001b[0m\n\u001b[0m\u001b[1;32m    644\u001b[0m \u001b[0;34m\u001b[0m\u001b[0m\n\u001b[1;32m    645\u001b[0m         \u001b[0;31m# Total elapsed time of the request (approximately)\u001b[0m\u001b[0;34m\u001b[0m\u001b[0;34m\u001b[0m\u001b[0;34m\u001b[0m\u001b[0m\n",
      "\u001b[0;32m/data/weismanal/miniconda3/envs/myenv/lib/python3.7/site-packages/requests/adapters.py\u001b[0m in \u001b[0;36msend\u001b[0;34m(self, request, stream, timeout, verify, cert, proxies)\u001b[0m\n\u001b[1;32m    447\u001b[0m                     \u001b[0mdecode_content\u001b[0m\u001b[0;34m=\u001b[0m\u001b[0;32mFalse\u001b[0m\u001b[0;34m,\u001b[0m\u001b[0;34m\u001b[0m\u001b[0;34m\u001b[0m\u001b[0m\n\u001b[1;32m    448\u001b[0m                     \u001b[0mretries\u001b[0m\u001b[0;34m=\u001b[0m\u001b[0mself\u001b[0m\u001b[0;34m.\u001b[0m\u001b[0mmax_retries\u001b[0m\u001b[0;34m,\u001b[0m\u001b[0;34m\u001b[0m\u001b[0;34m\u001b[0m\u001b[0m\n\u001b[0;32m--> 449\u001b[0;31m                     \u001b[0mtimeout\u001b[0m\u001b[0;34m=\u001b[0m\u001b[0mtimeout\u001b[0m\u001b[0;34m\u001b[0m\u001b[0;34m\u001b[0m\u001b[0m\n\u001b[0m\u001b[1;32m    450\u001b[0m                 )\n\u001b[1;32m    451\u001b[0m \u001b[0;34m\u001b[0m\u001b[0m\n",
      "\u001b[0;32m/data/weismanal/miniconda3/envs/myenv/lib/python3.7/site-packages/urllib3/connectionpool.py\u001b[0m in \u001b[0;36murlopen\u001b[0;34m(self, method, url, body, headers, retries, redirect, assert_same_host, timeout, pool_timeout, release_conn, chunked, body_pos, **response_kw)\u001b[0m\n\u001b[1;32m    670\u001b[0m                 \u001b[0mbody\u001b[0m\u001b[0;34m=\u001b[0m\u001b[0mbody\u001b[0m\u001b[0;34m,\u001b[0m\u001b[0;34m\u001b[0m\u001b[0;34m\u001b[0m\u001b[0m\n\u001b[1;32m    671\u001b[0m                 \u001b[0mheaders\u001b[0m\u001b[0;34m=\u001b[0m\u001b[0mheaders\u001b[0m\u001b[0;34m,\u001b[0m\u001b[0;34m\u001b[0m\u001b[0;34m\u001b[0m\u001b[0m\n\u001b[0;32m--> 672\u001b[0;31m                 \u001b[0mchunked\u001b[0m\u001b[0;34m=\u001b[0m\u001b[0mchunked\u001b[0m\u001b[0;34m,\u001b[0m\u001b[0;34m\u001b[0m\u001b[0;34m\u001b[0m\u001b[0m\n\u001b[0m\u001b[1;32m    673\u001b[0m             )\n\u001b[1;32m    674\u001b[0m \u001b[0;34m\u001b[0m\u001b[0m\n",
      "\u001b[0;32m/data/weismanal/miniconda3/envs/myenv/lib/python3.7/site-packages/urllib3/connectionpool.py\u001b[0m in \u001b[0;36m_make_request\u001b[0;34m(self, conn, method, url, timeout, chunked, **httplib_request_kw)\u001b[0m\n\u001b[1;32m    419\u001b[0m                     \u001b[0;31m# Python 3 (including for exceptions like SystemExit).\u001b[0m\u001b[0;34m\u001b[0m\u001b[0;34m\u001b[0m\u001b[0;34m\u001b[0m\u001b[0m\n\u001b[1;32m    420\u001b[0m                     \u001b[0;31m# Otherwise it looks like a bug in the code.\u001b[0m\u001b[0;34m\u001b[0m\u001b[0;34m\u001b[0m\u001b[0;34m\u001b[0m\u001b[0m\n\u001b[0;32m--> 421\u001b[0;31m                     \u001b[0msix\u001b[0m\u001b[0;34m.\u001b[0m\u001b[0mraise_from\u001b[0m\u001b[0;34m(\u001b[0m\u001b[0me\u001b[0m\u001b[0;34m,\u001b[0m \u001b[0;32mNone\u001b[0m\u001b[0;34m)\u001b[0m\u001b[0;34m\u001b[0m\u001b[0;34m\u001b[0m\u001b[0m\n\u001b[0m\u001b[1;32m    422\u001b[0m         \u001b[0;32mexcept\u001b[0m \u001b[0;34m(\u001b[0m\u001b[0mSocketTimeout\u001b[0m\u001b[0;34m,\u001b[0m \u001b[0mBaseSSLError\u001b[0m\u001b[0;34m,\u001b[0m \u001b[0mSocketError\u001b[0m\u001b[0;34m)\u001b[0m \u001b[0;32mas\u001b[0m \u001b[0me\u001b[0m\u001b[0;34m:\u001b[0m\u001b[0;34m\u001b[0m\u001b[0;34m\u001b[0m\u001b[0m\n\u001b[1;32m    423\u001b[0m             \u001b[0mself\u001b[0m\u001b[0;34m.\u001b[0m\u001b[0m_raise_timeout\u001b[0m\u001b[0;34m(\u001b[0m\u001b[0merr\u001b[0m\u001b[0;34m=\u001b[0m\u001b[0me\u001b[0m\u001b[0;34m,\u001b[0m \u001b[0murl\u001b[0m\u001b[0;34m=\u001b[0m\u001b[0murl\u001b[0m\u001b[0;34m,\u001b[0m \u001b[0mtimeout_value\u001b[0m\u001b[0;34m=\u001b[0m\u001b[0mread_timeout\u001b[0m\u001b[0;34m)\u001b[0m\u001b[0;34m\u001b[0m\u001b[0;34m\u001b[0m\u001b[0m\n",
      "\u001b[0;32m/data/weismanal/miniconda3/envs/myenv/lib/python3.7/site-packages/urllib3/packages/six.py\u001b[0m in \u001b[0;36mraise_from\u001b[0;34m(value, from_value)\u001b[0m\n",
      "\u001b[0;32m/data/weismanal/miniconda3/envs/myenv/lib/python3.7/site-packages/urllib3/connectionpool.py\u001b[0m in \u001b[0;36m_make_request\u001b[0;34m(self, conn, method, url, timeout, chunked, **httplib_request_kw)\u001b[0m\n\u001b[1;32m    414\u001b[0m                 \u001b[0;31m# Python 3\u001b[0m\u001b[0;34m\u001b[0m\u001b[0;34m\u001b[0m\u001b[0;34m\u001b[0m\u001b[0m\n\u001b[1;32m    415\u001b[0m                 \u001b[0;32mtry\u001b[0m\u001b[0;34m:\u001b[0m\u001b[0;34m\u001b[0m\u001b[0;34m\u001b[0m\u001b[0m\n\u001b[0;32m--> 416\u001b[0;31m                     \u001b[0mhttplib_response\u001b[0m \u001b[0;34m=\u001b[0m \u001b[0mconn\u001b[0m\u001b[0;34m.\u001b[0m\u001b[0mgetresponse\u001b[0m\u001b[0;34m(\u001b[0m\u001b[0;34m)\u001b[0m\u001b[0;34m\u001b[0m\u001b[0;34m\u001b[0m\u001b[0m\n\u001b[0m\u001b[1;32m    417\u001b[0m                 \u001b[0;32mexcept\u001b[0m \u001b[0mBaseException\u001b[0m \u001b[0;32mas\u001b[0m \u001b[0me\u001b[0m\u001b[0;34m:\u001b[0m\u001b[0;34m\u001b[0m\u001b[0;34m\u001b[0m\u001b[0m\n\u001b[1;32m    418\u001b[0m                     \u001b[0;31m# Remove the TypeError from the exception chain in\u001b[0m\u001b[0;34m\u001b[0m\u001b[0;34m\u001b[0m\u001b[0;34m\u001b[0m\u001b[0m\n",
      "\u001b[0;32m/data/weismanal/miniconda3/envs/myenv/lib/python3.7/http/client.py\u001b[0m in \u001b[0;36mgetresponse\u001b[0;34m(self)\u001b[0m\n\u001b[1;32m   1342\u001b[0m         \u001b[0;32mtry\u001b[0m\u001b[0;34m:\u001b[0m\u001b[0;34m\u001b[0m\u001b[0;34m\u001b[0m\u001b[0m\n\u001b[1;32m   1343\u001b[0m             \u001b[0;32mtry\u001b[0m\u001b[0;34m:\u001b[0m\u001b[0;34m\u001b[0m\u001b[0;34m\u001b[0m\u001b[0m\n\u001b[0;32m-> 1344\u001b[0;31m                 \u001b[0mresponse\u001b[0m\u001b[0;34m.\u001b[0m\u001b[0mbegin\u001b[0m\u001b[0;34m(\u001b[0m\u001b[0;34m)\u001b[0m\u001b[0;34m\u001b[0m\u001b[0;34m\u001b[0m\u001b[0m\n\u001b[0m\u001b[1;32m   1345\u001b[0m             \u001b[0;32mexcept\u001b[0m \u001b[0mConnectionError\u001b[0m\u001b[0;34m:\u001b[0m\u001b[0;34m\u001b[0m\u001b[0;34m\u001b[0m\u001b[0m\n\u001b[1;32m   1346\u001b[0m                 \u001b[0mself\u001b[0m\u001b[0;34m.\u001b[0m\u001b[0mclose\u001b[0m\u001b[0;34m(\u001b[0m\u001b[0;34m)\u001b[0m\u001b[0;34m\u001b[0m\u001b[0;34m\u001b[0m\u001b[0m\n",
      "\u001b[0;32m/data/weismanal/miniconda3/envs/myenv/lib/python3.7/http/client.py\u001b[0m in \u001b[0;36mbegin\u001b[0;34m(self)\u001b[0m\n\u001b[1;32m    304\u001b[0m         \u001b[0;31m# read until we get a non-100 response\u001b[0m\u001b[0;34m\u001b[0m\u001b[0;34m\u001b[0m\u001b[0;34m\u001b[0m\u001b[0m\n\u001b[1;32m    305\u001b[0m         \u001b[0;32mwhile\u001b[0m \u001b[0;32mTrue\u001b[0m\u001b[0;34m:\u001b[0m\u001b[0;34m\u001b[0m\u001b[0;34m\u001b[0m\u001b[0m\n\u001b[0;32m--> 306\u001b[0;31m             \u001b[0mversion\u001b[0m\u001b[0;34m,\u001b[0m \u001b[0mstatus\u001b[0m\u001b[0;34m,\u001b[0m \u001b[0mreason\u001b[0m \u001b[0;34m=\u001b[0m \u001b[0mself\u001b[0m\u001b[0;34m.\u001b[0m\u001b[0m_read_status\u001b[0m\u001b[0;34m(\u001b[0m\u001b[0;34m)\u001b[0m\u001b[0;34m\u001b[0m\u001b[0;34m\u001b[0m\u001b[0m\n\u001b[0m\u001b[1;32m    307\u001b[0m             \u001b[0;32mif\u001b[0m \u001b[0mstatus\u001b[0m \u001b[0;34m!=\u001b[0m \u001b[0mCONTINUE\u001b[0m\u001b[0;34m:\u001b[0m\u001b[0;34m\u001b[0m\u001b[0;34m\u001b[0m\u001b[0m\n\u001b[1;32m    308\u001b[0m                 \u001b[0;32mbreak\u001b[0m\u001b[0;34m\u001b[0m\u001b[0;34m\u001b[0m\u001b[0m\n",
      "\u001b[0;32m/data/weismanal/miniconda3/envs/myenv/lib/python3.7/http/client.py\u001b[0m in \u001b[0;36m_read_status\u001b[0;34m(self)\u001b[0m\n\u001b[1;32m    265\u001b[0m \u001b[0;34m\u001b[0m\u001b[0m\n\u001b[1;32m    266\u001b[0m     \u001b[0;32mdef\u001b[0m \u001b[0m_read_status\u001b[0m\u001b[0;34m(\u001b[0m\u001b[0mself\u001b[0m\u001b[0;34m)\u001b[0m\u001b[0;34m:\u001b[0m\u001b[0;34m\u001b[0m\u001b[0;34m\u001b[0m\u001b[0m\n\u001b[0;32m--> 267\u001b[0;31m         \u001b[0mline\u001b[0m \u001b[0;34m=\u001b[0m \u001b[0mstr\u001b[0m\u001b[0;34m(\u001b[0m\u001b[0mself\u001b[0m\u001b[0;34m.\u001b[0m\u001b[0mfp\u001b[0m\u001b[0;34m.\u001b[0m\u001b[0mreadline\u001b[0m\u001b[0;34m(\u001b[0m\u001b[0m_MAXLINE\u001b[0m \u001b[0;34m+\u001b[0m \u001b[0;36m1\u001b[0m\u001b[0;34m)\u001b[0m\u001b[0;34m,\u001b[0m \u001b[0;34m\"iso-8859-1\"\u001b[0m\u001b[0;34m)\u001b[0m\u001b[0;34m\u001b[0m\u001b[0;34m\u001b[0m\u001b[0m\n\u001b[0m\u001b[1;32m    268\u001b[0m         \u001b[0;32mif\u001b[0m \u001b[0mlen\u001b[0m\u001b[0;34m(\u001b[0m\u001b[0mline\u001b[0m\u001b[0;34m)\u001b[0m \u001b[0;34m>\u001b[0m \u001b[0m_MAXLINE\u001b[0m\u001b[0;34m:\u001b[0m\u001b[0;34m\u001b[0m\u001b[0;34m\u001b[0m\u001b[0m\n\u001b[1;32m    269\u001b[0m             \u001b[0;32mraise\u001b[0m \u001b[0mLineTooLong\u001b[0m\u001b[0;34m(\u001b[0m\u001b[0;34m\"status line\"\u001b[0m\u001b[0;34m)\u001b[0m\u001b[0;34m\u001b[0m\u001b[0;34m\u001b[0m\u001b[0m\n",
      "\u001b[0;32m/data/weismanal/miniconda3/envs/myenv/lib/python3.7/socket.py\u001b[0m in \u001b[0;36mreadinto\u001b[0;34m(self, b)\u001b[0m\n\u001b[1;32m    587\u001b[0m         \u001b[0;32mwhile\u001b[0m \u001b[0;32mTrue\u001b[0m\u001b[0;34m:\u001b[0m\u001b[0;34m\u001b[0m\u001b[0;34m\u001b[0m\u001b[0m\n\u001b[1;32m    588\u001b[0m             \u001b[0;32mtry\u001b[0m\u001b[0;34m:\u001b[0m\u001b[0;34m\u001b[0m\u001b[0;34m\u001b[0m\u001b[0m\n\u001b[0;32m--> 589\u001b[0;31m                 \u001b[0;32mreturn\u001b[0m \u001b[0mself\u001b[0m\u001b[0;34m.\u001b[0m\u001b[0m_sock\u001b[0m\u001b[0;34m.\u001b[0m\u001b[0mrecv_into\u001b[0m\u001b[0;34m(\u001b[0m\u001b[0mb\u001b[0m\u001b[0;34m)\u001b[0m\u001b[0;34m\u001b[0m\u001b[0;34m\u001b[0m\u001b[0m\n\u001b[0m\u001b[1;32m    590\u001b[0m             \u001b[0;32mexcept\u001b[0m \u001b[0mtimeout\u001b[0m\u001b[0;34m:\u001b[0m\u001b[0;34m\u001b[0m\u001b[0;34m\u001b[0m\u001b[0m\n\u001b[1;32m    591\u001b[0m                 \u001b[0mself\u001b[0m\u001b[0;34m.\u001b[0m\u001b[0m_timeout_occurred\u001b[0m \u001b[0;34m=\u001b[0m \u001b[0;32mTrue\u001b[0m\u001b[0;34m\u001b[0m\u001b[0;34m\u001b[0m\u001b[0m\n",
      "\u001b[0;32m/data/weismanal/miniconda3/envs/myenv/lib/python3.7/site-packages/urllib3/contrib/pyopenssl.py\u001b[0m in \u001b[0;36mrecv_into\u001b[0;34m(self, *args, **kwargs)\u001b[0m\n\u001b[1;32m    311\u001b[0m     \u001b[0;32mdef\u001b[0m \u001b[0mrecv_into\u001b[0m\u001b[0;34m(\u001b[0m\u001b[0mself\u001b[0m\u001b[0;34m,\u001b[0m \u001b[0;34m*\u001b[0m\u001b[0margs\u001b[0m\u001b[0;34m,\u001b[0m \u001b[0;34m**\u001b[0m\u001b[0mkwargs\u001b[0m\u001b[0;34m)\u001b[0m\u001b[0;34m:\u001b[0m\u001b[0;34m\u001b[0m\u001b[0;34m\u001b[0m\u001b[0m\n\u001b[1;32m    312\u001b[0m         \u001b[0;32mtry\u001b[0m\u001b[0;34m:\u001b[0m\u001b[0;34m\u001b[0m\u001b[0;34m\u001b[0m\u001b[0m\n\u001b[0;32m--> 313\u001b[0;31m             \u001b[0;32mreturn\u001b[0m \u001b[0mself\u001b[0m\u001b[0;34m.\u001b[0m\u001b[0mconnection\u001b[0m\u001b[0;34m.\u001b[0m\u001b[0mrecv_into\u001b[0m\u001b[0;34m(\u001b[0m\u001b[0;34m*\u001b[0m\u001b[0margs\u001b[0m\u001b[0;34m,\u001b[0m \u001b[0;34m**\u001b[0m\u001b[0mkwargs\u001b[0m\u001b[0;34m)\u001b[0m\u001b[0;34m\u001b[0m\u001b[0;34m\u001b[0m\u001b[0m\n\u001b[0m\u001b[1;32m    314\u001b[0m         \u001b[0;32mexcept\u001b[0m \u001b[0mOpenSSL\u001b[0m\u001b[0;34m.\u001b[0m\u001b[0mSSL\u001b[0m\u001b[0;34m.\u001b[0m\u001b[0mSysCallError\u001b[0m \u001b[0;32mas\u001b[0m \u001b[0me\u001b[0m\u001b[0;34m:\u001b[0m\u001b[0;34m\u001b[0m\u001b[0;34m\u001b[0m\u001b[0m\n\u001b[1;32m    315\u001b[0m             \u001b[0;32mif\u001b[0m \u001b[0mself\u001b[0m\u001b[0;34m.\u001b[0m\u001b[0msuppress_ragged_eofs\u001b[0m \u001b[0;32mand\u001b[0m \u001b[0me\u001b[0m\u001b[0;34m.\u001b[0m\u001b[0margs\u001b[0m \u001b[0;34m==\u001b[0m \u001b[0;34m(\u001b[0m\u001b[0;34m-\u001b[0m\u001b[0;36m1\u001b[0m\u001b[0;34m,\u001b[0m \u001b[0;34m\"Unexpected EOF\"\u001b[0m\u001b[0;34m)\u001b[0m\u001b[0;34m:\u001b[0m\u001b[0;34m\u001b[0m\u001b[0;34m\u001b[0m\u001b[0m\n",
      "\u001b[0;32m/data/weismanal/miniconda3/envs/myenv/lib/python3.7/site-packages/OpenSSL/SSL.py\u001b[0m in \u001b[0;36mrecv_into\u001b[0;34m(self, buffer, nbytes, flags)\u001b[0m\n\u001b[1;32m   1837\u001b[0m             \u001b[0mresult\u001b[0m \u001b[0;34m=\u001b[0m \u001b[0m_lib\u001b[0m\u001b[0;34m.\u001b[0m\u001b[0mSSL_peek\u001b[0m\u001b[0;34m(\u001b[0m\u001b[0mself\u001b[0m\u001b[0;34m.\u001b[0m\u001b[0m_ssl\u001b[0m\u001b[0;34m,\u001b[0m \u001b[0mbuf\u001b[0m\u001b[0;34m,\u001b[0m \u001b[0mnbytes\u001b[0m\u001b[0;34m)\u001b[0m\u001b[0;34m\u001b[0m\u001b[0;34m\u001b[0m\u001b[0m\n\u001b[1;32m   1838\u001b[0m         \u001b[0;32melse\u001b[0m\u001b[0;34m:\u001b[0m\u001b[0;34m\u001b[0m\u001b[0;34m\u001b[0m\u001b[0m\n\u001b[0;32m-> 1839\u001b[0;31m             \u001b[0mresult\u001b[0m \u001b[0;34m=\u001b[0m \u001b[0m_lib\u001b[0m\u001b[0;34m.\u001b[0m\u001b[0mSSL_read\u001b[0m\u001b[0;34m(\u001b[0m\u001b[0mself\u001b[0m\u001b[0;34m.\u001b[0m\u001b[0m_ssl\u001b[0m\u001b[0;34m,\u001b[0m \u001b[0mbuf\u001b[0m\u001b[0;34m,\u001b[0m \u001b[0mnbytes\u001b[0m\u001b[0;34m)\u001b[0m\u001b[0;34m\u001b[0m\u001b[0;34m\u001b[0m\u001b[0m\n\u001b[0m\u001b[1;32m   1840\u001b[0m         \u001b[0mself\u001b[0m\u001b[0;34m.\u001b[0m\u001b[0m_raise_ssl_error\u001b[0m\u001b[0;34m(\u001b[0m\u001b[0mself\u001b[0m\u001b[0;34m.\u001b[0m\u001b[0m_ssl\u001b[0m\u001b[0;34m,\u001b[0m \u001b[0mresult\u001b[0m\u001b[0;34m)\u001b[0m\u001b[0;34m\u001b[0m\u001b[0;34m\u001b[0m\u001b[0m\n\u001b[1;32m   1841\u001b[0m \u001b[0;34m\u001b[0m\u001b[0m\n",
      "\u001b[0;31mKeyboardInterrupt\u001b[0m: "
     ]
    }
   ],
   "source": [
    "if not os.path.exists(os.path.join(project_dir,'data','primary_lookup_lists.pkl')):\n",
    "\n",
    "    # Import the GMB library in order to get the make_pickle() function\n",
    "    gmb_dir = '/data/BIDS-HPC/private/projects/gmb/checkout'\n",
    "    if gmb_dir not in sys.path:\n",
    "        sys.path.append(gmb_dir)\n",
    "    import time_cell_interaction_lib as tci # we need this to get the make_pickle() function\n",
    "\n",
    "    # Query the Ensembl REST API to see whether we can identify the gene \"names\"\n",
    "    id_lookup_list, id_nidentified = tc.get_lookup_list('id', os.path.join(project_dir,'data','unique_ensembl_ids.txt'))\n",
    "    symbol_lookup_list, symbol_nidentified = tc.get_lookup_list('symbol', os.path.join(project_dir,'data','unique_other_names.txt'))\n",
    "\n",
    "    # Run a check on the number of Nones in the lists; otherwise, save the lookup lists to disk\n",
    "    if (sum([ 0 if x[1] is None else 1 for x in symbol_lookup_list ]) != symbol_nidentified) or (sum([ 0 if x[1] is None else 1 for x in id_lookup_list ]) != id_nidentified):\n",
    "        print('ERROR: Inconsistent number of Nones in the lookup lists')\n",
    "        exit\n",
    "    else:\n",
    "        tci.make_pickle([symbol_lookup_list, id_lookup_list], os.path.join(project_dir,'data'), 'primary_lookup_lists.pkl')\n",
    "\n",
    "else:\n",
    "    [symbol_lookup_list, id_lookup_list] = tci.load_pickle(os.path.join(project_dir,'data'), 'primary_lookup_lists.pkl')"
   ]
  },
  {
   "cell_type": "code",
   "execution_count": 4,
   "metadata": {},
   "outputs": [
    {
     "output_type": "stream",
     "name": "stdout",
     "text": "[1] Given 10 names, we identified 10 of them\n[2] Given 10 names, we identified 10 of them\n[3] Given 10 names, we identified 10 of them\n[4] Given 10 names, we identified 10 of them\n[5] Given 10 names, we identified 10 of them\n[6] Given 10 names, we identified 10 of them\n[7] Given 10 names, we identified 10 of them\n[8] Given 10 names, we identified 10 of them\n[9] Given 10 names, we identified 10 of them\n[10] Given 10 names, we identified 10 of them\n[11] Given 10 names, we identified 10 of them\n[12] Given 10 names, we identified 9 of them\n[13] Given 10 names, we identified 7 of them\n[14] Given 10 names, we identified 10 of them\n[15] Given 10 names, we identified 10 of them\n"
    }
   ],
   "source": [
    "id_lookup_list, id_nidentified = tc.get_lookup_list('id', os.path.join(project_dir,'data','unique_ensembl_ids.txt'), max_list_len=10, max_iter=15)"
   ]
  },
  {
   "cell_type": "code",
   "execution_count": 22,
   "metadata": {},
   "outputs": [
    {
     "output_type": "execute_result",
     "data": {
      "text/plain": "870"
     },
     "metadata": {},
     "execution_count": 22
    }
   ],
   "source": [
    "sum([ 0 if x[1] is None else 1 for x in symbol_lookup_list ])"
   ]
  },
  {
   "cell_type": "code",
   "execution_count": 17,
   "metadata": {},
   "outputs": [
    {
     "output_type": "error",
     "ename": "TypeError",
     "evalue": "unsupported operand type(s) for +: 'int' and 'str'",
     "traceback": [
      "\u001b[0;31m---------------------------------------------------------------------------\u001b[0m",
      "\u001b[0;31mTypeError\u001b[0m                                 Traceback (most recent call last)",
      "\u001b[0;32m<ipython-input-17-760e003acb17>\u001b[0m in \u001b[0;36m<module>\u001b[0;34m\u001b[0m\n\u001b[0;32m----> 1\u001b[0;31m \u001b[0msum\u001b[0m\u001b[0;34m(\u001b[0m\u001b[0mcol\u001b[0m\u001b[0;34m)\u001b[0m\u001b[0;34m\u001b[0m\u001b[0;34m\u001b[0m\u001b[0m\n\u001b[0m",
      "\u001b[0;31mTypeError\u001b[0m: unsupported operand type(s) for +: 'int' and 'str'"
     ]
    }
   ],
   "source": [
    "col.is"
   ]
  },
  {
   "cell_type": "code",
   "execution_count": 7,
   "metadata": {},
   "outputs": [],
   "source": [
    "list1 = [\"ENSG00000005483\", \"ENSG00000005486\", \"ENSG00000005513\", \"ENSG00000005700\", \"ENSG00000005801\", \"ENSG00000005810\", \"ENSG00000005812\", \"ENSG00000005844\", \"ENSG00000005882\", \"ENSG00000005884\"]\n",
    "list2 = [\"ENSG00000005889\", \"ENSG00000005893\", \"ENSG00000005955\", \"ENSG00000005961\", \"ENSG00000005981\", \"ENSG00000006007\", \"ENSG00000006015\", \"ENSG00000006016\", \"ENSG00000006025\", \"ENSG00000006042\"]\n",
    "res1 = tc.ensembl_name_request('id', list1)\n",
    "res2 = tc.ensembl_name_request('id', list2)"
   ]
  },
  {
   "cell_type": "code",
   "execution_count": 9,
   "metadata": {},
   "outputs": [
    {
     "output_type": "execute_result",
     "data": {
      "text/plain": "{'ENSG00000005961': {'db_type': 'core',\n  'assembly_name': 'GRCh38',\n  'id': 'ENSG00000005961',\n  'start': 44372180,\n  'logic_name': 'ensembl_havana_gene_homo_sapiens',\n  'source': 'ensembl_havana',\n  'end': 44389649,\n  'display_name': 'ITGA2B',\n  'seq_region_name': '17',\n  'species': 'homo_sapiens',\n  'biotype': 'protein_coding',\n  'version': 19,\n  'strand': -1,\n  'description': 'integrin subunit alpha 2b [Source:HGNC Symbol;Acc:HGNC:6138]',\n  'object_type': 'Gene'},\n 'ENSG00000006025': {'description': 'oxysterol binding protein like 7 [Source:HGNC Symbol;Acc:HGNC:16387]',\n  'strand': -1,\n  'object_type': 'Gene',\n  'biotype': 'protein_coding',\n  'version': 12,\n  'start': 47807372,\n  'source': 'ensembl_havana',\n  'display_name': 'OSBPL7',\n  'end': 47821834,\n  'species': 'homo_sapiens',\n  'seq_region_name': '17',\n  'logic_name': 'ensembl_havana_gene_homo_sapiens',\n  'assembly_name': 'GRCh38',\n  'db_type': 'core',\n  'id': 'ENSG00000006025'},\n 'ENSG00000006042': {'id': 'ENSG00000006042',\n  'assembly_name': 'GRCh38',\n  'db_type': 'core',\n  'source': 'ensembl_havana',\n  'end': 32945106,\n  'display_name': 'TMEM98',\n  'species': 'homo_sapiens',\n  'seq_region_name': '17',\n  'logic_name': 'ensembl_havana_gene_homo_sapiens',\n  'start': 32927910,\n  'version': 12,\n  'biotype': 'protein_coding',\n  'object_type': 'Gene',\n  'description': 'transmembrane protein 98 [Source:HGNC Symbol;Acc:HGNC:24529]',\n  'strand': 1},\n 'ENSG00000006007': {'id': 'ENSG00000006007',\n  'db_type': 'core',\n  'assembly_name': 'GRCh38',\n  'logic_name': 'ensembl_havana_gene_homo_sapiens',\n  'display_name': 'GDE1',\n  'source': 'ensembl_havana',\n  'seq_region_name': '16',\n  'end': 19522123,\n  'species': 'homo_sapiens',\n  'start': 19501693,\n  'version': 12,\n  'biotype': 'protein_coding',\n  'object_type': 'Gene',\n  'strand': -1,\n  'description': 'glycerophosphodiester phosphodiesterase 1 [Source:HGNC Symbol;Acc:HGNC:29644]'},\n 'ENSG00000005981': {'start': 95478444,\n  'display_name': 'ASB4',\n  'source': 'ensembl_havana',\n  'end': 95540233,\n  'seq_region_name': '7',\n  'species': 'homo_sapiens',\n  'logic_name': 'ensembl_havana_gene_homo_sapiens',\n  'assembly_name': 'GRCh38',\n  'db_type': 'core',\n  'id': 'ENSG00000005981',\n  'description': 'ankyrin repeat and SOCS box containing 4 [Source:HGNC Symbol;Acc:HGNC:16009]',\n  'strand': 1,\n  'object_type': 'Gene',\n  'biotype': 'protein_coding',\n  'version': 13},\n 'ENSG00000005889': {'start': 24149173,\n  'logic_name': 'ensembl_havana_gene_homo_sapiens',\n  'end': 24216255,\n  'source': 'ensembl_havana',\n  'display_name': 'ZFX',\n  'species': 'homo_sapiens',\n  'seq_region_name': 'X',\n  'db_type': 'core',\n  'assembly_name': 'GRCh38',\n  'id': 'ENSG00000005889',\n  'strand': 1,\n  'description': 'zinc finger protein X-linked [Source:HGNC Symbol;Acc:HGNC:12869]',\n  'object_type': 'Gene',\n  'biotype': 'protein_coding',\n  'version': 15},\n 'ENSG00000006015': {'id': 'ENSG00000006015',\n  'db_type': 'core',\n  'assembly_name': 'GRCh38',\n  'logic_name': 'ensembl_havana_gene_homo_sapiens',\n  'source': 'ensembl_havana',\n  'display_name': 'REX1BD',\n  'end': 18592336,\n  'seq_region_name': '19',\n  'species': 'homo_sapiens',\n  'start': 18588685,\n  'version': 17,\n  'biotype': 'protein_coding',\n  'object_type': 'Gene',\n  'strand': 1,\n  'description': 'required for excision 1-B domain containing [Source:HGNC Symbol;Acc:HGNC:26098]'},\n 'ENSG00000006016': {'object_type': 'Gene',\n  'strand': -1,\n  'description': 'cytokine receptor like factor 1 [Source:HGNC Symbol;Acc:HGNC:2364]',\n  'version': 11,\n  'biotype': 'protein_coding',\n  'logic_name': 'ensembl_havana_gene_homo_sapiens',\n  'source': 'ensembl_havana',\n  'end': 18607741,\n  'display_name': 'CRLF1',\n  'seq_region_name': '19',\n  'species': 'homo_sapiens',\n  'start': 18572220,\n  'id': 'ENSG00000006016',\n  'db_type': 'core',\n  'assembly_name': 'GRCh38'},\n 'ENSG00000005955': None,\n 'ENSG00000005893': {'logic_name': 'ensembl_havana_gene_homo_sapiens',\n  'end': 120469365,\n  'source': 'ensembl_havana',\n  'display_name': 'LAMP2',\n  'seq_region_name': 'X',\n  'species': 'homo_sapiens',\n  'start': 120426148,\n  'id': 'ENSG00000005893',\n  'db_type': 'core',\n  'assembly_name': 'GRCh38',\n  'object_type': 'Gene',\n  'strand': -1,\n  'description': 'lysosomal associated membrane protein 2 [Source:HGNC Symbol;Acc:HGNC:6501]',\n  'version': 16,\n  'biotype': 'protein_coding'}}"
     },
     "metadata": {},
     "execution_count": 9
    }
   ],
   "source": [
    "res2"
   ]
  },
  {
   "cell_type": "code",
   "execution_count": 5,
   "metadata": {},
   "outputs": [
    {
     "output_type": "execute_result",
     "data": {
      "text/plain": "ENSG00000287636'],\n ['AARD', 'ENSG00000205002'],\n ['AC002066.1', 'ENSG00000237813'],\n ['AC004148.1', 'ENSG00000263272'],\n ['ABCB6', 'ENSG00000115657'],\n ['AC006947.1', 'ENSG00000229330'],\n ['AC003984.1', 'ENSG00000235139'],\n ['AC006499.2', 'ENSG00000250074'],\n ['AC003006.1', 'ENSG00000269026'],\n ['AC005537.2', 'ENSG00000232006'],\n ['AANAT', 'ENSG00000129673'],\n ['ABL2', 'ENSG00000143322'],\n ['AC005625.1', 'ENSG00000266963'],\n ['AC004771.1', 'ENSG00000234203'],\n ['ABCC9', 'ENSG00000069431'],\n ['ABI2', 'ENSG00000138443'],\n ['AC000124.1', 'ENSG00000226770'],\n ['ABHD13', 'ENSG00000139826'],\n ['AC005943.2', 'ENSG00000279009'],\n ['ABI3BP', 'ENSG00000154175'],\n ['AC002511.1', 'ENSG00000232680'],\n ['AC004063.1', 'ENSG00000250670'],\n ['AC003043.2', 'ENSG00000267211'],\n ['AC004562.1', 'ENSG00000199801'],\n ['AC005307.1', 'ENSG00000260725'],\n ['AC005154.5', 'ENSG00000281039'],\n ['ABCD1', 'ENSG00000101986'],\n ['AC002480.2', 'ENSG00000232949'],\n ['AC006328.1', 'ENSG00000233619'],\n ['AC004079.1', 'ENSG00000274396'],\n ['AC007003.1', 'ENSG00000231183'],\n ['AC006335.2', 'ENSG00000275352'],\n ['AC002070.1', 'ENSG00000248636'],\n ['AC005336.2', 'ENSG00000267218'],\n ['AC004492.1', 'ENSG00000272072'],\n ['AAK1', 'ENSG00000115977'],\n ['AC005071.1', 'ENSG00000201913'],\n ['AC005786.3', 'ENSG00000267436'],\n ['AACSP1', 'ENSG00000250420'],\n ['AC005255.1', 'ENSG00000256210'],\n ['ABHD5', 'ENSG00000011198'],\n ['ABCC6', 'ENSG00000091262'],\n ['AC000374.1', 'ENSG00000227249'],\n ['AC004866.1', 'ENSG00000223514'],\n ['AC004054.1', 'ENSG00000248984'],\n ['AC005772.2', 'ENSG00000287307'],\n ['AACS', 'ENSG00000081760'],\n ['ABCC5', 'ENSG00000114770'],\n ['AC004069.2', 'ENSG00000251473'],\n ['AC005000.2', 'ENSG00000270431'],\n ['AC006499.7', 'ENSG00000251338'],\n ['AC002558.1', 'ENSG00000239291'],\n ['AC005000.1', 'ENSG00000228532'],\n ['AC004980.1', 'ENSG00000205485'],\n ['ABCG1', 'ENSG00000160179'],\n ['AC006372.4', 'ENSG00000280266'],\n ['AC006041.1', 'ENSG00000229379'],\n ['AC003077.1', 'ENSG00000287011'],\n ['ABCC12', 'ENSG00000140798'],\n ['ABCD1P5', 'ENSG00000214330'],\n ['ABCD2', 'ENSG00000173208'],\n ['AC006196.1', 'ENSG00000252517'],\n ['AC006483.1', 'ENSG00000228974'],\n ['ABHD4', 'ENSG00000100439'],\n ['AC006460.2', 'ENSG00000284052'],\n ['AC005618.1', 'ENSG00000272070'],\n ['ABLIM2', 'ENSG00000163995'],\n ['ABHD17C', 'ENSG00000136379'],\n ['ABCC6P2', 'ENSG00000255277'],\n ['AC002386.1', 'ENSG00000230941'],\n ['ABHD15', 'ENSG00000168792'],\n ['ABCA9-AS1', 'ENSG00000231749'],\n ['ABHD16B', 'ENSG00000183260'],\n ['AC005730.2', 'ENSG00000261033'],\n ['AC007114.1', 'ENSG00000263004'],\n ['AC005020.1', 'ENSG00000224448'],\n ['AC004009.3', 'ENSG00000279655'],\n ['AC004837.4', 'ENSG00000287584'],\n ['AC003009.1', 'ENSG00000262011'],\n ['AC003988.1', 'ENSG00000234223'],\n ['ABCC13', 'ENSG00000243064'],\n ['AC005838.1', 'ENSG00000223544'],\n ['AC005838.2', 'ENSG00000252129'],\n ['ABHD1', 'ENSG00000143994'],\n ['AC005498.3', 'ENSG00000269696'],\n ['AC002365.1', 'ENSG00000206844'],\n ['AC003985.1', 'ENSG00000233824'],\n ['AC005355.2', 'ENSG00000280420'],\n ['AC005178.1', 'ENSG00000251243'],\n ['AADACL3', 'ENSG00000188984'],\n ['AAR2', 'ENSG00000131043'],\n ['ABCB1', 'ENSG00000085563'],\n ['AC004980.8', 'ENSG00000282580'],\n ['AC004053.1', 'ENSG00000248242'],\n ['AC006150.1', 'ENSG00000226323'],\n ['AC006499.5', 'ENSG00000251278'],\n ['AC005392.1', 'ENSG00000227606'],\n ['AC005281.1', 'ENSG00000225606'],\n ['AC003035.1', 'ENSG00000212663'],\n ['AC005034.2', 'ENSG00000230477'],\n ['ABHD14A-ACY1', 'ENSG00000114786'],\n ['AAAS', 'ENSG00000094914'],\n ['ABLIM1', 'ENSG00000099204'],\n ['AC005071.2', 'ENSG00000287631'],\n ['AC004797.1', 'ENSG00000177369'],\n ['ABHD8', 'ENSG00000127220'],\n ['AC005086.5', 'ENSG00000280404'],\n ['ABCA10', 'ENSG00000154263'],\n ['AC004917.1', 'ENSG00000243797'],\n ['ABL1', 'ENSG00000097007'],\n ['ABHD3', 'ENSG00000158201'],\n ['ABTB2', 'ENSG00000166016'],\n ['ABCA11P', 'ENSG00000251595'],\n ['AC000367.1', 'ENSG00000224981'],\n ['AC003958.2', 'ENSG00000234859'],\n ['AC007036.4', 'ENSG00000283618'],\n ['AC005013.1', 'ENSG00000228421'],\n ['ABCC11', 'ENSG00000121270'],\n ['AC005086.3', 'ENSG00000279724'],\n ['AC002331.1', 'ENSG00000286712'],\n ['A2MP1', 'ENSG00000256069'],\n ['ABCC5-AS1', 'ENSG00000223882'],\n ['AC006427.2', 'ENSG00000286888'],\n ['ABCG4', 'ENSG00000172350'],\n ['AATF', 'ENSG00000275700'],\n ['AC007179.1', 'ENSG00000231815'],\n ['AASS', 'ENSG00000008311'],\n ['AADACL2', 'ENSG00000197953'],\n ['AC006427.1', 'ENSG00000248851'],\n ['AC006539.1', 'ENSG00000240673'],\n ['AC006076.1', 'ENSG00000225563'],\n ['ABHD6', 'ENSG00000163686'],\n ['AC005544.1', 'ENSG00000264491'],\n ['ABCC2', 'ENSG00000023839'],\n ['ABCC6P1', 'ENSG00000256340'],\n ['ABCA9', 'ENSG00000154258'],\n ['AC002553.1', 'ENSG00000227782'],\n ['ABHD11', 'ENSG00000106077'],\n ['AC003070.1', 'ENSG00000267344'],\n ['ABHD17A', 'ENSG00000129968'],\n ['ABRA', 'ENSG00000174429'],\n ['AC004947.2', 'ENSG00000280255'],\n ['AC007098.1', 'ENSG00000231609'],\n ['AARSD1', 'ENSG00000266967'],\n ['AC005702.2', 'ENSG00000267526'],\n ['AC006296.3', 'ENSG00000287360'],\n ['ABO', 'ENSG00000175164'],\n ['ABCD1P2', 'ENSG00000215151'],\n ['AC006499.6', 'ENSG00000251296'],\n ['AC005863.1', 'ENSG00000205325'],\n ['AC005034.3', 'ENSG00000270462'],\n ['AC005086.1', 'ENSG00000252824'],\n ['AC005280.1', 'ENSG00000251393'],\n ['ABCA4', 'ENSG00000198691'],\n ['AC006499.1', 'ENSG00000248777'],\n ['AC002511.3', 'ENSG00000283479'],\n ['AC005237.2', 'ENSG00000235861'],\n ['A1CF', 'ENSG00000148584'],\n ['ABHD11-AS1', 'ENSG00000225969'],\n ['A2ML1-AS1', 'ENSG00000256661'],\n ['AC006557.1', 'ENSG00000267150'],\n ['AC004870.4', 'ENSG00000232072'],\n ['AC005592.2', 'ENSG00000287203'],\n ['AC005631.1', 'ENSG00000253088'],\n ['AC005609.1', 'ENSG00000278901'],\n ['AC005703.3', 'ENSG00000265445'],\n ['AADAC', 'ENSG00000114771'],\n ['AC006115.1', 'ENSG00000268407'],\n ['AC004448.5', 'ENSG00000287196'],\n ['AC000041.8', None],\n ['AC005592.3', None],\n ['AC006133.3', None],\n ['AC006987.5', None],\n ['AC004231.7', None],\n ['AC000111.4', None],\n ['AC004062.2', None],\n ['AC004878.7', None],\n ['AC002366.3', None],\n ['AC005041.11', None],\n ['AC005077.8', None],\n ['AC004790.3', None],\n ['AC006465.4', None],\n ['AC002398.5', None],\n ['AC005954.4', None],\n ['AC005205.3', None],\n ['AC007036.6', None],\n ['AC005606.15', None],\n ['AC005029.1', None],\n ['AC005037.3', None],\n ['AC006042.8', None],\n ['AC006989.2', None],\n ['AC005265.1', None],\n ['AC004237.1', None],\n ['AC006026.9', None],\n ['AC006335.11', None],\n ['AC005062.2', None],\n ['AC006355.3', None],\n ['AC007131.3', None],\n ['AC002398.11', None],\n ['AC006014.8', None],\n ['AC002994.1', None],\n ['AC004692.5', None],\n ['AC004851.2', None],\n ['AC006953.1', None],\n ['AC005088.2', None],\n ['AC006014.10', None],\n ['AC006033.22', None],\n ['AC002117.1', None],\n ['AC003986.6', None],\n ['AC000032.2', None],\n ['AC006926.1', None],\n ['AC005895.4', None],\n ['AC004699.1', None],\n ['AC005550.3', None],\n ['AC002314.2', None],\n ['AC005205.4', None],\n ['AC007056.1', None],\n ['AC007064.25', None],\n ['AC007163.4', None],\n ['AC006011.4', None],\n ['AC000059.1', None],\n ['ABC13-48559800H2.1', None],\n ['AC005022.1', None],\n ['ABC11-48400900C8.1', None],\n ['ABC9-43961700F1.1', None],\n ['AC005086.8', None],\n ['AC005037.4', None],\n ['AC004909.3', None],\n ['AC005616.2', None],\n ['AC004006.2', None],\n ['AC004967.11', None],\n ['ABC7-42391500H16.2', None],\n ['AC006116.22', None],\n ['AC004920.2', None],\n ['AC004381.6', None],\n ['AC005300.5', None],\n ['AC005682.6', None],\n ['AC004161.4', None],\n ['AC000370.2', None],\n ['AC004656.1', None],\n ['AC006978.6', None],\n ['AC004475.1', None],\n ['AB019438.66', None],\n ['AC004870.5', None],\n ['AC004851.1', None],\n ['AC005779.2', None],\n ['AC002519.8', None],\n ['AC003002.6', None],\n ['AC007041.2', None],\n ['AC006335.6', None],\n ['AC006461.2', None],\n ['AC005493.1', None],\n ['AC004166.7', None],\n ['AC003102.3', None],\n ['AC002978.1', None],\n ['AC006960.5', None],\n ['AC007000.12', None],\n ['AC005757.7', None],\n ['AC004659.1', None],\n ['AC004907.2', None],\n ['AC006390.4', None],\n ['AC005944.2', None],\n ['AC004066.2', None],\n ['AC005391.3', None],\n ['AC006380.3', None],\n ['AC004894.2', None],\n ['AC004125.3', None],\n ['AC006130.4', None],\n ['AC005258.3', None],\n ['AC005534.8', None],\n ['AC004741.3', None],\n ['AC002550.5', None],\n ['7SK', None],\n ['AC005161.1', None],\n ['AC006466.5', None],\n ['AC006080.1', None],\n ['AC004967.8', None],\n ['AC006116.19', None],\n ['AC005741.2', None],\n ['AC006483.5', None],\n ['AC006273.7', None],\n ['AC004543.2', None],\n ['AC005237.4', None],\n ['AC004901.1', None],\n ['AC005336.4', None],\n ['AC005392.8', None],\n ['AC006465.3', None],\n ['AC004899.3', None],\n ['AC005009.2', None],\n ['AC006230.4', None],\n ['1060P11.3', None],\n ['AC005281.2', None],\n ['AC005162.3', None],\n ['AC002115.5', None],\n ['AC005330.2', None],\n ['AC005017.2', None],\n ['AC006552.1', None],\n ['AC005329.7', None],\n ['AC006160.4', None],\n ['AC006445.8', None],\n ['AC007040.6', None],\n ['AC006160.5', None],\n ['AC002076.10', None],\n ['AC000093.3', None],\n ['AC005484.5', None],\n ['AC006262.5', None],\n ['AC006372.6', None],\n ['AACP', None],\n ['AC004906.3', None],\n ['AC005779.1', None],\n ['AC005067.1', None],\n ['AC005488.13', None],\n ['AC006277.2', None],\n ['AC003665.1', None],\n ['AC005621.1', None],\n ['AC005559.2', None],\n ['AC004549.6', None],\n ['AC004540.4', None],\n ['AC004863.6', None],\n ['AC002485.1', None],\n ['AC007163.3', None],\n ['AC005559.3', None],\n ['AC006534.2', None],\n ['AC005162.5', None],\n ['AC007064.22', None],\n ['AC004152.5', None],\n ['AC005775.2', None],\n ['AC004987.10', None],\n ['AC002429.4', None],\n ['AC003045.1', None],\n ['AC004463.6', None],\n ['AC004987.9', None],\n ['AC004221.2', None],\n ['AC006322.1', None],\n ['AC005550.6', None],\n ['AC004460.1', None],\n ['AC007040.7', None],\n ['AC006445.7', None],\n ['AC004595.1', None],\n ['AC006115.3', None],\n ['AB019439.68', None],\n ['AC004840.8', None],\n ['AC005510.1', None],\n ['AC004528.5', None],\n ['AC006024.4', None],\n ['AC006035.2', None],\n ['AC004980.10', None],\n ['AC007131.1', None],\n ['AC006132.1', None],\n ['AC005513.1', None],\n ['AC005534.9', None],\n ['AC005517.3', None],\n ['AC004129.7', None],\n ['AC005392.13', None],\n ['AC004016.1', None],\n ['AC004603.4', None],\n ['AC007025.1', None],\n ['AC002127.4', None],\n ['AC004510.3', None],\n ['AC005077.9', None],\n ['AB015752.4', None],\n ['AC006070.11', None],\n ['AC002984.2', None],\n ['AC004538.3', None],\n ['AC006335.7', None],\n ['AC005094.2', None],\n ['AC005926.1', None],\n ['AC005301.8', None],\n ['AC004824.1', None],\n ['AC006070.13', None],\n ['AC002055.4', None],\n ['AC005895.3', None],\n ['AC006547.13', None],\n ['AC006159.3', None],\n ['AC007050.17', None],\n ['AC002398.12', None],\n ['AC005154.9', None],\n ['AC006026.13', None],\n ['AC002429.5', None],\n ['ABBA01057584.1', None],\n ['AC005086.6', None],\n ['AC007163.10', None],\n ['AC005082.12', None],\n ['AC004957.5', None],\n ['AC004951.5', None],\n ['AC004540.5', None],\n ['AC006548.20', None],\n ['AC002477.1', None],\n ['AC005358.3', None],\n ['AC005324.8-001', None],\n ['AC004535.2', None],\n ['AC004623.2', None],\n ['AC005375.1', None],\n ['AC002467.7', None],\n ['AC006028.10', None],\n ['AC006987.7', None],\n ['AC002116.7', None],\n ['AC004878.2', None],\n ['AC007161.5', None],\n ['AC005235.1', None],\n ['AC006150.2', None],\n ['AC006157.2', None],\n ['AC004383.3', None],\n ['AC004996.1', None],\n ['AC000089.3', None],\n ['AC007115.3', None],\n ['AC005262.3', None],\n ['AC006003.3', None],\n ['AC005789.11', None],\n ['AC004019.13', None],\n ['AC005777.3', None],\n ['AC000099.1', None],\n ['ABP1', None],\n ['AC005863.2', None],\n ['AC003090.1', None],\n ['AC006116.14', None],\n ['AC006548.19', None],\n ['AC004070.1', None],\n ['AC000094.3', None],\n ['AC004017.1', None],\n ['AC004166.6', None],\n ['AC004837.5', None],\n ['AC002454.1', None],\n ['AC004449.6', None],\n ['AC003986.5', None],\n ['AC005037.6', None],\n ['AC002069.5', None],\n ['AB019440.1', None],\n ['AC004790.5', None],\n ['AC006366.3', None],\n ['AB019441.29', None],\n ['AC007040.10', None],\n ['AC004461.4', None],\n ['AC006509.4', None],\n ['AC006335.12', None],\n ['AC006026.12', None],\n ['AC003080.4', None],\n ['AC004980.9', None],\n ['AC006126.4', None],\n ['AC007163.6', None],\n ['AC006129.4', None],\n ['AC004156.3', None],\n ['AC006994.2', None],\n ['AC005306.3', None],\n ['AC006481.1', None],\n ['AC005498.4', None],\n ['AC005105.2', None],\n ['AC005522.7', None],\n ['AC005943.5', None],\n ['AC004878.3', None],\n ['AC005284.1', None],\n ['AC006273.5', None],\n ['AC007016.3', None],\n ['AC005757.6', None],\n ['AC007163.9', None],\n ['AC004691.5', None],\n ['AC006023.8', None],\n ['AC004510.2', None],\n ['AC005076.5', None],\n ['AC006373.1', None],\n ['AB015752.3', None],\n ['AC005003.1', None],\n ['AC000003.1', None],\n ['AC000077.2', None],\n ['AC004112.4', None],\n ['AC006160.8', None],\n ['AC005189.6', None],\n ['AC000078.5', None],\n ['AC005008.3', None],\n ['AC007040.8', None],\n ['AC007040.11', None],\n ['AC005488.11', None],\n ['AC007131.2', None],\n ['AC004593.3', None],\n ['AC004051.2', None],\n ['AC005077.12', None],\n ['AC005686.1', None],\n ['AC006116.26', None],\n ['AC004941.3', None],\n ['AC000111.5', None],\n ['AC002310.10', None],\n ['AC005550.5', None],\n ['AC004954.2', None],\n ['AC005326.2', None],\n ['AC006946.15', None],\n ['AC002480.5', None],\n ['AC003958.6', None],\n ['AC004014.3', None],\n ['AC005971.3', None],\n ['AC006116.20', None],\n ['AC004478.2', None],\n ['AC005954.3', None],\n ['AC004076.9', None],\n ['AC005229.7', None],\n ['AC006116.15', None],\n ['AC000035.3', None],\n ['AC005019.3', None],\n ['AC005540.3', None],\n ['AC006988.1', None],\n ['ABHD11-AS2', None],\n ['AC004258.1', None],\n ['AC006328.9', None],\n ['AC003968.1', None],\n ['AC003989.4', None],\n ['AC005264.2', None],\n ['AC006145.4', None],\n ['AC004471.9', None],\n ['AC006026.10', None],\n ['AC005154.6', None],\n ['AC006369.3', None],\n ['AC006116.27', None],\n ['AC006445.6', None],\n ['A3GALT2P', None],\n ['AC002519.6', None],\n ['AC005546.2', None],\n ['AC004893.11', None],\n ['AC004458.1', None],\n ['AC002553.4', None],\n ['AC003658.1', None],\n ['AC006547.14', None],\n ['AC007050.18', None],\n ['AC004744.3', None],\n ['AC004889.1', None],\n ['AC004878.8', None],\n ['AC002069.6', None],\n ['AC002056.5', None],\n ['AC002383.2', None],\n ['AC002398.9', None],\n ['AC003088.1', None],\n ['AC003986.7', None],\n ['AC005522.6', None],\n ['AC005154.8', None],\n ['AC005307.3', None],\n ['AC003989.3', None],\n ['AC006052.1', None],\n ['AC004507.1', None],\n ['AC002467.5', None],\n ['AC004893.10', None],\n ['AC005077.5', None],\n ['AC002314.4', None],\n ['AC005086.7', None],\n ['AC004941.5', None],\n ['AC006458.3', None],\n ['AC005363.9', None],\n ['AC003079.1', None],\n ['AC002321.2', None],\n ['AC002064.5', None],\n ['AC004076.7', None],\n ['AC005077.7', None],\n ['AC000068.5', None],\n ['AC003087.4', None],\n ['AC002075.4', None],\n ['AC004769.1', None],\n ['AC006116.13', None],\n ['AC006995.8', None],\n ['AC000123.4', None],\n ['AC002398.13', None],\n ['AC006335.10', None],\n ['AC005701.1', None],\n ['AC004158.3', None],\n ['AC006960.7', None],\n ['AC006534.1', None],\n ['AC002992.1', None],\n ['AC006994.3', None],\n ['AC005042.4', None],\n ['AC000364.1', None],\n ['AC004876.1', None],\n ['AC003075.4', None],\n ['AC004383.4', None],\n ['AC006038.4', None],\n ['AC006509.7', None],\n ['AC006014.7', None],\n ['AC005013.5', None],\n ['AC007000.11', None],\n ['AC006987.4', None],\n ['AC007000.10', None],\n ['AC005033.6', None],\n ['AC006390.3', None],\n ['AC006153.3', None],\n ['ABC7-42389800N19.1', None],\n ['AC005152.3', None],\n ['AC004528.4', None],\n ['AC006377.1', None],\n ['AC005220.3', None],\n ['AC006019.4', None],\n ['AC005808.3', None],\n ['AC004160.4', None],\n ['AC006946.12', None],\n ['AC002486.3', None],\n ['AC004878.5', None],\n ['AC002115.9', None],\n ['AC004938.5', None],\n ['AC005786.7', None],\n ['AC002310.7', None],\n ['AC004702.2', None],\n ['AC005606.14', None],\n ['AC006227.1', None],\n ['AC004980.11', None],\n ['AC004854.4', None],\n ['AC005370.1', None],\n ['AC004016.2', None],\n ['AC005539.2', None],\n ['AC005041.17', None],\n ['AC002992.4', None],\n ['AC004869.3', None],\n ['AC002310.17', None],\n ['AC003051.1', None],\n ['AC005481.5', None],\n ['AC005042.3', None],\n ['AC004655.1', None],\n ['AC004854.5', None],\n ['AC004381.7', None],\n ['AC002539.2', None],\n ['AC005150.1', None],\n ['AC006116.17', None],\n ['AC005789.9', None],\n ['AC006050.2', None],\n ['AC005204.2', None],\n ['AC005205.2', None],\n ['AC004022.7', None],\n ['AC005159.1', None],\n ['AC006293.3', None],\n ['AC005538.5', None],\n ['AC005046.5', None],\n ['AC002310.12', None],\n ['AC004692.4', None],\n ['AC006022.4', None],\n ['AC005549.2', None],\n ['AC005324.7', None],\n ['AC002480.3', None],\n ['AC004985.12', None],\n ['AC003029.1', None],\n ['AC002480.4', None],\n ['AC005336.5', None],\n ['AC006042.6', None],\n ['AC004112.5', None],\n ['AC002979.1', None],\n ['AC005251.4', None],\n ['AC006026.11', None],\n ['AC004159.1', None],\n ['AC005154.7', None],\n ['AC004485.3', None],\n ['AC006326.3', None],\n ['AC006028.11', None],\n ['AC003104.1', None],\n ['AC004673.1', None],\n ['AC005943.4', None],\n ['AC006159.4', None],\n ['AC006156.1', None],\n ['AATK-AS1', None],\n ['AC006035.1', None],\n ['AC006195.2', None],\n ['AC003991.3', None],\n ['AC004987.8', None],\n ['AC006378.2', None],\n ['AC007041.1', None],\n ['AC002472.13', None],\n ['AC002472.11', None],\n ['AC002539.1', None],\n ['AC000111.6', None],\n ['AC002321.1', None],\n ['AAED1', None],\n ['AC004074.4', None],\n ['AC006374.2', None],\n ['AC005276.1', None],\n ['AC005391.2', None],\n ['AC006042.7', None],\n ['AC002066.2', None],\n ['AC006326.5', None],\n ['AC006045.3', None],\n ['AC002075.3', None],\n ['AC002310.13', None],\n ['AC005042.5', None],\n ['AC002310.11', None],\n ['AC004041.2', None],\n ['AC005534.6', None],\n ['AC006145.1', None],\n ['AC005077.14', None],\n ['AC000036.4', None],\n ['AC004129.9', None],\n ['AC004895.4', None],\n ['AC002127.2', None],\n ['AC003003.5', None],\n ['AC005786.5', None],\n ['AC007096.1', None],\n ['AC004866.3', None],\n ['AC004840.9', None],\n ['AC005014.5', None],\n ['A2LD1', None],\n ['AC000110.1', None],\n ['AC004022.8', None],\n ['AC002076.9', None],\n ['AC004878.6', None],\n ['AC006547.8', None],\n ['AC000120.7', None],\n ['AC005160.3', None],\n ['AB019438.63', None],\n ['AC005682.8', None],\n ['AC005780.1', None],\n ['AC004528.3', None],\n ['AC005035.1', None],\n ['AC006370.2', None],\n ['AC005783.1', None],\n ['AC003084.2', None],\n ['AC004862.6', None],\n ['AC005027.3', None],\n ['AC004112.7', None],\n ['AC005594.3', None],\n ['AC007163.11', None],\n ['AC004790.4', None],\n ['AC005162.4', None],\n ['AC005487.2', None],\n ['AC004014.4', None],\n ['AC004520.1', None],\n ['AC007009.2', None],\n ['AC006159.5', None],\n ['AC004967.7', None],\n ['AC002368.4', None],\n ['AC004240.2', None],\n ['AC005215.1', None],\n ['AC007038.7', None],\n ['AC002463.3', None],\n ['AC004158.2', None],\n ['AA06', None],\n ['AC004453.8', None],\n ['AC003664.1', None],\n ['AC005215.2', None],\n ['AC005550.4', None],\n ['AC004799.3', None],\n ['AC002116.8', None],\n ['AC005682.5', None],\n ['AC002519.5', None],\n ['AC004911.2', None],\n ['AC002511.4', None],\n ['AARS', None],\n ['AC005262.4', None],\n ['AC004745.1', None],\n ['AC004920.3', None],\n ['AC006371.1', None],\n ['AC005048.1', None],\n ['AC007064.24', None],\n ['AC006372.5', None],\n ['AC006070.12', None],\n ['AC004074.3', None],\n ['AC004066.3', None],\n ['AC005040.3', None],\n ['AC007050.1', None],\n ['AC006116.24', None],\n ['AC004951.6', None],\n ['AC006126.3', None],\n ['AC005588.2', None],\n ['AC005488.12', None],\n ['AC005007.3', None],\n ['AC002128.4', None],\n ['AC002465.2', None],\n ['AC002523.1', None],\n ['AC005519.4', None],\n ['AC005754.1', None],\n ['AC005682.7', None],\n ['AC006987.6', None],\n ['AC004791.2', None],\n ['ABC12-47043100G14.2', None],\n ['AC002400.1', None],\n ['AC006116.21', None],\n ['AC003009.2', None],\n ['AC006432.1', None],\n ['AC006000.5', None],\n ['AC006028.9', None],\n ['AC002451.3', None],\n ['AC007040.5', None],\n ['AC007163.8', None],\n ['ABC13-48559800H2.2', None],\n ['AC005624.2', None],\n ['AC004924.1', None],\n ['AC005356.1', None],\n ['AC006509.6', None],\n ['AC004019.10', None],\n ['AC006004.1', None],\n ['AC005195.1', None],\n ['AC006378.3', None],\n ['AC000111.3', None],\n ['AC005532.5', None],\n ...]"
     },
     "metadata": {},
     "execution_count": 5
    }
   ],
   "source": [
    "symbol_lookup_list"
   ]
  },
  {
   "cell_type": "markdown",
   "metadata": {},
   "source": [
    "## (2) Return a list of symbols and corresponding IDs identified using the symbol lookup REST function of Ensembl given the symbols in a text file called to_lookup.txt"
   ]
  },
  {
   "cell_type": "code",
   "execution_count": 2,
   "metadata": {},
   "outputs": [
    {
     "output_type": "stream",
     "name": "stdout",
     "text": "[1] Given 1000 symbols, we identified 311 of them\n[2] Given 1000 symbols, we identified 477 of them\n[3] Given 1000 symbols, we identified 457 of them\n[4] Given 1000 symbols, we identified 462 of them\n[5] Given 1000 symbols, we identified 470 of them\n[6] Given 1000 symbols, we identified 424 of them\n[7] Given 1000 symbols, we identified 180 of them\n[8] Given 1000 symbols, we identified 82 of them\n[9] Given 1000 symbols, we identified 0 of them\n[10] Given 1000 symbols, we identified 22 of them\n[11] Given 1000 symbols, we identified 17 of them\n[12] Given 1000 symbols, we identified 0 of them\n[13] Given 1000 symbols, we identified 10 of them\n[14] Given 1000 symbols, we identified 0 of them\n[15] Given 1000 symbols, we identified 0 of them\n[16] Given 1000 symbols, we identified 0 of them\n[17] Given 1000 symbols, we identified 0 of them\n[18] Given 1000 symbols, we identified 0 of them\n[19] Given 1000 symbols, we identified 0 of them\n[20] Given 1000 symbols, we identified 0 of them\n[21] Given 1000 symbols, we identified 0 of them\n[22] Given 1000 symbols, we identified 0 of them\n[23] Given 1000 symbols, we identified 0 of them\n[24] Given 1000 symbols, we identified 0 of them\n[25] Given 1000 symbols, we identified 0 of them\n[26] Given 1000 symbols, we identified 0 of them\n[27] Given 1000 symbols, we identified 0 of them\n[28] Given 695 symbols, we identified 36 of them\n"
    }
   ],
   "source": [
    "max_post_size = 1000\n",
    "res = tc.get_lookup_list(project_dir, max_post_size=max_post_size)"
   ]
  },
  {
   "cell_type": "markdown",
   "metadata": {},
   "source": [
    "## (3) Load the lookup table, add the new entries to it, and save it to disk"
   ]
  },
  {
   "cell_type": "code",
   "execution_count": 34,
   "metadata": {},
   "outputs": [
    {
     "output_type": "stream",
     "name": "stdout",
     "text": "2948 lookup pairs have been recorded; 27695 null before, 24747 null after\nCreating pickle file /data/BIDS-HPC/private/projects/dmi/data/lookup_table_after_symbol_lookup.pkl...\n"
    }
   ],
   "source": [
    "# Import relevant modules\n",
    "import pandas as pd\n",
    "import numpy as np\n",
    "gmb_dir = '/data/BIDS-HPC/private/projects/gmb/checkout'\n",
    "if gmb_dir not in sys.path:\n",
    "    sys.path.append(gmb_dir)\n",
    "import time_cell_interaction_lib as tci # we need this to get the make_pickle() function\n",
    "\n",
    "# Load the first-pass of the global lookup table using Pandas\n",
    "lookup = pd.read_csv(os.path.join(project_dir,'data','partial_global_lookup_table.txt'), sep='\\t', names=['status','name','id'], index_col='name')\n",
    "\n",
    "# Count how many null IDs there are\n",
    "nnull_before = np.sum(pd.isnull(lookup.loc[:,'id']))\n",
    "\n",
    "# Use the list generated in Step (2) to add IDs to the lookup table\n",
    "for pair in res:\n",
    "    lookup.loc[pair[0],:] = ['lookup:', pair[1]]\n",
    "\n",
    "# Count how many null IDs there are\n",
    "nnull_after = np.sum(pd.isnull(lookup.loc[:,'id']))\n",
    "\n",
    "# Print how we improved the lookup table\n",
    "print('{} lookup pairs have been recorded; {} null before, {} null after'.format(len(res), nnull_before, nnull_after))\n",
    "\n",
    "# Save the new lookup table in the data directory\n",
    "tci.make_pickle(lookup, os.path.join(project_dir,'data'), 'lookup_table_after_symbol_lookup.pkl')"
   ]
  },
  {
   "cell_type": "code",
   "execution_count": null,
   "metadata": {},
   "outputs": [],
   "source": [
    "lookup = tci.load_pickle(os.path.join(project_dir,'data'), 'lookup_table_after_symbol_lookup.pkl')"
   ]
  },
  {
   "cell_type": "code",
   "execution_count": 7,
   "metadata": {},
   "outputs": [
    {
     "output_type": "execute_result",
     "data": {
      "text/plain": "{'c', 'e', 'f'}"
     },
     "metadata": {},
     "execution_count": 7
    }
   ],
   "source": [
    "set(['a','c','d','e','f']) - set(['a','b','d'])\n"
   ]
  },
  {
   "cell_type": "code",
   "execution_count": 35,
   "metadata": {},
   "outputs": [
    {
     "output_type": "stream",
     "name": "stdout",
     "text": "Reading pickle file /data/BIDS-HPC/private/projects/dmi/data/lookup_table_after_symbol_lookup.pkl...\n"
    }
   ],
   "source": [
    "bleh = tci.load_pickle(os.path.join(project_dir,'data'), 'lookup_table_after_symbol_lookup.pkl')"
   ]
  },
  {
   "cell_type": "code",
   "execution_count": 41,
   "metadata": {},
   "outputs": [
    {
     "output_type": "execute_result",
     "data": {
      "text/plain": "True"
     },
     "metadata": {},
     "execution_count": 41
    }
   ],
   "source": [
    "lookup.equals(bleh)"
   ]
  },
  {
   "cell_type": "code",
   "execution_count": 31,
   "metadata": {},
   "outputs": [
    {
     "output_type": "execute_result",
     "data": {
      "text/plain": "24747"
     },
     "metadata": {},
     "execution_count": 31
    }
   ],
   "source": [
    "np.sum(lookup.loc[:,'status'] == 'unmatched:')"
   ]
  },
  {
   "cell_type": "code",
   "execution_count": 13,
   "metadata": {},
   "outputs": [
    {
     "output_type": "execute_result",
     "data": {
      "text/plain": "                     status               id\nname                                        \nENSG00000000003     lookup:  ENSG00000000003\nENSG00000000005     lookup:  ENSG00000000005\nENSG00000000419     lookup:  ENSG00000000419\nENSG00000000457     lookup:  ENSG00000000457\nENSG00000000460     lookup:  ENSG00000000460\n...                     ...              ...\nZNRD1            unmatched:              NaN\nZNRD1-AS1        unmatched:              NaN\nZRSR1            unmatched:              NaN\nZSCAN5D          unmatched:              NaN\nZUFSP            unmatched:              NaN\n\n[128610 rows x 2 columns]",
      "text/html": "<div>\n<style scoped>\n    .dataframe tbody tr th:only-of-type {\n        vertical-align: middle;\n    }\n\n    .dataframe tbody tr th {\n        vertical-align: top;\n    }\n\n    .dataframe thead th {\n        text-align: right;\n    }\n</style>\n<table border=\"1\" class=\"dataframe\">\n  <thead>\n    <tr style=\"text-align: right;\">\n      <th></th>\n      <th>status</th>\n      <th>id</th>\n    </tr>\n    <tr>\n      <th>name</th>\n      <th></th>\n      <th></th>\n    </tr>\n  </thead>\n  <tbody>\n    <tr>\n      <th>ENSG00000000003</th>\n      <td>lookup:</td>\n      <td>ENSG00000000003</td>\n    </tr>\n    <tr>\n      <th>ENSG00000000005</th>\n      <td>lookup:</td>\n      <td>ENSG00000000005</td>\n    </tr>\n    <tr>\n      <th>ENSG00000000419</th>\n      <td>lookup:</td>\n      <td>ENSG00000000419</td>\n    </tr>\n    <tr>\n      <th>ENSG00000000457</th>\n      <td>lookup:</td>\n      <td>ENSG00000000457</td>\n    </tr>\n    <tr>\n      <th>ENSG00000000460</th>\n      <td>lookup:</td>\n      <td>ENSG00000000460</td>\n    </tr>\n    <tr>\n      <th>...</th>\n      <td>...</td>\n      <td>...</td>\n    </tr>\n    <tr>\n      <th>ZNRD1</th>\n      <td>unmatched:</td>\n      <td>NaN</td>\n    </tr>\n    <tr>\n      <th>ZNRD1-AS1</th>\n      <td>unmatched:</td>\n      <td>NaN</td>\n    </tr>\n    <tr>\n      <th>ZRSR1</th>\n      <td>unmatched:</td>\n      <td>NaN</td>\n    </tr>\n    <tr>\n      <th>ZSCAN5D</th>\n      <td>unmatched:</td>\n      <td>NaN</td>\n    </tr>\n    <tr>\n      <th>ZUFSP</th>\n      <td>unmatched:</td>\n      <td>NaN</td>\n    </tr>\n  </tbody>\n</table>\n<p>128610 rows × 2 columns</p>\n</div>"
     },
     "metadata": {},
     "execution_count": 13
    }
   ],
   "source": [
    "lookup"
   ]
  },
  {
   "cell_type": "code",
   "execution_count": 27,
   "metadata": {},
   "outputs": [
    {
     "output_type": "stream",
     "name": "stdout",
     "text": "27695\n"
    }
   ],
   "source": [
    "print(np.sum(pd.isnull(lookup.loc[:,'id'])))"
   ]
  },
  {
   "cell_type": "code",
   "execution_count": 32,
   "metadata": {},
   "outputs": [
    {
     "output_type": "execute_result",
     "data": {
      "text/plain": "status            lookup:\nid        ENSG00000253801\nName: AC010376.1, dtype: object"
     },
     "metadata": {},
     "execution_count": 32
    }
   ],
   "source": [
    "#lookup.loc['ENSG00000000457','id'] = 'andrew'\n",
    "lookup.loc['AC010376.1',:]"
   ]
  },
  {
   "cell_type": "code",
   "execution_count": 11,
   "metadata": {},
   "outputs": [
    {
     "output_type": "error",
     "ename": "KeyError",
     "evalue": "'AC009161.1'",
     "traceback": [
      "\u001b[0;31m---------------------------------------------------------------------------\u001b[0m",
      "\u001b[0;31mKeyError\u001b[0m                                  Traceback (most recent call last)",
      "\u001b[0;32m/data/weismanal/miniconda3/envs/myenv/lib/python3.7/site-packages/pandas/core/indexes/base.py\u001b[0m in \u001b[0;36mget_loc\u001b[0;34m(self, key, method, tolerance)\u001b[0m\n\u001b[1;32m   2645\u001b[0m             \u001b[0;32mtry\u001b[0m\u001b[0;34m:\u001b[0m\u001b[0;34m\u001b[0m\u001b[0;34m\u001b[0m\u001b[0m\n\u001b[0;32m-> 2646\u001b[0;31m                 \u001b[0;32mreturn\u001b[0m \u001b[0mself\u001b[0m\u001b[0;34m.\u001b[0m\u001b[0m_engine\u001b[0m\u001b[0;34m.\u001b[0m\u001b[0mget_loc\u001b[0m\u001b[0;34m(\u001b[0m\u001b[0mkey\u001b[0m\u001b[0;34m)\u001b[0m\u001b[0;34m\u001b[0m\u001b[0;34m\u001b[0m\u001b[0m\n\u001b[0m\u001b[1;32m   2647\u001b[0m             \u001b[0;32mexcept\u001b[0m \u001b[0mKeyError\u001b[0m\u001b[0;34m:\u001b[0m\u001b[0;34m\u001b[0m\u001b[0;34m\u001b[0m\u001b[0m\n",
      "\u001b[0;32mpandas/_libs/index.pyx\u001b[0m in \u001b[0;36mpandas._libs.index.IndexEngine.get_loc\u001b[0;34m()\u001b[0m\n",
      "\u001b[0;32mpandas/_libs/index.pyx\u001b[0m in \u001b[0;36mpandas._libs.index.IndexEngine.get_loc\u001b[0;34m()\u001b[0m\n",
      "\u001b[0;32mpandas/_libs/index_class_helper.pxi\u001b[0m in \u001b[0;36mpandas._libs.index.Int64Engine._check_type\u001b[0;34m()\u001b[0m\n",
      "\u001b[0;31mKeyError\u001b[0m: 'AC009161.1'",
      "\nDuring handling of the above exception, another exception occurred:\n",
      "\u001b[0;31mKeyError\u001b[0m                                  Traceback (most recent call last)",
      "\u001b[0;32m<ipython-input-11-d6beed726867>\u001b[0m in \u001b[0;36m<module>\u001b[0;34m\u001b[0m\n\u001b[1;32m      2\u001b[0m \u001b[0;31m#np.sum(lookup['id'] == '')\u001b[0m\u001b[0;34m\u001b[0m\u001b[0;34m\u001b[0m\u001b[0;34m\u001b[0m\u001b[0m\n\u001b[1;32m      3\u001b[0m \u001b[0;31m#np.sum(pd.isnull(lookup.loc[:,'id']))\u001b[0m\u001b[0;34m\u001b[0m\u001b[0;34m\u001b[0m\u001b[0;34m\u001b[0m\u001b[0m\n\u001b[0;32m----> 4\u001b[0;31m \u001b[0mlookup\u001b[0m\u001b[0;34m.\u001b[0m\u001b[0mloc\u001b[0m\u001b[0;34m[\u001b[0m\u001b[0;34m'AC009161.1'\u001b[0m\u001b[0;34m]\u001b[0m\u001b[0;34m\u001b[0m\u001b[0;34m\u001b[0m\u001b[0m\n\u001b[0m",
      "\u001b[0;32m/data/weismanal/miniconda3/envs/myenv/lib/python3.7/site-packages/pandas/core/indexing.py\u001b[0m in \u001b[0;36m__getitem__\u001b[0;34m(self, key)\u001b[0m\n\u001b[1;32m   1766\u001b[0m \u001b[0;34m\u001b[0m\u001b[0m\n\u001b[1;32m   1767\u001b[0m             \u001b[0mmaybe_callable\u001b[0m \u001b[0;34m=\u001b[0m \u001b[0mcom\u001b[0m\u001b[0;34m.\u001b[0m\u001b[0mapply_if_callable\u001b[0m\u001b[0;34m(\u001b[0m\u001b[0mkey\u001b[0m\u001b[0;34m,\u001b[0m \u001b[0mself\u001b[0m\u001b[0;34m.\u001b[0m\u001b[0mobj\u001b[0m\u001b[0;34m)\u001b[0m\u001b[0;34m\u001b[0m\u001b[0;34m\u001b[0m\u001b[0m\n\u001b[0;32m-> 1768\u001b[0;31m             \u001b[0;32mreturn\u001b[0m \u001b[0mself\u001b[0m\u001b[0;34m.\u001b[0m\u001b[0m_getitem_axis\u001b[0m\u001b[0;34m(\u001b[0m\u001b[0mmaybe_callable\u001b[0m\u001b[0;34m,\u001b[0m \u001b[0maxis\u001b[0m\u001b[0;34m=\u001b[0m\u001b[0maxis\u001b[0m\u001b[0;34m)\u001b[0m\u001b[0;34m\u001b[0m\u001b[0;34m\u001b[0m\u001b[0m\n\u001b[0m\u001b[1;32m   1769\u001b[0m \u001b[0;34m\u001b[0m\u001b[0m\n\u001b[1;32m   1770\u001b[0m     \u001b[0;32mdef\u001b[0m \u001b[0m_is_scalar_access\u001b[0m\u001b[0;34m(\u001b[0m\u001b[0mself\u001b[0m\u001b[0;34m,\u001b[0m \u001b[0mkey\u001b[0m\u001b[0;34m:\u001b[0m \u001b[0mTuple\u001b[0m\u001b[0;34m)\u001b[0m\u001b[0;34m:\u001b[0m\u001b[0;34m\u001b[0m\u001b[0;34m\u001b[0m\u001b[0m\n",
      "\u001b[0;32m/data/weismanal/miniconda3/envs/myenv/lib/python3.7/site-packages/pandas/core/indexing.py\u001b[0m in \u001b[0;36m_getitem_axis\u001b[0;34m(self, key, axis)\u001b[0m\n\u001b[1;32m   1963\u001b[0m         \u001b[0;31m# fall thru to straight lookup\u001b[0m\u001b[0;34m\u001b[0m\u001b[0;34m\u001b[0m\u001b[0;34m\u001b[0m\u001b[0m\n\u001b[1;32m   1964\u001b[0m         \u001b[0mself\u001b[0m\u001b[0;34m.\u001b[0m\u001b[0m_validate_key\u001b[0m\u001b[0;34m(\u001b[0m\u001b[0mkey\u001b[0m\u001b[0;34m,\u001b[0m \u001b[0maxis\u001b[0m\u001b[0;34m)\u001b[0m\u001b[0;34m\u001b[0m\u001b[0;34m\u001b[0m\u001b[0m\n\u001b[0;32m-> 1965\u001b[0;31m         \u001b[0;32mreturn\u001b[0m \u001b[0mself\u001b[0m\u001b[0;34m.\u001b[0m\u001b[0m_get_label\u001b[0m\u001b[0;34m(\u001b[0m\u001b[0mkey\u001b[0m\u001b[0;34m,\u001b[0m \u001b[0maxis\u001b[0m\u001b[0;34m=\u001b[0m\u001b[0maxis\u001b[0m\u001b[0;34m)\u001b[0m\u001b[0;34m\u001b[0m\u001b[0;34m\u001b[0m\u001b[0m\n\u001b[0m\u001b[1;32m   1966\u001b[0m \u001b[0;34m\u001b[0m\u001b[0m\n\u001b[1;32m   1967\u001b[0m \u001b[0;34m\u001b[0m\u001b[0m\n",
      "\u001b[0;32m/data/weismanal/miniconda3/envs/myenv/lib/python3.7/site-packages/pandas/core/indexing.py\u001b[0m in \u001b[0;36m_get_label\u001b[0;34m(self, label, axis)\u001b[0m\n\u001b[1;32m    623\u001b[0m             \u001b[0;32mraise\u001b[0m \u001b[0mIndexingError\u001b[0m\u001b[0;34m(\u001b[0m\u001b[0;34m\"no slices here, handle elsewhere\"\u001b[0m\u001b[0;34m)\u001b[0m\u001b[0;34m\u001b[0m\u001b[0;34m\u001b[0m\u001b[0m\n\u001b[1;32m    624\u001b[0m \u001b[0;34m\u001b[0m\u001b[0m\n\u001b[0;32m--> 625\u001b[0;31m         \u001b[0;32mreturn\u001b[0m \u001b[0mself\u001b[0m\u001b[0;34m.\u001b[0m\u001b[0mobj\u001b[0m\u001b[0;34m.\u001b[0m\u001b[0m_xs\u001b[0m\u001b[0;34m(\u001b[0m\u001b[0mlabel\u001b[0m\u001b[0;34m,\u001b[0m \u001b[0maxis\u001b[0m\u001b[0;34m=\u001b[0m\u001b[0maxis\u001b[0m\u001b[0;34m)\u001b[0m\u001b[0;34m\u001b[0m\u001b[0;34m\u001b[0m\u001b[0m\n\u001b[0m\u001b[1;32m    626\u001b[0m \u001b[0;34m\u001b[0m\u001b[0m\n\u001b[1;32m    627\u001b[0m     \u001b[0;32mdef\u001b[0m \u001b[0m_get_loc\u001b[0m\u001b[0;34m(\u001b[0m\u001b[0mself\u001b[0m\u001b[0;34m,\u001b[0m \u001b[0mkey\u001b[0m\u001b[0;34m:\u001b[0m \u001b[0mint\u001b[0m\u001b[0;34m,\u001b[0m \u001b[0maxis\u001b[0m\u001b[0;34m:\u001b[0m \u001b[0mint\u001b[0m\u001b[0;34m)\u001b[0m\u001b[0;34m:\u001b[0m\u001b[0;34m\u001b[0m\u001b[0;34m\u001b[0m\u001b[0m\n",
      "\u001b[0;32m/data/weismanal/miniconda3/envs/myenv/lib/python3.7/site-packages/pandas/core/generic.py\u001b[0m in \u001b[0;36mxs\u001b[0;34m(self, key, axis, level, drop_level)\u001b[0m\n\u001b[1;32m   3535\u001b[0m             \u001b[0mloc\u001b[0m\u001b[0;34m,\u001b[0m \u001b[0mnew_index\u001b[0m \u001b[0;34m=\u001b[0m \u001b[0mself\u001b[0m\u001b[0;34m.\u001b[0m\u001b[0mindex\u001b[0m\u001b[0;34m.\u001b[0m\u001b[0mget_loc_level\u001b[0m\u001b[0;34m(\u001b[0m\u001b[0mkey\u001b[0m\u001b[0;34m,\u001b[0m \u001b[0mdrop_level\u001b[0m\u001b[0;34m=\u001b[0m\u001b[0mdrop_level\u001b[0m\u001b[0;34m)\u001b[0m\u001b[0;34m\u001b[0m\u001b[0;34m\u001b[0m\u001b[0m\n\u001b[1;32m   3536\u001b[0m         \u001b[0;32melse\u001b[0m\u001b[0;34m:\u001b[0m\u001b[0;34m\u001b[0m\u001b[0;34m\u001b[0m\u001b[0m\n\u001b[0;32m-> 3537\u001b[0;31m             \u001b[0mloc\u001b[0m \u001b[0;34m=\u001b[0m \u001b[0mself\u001b[0m\u001b[0;34m.\u001b[0m\u001b[0mindex\u001b[0m\u001b[0;34m.\u001b[0m\u001b[0mget_loc\u001b[0m\u001b[0;34m(\u001b[0m\u001b[0mkey\u001b[0m\u001b[0;34m)\u001b[0m\u001b[0;34m\u001b[0m\u001b[0;34m\u001b[0m\u001b[0m\n\u001b[0m\u001b[1;32m   3538\u001b[0m \u001b[0;34m\u001b[0m\u001b[0m\n\u001b[1;32m   3539\u001b[0m             \u001b[0;32mif\u001b[0m \u001b[0misinstance\u001b[0m\u001b[0;34m(\u001b[0m\u001b[0mloc\u001b[0m\u001b[0;34m,\u001b[0m \u001b[0mnp\u001b[0m\u001b[0;34m.\u001b[0m\u001b[0mndarray\u001b[0m\u001b[0;34m)\u001b[0m\u001b[0;34m:\u001b[0m\u001b[0;34m\u001b[0m\u001b[0;34m\u001b[0m\u001b[0m\n",
      "\u001b[0;32m/data/weismanal/miniconda3/envs/myenv/lib/python3.7/site-packages/pandas/core/indexes/range.py\u001b[0m in \u001b[0;36mget_loc\u001b[0;34m(self, key, method, tolerance)\u001b[0m\n\u001b[1;32m    351\u001b[0m             \u001b[0;32mexcept\u001b[0m \u001b[0mValueError\u001b[0m\u001b[0;34m:\u001b[0m\u001b[0;34m\u001b[0m\u001b[0;34m\u001b[0m\u001b[0m\n\u001b[1;32m    352\u001b[0m                 \u001b[0;32mraise\u001b[0m \u001b[0mKeyError\u001b[0m\u001b[0;34m(\u001b[0m\u001b[0mkey\u001b[0m\u001b[0;34m)\u001b[0m\u001b[0;34m\u001b[0m\u001b[0;34m\u001b[0m\u001b[0m\n\u001b[0;32m--> 353\u001b[0;31m         \u001b[0;32mreturn\u001b[0m \u001b[0msuper\u001b[0m\u001b[0;34m(\u001b[0m\u001b[0;34m)\u001b[0m\u001b[0;34m.\u001b[0m\u001b[0mget_loc\u001b[0m\u001b[0;34m(\u001b[0m\u001b[0mkey\u001b[0m\u001b[0;34m,\u001b[0m \u001b[0mmethod\u001b[0m\u001b[0;34m=\u001b[0m\u001b[0mmethod\u001b[0m\u001b[0;34m,\u001b[0m \u001b[0mtolerance\u001b[0m\u001b[0;34m=\u001b[0m\u001b[0mtolerance\u001b[0m\u001b[0;34m)\u001b[0m\u001b[0;34m\u001b[0m\u001b[0;34m\u001b[0m\u001b[0m\n\u001b[0m\u001b[1;32m    354\u001b[0m \u001b[0;34m\u001b[0m\u001b[0m\n\u001b[1;32m    355\u001b[0m     \u001b[0;34m@\u001b[0m\u001b[0mAppender\u001b[0m\u001b[0;34m(\u001b[0m\u001b[0m_index_shared_docs\u001b[0m\u001b[0;34m[\u001b[0m\u001b[0;34m\"get_indexer\"\u001b[0m\u001b[0;34m]\u001b[0m\u001b[0;34m)\u001b[0m\u001b[0;34m\u001b[0m\u001b[0;34m\u001b[0m\u001b[0m\n",
      "\u001b[0;32m/data/weismanal/miniconda3/envs/myenv/lib/python3.7/site-packages/pandas/core/indexes/base.py\u001b[0m in \u001b[0;36mget_loc\u001b[0;34m(self, key, method, tolerance)\u001b[0m\n\u001b[1;32m   2646\u001b[0m                 \u001b[0;32mreturn\u001b[0m \u001b[0mself\u001b[0m\u001b[0;34m.\u001b[0m\u001b[0m_engine\u001b[0m\u001b[0;34m.\u001b[0m\u001b[0mget_loc\u001b[0m\u001b[0;34m(\u001b[0m\u001b[0mkey\u001b[0m\u001b[0;34m)\u001b[0m\u001b[0;34m\u001b[0m\u001b[0;34m\u001b[0m\u001b[0m\n\u001b[1;32m   2647\u001b[0m             \u001b[0;32mexcept\u001b[0m \u001b[0mKeyError\u001b[0m\u001b[0;34m:\u001b[0m\u001b[0;34m\u001b[0m\u001b[0;34m\u001b[0m\u001b[0m\n\u001b[0;32m-> 2648\u001b[0;31m                 \u001b[0;32mreturn\u001b[0m \u001b[0mself\u001b[0m\u001b[0;34m.\u001b[0m\u001b[0m_engine\u001b[0m\u001b[0;34m.\u001b[0m\u001b[0mget_loc\u001b[0m\u001b[0;34m(\u001b[0m\u001b[0mself\u001b[0m\u001b[0;34m.\u001b[0m\u001b[0m_maybe_cast_indexer\u001b[0m\u001b[0;34m(\u001b[0m\u001b[0mkey\u001b[0m\u001b[0;34m)\u001b[0m\u001b[0;34m)\u001b[0m\u001b[0;34m\u001b[0m\u001b[0;34m\u001b[0m\u001b[0m\n\u001b[0m\u001b[1;32m   2649\u001b[0m         \u001b[0mindexer\u001b[0m \u001b[0;34m=\u001b[0m \u001b[0mself\u001b[0m\u001b[0;34m.\u001b[0m\u001b[0mget_indexer\u001b[0m\u001b[0;34m(\u001b[0m\u001b[0;34m[\u001b[0m\u001b[0mkey\u001b[0m\u001b[0;34m]\u001b[0m\u001b[0;34m,\u001b[0m \u001b[0mmethod\u001b[0m\u001b[0;34m=\u001b[0m\u001b[0mmethod\u001b[0m\u001b[0;34m,\u001b[0m \u001b[0mtolerance\u001b[0m\u001b[0;34m=\u001b[0m\u001b[0mtolerance\u001b[0m\u001b[0;34m)\u001b[0m\u001b[0;34m\u001b[0m\u001b[0;34m\u001b[0m\u001b[0m\n\u001b[1;32m   2650\u001b[0m         \u001b[0;32mif\u001b[0m \u001b[0mindexer\u001b[0m\u001b[0;34m.\u001b[0m\u001b[0mndim\u001b[0m \u001b[0;34m>\u001b[0m \u001b[0;36m1\u001b[0m \u001b[0;32mor\u001b[0m \u001b[0mindexer\u001b[0m\u001b[0;34m.\u001b[0m\u001b[0msize\u001b[0m \u001b[0;34m>\u001b[0m \u001b[0;36m1\u001b[0m\u001b[0;34m:\u001b[0m\u001b[0;34m\u001b[0m\u001b[0;34m\u001b[0m\u001b[0m\n",
      "\u001b[0;32mpandas/_libs/index.pyx\u001b[0m in \u001b[0;36mpandas._libs.index.IndexEngine.get_loc\u001b[0;34m()\u001b[0m\n",
      "\u001b[0;32mpandas/_libs/index.pyx\u001b[0m in \u001b[0;36mpandas._libs.index.IndexEngine.get_loc\u001b[0;34m()\u001b[0m\n",
      "\u001b[0;32mpandas/_libs/index_class_helper.pxi\u001b[0m in \u001b[0;36mpandas._libs.index.Int64Engine._check_type\u001b[0;34m()\u001b[0m\n",
      "\u001b[0;31mKeyError\u001b[0m: 'AC009161.1'"
     ]
    }
   ],
   "source": [
    "import numpy as np\n",
    "#np.sum(lookup['id'] == '')\n",
    "#np.sum(pd.isnull(lookup.loc[:,'id']))\n",
    "lookup.loc['AC009161.1']"
   ]
  },
  {
   "cell_type": "code",
   "execution_count": 3,
   "metadata": {},
   "outputs": [
    {
     "output_type": "stream",
     "name": "stdout",
     "text": "2948\n"
    },
    {
     "output_type": "execute_result",
     "data": {
      "text/plain": "05'],\n ['AC009474.2', 'ENSG00000230355'],\n ['AC013410.2', 'ENSG00000237617'],\n ['AC009161.1', 'ENSG00000237901'],\n ['AC011379.1', 'ENSG00000250069'],\n ['AC016727.1', 'ENSG00000270820'],\n ['AC012564.1', 'ENSG00000283157'],\n ['AC012314.7', 'ENSG00000274905'],\n ['AC009492.1', 'ENSG00000278004'],\n ['AC011551.1', 'ENSG00000278797'],\n ['AC008565.1', 'ENSG00000251135'],\n ['AC009065.2', 'ENSG00000259780'],\n ['AC011453.1', 'ENSG00000269842'],\n ['AC013268.5', 'ENSG00000283684'],\n ['AC012462.3', 'ENSG00000230695'],\n ['AC009800.1', 'ENSG00000248911'],\n ['AC007948.1', 'ENSG00000263863'],\n ['AC010970.1', 'ENSG00000225840'],\n ['AC010376.1', 'ENSG00000253801'],\n ['AC008132.1', 'ENSG00000161103'],\n ['AC015871.1', 'ENSG00000259770'],\n ['AC008746.5', 'ENSG00000276551'],\n ['AC008410.1', 'ENSG00000253261'],\n ['AC008734.1', 'ENSG00000269300'],\n ['AC009478.1', 'ENSG00000225258'],\n ['AC015987.1', 'ENSG00000224746'],\n ['AC008674.1', 'ENSG00000287003'],\n ['AC016734.1', 'ENSG00000228305'],\n ['AC011752.1', 'ENSG00000231204'],\n ['AC013406.1', 'ENSG00000207161'],\n ['AC015804.1', 'ENSG00000279600'],\n ['AC011478.1', 'ENSG00000267760'],\n ['AC011477.1', 'ENSG00000267481'],\n ['AC010536.2', 'ENSG00000260671'],\n ['AC010504.2', 'ENSG00000282746'],\n ['AC010754.1', 'ENSG00000265752'],\n ['AC015849.12', 'ENSG00000282202'],\n ['AC012603.1', 'ENSG00000271849'],\n ['AC008171.1', 'ENSG00000223890'],\n ['AC016745.2', 'ENSG00000272563'],\n ['AC010297.1', 'ENSG00000280139'],\n ['AC010096.1', 'ENSG00000234597'],\n ['AC007773.1', 'ENSG00000267213'],\n ['AC013477.1', 'ENSG00000201786'],\n ['AC011306.1', 'ENSG00000272180'],\n ['AC007950.1', 'ENSG00000259268'],\n ['AC009779.1', 'ENSG00000257384'],\n ['AC009313.2', 'ENSG00000232337'],\n ['AC007568.1', 'ENSG00000224136'],\n ['AC011407.1', 'ENSG00000287814'],\n ['AC015849.13', 'ENSG00000282384'],\n ['AC016727.3', 'ENSG00000285857'],\n ['AC010967.3', 'ENSG00000232668'],\n ['AC008537.2', 'ENSG00000269843'],\n ['AC008397.1', 'ENSG00000284797'],\n ['AC007956.1', 'ENSG00000222604'],\n ['AC007967.3', 'ENSG00000230025'],\n ['AC007631.1', 'ENSG00000264131'],\n ['AC012314.9', 'ENSG00000276206'],\n ['AC016582.2', 'ENSG00000267422'],\n ['AC009987.1', 'ENSG00000231138'],\n ['AC010745.4', 'ENSG00000232444'],\n ['AC010468.1', 'ENSG00000249318'],\n ['AC010976.2', 'ENSG00000272789'],\n ['AC009237.8', 'ENSG00000236431'],\n ['AC011193.1', 'ENSG00000225582'],\n ['AC008463.1', 'ENSG00000274106'],\n ['AC008281.1', 'ENSG00000286199'],\n ['AC010982.2', 'ENSG00000235242'],\n ['AC008175.1', 'ENSG00000235059'],\n ['AC012485.2', 'ENSG00000232306'],\n ['AC008747.1', 'ENSG00000267024'],\n ['AC010196.1', 'ENSG00000258185'],\n ['AC012507.3', 'ENSG00000283164'],\n ['AC013448.2', 'ENSG00000235610'],\n ['AC010336.1', 'ENSG00000214248'],\n ['AC012593.1', 'ENSG00000226994'],\n ['AC008280.1', 'ENSG00000241114'],\n ['AC013442.1', 'ENSG00000288535'],\n ['AC010329.1', 'ENSG00000268416'],\n ['AC009410.1', 'ENSG00000286772'],\n ['AC012150.1', 'ENSG00000257258'],\n ['AC012306.2', 'ENSG00000272667'],\n ['AC010761.6', 'ENSG00000267729'],\n ['AC011499.1', 'ENSG00000267157'],\n ['AC011526.1', 'ENSG00000277136'],\n ['AC013268.2', 'ENSG00000229730'],\n ['AC008147.2', 'ENSG00000257298'],\n ['AC012066.1', 'ENSG00000213197'],\n ['AC012613.2', 'ENSG00000253406'],\n ['AC011410.1', 'ENSG00000253110'],\n ['AC008155.1', 'ENSG00000213238'],\n ['AC016710.1', 'ENSG00000206901'],\n ['AC012050.1', 'ENSG00000259588'],\n ['AC015923.1', 'ENSG00000233635'],\n ['AC011626.1', 'ENSG00000271219'],\n ['AC010468.2', 'ENSG00000250728'],\n ['AC009065.3', 'ENSG00000259933'],\n ['AC011298.2', 'ENSG00000274977'],\n ['AC011933.2', 'ENSG00000264853'],\n ['AC009159.1', 'ENSG00000275040'],\n ['AC009997.1', 'ENSG00000259369'],\n ['AC012462.2', 'ENSG00000228618'],\n ['AC008752.3', 'ENSG00000267289'],\n ['AC008686.1', 'ENSG00000267633'],\n ['AC011497.1', 'ENSG00000268605'],\n ['AC009365.3', 'ENSG00000225881'],\n ['AC008869.1', 'ENSG00000250032'],\n ['AC009227.2', 'ENSG00000238004'],\n ['AC009237.6', 'ENSG00000235959'],\n ['AC011467.2', 'ENSG00000268589'],\n ['AC009081.1', 'ENSG00000261310'],\n ['AC012314.12', 'ENSG00000276421'],\n ['AC013268.3', 'ENSG00000235721'],\n ['AC007731.1', 'ENSG00000201916'],\n ['AC009970.1', 'ENSG00000233953'],\n ['AC013460.1', 'ENSG00000229727'],\n ['AC008391.1', 'ENSG00000285997'],\n ['AC012671.1', 'ENSG00000283262'],\n ['AC008277.1', 'ENSG00000223642'],\n ['AC011995.1', 'ENSG00000228391'],\n ['AC007731.2', 'ENSG00000215493'],\n ['AC016739.1', 'ENSG00000218175'],\n ['AC010203.1', 'ENSG00000257489'],\n ['AC011998.1', 'ENSG00000227241'],\n ['AC012005.2', 'ENSG00000284071'],\n ['AC010745.3', 'ENSG00000231266'],\n ['AC016696.1', 'ENSG00000278764'],\n ['AC008780.1', 'ENSG00000249436'],\n ['AC016405.1', 'ENSG00000253372'],\n ['AC009951.1', 'ENSG00000273537'],\n ['AC010928.1', 'ENSG00000267382'],\n ['AC010980.2', 'ENSG00000267034'],\n ['AC010525.2', 'ENSG00000267689'],\n ['AC015971.1', 'ENSG00000228363'],\n ['AC008984.5', 'ENSG00000278402'],\n ['AC013275.1', 'ENSG00000231013'],\n ['AC009303.3', 'ENSG00000272895'],\n ['AC009892.2', 'ENSG00000276983'],\n ['AC007682.1', 'ENSG00000286412'],\n ['AC016644.1', 'ENSG00000235635'],\n ['AC012354.8', 'ENSG00000277809'],\n ['AC009121.1', 'ENSG00000199668'],\n ['AC009411.1', 'ENSG00000228538'],\n ['AC011322.1', 'ENSG00000286017'],\n ['AC012370.2', 'ENSG00000234255'],\n ['AC012445.1', 'ENSG00000229550'],\n ['AC016251.1', 'ENSG00000280291'],\n ['AC016629.2', 'ENSG00000269600'],\n ['AC007620.3', 'ENSG00000272699'],\n ['AC013410.1', 'ENSG00000237016'],\n ['AC009403.2', 'ENSG00000283128'],\n ['AC010880.1', 'ENSG00000224400'],\n ['AC008834.1', 'ENSG00000249101'],\n ['AC015871.2', 'ENSG00000271364'],\n ['AC007967.2', 'ENSG00000228207'],\n ['AC008992.1', 'ENSG00000267636'],\n ['AC009166.3', 'ENSG00000287718'],\n ['AC013268.1', 'ENSG00000186148'],\n ['AC012354.6', 'ENSG00000276670'],\n ['AC008581.1', 'ENSG00000250615'],\n ['AC015849.14', 'ENSG00000282498'],\n ['AC015849.2', 'ENSG00000270829'],\n ['AC009237.4', 'ENSG00000230083'],\n ['AC009237.2', 'ENSG00000224719'],\n ['AC007879.2', 'ENSG00000225916'],\n ['AC009950.2', 'ENSG00000283451'],\n ['AC008938.1', 'ENSG00000260072'],\n ['AC007663.1', 'ENSG00000161132'],\n ['AC007679.4', 'ENSG00000283129'],\n ['AC008278.2', 'ENSG00000234022'],\n ['AC011443.1', 'ENSG00000269172'],\n ['AC010904.1', 'ENSG00000213774'],\n ['AC008984.2', 'ENSG00000275893'],\n ['AC016722.1', 'ENSG00000226548'],\n ['AC011718.1', 'ENSG00000276874'],\n ['AC010975.1', 'ENSG00000277171'],\n ['AC007952.1', 'ENSG00000197665'],\n ['AC015688.3', 'ENSG00000265041'],\n ['AC009110.1', 'ENSG00000231589'],\n ['AC012313.1', 'ENSG00000232098'],\n ['AC009303.1', 'ENSG00000224967'],\n ['AC010999.1', 'ENSG00000275343'],\n ['AC007881.2', 'ENSG00000236469'],\n ['AC010967.1', 'ENSG00000228033'],\n ['AC016735.1', 'ENSG00000224739'],\n ['AC009236.2', 'ENSG00000286728'],\n ['AC012119.1', 'ENSG00000207027'],\n ['AC009506.2', 'ENSG00000224152'],\n ['AC013402.2', 'ENSG00000231626'],\n ['AC010642.1', 'ENSG00000269794'],\n ['AC007787.2', 'ENSG00000279044'],\n ['AC009965.1', 'ENSG00000234714'],\n ['AC009506.1', 'ENSG00000207117'],\n ['AC008694.2', 'ENSG00000254336'],\n ['AC007879.3', 'ENSG00000234902'],\n ['AC012314.11', 'ENSG00000276287'],\n ['AC013727.1', 'ENSG00000232597'],\n ['AC007879.5', 'ENSG00000286568'],\n ['AC011841.2', 'ENSG00000276932'],\n ['AC010983.1', 'ENSG00000235056'],\n ['AC009336.1', 'ENSG00000272729'],\n ['AC007919.1', 'ENSG00000224611'],\n ['AC009299.1', 'ENSG00000225813'],\n ['AC012075.1', 'ENSG00000231722'],\n ['AC011524.1', 'ENSG00000267027'],\n ['AC010525.1', 'ENSG00000267117'],\n ['AC010141.1', 'ENSG00000228257'],\n ['AC007880.1', 'ENSG00000199964'],\n ['AC011450.1', 'ENSG00000197813'],\n ['AC016716.1', 'ENSG00000224731'],\n ['AC009236.1', 'ENSG00000286519'],\n ['AC011233.2', 'ENSG00000286170'],\n ['AC013401.2', 'ENSG00000278406'],\n ['AC009969.1', 'ENSG00000234932'],\n ['AC008752.1', 'ENSG00000200237'],\n ['AC008940.1', 'ENSG00000228650'],\n ['AC011994.1', 'ENSG00000285626'],\n ['AC007743.1', 'ENSG00000233251'],\n ['AC009542.2', 'ENSG00000276067'],\n ['AC011467.1', 'ENSG00000260599'],\n ['AC016575.1', 'ENSG00000272057'],\n ['AC013269.3', 'ENSG00000274711'],\n ['AC010207.1', 'ENSG00000260633'],\n ['AC010319.1', 'ENSG00000254503'],\n ['AC011625.1', 'ENSG00000223436'],\n ['AC009237.14', 'ENSG00000272913'],\n ['AC011484.1', 'ENSG00000204850'],\n ['AC013468.1', 'ENSG00000273240'],\n ['AC009950.1', 'ENSG00000225963'],\n ['AC012506.4', 'ENSG00000235497'],\n ['AC012379.1', 'ENSG00000259670'],\n ['AC012314.3', 'ENSG00000274144'],\n ['AC011416.1', 'ENSG00000250080'],\n ['AC010731.3', 'ENSG00000231653'],\n ['AC007795.1', 'ENSG00000267617'],\n ['AC010323.1', 'ENSG00000167774'],\n ['AC010422.1', 'ENSG00000230310'],\n ['AC012181.1', 'ENSG00000261114'],\n ['AC016717.1', 'ENSG00000228206'],\n ['AC009035.1', 'ENSG00000260580'],\n ['AC009237.10', 'ENSG00000237308'],\n ['AC009237.11', 'ENSG00000238162'],\n ['AC010894.4', 'ENSG00000237798'],\n ['AC010894.5', 'ENSG00000279884'],\n ['AC011500.1', 'ENSG00000269188'],\n ['AC012668.2', 'ENSG00000234938'],\n ['AC010170.1', 'ENSG00000202268'],\n ['AC012087.2', 'ENSG00000272554'],\n ['AC010528.1', 'ENSG00000260983'],\n ['AC009120.5', 'ENSG00000275236'],\n ['AC012317.1', 'ENSG00000261583'],\n ['AC008738.2', 'ENSG00000267130'],\n ['AC010546.1', 'ENSG00000260332'],\n ['AC007966.1', 'ENSG00000212581'],\n ['AC009947.2', 'ENSG00000236647'],\n ['AC009784.1', 'ENSG00000236503'],\n ['AC007842.2', 'ENSG00000281233'],\n ['AC010092.1', 'ENSG00000286115'],\n ['AC011313.1', 'ENSG00000257642'],\n ['AC008537.1', 'ENSG00000268797'],\n ['AC009892.1', 'ENSG00000275440'],\n ['AC008060.5', 'ENSG00000288051'],\n ['AC016553.1', 'ENSG00000248145'],\n ['AC009312.1', 'ENSG00000238207'],\n ['AC013759.1', 'ENSG00000262892'],\n ['AC009113.1', 'ENSG00000259877'],\n ['AC011997.1', 'ENSG00000222017'],\n ['AC009495.3', 'ENSG00000235192'],\n ['AC010907.2', 'ENSG00000237370'],\n ['AC013727.2', 'ENSG00000236141'],\n ['AC009878.2', 'ENSG00000287280'],\n ['AC010641.1', 'ENSG00000267443'],\n ['AC007967.4', 'ENSG00000273731'],\n ['AC012123.1', 'ENSG00000228835'],\n ['AC010884.1', 'ENSG00000287135'],\n ['AC012314.1', 'ENSG00000273655'],\n ['AC009237.9', 'ENSG00000236750'],\n ['AC013448.1', 'ENSG00000231189'],\n ['AC012451.1', 'ENSG00000237532'],\n ['AC009961.2', 'ENSG00000227055'],\n ['AC009041.1', 'ENSG00000260496'],\n ['AC011225.1', 'ENSG00000225253'],\n ['AC012668.3', 'ENSG00000237525'],\n ['AC011897.1', 'ENSG00000228505'],\n ['AC013476.1', 'ENSG00000278083'],\n ['AC012462.1', 'ENSG00000225166'],\n ['AC008687.1', 'ENSG00000267335'],\n ['AC009518.2', 'ENSG00000236386'],\n ['AC011816.1', 'ENSG00000234073'],\n ['AC010620.1', 'ENSG00000268892'],\n ['AC012501.2', 'ENSG00000227400'],\n ['AC010969.1', 'ENSG00000188525'],\n ['AC016730.1', 'ENSG00000227718'],\n ['AC009142.1', 'ENSG00000261410'],\n ['AC008069.1', 'ENSG00000224604'],\n ['AC010325.1', 'ENSG00000261341'],\n ['AC012615.1', 'ENSG00000261526'],\n ['AC010536.1', 'ENSG00000226180'],\n ['AC013401.1', 'ENSG00000232227'],\n ['AC011363.1', 'ENSG00000254391'],\n ['AC012358.4', 'ENSG00000240401'],\n ['AC012175.1', 'ENSG00000270440'],\n ['AC016586.1', 'ENSG00000268670'],\n ['AC009965.2', 'ENSG00000235951'],\n ['AC009313.1', 'ENSG00000224467'],\n ['AC012414.1', 'ENSG00000259214'],\n ['AC010982.1', 'ENSG00000212182'],\n ['AC009411.2', 'ENSG00000235537'],\n ['AC009961.3', 'ENSG00000287091'],\n ['AC007879.4', 'ENSG00000240440'],\n ['AC007881.4', 'ENSG00000288065'],\n ['AC013404.1', 'ENSG00000231017'],\n ['AC011243.1', 'ENSG00000223430'],\n ['AC009228.1', 'ENSG00000242628'],\n ['AC009951.2', 'ENSG00000275372'],\n ['AC012314.8', 'ENSG00000275117'],\n ['AC011239.1', 'ENSG00000224361'],\n ['AC009158.1', 'ENSG00000231876'],\n ['AC007881.1', 'ENSG00000233870'],\n ['AC010492.2', 'ENSG00000275299'],\n ['AC011591.1', 'ENSG00000267250'],\n ['AC007690.1', 'ENSG00000233565'],\n ['AC015726.1', 'ENSG00000270091'],\n ['AC012314.13', 'ENSG00000277154'],\n ['AC008752.2', 'ENSG00000266950'],\n ['AC008555.1', 'ENSG00000261754'],\n ['AC016745.1', 'ENSG00000234997'],\n ['AC012668.1', 'ENSG00000227981'],\n ['AC008592.4', 'ENSG00000272021'],\n ['AC016682.1', 'ENSG00000286081'],\n ['AC010247.1', 'ENSG00000254887'],\n ['AC010872.2', 'ENSG00000287956'],\n ['AC011525.2', 'ENSG00000267465'],\n ['AC012494.1', 'ENSG00000227088'],\n ['AC007611.1', 'ENSG00000260086'],\n ['AC008625.1', 'ENSG00000287695'],\n ['AC007952.6', 'ENSG00000262319'],\n ['AC010336.2', 'ENSG00000260500'],\n ['AC010614.1', 'ENSG00000262113'],\n ['AC008394.1', 'ENSG00000288569'],\n ['AC009835.1', 'ENSG00000287994'],\n ['AC008746.3', 'ENSG00000275137'],\n ['AC009264.1', 'ENSG00000234352'],\n ['AC061975.3', 'ENSG00000264029'],\n ['AC068137.2', 'ENSG00000284171'],\n ['AC073135.3', 'ENSG00000267639'],\n ['AC026495.1', 'ENSG00000258654'],\n ['AC068533.1', 'ENSG00000205596'],\n ['AC027807.1', 'ENSG00000259609'],\n ['AC018880.2', 'ENSG00000231723'],\n ['AC018685.1', 'ENSG00000227364'],\n ['AC068535.2', 'ENSG00000287793'],\n ['AC078785.1', 'ENSG00000240057'],\n ['AC024580.1', 'ENSG00000223060'],\n ['AC062032.1', 'ENSG00000227902'],\n ['AC022762.1', 'ENSG00000254444'],\n ['AC064853.2', 'ENSG00000285843'],\n ['AC021860.1', 'ENSG00000271958'],\n ['AC034236.2', 'ENSG00000271918'],\n ['AC072062.1', 'ENSG00000227769'],\n ['AC027601.1', 'ENSG00000185332'],\n ['AC063979.1', 'ENSG00000206770'],\n ['AC073409.1', 'ENSG00000226708'],\n ['AC034243.1', 'ENSG00000253404'],\n ['AC019205.1', 'ENSG00000229852'],\n ['AC051649.1', 'ENSG00000249086'],\n ['AC027612.2', 'ENSG00000230572'],\n ['AC019129.1', 'ENSG00000219391'],\n ['AC023137.2', 'ENSG00000228950'],\n ['AC018685.2', 'ENSG00000234929'],\n ['AC026271.5', 'ENSG00000287058'],\n ['AC016907.2', 'ENSG00000233862'],\n ['AC017048.2', 'ENSG00000236231'],\n ['AC022498.1', 'ENSG00000234238'],\n ['AC073325.1', 'ENSG00000225537'],\n ['AC079467.1', 'ENSG00000250978'],\n ['AC023469.2', 'ENSG00000228064'],\n ['AC018635.1', 'ENSG00000242261'],\n ['AC078889.1', 'ENSG00000256072'],\n ['AC017048.3', 'ENSG00000272551'],\n ['AC022210.2', 'ENSG00000287625'],\n ['AC079140.1', 'ENSG00000248564'],\n ['AC078993.1', 'ENSG00000238178'],\n ['AC026202.3', 'ENSG00000268509'],\n ['AC069155.1', 'ENSG00000233581'],\n ['AC017083.2', 'ENSG00000273275'],\n ['AC017104.4', 'ENSG00000283312'],\n ['AC074008.1', 'ENSG00000284902'],\n ['AC016894.1', 'ENSG00000234624'],\n ['AC068506.1', 'ENSG00000278464'],\n ['AC073263.1', 'ENSG00000217702'],\n ['AC074290.1', 'ENSG00000224219'],\n ['AC023669.1', 'ENSG00000229459'],\n ['AC079584.2', 'ENSG00000257226'],\n ['AC069243.1', 'ENSG00000286994'],\n ['AC068831.3', 'ENSG00000258542'],\n ['AC053503.6', 'ENSG00000286143'],\n ['AC055876.2', 'ENSG00000254398'],\n ['AC018450.1', 'ENSG00000241679'],\n ['AC078816.1', 'ENSG00000286273'],\n ['AC023824.1', 'ENSG00000260073'],\n ['AC024067.1', 'ENSG00000225876'],\n ['AC037482.1', 'ENSG00000262487'],\n ['AC064872.1', 'ENSG00000270470'],\n ['AC026700.1', 'ENSG00000251066'],\n ['AC067852.1', 'ENSG00000266929'],\n ['AC022182.2', 'ENSG00000254802'],\n ['AC016903.1', 'ENSG00000236634'],\n ['AC027281.1', 'ENSG00000262890'],\n ['AC022021.1', 'ENSG00000222666'],\n ['AC073626.2', 'ENSG00000236580'],\n ['AC055811.2', 'ENSG00000264187'],\n ['AC027763.2', 'ENSG00000263316'],\n ['AC078842.3', 'ENSG00000231114'],\n ['AC062021.1', 'ENSG00000226939'],\n ['AC026904.1', 'ENSG00000253140'],\n ['AC064836.3', 'ENSG00000286223'],\n ['AC020743.2', 'ENSG00000231681'],\n ['AC024937.2', 'ENSG00000231464'],\n ['AC068489.1', 'ENSG00000234446'],\n ['AC074286.1', 'ENSG00000236501'],\n ['AC079610.1', 'ENSG00000270659'],\n ['AC016821.1', 'ENSG00000287306'],\n ['AC024084.1', 'ENSG00000206705'],\n ['AC068135.1', 'ENSG00000224670'],\n ['AC068587.1', 'ENSG00000254581'],\n ['AC073218.1', 'ENSG00000272027'],\n ['AC073465.2', 'ENSG00000236832'],\n ['AC061992.2', 'ENSG00000266970'],\n ['AC023050.1', 'ENSG00000244436'],\n ['AC061975.8', 'ENSG00000287721'],\n ['AC073320.1', 'ENSG00000199516'],\n ['AC018737.1', 'ENSG00000270798'],\n ['AC073387.2', 'ENSG00000271368'],\n ['AC078828.1', 'ENSG00000243296'],\n ['AC026150.2', 'ENSG00000260693'],\n ['AC022182.1', 'ENSG00000254777'],\n ['AC079354.1', 'ENSG00000231903'],\n ['AC024996.1', 'ENSG00000286946'],\n ['AC073082.1', 'ENSG00000279956'],\n ['AC016908.1', 'ENSG00000228225'],\n ['AC019173.1', 'ENSG00000281154'],\n ['AC016747.3', 'ENSG00000273302'],\n ['AC018607.1', 'ENSG00000254325'],\n ['AC069213.1', 'ENSG00000223711'],\n ['AC019064.1', 'ENSG00000237320'],\n ['AC073343.2', 'ENSG00000228010'],\n ['AC021818.1', 'ENSG00000259309'],\n ['AC073135.7', 'ENSG00000281617'],\n ['AC063944.1', 'ENSG00000239828'],\n ['AC019117.2', 'ENSG00000236039'],\n ['AC024475.1', 'ENSG00000254653'],\n ['AC078864.1', 'ENSG00000257989'],\n ['AC022872.1', 'ENSG00000261632'],\n ['AC019186.1', 'ENSG00000234584'],\n ['AC073610.1', 'ENSG00000239617'],\n ['AC018755.1', 'ENSG00000267808'],\n ['AC078852.2', 'ENSG00000254094'],\n ['AC068657.2', 'ENSG00000223908'],\n ['AC026956.1', 'ENSG00000259622'],\n ['AC027319.1', 'ENSG00000267484'],\n ['AC025300.1', 'ENSG00000254983'],\n ['AC068643.1', 'ENSG00000257703'],\n ['AC022532.1', 'ENSG00000280401'],\n ['AC026877.1', 'ENSG00000240809'],\n ['AC018712.2', 'ENSG00000239041'],\n ['AC062028.1', 'ENSG00000145063'],\n ['AC027612.1', 'ENSG00000223703'],\n ['AC073551.1', 'ENSG00000235548'],\n ['AC018692.1', 'ENSG00000252199'],\n ['AC020907.2', 'ENSG00000221857'],\n ['AC079466.1', 'ENSG00000266976'],\n ['AC073869.7', 'ENSG00000284706'],\n ['AC017002.4', 'ENSG00000285016'],\n ['AC068279.1', 'ENSG00000224881'],\n ['AC018618.1', 'ENSG00000259675'],\n ['AC068286.1', 'ENSG00000235127'],\n ['AC074051.1', 'ENSG00000260431'],\n ['AC025458.1', 'ENSG00000249774'],\n ['AC073316.1', 'ENSG00000217455'],\n ['AC020934.1', 'ENSG00000267424'],\n ['AC073648.1', 'ENSG00000197468'],\n ['AC068491.1', 'ENSG00000223973'],\n ['AC055764.1', 'ENSG00000234136'],\n ['AC073348.1', 'ENSG00000278894'],\n ['AC073130.1', 'ENSG00000237870'],\n ['AC016831.5', 'ENSG00000271522'],\n ['AC017074.1', 'ENSG00000227359'],\n ['AC046143.2', 'ENSG00000272707'],\n ['AC034229.1', 'ENSG00000249807'],\n ['AC061975.1', 'ENSG00000260777'],\n ['AC023158.1', 'ENSG00000259937'],\n ['AC024560.3', 'ENSG00000273308'],\n ['AC079117.1', 'ENSG00000287025'],\n ['AC024619.2', 'ENSG00000263613'],\n ['AC025284.1', 'ENSG00000260701'],\n ['AC068896.1', 'ENSG00000199466'],\n ['AC019118.2', 'ENSG00000236760'],\n ['AC022819.1', 'ENSG00000259921'],\n ['AC027307.1', 'ENSG00000267092'],\n ['AC064843.1', 'ENSG00000286621'],\n ['AC027811.1', 'ENSG00000287408'],\n ['AC079112.1', 'ENSG00000235968'],\n ['AC062020.1', 'ENSG00000237856'],\n ['AC019330.1', 'ENSG00000225421'],\n ['AC019131.1', 'ENSG00000263923'],\n ['AC068014.1', 'ENSG00000263098'],\n ['AC061975.6', 'ENSG00000266830'],\n ['AC021066.1', 'ENSG00000257830'],\n ['AC062016.1', 'ENSG00000224869'],\n ['AC068057.1', 'ENSG00000207249'],\n ['AC068831.8', 'ENSG00000284946'],\n ['AC078882.1', 'ENSG00000244125'],\n ['AC018804.1', 'ENSG00000227632'],\n ['AC069363.1', 'ENSG00000278781'],\n ['AC018730.1', 'ENSG00000269707'],\n ['AC068580.1', 'ENSG00000229512'],\n ['AC023385.1', 'ENSG00000285675'],\n ['AC034205.1', 'ENSG00000253472'],\n ['AC064871.3', 'ENSG00000224643'],\n ['AC025627.4', 'ENSG00000271900'],\n ['AC061975.5', 'ENSG00000266306'],\n ['AC021660.1', 'ENSG00000240827'],\n ['AC016764.1', 'ENSG00000201584'],\n ['AC017104.2', 'ENSG00000230047'],\n ['AC027612.4', 'ENSG00000271627'],\n ['AC020595.1', 'ENSG00000226681'],\n ['AC018880.1', 'ENSG00000221849'],\n ['AC025165.1', 'ENSG00000224713'],\n ['AC063976.1', 'ENSG00000224015'],\n ['AC079354.2', 'ENSG00000287041'],\n ['AC022558.1', 'ENSG00000259767'],\n ['AC023480.1', 'ENSG00000287720'],\n ['AC067751.1', 'ENSG00000238280'],\n ['AC023590.1', 'ENSG00000225885'],\n ['AC020910.1', 'ENSG00000252230'],\n ['AC025175.1', 'ENSG00000272416'],\n ['AC040162.1', 'ENSG00000261884'],\n ['AC027288.1', 'ENSG00000257474'],\n ['AC020892.1', 'ENSG00000259241'],\n ['AC018359.1', 'ENSG00000227498'],\n ['AC026318.1', 'ENSG00000274420'],\n ['AC067959.1', 'ENSG00000271629'],\n ['AC073987.1', 'ENSG00000229209'],\n ['AC073325.2', 'ENSG00000226999'],\n ['AC034110.1', 'ENSG00000286090'],\n ['AC073508.1', 'ENSG00000224244'],\n ['AC021146.2', 'ENSG00000248547'],\n ['AC026185.1', 'ENSG00000235240'],\n ['AC019055.1', 'ENSG00000235911'],\n ['AC017074.2', 'ENSG00000233479'],\n ['AC078899.2', 'ENSG00000268461'],\n ['AC078852.1', 'ENSG00000253399'],\n ['AC068138.1', 'ENSG00000230621'],\n ['AC062016.2', 'ENSG00000235871'],\n ...]"
     },
     "metadata": {},
     "execution_count": 3
    }
   ],
   "source": [
    "print(len(res))\n",
    "res"
   ]
  },
  {
   "cell_type": "code",
   "execution_count": 30,
   "metadata": {
    "tags": [
     "outputPrepend",
     "outputPrepend",
     "outputPrepend",
     "outputPrepend",
     "outputPrepend",
     "outputPrepend",
     "outputPrepend",
     "outputPrepend",
     "outputPrepend",
     "outputPrepend"
    ]
   },
   "outputs": [
    {
     "output_type": "stream",
     "name": "stdout",
     "text": "20\n['AC002310.11', 'AC002310.12', 'AC002310.13', 'AC002310.17', 'AC002310.7', 'AC002314.2', 'AC002314.4', 'AC002321.1', 'AC002321.2', 'AC002331.1', 'AC002365.1', 'AC002366.3', 'AC002368.4', 'AC002383.2', 'AC002386.1', 'AC002395.1', 'AC002398.11', 'AC002398.12', 'AC002398.13', 'AC002398.5']\n"
    }
   ],
   "source": [
    "datadir = os.path.join(project_dir, 'data')\n",
    "max_post_size = 20\n",
    "max_iter = 5\n",
    "iter = 0\n",
    "lookup_list = []\n",
    "with open(os.path.join(datadir, 'to_lookup.txt'), 'r') as f:\n",
    "    iname = 0\n",
    "    symbols_list = []\n",
    "    for name in f:\n",
    "        iname = iname + 1\n",
    "        symbols_list.append(name.rstrip())\n",
    "        if iname == max_post_size:\n",
    "            res = tc.ensembl_symbol_lookup(symbols_list)\n",
    "            for key in res.keys():\n",
    "                lookup_list.append([key, res.get(key).get('id')])\n",
    "            iter = iter + 1\n",
    "            if iter == max_iter:\n",
    "                break\n",
    "            iname = 0\n",
    "            symbols_list = []\n",
    "\n",
    "if iname != max_post_size:\n",
    "    res = tc.ensembl_symbol_lookup(symbols_list)\n",
    "    for key in res.keys():\n",
    "        lookup_list.append([key, res.get(key).get('id')])\n",
    "    iter = iter + 1\n",
    "\n",
    "\n",
    "print(iname)\n",
    "print(symbols_list)\n",
    "#tc.ensembl_symbol_lookup(symbols_list)"
   ]
  },
  {
   "cell_type": "code",
   "execution_count": 32,
   "metadata": {},
   "outputs": [
    {
     "output_type": "execute_result",
     "data": {
      "text/plain": "17"
     },
     "metadata": {},
     "execution_count": 32
    }
   ],
   "source": [
    "len(lookup_list)"
   ]
  },
  {
   "cell_type": "code",
   "execution_count": 6,
   "metadata": {},
   "outputs": [],
   "source": [
    "res = tc.ensembl_symbol_lookup(symbols_list)\n",
    "# # The maximum POST size (and therefore list size) is 1000\n",
    "# if len(symbols_list) > 1000:\n",
    "#     print('ERROR: POST lookup list is too long ({})'.format(len(symbols_list)))\n",
    "#     exit\n",
    "\n",
    "# # Import relevant modules\n",
    "# import requests, sys\n",
    "\n",
    "# # Set some constants\n",
    "# server = \"https://rest.ensembl.org\"\n",
    "# ext = \"/lookup/symbol/homo_sapiens\"\n",
    "# headers={ \"Content-Type\" : \"application/json\", \"Accept\" : \"application/json\"}\n",
    "\n",
    "# # Query the REST server\n",
    "# #r = requests.post(server+ext, headers=headers, data='{ \"symbols\" : [\"BRCA2\", \"BRAF\" ] }')\n",
    "# r = requests.post(server+ext, headers=headers, data=str({'symbols': symbols_list}).replace('\\'','\"'))\n",
    "\n",
    "# # Ensure everything is okay\n",
    "# if not r.ok:\n",
    "#     r.raise_for_status()\n",
    "#     sys.exit()\n",
    "\n",
    "# # Return the result\n",
    "# #return(repr(r.json()))\n",
    "# print(r.json())\n"
   ]
  },
  {
   "cell_type": "code",
   "execution_count": 27,
   "metadata": {},
   "outputs": [
    {
     "output_type": "stream",
     "name": "stdout",
     "text": "[['AC002386.1', 'ENSG00000230941'], ['AC000362.1', 'ENSG00000230820'], ['AC002056.3', 'ENSG00000283252'], ['AC002306.1', 'ENSG00000259242'], ['AC000124.1', 'ENSG00000226770'], ['AC002066.1', 'ENSG00000237813'], ['AC000081.2', 'ENSG00000251940'], ['AC002070.1', 'ENSG00000248636'], ['AC000367.1', 'ENSG00000224981'], ['AC000374.1', 'ENSG00000227249'], ['AC002064.4', 'ENSG00000280440'], ['AC002395.1', 'ENSG00000272215'], ['AC000029.1', 'ENSG00000275635'], ['AC000067.1', 'ENSG00000225007'], ['AC002365.1', 'ENSG00000206844'], ['AC002331.1', 'ENSG00000286712'], ['AC000403.1', 'ENSG00000278727']]\n"
    }
   ],
   "source": [
    "print([ [key, res.get(key).get('id')] for key in res.keys() ])\n",
    "#res.get('AC000124.1')"
   ]
  },
  {
   "cell_type": "code",
   "execution_count": 39,
   "metadata": {},
   "outputs": [
    {
     "output_type": "stream",
     "name": "stdout",
     "text": "{}\n"
    }
   ],
   "source": [
    "# The maximum POST size (and therefore list size) is 1000\n",
    "if len(symbols_list) > 1000:\n",
    "    print('ERROR: POST lookup list is too long ({})'.format(len(symbols_list)))\n",
    "    exit\n",
    "\n",
    "# Import relevant modules\n",
    "import requests, sys\n",
    "\n",
    "# Set some constants\n",
    "server = \"https://rest.ensembl.org\"\n",
    "ext = \"/lookup/symbol/homo_sapiens\"\n",
    "headers={ \"Content-Type\" : \"application/json\", \"Accept\" : \"application/json\"}\n",
    "\n",
    "# Query the REST server\n",
    "#r = requests.post(server+ext, headers=headers, data='{ \"symbols\" : [\"BRCA2\", \"BRAF\" ] }')\n",
    "r = requests.post(server+ext, headers=headers, data=str({'symbols': symbols_list}).replace('\\'','\"'))\n",
    "\n",
    "# Ensure everything is okay\n",
    "if not r.ok:\n",
    "    r.raise_for_status()\n",
    "    sys.exit()\n",
    "\n",
    "# Return the result\n",
    "print(r.json())\n"
   ]
  },
  {
   "cell_type": "code",
   "execution_count": 38,
   "metadata": {},
   "outputs": [
    {
     "output_type": "execute_result",
     "data": {
      "text/plain": "{}"
     },
     "metadata": {},
     "execution_count": 38
    }
   ],
   "source": [
    "#str({'symbols': symbols_list}).replace('\\'','\"')\n",
    "#\n",
    "mystr = '{\"symbols\": [\"1060P11.3\", \"7SK\", \"A2LD1\", \"A3GALT2P\", \"AA06\", \"AACP\", \"AAED1\", \"AARS\", \"AATK-AS1\", \"AB015752.3\"]}'\n",
    "r = requests.post(server+ext, headers=headers, data=mystr)\n",
    "#[ repr(x) for x in r.iter_lines() ]\n",
    "r.json()"
   ]
  },
  {
   "cell_type": "code",
   "execution_count": 4,
   "metadata": {},
   "outputs": [],
   "source": [
    "# The maximum POST size (and therefore list size) is 1000\n",
    "if len(symbols_list) > 1000:\n",
    "    print('ERROR: POST lookup list is too long ({})'.format(len(symbols_list)))\n",
    "    exit\n",
    "\n",
    "# Import relevant modules\n",
    "import requests, sys\n",
    "\n",
    "# Set some constants\n",
    "server = \"https://rest.ensembl.org\"\n",
    "ext = \"/lookup/symbol/homo_sapiens\"\n",
    "headers={ \"Content-Type\" : \"application/json\", \"Accept\" : \"application/json\"}\n",
    "\n",
    "# # Query the REST server\n",
    "# #r = requests.post(server+ext, headers=headers, data='{ \"symbols\" : [\"BRCA2\", \"BRAF\" ] }')\n",
    "r = requests.post(server+ext, headers=headers, data=str({'symbols': symbols_list}))\n",
    "\n",
    "\n",
    "# # Ensure everything is okay\n",
    "# if not r.ok:\n",
    "#     r.raise_for_status()\n",
    "#     sys.exit()\n",
    "\n",
    "# # Return the result\n",
    "# return(repr(r.json()))\n"
   ]
  },
  {
   "cell_type": "code",
   "execution_count": 17,
   "metadata": {},
   "outputs": [],
   "source": [
    "tmp = { 'symbols' : ['BRCA2', 'BRAF' ] }\n",
    "mydata = str(tmp).replace('\\'','\"')\n",
    "r = requests.post(server+ext, data=mydata)"
   ]
  },
  {
   "cell_type": "code",
   "execution_count": 18,
   "metadata": {},
   "outputs": [
    {
     "output_type": "stream",
     "name": "stdout",
     "text": "b'<html><title>EnsEMBL::REST</title><body><pre>--- '\nb'BRAF: '\nb'  assembly_name: GRCh38'\nb'  biotype: protein_coding'\nb'  db_type: core'\nb'  description: B-Raf proto-oncogene, serine/threonine kinase [Source:HGNC Symbol;Acc:HGNC:1097]'\nb'  display_name: BRAF'\nb'  end: 140924928'\nb'  id: ENSG00000157764'\nb'  logic_name: ensembl_havana_gene_homo_sapiens'\nb'  object_type: Gene'\nb'  seq_region_name: 7'\nb'  source: ensembl_havana'\nb'  species: homo_sapiens'\nb'  start: 140719327'\nb'  strand: -1'\nb'  version: 13'\nb'BRCA2: '\nb'  assembly_name: GRCh38'\nb'  biotype: protein_coding'\nb'  db_type: core'\nb'  description: BRCA2 DNA repair associated [Source:HGNC Symbol;Acc:HGNC:1101]'\nb'  display_name: BRCA2'\nb'  end: 32400266'\nb'  id: ENSG00000139618'\nb'  logic_name: ensembl_havana_gene_homo_sapiens'\nb'  object_type: Gene'\nb'  seq_region_name: 13'\nb'  source: ensembl_havana'\nb'  species: homo_sapiens'\nb'  start: 32315086'\nb'  strand: 1'\nb'  version: 15'\nb'</pre></body></html>'\n"
    },
    {
     "output_type": "execute_result",
     "data": {
      "text/plain": "[None,\n None,\n None,\n None,\n None,\n None,\n None,\n None,\n None,\n None,\n None,\n None,\n None,\n None,\n None,\n None,\n None,\n None,\n None,\n None,\n None,\n None,\n None,\n None,\n None,\n None,\n None,\n None,\n None,\n None,\n None,\n None,\n None,\n None]"
     },
     "metadata": {},
     "execution_count": 18
    }
   ],
   "source": [
    "[ print(x) for x in r.iter_lines() ]"
   ]
  },
  {
   "cell_type": "code",
   "execution_count": null,
   "metadata": {},
   "outputs": [],
   "source": []
  },
  {
   "cell_type": "code",
   "execution_count": null,
   "metadata": {},
   "outputs": [],
   "source": []
  }
 ],
 "metadata": {
  "language_info": {
   "codemirror_mode": {
    "name": "ipython",
    "version": 3
   },
   "file_extension": ".py",
   "mimetype": "text/x-python",
   "name": "python",
   "nbconvert_exporter": "python",
   "pygments_lexer": "ipython3",
   "version": "3.7.7-final"
  },
  "orig_nbformat": 2,
  "kernelspec": {
   "name": "python3",
   "display_name": "Python 3"
  }
 },
 "nbformat": 4,
 "nbformat_minor": 2
}